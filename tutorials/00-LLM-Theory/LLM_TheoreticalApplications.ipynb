{
  "nbformat": 4,
  "nbformat_minor": 0,
  "metadata": {
    "colab": {
      "provenance": []
    },
    "kernelspec": {
      "name": "python3",
      "display_name": "Python 3"
    },
    "language_info": {
      "name": "python"
    }
  },
  "cells": [
    {
      "cell_type": "markdown",
      "source": [
        "# Large language models (LLMs): Theoretical applications\n",
        "\n",
        "LLMs are models that have a large number of parameters and are able to process language in various ways such as language generation and translation from one language to another (e.g. French ---> English).\n",
        "\n",
        "These models commonly use the Transformer architecture that was introduced in 2017 in the \"Attention is all you need\" paper. Since then a multitude of LLM architectures have been designed.\n"
      ],
      "metadata": {
        "id": "J1tOS7oWba4s"
      }
    },
    {
      "cell_type": "markdown",
      "source": [
        "![en_chapter1_transformers_chrono.svg](images/en_chapter1_transformers_chrono.svg)"
      ],
      "metadata": {
        "id": "spruqgx1qI06"
      }
    },
    {
      "cell_type": "markdown",
      "source": [
        "Image credit: https://huggingface.co/learn/nlp-course/chapter1/4"
      ],
      "metadata": {
        "id": "D7PCbnnt4STj"
      }
    },
    {
      "cell_type": "markdown",
      "source": [
        "Generally, there are 3 types of LLMs I will discuss here:\n",
        "\n",
        "* Encoder-decoder Transformers\n",
        "* Encoder-only Transformers\n",
        "* Decoder-only Transformers"
      ],
      "metadata": {
        "id": "tqx2azLTiRLz"
      }
    },
    {
      "cell_type": "markdown",
      "source": [
        "## Overview of Transformers\n",
        "\n",
        "We will now introduce the \"vanilla\" Transformer architecture introduced in \"Attention is all you need\". This is an encoder and decoder region with connections in between.\n"
      ],
      "metadata": {
        "id": "XmbDaGypbmRE"
      }
    },
    {
      "cell_type": "markdown",
      "source": [
        "![Transformer_Arch.png](images/Transformer_Arch.png)"
      ],
      "metadata": {
        "id": "zkgYJa2BqTO6"
      }
    },
    {
      "cell_type": "markdown",
      "source": [
        "The encoder/decoder regions are each made of stacked blocks."
      ],
      "metadata": {
        "id": "Yqx8eMl1gCEV"
      }
    },
    {
      "cell_type": "markdown",
      "source": [
        "![Transformer_Enc_Dec_Blocks.png](images/Transformer_Enc_Dec_Blocks.png)"
      ],
      "metadata": {
        "id": "8Ak8G74CqcKU"
      }
    },
    {
      "cell_type": "markdown",
      "source": [
        "Each encoder block consists of a self-attention layer connected to a feed-forward layer.   \n",
        "\n",
        "The decoder block also starts with a self-attention layer which is then connected to an encoder-decoder attention layer and followed by a feed-forward layer.\n",
        "\n",
        "I will go into detail on what \"attention\" means later."
      ],
      "metadata": {
        "id": "Jb2jni7yifdE"
      }
    },
    {
      "cell_type": "markdown",
      "source": [
        "![encode_decode.png](images/encode_decode.png)"
      ],
      "metadata": {
        "id": "syVyMFUdqisF"
      }
    },
    {
      "cell_type": "markdown",
      "source": [
        "### Adding text + tensors into the picture\n",
        "\n",
        "Words are turned into vectors based on their location within a vocabulary.\n",
        "\n",
        "For example with a vocabulary of nine words, each word in the vocabulary can be depicted as a one-hot encoding within this vocab."
      ],
      "metadata": {
        "id": "SPnOYsJHkWc5"
      }
    },
    {
      "cell_type": "markdown",
      "source": [
        "![wordembedding.png](images/wordembedding.png)"
      ],
      "metadata": {
        "id": "KQbOa9Dpqo3y"
      }
    },
    {
      "cell_type": "markdown",
      "source": [
        "Image credit: https://www.shanelynn.ie/get-busy-with-word-embeddings-introduction/"
      ],
      "metadata": {
        "id": "rp7M5Njs4nil"
      }
    },
    {
      "cell_type": "markdown",
      "source": [
        "Once the words are encoded as vectors then each vector streams through the encoding layers as in the following example for the two words \"Thinking\" and \"Machines\".\n",
        "\n",
        "While each word streams through the model by itself, there are connections within the attention layers."
      ],
      "metadata": {
        "id": "6s09HvFhmWyx"
      }
    },
    {
      "cell_type": "markdown",
      "source": [
        "### Positional encoding\n",
        "\n",
        "Positional encoding accounts for the order of the words in the input sequence.\n",
        "\n",
        "The Transformer adds a vector to each input embedding. These vectors follow a specific pattern that the model learns, which helps it determine the position of each word."
      ],
      "metadata": {
        "id": "IFq78-kjbrWp"
      }
    },
    {
      "cell_type": "markdown",
      "source": [
        "![transformer_positional_encoding_vectors.png](images/transformer_positional_encoding_vectors.png)"
      ],
      "metadata": {
        "id": "BIgIWpQlqw_M"
      }
    },
    {
      "cell_type": "markdown",
      "source": [
        "Image credit: https://jalammar.github.io/illustrated-transformer/"
      ],
      "metadata": {
        "id": "Fxj9hs0dBRHl"
      }
    },
    {
      "cell_type": "markdown",
      "source": [
        "![encoder_with_tensors_2.png](images/encoder_with_tensors_2.png)"
      ],
      "metadata": {
        "id": "0CFUZov-q6kc"
      }
    },
    {
      "cell_type": "markdown",
      "source": [
        "Image credit: https://jalammar.github.io/illustrated-transformer/"
      ],
      "metadata": {
        "id": "paegfAF27wCp"
      }
    },
    {
      "cell_type": "markdown",
      "source": [
        "### Self-attention mechanisms\n",
        "\n",
        "Now I will explain self-attention at a very high level.\n",
        "\n",
        "Say the following sentence is an input sentence we want to translate:\n",
        "\n",
        "**”The animal didn't cross the street because it was too tired”**\n",
        "\n",
        "When the model processes the word “it”, self-attention associates “it” with “animal”.\n",
        "\n",
        "As the model processes each word in the input sequence, self attention looks at other positions in the input sequence for clues to a better encoding for this word.\n",
        "\n",
        "![transformer_self-attention_visualization.png](images/transformer_self-attention_visualization.png)"
      ],
      "metadata": {
        "id": "BowLYFlCrDrr"
      }
    },
    {
      "cell_type": "markdown",
      "source": [
        "Image credit: https://jalammar.github.io/illustrated-transformer/"
      ],
      "metadata": {
        "id": "UGbAi0cJ7x3a"
      }
    },
    {
      "cell_type": "markdown",
      "source": [
        "For self-attention there are 5 general steps:\n",
        "\n",
        "1. Generate query, key and value vectors for each word:\n",
        "\n",
        "* These vectors are created by multiplying the embedding by three matrices that we trained during the training process.\n",
        "*  These vectors are abstractions useful for calculating and thinking about attention\n"
      ],
      "metadata": {
        "id": "Jzf9VE_AqWeR"
      }
    },
    {
      "cell_type": "markdown",
      "source": [
        "2. Calculate a score for each word in the input sentence against each other.\n",
        "\n",
        "* Say we’re calculating the self-attention for the first word in this example, “Thinking”.\n",
        "* We need to score each word of the input sentence against this word.\n",
        "* The score determines how much focus to place on other parts of the input sentence as we encode a word at a certain position."
      ],
      "metadata": {
        "id": "seNwDWKHU889"
      }
    },
    {
      "cell_type": "markdown",
      "source": [
        "3. Divide the scores by the square root of the dimension of the key vectors to stabilize the gradients. This is then passed through a softmax operation."
      ],
      "metadata": {
        "id": "xAgbhNesVWd9"
      }
    },
    {
      "cell_type": "markdown",
      "source": [
        "4. Multiply each value vector by the softmax score.\n",
        "* Want to keep intact the values of the word(s) we want to focus on, and drown-out irrelevant words"
      ],
      "metadata": {
        "id": "flICEgX9VnkD"
      }
    },
    {
      "cell_type": "markdown",
      "source": [
        "5. Sum up the weighted value vectors.\n",
        "* This produces the output of the self-attention layer at this position for each word."
      ],
      "metadata": {
        "id": "tvabliwsWT5p"
      }
    },
    {
      "cell_type": "markdown",
      "source": [
        "![self-attention-output.png](images/self-attention-output.png)"
      ],
      "metadata": {
        "id": "ZJwJLVP5rPSe"
      }
    },
    {
      "cell_type": "markdown",
      "source": [
        "Image credit: https://jalammar.github.io/illustrated-transformer/"
      ],
      "metadata": {
        "id": "yOwm-NkXA8U3"
      }
    },
    {
      "cell_type": "markdown",
      "source": [
        "### Multi-head attention\n",
        "\n",
        "In practice, multiple attention heads are used which\n",
        "1. Expands the model’s ability to focus on different positions and prevent the attention to be dominated by the word itself.\n",
        "2. Have multiple “representation subspaces”. Have multiple sets of Query/Key/Value weight matrices"
      ],
      "metadata": {
        "id": "4lwyFlxKW6oA"
      }
    },
    {
      "cell_type": "markdown",
      "source": [
        "![transformer_multi-headed_self-attention-recap.png](images/transformer_multi-headed_self-attention-recap.png)"
      ],
      "metadata": {
        "id": "8kRwzpwZrWzH"
      }
    },
    {
      "cell_type": "markdown",
      "source": [
        "Image credit: https://jalammar.github.io/illustrated-transformer/"
      ],
      "metadata": {
        "id": "6oHsezdVBIaf"
      }
    },
    {
      "cell_type": "markdown",
      "source": [
        "The attention mechanisms can be significantly more complex as the number of heads increases!\n",
        "* Note: each color here represents the attention from different attention heads."
      ],
      "metadata": {
        "id": "1_i9ezLNadC2"
      }
    },
    {
      "cell_type": "markdown",
      "source": [
        "![transformer_self-attention_visualization_3.png](images/transformer_self-attention_visualization_3.png)"
      ],
      "metadata": {
        "id": "XWzxH2h1rfmM"
      }
    },
    {
      "cell_type": "markdown",
      "source": [
        "Image credit: https://jalammar.github.io/illustrated-transformer/"
      ],
      "metadata": {
        "id": "jJMmXEWcBPvL"
      }
    },
    {
      "cell_type": "markdown",
      "source": [
        "![encoder_with_tensors_2.png](images/encoder_with_tensors_2.png)"
      ],
      "metadata": {
        "id": "aAje5iQbrphT"
      }
    },
    {
      "cell_type": "markdown",
      "source": [
        "Image credit: https://jalammar.github.io/illustrated-transformer/"
      ],
      "metadata": {
        "id": "6GeqyRoIQ9Mj"
      }
    },
    {
      "cell_type": "markdown",
      "source": [
        "### Adding in decoders\n",
        "\n",
        "Now that we know how the encoder layers work the decoder layers are much more straightforward to understand:\n",
        "\n",
        "The output of the top encoder is then transformed into a set of attention vectors K and V. These are to be used by each decoder in its “encoder-decoder attention” layer which helps the decoder focus on appropriate places in the input sequence.\n",
        "\n",
        "In the decoder, the self-attention layer only attends to earlier positions in the output sequence. The future positions are masked (setting them to -inf) before the softmax step in the self-attention calculation.\n",
        "\n",
        "The “Encoder-Decoder Attention” layer creates its Queries matrix from the layer below it, and takes the Keys and Values matrix from the output of the encoder stack."
      ],
      "metadata": {
        "id": "YfBGUyOsd04y"
      }
    },
    {
      "cell_type": "markdown",
      "source": [
        "![encode_decode.png](images/encode_decode.png)"
      ],
      "metadata": {
        "id": "ctEkOn7mryXo"
      }
    },
    {
      "cell_type": "markdown",
      "source": [
        "The following steps repeat the process until a special symbol is reached indicating the transformer decoder has completed its output.\n",
        "\n",
        "The output of each step is fed to the bottom decoder in the next time step, and the decoders bubble up their decoding results just like the encoders did.\n",
        "\n",
        "And just like we did with the encoder inputs, we embed and add positional encoding to those decoder inputs to indicate the position of each word."
      ],
      "metadata": {
        "id": "205VVoo4fffm"
      }
    },
    {
      "cell_type": "markdown",
      "source": [
        "![transformer_decoding_2.gif](images/transformer_decoding_2.gif)\n",
        "\n"
      ],
      "metadata": {
        "id": "TnFV9h7osLGW"
      }
    },
    {
      "cell_type": "markdown",
      "source": [
        "Image credit: https://jalammar.github.io/illustrated-transformer/"
      ],
      "metadata": {
        "id": "lfcZ_S8MBSvC"
      }
    },
    {
      "cell_type": "markdown",
      "source": [
        "### How do we turn the output of the decoder stack into a word?\n",
        "\n",
        "Using the final Linear layer and a Softmax Layer.\n",
        "\n",
        "The Linear layer projects the vector produced by the stack of decoders, into a larger vector called a logits vector.\n",
        "\n",
        "If our model knows 10,000 unique English words learned from its training dataset the logits vector is 10,000 cells wide – each cell corresponds to the score of a unique word.\n",
        "\n",
        "The softmax layer turns those scores into probabilities. The cell with the highest probability is chosen, and the word associated with it is produced as the output for this time step."
      ],
      "metadata": {
        "id": "iF1HzH9xNJ7S"
      }
    },
    {
      "cell_type": "markdown",
      "source": [
        "![transformer_decoder_output_softmax.png](images/transformer_decoder_output_softmax.png)"
      ],
      "metadata": {
        "id": "hKAlc6FXsit6"
      }
    },
    {
      "cell_type": "markdown",
      "source": [
        "Image credit: https://jalammar.github.io/illustrated-transformer/"
      ],
      "metadata": {
        "id": "HS6r-z8dN_RV"
      }
    },
    {
      "cell_type": "markdown",
      "source": [
        "### Training\n",
        "\n",
        "To visualize training, let’s assume our output vocabulary only contains six words(“a”, “am”, “i”, “thanks”, “student”, and “\\<eos\\>” (short for ‘end of sentence’)).\n",
        "\n",
        "Each word in the vocabulary can be outputted as a one-hot encoding."
      ],
      "metadata": {
        "id": "MIWj0V3utkt4"
      }
    },
    {
      "cell_type": "markdown",
      "source": [
        "![one-hot-vocabulary-example.png](images/one-hot-vocabulary-example.png)"
      ],
      "metadata": {
        "id": "B9WWNO0YszbO"
      }
    },
    {
      "cell_type": "markdown",
      "source": [
        "Image credit: https://jalammar.github.io/illustrated-transformer/"
      ],
      "metadata": {
        "id": "DYtyD_Ft4p55"
      }
    },
    {
      "cell_type": "markdown",
      "source": [
        "Say it’s our first step in the training phase, and we’re training it on a simple example – translating “merci” into “thanks”.\n",
        "\n",
        "We want the output to be a probability distribution indicating the word “thanks”. But since this model is not yet trained, that’s unlikely to happen just yet."
      ],
      "metadata": {
        "id": "a_I_gqkm3aDQ"
      }
    },
    {
      "cell_type": "markdown",
      "source": [
        "![transformer_logits_output_and_label.png](images/transformer_logits_output_and_label.png)"
      ],
      "metadata": {
        "id": "C7FMBfkls-XL"
      }
    },
    {
      "cell_type": "markdown",
      "source": [
        "Image credit: https://jalammar.github.io/illustrated-transformer/"
      ],
      "metadata": {
        "id": "5ixVZtHg4qtH"
      }
    },
    {
      "cell_type": "markdown",
      "source": [
        "To compare these distributions we can simply look at the difference between them a loss like cross-entropy or Kullback–Leibler divergence. Then the training uses back-propagation to optimize this loss function.\n",
        "\n",
        "A more complex situation is translating the sentence: “je suis étudiant” into “i am a student” as can be seen in the example:"
      ],
      "metadata": {
        "id": "XK8q67P03yr4"
      }
    },
    {
      "cell_type": "markdown",
      "source": [
        "![output_target_probability_distributions.png](images/output_target_probability_distributions.png)"
      ],
      "metadata": {
        "id": "jRsqsi21tI15"
      }
    },
    {
      "cell_type": "markdown",
      "source": [
        "Image credit: https://jalammar.github.io/illustrated-transformer/"
      ],
      "metadata": {
        "id": "FNMufYf44rYa"
      }
    },
    {
      "cell_type": "markdown",
      "source": [
        "### Advantages and disadvantages\n",
        "\n",
        "**Advantages:**\n",
        "\n",
        "* Sequence-to-sequence tasks: Well-suited for tasks where the input and output sequences have different lengths, such as machine translation or summarization.\n",
        "* Information compression: The encoder compresses input information into a fixed-size context vector, which the decoder then uses to generate the output sequence.\n",
        "\n",
        "**Disadvantages:**\n",
        "\n",
        "* Computationally expensive: Requires processing the entire input sequence before generating any part of the output sequence, which can be computationally expensive.\n",
        "* Not suitable for autoencoding tasks: May not be the best choice for tasks where the input and output sequences are expected to be similar or identical.\n"
      ],
      "metadata": {
        "id": "8qBLH0DckwxU"
      }
    },
    {
      "cell_type": "markdown",
      "source": [
        "## Tokenization for language models\n",
        "\n",
        "Now we will have discuss different ways that language models recognize and “read” text.\n",
        "\n",
        "Humans do this inherently because they previously learned phonetic sounds. Machines don’t have phonetic knowledge so they need to be told how to break text into standard units to process it.\n",
        "They use a system called “tokenization”, where sequences of text are broken into smaller parts, or “tokens”, and then fed as input.\n",
        "\n",
        "![text-processing---machines-vs-humans.png](images/text-processing---machines-vs-humans.png)"
      ],
      "metadata": {
        "id": "MjLqoEJTtWku"
      }
    },
    {
      "cell_type": "markdown",
      "source": [
        "Image credit: https://blog.floydhub.com/tokenization-nlp/"
      ],
      "metadata": {
        "id": "DF8jQqv2Iqa_"
      }
    },
    {
      "cell_type": "markdown",
      "source": [
        "### Tokenizing based on \"words\"\n",
        "\n",
        "Based on syntax of English language a likely answer is just that breaking sentences into word-level chunks or tokens seems like the best approach.\n",
        "\n",
        "Although this seems easy, it can actually be done in different ways as shown in the following diagram.\n",
        "\n",
        "![tokenize_words.png](images/tokenize_words.png)"
      ],
      "metadata": {
        "id": "HYjPS-FptjI0"
      }
    },
    {
      "cell_type": "markdown",
      "source": [
        "Image credit: https://blog.floydhub.com/tokenization-nlp/"
      ],
      "metadata": {
        "id": "gqT-1stEIvJ8"
      }
    },
    {
      "cell_type": "markdown",
      "source": [
        "There are some issues with this approach though:\n",
        "\n",
        "* You need a big vocabulary: You can only learn those words in your training vocab. Any words not in the training set will be treated as unknown words. It does not break words into sub-words so it would miss anything like “talk” vs. “talks” vs. “talked” and “talking”.\n",
        "* Words are combined: There may be some confusion about what exactly constitutes a word. Some words such as “sun” and “flower” are compounded to make sunflower. Are these one word or multiple?\n",
        "* Some languages don’t segment by spaces."
      ],
      "metadata": {
        "id": "nVKYssvMH7tU"
      }
    },
    {
      "cell_type": "markdown",
      "source": [
        "### Character-based tokenization\n",
        "\n",
        "To potentially solve this we can try to simply tokenize the input text character by character."
      ],
      "metadata": {
        "id": "D5qZKrpvJAlK"
      }
    },
    {
      "cell_type": "markdown",
      "source": [
        "![chars-tokenization.png](images/chars-tokenization.png)"
      ],
      "metadata": {
        "id": "x_jsrK_mtrJN"
      }
    },
    {
      "cell_type": "markdown",
      "source": [
        "Image credit: https://blog.floydhub.com/tokenization-nlp/"
      ],
      "metadata": {
        "id": "6ITNMqvdJpPC"
      }
    },
    {
      "cell_type": "markdown",
      "source": [
        "Issues with this approach:\n",
        "* Lack of meaning: Unlike words, characters don’t have any inherent meaning, so there is no guarantee that the resultant learned representations will have any meaning.\n",
        "* Increased input computation: If you use word level tokens then you will spike a 7-word sentence into 7 input tokens. However, assuming an average of 5 letters per word (in the English language) you now have 35 inputs to process. This increases the complexity of the scale of the inputs you need to process\n",
        "* Limits network choices: Increasing the size of your input sequences at the character level also limits the type of neural networks you can use."
      ],
      "metadata": {
        "id": "qQUK4D67KJKr"
      }
    },
    {
      "cell_type": "markdown",
      "source": [
        "### Subword tokenization\n",
        "This tokenization type deals with an infinite potential vocabulary via a finite list of known words.\n",
        "\n",
        "There are different ways of doing this:\n",
        "\n",
        "**Byte-pair encoding**\n",
        "\n",
        "![Byte_Pair_enc.webp](images/Byte_Pair_enc.webp)"
      ],
      "metadata": {
        "id": "T0HJjUTpt2K7"
      }
    },
    {
      "cell_type": "markdown",
      "source": [
        "Image credit: https://towardsdatascience.com/tokenization-algorithms-explained-e25d5f4322ac"
      ],
      "metadata": {
        "id": "eojXMQljL9yk"
      }
    },
    {
      "cell_type": "markdown",
      "source": [
        "BPE was initially introduced to help compress data by finding common byte pair combinations.\n",
        "\n",
        "This tokenization first forms a base vocabulary which is a collection of all unique characters present in the corpus. We also calculate frequency of each token and represent each token as a list of individual characters from base vocabulary.\n",
        "\n",
        "Now merging begins. We keep adding tokens to our base vocab as long as the maximum size is not breached on the basis of following criteria — the pair of tokens occurring most number of times is merged and introduced as a new token."
      ],
      "metadata": {
        "id": "4Ciy9s6wLWso"
      }
    },
    {
      "cell_type": "markdown",
      "source": [
        "**Word-piece tokenizer**\n",
        "\n"
      ],
      "metadata": {
        "id": "dnazXlhpMY7p"
      }
    },
    {
      "cell_type": "markdown",
      "source": [
        "Word-piece tokenization is similar to BPE but instead maximizes the likelihood of token pairs:\n",
        "\n",
        "![WordPieceTok.webp](images/WordPieceTok.webp)"
      ],
      "metadata": {
        "id": "-tOHGsXIuBxb"
      }
    },
    {
      "cell_type": "markdown",
      "source": [
        "Word-piece and BPE will go through every potential option at each step and pick the tokens to merge based on the highest frequency/likelihood. In this way it is a greedy algorithm which optimizes for the best solution at each step in its iteration.\n",
        "\n",
        "However, this greedy algorithm can result in a potentially ambiguous final token vocabulary. This is especially for when there is more than one way to encode a particular word. How do you choose which subword units to use?"
      ],
      "metadata": {
        "id": "p4N8O45PMvJR"
      }
    },
    {
      "cell_type": "markdown",
      "source": [
        "**Unigram**\n",
        "Unigram sticks to predicting the most likely result token taking into account learned probability during training. How likely it is that the next word is “learning” depends only on the probability of the word “learning” turning up in the training set.\n",
        "\n",
        "To generate a unigram subword token set you need to first define the desired final size of your token set and also a starting seed subword token set.\n",
        "\n",
        "Then:\n",
        "\n",
        "1. Work out the probability for each subword token\n",
        "2. Work out a loss value which would result if each subwork token were to be dropped. The loss is worked out via an algorithm described in the paper (Kudo 2018) (an expectation maximization algorithm).\n",
        "3. Drop the tokens which have the largest loss value. You can choose a value here, e.g. drop the bottom 10% or 20% of subword tokens based on their loss calculations. Note you need to keep single characters to be able to deal with out-of-vocabulary words.\n",
        "4. Repeat these steps until you reach your desired final vocabulary size or until there is no change in token numbers after successive iterations."
      ],
      "metadata": {
        "id": "wTi462A4RgEK"
      }
    },
    {
      "cell_type": "markdown",
      "source": [
        "## Encoder-only Transformers\n",
        "\n",
        "In addition to the encoder-decoder architecture shown here there various other architectures which are either only encoder or decoder models."
      ],
      "metadata": {
        "id": "XJ8TQcY0h1zD"
      }
    },
    {
      "cell_type": "markdown",
      "source": [
        "### Bidirectional Encoder Representations from Transformers (BERT) model\n",
        "\n"
      ],
      "metadata": {
        "id": "QVEqV-ogiKlN"
      }
    },
    {
      "cell_type": "markdown",
      "source": [
        "Encoder-only models only use the encoder layer of the Transformer.\n",
        "\n",
        "These models are usually used for \"understanding\" natural language; however, they typically are not used for text generation. Examples of uses for these models are:\n",
        "\n",
        "1. Determining how positive or negative a movie’s reviews are. (Sentiment Analysis)\n",
        "2. Summarizing long legal contracts. (Summarization)\n",
        "3. Differentiating words that have multiple meanings (like ‘bank’) based on the surrounding text. (Polysemy resolution)\n",
        "\n",
        "These models are often characterized as having “bi-directional” attention, and are often called auto-encoding models.\n",
        "The attention mechanisms of these models can access all the words in the initial sentence.\n",
        "\n",
        "The most common encoder only architectures are:"
      ],
      "metadata": {
        "id": "ykdG_rXojZx6"
      }
    },
    {
      "cell_type": "markdown",
      "source": [
        "* ALBERT\n",
        "* BERT\n",
        "* DistilBERT\n",
        "* ELECTRA\n",
        "* RoBERTa"
      ],
      "metadata": {
        "id": "0CCuGvS4h9G4"
      }
    },
    {
      "cell_type": "markdown",
      "source": [
        "As example, let's consider BERT model in a little more detail."
      ],
      "metadata": {
        "id": "yWQ2w9niYhpL"
      }
    },
    {
      "cell_type": "markdown",
      "source": [
        "![BERT_Explanation.webp](images/BERT_Explanation.webp)"
      ],
      "metadata": {
        "id": "_zqTajCjuMwz"
      }
    },
    {
      "cell_type": "markdown",
      "source": [
        "Image credit: https://towardsdatascience.com/bert-explained-state-of-the-art-language-model-for-nlp-f8b21a9b6270"
      ],
      "metadata": {
        "id": "wmOQzlfbbSRt"
      }
    },
    {
      "cell_type": "markdown",
      "source": [
        "The BERT model is bidirectionally trained to have a deeper sense of language context and flow than single-direction language models."
      ],
      "metadata": {
        "id": "Jn4B4vvMlR0a"
      }
    },
    {
      "cell_type": "markdown",
      "source": [
        "The Transformer encoder reads the entire sequence of words at once. Therefore it is considered bidirectional. This characteristic allows the model to learn the context of a word based on all of its surroundings (left and right of the word)."
      ],
      "metadata": {
        "id": "CQJ9gfGHmBwv"
      }
    },
    {
      "cell_type": "markdown",
      "source": [
        "In the BERT training process, the model receives pairs of sentences as input and learns to predict if the second sentence in the pair is the subsequent sentence in the original document. During training, 50% of the inputs are a pair in which the second sentence is the subsequent sentence in the original document, while in the other 50% a random sentence from the corpus is chosen as the second sentence."
      ],
      "metadata": {
        "id": "4bGytwTrmZY8"
      }
    },
    {
      "cell_type": "markdown",
      "source": [
        "To help the model distinguish between the two sentences in training, the input is processed in the following way before entering the model:\n",
        "\n",
        "1. A [CLS] token is inserted at the beginning of the first sentence and a [SEP] token is inserted at the end of each sentence.\n",
        "2. A sentence embedding indicating Sentence A or Sentence B is added to each token. Sentence embeddings are similar in concept to token embeddings with a vocabulary of 2.\n",
        "3. A positional embedding is added to each token to indicate its position in the sequence. The concept and implementation of positional embedding are presented in the Transformer paper."
      ],
      "metadata": {
        "id": "pPlkDoWCnCPS"
      }
    },
    {
      "cell_type": "markdown",
      "source": [
        "![BERT_input_sent.webp](images/BERT_input_sent.webp)"
      ],
      "metadata": {
        "id": "3vuT3OI2uUpc"
      }
    },
    {
      "cell_type": "markdown",
      "source": [
        "Image credit: https://towardsdatascience.com/bert-explained-state-of-the-art-language-model-for-nlp-f8b21a9b6270"
      ],
      "metadata": {
        "id": "6i0EoRIDbVFE"
      }
    },
    {
      "cell_type": "markdown",
      "source": [
        "To predict if the second sentence is indeed connected to the first, the following steps are performed:\n",
        "\n",
        "1. The entire input sequence goes through the Transformer model.\n",
        "2. The output of the [CLS] token is transformed into a 2×1 shaped vector, using a simple classification layer (learned matrices of weights and biases).\n",
        "3. Calculating the probability of IsNextSequence with softmax."
      ],
      "metadata": {
        "id": "bsMlclp_nVKV"
      }
    },
    {
      "cell_type": "markdown",
      "source": [
        "### Advantages and disadvantages:\n",
        "\n",
        "**Advantages**:\n",
        "\n",
        "* Contextualized embeddings: Good for tasks where contextualized embeddings of input tokens are crucial, such as natural language understanding.\n",
        "* Parallel processing: Allows for parallel processing of input tokens, making it computationally efficient.\n",
        "\n",
        "**Disadvantages:**\n",
        "\n",
        "* Not designed for sequence generation: Might not perform well on tasks that require sequential generation of output, as there is no inherent mechanism for auto-regressive decoding."
      ],
      "metadata": {
        "id": "0OaH5uh5hOQE"
      }
    },
    {
      "cell_type": "markdown",
      "source": [
        "Here is an example of a BERT code that can be used to"
      ],
      "metadata": {
        "id": "sbSJ7_J9sK8Z"
      }
    },
    {
      "cell_type": "markdown",
      "source": [
        "## Decoder-only models"
      ],
      "metadata": {
        "id": "Abjp33PHe3Ts"
      }
    },
    {
      "cell_type": "markdown",
      "source": [
        "### Generative Pre-trained Transformer (GPT)-2\n",
        "\n",
        "Decoder models use only the decoder of a Transformer model. At each stage, for a given word the attention layers can only access the words positioned before it in the sentence. These models are often called auto-regressive models.\n",
        "\n",
        "The pretraining of decoder models usually revolves around predicting the next word in the sentence.\n",
        "\n",
        "These models are best suited for tasks involving text generation."
      ],
      "metadata": {
        "id": "d82IczeVoAuV"
      }
    },
    {
      "cell_type": "markdown",
      "source": [
        "Examples of these include:\n",
        "* CTRL\n",
        "* GPT\n",
        "* GPT-2\n",
        "* Transformer XL\n",
        "\n",
        "Let's discuss one of the most popular models, GPT-2 in a little more detail."
      ],
      "metadata": {
        "id": "V4PcUAAhoA2H"
      }
    },
    {
      "cell_type": "markdown",
      "source": [
        "The architecture of GPT-2 is inspired by the paper: \"Generating Wikipedia by Summarizing Long Sequences\" which is another arrangement of the transformer block that can do language modeling. This model threw away the encoder and thus is known as the “Transformer-Decoder”."
      ],
      "metadata": {
        "id": "HdGPhHW9Pm0U"
      }
    },
    {
      "cell_type": "markdown",
      "source": [
        "![transformer-decoder-intro.png](images/transformer-decoder-intro.png)"
      ],
      "metadata": {
        "id": "cig2mvfguetQ"
      }
    },
    {
      "cell_type": "markdown",
      "source": [
        "Image credit: https://jalammar.github.io/illustrated-gpt2/"
      ],
      "metadata": {
        "id": "S2jNiUvYcZUX"
      }
    },
    {
      "cell_type": "markdown",
      "source": [
        "An important difference of the GPT-2 architecture compared to the encoder-Transformer architecture has to do with the type of attention mechanism used.\n",
        "\n",
        "In models such as BERT, the self-attention mechanism has access to tokens to the left and right of the query token. However, in decoder-based models such as GPT-2, masked self-attention is used instead which allows access only to tokens to the left of the query.\n",
        "\n",
        "The masked self-attention mechanism is important for GPT-2 since it allows the model to be trained for token-by-token generation without simply \"memorizing\" the future tokens."
      ],
      "metadata": {
        "id": "IkIvScEFQSBg"
      }
    },
    {
      "cell_type": "markdown",
      "source": [
        "![self-attention-and-masked-self-attention.png](images/self-attention-and-masked-self-attention.png)"
      ],
      "metadata": {
        "id": "plPvVIOwunQW"
      }
    },
    {
      "cell_type": "markdown",
      "source": [
        "Image credit: https://jalammar.github.io/illustrated-gpt2/"
      ],
      "metadata": {
        "id": "PwvskuePcdRu"
      }
    },
    {
      "cell_type": "markdown",
      "source": [
        "The masked self-attention adds understanding of associated words to explain contexts of certain words before passing it through a neural network. It assigns scores to how relevant each word in the segment is, and then adds up the vector representation. This is then passed through the feed-forward network resulting in an output vector."
      ],
      "metadata": {
        "id": "Na3KlgI0Sae_"
      }
    },
    {
      "cell_type": "markdown",
      "source": [
        "![gpt2-self-attention-example-2.png](images/gpt2-self-attention-example-2.png)"
      ],
      "metadata": {
        "id": "sJShJx93u18W"
      }
    },
    {
      "cell_type": "markdown",
      "source": [
        "Image credit: https://jalammar.github.io/illustrated-gpt2/"
      ],
      "metadata": {
        "id": "tDkNxx81cd0Q"
      }
    },
    {
      "cell_type": "markdown",
      "source": [
        "The resulting vector then needs to be converted to an output token. A common method of obtaining this output token is known as top-k.\n",
        "\n",
        "Here, the output vector is multiplied by the token embeddings which results in probabilities for each token in the vocabulary. Then the output token is sampled according to this probability."
      ],
      "metadata": {
        "id": "ZUMghdKOStK7"
      }
    },
    {
      "cell_type": "markdown",
      "source": [
        "![gpt2-output.png](images/gpt2-output.png)"
      ],
      "metadata": {
        "id": "YMkMD3jEu92U"
      }
    },
    {
      "cell_type": "markdown",
      "source": [
        "Image credit: https://jalammar.github.io/illustrated-gpt2/"
      ],
      "metadata": {
        "id": "I1wNJMbJcfYM"
      }
    },
    {
      "cell_type": "markdown",
      "source": [
        "### Advantages and disadvantages\n",
        "\n",
        "**Advantages:**\n",
        "\n",
        "* Auto-regressive generation: Well-suited for tasks that require sequential generation, as the model can generate one token at a time based on the previous tokens.\n",
        "* Variable-length output: Can handle tasks where the output sequence length is not fixed.\n",
        "\n",
        "**Disadvantages:**\n",
        "\n",
        "* No direct access to input context: The decoder doesn't directly consider the input context during decoding, which might be a limitation for certain tasks.\n",
        "* Potential for inefficiency: Decoding token by token can be less computationally efficient compared to parallel processing."
      ],
      "metadata": {
        "id": "A-YdoSNljwpP"
      }
    },
    {
      "cell_type": "markdown",
      "source": [
        "## Additional architectures\n",
        "\n",
        "In addition to text, LLMs have also been applied on other data sources such as images and graphs. Here I will describe two particular architectures:\n",
        "1. Vision Transformers\n",
        "2. Graph Transformers"
      ],
      "metadata": {
        "id": "HqXMaU4kVpWO"
      }
    },
    {
      "cell_type": "markdown",
      "source": [
        "### Vision Transformers\n",
        "\n",
        "Vision Transformers (ViT) is an architecture that uses self-attention mechanisms to process images.\n",
        "\n",
        "The way this works is:\n",
        "\n",
        "1. Split image into patches (size is fixed)\n",
        "2. Flatten the image patches\n",
        "3. Create lower-dimensional linear embeddings from these flattened image patches and include positional embeddings\n",
        "4. Feed the sequence as an input to a transformer encoder\n",
        "5. Pre-train the ViT model with image labels, which is then fully supervised on a big dataset Fine-tune the downstream dataset for image classification"
      ],
      "metadata": {
        "id": "JW_Zl35qWIc5"
      }
    },
    {
      "cell_type": "markdown",
      "source": [
        "![vision-transformer-vit.png](images/vision-transformer-vit.png)"
      ],
      "metadata": {
        "id": "etRxFXTPvEjr"
      }
    },
    {
      "cell_type": "markdown",
      "source": [
        "Image credit: Dosovitskiy, Alexey, et al. \"An image is worth 16x16 words: Transformers for image recognition at scale.\" arXiv preprint arXiv:2010.11929 (2020)."
      ],
      "metadata": {
        "id": "gfbHrv7mW5jI"
      }
    },
    {
      "cell_type": "markdown",
      "source": [
        "### Graph Transformers"
      ],
      "metadata": {
        "id": "zw-WLqVrazU2"
      }
    },
    {
      "cell_type": "markdown",
      "source": [
        "![Graphformer.png](images/Graphformer.png)"
      ],
      "metadata": {
        "id": "CYSCHt9SvNUJ"
      }
    },
    {
      "cell_type": "markdown",
      "source": [
        "Image credit: Yang, Junhan, et al. \"GraphFormers: GNN-nested transformers for representation learning on textual graph.\" Advances in Neural Information Processing Systems 34 (2021): 28798-28810."
      ],
      "metadata": {
        "id": "8Vb4LRmBa6as"
      }
    },
    {
      "cell_type": "markdown",
      "source": [
        "References:\n",
        "\n"
      ],
      "metadata": {
        "id": "rTy_EjwVa3Sn"
      }
    },
    {
      "cell_type": "markdown",
      "source": [
        "https://huggingface.co/learn/nlp-course/chapter1/4\n",
        "\n",
        "https://www.shanelynn.ie/get-busy-with-word-embeddings-introduction/\n",
        "\n",
        "https://jalammar.github.io/illustrated-transformer/\n",
        "\n",
        "https://towardsdatascience.com/tokenization-algorithms-explained-e25d5f4322ac\n",
        "\n",
        "https://blog.floydhub.com/tokenization-nlp/\n",
        "\n",
        "https://towardsdatascience.com/bert-explained-state-of-the-art-language-model-for-nlp-f8b21a9b6270\n",
        "\n",
        "https://jalammar.github.io/illustrated-gpt2/\n",
        "\n",
        "Dosovitskiy, Alexey, et al. \"An image is worth 16x16 words: Transformers for image recognition at scale.\" arXiv preprint arXiv:2010.11929 (2020).\n",
        "\n",
        "Yang, Junhan, et al. \"GraphFormers: GNN-nested transformers for representation learning on textual graph.\" Advances in Neural Information Processing Systems 34 (2021): 28798-28810."
      ],
      "metadata": {
        "id": "Z0YcMN62bmMU"
      }
    },
    {
      "cell_type": "code",
      "source": [],
      "metadata": {
        "id": "nDXLTusqxXHf"
      },
      "execution_count": null,
      "outputs": []
    }
  ]
}