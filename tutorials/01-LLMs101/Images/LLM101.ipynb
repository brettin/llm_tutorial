{
  "nbformat": 4,
  "nbformat_minor": 0,
  "metadata": {
    "colab": {
      "provenance": []
    },
    "kernelspec": {
      "name": "python3",
      "display_name": "Python 3"
    },
    "language_info": {
      "name": "python"
    }
  },
  "cells": [
    {
      "cell_type": "markdown",
      "source": [
        "\n",
        "# Large Language Models LLMs-101\n",
        "\n",
        "Date: 2023-11-29 <br>\n",
        "Author: Varuni Sastry(vsastry@anl.gov)<br>\n",
        "&nbsp;&nbsp;&nbsp;&nbsp;&nbsp;&nbsp;&nbsp;&nbsp;&nbsp;&nbsp;&nbsp;&nbsp;&nbsp;&nbsp; Data Science Group, ALCF\n",
        "\n",
        "\n",
        "This notebook provides a overview of sequence modelling and introduces the basic concepts of transformers (specifically the Generatively Pretrained Transformer (GPT)) which was first introduced in \"Attention is All You Need\" paper back in 2017.\n",
        "\n",
        "The code base in this notebook is adapted from https://github.com/karpathy/ng-video-lecture. The other reference materials used in making of this material is listed at the bottom of this notebook.\n",
        "\n",
        "To use this notebook with your google colab follow the below instructions.\n",
        "\n",
        "\n",
        "*  Go to google colab and open the File menu at the top left and select Open Notebook which will open a dialogue box.\n",
        "*  Select the GitHub tab in the dialogue box.\n",
        "*  From here you can enter the url for the github repo: https://github.com/brettin/llm_tutorial and hit \"enter\".\n",
        "<img src=\"https://github.com/brettin/llm_tutorial/blob/main/tutorials/01-LLMs101/Images/colab.png?raw=1\" width=\"500\">\n",
        "\n",
        "\n",
        "*  This will show you a list of the Notebooks available in the repo.\n",
        "*  Select the LLM101.ipynb file to open and work through it.\n",
        "\n",
        "\n",
        "\n"
      ],
      "metadata": {
        "id": "40u430lYvYrd"
      }
    },
    {
      "cell_type": "markdown",
      "source": [
        "# RNNs to Transformers\n",
        "\n",
        " In the context of deep learning models, Recurrent Neural Newtorks(RNNs) were traditionally used to learn temporal dependencies. In RNNs, the hidden state from the previous time step is fed back into the network, allowing it to maintain a “memory” of past inputs. They were ideal for tasks with short sequences such as natural language processing and time-series prediction. With a Seq2Seq architecture, input sequences are fed into the Encoder, and Decoder predicts each word one after another.\n",
        "\n",
        "\n",
        "\n",
        " ![rnn_arch](https://github.com/brettin/llm_tutorial/blob/main/tutorials/01-LLMs101/Images/RNN_arch.png?raw=1\" )\n",
        "\n",
        " Source: [OpenSourceWikiMedia](https://commons.wikimedia.org/wiki/File:Recurrent_neural_network_unfold.svg),\n",
        "    [baeldung](https://www.baeldung.com/cs/rnns-transformers-nlp)\n",
        "\n",
        "However, these networks is not without its share of challenges.\n",
        "\n",
        "**Challenges with RNNs**\n",
        "*   **Slow to train** : RNNs are sequential models that process data one element at a time, maintaining an internal hidden state that is updated at each step. They operate in a recurrent manner, where the output at each step depends on the previous hidden state and the current input, leaving no scope for parallel computation.\n",
        "*   **Cannot handle large sequences** : Exploding and vanishing gradients limit the RNN modelling of long sequences. Though some of the variants of RNNs like LSTM and GRU addressed this problem successfully, they cannot engage with very large sequences.\n",
        "* **Fixed vector length** : A fixed length  context vector limits the representation and decodinng of a long input sequence. Moreever it is challenging to differentiate sentences with similar words but with different meanings\n",
        "\n",
        "\n",
        "\n",
        "<img src=\"https://github.com/brettin/llm_tutorial/blob/main/tutorials/01-LLMs101/Images/RNNVsTransformer.png?raw=1\" width=\"500\">\n",
        "\n",
        "<!---\n",
        "<img src=\"https://github.com/brettin/llm_tutorial/blob/main/tutorials/01-LLMs101/Images/RNNVsTransformer.png?raw=1\" width=\"500\">\n",
        "\n",
        "\n",
        "Source: [jinglescode](https://jinglescode.github.io/2020/05/27/illustrated-guide-transformer/) --->\n",
        "\n",
        "\n",
        "\n",
        "\n",
        "\n",
        "\n",
        "\n"
      ],
      "metadata": {
        "id": "XNeg_1pTahVI"
      }
    },
    {
      "cell_type": "markdown",
      "source": [
        "# Transformers\n",
        "\n",
        "\"**Attention is all you need**\" was the game changing paper in 2017 that revolutionized the NLP world. Note that, while RNNs process the data sequentially, the transformer on the other hand processes the entire sequence at a time.\n",
        "\n",
        "<img src=\"https://github.com/brettin/llm_tutorial/blob/main/tutorials/01-LLMs101/Images/TransformerArch.png?raw=1\" width=\"400\">\n",
        "\n",
        "Source: [Attention Is all you need](https://arxiv.org/pdf/1706.03762.pdf)\n",
        "\n",
        "**Architecture overview :**\n",
        "\n",
        "For a machine translation task, say English to French translation, the English sentence is the input to the **Encoder**. **Word embedding** (a meaningful vector representation of the word) along with the **positional embedding** (adds context of the position of the word in the sentence) are fed into **encoder attention block**, which computes the attention weights for every word, followed by a **feed-forward network** that processes these words in parallel, and outputs a set of encoded vectors for every word.\n",
        "\n",
        "The Decoder receives input of the French word(s) and attention vectors of the entire English sentence, to generate the next French word. The decoder starts the decoding with the \"start of sequence\" as the first input. The encoded word vectors are fed into the first decoder attention block (**the masked attention block**). The masked attention block computes the Attention vectors for current and prior words. Attention vectors from the Encoder and Decoder are fed into the next **attention block**, which generates attention mapping vectors for every English and French word. These vectors are passed into the **feed-forward layers**, followed by a **softmax layer** to predict the next French word. We repeat this process to generate the next word until the “end of sentence” token is generated.\n",
        "\n",
        "Though the original transformer had both encoder and decoder blocks, subsequent architectures, specifically the GPT based models are \"**decoder only**\" models, where the trained model generates new samples unconditionally. Alternatively, we can give it a prompt to have it speak about a certain topic (a.k.a generating interactive conditional samples). We can simply hand it the start token and have it start generating words. For illustration purpose here, we use a decoder only model that uses masked self attention and no second multi head attention (cross attention) in the stack.\n",
        "\n",
        "<img src=\"https://github.com/brettin/llm_tutorial/blob/main/tutorials/01-LLMs101/Images/decoder_only_block.png?raw=1\" length=\"200\">\n"
      ],
      "metadata": {
        "id": "vwt2JYdSZN6E"
      }
    },
    {
      "cell_type": "code",
      "source": [
        "## IMPORTS AND HYPERPARAMETERS\n",
        "\n",
        "import torch\n",
        "import torch.nn as nn\n",
        "from torch.nn import functional as F\n",
        "\n",
        "# hyperparameters\n",
        "batch_size = 4 # how many independent sequences will we process in parallel?\n",
        "block_size = 8 # what is the maximum context length for predictions?\n",
        "n_embd = 16 # what is the embedding size of each of the token ?\n",
        "n_head = 4  # Number of parallel heads in the multi head attention\n",
        "n_layer = 4 # Total number of blocks you have in your encoder/decoder\n",
        "vocab_size = 65 # Total number of distinct tokens/words you have in your vocabulary\n",
        "# ------------\n",
        "\n",
        "torch.manual_seed(1337)\n",
        "\n"
      ],
      "metadata": {
        "colab": {
          "base_uri": "https://localhost:8080/"
        },
        "id": "uB5z-2EAczOf",
        "outputId": "f4b210a8-27d8-4a42-e4c0-3b916f73b6f2"
      },
      "execution_count": 3,
      "outputs": [
        {
          "output_type": "execute_result",
          "data": {
            "text/plain": [
              "<torch._C.Generator at 0x78843afa5370>"
            ]
          },
          "metadata": {},
          "execution_count": 3
        }
      ]
    },
    {
      "cell_type": "markdown",
      "source": [
        "## Embedding Layer\n",
        "\n",
        "Word embedding or word vectors help us represent words or text as a numeric vector where words with similar meanings have the similar representation. Think **Embedding layer** as a look-up table of size **vocab_size x embedding size**. On the forward pass, the embedding layer will simply query the rows of the underlying weight array based on the input token indices. Note below that the entire embedding layer is a trainable parameters (requires_grad set to True). For any out of dictionary words, you can set the embedding to be all 0s using 'padding_idx'."
      ],
      "metadata": {
        "id": "0VYs-h-PaAQ8"
      }
    },
    {
      "cell_type": "code",
      "source": [
        "token_embedding_table = nn.Embedding(vocab_size, n_embd)\n",
        "position_embedding_table = nn.Embedding(block_size, n_embd)\n",
        "print(token_embedding_table)\n",
        "print(token_embedding_table.weight)\n",
        "x = torch.tensor([1,3,15,4,7,1,4,9])\n",
        "x = token_embedding_table(x) + position_embedding_table(torch.arange(block_size))"
      ],
      "metadata": {
        "colab": {
          "base_uri": "https://localhost:8080/"
        },
        "id": "fnMMPEVHdsz-",
        "outputId": "800a46c6-d8ab-4739-9a47-90dcf6b520e9"
      },
      "execution_count": 4,
      "outputs": [
        {
          "output_type": "stream",
          "name": "stdout",
          "text": [
            "Embedding(65, 16)\n",
            "Parameter containing:\n",
            "tensor([[ 0.1808, -0.0700, -0.3596,  ..., -0.2398, -0.9211,  1.5433],\n",
            "        [ 1.3488, -0.1396,  0.2858,  ..., -0.8016,  1.5236,  2.5086],\n",
            "        [-0.6631, -0.2513,  1.0101,  ...,  0.5718, -0.5974, -0.6937],\n",
            "        ...,\n",
            "        [ 0.9187,  0.2998,  0.6106,  ..., -0.6686, -0.4831, -0.2298],\n",
            "        [ 0.9043,  0.7631, -0.1606,  ...,  0.8282, -0.4826,  1.8330],\n",
            "        [ 0.3421,  0.2154, -0.1029,  ...,  0.5812, -0.5356, -1.7944]],\n",
            "       requires_grad=True)\n"
          ]
        }
      ]
    },
    {
      "cell_type": "code",
      "source": [
        "import torch\n",
        "inputs = torch.tensor([[24, 43, 58,  5, 57,  1, 46, 43],\n",
        "        [44, 53, 56,  1, 58, 46, 39, 58],\n",
        "        [52, 58,  1, 58, 46, 39, 58,  1],\n",
        "        [25, 17, 27, 10,  0, 21,  1, 54]])\n",
        "targets = torch.tensor([[43, 58,  5, 57,  1, 46, 43, 39],\n",
        "        [53, 56,  1, 58, 46, 39, 58,  1],\n",
        "        [58,  1, 58, 46, 39, 58,  1, 46],\n",
        "        [17, 27, 10,  0, 21,  1, 54, 39]])"
      ],
      "metadata": {
        "id": "-TLln2m8ZHN_"
      },
      "execution_count": null,
      "outputs": []
    },
    {
      "cell_type": "markdown",
      "source": [
        "## Masked Self Attention\n",
        "Self-attention is a mechanism that enhances the information content of an input embedding by including information about the input's context. In other words, the self-attention mechanism enables the model to weigh the importance of different elements in an input sequence and dynamically adjust their influence on the output. It assigns scores to how relevant each token in the sequence is, and adds up to the vector representation.\n",
        "\n",
        "<!--- <img src=\"https://github.com/brettin/llm_tutorial/blob/main/tutorials/01-LLMs101/Images/AttentionGraph.png?raw=1\">\n",
        "![graph](https://github.com/brettin/llm_tutorial/blob/main/tutorials/01-LLMs101/Images/AttentionGraph.png?raw=1)\n",
        "[MSA](https://github.com/brettin/llm_tutorial/blob/main/tutorials/01-LLMs101/Images/decoder_only_block.png?raw=1)\n",
        "--->\n",
        "As an example shown below, the self-attention layer in the top block is paying attention to “a robot” when it processes the word “it”. The ouput vector that will be passed to its subsequent layers is a sum of the vectors for each of the three words multiplied by their scores.\n",
        "\n",
        "<img src=\"https://github.com/brettin/llm_tutorial/blob/main/tutorials/01-LLMs101/Images/SelfAttentionEx.png?raw=1\" width=\"600\">\n",
        "\n",
        "Source: [jalammar](http://jalammar.github.io/illustrated-gpt2/#part-2-illustrated-self-attention)\n",
        "\n",
        "\n",
        "\n",
        "Attention can be viewed as a communication mechanism, where tokens are viewed as nodes in a directed graph looking at each other and aggregating information with a weighted sum from all nodes that point to them, with data-dependent weights.\n",
        "<img src=\"https://github.com/brettin/llm_tutorial/blob/main/tutorials/01-LLMs101/Images/AttentionGraph.png?raw=1\" width=\"400\">\n",
        "\n",
        "The decoder architecture uses \"masked self attention\" where the future tokens are masked by interfering in the self-attention calculation blocking information from tokens that are to the right of the position being calculated. The masked attention is implemented using a lower triangular masking.\n",
        "\n",
        "\n",
        "<!--- <img src=\"https://github.com/brettin/llm_tutorial/blob/main/tutorials/01-LLMs101/Images/SDP.png?raw=1\" width=\"400\">\n",
        "\n",
        "Source: [Attention Is all you need](https://arxiv.org/pdf/1706.03762.pdf)--->\n"
      ],
      "metadata": {
        "id": "Wz-7_Z7w_AnI"
      }
    },
    {
      "cell_type": "markdown",
      "source": [
        "There are three components to the self attention, namely\n",
        "\n",
        "*   **Query**: The query is a representation of the current token used to score against all the other words (using their keys). We only care about the query of the token we’re currently processing.\n",
        "\n",
        "*   **Key**: Key vectors are like labels for all the words in the segment. They’re what we match against in our search for relevant words or context.\n",
        "\n",
        "*   **Value**: Value vectors are actual word representations, once we’ve scored how relevant each word is, these are the values we add up to represent the current word.\n",
        "\n",
        "<img src=\"https://github.com/brettin/llm_tutorial/blob/main/tutorials/01-LLMs101/Images/SDP.png?raw=1\" width=\"400\">\n",
        "\n",
        "Source: [Attention Is all you need](https://arxiv.org/pdf/1706.03762.pdf)\n",
        "\n",
        "Once we have created the above vectors, we need to calculate the \"attention scores\" for each word of the input sentence against the current word. The score determines how much focus to place on other parts of the input sentence as we encode a word at a certain position.\n",
        "\n",
        "The score is calculated by taking the **dot product** of the query vector with the key vector of the respective word we’re scoring. So if we’re processing the self-attention for the word in position #3 (say robot in the above example), the first score would be the dot product of q3 and k1(key for start of sequence). The second score would be the dot product of q3 and k2(key for word \"a\") and the third dot product of q3 and k3(key for word \"robot\"). The attention scores are then normalized by a **softmax function**. This is followed by multiplying the scores with each of the value vector and aggregating them to represent the final embedding of the current word.\n",
        "\n",
        "![ScaledDP](https://github.com/brettin/llm_tutorial/blob/main/tutorials/01-LLMs101/Images/scaledDotProduct.png?raw=1)\n",
        "\n",
        "Source: [Sebastian Raschka](https://sebastianraschka.com/blog/2023/self-attention-from-scratch.html)\n",
        "\n",
        "\n",
        "In the above example, we can see that the weighted blend of value vectors results in a vector that paid 50% of its “attention” to the word robot, 30% to the word a, and 18% to the word it.\n",
        "\n"
      ],
      "metadata": {
        "id": "nPsIwbCKQJ2S"
      }
    },
    {
      "cell_type": "markdown",
      "source": [
        "## Masking"
      ],
      "metadata": {
        "id": "IukkUogZHpin"
      }
    },
    {
      "cell_type": "code",
      "source": [
        "\n",
        "import torch\n",
        "import torch.nn as nn\n",
        "from torch.nn import functional as F\n",
        "torch.manual_seed(1337)\n",
        "B,T,C = 4,4,2 # batch, time, channels\n",
        "x = torch.randn(B,T,C)\n",
        "\n",
        "print(\"Input\")\n",
        "print(x[0,:,:])\n",
        "print(\"=================================\")\n",
        "\n",
        "tril = torch.tril(torch.ones(T, T))\n",
        "print(\"Lower Triangular Matrix\")\n",
        "print(tril)\n",
        "print(\"=================================\")\n",
        "wei = torch.zeros((T,T))\n",
        "print(\"Weights initially\")\n",
        "print(wei)\n",
        "print(\"=================================\")\n",
        "wei = wei.masked_fill(tril == 0, float('-inf'))\n",
        "print(\"Masked weights\")\n",
        "print(wei)\n",
        "print(\"=================================\")\n",
        "wei = F.softmax(wei, dim=-1)\n",
        "print(\"Masked weights after softmax\")\n",
        "print(wei)\n",
        "print(\"=================================\")\n",
        "xbow = wei @ x\n",
        "print(\"Aggregation\")\n",
        "print(xbow.shape)\n",
        "\n",
        "print(\"Output\")\n",
        "print(xbow[0,:,:])\n",
        "print(\"=================================\")\n"
      ],
      "metadata": {
        "colab": {
          "base_uri": "https://localhost:8080/"
        },
        "id": "-dTnhV6dP0SJ",
        "outputId": "4e8f7764-7541-4c14-8e83-732b6b71c310"
      },
      "execution_count": 5,
      "outputs": [
        {
          "output_type": "stream",
          "name": "stdout",
          "text": [
            "Input\n",
            "tensor([[ 0.1808, -0.0700],\n",
            "        [-0.3596, -0.9152],\n",
            "        [ 0.6258,  0.0255],\n",
            "        [ 0.9545,  0.0643]])\n",
            "=================================\n",
            "Lower Triangular Matrix\n",
            "tensor([[1., 0., 0., 0.],\n",
            "        [1., 1., 0., 0.],\n",
            "        [1., 1., 1., 0.],\n",
            "        [1., 1., 1., 1.]])\n",
            "=================================\n",
            "Weights initially\n",
            "tensor([[0., 0., 0., 0.],\n",
            "        [0., 0., 0., 0.],\n",
            "        [0., 0., 0., 0.],\n",
            "        [0., 0., 0., 0.]])\n",
            "=================================\n",
            "Masked weights\n",
            "tensor([[0., -inf, -inf, -inf],\n",
            "        [0., 0., -inf, -inf],\n",
            "        [0., 0., 0., -inf],\n",
            "        [0., 0., 0., 0.]])\n",
            "=================================\n",
            "Masked weights after softmax\n",
            "tensor([[1.0000, 0.0000, 0.0000, 0.0000],\n",
            "        [0.5000, 0.5000, 0.0000, 0.0000],\n",
            "        [0.3333, 0.3333, 0.3333, 0.0000],\n",
            "        [0.2500, 0.2500, 0.2500, 0.2500]])\n",
            "=================================\n",
            "Aggregation\n",
            "torch.Size([4, 4, 2])\n",
            "Input\n",
            "tensor([[ 0.1808, -0.0700],\n",
            "        [-0.0894, -0.4926],\n",
            "        [ 0.1490, -0.3199],\n",
            "        [ 0.3504, -0.2238]])\n",
            "=================================\n"
          ]
        }
      ]
    },
    {
      "cell_type": "code",
      "source": [
        "# Masked Self Attention\n",
        "import torch\n",
        "import torch.nn as nn\n",
        "from torch.nn import functional as F\n",
        "torch.manual_seed(1337)\n",
        "B,T,C = 4,8,32 # batch, time, channels\n",
        "x = torch.randn(B,T,C)\n",
        "\n",
        "# Here we want the wei to be data dependent - ie gather info from the past but in a data dependant way\n",
        "\n",
        "# let's see a single Head perform self-attention\n",
        "head_size = 16\n",
        "key = nn.Linear(C, head_size, bias=False)\n",
        "query = nn.Linear(C, head_size, bias=False)\n",
        "value = nn.Linear(C, head_size, bias=False)\n",
        "k = key(x)   # (B, T, 16) # each token here (totally B*T) produce a key and query in parallel and independently\n",
        "q = query(x) # (B, T, 16)\n",
        "wei =  q @ k.transpose(-2, -1) * head_size**-0.5 # (B, T, 16) @ (B, 16, T) ---> (B, T, T). #\n",
        "\n",
        "\n",
        "tril = torch.tril(torch.ones(T, T))\n",
        "#wei = torch.zeros((T,T))\n",
        "\n",
        "wei = wei.masked_fill(tril == 0, float('-inf')) # this is only present in a decoder block not in an encoder\n",
        "print(wei[0]) # Wei is now not uniform anymore !! It is data dependent\n",
        "wei = F.softmax(wei, dim=-1) # exponentiate and normalize giving a nice distibution that sums to 1 and\n",
        "                             # now it tells us that in a data dependent manner how much of info to aggregate from any of the past tokens\n",
        "print(wei[0])\n",
        "v = value(x)\n",
        "out = wei @ v # aggregate the attention scores and value vector."
      ],
      "metadata": {
        "id": "rrF6o9Wx592j",
        "colab": {
          "base_uri": "https://localhost:8080/"
        },
        "outputId": "eeaf44c4-67d7-4101-e170-2a5bc391a721"
      },
      "execution_count": 1,
      "outputs": [
        {
          "output_type": "stream",
          "name": "stdout",
          "text": [
            "tensor([[-0.4407,    -inf,    -inf,    -inf,    -inf,    -inf,    -inf,    -inf],\n",
            "        [-0.8334, -0.4139,    -inf,    -inf,    -inf,    -inf,    -inf,    -inf],\n",
            "        [-0.2557, -0.3152,  0.0191,    -inf,    -inf,    -inf,    -inf,    -inf],\n",
            "        [ 0.1959, -0.2004, -0.0842, -0.2124,    -inf,    -inf,    -inf,    -inf],\n",
            "        [-0.3142,  0.0047, -0.1970, -0.3301,  0.5091,    -inf,    -inf,    -inf],\n",
            "        [-0.0782,  0.6038, -0.0276, -0.2483,  0.8362, -0.6307,    -inf,    -inf],\n",
            "        [ 0.2719,  0.4913, -0.0655, -0.0789,  0.1523,  0.3154, -0.1371,    -inf],\n",
            "        [-0.4511, -0.1031, -0.2077,  0.1475, -0.1997, -0.1464,  0.1608,  0.1576]],\n",
            "       grad_fn=<SelectBackward0>)\n",
            "tensor([[1.0000, 0.0000, 0.0000, 0.0000, 0.0000, 0.0000, 0.0000, 0.0000],\n",
            "        [0.3966, 0.6034, 0.0000, 0.0000, 0.0000, 0.0000, 0.0000, 0.0000],\n",
            "        [0.3069, 0.2892, 0.4039, 0.0000, 0.0000, 0.0000, 0.0000, 0.0000],\n",
            "        [0.3233, 0.2175, 0.2443, 0.2149, 0.0000, 0.0000, 0.0000, 0.0000],\n",
            "        [0.1479, 0.2034, 0.1663, 0.1455, 0.3369, 0.0000, 0.0000, 0.0000],\n",
            "        [0.1259, 0.2490, 0.1324, 0.1062, 0.3141, 0.0724, 0.0000, 0.0000],\n",
            "        [0.1598, 0.1990, 0.1140, 0.1125, 0.1418, 0.1669, 0.1061, 0.0000],\n",
            "        [0.0845, 0.1197, 0.1078, 0.1537, 0.1086, 0.1146, 0.1558, 0.1553]],\n",
            "       grad_fn=<SelectBackward0>)\n"
          ]
        }
      ]
    },
    {
      "cell_type": "code",
      "source": [
        "wei[0,:,:]\n",
        "out.shape\n"
      ],
      "metadata": {
        "colab": {
          "base_uri": "https://localhost:8080/"
        },
        "id": "EPNAUn-YQp7U",
        "outputId": "3004462e-81e5-4d1c-8eef-b1814cdb1d34"
      },
      "execution_count": null,
      "outputs": [
        {
          "output_type": "execute_result",
          "data": {
            "text/plain": [
              "torch.Size([4, 8, 16])"
            ]
          },
          "metadata": {},
          "execution_count": 14
        }
      ]
    },
    {
      "cell_type": "markdown",
      "source": [
        "Notes\n",
        "\n",
        "\n",
        "*   There is no notion of space in attention. It simply acts over a set of vectors. This is why we need to positionally encode tokens.\n",
        "\n",
        "*   Each example across batch dimension is of course processed completely independently and never \"talk\" to each other\n",
        "\n",
        "*   \"self-attention\" just means that the keys and values are produced from the same source as queries. In \"cross-attention\", the queries still get produced from x, but the keys and values come from some other, external source (e.g. an encoder module)\n",
        "\n",
        "\n",
        "*   \"Scaled\" attention additional divides wei by 1/sqrt(head_size). This helps prevent the attention weights (which usually has a variance on the order of head_size) from becoming too small or too large, which could lead to numerical instability or affect the model’s ability to converge during training. So essentially you would ideally want the result of attention to be fairly diffused especially upon initialization before applying the softmax function. Hence, scaling is used control the variance at initialization.\n",
        "\n",
        "*   In an \"encoder\" attention block just delete the single line that does masking with tril, allowing all tokens to communicate.\n",
        "\n",
        "\n"
      ],
      "metadata": {
        "id": "fyH12btAVtpa"
      }
    },
    {
      "cell_type": "markdown",
      "source": [
        "## Multi Head Attention\n",
        "\n",
        "Until now we have seen what happens under a single scaled dot-product attention, where the input sequence was transformed using three matrices representing the query, key, and value. These three matrices can be considered as a single attention head in the context of multi-head attention. Multi-head attention involves multiple such heads in parallel, each consisting of its own query, key, and value matrices and finally concatenating the results. It expands the model’s ability to focus on different positions and provides multiple “representation subspaces”.\n",
        "\n",
        "\n",
        "\n",
        "\n",
        "<img src=\"https://github.com/brettin/llm_tutorial/blob/main/tutorials/01-LLMs101/Images/MultiHeadAttention.png?raw=1\" width=\"200\">\n",
        "\n",
        "Source: [Attention Is all you need](https://arxiv.org/pdf/1706.03762.pdf)\n",
        "\n",
        "<img src=\"https://github.com/brettin/llm_tutorial/blob/main/tutorials/01-LLMs101/Images/MHA_DP.png?raw=1\" width=\"500\">\n",
        "\n",
        "Source: [jalammar](http://jalammar.github.io/illustrated-transformer/)\n",
        "\n",
        "Note: The weights are split uniformly across the Attention heads by choosing **head_size = n_embed / n_heads**.\n",
        "\n",
        "\n"
      ],
      "metadata": {
        "id": "hzJsKf48c6Pp"
      }
    },
    {
      "cell_type": "code",
      "source": [
        "class Head(nn.Module):\n",
        "    \"\"\" one head of self-attention \"\"\"\n",
        "\n",
        "    def __init__(self, head_size):\n",
        "        super().__init__()\n",
        "        self.key = nn.Linear(n_embd, head_size, bias=False)\n",
        "        self.query = nn.Linear(n_embd, head_size, bias=False)\n",
        "        self.value = nn.Linear(n_embd, head_size, bias=False)\n",
        "        self.register_buffer('tril', torch.tril(torch.ones(block_size, block_size)))\n",
        "\n",
        "        self.dropout = nn.Dropout(dropout)\n",
        "\n",
        "    def forward(self, x):\n",
        "        B,T,C = x.shape\n",
        "        k = self.key(x)   # (B,T,C)\n",
        "        q = self.query(x) # (B,T,C)\n",
        "        # compute attention scores (\"affinities\")\n",
        "        wei = q @ k.transpose(-2,-1) * C**-0.5 # (B, T, C) @ (B, C, T) -> (B, T, T)\n",
        "        wei = wei.masked_fill(self.tril[:T, :T] == 0, float('-inf')) # (B, T, T)\n",
        "        wei = F.softmax(wei, dim=-1) # (B, T, T)\n",
        "        wei = self.dropout(wei)\n",
        "        # perform the weighted aggregation of the values\n",
        "        v = self.value(x) # (B,T,C)\n",
        "        out = wei @ v # (B, T, T) @ (B, T, C) -> (B, T, C)\n",
        "        return out\n",
        "\n",
        "class MultiHeadAttention(nn.Module):\n",
        "    \"\"\" multiple heads of self-attention in parallel \"\"\"\n",
        "\n",
        "    def __init__(self, num_heads, head_size):\n",
        "        super().__init__()\n",
        "        self.heads = nn.ModuleList([Head(head_size) for _ in range(num_heads)])\n",
        "        self.proj = nn.Linear(n_embd, n_embd)\n",
        "        self.dropout = nn.Dropout(dropout)\n",
        "\n",
        "    def forward(self, x):\n",
        "        out = torch.cat([h(x) for h in self.heads], dim=-1)\n",
        "        out = self.dropout(self.proj(out))\n",
        "        return out"
      ],
      "metadata": {
        "id": "FjYmAc8x_-Zu"
      },
      "execution_count": null,
      "outputs": []
    },
    {
      "cell_type": "markdown",
      "source": [
        "Note: This is a very naive implementation using a loop. But the efficient way of implementation involves only a single data matrix for the Q, K, and V, respectively (reshaped to a dimension (Batch, Head, TimeStep, Head size)) with logically separate sections of the matrix for each Attention head.\n",
        "Reshape functions are used to split and merging of the weight matrices. For more information [refer](https://towardsdatascience.com/transformers-explained-visually-part-3-multi-head-attention-deep-dive-1c1ff1024853).\n"
      ],
      "metadata": {
        "id": "X4FHlsyYbjH2"
      }
    },
    {
      "cell_type": "markdown",
      "source": [
        "## Feed Forward Network\n",
        "\n",
        "Now with all the communication completed with multi headed self attention, we follow it with a feed forward network that is a simple multi layer perceptron(MLP). This layer is applied on a per token basis with each token processed(thinks on the data) independently. Usually the inner layer dimensionality has a multiple factor of 4 as compared to the input of the feedforward layer."
      ],
      "metadata": {
        "id": "LljgRR2ZArJB"
      }
    },
    {
      "cell_type": "code",
      "source": [
        "class FeedFoward(nn.Module):\n",
        "    \"\"\" a simple linear layer followed by a non-linearity \"\"\"\n",
        "\n",
        "    def __init__(self, n_embd):\n",
        "        super().__init__()\n",
        "        self.net = nn.Sequential(\n",
        "            nn.Linear(n_embd, 4 * n_embd),\n",
        "            nn.ReLU()\n",
        "        )\n",
        "\n",
        "    def forward(self, x):\n",
        "        return self.net(x)"
      ],
      "metadata": {
        "id": "SfqoaofsCicM"
      },
      "execution_count": null,
      "outputs": []
    },
    {
      "cell_type": "markdown",
      "source": [
        "## Residual Connection and Layer norm\n",
        "\n",
        "Skip connection or residual connections are added at both the attention as well as the feedforward layers. The skip connections combat the vanishing gradient problem, thus enabling deeper networks. For more information on skip connections [refer](https://arxiv.org/pdf/1512.03385.pdf).\n",
        "\n",
        "In the original paper, the layer norm is applied after the attention or feedforward layer. But now-a-days it is more common to have the normalization applied before the attention and feed-forward layers. The layer-norm normalizes over the entire row."
      ],
      "metadata": {
        "id": "8BWQF_pgDXAz"
      }
    },
    {
      "cell_type": "code",
      "source": [
        "    def forward(self, x):\n",
        "        x = x + self.sa(self.ln1(x))    # Communication / Attention\n",
        "        x = x + self.ffwd(self.ln2(x))  # Computation\n",
        "        return x"
      ],
      "metadata": {
        "id": "JNfwQp8IHy4N"
      },
      "execution_count": null,
      "outputs": []
    },
    {
      "cell_type": "code",
      "source": [
        "import torch\n",
        "class LayerNorm1d: # (used to be BatchNorm1d)\n",
        "\n",
        "  def __init__(self, dim, eps=1e-5, momentum=0.1):\n",
        "    self.eps = eps\n",
        "    self.gamma = torch.ones(dim)\n",
        "    self.beta = torch.zeros(dim)\n",
        "\n",
        "  def __call__(self, x):\n",
        "    # calculate the forward pass\n",
        "    xmean = x.mean(1, keepdim=True)\n",
        "    xvar = x.var(1, keepdim=True)\n",
        "    xhat = (x - xmean) / torch.sqrt(xvar + self.eps) # normalize the rows to 0 mean and unit variance\n",
        "    self.out = self.gamma * xhat + self.beta\n",
        "    return self.out\n",
        "\n",
        "  def parameters(self):\n",
        "    return [self.gamma, self.beta] # trainable params\n",
        "\n",
        "torch.manual_seed(1337)\n",
        "module = LayerNorm1d(5)\n",
        "x = torch.randn(3, 5) # batch size 32 of 100-dimensional vectors\n",
        "x = module(x)\n",
        "x.shape"
      ],
      "metadata": {
        "id": "4VEyJ-uyAb6x",
        "outputId": "98dd9aca-3867-45d1-8e35-981cc7913664",
        "colab": {
          "base_uri": "https://localhost:8080/"
        }
      },
      "execution_count": null,
      "outputs": [
        {
          "output_type": "execute_result",
          "data": {
            "text/plain": [
              "torch.Size([3, 5])"
            ]
          },
          "metadata": {},
          "execution_count": 11
        }
      ]
    },
    {
      "cell_type": "markdown",
      "source": [
        "## Full finished code, for reference"
      ],
      "metadata": {
        "id": "tUjEOeHNZOyo"
      }
    },
    {
      "cell_type": "code",
      "source": [
        "import torch\n",
        "import torch.nn as nn\n",
        "from torch.nn import functional as F\n",
        "\n",
        "# hyperparameters\n",
        "batch_size = 16 # how many independent sequences will we process in parallel?\n",
        "block_size = 32 # what is the maximum context length for predictions?\n",
        "max_iters = 5000\n",
        "eval_interval = 100\n",
        "learning_rate = 1e-3\n",
        "device = 'cuda' if torch.cuda.is_available() else 'cpu'\n",
        "eval_iters = 200\n",
        "n_embd = 64\n",
        "n_head = 4 ## so head_size = 16\n",
        "n_layer = 4\n",
        "dropout = 0.0\n",
        "# ------------\n",
        "\n",
        "torch.manual_seed(1337)\n",
        "\n",
        "!wget https://raw.githubusercontent.com/karpathy/char-rnn/master/data/tinyshakespeare/input.txt\n",
        "with open('input.txt', 'r', encoding='utf-8') as f:\n",
        "    text = f.read()\n",
        "\n",
        "# here are all the unique characters that occur in this text\n",
        "chars = sorted(list(set(text)))\n",
        "vocab_size = len(chars)\n",
        "# create a mapping from characters to integers\n",
        "stoi = { ch:i for i,ch in enumerate(chars) }\n",
        "itos = { i:ch for i,ch in enumerate(chars) }\n",
        "encode = lambda s: [stoi[c] for c in s] # encoder: take a string, output a list of integers\n",
        "decode = lambda l: ''.join([itos[i] for i in l]) # decoder: take a list of integers, output a string\n",
        "\n",
        "# Train and test splits\n",
        "data = torch.tensor(encode(text), dtype=torch.long)\n",
        "n = int(0.9*len(data)) # first 90% will be train, rest val\n",
        "train_data = data[:n]\n",
        "val_data = data[n:]\n",
        "\n",
        "# data loading\n",
        "def get_batch(split):\n",
        "    # generate a small batch of data of inputs x and targets y\n",
        "    data = train_data if split == 'train' else val_data\n",
        "    ix = torch.randint(len(data) - block_size, (batch_size,))\n",
        "    x = torch.stack([data[i:i+block_size] for i in ix])\n",
        "    y = torch.stack([data[i+1:i+block_size+1] for i in ix])\n",
        "    x, y = x.to(device), y.to(device)\n",
        "    return x, y\n",
        "\n",
        "@torch.no_grad()\n",
        "def estimate_loss():\n",
        "    out = {}\n",
        "    model.eval()\n",
        "    for split in ['train', 'val']:\n",
        "        losses = torch.zeros(eval_iters)\n",
        "        for k in range(eval_iters):\n",
        "            X, Y = get_batch(split)\n",
        "            logits, loss = model(X, Y)\n",
        "            losses[k] = loss.item()\n",
        "        out[split] = losses.mean()\n",
        "    model.train()\n",
        "    return out\n",
        "\n",
        "class Head(nn.Module):\n",
        "    \"\"\" one head of self-attention \"\"\"\n",
        "\n",
        "    def __init__(self, head_size):\n",
        "        super().__init__()\n",
        "        self.key = nn.Linear(n_embd, head_size, bias=False)\n",
        "        self.query = nn.Linear(n_embd, head_size, bias=False)\n",
        "        self.value = nn.Linear(n_embd, head_size, bias=False)\n",
        "        self.register_buffer('tril', torch.tril(torch.ones(block_size, block_size)))\n",
        "\n",
        "        self.dropout = nn.Dropout(dropout)\n",
        "\n",
        "    def forward(self, x):\n",
        "        B,T,C = x.shape\n",
        "        k = self.key(x)   # (B,T,C) 16,32,16\n",
        "        q = self.query(x) # (B,T,C)\n",
        "        # compute attention scores (\"affinities\")\n",
        "        wei = q @ k.transpose(-2,-1) * C**-0.5 # (B, T, C) @ (B, C, T) -> (B, T, T)\n",
        "        wei = wei.masked_fill(self.tril[:T, :T] == 0, float('-inf')) # (B, T, T)\n",
        "        wei = F.softmax(wei, dim=-1) # (B, T, T)\n",
        "        wei = self.dropout(wei)\n",
        "        # perform the weighted aggregation of the values\n",
        "        v = self.value(x) # (B,T,C)\n",
        "        out = wei @ v # (B, T, T) @ (B, T, C) -> (B, T, C)\n",
        "        return out\n",
        "\n",
        "class MultiHeadAttention(nn.Module):\n",
        "    \"\"\" multiple heads of self-attention in parallel \"\"\"\n",
        "\n",
        "    def __init__(self, num_heads, head_size):\n",
        "        super().__init__()\n",
        "        self.heads = nn.ModuleList([Head(head_size) for _ in range(num_heads)])\n",
        "        self.proj = nn.Linear(n_embd, n_embd)\n",
        "        self.dropout = nn.Dropout(dropout)\n",
        "\n",
        "    def forward(self, x):\n",
        "        out = torch.cat([h(x) for h in self.heads], dim=-1)\n",
        "        out = self.dropout(self.proj(out))\n",
        "        return out\n",
        "\n",
        "class FeedFoward(nn.Module):\n",
        "    \"\"\" a simple linear layer followed by a non-linearity \"\"\"\n",
        "\n",
        "    def __init__(self, n_embd):\n",
        "        super().__init__()\n",
        "        self.net = nn.Sequential(\n",
        "            nn.Linear(n_embd, 4 * n_embd),\n",
        "            nn.ReLU(),\n",
        "            nn.Linear(4 * n_embd, n_embd), # Projection layer going back into the residual pathway\n",
        "            nn.Dropout(dropout),\n",
        "        )\n",
        "\n",
        "    def forward(self, x):\n",
        "        return self.net(x)\n",
        "\n",
        "class Block(nn.Module):\n",
        "    \"\"\" Transformer block: communication followed by computation \"\"\"\n",
        "\n",
        "    def __init__(self, n_embd, n_head):\n",
        "        # n_embd: embedding dimension, n_head: the number of heads we'd like\n",
        "        super().__init__()\n",
        "        head_size = n_embd // n_head\n",
        "        self.sa = MultiHeadAttention(n_head, head_size)\n",
        "        self.ffwd = FeedFoward(n_embd)\n",
        "        self.ln1 = nn.LayerNorm(n_embd)\n",
        "        self.ln2 = nn.LayerNorm(n_embd)\n",
        "\n",
        "    def forward(self, x):\n",
        "        x = x + self.sa(self.ln1(x))    # Communication\n",
        "        x = x + self.ffwd(self.ln2(x))  # Computation\n",
        "        return x\n",
        "\n",
        "# super simple bigram model\n",
        "class BigramLanguageModel(nn.Module):\n",
        "\n",
        "    def __init__(self):\n",
        "        super().__init__()\n",
        "        # each token directly reads off the logits for the next token from a lookup table\n",
        "        self.token_embedding_table = nn.Embedding(vocab_size, n_embd)\n",
        "        self.position_embedding_table = nn.Embedding(block_size, n_embd)\n",
        "        self.blocks = nn.Sequential(*[Block(n_embd, n_head=n_head) for _ in range(n_layer)])\n",
        "        self.ln_f = nn.LayerNorm(n_embd) # final layer norm\n",
        "        self.lm_head = nn.Linear(n_embd, vocab_size)\n",
        "\n",
        "    def forward(self, idx, targets=None):\n",
        "        B, T = idx.shape\n",
        "\n",
        "        # idx and targets are both (B,T) tensor of integers\n",
        "        tok_emb = self.token_embedding_table(idx) # (B,T,C)\n",
        "        pos_emb = self.position_embedding_table(torch.arange(T, device=device)) # (T,C)\n",
        "        x = tok_emb + pos_emb # (B,T,C)\n",
        "        x = self.blocks(x) # (B,T,C)\n",
        "        x = self.ln_f(x) # (B,T,C)\n",
        "        logits = self.lm_head(x) # (B,T,vocab_size)\n",
        "\n",
        "        if targets is None:\n",
        "            loss = None\n",
        "        else:\n",
        "            B, T, C = logits.shape\n",
        "            logits = logits.view(B*T, C)\n",
        "            targets = targets.view(B*T)\n",
        "            loss = F.cross_entropy(logits, targets)\n",
        "\n",
        "        return logits, loss\n",
        "\n",
        "    def generate(self, idx, max_new_tokens):\n",
        "        # idx is (B, T) array of indices in the current context\n",
        "        for _ in range(max_new_tokens):\n",
        "            # crop idx to the last block_size tokens\n",
        "            idx_cond = idx[:, -block_size:]\n",
        "            # get the predictions\n",
        "            logits, loss = self(idx_cond)\n",
        "            # focus only on the last time step\n",
        "            logits = logits[:, -1, :] # becomes (B, C)\n",
        "            # apply softmax to get probabilities\n",
        "            probs = F.softmax(logits, dim=-1) # (B, C)\n",
        "            # sample from the distribution\n",
        "            idx_next = torch.multinomial(probs, num_samples=1) # (B, 1)\n",
        "            # append sampled index to the running sequence\n",
        "            idx = torch.cat((idx, idx_next), dim=1) # (B, T+1)\n",
        "        return idx\n",
        "\n",
        "model = BigramLanguageModel()\n",
        "m = model.to(device)\n",
        "# print the number of parameters in the model\n",
        "print(sum(p.numel() for p in m.parameters())/1e6, 'M parameters')\n",
        "\n",
        "# create a PyTorch optimizer\n",
        "optimizer = torch.optim.AdamW(model.parameters(), lr=learning_rate)\n",
        "\n",
        "for iter in range(max_iters):\n",
        "\n",
        "    # every once in a while evaluate the loss on train and val sets\n",
        "    if iter % eval_interval == 0 or iter == max_iters - 1:\n",
        "        losses = estimate_loss()\n",
        "        print(f\"step {iter}: train loss {losses['train']:.4f}, val loss {losses['val']:.4f}\")\n",
        "\n",
        "    # sample a batch of data\n",
        "    xb, yb = get_batch('train')\n",
        "\n",
        "    # evaluate the loss\n",
        "    logits, loss = model(xb, yb)\n",
        "    optimizer.zero_grad(set_to_none=True)\n",
        "    loss.backward()\n",
        "    optimizer.step()\n",
        "\n",
        "# generate from the model\n",
        "context = torch.zeros((1, 1), dtype=torch.long, device=device)\n",
        "print(decode(m.generate(context, max_new_tokens=2000)[0].tolist()))\n"
      ],
      "metadata": {
        "id": "N6r5ZIMkZDQB",
        "outputId": "4e278c60-3c74-42dc-ca46-a646ddee8af0",
        "colab": {
          "base_uri": "https://localhost:8080/"
        }
      },
      "execution_count": null,
      "outputs": [
        {
          "output_type": "stream",
          "name": "stdout",
          "text": [
            "--2023-11-29 04:58:33--  https://raw.githubusercontent.com/karpathy/char-rnn/master/data/tinyshakespeare/input.txt\n",
            "Resolving raw.githubusercontent.com (raw.githubusercontent.com)... 185.199.108.133, 185.199.109.133, 185.199.110.133, ...\n",
            "Connecting to raw.githubusercontent.com (raw.githubusercontent.com)|185.199.108.133|:443... connected.\n",
            "HTTP request sent, awaiting response... 200 OK\n",
            "Length: 1115394 (1.1M) [text/plain]\n",
            "Saving to: ‘input.txt.9’\n",
            "\n",
            "\rinput.txt.9           0%[                    ]       0  --.-KB/s               \rinput.txt.9         100%[===================>]   1.06M  --.-KB/s    in 0.01s   \n",
            "\n",
            "2023-11-29 04:58:34 (96.3 MB/s) - ‘input.txt.9’ saved [1115394/1115394]\n",
            "\n",
            "0.209729 M parameters\n",
            "step 0: train loss 4.4116, val loss 4.4022\n",
            "step 100: train loss 2.6568, val loss 2.6670\n",
            "step 200: train loss 2.5091, val loss 2.5060\n",
            "step 300: train loss 2.4199, val loss 2.4337\n",
            "step 400: train loss 2.3500, val loss 2.3563\n",
            "step 500: train loss 2.2961, val loss 2.3126\n",
            "step 600: train loss 2.2408, val loss 2.2501\n",
            "step 700: train loss 2.2053, val loss 2.2187\n",
            "step 800: train loss 2.1636, val loss 2.1870\n",
            "step 900: train loss 2.1226, val loss 2.1483\n",
            "step 1000: train loss 2.1017, val loss 2.1283\n",
            "step 1100: train loss 2.0683, val loss 2.1174\n",
            "step 1200: train loss 2.0376, val loss 2.0798\n",
            "step 1300: train loss 2.0256, val loss 2.0645\n",
            "step 1400: train loss 1.9919, val loss 2.0362\n",
            "step 1500: train loss 1.9696, val loss 2.0304\n",
            "step 1600: train loss 1.9625, val loss 2.0470\n",
            "step 1700: train loss 1.9402, val loss 2.0119\n",
            "step 1800: train loss 1.9085, val loss 1.9957\n",
            "step 1900: train loss 1.9080, val loss 1.9869\n",
            "step 2000: train loss 1.8834, val loss 1.9941\n",
            "step 2100: train loss 1.8727, val loss 1.9758\n",
            "step 2200: train loss 1.8585, val loss 1.9622\n",
            "step 2300: train loss 1.8537, val loss 1.9503\n",
            "step 2400: train loss 1.8419, val loss 1.9424\n",
            "step 2500: train loss 1.8153, val loss 1.9407\n"
          ]
        }
      ]
    },
    {
      "cell_type": "markdown",
      "source": [
        "# References\n",
        "\n",
        "\n",
        "*   http://jalammar.github.io/illustrated-gpt2/\n",
        "*   Vaswani et al, Attention is all you need. arXiv:1706.03762 [cs.CL]\n",
        "*   https://sebastianraschka.com/blog/2023/self-attention-from-scratch.html\n",
        "*   http://jalammar.github.io/illustrated-transformer/\n",
        "*   https://jinglescode.github.io/2020/05/27/illustrated-guide-transformer/\n",
        "*   https://towardsdatascience.com/getting-started-with-recurrent-neural-network-rnns-ad1791206412\n",
        "*  https://www.youtube.com/watch?v=kCc8FmEb1nY\n",
        "* https://colab.research.google.com/drive/1JMLa53HDuA-i7ZBmqV7ZnA3c_fvtXnx-?usp=sharing\n",
        "*   https://towardsdatascience.com/transformers-explained-visually-part-3-multi-head-attention-deep-dive-1c1ff1024853\n",
        "\n",
        "\n",
        "\n",
        "\n"
      ],
      "metadata": {
        "id": "rNWA2FtPffnp"
      }
    }
  ]
}