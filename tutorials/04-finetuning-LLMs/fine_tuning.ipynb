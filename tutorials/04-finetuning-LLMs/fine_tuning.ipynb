{
  "nbformat": 4,
  "nbformat_minor": 0,
  "metadata": {
    "colab": {
      "provenance": [],
      "gpuType": "T4"
    },
    "kernelspec": {
      "name": "python3",
      "display_name": "Python 3"
    },
    "language_info": {
      "name": "python"
    },
    "accelerator": "GPU",
    "widgets": {
      "application/vnd.jupyter.widget-state+json": {
        "97a1091b68054624a1c87eef7f2115a7": {
          "model_module": "@jupyter-widgets/controls",
          "model_name": "HBoxModel",
          "model_module_version": "1.5.0",
          "state": {
            "_dom_classes": [],
            "_model_module": "@jupyter-widgets/controls",
            "_model_module_version": "1.5.0",
            "_model_name": "HBoxModel",
            "_view_count": null,
            "_view_module": "@jupyter-widgets/controls",
            "_view_module_version": "1.5.0",
            "_view_name": "HBoxView",
            "box_style": "",
            "children": [
              "IPY_MODEL_9f3abd9cd00a41a59f719832cb87f4db",
              "IPY_MODEL_17b8fc85aab54d32b2165a477e2b05c3",
              "IPY_MODEL_0265c26dec494b658ceaf4b584e9cd74"
            ],
            "layout": "IPY_MODEL_0cf44aae767d4186af5fb8db8d77fde4"
          }
        },
        "9f3abd9cd00a41a59f719832cb87f4db": {
          "model_module": "@jupyter-widgets/controls",
          "model_name": "HTMLModel",
          "model_module_version": "1.5.0",
          "state": {
            "_dom_classes": [],
            "_model_module": "@jupyter-widgets/controls",
            "_model_module_version": "1.5.0",
            "_model_name": "HTMLModel",
            "_view_count": null,
            "_view_module": "@jupyter-widgets/controls",
            "_view_module_version": "1.5.0",
            "_view_name": "HTMLView",
            "description": "",
            "description_tooltip": null,
            "layout": "IPY_MODEL_b1ee3d96dce54514984d017292f7fd01",
            "placeholder": "​",
            "style": "IPY_MODEL_46299507cac64a5eb5ee82c9a095103d",
            "value": "Generating train split: 100%"
          }
        },
        "17b8fc85aab54d32b2165a477e2b05c3": {
          "model_module": "@jupyter-widgets/controls",
          "model_name": "FloatProgressModel",
          "model_module_version": "1.5.0",
          "state": {
            "_dom_classes": [],
            "_model_module": "@jupyter-widgets/controls",
            "_model_module_version": "1.5.0",
            "_model_name": "FloatProgressModel",
            "_view_count": null,
            "_view_module": "@jupyter-widgets/controls",
            "_view_module_version": "1.5.0",
            "_view_name": "ProgressView",
            "bar_style": "success",
            "description": "",
            "description_tooltip": null,
            "layout": "IPY_MODEL_aa362240874942a5ab3dbb8eb7eeca48",
            "max": 650000,
            "min": 0,
            "orientation": "horizontal",
            "style": "IPY_MODEL_5375285f49e34d6cb9718b27ebe134a3",
            "value": 650000
          }
        },
        "0265c26dec494b658ceaf4b584e9cd74": {
          "model_module": "@jupyter-widgets/controls",
          "model_name": "HTMLModel",
          "model_module_version": "1.5.0",
          "state": {
            "_dom_classes": [],
            "_model_module": "@jupyter-widgets/controls",
            "_model_module_version": "1.5.0",
            "_model_name": "HTMLModel",
            "_view_count": null,
            "_view_module": "@jupyter-widgets/controls",
            "_view_module_version": "1.5.0",
            "_view_name": "HTMLView",
            "description": "",
            "description_tooltip": null,
            "layout": "IPY_MODEL_24207244c06847379426fba19d231e78",
            "placeholder": "​",
            "style": "IPY_MODEL_835af55b53834a5e8b586a0cf66d012d",
            "value": " 650000/650000 [00:40&lt;00:00, 25845.06 examples/s]"
          }
        },
        "0cf44aae767d4186af5fb8db8d77fde4": {
          "model_module": "@jupyter-widgets/base",
          "model_name": "LayoutModel",
          "model_module_version": "1.2.0",
          "state": {
            "_model_module": "@jupyter-widgets/base",
            "_model_module_version": "1.2.0",
            "_model_name": "LayoutModel",
            "_view_count": null,
            "_view_module": "@jupyter-widgets/base",
            "_view_module_version": "1.2.0",
            "_view_name": "LayoutView",
            "align_content": null,
            "align_items": null,
            "align_self": null,
            "border": null,
            "bottom": null,
            "display": null,
            "flex": null,
            "flex_flow": null,
            "grid_area": null,
            "grid_auto_columns": null,
            "grid_auto_flow": null,
            "grid_auto_rows": null,
            "grid_column": null,
            "grid_gap": null,
            "grid_row": null,
            "grid_template_areas": null,
            "grid_template_columns": null,
            "grid_template_rows": null,
            "height": null,
            "justify_content": null,
            "justify_items": null,
            "left": null,
            "margin": null,
            "max_height": null,
            "max_width": null,
            "min_height": null,
            "min_width": null,
            "object_fit": null,
            "object_position": null,
            "order": null,
            "overflow": null,
            "overflow_x": null,
            "overflow_y": null,
            "padding": null,
            "right": null,
            "top": null,
            "visibility": null,
            "width": null
          }
        },
        "b1ee3d96dce54514984d017292f7fd01": {
          "model_module": "@jupyter-widgets/base",
          "model_name": "LayoutModel",
          "model_module_version": "1.2.0",
          "state": {
            "_model_module": "@jupyter-widgets/base",
            "_model_module_version": "1.2.0",
            "_model_name": "LayoutModel",
            "_view_count": null,
            "_view_module": "@jupyter-widgets/base",
            "_view_module_version": "1.2.0",
            "_view_name": "LayoutView",
            "align_content": null,
            "align_items": null,
            "align_self": null,
            "border": null,
            "bottom": null,
            "display": null,
            "flex": null,
            "flex_flow": null,
            "grid_area": null,
            "grid_auto_columns": null,
            "grid_auto_flow": null,
            "grid_auto_rows": null,
            "grid_column": null,
            "grid_gap": null,
            "grid_row": null,
            "grid_template_areas": null,
            "grid_template_columns": null,
            "grid_template_rows": null,
            "height": null,
            "justify_content": null,
            "justify_items": null,
            "left": null,
            "margin": null,
            "max_height": null,
            "max_width": null,
            "min_height": null,
            "min_width": null,
            "object_fit": null,
            "object_position": null,
            "order": null,
            "overflow": null,
            "overflow_x": null,
            "overflow_y": null,
            "padding": null,
            "right": null,
            "top": null,
            "visibility": null,
            "width": null
          }
        },
        "46299507cac64a5eb5ee82c9a095103d": {
          "model_module": "@jupyter-widgets/controls",
          "model_name": "DescriptionStyleModel",
          "model_module_version": "1.5.0",
          "state": {
            "_model_module": "@jupyter-widgets/controls",
            "_model_module_version": "1.5.0",
            "_model_name": "DescriptionStyleModel",
            "_view_count": null,
            "_view_module": "@jupyter-widgets/base",
            "_view_module_version": "1.2.0",
            "_view_name": "StyleView",
            "description_width": ""
          }
        },
        "aa362240874942a5ab3dbb8eb7eeca48": {
          "model_module": "@jupyter-widgets/base",
          "model_name": "LayoutModel",
          "model_module_version": "1.2.0",
          "state": {
            "_model_module": "@jupyter-widgets/base",
            "_model_module_version": "1.2.0",
            "_model_name": "LayoutModel",
            "_view_count": null,
            "_view_module": "@jupyter-widgets/base",
            "_view_module_version": "1.2.0",
            "_view_name": "LayoutView",
            "align_content": null,
            "align_items": null,
            "align_self": null,
            "border": null,
            "bottom": null,
            "display": null,
            "flex": null,
            "flex_flow": null,
            "grid_area": null,
            "grid_auto_columns": null,
            "grid_auto_flow": null,
            "grid_auto_rows": null,
            "grid_column": null,
            "grid_gap": null,
            "grid_row": null,
            "grid_template_areas": null,
            "grid_template_columns": null,
            "grid_template_rows": null,
            "height": null,
            "justify_content": null,
            "justify_items": null,
            "left": null,
            "margin": null,
            "max_height": null,
            "max_width": null,
            "min_height": null,
            "min_width": null,
            "object_fit": null,
            "object_position": null,
            "order": null,
            "overflow": null,
            "overflow_x": null,
            "overflow_y": null,
            "padding": null,
            "right": null,
            "top": null,
            "visibility": null,
            "width": null
          }
        },
        "5375285f49e34d6cb9718b27ebe134a3": {
          "model_module": "@jupyter-widgets/controls",
          "model_name": "ProgressStyleModel",
          "model_module_version": "1.5.0",
          "state": {
            "_model_module": "@jupyter-widgets/controls",
            "_model_module_version": "1.5.0",
            "_model_name": "ProgressStyleModel",
            "_view_count": null,
            "_view_module": "@jupyter-widgets/base",
            "_view_module_version": "1.2.0",
            "_view_name": "StyleView",
            "bar_color": null,
            "description_width": ""
          }
        },
        "24207244c06847379426fba19d231e78": {
          "model_module": "@jupyter-widgets/base",
          "model_name": "LayoutModel",
          "model_module_version": "1.2.0",
          "state": {
            "_model_module": "@jupyter-widgets/base",
            "_model_module_version": "1.2.0",
            "_model_name": "LayoutModel",
            "_view_count": null,
            "_view_module": "@jupyter-widgets/base",
            "_view_module_version": "1.2.0",
            "_view_name": "LayoutView",
            "align_content": null,
            "align_items": null,
            "align_self": null,
            "border": null,
            "bottom": null,
            "display": null,
            "flex": null,
            "flex_flow": null,
            "grid_area": null,
            "grid_auto_columns": null,
            "grid_auto_flow": null,
            "grid_auto_rows": null,
            "grid_column": null,
            "grid_gap": null,
            "grid_row": null,
            "grid_template_areas": null,
            "grid_template_columns": null,
            "grid_template_rows": null,
            "height": null,
            "justify_content": null,
            "justify_items": null,
            "left": null,
            "margin": null,
            "max_height": null,
            "max_width": null,
            "min_height": null,
            "min_width": null,
            "object_fit": null,
            "object_position": null,
            "order": null,
            "overflow": null,
            "overflow_x": null,
            "overflow_y": null,
            "padding": null,
            "right": null,
            "top": null,
            "visibility": null,
            "width": null
          }
        },
        "835af55b53834a5e8b586a0cf66d012d": {
          "model_module": "@jupyter-widgets/controls",
          "model_name": "DescriptionStyleModel",
          "model_module_version": "1.5.0",
          "state": {
            "_model_module": "@jupyter-widgets/controls",
            "_model_module_version": "1.5.0",
            "_model_name": "DescriptionStyleModel",
            "_view_count": null,
            "_view_module": "@jupyter-widgets/base",
            "_view_module_version": "1.2.0",
            "_view_name": "StyleView",
            "description_width": ""
          }
        },
        "fa2841797314418496aa1da7080fbd02": {
          "model_module": "@jupyter-widgets/controls",
          "model_name": "HBoxModel",
          "model_module_version": "1.5.0",
          "state": {
            "_dom_classes": [],
            "_model_module": "@jupyter-widgets/controls",
            "_model_module_version": "1.5.0",
            "_model_name": "HBoxModel",
            "_view_count": null,
            "_view_module": "@jupyter-widgets/controls",
            "_view_module_version": "1.5.0",
            "_view_name": "HBoxView",
            "box_style": "",
            "children": [
              "IPY_MODEL_727dd13d287b45c4bfd376c81d68e9c6",
              "IPY_MODEL_3ed66a4d26984e44bd286aa3fc8656bf",
              "IPY_MODEL_5753d1771d7d43ad8537e84af4577767"
            ],
            "layout": "IPY_MODEL_803a9128c8224396939ec67ef1a4b6a0"
          }
        },
        "727dd13d287b45c4bfd376c81d68e9c6": {
          "model_module": "@jupyter-widgets/controls",
          "model_name": "HTMLModel",
          "model_module_version": "1.5.0",
          "state": {
            "_dom_classes": [],
            "_model_module": "@jupyter-widgets/controls",
            "_model_module_version": "1.5.0",
            "_model_name": "HTMLModel",
            "_view_count": null,
            "_view_module": "@jupyter-widgets/controls",
            "_view_module_version": "1.5.0",
            "_view_name": "HTMLView",
            "description": "",
            "description_tooltip": null,
            "layout": "IPY_MODEL_934f077612c04062b52fb4e3b6d808a3",
            "placeholder": "​",
            "style": "IPY_MODEL_32869f736d434b44ae8cae510116bb5e",
            "value": "Generating test split: 100%"
          }
        },
        "3ed66a4d26984e44bd286aa3fc8656bf": {
          "model_module": "@jupyter-widgets/controls",
          "model_name": "FloatProgressModel",
          "model_module_version": "1.5.0",
          "state": {
            "_dom_classes": [],
            "_model_module": "@jupyter-widgets/controls",
            "_model_module_version": "1.5.0",
            "_model_name": "FloatProgressModel",
            "_view_count": null,
            "_view_module": "@jupyter-widgets/controls",
            "_view_module_version": "1.5.0",
            "_view_name": "ProgressView",
            "bar_style": "success",
            "description": "",
            "description_tooltip": null,
            "layout": "IPY_MODEL_a759748bf65f414ab3536ecd101428ae",
            "max": 50000,
            "min": 0,
            "orientation": "horizontal",
            "style": "IPY_MODEL_b4333069cbd545e6b1c5d27bcf7411c2",
            "value": 50000
          }
        },
        "5753d1771d7d43ad8537e84af4577767": {
          "model_module": "@jupyter-widgets/controls",
          "model_name": "HTMLModel",
          "model_module_version": "1.5.0",
          "state": {
            "_dom_classes": [],
            "_model_module": "@jupyter-widgets/controls",
            "_model_module_version": "1.5.0",
            "_model_name": "HTMLModel",
            "_view_count": null,
            "_view_module": "@jupyter-widgets/controls",
            "_view_module_version": "1.5.0",
            "_view_name": "HTMLView",
            "description": "",
            "description_tooltip": null,
            "layout": "IPY_MODEL_15d469135cf14e18884594b60de9efb8",
            "placeholder": "​",
            "style": "IPY_MODEL_7b2595137ac04950a01c6c296aaed410",
            "value": " 50000/50000 [00:04&lt;00:00, 26198.90 examples/s]"
          }
        },
        "803a9128c8224396939ec67ef1a4b6a0": {
          "model_module": "@jupyter-widgets/base",
          "model_name": "LayoutModel",
          "model_module_version": "1.2.0",
          "state": {
            "_model_module": "@jupyter-widgets/base",
            "_model_module_version": "1.2.0",
            "_model_name": "LayoutModel",
            "_view_count": null,
            "_view_module": "@jupyter-widgets/base",
            "_view_module_version": "1.2.0",
            "_view_name": "LayoutView",
            "align_content": null,
            "align_items": null,
            "align_self": null,
            "border": null,
            "bottom": null,
            "display": null,
            "flex": null,
            "flex_flow": null,
            "grid_area": null,
            "grid_auto_columns": null,
            "grid_auto_flow": null,
            "grid_auto_rows": null,
            "grid_column": null,
            "grid_gap": null,
            "grid_row": null,
            "grid_template_areas": null,
            "grid_template_columns": null,
            "grid_template_rows": null,
            "height": null,
            "justify_content": null,
            "justify_items": null,
            "left": null,
            "margin": null,
            "max_height": null,
            "max_width": null,
            "min_height": null,
            "min_width": null,
            "object_fit": null,
            "object_position": null,
            "order": null,
            "overflow": null,
            "overflow_x": null,
            "overflow_y": null,
            "padding": null,
            "right": null,
            "top": null,
            "visibility": null,
            "width": null
          }
        },
        "934f077612c04062b52fb4e3b6d808a3": {
          "model_module": "@jupyter-widgets/base",
          "model_name": "LayoutModel",
          "model_module_version": "1.2.0",
          "state": {
            "_model_module": "@jupyter-widgets/base",
            "_model_module_version": "1.2.0",
            "_model_name": "LayoutModel",
            "_view_count": null,
            "_view_module": "@jupyter-widgets/base",
            "_view_module_version": "1.2.0",
            "_view_name": "LayoutView",
            "align_content": null,
            "align_items": null,
            "align_self": null,
            "border": null,
            "bottom": null,
            "display": null,
            "flex": null,
            "flex_flow": null,
            "grid_area": null,
            "grid_auto_columns": null,
            "grid_auto_flow": null,
            "grid_auto_rows": null,
            "grid_column": null,
            "grid_gap": null,
            "grid_row": null,
            "grid_template_areas": null,
            "grid_template_columns": null,
            "grid_template_rows": null,
            "height": null,
            "justify_content": null,
            "justify_items": null,
            "left": null,
            "margin": null,
            "max_height": null,
            "max_width": null,
            "min_height": null,
            "min_width": null,
            "object_fit": null,
            "object_position": null,
            "order": null,
            "overflow": null,
            "overflow_x": null,
            "overflow_y": null,
            "padding": null,
            "right": null,
            "top": null,
            "visibility": null,
            "width": null
          }
        },
        "32869f736d434b44ae8cae510116bb5e": {
          "model_module": "@jupyter-widgets/controls",
          "model_name": "DescriptionStyleModel",
          "model_module_version": "1.5.0",
          "state": {
            "_model_module": "@jupyter-widgets/controls",
            "_model_module_version": "1.5.0",
            "_model_name": "DescriptionStyleModel",
            "_view_count": null,
            "_view_module": "@jupyter-widgets/base",
            "_view_module_version": "1.2.0",
            "_view_name": "StyleView",
            "description_width": ""
          }
        },
        "a759748bf65f414ab3536ecd101428ae": {
          "model_module": "@jupyter-widgets/base",
          "model_name": "LayoutModel",
          "model_module_version": "1.2.0",
          "state": {
            "_model_module": "@jupyter-widgets/base",
            "_model_module_version": "1.2.0",
            "_model_name": "LayoutModel",
            "_view_count": null,
            "_view_module": "@jupyter-widgets/base",
            "_view_module_version": "1.2.0",
            "_view_name": "LayoutView",
            "align_content": null,
            "align_items": null,
            "align_self": null,
            "border": null,
            "bottom": null,
            "display": null,
            "flex": null,
            "flex_flow": null,
            "grid_area": null,
            "grid_auto_columns": null,
            "grid_auto_flow": null,
            "grid_auto_rows": null,
            "grid_column": null,
            "grid_gap": null,
            "grid_row": null,
            "grid_template_areas": null,
            "grid_template_columns": null,
            "grid_template_rows": null,
            "height": null,
            "justify_content": null,
            "justify_items": null,
            "left": null,
            "margin": null,
            "max_height": null,
            "max_width": null,
            "min_height": null,
            "min_width": null,
            "object_fit": null,
            "object_position": null,
            "order": null,
            "overflow": null,
            "overflow_x": null,
            "overflow_y": null,
            "padding": null,
            "right": null,
            "top": null,
            "visibility": null,
            "width": null
          }
        },
        "b4333069cbd545e6b1c5d27bcf7411c2": {
          "model_module": "@jupyter-widgets/controls",
          "model_name": "ProgressStyleModel",
          "model_module_version": "1.5.0",
          "state": {
            "_model_module": "@jupyter-widgets/controls",
            "_model_module_version": "1.5.0",
            "_model_name": "ProgressStyleModel",
            "_view_count": null,
            "_view_module": "@jupyter-widgets/base",
            "_view_module_version": "1.2.0",
            "_view_name": "StyleView",
            "bar_color": null,
            "description_width": ""
          }
        },
        "15d469135cf14e18884594b60de9efb8": {
          "model_module": "@jupyter-widgets/base",
          "model_name": "LayoutModel",
          "model_module_version": "1.2.0",
          "state": {
            "_model_module": "@jupyter-widgets/base",
            "_model_module_version": "1.2.0",
            "_model_name": "LayoutModel",
            "_view_count": null,
            "_view_module": "@jupyter-widgets/base",
            "_view_module_version": "1.2.0",
            "_view_name": "LayoutView",
            "align_content": null,
            "align_items": null,
            "align_self": null,
            "border": null,
            "bottom": null,
            "display": null,
            "flex": null,
            "flex_flow": null,
            "grid_area": null,
            "grid_auto_columns": null,
            "grid_auto_flow": null,
            "grid_auto_rows": null,
            "grid_column": null,
            "grid_gap": null,
            "grid_row": null,
            "grid_template_areas": null,
            "grid_template_columns": null,
            "grid_template_rows": null,
            "height": null,
            "justify_content": null,
            "justify_items": null,
            "left": null,
            "margin": null,
            "max_height": null,
            "max_width": null,
            "min_height": null,
            "min_width": null,
            "object_fit": null,
            "object_position": null,
            "order": null,
            "overflow": null,
            "overflow_x": null,
            "overflow_y": null,
            "padding": null,
            "right": null,
            "top": null,
            "visibility": null,
            "width": null
          }
        },
        "7b2595137ac04950a01c6c296aaed410": {
          "model_module": "@jupyter-widgets/controls",
          "model_name": "DescriptionStyleModel",
          "model_module_version": "1.5.0",
          "state": {
            "_model_module": "@jupyter-widgets/controls",
            "_model_module_version": "1.5.0",
            "_model_name": "DescriptionStyleModel",
            "_view_count": null,
            "_view_module": "@jupyter-widgets/base",
            "_view_module_version": "1.2.0",
            "_view_name": "StyleView",
            "description_width": ""
          }
        },
        "10326aa142a84c3b9e13410d38aecf73": {
          "model_module": "@jupyter-widgets/controls",
          "model_name": "HBoxModel",
          "model_module_version": "1.5.0",
          "state": {
            "_dom_classes": [],
            "_model_module": "@jupyter-widgets/controls",
            "_model_module_version": "1.5.0",
            "_model_name": "HBoxModel",
            "_view_count": null,
            "_view_module": "@jupyter-widgets/controls",
            "_view_module_version": "1.5.0",
            "_view_name": "HBoxView",
            "box_style": "",
            "children": [
              "IPY_MODEL_eafd8c0d5b57474fb544d23b0892bf44",
              "IPY_MODEL_b66383b79e5148f68f12edb8892f0057",
              "IPY_MODEL_b40d635ddcb74644aaf84282d8d4f7e1"
            ],
            "layout": "IPY_MODEL_3543855d61b041288fe0bcff4847783d"
          }
        },
        "eafd8c0d5b57474fb544d23b0892bf44": {
          "model_module": "@jupyter-widgets/controls",
          "model_name": "HTMLModel",
          "model_module_version": "1.5.0",
          "state": {
            "_dom_classes": [],
            "_model_module": "@jupyter-widgets/controls",
            "_model_module_version": "1.5.0",
            "_model_name": "HTMLModel",
            "_view_count": null,
            "_view_module": "@jupyter-widgets/controls",
            "_view_module_version": "1.5.0",
            "_view_name": "HTMLView",
            "description": "",
            "description_tooltip": null,
            "layout": "IPY_MODEL_bbf7518ce50d408480bcd7d2c36b0b9d",
            "placeholder": "​",
            "style": "IPY_MODEL_1e16d83449f54c859abc450070f96f1e",
            "value": "tokenizer_config.json: 100%"
          }
        },
        "b66383b79e5148f68f12edb8892f0057": {
          "model_module": "@jupyter-widgets/controls",
          "model_name": "FloatProgressModel",
          "model_module_version": "1.5.0",
          "state": {
            "_dom_classes": [],
            "_model_module": "@jupyter-widgets/controls",
            "_model_module_version": "1.5.0",
            "_model_name": "FloatProgressModel",
            "_view_count": null,
            "_view_module": "@jupyter-widgets/controls",
            "_view_module_version": "1.5.0",
            "_view_name": "ProgressView",
            "bar_style": "success",
            "description": "",
            "description_tooltip": null,
            "layout": "IPY_MODEL_32b1a9b56e6f46c6ad02372db18ed53b",
            "max": 29,
            "min": 0,
            "orientation": "horizontal",
            "style": "IPY_MODEL_a30aa5edfbc7446fb930e1694229a5eb",
            "value": 29
          }
        },
        "b40d635ddcb74644aaf84282d8d4f7e1": {
          "model_module": "@jupyter-widgets/controls",
          "model_name": "HTMLModel",
          "model_module_version": "1.5.0",
          "state": {
            "_dom_classes": [],
            "_model_module": "@jupyter-widgets/controls",
            "_model_module_version": "1.5.0",
            "_model_name": "HTMLModel",
            "_view_count": null,
            "_view_module": "@jupyter-widgets/controls",
            "_view_module_version": "1.5.0",
            "_view_name": "HTMLView",
            "description": "",
            "description_tooltip": null,
            "layout": "IPY_MODEL_eb24a7821996411cad635af6b1941bea",
            "placeholder": "​",
            "style": "IPY_MODEL_1bc49214bfe241978f3bb9ea95000be0",
            "value": " 29.0/29.0 [00:00&lt;00:00, 1.63kB/s]"
          }
        },
        "3543855d61b041288fe0bcff4847783d": {
          "model_module": "@jupyter-widgets/base",
          "model_name": "LayoutModel",
          "model_module_version": "1.2.0",
          "state": {
            "_model_module": "@jupyter-widgets/base",
            "_model_module_version": "1.2.0",
            "_model_name": "LayoutModel",
            "_view_count": null,
            "_view_module": "@jupyter-widgets/base",
            "_view_module_version": "1.2.0",
            "_view_name": "LayoutView",
            "align_content": null,
            "align_items": null,
            "align_self": null,
            "border": null,
            "bottom": null,
            "display": null,
            "flex": null,
            "flex_flow": null,
            "grid_area": null,
            "grid_auto_columns": null,
            "grid_auto_flow": null,
            "grid_auto_rows": null,
            "grid_column": null,
            "grid_gap": null,
            "grid_row": null,
            "grid_template_areas": null,
            "grid_template_columns": null,
            "grid_template_rows": null,
            "height": null,
            "justify_content": null,
            "justify_items": null,
            "left": null,
            "margin": null,
            "max_height": null,
            "max_width": null,
            "min_height": null,
            "min_width": null,
            "object_fit": null,
            "object_position": null,
            "order": null,
            "overflow": null,
            "overflow_x": null,
            "overflow_y": null,
            "padding": null,
            "right": null,
            "top": null,
            "visibility": null,
            "width": null
          }
        },
        "bbf7518ce50d408480bcd7d2c36b0b9d": {
          "model_module": "@jupyter-widgets/base",
          "model_name": "LayoutModel",
          "model_module_version": "1.2.0",
          "state": {
            "_model_module": "@jupyter-widgets/base",
            "_model_module_version": "1.2.0",
            "_model_name": "LayoutModel",
            "_view_count": null,
            "_view_module": "@jupyter-widgets/base",
            "_view_module_version": "1.2.0",
            "_view_name": "LayoutView",
            "align_content": null,
            "align_items": null,
            "align_self": null,
            "border": null,
            "bottom": null,
            "display": null,
            "flex": null,
            "flex_flow": null,
            "grid_area": null,
            "grid_auto_columns": null,
            "grid_auto_flow": null,
            "grid_auto_rows": null,
            "grid_column": null,
            "grid_gap": null,
            "grid_row": null,
            "grid_template_areas": null,
            "grid_template_columns": null,
            "grid_template_rows": null,
            "height": null,
            "justify_content": null,
            "justify_items": null,
            "left": null,
            "margin": null,
            "max_height": null,
            "max_width": null,
            "min_height": null,
            "min_width": null,
            "object_fit": null,
            "object_position": null,
            "order": null,
            "overflow": null,
            "overflow_x": null,
            "overflow_y": null,
            "padding": null,
            "right": null,
            "top": null,
            "visibility": null,
            "width": null
          }
        },
        "1e16d83449f54c859abc450070f96f1e": {
          "model_module": "@jupyter-widgets/controls",
          "model_name": "DescriptionStyleModel",
          "model_module_version": "1.5.0",
          "state": {
            "_model_module": "@jupyter-widgets/controls",
            "_model_module_version": "1.5.0",
            "_model_name": "DescriptionStyleModel",
            "_view_count": null,
            "_view_module": "@jupyter-widgets/base",
            "_view_module_version": "1.2.0",
            "_view_name": "StyleView",
            "description_width": ""
          }
        },
        "32b1a9b56e6f46c6ad02372db18ed53b": {
          "model_module": "@jupyter-widgets/base",
          "model_name": "LayoutModel",
          "model_module_version": "1.2.0",
          "state": {
            "_model_module": "@jupyter-widgets/base",
            "_model_module_version": "1.2.0",
            "_model_name": "LayoutModel",
            "_view_count": null,
            "_view_module": "@jupyter-widgets/base",
            "_view_module_version": "1.2.0",
            "_view_name": "LayoutView",
            "align_content": null,
            "align_items": null,
            "align_self": null,
            "border": null,
            "bottom": null,
            "display": null,
            "flex": null,
            "flex_flow": null,
            "grid_area": null,
            "grid_auto_columns": null,
            "grid_auto_flow": null,
            "grid_auto_rows": null,
            "grid_column": null,
            "grid_gap": null,
            "grid_row": null,
            "grid_template_areas": null,
            "grid_template_columns": null,
            "grid_template_rows": null,
            "height": null,
            "justify_content": null,
            "justify_items": null,
            "left": null,
            "margin": null,
            "max_height": null,
            "max_width": null,
            "min_height": null,
            "min_width": null,
            "object_fit": null,
            "object_position": null,
            "order": null,
            "overflow": null,
            "overflow_x": null,
            "overflow_y": null,
            "padding": null,
            "right": null,
            "top": null,
            "visibility": null,
            "width": null
          }
        },
        "a30aa5edfbc7446fb930e1694229a5eb": {
          "model_module": "@jupyter-widgets/controls",
          "model_name": "ProgressStyleModel",
          "model_module_version": "1.5.0",
          "state": {
            "_model_module": "@jupyter-widgets/controls",
            "_model_module_version": "1.5.0",
            "_model_name": "ProgressStyleModel",
            "_view_count": null,
            "_view_module": "@jupyter-widgets/base",
            "_view_module_version": "1.2.0",
            "_view_name": "StyleView",
            "bar_color": null,
            "description_width": ""
          }
        },
        "eb24a7821996411cad635af6b1941bea": {
          "model_module": "@jupyter-widgets/base",
          "model_name": "LayoutModel",
          "model_module_version": "1.2.0",
          "state": {
            "_model_module": "@jupyter-widgets/base",
            "_model_module_version": "1.2.0",
            "_model_name": "LayoutModel",
            "_view_count": null,
            "_view_module": "@jupyter-widgets/base",
            "_view_module_version": "1.2.0",
            "_view_name": "LayoutView",
            "align_content": null,
            "align_items": null,
            "align_self": null,
            "border": null,
            "bottom": null,
            "display": null,
            "flex": null,
            "flex_flow": null,
            "grid_area": null,
            "grid_auto_columns": null,
            "grid_auto_flow": null,
            "grid_auto_rows": null,
            "grid_column": null,
            "grid_gap": null,
            "grid_row": null,
            "grid_template_areas": null,
            "grid_template_columns": null,
            "grid_template_rows": null,
            "height": null,
            "justify_content": null,
            "justify_items": null,
            "left": null,
            "margin": null,
            "max_height": null,
            "max_width": null,
            "min_height": null,
            "min_width": null,
            "object_fit": null,
            "object_position": null,
            "order": null,
            "overflow": null,
            "overflow_x": null,
            "overflow_y": null,
            "padding": null,
            "right": null,
            "top": null,
            "visibility": null,
            "width": null
          }
        },
        "1bc49214bfe241978f3bb9ea95000be0": {
          "model_module": "@jupyter-widgets/controls",
          "model_name": "DescriptionStyleModel",
          "model_module_version": "1.5.0",
          "state": {
            "_model_module": "@jupyter-widgets/controls",
            "_model_module_version": "1.5.0",
            "_model_name": "DescriptionStyleModel",
            "_view_count": null,
            "_view_module": "@jupyter-widgets/base",
            "_view_module_version": "1.2.0",
            "_view_name": "StyleView",
            "description_width": ""
          }
        },
        "0b5cc79fe7fe41d4a9826d70e3987ded": {
          "model_module": "@jupyter-widgets/controls",
          "model_name": "HBoxModel",
          "model_module_version": "1.5.0",
          "state": {
            "_dom_classes": [],
            "_model_module": "@jupyter-widgets/controls",
            "_model_module_version": "1.5.0",
            "_model_name": "HBoxModel",
            "_view_count": null,
            "_view_module": "@jupyter-widgets/controls",
            "_view_module_version": "1.5.0",
            "_view_name": "HBoxView",
            "box_style": "",
            "children": [
              "IPY_MODEL_b2ddc95201f2489a99baf8ef1a3f9db1",
              "IPY_MODEL_72f51bb369e64177a77f46f5f60a715b",
              "IPY_MODEL_5f1b2df090204ad2bf662678f5f25663"
            ],
            "layout": "IPY_MODEL_2d959c56c47f42dd8cc21e897dc9c337"
          }
        },
        "b2ddc95201f2489a99baf8ef1a3f9db1": {
          "model_module": "@jupyter-widgets/controls",
          "model_name": "HTMLModel",
          "model_module_version": "1.5.0",
          "state": {
            "_dom_classes": [],
            "_model_module": "@jupyter-widgets/controls",
            "_model_module_version": "1.5.0",
            "_model_name": "HTMLModel",
            "_view_count": null,
            "_view_module": "@jupyter-widgets/controls",
            "_view_module_version": "1.5.0",
            "_view_name": "HTMLView",
            "description": "",
            "description_tooltip": null,
            "layout": "IPY_MODEL_d6887905e933475ab038617a171da5b2",
            "placeholder": "​",
            "style": "IPY_MODEL_356bd29fa8d44e82819a1d5889d9a965",
            "value": "config.json: 100%"
          }
        },
        "72f51bb369e64177a77f46f5f60a715b": {
          "model_module": "@jupyter-widgets/controls",
          "model_name": "FloatProgressModel",
          "model_module_version": "1.5.0",
          "state": {
            "_dom_classes": [],
            "_model_module": "@jupyter-widgets/controls",
            "_model_module_version": "1.5.0",
            "_model_name": "FloatProgressModel",
            "_view_count": null,
            "_view_module": "@jupyter-widgets/controls",
            "_view_module_version": "1.5.0",
            "_view_name": "ProgressView",
            "bar_style": "success",
            "description": "",
            "description_tooltip": null,
            "layout": "IPY_MODEL_cfeac2396e22477a98d4a6dd265aa66f",
            "max": 570,
            "min": 0,
            "orientation": "horizontal",
            "style": "IPY_MODEL_23fef5bd3ca040e787b2ff3ca5a9292a",
            "value": 570
          }
        },
        "5f1b2df090204ad2bf662678f5f25663": {
          "model_module": "@jupyter-widgets/controls",
          "model_name": "HTMLModel",
          "model_module_version": "1.5.0",
          "state": {
            "_dom_classes": [],
            "_model_module": "@jupyter-widgets/controls",
            "_model_module_version": "1.5.0",
            "_model_name": "HTMLModel",
            "_view_count": null,
            "_view_module": "@jupyter-widgets/controls",
            "_view_module_version": "1.5.0",
            "_view_name": "HTMLView",
            "description": "",
            "description_tooltip": null,
            "layout": "IPY_MODEL_8a3f65eeee5b456685cec684c93b100f",
            "placeholder": "​",
            "style": "IPY_MODEL_f7b5f1f7d71449fabff052a4dd3a893d",
            "value": " 570/570 [00:00&lt;00:00, 43.4kB/s]"
          }
        },
        "2d959c56c47f42dd8cc21e897dc9c337": {
          "model_module": "@jupyter-widgets/base",
          "model_name": "LayoutModel",
          "model_module_version": "1.2.0",
          "state": {
            "_model_module": "@jupyter-widgets/base",
            "_model_module_version": "1.2.0",
            "_model_name": "LayoutModel",
            "_view_count": null,
            "_view_module": "@jupyter-widgets/base",
            "_view_module_version": "1.2.0",
            "_view_name": "LayoutView",
            "align_content": null,
            "align_items": null,
            "align_self": null,
            "border": null,
            "bottom": null,
            "display": null,
            "flex": null,
            "flex_flow": null,
            "grid_area": null,
            "grid_auto_columns": null,
            "grid_auto_flow": null,
            "grid_auto_rows": null,
            "grid_column": null,
            "grid_gap": null,
            "grid_row": null,
            "grid_template_areas": null,
            "grid_template_columns": null,
            "grid_template_rows": null,
            "height": null,
            "justify_content": null,
            "justify_items": null,
            "left": null,
            "margin": null,
            "max_height": null,
            "max_width": null,
            "min_height": null,
            "min_width": null,
            "object_fit": null,
            "object_position": null,
            "order": null,
            "overflow": null,
            "overflow_x": null,
            "overflow_y": null,
            "padding": null,
            "right": null,
            "top": null,
            "visibility": null,
            "width": null
          }
        },
        "d6887905e933475ab038617a171da5b2": {
          "model_module": "@jupyter-widgets/base",
          "model_name": "LayoutModel",
          "model_module_version": "1.2.0",
          "state": {
            "_model_module": "@jupyter-widgets/base",
            "_model_module_version": "1.2.0",
            "_model_name": "LayoutModel",
            "_view_count": null,
            "_view_module": "@jupyter-widgets/base",
            "_view_module_version": "1.2.0",
            "_view_name": "LayoutView",
            "align_content": null,
            "align_items": null,
            "align_self": null,
            "border": null,
            "bottom": null,
            "display": null,
            "flex": null,
            "flex_flow": null,
            "grid_area": null,
            "grid_auto_columns": null,
            "grid_auto_flow": null,
            "grid_auto_rows": null,
            "grid_column": null,
            "grid_gap": null,
            "grid_row": null,
            "grid_template_areas": null,
            "grid_template_columns": null,
            "grid_template_rows": null,
            "height": null,
            "justify_content": null,
            "justify_items": null,
            "left": null,
            "margin": null,
            "max_height": null,
            "max_width": null,
            "min_height": null,
            "min_width": null,
            "object_fit": null,
            "object_position": null,
            "order": null,
            "overflow": null,
            "overflow_x": null,
            "overflow_y": null,
            "padding": null,
            "right": null,
            "top": null,
            "visibility": null,
            "width": null
          }
        },
        "356bd29fa8d44e82819a1d5889d9a965": {
          "model_module": "@jupyter-widgets/controls",
          "model_name": "DescriptionStyleModel",
          "model_module_version": "1.5.0",
          "state": {
            "_model_module": "@jupyter-widgets/controls",
            "_model_module_version": "1.5.0",
            "_model_name": "DescriptionStyleModel",
            "_view_count": null,
            "_view_module": "@jupyter-widgets/base",
            "_view_module_version": "1.2.0",
            "_view_name": "StyleView",
            "description_width": ""
          }
        },
        "cfeac2396e22477a98d4a6dd265aa66f": {
          "model_module": "@jupyter-widgets/base",
          "model_name": "LayoutModel",
          "model_module_version": "1.2.0",
          "state": {
            "_model_module": "@jupyter-widgets/base",
            "_model_module_version": "1.2.0",
            "_model_name": "LayoutModel",
            "_view_count": null,
            "_view_module": "@jupyter-widgets/base",
            "_view_module_version": "1.2.0",
            "_view_name": "LayoutView",
            "align_content": null,
            "align_items": null,
            "align_self": null,
            "border": null,
            "bottom": null,
            "display": null,
            "flex": null,
            "flex_flow": null,
            "grid_area": null,
            "grid_auto_columns": null,
            "grid_auto_flow": null,
            "grid_auto_rows": null,
            "grid_column": null,
            "grid_gap": null,
            "grid_row": null,
            "grid_template_areas": null,
            "grid_template_columns": null,
            "grid_template_rows": null,
            "height": null,
            "justify_content": null,
            "justify_items": null,
            "left": null,
            "margin": null,
            "max_height": null,
            "max_width": null,
            "min_height": null,
            "min_width": null,
            "object_fit": null,
            "object_position": null,
            "order": null,
            "overflow": null,
            "overflow_x": null,
            "overflow_y": null,
            "padding": null,
            "right": null,
            "top": null,
            "visibility": null,
            "width": null
          }
        },
        "23fef5bd3ca040e787b2ff3ca5a9292a": {
          "model_module": "@jupyter-widgets/controls",
          "model_name": "ProgressStyleModel",
          "model_module_version": "1.5.0",
          "state": {
            "_model_module": "@jupyter-widgets/controls",
            "_model_module_version": "1.5.0",
            "_model_name": "ProgressStyleModel",
            "_view_count": null,
            "_view_module": "@jupyter-widgets/base",
            "_view_module_version": "1.2.0",
            "_view_name": "StyleView",
            "bar_color": null,
            "description_width": ""
          }
        },
        "8a3f65eeee5b456685cec684c93b100f": {
          "model_module": "@jupyter-widgets/base",
          "model_name": "LayoutModel",
          "model_module_version": "1.2.0",
          "state": {
            "_model_module": "@jupyter-widgets/base",
            "_model_module_version": "1.2.0",
            "_model_name": "LayoutModel",
            "_view_count": null,
            "_view_module": "@jupyter-widgets/base",
            "_view_module_version": "1.2.0",
            "_view_name": "LayoutView",
            "align_content": null,
            "align_items": null,
            "align_self": null,
            "border": null,
            "bottom": null,
            "display": null,
            "flex": null,
            "flex_flow": null,
            "grid_area": null,
            "grid_auto_columns": null,
            "grid_auto_flow": null,
            "grid_auto_rows": null,
            "grid_column": null,
            "grid_gap": null,
            "grid_row": null,
            "grid_template_areas": null,
            "grid_template_columns": null,
            "grid_template_rows": null,
            "height": null,
            "justify_content": null,
            "justify_items": null,
            "left": null,
            "margin": null,
            "max_height": null,
            "max_width": null,
            "min_height": null,
            "min_width": null,
            "object_fit": null,
            "object_position": null,
            "order": null,
            "overflow": null,
            "overflow_x": null,
            "overflow_y": null,
            "padding": null,
            "right": null,
            "top": null,
            "visibility": null,
            "width": null
          }
        },
        "f7b5f1f7d71449fabff052a4dd3a893d": {
          "model_module": "@jupyter-widgets/controls",
          "model_name": "DescriptionStyleModel",
          "model_module_version": "1.5.0",
          "state": {
            "_model_module": "@jupyter-widgets/controls",
            "_model_module_version": "1.5.0",
            "_model_name": "DescriptionStyleModel",
            "_view_count": null,
            "_view_module": "@jupyter-widgets/base",
            "_view_module_version": "1.2.0",
            "_view_name": "StyleView",
            "description_width": ""
          }
        },
        "bf15d529b8794938bc0e66dde24bc410": {
          "model_module": "@jupyter-widgets/controls",
          "model_name": "HBoxModel",
          "model_module_version": "1.5.0",
          "state": {
            "_dom_classes": [],
            "_model_module": "@jupyter-widgets/controls",
            "_model_module_version": "1.5.0",
            "_model_name": "HBoxModel",
            "_view_count": null,
            "_view_module": "@jupyter-widgets/controls",
            "_view_module_version": "1.5.0",
            "_view_name": "HBoxView",
            "box_style": "",
            "children": [
              "IPY_MODEL_dea73fcd77004ed784d67b37440435bb",
              "IPY_MODEL_566c5de835854d56ac0114bde244d8d2",
              "IPY_MODEL_64cb9f61d1a2476d84e532a9c9ed6851"
            ],
            "layout": "IPY_MODEL_1697f3d81eb042b28ca0e9864bb3d03c"
          }
        },
        "dea73fcd77004ed784d67b37440435bb": {
          "model_module": "@jupyter-widgets/controls",
          "model_name": "HTMLModel",
          "model_module_version": "1.5.0",
          "state": {
            "_dom_classes": [],
            "_model_module": "@jupyter-widgets/controls",
            "_model_module_version": "1.5.0",
            "_model_name": "HTMLModel",
            "_view_count": null,
            "_view_module": "@jupyter-widgets/controls",
            "_view_module_version": "1.5.0",
            "_view_name": "HTMLView",
            "description": "",
            "description_tooltip": null,
            "layout": "IPY_MODEL_6b85cfeaa625472e9b7e6ce543b0d7c1",
            "placeholder": "​",
            "style": "IPY_MODEL_59d267d9b507400aa5fc7836e442afd0",
            "value": "vocab.txt: 100%"
          }
        },
        "566c5de835854d56ac0114bde244d8d2": {
          "model_module": "@jupyter-widgets/controls",
          "model_name": "FloatProgressModel",
          "model_module_version": "1.5.0",
          "state": {
            "_dom_classes": [],
            "_model_module": "@jupyter-widgets/controls",
            "_model_module_version": "1.5.0",
            "_model_name": "FloatProgressModel",
            "_view_count": null,
            "_view_module": "@jupyter-widgets/controls",
            "_view_module_version": "1.5.0",
            "_view_name": "ProgressView",
            "bar_style": "success",
            "description": "",
            "description_tooltip": null,
            "layout": "IPY_MODEL_ce31fb2bdc294ac3a2244eb326506cc1",
            "max": 213450,
            "min": 0,
            "orientation": "horizontal",
            "style": "IPY_MODEL_e0a322ebc4e649e1a5046b850ce63761",
            "value": 213450
          }
        },
        "64cb9f61d1a2476d84e532a9c9ed6851": {
          "model_module": "@jupyter-widgets/controls",
          "model_name": "HTMLModel",
          "model_module_version": "1.5.0",
          "state": {
            "_dom_classes": [],
            "_model_module": "@jupyter-widgets/controls",
            "_model_module_version": "1.5.0",
            "_model_name": "HTMLModel",
            "_view_count": null,
            "_view_module": "@jupyter-widgets/controls",
            "_view_module_version": "1.5.0",
            "_view_name": "HTMLView",
            "description": "",
            "description_tooltip": null,
            "layout": "IPY_MODEL_b8d73fe280f2405a8f5c00e0bb698343",
            "placeholder": "​",
            "style": "IPY_MODEL_61e7f536a26d42c8a840697b22352859",
            "value": " 213k/213k [00:00&lt;00:00, 1.60MB/s]"
          }
        },
        "1697f3d81eb042b28ca0e9864bb3d03c": {
          "model_module": "@jupyter-widgets/base",
          "model_name": "LayoutModel",
          "model_module_version": "1.2.0",
          "state": {
            "_model_module": "@jupyter-widgets/base",
            "_model_module_version": "1.2.0",
            "_model_name": "LayoutModel",
            "_view_count": null,
            "_view_module": "@jupyter-widgets/base",
            "_view_module_version": "1.2.0",
            "_view_name": "LayoutView",
            "align_content": null,
            "align_items": null,
            "align_self": null,
            "border": null,
            "bottom": null,
            "display": null,
            "flex": null,
            "flex_flow": null,
            "grid_area": null,
            "grid_auto_columns": null,
            "grid_auto_flow": null,
            "grid_auto_rows": null,
            "grid_column": null,
            "grid_gap": null,
            "grid_row": null,
            "grid_template_areas": null,
            "grid_template_columns": null,
            "grid_template_rows": null,
            "height": null,
            "justify_content": null,
            "justify_items": null,
            "left": null,
            "margin": null,
            "max_height": null,
            "max_width": null,
            "min_height": null,
            "min_width": null,
            "object_fit": null,
            "object_position": null,
            "order": null,
            "overflow": null,
            "overflow_x": null,
            "overflow_y": null,
            "padding": null,
            "right": null,
            "top": null,
            "visibility": null,
            "width": null
          }
        },
        "6b85cfeaa625472e9b7e6ce543b0d7c1": {
          "model_module": "@jupyter-widgets/base",
          "model_name": "LayoutModel",
          "model_module_version": "1.2.0",
          "state": {
            "_model_module": "@jupyter-widgets/base",
            "_model_module_version": "1.2.0",
            "_model_name": "LayoutModel",
            "_view_count": null,
            "_view_module": "@jupyter-widgets/base",
            "_view_module_version": "1.2.0",
            "_view_name": "LayoutView",
            "align_content": null,
            "align_items": null,
            "align_self": null,
            "border": null,
            "bottom": null,
            "display": null,
            "flex": null,
            "flex_flow": null,
            "grid_area": null,
            "grid_auto_columns": null,
            "grid_auto_flow": null,
            "grid_auto_rows": null,
            "grid_column": null,
            "grid_gap": null,
            "grid_row": null,
            "grid_template_areas": null,
            "grid_template_columns": null,
            "grid_template_rows": null,
            "height": null,
            "justify_content": null,
            "justify_items": null,
            "left": null,
            "margin": null,
            "max_height": null,
            "max_width": null,
            "min_height": null,
            "min_width": null,
            "object_fit": null,
            "object_position": null,
            "order": null,
            "overflow": null,
            "overflow_x": null,
            "overflow_y": null,
            "padding": null,
            "right": null,
            "top": null,
            "visibility": null,
            "width": null
          }
        },
        "59d267d9b507400aa5fc7836e442afd0": {
          "model_module": "@jupyter-widgets/controls",
          "model_name": "DescriptionStyleModel",
          "model_module_version": "1.5.0",
          "state": {
            "_model_module": "@jupyter-widgets/controls",
            "_model_module_version": "1.5.0",
            "_model_name": "DescriptionStyleModel",
            "_view_count": null,
            "_view_module": "@jupyter-widgets/base",
            "_view_module_version": "1.2.0",
            "_view_name": "StyleView",
            "description_width": ""
          }
        },
        "ce31fb2bdc294ac3a2244eb326506cc1": {
          "model_module": "@jupyter-widgets/base",
          "model_name": "LayoutModel",
          "model_module_version": "1.2.0",
          "state": {
            "_model_module": "@jupyter-widgets/base",
            "_model_module_version": "1.2.0",
            "_model_name": "LayoutModel",
            "_view_count": null,
            "_view_module": "@jupyter-widgets/base",
            "_view_module_version": "1.2.0",
            "_view_name": "LayoutView",
            "align_content": null,
            "align_items": null,
            "align_self": null,
            "border": null,
            "bottom": null,
            "display": null,
            "flex": null,
            "flex_flow": null,
            "grid_area": null,
            "grid_auto_columns": null,
            "grid_auto_flow": null,
            "grid_auto_rows": null,
            "grid_column": null,
            "grid_gap": null,
            "grid_row": null,
            "grid_template_areas": null,
            "grid_template_columns": null,
            "grid_template_rows": null,
            "height": null,
            "justify_content": null,
            "justify_items": null,
            "left": null,
            "margin": null,
            "max_height": null,
            "max_width": null,
            "min_height": null,
            "min_width": null,
            "object_fit": null,
            "object_position": null,
            "order": null,
            "overflow": null,
            "overflow_x": null,
            "overflow_y": null,
            "padding": null,
            "right": null,
            "top": null,
            "visibility": null,
            "width": null
          }
        },
        "e0a322ebc4e649e1a5046b850ce63761": {
          "model_module": "@jupyter-widgets/controls",
          "model_name": "ProgressStyleModel",
          "model_module_version": "1.5.0",
          "state": {
            "_model_module": "@jupyter-widgets/controls",
            "_model_module_version": "1.5.0",
            "_model_name": "ProgressStyleModel",
            "_view_count": null,
            "_view_module": "@jupyter-widgets/base",
            "_view_module_version": "1.2.0",
            "_view_name": "StyleView",
            "bar_color": null,
            "description_width": ""
          }
        },
        "b8d73fe280f2405a8f5c00e0bb698343": {
          "model_module": "@jupyter-widgets/base",
          "model_name": "LayoutModel",
          "model_module_version": "1.2.0",
          "state": {
            "_model_module": "@jupyter-widgets/base",
            "_model_module_version": "1.2.0",
            "_model_name": "LayoutModel",
            "_view_count": null,
            "_view_module": "@jupyter-widgets/base",
            "_view_module_version": "1.2.0",
            "_view_name": "LayoutView",
            "align_content": null,
            "align_items": null,
            "align_self": null,
            "border": null,
            "bottom": null,
            "display": null,
            "flex": null,
            "flex_flow": null,
            "grid_area": null,
            "grid_auto_columns": null,
            "grid_auto_flow": null,
            "grid_auto_rows": null,
            "grid_column": null,
            "grid_gap": null,
            "grid_row": null,
            "grid_template_areas": null,
            "grid_template_columns": null,
            "grid_template_rows": null,
            "height": null,
            "justify_content": null,
            "justify_items": null,
            "left": null,
            "margin": null,
            "max_height": null,
            "max_width": null,
            "min_height": null,
            "min_width": null,
            "object_fit": null,
            "object_position": null,
            "order": null,
            "overflow": null,
            "overflow_x": null,
            "overflow_y": null,
            "padding": null,
            "right": null,
            "top": null,
            "visibility": null,
            "width": null
          }
        },
        "61e7f536a26d42c8a840697b22352859": {
          "model_module": "@jupyter-widgets/controls",
          "model_name": "DescriptionStyleModel",
          "model_module_version": "1.5.0",
          "state": {
            "_model_module": "@jupyter-widgets/controls",
            "_model_module_version": "1.5.0",
            "_model_name": "DescriptionStyleModel",
            "_view_count": null,
            "_view_module": "@jupyter-widgets/base",
            "_view_module_version": "1.2.0",
            "_view_name": "StyleView",
            "description_width": ""
          }
        },
        "a8e47f5c18dc4222bbe119260cb4aebc": {
          "model_module": "@jupyter-widgets/controls",
          "model_name": "HBoxModel",
          "model_module_version": "1.5.0",
          "state": {
            "_dom_classes": [],
            "_model_module": "@jupyter-widgets/controls",
            "_model_module_version": "1.5.0",
            "_model_name": "HBoxModel",
            "_view_count": null,
            "_view_module": "@jupyter-widgets/controls",
            "_view_module_version": "1.5.0",
            "_view_name": "HBoxView",
            "box_style": "",
            "children": [
              "IPY_MODEL_46cda47c4c034372b335361a3897020d",
              "IPY_MODEL_f769712370564f3e883a8fd3bbff8f92",
              "IPY_MODEL_e23f809c17ce4a6987ddf43bf2d5830c"
            ],
            "layout": "IPY_MODEL_20d5119339b24955aab5750564a6906b"
          }
        },
        "46cda47c4c034372b335361a3897020d": {
          "model_module": "@jupyter-widgets/controls",
          "model_name": "HTMLModel",
          "model_module_version": "1.5.0",
          "state": {
            "_dom_classes": [],
            "_model_module": "@jupyter-widgets/controls",
            "_model_module_version": "1.5.0",
            "_model_name": "HTMLModel",
            "_view_count": null,
            "_view_module": "@jupyter-widgets/controls",
            "_view_module_version": "1.5.0",
            "_view_name": "HTMLView",
            "description": "",
            "description_tooltip": null,
            "layout": "IPY_MODEL_c831fb4290c94515a5601f0fa024ac12",
            "placeholder": "​",
            "style": "IPY_MODEL_5d6d8fd64bdd4f1a9e902985bf2b6caa",
            "value": "tokenizer.json: 100%"
          }
        },
        "f769712370564f3e883a8fd3bbff8f92": {
          "model_module": "@jupyter-widgets/controls",
          "model_name": "FloatProgressModel",
          "model_module_version": "1.5.0",
          "state": {
            "_dom_classes": [],
            "_model_module": "@jupyter-widgets/controls",
            "_model_module_version": "1.5.0",
            "_model_name": "FloatProgressModel",
            "_view_count": null,
            "_view_module": "@jupyter-widgets/controls",
            "_view_module_version": "1.5.0",
            "_view_name": "ProgressView",
            "bar_style": "success",
            "description": "",
            "description_tooltip": null,
            "layout": "IPY_MODEL_609ff65ddcfd471e9e3a7f6f47ed752f",
            "max": 435797,
            "min": 0,
            "orientation": "horizontal",
            "style": "IPY_MODEL_122a70ef94384b48a95fee15e1b24e56",
            "value": 435797
          }
        },
        "e23f809c17ce4a6987ddf43bf2d5830c": {
          "model_module": "@jupyter-widgets/controls",
          "model_name": "HTMLModel",
          "model_module_version": "1.5.0",
          "state": {
            "_dom_classes": [],
            "_model_module": "@jupyter-widgets/controls",
            "_model_module_version": "1.5.0",
            "_model_name": "HTMLModel",
            "_view_count": null,
            "_view_module": "@jupyter-widgets/controls",
            "_view_module_version": "1.5.0",
            "_view_name": "HTMLView",
            "description": "",
            "description_tooltip": null,
            "layout": "IPY_MODEL_4a0d1e3ed9254a1aaa2ca899b874b6d0",
            "placeholder": "​",
            "style": "IPY_MODEL_ca68839a53b24809bf05dcd8ae123797",
            "value": " 436k/436k [00:00&lt;00:00, 3.68MB/s]"
          }
        },
        "20d5119339b24955aab5750564a6906b": {
          "model_module": "@jupyter-widgets/base",
          "model_name": "LayoutModel",
          "model_module_version": "1.2.0",
          "state": {
            "_model_module": "@jupyter-widgets/base",
            "_model_module_version": "1.2.0",
            "_model_name": "LayoutModel",
            "_view_count": null,
            "_view_module": "@jupyter-widgets/base",
            "_view_module_version": "1.2.0",
            "_view_name": "LayoutView",
            "align_content": null,
            "align_items": null,
            "align_self": null,
            "border": null,
            "bottom": null,
            "display": null,
            "flex": null,
            "flex_flow": null,
            "grid_area": null,
            "grid_auto_columns": null,
            "grid_auto_flow": null,
            "grid_auto_rows": null,
            "grid_column": null,
            "grid_gap": null,
            "grid_row": null,
            "grid_template_areas": null,
            "grid_template_columns": null,
            "grid_template_rows": null,
            "height": null,
            "justify_content": null,
            "justify_items": null,
            "left": null,
            "margin": null,
            "max_height": null,
            "max_width": null,
            "min_height": null,
            "min_width": null,
            "object_fit": null,
            "object_position": null,
            "order": null,
            "overflow": null,
            "overflow_x": null,
            "overflow_y": null,
            "padding": null,
            "right": null,
            "top": null,
            "visibility": null,
            "width": null
          }
        },
        "c831fb4290c94515a5601f0fa024ac12": {
          "model_module": "@jupyter-widgets/base",
          "model_name": "LayoutModel",
          "model_module_version": "1.2.0",
          "state": {
            "_model_module": "@jupyter-widgets/base",
            "_model_module_version": "1.2.0",
            "_model_name": "LayoutModel",
            "_view_count": null,
            "_view_module": "@jupyter-widgets/base",
            "_view_module_version": "1.2.0",
            "_view_name": "LayoutView",
            "align_content": null,
            "align_items": null,
            "align_self": null,
            "border": null,
            "bottom": null,
            "display": null,
            "flex": null,
            "flex_flow": null,
            "grid_area": null,
            "grid_auto_columns": null,
            "grid_auto_flow": null,
            "grid_auto_rows": null,
            "grid_column": null,
            "grid_gap": null,
            "grid_row": null,
            "grid_template_areas": null,
            "grid_template_columns": null,
            "grid_template_rows": null,
            "height": null,
            "justify_content": null,
            "justify_items": null,
            "left": null,
            "margin": null,
            "max_height": null,
            "max_width": null,
            "min_height": null,
            "min_width": null,
            "object_fit": null,
            "object_position": null,
            "order": null,
            "overflow": null,
            "overflow_x": null,
            "overflow_y": null,
            "padding": null,
            "right": null,
            "top": null,
            "visibility": null,
            "width": null
          }
        },
        "5d6d8fd64bdd4f1a9e902985bf2b6caa": {
          "model_module": "@jupyter-widgets/controls",
          "model_name": "DescriptionStyleModel",
          "model_module_version": "1.5.0",
          "state": {
            "_model_module": "@jupyter-widgets/controls",
            "_model_module_version": "1.5.0",
            "_model_name": "DescriptionStyleModel",
            "_view_count": null,
            "_view_module": "@jupyter-widgets/base",
            "_view_module_version": "1.2.0",
            "_view_name": "StyleView",
            "description_width": ""
          }
        },
        "609ff65ddcfd471e9e3a7f6f47ed752f": {
          "model_module": "@jupyter-widgets/base",
          "model_name": "LayoutModel",
          "model_module_version": "1.2.0",
          "state": {
            "_model_module": "@jupyter-widgets/base",
            "_model_module_version": "1.2.0",
            "_model_name": "LayoutModel",
            "_view_count": null,
            "_view_module": "@jupyter-widgets/base",
            "_view_module_version": "1.2.0",
            "_view_name": "LayoutView",
            "align_content": null,
            "align_items": null,
            "align_self": null,
            "border": null,
            "bottom": null,
            "display": null,
            "flex": null,
            "flex_flow": null,
            "grid_area": null,
            "grid_auto_columns": null,
            "grid_auto_flow": null,
            "grid_auto_rows": null,
            "grid_column": null,
            "grid_gap": null,
            "grid_row": null,
            "grid_template_areas": null,
            "grid_template_columns": null,
            "grid_template_rows": null,
            "height": null,
            "justify_content": null,
            "justify_items": null,
            "left": null,
            "margin": null,
            "max_height": null,
            "max_width": null,
            "min_height": null,
            "min_width": null,
            "object_fit": null,
            "object_position": null,
            "order": null,
            "overflow": null,
            "overflow_x": null,
            "overflow_y": null,
            "padding": null,
            "right": null,
            "top": null,
            "visibility": null,
            "width": null
          }
        },
        "122a70ef94384b48a95fee15e1b24e56": {
          "model_module": "@jupyter-widgets/controls",
          "model_name": "ProgressStyleModel",
          "model_module_version": "1.5.0",
          "state": {
            "_model_module": "@jupyter-widgets/controls",
            "_model_module_version": "1.5.0",
            "_model_name": "ProgressStyleModel",
            "_view_count": null,
            "_view_module": "@jupyter-widgets/base",
            "_view_module_version": "1.2.0",
            "_view_name": "StyleView",
            "bar_color": null,
            "description_width": ""
          }
        },
        "4a0d1e3ed9254a1aaa2ca899b874b6d0": {
          "model_module": "@jupyter-widgets/base",
          "model_name": "LayoutModel",
          "model_module_version": "1.2.0",
          "state": {
            "_model_module": "@jupyter-widgets/base",
            "_model_module_version": "1.2.0",
            "_model_name": "LayoutModel",
            "_view_count": null,
            "_view_module": "@jupyter-widgets/base",
            "_view_module_version": "1.2.0",
            "_view_name": "LayoutView",
            "align_content": null,
            "align_items": null,
            "align_self": null,
            "border": null,
            "bottom": null,
            "display": null,
            "flex": null,
            "flex_flow": null,
            "grid_area": null,
            "grid_auto_columns": null,
            "grid_auto_flow": null,
            "grid_auto_rows": null,
            "grid_column": null,
            "grid_gap": null,
            "grid_row": null,
            "grid_template_areas": null,
            "grid_template_columns": null,
            "grid_template_rows": null,
            "height": null,
            "justify_content": null,
            "justify_items": null,
            "left": null,
            "margin": null,
            "max_height": null,
            "max_width": null,
            "min_height": null,
            "min_width": null,
            "object_fit": null,
            "object_position": null,
            "order": null,
            "overflow": null,
            "overflow_x": null,
            "overflow_y": null,
            "padding": null,
            "right": null,
            "top": null,
            "visibility": null,
            "width": null
          }
        },
        "ca68839a53b24809bf05dcd8ae123797": {
          "model_module": "@jupyter-widgets/controls",
          "model_name": "DescriptionStyleModel",
          "model_module_version": "1.5.0",
          "state": {
            "_model_module": "@jupyter-widgets/controls",
            "_model_module_version": "1.5.0",
            "_model_name": "DescriptionStyleModel",
            "_view_count": null,
            "_view_module": "@jupyter-widgets/base",
            "_view_module_version": "1.2.0",
            "_view_name": "StyleView",
            "description_width": ""
          }
        },
        "b016204b74be45daa5fb42ec05538c94": {
          "model_module": "@jupyter-widgets/controls",
          "model_name": "HBoxModel",
          "model_module_version": "1.5.0",
          "state": {
            "_dom_classes": [],
            "_model_module": "@jupyter-widgets/controls",
            "_model_module_version": "1.5.0",
            "_model_name": "HBoxModel",
            "_view_count": null,
            "_view_module": "@jupyter-widgets/controls",
            "_view_module_version": "1.5.0",
            "_view_name": "HBoxView",
            "box_style": "",
            "children": [
              "IPY_MODEL_c853d0a765e3489ba7c95d0f0afbf4ed",
              "IPY_MODEL_cd90871c4ed04383b5a532c1f230b8f1",
              "IPY_MODEL_1e1411f165dc4dfba36a09159685e390"
            ],
            "layout": "IPY_MODEL_4af035ce3b0f4c2cafcc08ef9c7417bf"
          }
        },
        "c853d0a765e3489ba7c95d0f0afbf4ed": {
          "model_module": "@jupyter-widgets/controls",
          "model_name": "HTMLModel",
          "model_module_version": "1.5.0",
          "state": {
            "_dom_classes": [],
            "_model_module": "@jupyter-widgets/controls",
            "_model_module_version": "1.5.0",
            "_model_name": "HTMLModel",
            "_view_count": null,
            "_view_module": "@jupyter-widgets/controls",
            "_view_module_version": "1.5.0",
            "_view_name": "HTMLView",
            "description": "",
            "description_tooltip": null,
            "layout": "IPY_MODEL_7a15d9b375254ebd85e60a138c625655",
            "placeholder": "​",
            "style": "IPY_MODEL_40adf9e9705a44c88c21e7e420a4c53e",
            "value": "Map: 100%"
          }
        },
        "cd90871c4ed04383b5a532c1f230b8f1": {
          "model_module": "@jupyter-widgets/controls",
          "model_name": "FloatProgressModel",
          "model_module_version": "1.5.0",
          "state": {
            "_dom_classes": [],
            "_model_module": "@jupyter-widgets/controls",
            "_model_module_version": "1.5.0",
            "_model_name": "FloatProgressModel",
            "_view_count": null,
            "_view_module": "@jupyter-widgets/controls",
            "_view_module_version": "1.5.0",
            "_view_name": "ProgressView",
            "bar_style": "success",
            "description": "",
            "description_tooltip": null,
            "layout": "IPY_MODEL_c196c6c1acbe4a64bdfcb15af24ef285",
            "max": 650000,
            "min": 0,
            "orientation": "horizontal",
            "style": "IPY_MODEL_3781ea872a4a419694741169241e6ccc",
            "value": 650000
          }
        },
        "1e1411f165dc4dfba36a09159685e390": {
          "model_module": "@jupyter-widgets/controls",
          "model_name": "HTMLModel",
          "model_module_version": "1.5.0",
          "state": {
            "_dom_classes": [],
            "_model_module": "@jupyter-widgets/controls",
            "_model_module_version": "1.5.0",
            "_model_name": "HTMLModel",
            "_view_count": null,
            "_view_module": "@jupyter-widgets/controls",
            "_view_module_version": "1.5.0",
            "_view_name": "HTMLView",
            "description": "",
            "description_tooltip": null,
            "layout": "IPY_MODEL_d2f3c4f9798b4624b5d9c84b2c83a3f6",
            "placeholder": "​",
            "style": "IPY_MODEL_dcff667befbf4817aff42d06a2eadb6b",
            "value": " 650000/650000 [06:45&lt;00:00, 1798.49 examples/s]"
          }
        },
        "4af035ce3b0f4c2cafcc08ef9c7417bf": {
          "model_module": "@jupyter-widgets/base",
          "model_name": "LayoutModel",
          "model_module_version": "1.2.0",
          "state": {
            "_model_module": "@jupyter-widgets/base",
            "_model_module_version": "1.2.0",
            "_model_name": "LayoutModel",
            "_view_count": null,
            "_view_module": "@jupyter-widgets/base",
            "_view_module_version": "1.2.0",
            "_view_name": "LayoutView",
            "align_content": null,
            "align_items": null,
            "align_self": null,
            "border": null,
            "bottom": null,
            "display": null,
            "flex": null,
            "flex_flow": null,
            "grid_area": null,
            "grid_auto_columns": null,
            "grid_auto_flow": null,
            "grid_auto_rows": null,
            "grid_column": null,
            "grid_gap": null,
            "grid_row": null,
            "grid_template_areas": null,
            "grid_template_columns": null,
            "grid_template_rows": null,
            "height": null,
            "justify_content": null,
            "justify_items": null,
            "left": null,
            "margin": null,
            "max_height": null,
            "max_width": null,
            "min_height": null,
            "min_width": null,
            "object_fit": null,
            "object_position": null,
            "order": null,
            "overflow": null,
            "overflow_x": null,
            "overflow_y": null,
            "padding": null,
            "right": null,
            "top": null,
            "visibility": null,
            "width": null
          }
        },
        "7a15d9b375254ebd85e60a138c625655": {
          "model_module": "@jupyter-widgets/base",
          "model_name": "LayoutModel",
          "model_module_version": "1.2.0",
          "state": {
            "_model_module": "@jupyter-widgets/base",
            "_model_module_version": "1.2.0",
            "_model_name": "LayoutModel",
            "_view_count": null,
            "_view_module": "@jupyter-widgets/base",
            "_view_module_version": "1.2.0",
            "_view_name": "LayoutView",
            "align_content": null,
            "align_items": null,
            "align_self": null,
            "border": null,
            "bottom": null,
            "display": null,
            "flex": null,
            "flex_flow": null,
            "grid_area": null,
            "grid_auto_columns": null,
            "grid_auto_flow": null,
            "grid_auto_rows": null,
            "grid_column": null,
            "grid_gap": null,
            "grid_row": null,
            "grid_template_areas": null,
            "grid_template_columns": null,
            "grid_template_rows": null,
            "height": null,
            "justify_content": null,
            "justify_items": null,
            "left": null,
            "margin": null,
            "max_height": null,
            "max_width": null,
            "min_height": null,
            "min_width": null,
            "object_fit": null,
            "object_position": null,
            "order": null,
            "overflow": null,
            "overflow_x": null,
            "overflow_y": null,
            "padding": null,
            "right": null,
            "top": null,
            "visibility": null,
            "width": null
          }
        },
        "40adf9e9705a44c88c21e7e420a4c53e": {
          "model_module": "@jupyter-widgets/controls",
          "model_name": "DescriptionStyleModel",
          "model_module_version": "1.5.0",
          "state": {
            "_model_module": "@jupyter-widgets/controls",
            "_model_module_version": "1.5.0",
            "_model_name": "DescriptionStyleModel",
            "_view_count": null,
            "_view_module": "@jupyter-widgets/base",
            "_view_module_version": "1.2.0",
            "_view_name": "StyleView",
            "description_width": ""
          }
        },
        "c196c6c1acbe4a64bdfcb15af24ef285": {
          "model_module": "@jupyter-widgets/base",
          "model_name": "LayoutModel",
          "model_module_version": "1.2.0",
          "state": {
            "_model_module": "@jupyter-widgets/base",
            "_model_module_version": "1.2.0",
            "_model_name": "LayoutModel",
            "_view_count": null,
            "_view_module": "@jupyter-widgets/base",
            "_view_module_version": "1.2.0",
            "_view_name": "LayoutView",
            "align_content": null,
            "align_items": null,
            "align_self": null,
            "border": null,
            "bottom": null,
            "display": null,
            "flex": null,
            "flex_flow": null,
            "grid_area": null,
            "grid_auto_columns": null,
            "grid_auto_flow": null,
            "grid_auto_rows": null,
            "grid_column": null,
            "grid_gap": null,
            "grid_row": null,
            "grid_template_areas": null,
            "grid_template_columns": null,
            "grid_template_rows": null,
            "height": null,
            "justify_content": null,
            "justify_items": null,
            "left": null,
            "margin": null,
            "max_height": null,
            "max_width": null,
            "min_height": null,
            "min_width": null,
            "object_fit": null,
            "object_position": null,
            "order": null,
            "overflow": null,
            "overflow_x": null,
            "overflow_y": null,
            "padding": null,
            "right": null,
            "top": null,
            "visibility": null,
            "width": null
          }
        },
        "3781ea872a4a419694741169241e6ccc": {
          "model_module": "@jupyter-widgets/controls",
          "model_name": "ProgressStyleModel",
          "model_module_version": "1.5.0",
          "state": {
            "_model_module": "@jupyter-widgets/controls",
            "_model_module_version": "1.5.0",
            "_model_name": "ProgressStyleModel",
            "_view_count": null,
            "_view_module": "@jupyter-widgets/base",
            "_view_module_version": "1.2.0",
            "_view_name": "StyleView",
            "bar_color": null,
            "description_width": ""
          }
        },
        "d2f3c4f9798b4624b5d9c84b2c83a3f6": {
          "model_module": "@jupyter-widgets/base",
          "model_name": "LayoutModel",
          "model_module_version": "1.2.0",
          "state": {
            "_model_module": "@jupyter-widgets/base",
            "_model_module_version": "1.2.0",
            "_model_name": "LayoutModel",
            "_view_count": null,
            "_view_module": "@jupyter-widgets/base",
            "_view_module_version": "1.2.0",
            "_view_name": "LayoutView",
            "align_content": null,
            "align_items": null,
            "align_self": null,
            "border": null,
            "bottom": null,
            "display": null,
            "flex": null,
            "flex_flow": null,
            "grid_area": null,
            "grid_auto_columns": null,
            "grid_auto_flow": null,
            "grid_auto_rows": null,
            "grid_column": null,
            "grid_gap": null,
            "grid_row": null,
            "grid_template_areas": null,
            "grid_template_columns": null,
            "grid_template_rows": null,
            "height": null,
            "justify_content": null,
            "justify_items": null,
            "left": null,
            "margin": null,
            "max_height": null,
            "max_width": null,
            "min_height": null,
            "min_width": null,
            "object_fit": null,
            "object_position": null,
            "order": null,
            "overflow": null,
            "overflow_x": null,
            "overflow_y": null,
            "padding": null,
            "right": null,
            "top": null,
            "visibility": null,
            "width": null
          }
        },
        "dcff667befbf4817aff42d06a2eadb6b": {
          "model_module": "@jupyter-widgets/controls",
          "model_name": "DescriptionStyleModel",
          "model_module_version": "1.5.0",
          "state": {
            "_model_module": "@jupyter-widgets/controls",
            "_model_module_version": "1.5.0",
            "_model_name": "DescriptionStyleModel",
            "_view_count": null,
            "_view_module": "@jupyter-widgets/base",
            "_view_module_version": "1.2.0",
            "_view_name": "StyleView",
            "description_width": ""
          }
        },
        "756f7bd61f9f412b8ad07fe3cb5a799c": {
          "model_module": "@jupyter-widgets/controls",
          "model_name": "HBoxModel",
          "model_module_version": "1.5.0",
          "state": {
            "_dom_classes": [],
            "_model_module": "@jupyter-widgets/controls",
            "_model_module_version": "1.5.0",
            "_model_name": "HBoxModel",
            "_view_count": null,
            "_view_module": "@jupyter-widgets/controls",
            "_view_module_version": "1.5.0",
            "_view_name": "HBoxView",
            "box_style": "",
            "children": [
              "IPY_MODEL_ab8d8276a0b046268a27c32b1671fd14",
              "IPY_MODEL_2d469242ccab4a7891dc1b2455e12877",
              "IPY_MODEL_3d76a9429e964a298f894a84094cd847"
            ],
            "layout": "IPY_MODEL_f54f52a0908847fe905fdbc36530db70"
          }
        },
        "ab8d8276a0b046268a27c32b1671fd14": {
          "model_module": "@jupyter-widgets/controls",
          "model_name": "HTMLModel",
          "model_module_version": "1.5.0",
          "state": {
            "_dom_classes": [],
            "_model_module": "@jupyter-widgets/controls",
            "_model_module_version": "1.5.0",
            "_model_name": "HTMLModel",
            "_view_count": null,
            "_view_module": "@jupyter-widgets/controls",
            "_view_module_version": "1.5.0",
            "_view_name": "HTMLView",
            "description": "",
            "description_tooltip": null,
            "layout": "IPY_MODEL_bb962d7b496a45ed9b1b63fca0f34da2",
            "placeholder": "​",
            "style": "IPY_MODEL_bb2b5c4e599c48bb85af4ebd9e27604b",
            "value": "Map: 100%"
          }
        },
        "2d469242ccab4a7891dc1b2455e12877": {
          "model_module": "@jupyter-widgets/controls",
          "model_name": "FloatProgressModel",
          "model_module_version": "1.5.0",
          "state": {
            "_dom_classes": [],
            "_model_module": "@jupyter-widgets/controls",
            "_model_module_version": "1.5.0",
            "_model_name": "FloatProgressModel",
            "_view_count": null,
            "_view_module": "@jupyter-widgets/controls",
            "_view_module_version": "1.5.0",
            "_view_name": "ProgressView",
            "bar_style": "success",
            "description": "",
            "description_tooltip": null,
            "layout": "IPY_MODEL_9e949c8ba78d47ff8157a2fb854961a7",
            "max": 50000,
            "min": 0,
            "orientation": "horizontal",
            "style": "IPY_MODEL_5842acaed6464fd29094596037c05e19",
            "value": 50000
          }
        },
        "3d76a9429e964a298f894a84094cd847": {
          "model_module": "@jupyter-widgets/controls",
          "model_name": "HTMLModel",
          "model_module_version": "1.5.0",
          "state": {
            "_dom_classes": [],
            "_model_module": "@jupyter-widgets/controls",
            "_model_module_version": "1.5.0",
            "_model_name": "HTMLModel",
            "_view_count": null,
            "_view_module": "@jupyter-widgets/controls",
            "_view_module_version": "1.5.0",
            "_view_name": "HTMLView",
            "description": "",
            "description_tooltip": null,
            "layout": "IPY_MODEL_5a122e8cbb044c6791abe78b8c18a4a6",
            "placeholder": "​",
            "style": "IPY_MODEL_15e349dc2a684a14a484b0cc3c986c7a",
            "value": " 50000/50000 [00:31&lt;00:00, 1388.56 examples/s]"
          }
        },
        "f54f52a0908847fe905fdbc36530db70": {
          "model_module": "@jupyter-widgets/base",
          "model_name": "LayoutModel",
          "model_module_version": "1.2.0",
          "state": {
            "_model_module": "@jupyter-widgets/base",
            "_model_module_version": "1.2.0",
            "_model_name": "LayoutModel",
            "_view_count": null,
            "_view_module": "@jupyter-widgets/base",
            "_view_module_version": "1.2.0",
            "_view_name": "LayoutView",
            "align_content": null,
            "align_items": null,
            "align_self": null,
            "border": null,
            "bottom": null,
            "display": null,
            "flex": null,
            "flex_flow": null,
            "grid_area": null,
            "grid_auto_columns": null,
            "grid_auto_flow": null,
            "grid_auto_rows": null,
            "grid_column": null,
            "grid_gap": null,
            "grid_row": null,
            "grid_template_areas": null,
            "grid_template_columns": null,
            "grid_template_rows": null,
            "height": null,
            "justify_content": null,
            "justify_items": null,
            "left": null,
            "margin": null,
            "max_height": null,
            "max_width": null,
            "min_height": null,
            "min_width": null,
            "object_fit": null,
            "object_position": null,
            "order": null,
            "overflow": null,
            "overflow_x": null,
            "overflow_y": null,
            "padding": null,
            "right": null,
            "top": null,
            "visibility": null,
            "width": null
          }
        },
        "bb962d7b496a45ed9b1b63fca0f34da2": {
          "model_module": "@jupyter-widgets/base",
          "model_name": "LayoutModel",
          "model_module_version": "1.2.0",
          "state": {
            "_model_module": "@jupyter-widgets/base",
            "_model_module_version": "1.2.0",
            "_model_name": "LayoutModel",
            "_view_count": null,
            "_view_module": "@jupyter-widgets/base",
            "_view_module_version": "1.2.0",
            "_view_name": "LayoutView",
            "align_content": null,
            "align_items": null,
            "align_self": null,
            "border": null,
            "bottom": null,
            "display": null,
            "flex": null,
            "flex_flow": null,
            "grid_area": null,
            "grid_auto_columns": null,
            "grid_auto_flow": null,
            "grid_auto_rows": null,
            "grid_column": null,
            "grid_gap": null,
            "grid_row": null,
            "grid_template_areas": null,
            "grid_template_columns": null,
            "grid_template_rows": null,
            "height": null,
            "justify_content": null,
            "justify_items": null,
            "left": null,
            "margin": null,
            "max_height": null,
            "max_width": null,
            "min_height": null,
            "min_width": null,
            "object_fit": null,
            "object_position": null,
            "order": null,
            "overflow": null,
            "overflow_x": null,
            "overflow_y": null,
            "padding": null,
            "right": null,
            "top": null,
            "visibility": null,
            "width": null
          }
        },
        "bb2b5c4e599c48bb85af4ebd9e27604b": {
          "model_module": "@jupyter-widgets/controls",
          "model_name": "DescriptionStyleModel",
          "model_module_version": "1.5.0",
          "state": {
            "_model_module": "@jupyter-widgets/controls",
            "_model_module_version": "1.5.0",
            "_model_name": "DescriptionStyleModel",
            "_view_count": null,
            "_view_module": "@jupyter-widgets/base",
            "_view_module_version": "1.2.0",
            "_view_name": "StyleView",
            "description_width": ""
          }
        },
        "9e949c8ba78d47ff8157a2fb854961a7": {
          "model_module": "@jupyter-widgets/base",
          "model_name": "LayoutModel",
          "model_module_version": "1.2.0",
          "state": {
            "_model_module": "@jupyter-widgets/base",
            "_model_module_version": "1.2.0",
            "_model_name": "LayoutModel",
            "_view_count": null,
            "_view_module": "@jupyter-widgets/base",
            "_view_module_version": "1.2.0",
            "_view_name": "LayoutView",
            "align_content": null,
            "align_items": null,
            "align_self": null,
            "border": null,
            "bottom": null,
            "display": null,
            "flex": null,
            "flex_flow": null,
            "grid_area": null,
            "grid_auto_columns": null,
            "grid_auto_flow": null,
            "grid_auto_rows": null,
            "grid_column": null,
            "grid_gap": null,
            "grid_row": null,
            "grid_template_areas": null,
            "grid_template_columns": null,
            "grid_template_rows": null,
            "height": null,
            "justify_content": null,
            "justify_items": null,
            "left": null,
            "margin": null,
            "max_height": null,
            "max_width": null,
            "min_height": null,
            "min_width": null,
            "object_fit": null,
            "object_position": null,
            "order": null,
            "overflow": null,
            "overflow_x": null,
            "overflow_y": null,
            "padding": null,
            "right": null,
            "top": null,
            "visibility": null,
            "width": null
          }
        },
        "5842acaed6464fd29094596037c05e19": {
          "model_module": "@jupyter-widgets/controls",
          "model_name": "ProgressStyleModel",
          "model_module_version": "1.5.0",
          "state": {
            "_model_module": "@jupyter-widgets/controls",
            "_model_module_version": "1.5.0",
            "_model_name": "ProgressStyleModel",
            "_view_count": null,
            "_view_module": "@jupyter-widgets/base",
            "_view_module_version": "1.2.0",
            "_view_name": "StyleView",
            "bar_color": null,
            "description_width": ""
          }
        },
        "5a122e8cbb044c6791abe78b8c18a4a6": {
          "model_module": "@jupyter-widgets/base",
          "model_name": "LayoutModel",
          "model_module_version": "1.2.0",
          "state": {
            "_model_module": "@jupyter-widgets/base",
            "_model_module_version": "1.2.0",
            "_model_name": "LayoutModel",
            "_view_count": null,
            "_view_module": "@jupyter-widgets/base",
            "_view_module_version": "1.2.0",
            "_view_name": "LayoutView",
            "align_content": null,
            "align_items": null,
            "align_self": null,
            "border": null,
            "bottom": null,
            "display": null,
            "flex": null,
            "flex_flow": null,
            "grid_area": null,
            "grid_auto_columns": null,
            "grid_auto_flow": null,
            "grid_auto_rows": null,
            "grid_column": null,
            "grid_gap": null,
            "grid_row": null,
            "grid_template_areas": null,
            "grid_template_columns": null,
            "grid_template_rows": null,
            "height": null,
            "justify_content": null,
            "justify_items": null,
            "left": null,
            "margin": null,
            "max_height": null,
            "max_width": null,
            "min_height": null,
            "min_width": null,
            "object_fit": null,
            "object_position": null,
            "order": null,
            "overflow": null,
            "overflow_x": null,
            "overflow_y": null,
            "padding": null,
            "right": null,
            "top": null,
            "visibility": null,
            "width": null
          }
        },
        "15e349dc2a684a14a484b0cc3c986c7a": {
          "model_module": "@jupyter-widgets/controls",
          "model_name": "DescriptionStyleModel",
          "model_module_version": "1.5.0",
          "state": {
            "_model_module": "@jupyter-widgets/controls",
            "_model_module_version": "1.5.0",
            "_model_name": "DescriptionStyleModel",
            "_view_count": null,
            "_view_module": "@jupyter-widgets/base",
            "_view_module_version": "1.2.0",
            "_view_name": "StyleView",
            "description_width": ""
          }
        },
        "e7cb14a1a10d4e54a1c6bba30ae1726a": {
          "model_module": "@jupyter-widgets/controls",
          "model_name": "HBoxModel",
          "model_module_version": "1.5.0",
          "state": {
            "_dom_classes": [],
            "_model_module": "@jupyter-widgets/controls",
            "_model_module_version": "1.5.0",
            "_model_name": "HBoxModel",
            "_view_count": null,
            "_view_module": "@jupyter-widgets/controls",
            "_view_module_version": "1.5.0",
            "_view_name": "HBoxView",
            "box_style": "",
            "children": [
              "IPY_MODEL_e721a58021dc43109840054506c1b91b",
              "IPY_MODEL_494df3a17233496fac0f70a306419ef9",
              "IPY_MODEL_877461b8795b4273ac459ad17d41b49a"
            ],
            "layout": "IPY_MODEL_bc05226278724ef0ad912b3e2b5691a5"
          }
        },
        "e721a58021dc43109840054506c1b91b": {
          "model_module": "@jupyter-widgets/controls",
          "model_name": "HTMLModel",
          "model_module_version": "1.5.0",
          "state": {
            "_dom_classes": [],
            "_model_module": "@jupyter-widgets/controls",
            "_model_module_version": "1.5.0",
            "_model_name": "HTMLModel",
            "_view_count": null,
            "_view_module": "@jupyter-widgets/controls",
            "_view_module_version": "1.5.0",
            "_view_name": "HTMLView",
            "description": "",
            "description_tooltip": null,
            "layout": "IPY_MODEL_9db1b19c515a4c0cb1f4589d5bd9edff",
            "placeholder": "​",
            "style": "IPY_MODEL_624b367b8e734b879744d8befe020809",
            "value": "model.safetensors: 100%"
          }
        },
        "494df3a17233496fac0f70a306419ef9": {
          "model_module": "@jupyter-widgets/controls",
          "model_name": "FloatProgressModel",
          "model_module_version": "1.5.0",
          "state": {
            "_dom_classes": [],
            "_model_module": "@jupyter-widgets/controls",
            "_model_module_version": "1.5.0",
            "_model_name": "FloatProgressModel",
            "_view_count": null,
            "_view_module": "@jupyter-widgets/controls",
            "_view_module_version": "1.5.0",
            "_view_name": "ProgressView",
            "bar_style": "success",
            "description": "",
            "description_tooltip": null,
            "layout": "IPY_MODEL_61d11287fffc48f9a10568b71f1ea1d8",
            "max": 435755784,
            "min": 0,
            "orientation": "horizontal",
            "style": "IPY_MODEL_08ff985e13b548c0a2917cae2a711fa6",
            "value": 435755784
          }
        },
        "877461b8795b4273ac459ad17d41b49a": {
          "model_module": "@jupyter-widgets/controls",
          "model_name": "HTMLModel",
          "model_module_version": "1.5.0",
          "state": {
            "_dom_classes": [],
            "_model_module": "@jupyter-widgets/controls",
            "_model_module_version": "1.5.0",
            "_model_name": "HTMLModel",
            "_view_count": null,
            "_view_module": "@jupyter-widgets/controls",
            "_view_module_version": "1.5.0",
            "_view_name": "HTMLView",
            "description": "",
            "description_tooltip": null,
            "layout": "IPY_MODEL_9dd0aaa7e8d34ef1b580a97af0e9a15f",
            "placeholder": "​",
            "style": "IPY_MODEL_5834f5a50e49487d9e39395b321f031d",
            "value": " 436M/436M [00:05&lt;00:00, 125MB/s]"
          }
        },
        "bc05226278724ef0ad912b3e2b5691a5": {
          "model_module": "@jupyter-widgets/base",
          "model_name": "LayoutModel",
          "model_module_version": "1.2.0",
          "state": {
            "_model_module": "@jupyter-widgets/base",
            "_model_module_version": "1.2.0",
            "_model_name": "LayoutModel",
            "_view_count": null,
            "_view_module": "@jupyter-widgets/base",
            "_view_module_version": "1.2.0",
            "_view_name": "LayoutView",
            "align_content": null,
            "align_items": null,
            "align_self": null,
            "border": null,
            "bottom": null,
            "display": null,
            "flex": null,
            "flex_flow": null,
            "grid_area": null,
            "grid_auto_columns": null,
            "grid_auto_flow": null,
            "grid_auto_rows": null,
            "grid_column": null,
            "grid_gap": null,
            "grid_row": null,
            "grid_template_areas": null,
            "grid_template_columns": null,
            "grid_template_rows": null,
            "height": null,
            "justify_content": null,
            "justify_items": null,
            "left": null,
            "margin": null,
            "max_height": null,
            "max_width": null,
            "min_height": null,
            "min_width": null,
            "object_fit": null,
            "object_position": null,
            "order": null,
            "overflow": null,
            "overflow_x": null,
            "overflow_y": null,
            "padding": null,
            "right": null,
            "top": null,
            "visibility": null,
            "width": null
          }
        },
        "9db1b19c515a4c0cb1f4589d5bd9edff": {
          "model_module": "@jupyter-widgets/base",
          "model_name": "LayoutModel",
          "model_module_version": "1.2.0",
          "state": {
            "_model_module": "@jupyter-widgets/base",
            "_model_module_version": "1.2.0",
            "_model_name": "LayoutModel",
            "_view_count": null,
            "_view_module": "@jupyter-widgets/base",
            "_view_module_version": "1.2.0",
            "_view_name": "LayoutView",
            "align_content": null,
            "align_items": null,
            "align_self": null,
            "border": null,
            "bottom": null,
            "display": null,
            "flex": null,
            "flex_flow": null,
            "grid_area": null,
            "grid_auto_columns": null,
            "grid_auto_flow": null,
            "grid_auto_rows": null,
            "grid_column": null,
            "grid_gap": null,
            "grid_row": null,
            "grid_template_areas": null,
            "grid_template_columns": null,
            "grid_template_rows": null,
            "height": null,
            "justify_content": null,
            "justify_items": null,
            "left": null,
            "margin": null,
            "max_height": null,
            "max_width": null,
            "min_height": null,
            "min_width": null,
            "object_fit": null,
            "object_position": null,
            "order": null,
            "overflow": null,
            "overflow_x": null,
            "overflow_y": null,
            "padding": null,
            "right": null,
            "top": null,
            "visibility": null,
            "width": null
          }
        },
        "624b367b8e734b879744d8befe020809": {
          "model_module": "@jupyter-widgets/controls",
          "model_name": "DescriptionStyleModel",
          "model_module_version": "1.5.0",
          "state": {
            "_model_module": "@jupyter-widgets/controls",
            "_model_module_version": "1.5.0",
            "_model_name": "DescriptionStyleModel",
            "_view_count": null,
            "_view_module": "@jupyter-widgets/base",
            "_view_module_version": "1.2.0",
            "_view_name": "StyleView",
            "description_width": ""
          }
        },
        "61d11287fffc48f9a10568b71f1ea1d8": {
          "model_module": "@jupyter-widgets/base",
          "model_name": "LayoutModel",
          "model_module_version": "1.2.0",
          "state": {
            "_model_module": "@jupyter-widgets/base",
            "_model_module_version": "1.2.0",
            "_model_name": "LayoutModel",
            "_view_count": null,
            "_view_module": "@jupyter-widgets/base",
            "_view_module_version": "1.2.0",
            "_view_name": "LayoutView",
            "align_content": null,
            "align_items": null,
            "align_self": null,
            "border": null,
            "bottom": null,
            "display": null,
            "flex": null,
            "flex_flow": null,
            "grid_area": null,
            "grid_auto_columns": null,
            "grid_auto_flow": null,
            "grid_auto_rows": null,
            "grid_column": null,
            "grid_gap": null,
            "grid_row": null,
            "grid_template_areas": null,
            "grid_template_columns": null,
            "grid_template_rows": null,
            "height": null,
            "justify_content": null,
            "justify_items": null,
            "left": null,
            "margin": null,
            "max_height": null,
            "max_width": null,
            "min_height": null,
            "min_width": null,
            "object_fit": null,
            "object_position": null,
            "order": null,
            "overflow": null,
            "overflow_x": null,
            "overflow_y": null,
            "padding": null,
            "right": null,
            "top": null,
            "visibility": null,
            "width": null
          }
        },
        "08ff985e13b548c0a2917cae2a711fa6": {
          "model_module": "@jupyter-widgets/controls",
          "model_name": "ProgressStyleModel",
          "model_module_version": "1.5.0",
          "state": {
            "_model_module": "@jupyter-widgets/controls",
            "_model_module_version": "1.5.0",
            "_model_name": "ProgressStyleModel",
            "_view_count": null,
            "_view_module": "@jupyter-widgets/base",
            "_view_module_version": "1.2.0",
            "_view_name": "StyleView",
            "bar_color": null,
            "description_width": ""
          }
        },
        "9dd0aaa7e8d34ef1b580a97af0e9a15f": {
          "model_module": "@jupyter-widgets/base",
          "model_name": "LayoutModel",
          "model_module_version": "1.2.0",
          "state": {
            "_model_module": "@jupyter-widgets/base",
            "_model_module_version": "1.2.0",
            "_model_name": "LayoutModel",
            "_view_count": null,
            "_view_module": "@jupyter-widgets/base",
            "_view_module_version": "1.2.0",
            "_view_name": "LayoutView",
            "align_content": null,
            "align_items": null,
            "align_self": null,
            "border": null,
            "bottom": null,
            "display": null,
            "flex": null,
            "flex_flow": null,
            "grid_area": null,
            "grid_auto_columns": null,
            "grid_auto_flow": null,
            "grid_auto_rows": null,
            "grid_column": null,
            "grid_gap": null,
            "grid_row": null,
            "grid_template_areas": null,
            "grid_template_columns": null,
            "grid_template_rows": null,
            "height": null,
            "justify_content": null,
            "justify_items": null,
            "left": null,
            "margin": null,
            "max_height": null,
            "max_width": null,
            "min_height": null,
            "min_width": null,
            "object_fit": null,
            "object_position": null,
            "order": null,
            "overflow": null,
            "overflow_x": null,
            "overflow_y": null,
            "padding": null,
            "right": null,
            "top": null,
            "visibility": null,
            "width": null
          }
        },
        "5834f5a50e49487d9e39395b321f031d": {
          "model_module": "@jupyter-widgets/controls",
          "model_name": "DescriptionStyleModel",
          "model_module_version": "1.5.0",
          "state": {
            "_model_module": "@jupyter-widgets/controls",
            "_model_module_version": "1.5.0",
            "_model_name": "DescriptionStyleModel",
            "_view_count": null,
            "_view_module": "@jupyter-widgets/base",
            "_view_module_version": "1.2.0",
            "_view_name": "StyleView",
            "description_width": ""
          }
        }
      }
    }
  },
  "cells": [
    {
      "cell_type": "markdown",
      "source": [
        "# Fine-tuning LLMs\n",
        "\n",
        "In this notebook we will be looking at simple way for fine-tuning pretrained LLMs for tasks specific to your use case."
      ],
      "metadata": {
        "id": "RMmcF_kC7yoO"
      }
    },
    {
      "cell_type": "code",
      "source": [
        "!pip install transformers[torch]\n",
        "!pip install datasets\n",
        "!pip install evaluate"
      ],
      "metadata": {
        "id": "65vlDExm8GBh"
      },
      "execution_count": null,
      "outputs": []
    },
    {
      "cell_type": "markdown",
      "source": [
        "Fine-tuning has the following advantages -\n",
        "\n",
        "*   Allows to use state-of-the-art models without having to train one from scratch\n",
        "*  Reduces computation cost, carbon footprint\n",
        "*  Train a pretrained model on a specific dataset for your task\n",
        "\n"
      ],
      "metadata": {
        "id": "FiNgys8G8R80"
      }
    },
    {
      "cell_type": "markdown",
      "source": [
        "**Choosing the dataset**\n",
        "\n",
        "Here we will be using teh Yelp reviews dataset"
      ],
      "metadata": {
        "id": "vGeVO6gw9XvE"
      }
    },
    {
      "cell_type": "code",
      "source": [
        "# Loading dataset\n",
        "\n",
        "from datasets import load_dataset\n",
        "\n",
        "dataset = load_dataset(\"yelp_review_full\")\n",
        "\n",
        "dataset"
      ],
      "metadata": {
        "colab": {
          "base_uri": "https://localhost:8080/",
          "height": 260,
          "referenced_widgets": [
            "97a1091b68054624a1c87eef7f2115a7",
            "9f3abd9cd00a41a59f719832cb87f4db",
            "17b8fc85aab54d32b2165a477e2b05c3",
            "0265c26dec494b658ceaf4b584e9cd74",
            "0cf44aae767d4186af5fb8db8d77fde4",
            "b1ee3d96dce54514984d017292f7fd01",
            "46299507cac64a5eb5ee82c9a095103d",
            "aa362240874942a5ab3dbb8eb7eeca48",
            "5375285f49e34d6cb9718b27ebe134a3",
            "24207244c06847379426fba19d231e78",
            "835af55b53834a5e8b586a0cf66d012d",
            "fa2841797314418496aa1da7080fbd02",
            "727dd13d287b45c4bfd376c81d68e9c6",
            "3ed66a4d26984e44bd286aa3fc8656bf",
            "5753d1771d7d43ad8537e84af4577767",
            "803a9128c8224396939ec67ef1a4b6a0",
            "934f077612c04062b52fb4e3b6d808a3",
            "32869f736d434b44ae8cae510116bb5e",
            "a759748bf65f414ab3536ecd101428ae",
            "b4333069cbd545e6b1c5d27bcf7411c2",
            "15d469135cf14e18884594b60de9efb8",
            "7b2595137ac04950a01c6c296aaed410"
          ]
        },
        "id": "XvVN6eGj775Y",
        "outputId": "21983c93-c824-4878-b3c6-b3638549d61b"
      },
      "execution_count": 4,
      "outputs": [
        {
          "data": {
            "application/vnd.jupyter.widget-view+json": {
              "model_id": "97a1091b68054624a1c87eef7f2115a7",
              "version_major": 2,
              "version_minor": 0
            },
            "text/plain": [
              "Generating train split:   0%|          | 0/650000 [00:00<?, ? examples/s]"
            ]
          },
          "metadata": {},
          "output_type": "display_data"
        },
        {
          "output_type": "display_data",
          "data": {
            "text/plain": [
              "Generating test split:   0%|          | 0/50000 [00:00<?, ? examples/s]"
            ],
            "application/vnd.jupyter.widget-view+json": {
              "version_major": 2,
              "version_minor": 0,
              "model_id": "fa2841797314418496aa1da7080fbd02"
            }
          },
          "metadata": {}
        },
        {
          "output_type": "execute_result",
          "data": {
            "text/plain": [
              "DatasetDict({\n",
              "    train: Dataset({\n",
              "        features: ['label', 'text'],\n",
              "        num_rows: 650000\n",
              "    })\n",
              "    test: Dataset({\n",
              "        features: ['label', 'text'],\n",
              "        num_rows: 50000\n",
              "    })\n",
              "})"
            ]
          },
          "metadata": {},
          "execution_count": 4
        }
      ]
    },
    {
      "cell_type": "code",
      "source": [
        "print(f'Number of training samples: {len(dataset[\"train\"])}')\n",
        "print(f'Number of test samples: {len(dataset[\"test\"])}')"
      ],
      "metadata": {
        "colab": {
          "base_uri": "https://localhost:8080/"
        },
        "id": "5qbuCNQC8AZf",
        "outputId": "49bd6773-ca5a-47a4-8166-26997f6a0cb2"
      },
      "execution_count": 5,
      "outputs": [
        {
          "output_type": "stream",
          "name": "stdout",
          "text": [
            "Number of training samples: 650000\n",
            "Number of test samples: 50000\n"
          ]
        }
      ]
    },
    {
      "cell_type": "code",
      "source": [
        "dataset[\"train\"][11]"
      ],
      "metadata": {
        "colab": {
          "base_uri": "https://localhost:8080/"
        },
        "id": "o8zAWH7q9tWG",
        "outputId": "4f6098db-3cf5-4cbb-a4e2-0dc5312fd12a"
      },
      "execution_count": 6,
      "outputs": [
        {
          "output_type": "execute_result",
          "data": {
            "text/plain": [
              "{'label': 0,\n",
              " 'text': \"This place is absolute garbage...  Half of the tees are not available, including all the grass tees.  It is cash only, and they sell the last bucket at 8, despite having lights.  And if you finish even a minute after 8, don't plan on getting a drink.  The vending machines are sold out (of course) and they sell drinks inside, but close the drawers at 8 on the dot.  There are weeds grown all over the place.  I noticed some sort of batting cage, but it looks like those are out of order as well.  Someone should buy this place and turn it into what it should be.\"}"
            ]
          },
          "metadata": {},
          "execution_count": 6
        }
      ]
    },
    {
      "cell_type": "code",
      "source": [
        "dataset[\"train\"][22]"
      ],
      "metadata": {
        "colab": {
          "base_uri": "https://localhost:8080/"
        },
        "id": "0p9nFkiA-Wbf",
        "outputId": "e665ec72-b082-47d6-cb02-0bb833e804d1"
      },
      "execution_count": 7,
      "outputs": [
        {
          "output_type": "execute_result",
          "data": {
            "text/plain": [
              "{'label': 1,\n",
              " 'text': \"Very disappointed in the customer service. We ordered Reuben's  and wanted coleslaw instead of kraut. They charged us $3.00 for the coleslaw. We will not be back . The iced tea is also terrible tasting.\"}"
            ]
          },
          "metadata": {},
          "execution_count": 7
        }
      ]
    },
    {
      "cell_type": "markdown",
      "source": [
        "**Tokenizing the text**\n",
        "\n",
        "Tokenizer to process the text and include a padding and truncation strategy to handle any variable sequence"
      ],
      "metadata": {
        "id": "J_RMsvdCeRrx"
      }
    },
    {
      "cell_type": "code",
      "source": [
        "from transformers import AutoTokenizer\n",
        "\n",
        "# Tokenizer for the model name specified\n",
        "tokenizer = AutoTokenizer.from_pretrained(\"bert-base-cased\")"
      ],
      "metadata": {
        "colab": {
          "base_uri": "https://localhost:8080/",
          "height": 145,
          "referenced_widgets": [
            "10326aa142a84c3b9e13410d38aecf73",
            "eafd8c0d5b57474fb544d23b0892bf44",
            "b66383b79e5148f68f12edb8892f0057",
            "b40d635ddcb74644aaf84282d8d4f7e1",
            "3543855d61b041288fe0bcff4847783d",
            "bbf7518ce50d408480bcd7d2c36b0b9d",
            "1e16d83449f54c859abc450070f96f1e",
            "32b1a9b56e6f46c6ad02372db18ed53b",
            "a30aa5edfbc7446fb930e1694229a5eb",
            "eb24a7821996411cad635af6b1941bea",
            "1bc49214bfe241978f3bb9ea95000be0",
            "0b5cc79fe7fe41d4a9826d70e3987ded",
            "b2ddc95201f2489a99baf8ef1a3f9db1",
            "72f51bb369e64177a77f46f5f60a715b",
            "5f1b2df090204ad2bf662678f5f25663",
            "2d959c56c47f42dd8cc21e897dc9c337",
            "d6887905e933475ab038617a171da5b2",
            "356bd29fa8d44e82819a1d5889d9a965",
            "cfeac2396e22477a98d4a6dd265aa66f",
            "23fef5bd3ca040e787b2ff3ca5a9292a",
            "8a3f65eeee5b456685cec684c93b100f",
            "f7b5f1f7d71449fabff052a4dd3a893d",
            "bf15d529b8794938bc0e66dde24bc410",
            "dea73fcd77004ed784d67b37440435bb",
            "566c5de835854d56ac0114bde244d8d2",
            "64cb9f61d1a2476d84e532a9c9ed6851",
            "1697f3d81eb042b28ca0e9864bb3d03c",
            "6b85cfeaa625472e9b7e6ce543b0d7c1",
            "59d267d9b507400aa5fc7836e442afd0",
            "ce31fb2bdc294ac3a2244eb326506cc1",
            "e0a322ebc4e649e1a5046b850ce63761",
            "b8d73fe280f2405a8f5c00e0bb698343",
            "61e7f536a26d42c8a840697b22352859",
            "a8e47f5c18dc4222bbe119260cb4aebc",
            "46cda47c4c034372b335361a3897020d",
            "f769712370564f3e883a8fd3bbff8f92",
            "e23f809c17ce4a6987ddf43bf2d5830c",
            "20d5119339b24955aab5750564a6906b",
            "c831fb4290c94515a5601f0fa024ac12",
            "5d6d8fd64bdd4f1a9e902985bf2b6caa",
            "609ff65ddcfd471e9e3a7f6f47ed752f",
            "122a70ef94384b48a95fee15e1b24e56",
            "4a0d1e3ed9254a1aaa2ca899b874b6d0",
            "ca68839a53b24809bf05dcd8ae123797"
          ]
        },
        "id": "dQdKwK2S-dEm",
        "outputId": "afd5a46d-6c2a-4d8f-f56b-c393f0dd7b37"
      },
      "execution_count": 8,
      "outputs": [
        {
          "output_type": "display_data",
          "data": {
            "text/plain": [
              "tokenizer_config.json:   0%|          | 0.00/29.0 [00:00<?, ?B/s]"
            ],
            "application/vnd.jupyter.widget-view+json": {
              "version_major": 2,
              "version_minor": 0,
              "model_id": "10326aa142a84c3b9e13410d38aecf73"
            }
          },
          "metadata": {}
        },
        {
          "output_type": "display_data",
          "data": {
            "text/plain": [
              "config.json:   0%|          | 0.00/570 [00:00<?, ?B/s]"
            ],
            "application/vnd.jupyter.widget-view+json": {
              "version_major": 2,
              "version_minor": 0,
              "model_id": "0b5cc79fe7fe41d4a9826d70e3987ded"
            }
          },
          "metadata": {}
        },
        {
          "output_type": "display_data",
          "data": {
            "text/plain": [
              "vocab.txt:   0%|          | 0.00/213k [00:00<?, ?B/s]"
            ],
            "application/vnd.jupyter.widget-view+json": {
              "version_major": 2,
              "version_minor": 0,
              "model_id": "bf15d529b8794938bc0e66dde24bc410"
            }
          },
          "metadata": {}
        },
        {
          "output_type": "display_data",
          "data": {
            "text/plain": [
              "tokenizer.json:   0%|          | 0.00/436k [00:00<?, ?B/s]"
            ],
            "application/vnd.jupyter.widget-view+json": {
              "version_major": 2,
              "version_minor": 0,
              "model_id": "a8e47f5c18dc4222bbe119260cb4aebc"
            }
          },
          "metadata": {}
        }
      ]
    },
    {
      "cell_type": "code",
      "source": [
        "print(tokenizer.vocab)"
      ],
      "metadata": {
        "colab": {
          "base_uri": "https://localhost:8080/"
        },
        "id": "HrkXOE7TgY_S",
        "outputId": "a659bb03-f6d6-48aa-dac3-e3f08d9ff6ba"
      },
      "execution_count": 9,
      "outputs": [
        {
          "output_type": "stream",
          "name": "stdout",
          "text": [
            "{'ē': 289, 'occupied': 3749, '##na': 1605, 'Kat': 10785, 'Shepherd': 13444, 'く': 900, 'offspring': 14416, 'intersects': 18585, 'goalkeeper': 10159, 'mistakes': 12572, '##tives': 27230, '″': 798, 'outcome': 9386, 'Lucifer': 27554, 'operated': 2622, 'bee': 17775, '##ulus': 11430, '##ν': 23907, 'prescription': 24259, 'mounted': 5378, 'banana': 21806, '##zed': 5305, 'ST': 23676, 'Athena': 24481, '##oke': 9143, 'Beta': 13470, '##cco': 14566, '##ising': 7131, 'coincided': 20126, 'Maker': 23279, 'girls': 2636, 'liberation': 14278, 'Amor': 22304, '##tropy': 25444, '##numbered': 25681, 'gothic': 25213, '1863': 6293, '##rudge': 27577, '##ult': 7067, 'struck': 4168, 'voice': 1490, '102': 9081, 'descriptions': 14256, '##itive': 8588, 'Siberia': 17991, 'Designed': 20879, 'Norris': 16309, '##ὁ': 28672, '##∨': 28751, '##ony': 10031, 'Baltimore': 5553, 'roommate': 20116, 'Greene': 10983, 'roaring': 23041, 'tavern': 19444, 'replacement': 5627, 'Net': 20820, 'oh': 9294, 'Almost': 8774, 'nonetheless': 14642, 'glider': 23090, '##smith': 11195, 'Nuclear': 11560, 'actual': 4315, '##yu': 9379, 'Griffiths': 24293, 'anything': 1625, 'impending': 19625, 'ズ': 947, 'vertex': 22132, 'exposing': 15952, 'su': 28117, '##pur': 4093, 'essentially': 7588, 'negotiate': 14169, 'platforms': 6833, '##holes': 21212, '##te': 1566, 'Thought': 15255, '##tri': 19091, 'Livingston': 14648, 'Lt': 8403, 'curling': 16034, 'talked': 5029, 'illuminated': 15888, '##quila': 21005, 'encompasses': 14474, 'fast': 2698, 'Events': 17437, '##ְ': 28437, 'ĩ': 297, 'Sailor': 24588, 'finalists': 15333, 'Equity': 25083, 'fell': 2204, 'Victoria': 3006, '##‘': 28688, 'grouped': 15965, 'Historic': 3700, '##ʐ': 28293, 'flicker': 20454, '##rlene': 25140, 'Worth': 12554, 'advisory': 13372, 'gasped': 8140, '##oral': 17536, 'Premier': 3863, 'calculate': 20446, '##bba': 27261, 'puts': 8165, 'HC': 18315, '##lers': 10369, 'Austen': 27165, 'Instead': 3743, 'Han': 7699, '##ア': 28824, 'George': 1667, '82': 5787, 'discouraged': 25761, '##བ': 28592, 'peaked': 6009, 'quotes': 18328, 'Case': 9060, 'cellular': 14391, 'alma': 24095, 'nominal': 16251, 'addressed': 7894, 'kHz': 19125, 'permits': 15267, 'Frankenstein': 24978, 'Railroad': 5451, 'Griffin': 9212, '##inal': 14196, 'offers': 3272, '##ubi': 25422, 'Navy': 2506, 'ties': 7057, '##sional': 24533, 'Faculty': 6694, 'Trying': 19020, 'Lucas': 5675, 'Sales': 15689, 'Burkina': 25739, '##gio': 10712, 'stained': 9729, 'westward': 17222, '##”': 28692, 'feral': 22944, 'If': 1409, 'intervene': 20406, 'outrage': 22052, '##alle': 22096, 'exchange': 3670, 'Baja': 21519, 'spilling': 19626, 'pianist': 9003, 'noteworthy': 22076, 'arbitrary': 16439, 'warmly': 25415, 'Mendoza': 19406, 'Angel': 5876, 'Bliss': 20633, 'Scandinavia': 22570, '##rave': 22116, 'Gothenburg': 25419, 'episcopal': 24451, '##fication': 11531, 'experience': 2541, '##0s': 13031, 'Scenic': 27314, 'useless': 12277, '##shire': 6662, '##vable': 12598, 'severely': 8669, 'Something': 4262, '##raith': 21980, 'acquisitions': 23345, 'Sir': 2203, '##scraper': 27699, 'loading': 10745, 'severity': 20997, 'defending': 6611, '##ུ': 28598, 'broadcasters': 27271, '1757': 25146, 'immigrant': 12338, 'Magdalena': 27971, 'Why': 2009, 'ň': 309, '##OE': 19825, 'Johannesburg': 16919, 'Goodbye': 15938, 'meat': 6092, '##amo': 16931, 'clit': 19393, 'mattered': 14361, 'cabinets': 22746, '##tches': 16030, '##hr': 8167, 'gravitational': 22729, 'prosecutors': 24987, 'Doll': 25137, 'gestured': 11596, '##デ': 28845, '##rip': 16669, 'needed': 1834, 'Broncos': 14722, 'stereotypes': 26478, 'means': 2086, 'owners': 5032, 'Dam': 8732, '##mba': 10806, 'strengthen': 13346, 'bubbles': 22389, 'Sometimes': 5875, '##:': 28140, '##abi': 23156, '##moration': 24829, 'Teen': 15948, 'paralyzed': 25691, 'mile': 2837, 'friendship': 7157, 'controlling': 9783, '##was': 20963, 'Holland': 7465, '##DC': 15556, 'remote': 6456, 'She': 1153, 'hugging': 19558, 'ה': 539, 'predators': 15334, 'Stefan': 8882, 'mood': 6601, 'Neill': 11935, '##eda': 14604, 'ROM': 22870, 'turmoil': 19771, '##co': 2528, '##bar': 6824, 'Je': 27901, 'touch': 2828, 'ranking': 5662, 'accommodation': 11822, 'Once': 2857, 'sought': 4110, '##rado': 22146, '1992': 1924, 'advertisement': 16355, 'worry': 3994, '##ose': 6787, 'bastard': 8735, '##ckling': 27102, 'feed': 4877, 'understand': 2437, 'Elementary': 5395, '##ND': 16769, 'Hampshire': 6446, 'robot': 10975, '°F': 7701, '1771': 22683, 'singer': 2483, '##mare': 26797, 'cure': 11200, '1801': 12561, 'outfits': 24526, 'entity': 9127, '##vis': 9356, 'Rector': 20355, 'undertaken': 10510, '##bell': 14545, 'gesturing': 25250, 'enthusiasm': 12430, 'clues': 17645, 'meter': 8227, '##lai': 20737, '##runch': 22715, 'count': 5099, 'civilians': 9112, 'sa': 21718, '##cognition': 27176, '16th': 5050, 'exposure': 7401, 'revenue': 7143, 'containers': 17769, 'Caledonia': 21007, '##quis': 27110, '宮': 1017, '##tsk': 23450, 'Group': 1990, '##DF': 16395, '##gled': 8384, 'Wanderers': 15131, 'Important': 21991, 'correct': 5663, '##UI': 22054, 'prints': 11875, 'delegation': 11703, 'Vicente': 18481, '1764': 23688, '##tt': 3069, '##linary': 25471, 'pressed': 3691, '##etics': 22259, '##arland': 23464, 'True': 7817, 'risen': 15495, 'Achilles': 26919, 'grown': 4215, 'Tribunal': 17632, 'physiological': 23292, '##topia': 24696, 'phrase': 7224, 'Mathematics': 9833, 'stakeholders': 26027, '##ede': 15018, 'observer': 14440, 'Trading': 22263, 'Wizard': 16369, 'Greater': 6752, 'Fleetwood': 26729, 'Archibald': 16849, 'Solutions': 20470, '##75': 26253, 'Nike': 20100, 'separates': 20229, 'Blanco': 22659, 'immediately': 2411, 'personal': 2357, 'fantasy': 7369, '##lard': 26531, '##eville': 25458, '[unused98]': 98, 'shone': 15515, 'fame': 8408, 'Dorset': 16180, 'fifteen': 5147, 'Ellie': 10622, 'wave': 4003, 'storage': 5092, 'transmitter': 11991, 'altitudes': 24604, 'rhetoric': 21933, 'Saturn': 15476, 'Byrd': 19195, 'quantitative': 25220, 'rejection': 14732, 'divers': 22767, 'assumes': 16956, 'pin': 10473, 'Goodman': 15143, 'hydraulic': 16872, 'Guru': 14857, 'Pony': 26755, 'Patriarch': 17334, 'drives': 9307, 'marked': 3597, 'labor': 5530, 'tightly': 6852, 'altitude': 7761, 'quantum': 9539, '[unused51]': 51, 'spent': 2097, '##boy': 9858, 'Crambidae': 23818, 'toward': 1755, 'rare': 4054, 'Astronomical': 26545, 'determining': 13170, 'Gabriel': 5487, '##ƒ': 28263, '##etic': 9265, '##hampton': 24207, 'genocide': 19643, 'disorder': 8936, 'Colleges': 14590, 'stable': 6111, '##rain': 11098, '##gratulations': 25891, '1841': 9599, 'ground': 1747, 'Anthropology': 22880, 'carvings': 25888, 'neither': 4534, 'coefficient': 21130, 'queen': 5746, 'Guiana': 26354, 'backs': 10571, 'Week': 6237, 'same': 1269, '##tara': 22875, 'Arthur': 3456, '##ally': 2716, '1980s': 3011, '##coe': 16123, '##zuki': 24849, 'Department': 1951, 'momentum': 11550, 'escort': 9070, '##ῦ': 28679, 'else': 1950, '##allo': 20797, '##ﬂ': 28988, '##cini': 27909, 'Jam': 13263, 'Enough': 13966, 'Parkinson': 22195, 'Geelong': 20199, 'Empty': 17179, 'recovery': 7593, '##ła': 26617, 'cinema': 7678, 'Princess': 4738, 'gathering': 7410, 'Boyd': 12286, '͡': 393, '1850': 7493, 'builders': 21903, 'McKenna': 24274, 'downloaded': 26143, 'African': 2170, 'appoint': 18016, '1846': 8911, 'F': 143, 'melt': 16399, 'Ebert': 25204, 'distributing': 23099, '1982': 2294, '##uru': 12328, 'Mirror': 13861, 'alliances': 25012, 'days': 1552, 'RS': 25591, 'Seven': 5334, 'levels': 3001, 'Odessa': 21613, '42nd': 23532, '##latine': 27325, '##care': 23340, 'signaled': 24771, '##aut': 24723, 'lighter': 9310, 'Nakamura': 26903, 'Multi': 18447, '##plicate': 21379, '##folia': 26749, '##emption': 19007, 'baseball': 3866, 'Rowe': 22652, 'agitated': 24346, 'ᵀ': 708, '##ald': 18728, '##ński': 15713, 'seventy': 12911, 'Anya': 24221, 'tan': 15925, 'Loser': 16462, 'neck': 2455, 'Horton': 19923, 'Sumatra': 19679, 'increase': 2773, 'endurance': 20655, 'Alba': 24005, 'Panama': 8392, 'Baptist': 7047, 'soap': 8439, 'Publisher': 26045, 'Lantern': 23999, 'Academic': 10076, 'minerals': 15362, 'Either': 11940, 'planetary': 23724, 'prostitutes': 23779, 'here': 1303, 'functioned': 22937, 'evaluating': 27698, 'liner': 12119, '##jective': 20913, 'mediated': 22060, 'sculpted': 22079, 'elder': 8110, '70': 3102, 'might': 1547, 'வ': 678, 'flipping': 21547, 'Catch': 25079, '##iddle': 25826, 'about': 1164, 'prolonged': 16639, 'petals': 17270, '##romatic': 16341, 'setup': 18011, '92': 5556, 'Children': 4288, 'Café': 21036, 'nominate': 26366, '##dela': 23428, '##HF': 13561, 'landings': 18482, 'avid': 21976, 'Rate': 24442, 'leaning': 6784, 'encompassed': 27072, 'gallery': 7183, '##pment': 22115, 'hence': 7544, 'Byrne': 15635, 'nationally': 9658, 'show': 1437, 'facts': 9193, 'urine': 19968, 'Plato': 21137, 'chip': 11451, '##ῶ': 28680, '##∩': 28752, 'activists': 10254, 'baseman': 19670, '##ranged': 19587, 'ж': 481, '##zer': 6198, 'attached': 4309, 'projects': 3203, 'bill': 4550, 'duel': 17253, 'ins': 22233, '##mio': 18248, 'Words': 13212, 'yells': 25044, '##iki': 12635, 'described': 1758, 'Abbey': 6674, '##sman': 8878, '##ieu': 21114, 'alternatives': 18815, 'conducts': 19706, 'Sichuan': 23115, '##viour': 27630, 'Say': 8652, 'changing': 4787, 'comply': 14616, 'proves': 17617, 'Leopold': 13642, '##ư': 28265, 'mob': 13221, 'glaring': 17606, 'denoted': 21307, '##china': 22952, '##ifer': 25052, 'preview': 24409, 'twelfth': 13688, 'disruption': 23730, 'liking': 17974, '##rix': 14799, '1926': 4082, 'Jaime': 15162, 'Answer': 26018, '##cilla': 23694, 'Privy': 19913, 'principles': 6551, 'Chu': 17144, '1756': 24816, '##ead': 12393, 'stomach': 3472, 'Daughter': 16039, 'Calgary': 9910, 'transmitting': 27536, '##gth': 27116, 'scanning': 15049, 'skating': 12718, 'Gee': 23880, 'Francisco': 2948, 'criticized': 5711, 'snapping': 17332, '##46': 23435, 'twenties': 21708, 'husband': 2252, 'whether': 2480, 'Albania': 10278, '180': 7967, 'transitioned': 26974, 'elves': 25743, '##while': 21053, 'audition': 16262, 'ح': 571, 'stew': 26036, 'contracting': 26706, 'ー': 975, 'Canadians': 17524, 'convinces': 21227, 'Appeal': 13969, 'manufacture': 10032, '##dit': 17903, 'Has': 10736, '##ially': 21323, 'ditch': 15916, 'eastward': 18953, '##С': 28382, 'USSR': 10183, 'children': 1482, 'carriages': 19486, 'tail': 5287, 'creates': 8743, 'Social': 3563, 'murderer': 14603, 'part': 1226, 'centimetres': 14421, '##த': 28575, 'tidal': 17958, 'Infinity': 24706, '50': 1851, 'pretending': 12714, '##eta': 12405, '##ー': 28868, 'freestyle': 11370, 'Buchanan': 14912, '##ep': 8043, 'ya': 11078, 'Fred': 5291, 'city': 1331, '##sen': 3792, 'stain': 24754, 'Marlborough': 25398, 'pavement': 15823, 'Filming': 23773, 'Kaufman': 26517, 'particularly': 2521, 'shells': 11251, 'Milano': 23933, 'moniker': 24395, 'Croydon': 24148, 'Aleksandr': 26955, 'Nationalist': 18018, '##া': 28566, 'Forget': 17323, 'configuration': 9566, '##ilation': 16230, 'engineered': 16419, '##ivating': 19012, 'harmless': 22134, 'Aerospace': 19417, '##pton': 11927, 'arousal': 21019, 'criteria': 9173, 'enables': 13267, '##elin': 24247, 'indicates': 6653, 'alternate': 7551, 'chances': 9820, '##itas': 23849, 'valley': 4524, '##boards': 13005, 'clever': 13336, '##fell': 27610, '##ֹ': 28443, 'lowering': 15405, '##ady': 16196, 'Connell': 18354, 'scalp': 23658, '##vat': 26465, 'winged': 16282, 'V8': 16796, 'materials': 3881, 'parameters': 11934, '##stick': 23743, 'celebrations': 12746, 'Intermediate': 16088, 'nouns': 22270, 'renewable': 17216, 'Kit': 18284, 'post': 2112, 'Organisation': 14213, 'Sugar': 10619, 'Bishops': 15180, 'נ': 550, 'idea': 1911, '##義': 28960, 'religion': 4483, '##risto': 26691, 'Ivy': 7717, 'capabilities': 9816, 'environment': 3750, 'captivity': 17737, 'paused': 5162, 'Ministers': 15102, 'Choi': 19948, 'display': 3934, '##yas': 13358, '14th': 5740, 'tests': 5715, 'tablet': 16048, 'デ': 952, 'mild': 10496, 'undertook': 12722, 'Chelsea': 8979, 'fierce': 9250, 'specially': 12493, 'Actors': 23351, 'opera': 4677, 'barrel': 8482, 'confess': 20989, 'sheep': 8892, '##з': 28398, '##halt': 24537, '##played': 26669, 'knows': 3520, '##wash': 24745, 'Babylon': 19014, 'Kobe': 27851, 'embedded': 11783, 'household': 3705, 'Anton': 9809, 'ATP': 12841, '##date': 9216, 'Talk': 8768, 'Love': 2185, '##MB': 20660, '##य': 28523, '##海': 28945, 'Scarlett': 22991, 'students': 1651, 'Ernesto': 24918, 'amongst': 5690, 'M1': 26528, 'consistently': 10887, '##roll': 10747, 'investigating': 11950, 'Harris': 4951, 'Committees': 25288, 'flanks': 26435, 'Liberals': 16951, 'Petty': 18468, 'piers': 23747, 'searches': 18806, 'SF': 18659, 'gravity': 9926, 'sensors': 15145, '##gel': 8863, 'dull': 10884, 'perch': 25886, 'feature': 2672, 'tall': 3543, 'coded': 25799, '##chord': 27874, 'Alan': 4258, 'caravan': 25490, 'services': 1826, '249': 26409, 'Rahman': 15106, 'psychic': 14181, 'Barnett': 21886, '##isa': 15630, 'HP': 18444, 'Nevada': 7263, '##itor': 15419, 'Titanic': 24342, 'Patel': 22545, 'tornado': 13914, '##bur': 19364, 'Falls': 6230, 'grades': 7093, 'Jean': 2893, 'layered': 23978, 'untouched': 25135, '##base': 14017, 'deed': 17194, 'Marquess': 19624, '##rg': 10805, 'using': 1606, '##uri': 8212, 'wavy': 26985, 'own': 1319, 'vigorous': 24739, 'Companion': 17631, '##secutor': 27727, 'Boyle': 17846, 'rivals': 9521, 'provision': 9348, '##iovascular': 25575, 'Taiwanese': 17585, 'islands': 5011, 'transaction': 13618, '##ño': 10426, 'bookstore': 27714, 'categories': 6788, 'Bowl': 5308, 'partial': 7597, '##ika': 7223, 'Len': 22824, 'accumulated': 15664, 'dropping': 7367, 'linguistics': 23213, 'sorting': 26258, '##oso': 22354, 'Pennsylvania': 2680, 'switches': 17183, 'couple': 2337, 'Category': 13696, 'Theater': 5978, 'replay': 18723, 'minister': 3907, 'domestic': 4500, '##SR': 16396, 'finances': 18488, '##mir': 15191, 'Rees': 24646, 'whole': 2006, 'wa': 20049, 'vascular': 26557, '##rad': 9871, 'settings': 11106, 'mice': 14105, 'Parma': 20967, 'Sunni': 20610, '##ì': 21409, 'Leicester': 11248, 'endangered': 11532, '##sor': 21484, '##witch': 18548, '##ryo': 26503, 'realise': 21035, 'Welsh': 5447, '##ẩ': 28644, 'physician': 7454, 'Nippon': 21206, 'Grey': 6285, 'ら': 926, 'Din': 17228, '##rly': 25339, '##‒': 28683, '##truder': 24993, 'Boom': 19287, '##hes': 16090, 'deposition': 23042, '##rk': 4661, 'largest': 2026, 'campuses': 14495, 'zombie': 16192, 'Opposition': 16475, 'demonstrated': 7160, 'settle': 7098, 'blocks': 5511, 'riot': 14807, 'appreciate': 8856, 'Hockey': 5109, 'intently': 17184, 'Arnold': 7296, 'select': 8247, 'energy': 2308, 'Sacramento': 12022, '/': 120, '##cape': 24517, 'Carolyn': 16493, 'Rafael': 11002, 'vulnerability': 20727, '##dering': 24455, 'declares': 20651, '##rner': 18056, 'architects': 10939, '##tations': 18837, 'modelled': 26550, '##hler': 14460, 'è': 254, 'inherit': 26047, '1862': 6283, 'reacted': 15510, 'Bing': 19662, 'Sylvester': 21855, '##́': 28310, 'exported': 16578, '##ppy': 20099, 'Living': 7932, 'statues': 11739, 'November': 1379, '##jet': 18836, 'closure': 8354, 'migrate': 25572, 'Pradesh': 7530, '%': 110, '##igan': 10888, 'furiously': 22406, 'awakened': 23182, 'spokesman': 15465, '##lvin': 25416, 'festival': 3782, '##cumenical': 26240, 'literally': 6290, '##ceae': 8814, 'battalions': 11592, 'responsibility': 4812, '##Ч': 28388, 'healthcare': 12520, 'gorge': 25601, 'rescuing': 27409, 'more': 1167, 'restaurants': 7724, 'Guitar': 7656, 'Consort': 27765, 'protruding': 27032, 'cuisine': 13994, '[unused55]': 55, 'UC': 16991, 'conquered': 11578, 'Protocol': 17580, 'receivers': 21535, 'prevents': 17356, 'rubber': 9579, 'abducted': 22586, 'Brother': 8388, '##tate': 10237, 'patio': 22408, '81': 5615, 'compact': 10114, 'simulation': 14314, 'Limerick': 16729, 'deteriorated': 21959, 'Aleppo': 25629, 'lyricist': 24379, 'generate': 9509, 'Terminal': 11844, '##や': 28816, 'disabled': 10302, 'collections': 6286, '##80': 18910, 'pillow': 10352, '##orra': 27583, '##throp': 21850, 'battling': 20112, 'farms': 9464, 'Heidelberg': 17880, 'snails': 14034, '##kon': 19890, 'Zagreb': 13203, '##bard': 27191, 'distracted': 11353, 'Late': 6372, 'speaking': 3522, '##cent': 8298, 'anguish': 25096, 'Faust': 27093, 'Family': 3921, 'uneven': 19616, '##finity': 24415, '##dan': 6778, '##continent': 25442, '187': 21168, 'Ottoman': 5568, '25th': 10938, 'autobiography': 12134, 'ESPN': 10967, 'Macedonian': 13296, 'Geographic': 15472, 'gang': 6939, '##е': 19692, '##hta': 26489, 'initiatives': 11751, '##chuk': 25271, 'Stevens': 8437, 'Т': 465, '##lam': 7609, 'shopping': 6001, 'desktop': 18813, 'Eduard': 22373, '##hesia': 27300, 'Blue': 2770, 'immediate': 5670, '##ος': 26352, 'Southeast': 8348, 'Americas': 11198, 'implementing': 16381, '##asi': 17506, 'Theresa': 15532, 'accused': 4806, 'renamed': 3286, 'snow': 4883, 'tin': 14086, '∈': 850, 'The': 1109, 'simplicity': 20203, 'Beijing': 6671, 'Find': 15944, '[unused88]': 88, 'Oricon': 24660, 'demanded': 5648, 'in': 1107, 'dipping': 27669, '##ilized': 15892, '##j': 3361, 'catching': 9256, '##mit': 9084, 'Nancy': 7444, '000': 1288, 'Cafe': 18375, 'foliage': 21731, '76': 5465, 'ignored': 5794, 'chestnut': 23337, 'Suzanne': 15915, 'Doctorate': 24893, '##dler': 18078, 'angry': 4259, '##hare': 22705, 'Bahrain': 15967, 'thicker': 22174, '##oma': 7903, '##hun': 17315, '##iment': 27439, 'magistrate': 20261, 'radios': 26150, '1752': 27852, 'Wild': 5469, 'column': 5551, 'lethal': 14969, '##ichi': 11985, 'kneeling': 19765, 'unpublished': 22255, 'waterfront': 22975, '1780': 15763, 'Williams': 2902, 'TO': 16972, 'tribunal': 23893, '##mps': 15279, 'Protected': 15344, 'Henrietta': 22807, '##ors': 3864, 'dripping': 15224, 'Lots': 24270, 'timber': 7148, 'Rachel': 4858, 'Horror': 16709, 'inspected': 22457, '129': 14949, 'M': 150, 'Made': 10865, 'limb': 16864, 'frustrated': 11010, 'platoon': 18231, 'actresses': 22704, '143': 17025, 'J': 147, '##vice': 14301, 'representing': 4311, 'Charter': 11171, 'mankind': 18442, 'debt': 6695, 'Alice': 4953, '1840': 8535, 'Composition': 20819, 'uniquely': 23990, 'batteries': 10702, 'Downtown': 11852, 'origin': 4247, '##matical': 26128, 'Ultimately': 16266, 'visible': 5085, 'drunken': 18530, 'Fire': 4266, 'ṛ': 735, 'Valentine': 10002, '640': 21451, '##bro': 12725, 'Olga': 16514, 'eats': 24347, '##ying': 9257, 'exotic': 13640, '##ificant': 18772, 'Information': 4219, 'woodland': 14010, 'Forever': 11694, 'Au': 27758, 'Caucasus': 17570, '##ák': 24154, 'spacious': 25274, 'restrict': 23951, 'users': 4713, 'mouthed': 22546, '##வ': 28581, '##uch': 9827, 'ِ': 596, 'conductor': 7780, '##volved': 19628, 'pornography': 22912, 'Brewer': 24720, 'Combined': 16544, 'fundraising': 17290, 'staff': 2546, 'sporting': 9648, 'Tory': 18377, '##graphic': 11293, '1958': 2996, 'answered': 3845, 'Investment': 13623, 'rue': 27131, '##wide': 15665, '##‐': 28681, '##ica': 4578, 'Gran': 13529, '01': 5187, '##tag': 21365, 'perception': 11170, '##cea': 20287, 'subgroup': 23470, 'ensemble': 9525, 'tunic': 25852, '##À': 28179, '##pha': 20695, '##ধ': 28554, 'backstage': 25679, 'Bahadur': 24290, '##ín': 7326, 'solely': 9308, '「': 889, '##צ': 28464, '1844': 9461, '##tase': 25347, '##yang': 13490, 'monuments': 12449, 'Quentin': 16909, 'foam': 20805, 'Shop': 13125, '1998': 1772, 'limo': 27297, '##orted': 17425, 'bedrooms': 20216, 'que': 15027, 'intact': 9964, 'atrocities': 27232, 'nominations': 10394, 'exhibiting': 25988, 'administrator': 11065, '##ג': 28447, 'Jaguar': 21694, 'situated': 3629, '##quire': 15174, 'yellowish': 19238, 'nuclear': 4272, 'Daryl': 25026, 'hearings': 21873, 'Constantinople': 11827, 'Square': 4656, '[unused2]': 2, '##morphic': 24285, '86': 5942, '##ware': 7109, '##dies': 10831, 'monument': 7020, 'Graf': 25125, '##ི': 28597, 'Norfolk': 7240, 'McCain': 20884, 'む': 920, '##enstein': 26998, 'categorized': 22429, '##ctors': 22711, '##rily': 11486, '[unused83]': 83, '¨': 205, 'disturbed': 13162, 'Stirling': 16502, 'spoken': 4606, '##事': 28874, 'fortune': 8977, 'songs': 2040, '##wen': 10781, 'Documentary': 13595, '##SL': 13726, 'traitor': 20365, 'buffalo': 26700, '##vian': 10644, 'flashes': 18324, 'net': 5795, '##mper': 20900, '##rity': 12298, 'widow': 8244, 'Senators': 13205, 'Trojan': 28099, '##kles': 23869, '##ntial': 24459, 'Carr': 12639, 'borrowed': 12214, 'Fuji': 23219, 'termed': 12201, 'missions': 6178, 'Councillor': 18073, '##nounce': 25196, '##kner': 25300, 'parking': 5030, '##rming': 21290, 'putting': 4518, '##heimer': 19263, 'appealing': 17117, 'solve': 9474, 'mouths': 16054, 'climate': 4530, 'Parade': 12850, '##tata': 18244, '##kla': 27752, 'haul': 16238, 'folds': 17373, 'recognizing': 17344, 'UEFA': 6068, 'explosive': 12154, 'narration': 25008, 'Hopkins': 10055, 'being': 1217, 'headline': 21188, 'deciduous': 25361, 'speculated': 16392, '##ulet': 20117, 'widen': 23899, 'swimmer': 14412, 'humiliation': 24093, 'intensified': 16744, 'Effects': 23009, 'fluids': 24024, 'flats': 18181, 'anyway': 4050, 'sigh': 6106, 'guest': 3648, 'Lives': 14397, 'predecessor': 8283, 'spirits': 9494, '##hin': 8265, 'regarding': 4423, 'Université': 25955, 'reclaimed': 26224, 'Colony': 11522, 'Step': 14232, '##ott': 15719, 'simpler': 17633, '##agi': 27547, 'talents': 12236, 'abruptly': 9354, 'ר': 556, 'How': 1731, 'Brandenburg': 17440, 'music': 1390, '[unused22]': 22, 'pond': 11925, 'retirement': 4406, '153': 17777, 'cater': 27766, '##ū': 9798, '##llum': 21275, '##naming': 27947, 'Abbott': 15176, 'commitments': 19716, 'adoption': 10156, 'Kenny': 8537, 'arises': 20251, 'emotion': 7471, '##one': 4798, 'root': 7261, 'Resistance': 15598, 'Virginia': 2550, 'Hz': 25364, '1985': 2210, 'helped': 2375, 'presidents': 17702, 'Original': 7267, 'discuss': 6265, 'MBA': 16079, 'Tanya': 21767, 'windshield': 21522, 'Don': 1790, 'Bram': 22924, 'drinking': 5464, 'Lillian': 21044, 'Provinces': 23478, 'Bahn': 18718, '[unused85]': 85, 'Iris': 13476, 'litre': 18736, 'garden': 4605, 'Championships': 2708, 'Qaeda': 20205, 'Ñ': 237, 'compassion': 18027, '##gara': 17582, '##0': 1568, '##zawa': 18336, 'Friendship': 21008, 'paranoid': 24105, 'toilets': 24719, 'circulating': 25655, 'Wisdom': 22960, 'infancy': 26175, 'Arroyo': 28061, 'daytime': 14907, 'initially': 2786, 'Debbie': 17431, '##ahl': 24166, 'guests': 6065, 'moonlight': 15743, 'non': 1664, '##ID': 9949, 'tinged': 25275, 'unlawful': 26079, 'holidays': 13413, 'slip': 7324, 'ranges': 9123, 'synthetic': 13922, '##bler': 16551, 'existence': 3796, 'collective': 7764, 'Broken': 12703, '##ve': 2707, '##wer': 12097, '##eva': 12853, '##nick': 14276, 'thumbs': 18680, 'paying': 6573, 'doubtful': 25889, 'insulting': 27296, 'ر': 575, 'Trevor': 8282, '##20': 10973, '##otive': 21507, '##hea': 13836, 'Audi': 22139, '2016': 1446, 'regulatory': 12638, '##ential': 15544, 'rear': 3876, 'Religious': 12125, 'rides': 13863, 'Erik': 10129, 'Nolan': 13761, 'ガ': 938, 'λ': 428, '##cot': 18982, 'stone': 2576, 'Leah': 14809, 'wet': 4375, 'Tea': 15832, 'joke': 8155, 'provisional': 16750, 'ᵥ': 723, 'Platform': 17742, 'Grange': 20281, 'Ahead': 21735, 'Ulster': 11034, 'refugees': 8940, 'Meadows': 20593, '##varo': 25751, 'defeated': 2378, 'la': 2495, '##gration': 18353, 'excuses': 25179, 'secrecy': 23541, 'explosives': 16454, '##cking': 12944, 'Egyptian': 6210, '##dles': 24859, 'authorization': 25279, 'bottles': 11282, '##anna': 11762, '##screen': 17721, 'telegraph': 22821, 'Medieval': 15902, 'observations': 9959, '##uid': 16423, 'Raw': 14108, 'textile': 14817, 'Whether': 13197, 'choreographed': 26508, '2006': 1386, '##ev': 6348, 'Various': 9311, '##band': 10198, 'protection': 3636, 'informal': 12492, 'Giacomo': 25533, 'bowled': 21663, 'standard': 2530, '##Ç': 28185, 'proudly': 19829, '##alia': 19457, 'contract': 2329, 'conscious': 9701, 'Sudan': 10299, 'stabbed': 13699, '##oping': 16391, 'Lindsay': 12218, '##ault': 14045, '##jack': 19617, '##ola': 5326, 'District': 1574, 'Radical': 20411, 'Latvia': 12593, 'coherent': 21093, '##no': 2728, 'teams': 1929, 'cosmic': 21545, 'Michael': 1847, 'cardboard': 22823, '##quent': 14855, 'hello': 19082, 'Felipe': 18263, 'regular': 2366, 'sociology': 17083, 'Spin': 22878, 'Hoffmann': 27505, '##oire': 19013, 'Single': 8353, 'Eternal': 21342, 'swung': 7185, 'waited': 3932, 'È': 233, '##jutant': 22635, '##ren': 5123, 'Wilkins': 25302, 'Fortunately': 18101, 'humming': 23474, 'Yankees': 11063, 'visually': 19924, 'ο': 432, 'Andrew': 3217, 'Ipswich': 16272, 'keeping': 3709, 'Peters': 12648, 'weighted': 20167, 'acquisition': 7626, '##ek': 4820, 'above': 1807, 'FA': 6820, '##yton': 27945, 'Fay': 26630, 'Peck': 24327, '##μ': 28349, 'Labour': 4560, 'Seymour': 13572, '##े': 28535, 'course': 1736, 'Five': 4222, 'mating': 16982, 'stronghold': 19361, 'Sirius': 26848, 'Among': 3841, 'streaked': 23533, 'Plus': 8696, 'varieties': 10003, '##nstein': 18475, '##zhi': 23239, 'particular': 2440, 'Brett': 12161, '་': 684, '##fts': 22863, 'robe': 11580, 'specification': 14911, 'seminal': 23046, 'scientist': 7482, 'Thursday': 9170, '##ifying': 8985, 'Commissioner': 6520, 'selection': 4557, '##yster': 21878, '##wala': 27222, '##ւ': 28436, 'staged': 9645, 'bursts': 21254, 'competed': 3042, '##FT': 26321, 'entering': 5273, 'tasked': 13940, 'taxes': 7538, 'Warden': 20206, 'parasite': 25706, 'sighs': 22447, '##f': 2087, 'Administration': 4918, 'Colombian': 13977, '##cki': 17372, 'stab': 19428, 'grasped': 16375, 'Bronx': 15115, 'Barclay': 26560, 'Diego': 4494, 'Indie': 25789, 'gross': 10272, 'Arm': 24446, '##cke': 18738, 'dialects': 12336, 'Czech': 4833, '##spiration': 21240, 'Architects': 14650, 'パ': 959, 'princes': 18043, 'Duty': 21134, '##alan': 24240, 'Officers': 13236, 'songwriters': 26324, '##pologies': 27632, 'bored': 11920, 'Montgomery': 8079, 'temporarily': 7818, 'dimensional': 8611, 'confidential': 25557, 'liquor': 15043, 'ℓ': 839, 'sometime': 9961, '##)': 28133, '##balt': 26443, 'dinosaur': 23569, 'Site': 9338, 'talks': 7430, 'sensor': 15228, 'decreased': 10558, 'Articles': 21191, 'warns': 21310, 'capacity': 3211, '##pling': 11624, '##ui': 6592, 'counsel': 12654, 'immigrated': 18598, '210': 13075, 'IS': 19432, 'Brandon': 8464, '##HL': 9530, '##أ': 28472, 'distribution': 3735, 'electoral': 6627, '##cious': 9589, 'urged': 9497, 'Philadelphia': 3562, '##tia': 10691, '##rra': 10582, 'Tribal': 24252, 'engine': 2395, 'recycling': 21804, '##খ': 28545, 'cerebral': 21831, 'campaign': 2322, '##tending': 22835, 'exclusive': 7114, 'Derbyshire': 15964, 'São': 7447, '##hoe': 10061, 'periphery': 27152, '1876': 6789, 'unable': 3372, 'per': 1679, '1644': 26180, 'Milk': 18165, '##rnal': 25286, '##kt': 21270, 'Sailing': 26062, 'ض': 580, 'Rick': 5512, 'Maximum': 13878, '##rary': 23728, 'Kelsey': 23111, 'Carlson': 24623, 'whistle': 15325, 'tapes': 16200, 'absolutely': 7284, 'stolen': 7251, 'Northwest': 8358, '##chard': 16657, 'Moines': 25998, 'bridges': 8425, 'maneuver': 19844, '##ares': 18828, 'heir': 8048, 'cupped': 14168, 'Tulsa': 17712, 'jack': 24498, 'ancestor': 13596, 'but': 1133, 'poorly': 9874, '##eux': 24642, 'ो': 633, '##क': 28510, 'Out': 3929, '##tino': 20064, 'partner': 3547, 'party': 1710, 'Sheriff': 8133, 'parent': 6486, '##ard': 2881, '##ties': 4338, '##pen': 11741, '書': 1036, 'Hammer': 14473, 'activation': 14915, 'Youth': 4866, 'Adventures': 10174, 'Christchurch': 16893, '##27': 24458, 'passion': 7615, '##ndon': 17996, '##zad': 24981, 'competing': 6259, 'Dunn': 14700, '##ack': 8741, 'Minnesota': 4332, 'Oscar': 7248, '##ivo': 15435, 'micro': 17599, 'Journalism': 15968, 'renovations': 17258, 'certificate': 10890, 'adventures': 12108, 'Poles': 17410, 'mixtape': 23374, 'Logistics': 25486, 'Colorado': 4369, 'merits': 26207, '##immer': 26582, '##व': 28526, 'matches': 2697, 'refused': 3347, 'Kids': 9904, 'postwar': 24217, 'creating': 3780, 'Superior': 10905, 'Mariners': 21652, 'HMS': 6666, 'asks': 4390, 'ignition': 20447, '##arma': 24275, '##씨': 28983, 'black': 1602, 'diversity': 9531, '##put': 16156, 'fragments': 11062, 'ka': 24181, '##ₜ': 28729, 'diving': 10398, 'socio': 20650, 'Most': 2082, 'Amir': 22135, 'roof': 3664, 'letters': 3784, 'fashioned': 14281, 'respond': 6297, '##wear': 14719, 'presenter': 10483, 'Lutheran': 9836, 'qualify': 7044, 'Clear': 15458, '##face': 10931, '1912': 4080, 'considering': 6103, 'Wasn': 23720, 'equestrian': 27940, '##■': 28765, '##ories': 24508, 'Material': 26877, 'ʳ': 378, 'Ö': 239, 'complain': 19073, 'beyond': 2894, 'tours': 8398, '##cy': 3457, '₱': 837, 'tent': 9459, '##GP': 17095, 'fires': 8966, '1882': 6543, '##ily': 5264, 'streak': 9192, 'শ': 659, 'editor': 3045, '##hood': 5914, '##－': 28993, 'Ana': 9954, 'Echo': 12940, 'lattice': 19843, '##ữ': 28666, 'Governors': 18711, '##n': 1179, 'Communities': 21474, 'Lana': 17723, '中': 980, 'how': 1293, 'Greek': 2414, '##day': 6194, '##ロ': 28865, 'cinematographer': 24583, '##〜': 28786, 'Painter': 15502, 'Ban': 18393, 'association': 3852, '##vale': 18236, 'racer': 20274, '##raiser': 27014, 'fishermen': 18993, 'underneath': 7547, 'Underworld': 22614, 'officers': 3099, 'planets': 12458, 'hallway': 6219, 'Older': 26694, 'wheeled': 18897, 'ġ': 294, 'applause': 24670, '330': 14747, 'assure': 14955, 'supernatural': 12361, 'Zeppelin': 25281, 'Xavier': 9867, 'mildly': 21461, 'norms': 19600, 'store': 2984, 'boost': 14112, 'Tiny': 15518, 'Nat': 15857, 'fabricated': 27615, 'coat': 4920, 'w': 192, 'ᵐ': 715, '##pticism': 26265, 'tubes': 11182, 'PR': 11629, 'Since': 1967, '##wife': 22267, 'salvage': 22212, '##ell': 3991, 'tomb': 8880, 'Nacional': 10740, 'NW': 24641, 'eased': 10982, 'drastically': 23173, '##tic': 2941, 'stripe': 20933, 'spoiled': 22048, '##ahi': 22332, 'Porter': 8885, 'tempered': 26030, 'Portuguese': 4269, 'reforms': 8931, '##¾': 28177, 'technique': 5531, '##ghter': 20781, 'compensate': 20766, '##kh': 9862, '##dier': 25721, 'scenery': 19335, 'doomed': 23263, 'signals': 7981, 'Style': 13023, '##gens': 21144, '##iselle': 22080, '##vu': 25247, 'Camera': 20615, '##po': 5674, 'Perez': 20007, '##sław': 24445, 'Steiner': 23402, 'Ț': 351, '##ting': 1916, 'uniform': 6029, 'Easter': 11244, 'shortest': 22710, 'Handbook': 18267, 'Katy': 19513, 'fighters': 7705, 'mental': 4910, 'given': 1549, '##rine': 8643, 'millimetres': 13721, 'rolls': 12205, 'abandoned': 3928, '##ł': 20671, 'Raceway': 26611, 'Durham': 8975, 'Annette': 25022, 'somewhere': 4476, 'highly': 3023, 'Gloucestershire': 16832, 'communal': 17022, 'explore': 8664, '士': 1008, 'compounds': 10071, 'products': 2982, 'Mechanical': 15433, 'kissed': 4005, 'finding': 4006, 'Handel': 24527, '##み': 28812, 'papal': 16701, 'Romney': 21350, '##hall': 8897, '##gé': 21645, 'articulated': 23269, 'tribal': 10059, 'aerial': 10485, 'Odd': 22161, '##ļ': 28230, 'glacial': 20666, 'heard': 1767, '佐': 988, 'corner': 2655, 'applicable': 13036, 'pseudonym': 14420, 'revolver': 23473, 'flirting': 23667, 'Funding': 24811, 'recognised': 7398, 'tourists': 9061, 'drank': 10741, 'networking': 16074, '##ppel': 24756, '##ό': 28361, 'lake': 3521, 'strain': 10512, '501': 17196, '##fs': 22816, '##ַ': 28441, 'subspecies': 11332, 'execution': 7581, 'Munro': 23000, 'Aspen': 23180, '##aque': 23911, 'irritated': 17072, 'memorial': 6768, 'heroine': 23264, 'laughter': 7053, '232': 22637, '##lon': 4934, 'clamped': 20129, 'Relations': 9269, '##ührer': 24322, '##氵': 28942, '##re': 1874, 'Eagle': 8122, 'Care': 8396, 'bust': 16118, '##fia': 18771, '##sie': 9819, 'Everyone': 6064, 'Oil': 9105, 'pubs': 27392, '##fair': 19803, 'Thereafter': 20146, '##28': 24606, '##ʾ': 28303, 'lead': 1730, '##hen': 10436, '##isse': 19202, '##zee': 26328, 'trout': 17639, 'genres': 11688, 'chemicals': 13558, 'drivers': 7016, 'Detective': 9187, 'Depending': 19285, 'breathless': 19305, '##yeh': 27494, 'Ethnic': 27673, 'scope': 9668, 'ornate': 19870, 'Trains': 20223, 'bed': 1908, 'Skills': 26210, 'Munster': 13816, 'clear': 2330, 'foreigners': 16714, 'い': 894, 'pulpit': 28079, 'interaction': 8234, 'friction': 16630, '##etto': 27394, 'Sinai': 22986, 'Ways': 24058, 'biggest': 4583, '...': 1232, 'Railway': 2847, 'assets': 6661, 'ч': 498, 'Touch': 13637, 'undefeated': 16467, 'extends': 8559, 'cannabis': 23089, 'canceled': 13825, '##cede': 19482, 'restart': 27777, 'Newark': 13164, 'pumping': 15486, 'dynamics': 14189, 'paramilitary': 25349, 'AS': 15278, 'grumbled': 18163, 'Specialist': 25607, '##entation': 20936, '510': 26177, 'Azerbaijani': 19736, 'those': 1343, 'glances': 13363, 'growl': 13818, '##rank': 14687, '##rogen': 26767, 'Ninja': 19488, 'hopefully': 16121, 'sank': 7095, 'recession': 23780, 'nerve': 9071, 'Commando': 20621, 'trams': 22539, '##馬': 28978, 'drafted': 7071, '##sher': 15410, 'blouse': 20496, 'marred': 27767, 'rotation': 9967, 'Bologna': 14865, 'Win': 16387, 'Polo': 18685, 'installment': 20669, 'bassist': 10042, '##eval': 17885, 'globally': 18526, 'housing': 3328, 'Intelligence': 7829, 'aircraft': 2163, 'Fargo': 25727, 'Houses': 16862, 'lifeless': 25581, 'werewolf': 14665, 'among': 1621, 'minimum': 5867, 'monumental': 18006, '##·': 28172, 'Casimir': 27839, 'retrieved': 14408, '##vour': 17532, 'GDP': 14781, '##©': 28163, 'males': 3508, 'Lazarus': 26501, 'various': 1672, 'Paolo': 14712, 'Luton': 19136, 'stiffened': 17068, 'refined': 16686, '##ène': 18265, 'constantly': 7480, 'metabolic': 25158, 'Rifle': 11963, 'newsletter': 24343, 'counter': 4073, '##sboro': 27019, 'guaranteed': 13008, 'Android': 13693, '##tery': 14876, 'testify': 22366, 'filming': 7973, '216': 22148, 'Rookie': 14461, 'prostitute': 21803, 'temptation': 23483, 'hating': 26766, 'Bethany': 17621, 'Games': 2957, 'Book': 3168, 'eyelids': 17710, 'minus': 19485, '##drum': 25474, '##shin': 18968, 'Flood': 19590, 'primary': 2425, 'variants': 10317, '##ự': 28667, '##て': 28804, 'touches': 13193, '##コ': 28835, 'contact': 3232, 'reinstated': 20298, 'tens': 17265, 'attempted': 3867, '##opus': 17298, 'tanker': 24096, 'accumulation': 23168, 'stepped': 2843, '1838': 9702, 'save': 3277, 'builder': 15369, '##dorf': 10414, 'recalling': 25839, 'Notable': 11017, '##ssion': 16656, 'Spirits': 27761, '##und': 6775, '27th': 15757, '##aby': 19127, '##passing': 21793, '##around': 27692, 'Paradise': 10638, 'shocked': 6764, 'goddamn': 21087, 'Apache': 16995, 'charted': 12883, '5000': 13837, 'Army': 1740, '##zai': 27919, 'deleted': 18931, '##uze': 26583, 'firing': 7142, '168': 18030, 'Mets': 16299, 'medalist': 15257, '##ps': 3491, 'mushroom': 25590, '##龍': 28980, 'figure': 2482, '吉': 1000, 'Sharon': 10562, '##SS': 12480, 'incorporates': 12560, 'Found': 17107, '1500': 10204, 'Nik': 27051, '##yx': 19367, 'つ': 910, 'Virgil': 18449, 'tenth': 8281, 'undertake': 17778, 'Includes': 25051, 'chuckle': 16305, 'Manfred': 20882, 'pattern': 4844, '##guchi': 17471, '##nsley': 20217, 'Kaye': 26522, 'fireworks': 19612, '##bery': 19941, '##titled': 14657, 'lawsuit': 9680, '##ige': 13417, 'bracelet': 21982, 'Sun': 3477, 'repeatedly': 8038, 'tips': 10538, 'Tomb': 24923, 'picking': 8184, 'nickname': 8002, 'branches': 5020, '##hn': 7272, 'disasters': 21887, 'newscast': 22741, 'branching': 27021, 'technical': 4301, 'irregular': 12692, 'Jeremy': 6983, '##AA': 11189, 'ط': 581, 'category': 4370, '##iel': 10387, 'sultan': 27246, 'erased': 27248, '##lithic': 26238, 'keeper': 13852, 'GmbH': 20074, '！': 1096, 'Chaplin': 26065, 'cites': 20417, 'o': 184, 'Tonga': 22114, 'translator': 12111, 'Challenge': 6571, 'locals': 10953, 'Papa': 14885, 'Å': 230, 'Pain': 13304, '##qi': 17276, 'patented': 17994, 'Jenny': 8067, 'Even': 2431, 'supporter': 10039, 'ἀ': 768, 'Mail': 11508, 'contain': 4651, 'airports': 15797, 'Э': 472, '##elier': 26041, 'pathway': 13548, '##wth': 27697, 'Hindi': 9001, 'arrive': 6657, 'Poznań': 21475, 'Wolf': 6499, 'Herzegovina': 11464, 'dive': 12706, '：': 1102, 'interchange': 9629, '##current': 21754, '##wildered': 27827, 'Bishop': 3167, 'Marc': 7504, 'Wolfe': 14815, 'rebuild': 15596, 'told': 1500, 'clutch': 17456, 'Mac': 6603, 'Min': 14321, 'Styx': 24336, 'another': 1330, 'firmly': 7487, 'stresses': 26183, '##sser': 14607, 'limp': 15905, 'conflicts': 9802, 'analysis': 3622, 'sold': 1962, '05': 4991, 'guarded': 14385, '##ulatory': 26658, '400': 3434, 'marine': 5243, 'wear': 4330, 'Carl': 4804, '##tro': 8005, 'curled': 7787, '##national': 23322, '##ienne': 18559, '##activated': 21797, 'needs': 2993, 'subdued': 22566, 'rugged': 20179, 'laser': 10221, 'hood': 11542, 'hundred': 2937, 'supervising': 26698, 'Society': 2015, 'key': 2501, 'equally': 7808, '##hani': 22808, '[unused66]': 66, 'C': 140, 'routine': 9285, 'screw': 13084, 'responsible': 2784, 'biographer': 19382, 'abuse': 6704, 'independently': 8942, '##jiang': 16172, 'bus': 3592, 'Rhythm': 15885, 'Tell': 4630, 'Staffordshire': 18187, 'reckless': 23585, '1840s': 21000, '##poon': 24877, 'necessity': 14176, '##text': 17380, 'obtained': 3836, 'aside': 4783, 'moving': 2232, 'Mozambique': 17311, 'museums': 11765, '##ructural': 27886, '##lification': 17489, 'depth': 5415, 'rent': 9795, '##ested': 24732, '##ố': 28654, 'Galileo': 23926, 'such': 1216, 'storms': 14041, '##zation': 8569, 'Μ': 404, 'open': 1501, 'driver': 3445, 'starred': 4950, '##yler': 21944, 'nations': 6015, 'metric': 12676, 'reasonably': 17517, '##rth': 11687, '##パ': 28852, 'Plate': 15930, '##piration': 22631, 'Companies': 13134, '##ins': 4935, 'Hara': 21046, 'increases': 6986, 'unfortunately': 16679, 'sprinter': 24360, '##rapped': 27279, 'reactions': 9535, 'originating': 16394, 'Age': 4936, '##sty': 13913, 'analyze': 19774, 'opens': 7086, '##ss': 3954, 'Lou': 10111, 'attributed': 6547, 'rate': 2603, 'Brave': 20853, 'absence': 5884, 'ˡ': 386, 'Please': 4203, 'Phil': 5676, 'hoarse': 23523, 'blamed': 11289, 'vessels': 5956, 'forgot': 9424, 'kicks': 16721, 'Societies': 24593, 'NASA': 9085, '##rona': 15789, 'choosing': 11027, 'wholesale': 20767, 'plus': 4882, 'picturesque': 27667, 'locally': 6889, 'axes': 21682, '214': 21692, 'Ramírez': 27953, 'consult': 27231, '##outh': 16397, 'later': 1224, 'communism': 23154, 'Leonard': 7377, '##crow': 27049, 'surround': 16858, 'quoted': 9129, 'nearly': 2212, 'dynasty': 6107, 'apartments': 10417, '##lour': 25090, 'Josef': 13168, 'Spartans': 27340, 'ale': 23280, 'offences': 22847, 'quiet': 3589, 'On': 1212, 'Safety': 9218, '##rries': 15494, 'garnered': 13331, 'superseded': 21789, 'intensity': 7657, 'raises': 13686, 'Juniors': 24150, '##ल': 28525, 'telephone': 7314, 'essay': 10400, 'coordinated': 15245, '##mother': 15051, '##ype': 16726, 'sell': 4582, 'stake': 8219, 'costing': 25522, 'leaned': 3149, 'Jazz': 5990, 'guarantee': 11865, 'thus': 2456, 'Lab': 14470, 'Petroleum': 20396, '̃': 390, '⇌': 847, 'Jesse': 7133, 'surrounded': 4405, 'Jennifer': 7184, 'do': 1202, 'channel': 3094, 'Corner': 14018, '##ball': 5892, 'covered': 2262, '1940': 3020, '##ame': 16470, 'fairy': 11210, 'Diploma': 16333, '##dic': 13328, 'heads': 4075, 'Dock': 20115, 'Inverness': 25558, 'sheath': 24561, 'attempting': 6713, 'detected': 11168, 'delivered': 4653, '##zes': 11846, 'eyed': 7074, 'garrison': 10609, 'demolished': 6515, 'unexpected': 9334, 'glimpse': 12513, 'Curse': 25893, 'Winter': 4591, 'Charleston': 10874, '##fred': 23943, 'Treatment': 19165, 'な': 913, 'proportion': 10807, 'riders': 9958, 'Hazel': 21021, 'unwanted': 20194, 'Havana': 16092, '50th': 13163, 'Parties': 26023, 'humble': 20086, 'Ž': 338, 'extensions': 16003, '##jected': 24653, '##ono': 23038, 'pointless': 27092, 'Written': 13404, 'Justin': 6193, 'paddle': 24845, 'Cat': 8572, 'spiral': 14061, 'travels': 8024, 'kin': 15190, 'deported': 19414, 'Twenty20': 24785, '##ābād': 22651, 'mutation': 17895, '##uce': 15776, 'convoys': 26626, 'companies': 2557, 'loft': 24677, 'traction': 20922, 'Algiers': 25571, 'veteran': 8230, 'connectivity': 24466, '##ipur': 26164, 'still': 1253, '##vage': 21226, '##uristic': 26900, 'crush': 11321, '##⁸': 28708, 'Sociology': 21181, 'homeland': 14764, '##ى': 28497, '##histling': 27387, 'forget': 5042, 'Snake': 16335, 'answer': 2590, 'Universe': 9121, 'Maddie': 19133, '##ap': 11478, 'Brighton': 10162, '♭': 880, 'mathematics': 6686, 'Jennings': 14631, 'shaft': 9202, '1959': 3003, 'silky': 21453, 'Advocate': 20418, '##AS': 10719, '##jō': 21006, 'episode': 2004, 'balanced': 12591, 'Major': 2868, '##ards': 13584, '[unused39]': 39, 'Gould': 15617, 'FIBA': 14073, 'ministries': 25404, 'Political': 6679, '##list': 7276, 'bicycles': 25377, 'Jana': 26415, 'forward': 1977, 'dioxide': 15163, '##ink': 10223, 'natives': 14252, 'neo': 15242, 'reunited': 11909, 'visitor': 11972, 'recover': 8680, 'bin': 9055, 'Castile': 16560, 'Jewel': 23624, 'Kazakhstan': 11816, '##bone': 9527, 'ego': 15550, 'Del': 9352, 'Monthly': 17300, '197': 21764, '##י': 28454, 'terribly': 18049, 'completing': 7332, 'Luck': 22311, 'proportions': 21136, 'Farm': 6865, 'keel': 25040, 'brings': 7100, 'Karin': 27720, 'hockey': 4700, '##z': 1584, 'analogous': 21960, 'Layla': 21628, 'productive': 13909, '##ℓ': 28734, 'rugby': 4896, '##IA': 9984, 'pair': 3111, '##ska': 9289, 'every': 1451, 'witness': 7737, 'NPR': 23706, '##missible': 27119, 'approaching': 8320, 'actually': 2140, 'H₂O': 27995, '##collegiate': 23791, 'care': 1920, 'disguised': 19074, 'Roche': 22640, 'Copa': 10576, 'biology': 10256, 'briefly': 4016, 'Tess': 16613, 'def': 19353, 'borders': 6641, 'linen': 19838, 'except': 2589, '##VN': 18198, 'announcement': 8679, 'Whitman': 23459, 'Roots': 20138, 'cartoon': 11540, 'Sweet': 7643, 'qualities': 11793, '##gable': 24363, '##rough': 14929, '##ia': 1465, 'sense': 2305, 'Earth': 2746, 'inspect': 25151, 'democracy': 9076, '##uss': 13356, 'shuttle': 14450, 'asylum': 15345, 'shore': 5781, 'waist': 5111, 'vein': 13585, 'scream': 7015, 'warn': 11857, '##bol': 15792, '##adores': 27217, 'Submarine': 26399, 'Thanksgiving': 17148, '##sexual': 24352, '##川': 28916, '##ceptor': 25979, 'admit': 5890, 'asleep': 6153, '1960': 2761, '##43': 25631, 'taste': 5080, 'Sierra': 7384, 'lingering': 16329, '308': 27201, 'lawn': 12313, 'interviewed': 10361, 'ventured': 22542, 'seemed': 1882, 'word': 1937, '##Ñ': 28190, 'Transit': 9972, 'seals': 19551, '##sky': 4969, 'falls': 4887, 'house': 1402, 'coaster': 20814, 'Dong': 16675, 'Thanks': 5749, '##çais': 26293, '##ivation': 16617, '##jee': 24260, 'strange': 4020, 'highlighting': 23201, '₆': 817, '##½': 14135, 'supplied': 7694, 'crucial': 10268, 'geography': 14534, 'magnificent': 14524, '##pm': 9952, 'Understanding': 21300, 'O': 152, '##uza': 21536, 'protest': 5641, 'ballots': 18458, 'Piece': 27916, 'Advance': 20706, 'ῶ': 778, 'chill': 11824, 'Parramatta': 25394, 'Roe': 26301, 'emission': 17744, 'regiment': 5649, 'privileged': 24758, 'Chuck': 7803, 'brightness': 20828, '##ol': 4063, 'Halle': 22867, '##erd': 25081, 'raising': 5920, 'toe': 12514, 'township': 5142, 'Guangzhou': 20272, 'fog': 10335, 'Yokohama': 22479, 'gradually': 6044, 'U': 158, '##⋅': 28762, 'β': 419, 'Turner': 6217, 'Us': 11155, 'Sherwood': 21164, 'Brendan': 15760, 'outspoken': 25304, 'Rare': 25574, '##尚': 28913, 'ᵏ': 714, 'engagements': 23048, 'rallies': 26315, '##mour': 27942, '##sui': 26841, 'Akron': 25324, 'Wrestling': 5995, '##rot': 10595, 'AI': 19016, 'Distinguished': 8972, 'USB': 20453, '##Ā': 28212, 'found': 1276, 'Was': 3982, '##26': 25129, 'Oral': 26925, '##rent': 17759, '##logue': 12733, 'lava': 16135, 'Israeli': 4878, 'thirteen': 7704, 'death': 1473, 'Flower': 14742, 'payload': 21586, 'Sleep': 15153, 'coloured': 12026, 'saxophone': 8479, 'Tsar': 22565, 'Córdoba': 22643, '##use': 5613, 'Société': 22290, '##rimal': 22657, 'explorer': 16171, 'alpha': 11164, 'Berry': 11320, '##Γ': 28317, 'little': 1376, '##ce': 2093, 'Bengali': 11276, 'mount': 11885, 'clusters': 13687, '##une': 10038, '##umble': 15932, 'lowered': 6069, 'Ligue': 19882, 'orchestras': 23252, 'statewide': 15086, '##ite': 3150, 'sadness': 12928, 'terrorists': 17219, 'Tobias': 18167, 'Þ': 244, 'Saul': 18600, 'periodicals': 25640, 'Congregational': 26544, 'practices': 5660, 'laughs': 12375, '##kel': 13622, '##park': 14967, 'Forces': 4791, '##phism': 19649, 'conscience': 15323, 'Round': 4200, 'struggled': 6325, 'captured': 3297, '##ncy': 7232, 'OS': 11570, 'Madhya': 22959, '##rchen': 26242, 'service': 1555, 'flows': 5611, 'Cartoon': 22450, 'Voice': 7900, 'classical': 4521, 'castle': 3804, 'indirectly': 18814, 'translated': 4957, 'pharmaceutical': 18119, 'researchers': 6962, '##rium': 11077, 'repulsed': 27986, '##mple': 26318, 'Foundation': 2974, '##icker': 23666, '##TY': 16880, '##omb': 20972, 'Vega': 17165, 'successive': 11598, '##་': 28587, 'Lowe': 14830, 'negotiating': 21262, '##Č': 28215, 'orchestra': 5898, 'Acts': 13720, 'Form': 15075, 'policing': 27841, 'stressed': 13713, '##is': 1548, '##WS': 18019, 'Boise': 25941, 'Furthermore': 7282, 'prefers': 21042, 'bearer': 26204, 'Football': 2289, '##tta': 5100, 'strip': 6322, '##ani': 7192, 'brace': 22913, 'located': 1388, 'lizard': 20730, 'loose': 5768, 'material': 2578, 'cancer': 4182, 'alphabet': 14502, 'revive': 19895, '##ritable': 27770, 'protagonist': 10195, '##mouth': 12462, 'presence': 2915, '##gano': 18226, '##º': 28174, '##ital': 19058, '##ret': 8127, 'dead': 2044, '##50': 11049, 'beneficial': 16250, 'Walter': 3985, 'commission': 5500, 'taxation': 18446, '##mona': 24507, '##Т': 28383, 'direction': 2447, 'network': 2443, '##∈': 28745, 'individuals': 2833, 'Klein': 12782, '51': 4062, 'scent': 5974, 'Archie': 13581, 'Land': 4026, '##comb': 17701, 'array': 9245, '##cion': 16012, 'hostile': 10518, 'volcanic': 12069, 'neglect': 21398, '##mogeneous': 28008, 'concentrating': 18761, '##ি': 28567, 'balls': 7318, 'sleeve': 10445, '##rill': 11071, 'Immigration': 16119, 'credibility': 24315, 'VFL': 15124, 'Lambert': 13056, 'Bureau': 4447, '11th': 5573, 'design': 1902, 'contender': 23759, 'Citadel': 23989, 'crash': 5683, 'Average': 18098, 'preface': 24601, 'circulation': 9097, '##section': 25461, 'adjoining': 14241, 'Outer': 18539, 'ashore': 17487, 'rods': 22598, 'Carroll': 10668, 'thou': 22626, '##AV': 26390, 'nightmares': 18118, 'organs': 11932, 'covering': 4576, 'Lonely': 18782, 'Screenplay': 21257, 'breast': 7209, '##érard': 27234, 'examination': 8179, 'Castillo': 21218, '##غ': 28491, 'Strong': 11661, 'contamination': 20908, 'Corporation': 3436, 'artistic': 6037, 'Rwanda': 18845, 'Witch': 14057, 'chooses': 16826, 'proposal': 5835, 'surrounds': 22727, 'Verity': 24835, 'ₙ': 831, 'hp': 6857, 'compressed': 18273, 'Marquette': 27228, 'moisture': 15164, 'aimed': 5850, 'Drawing': 20753, '##isted': 20330, 'jobs': 5448, 'Iron': 5621, 'cyclists': 25999, '##sko': 20428, '##rini': 19764, 'steak': 26704, '##bo': 4043, 'neighbours': 18832, 'Hal': 12193, 'Veterinary': 27495, 'instrumental': 6338, 'afterwards': 6091, 'Mouse': 15179, '##rius': 10048, 'Monterey': 21635, 'instructors': 24165, '##conductor': 21236, '##pressed': 15716, 'Fitzgerald': 13550, '##の': 28808, 'Stanton': 16766, 'Belgarath': 23380, 'Joanne': 27829, '##rgen': 16648, 'hesitation': 13941, 'Coke': 19630, 'wedge': 22432, '##_': 28151, '##erated': 20725, 'regulations': 7225, 'Sonny': 14236, 'advise': 19961, 'resides': 11719, 'Díaz': 20757, 'conflicting': 21776, 'Domestic': 21057, 'aids': 23078, 'Sweeney': 23306, 'fear': 2945, '##ĩ': 28227, 'Classic': 6667, 'trillion': 27005, 'man': 1299, 'Memphis': 9519, 'para': 18311, 'dramatic': 7271, '##idas': 23358, 'descends': 26233, 'Lost': 6249, 'Bavarian': 15864, '##scribed': 25626, 'ὐ': 771, 'embassy': 12318, 'fertile': 16332, 'region': 1805, '##rief': 24683, 'Nova': 6584, 'Sul': 27040, 'Welch': 19370, 'Montenegrin': 27064, 'initiate': 19687, 'euro': 27772, '##chayat': 21753, 'interviews': 7397, 'tie': 5069, 'downloads': 26477, 'voluntarily': 19446, 'broadcasting': 6731, 'dominated': 6226, '##ath': 9779, '##LS': 15928, 'stroke': 6625, '##д': 28396, 'devastating': 15667, 'lively': 21088, 'Wedding': 18622, '∩': 858, 'Lao': 21422, 'Lo': 10605, 'Serge': 24575, 'Gwen': 11746, 'banging': 25200, 'Hogan': 15603, '##orum': 23044, '##usk': 24493, 'After': 1258, '##bed': 4774, 'Bournemouth': 25468, 'centimeters': 19567, '##dua': 25823, '##blin': 17529, 'Beaufort': 26427, 'Hinduism': 21415, 'denying': 17400, 'truly': 5098, '##ブ': 28854, '力': 992, 'Usually': 12378, '##rls': 26288, 'ό': 443, 'birth': 3485, '##corn': 13433, 'tiles': 13947, 'kill': 2311, 'Mister': 13960, 'Lay': 22002, 'Đ': 287, 'Island': 2054, '部': 1077, 'counties': 6292, '##lice': 11815, 'Reef': 24302, 'Cairo': 11086, 'assistants': 19902, 'assembly': 5839, 'crowded': 11090, '́': 389, 'vampire': 3980, 'Sunrise': 23900, '##woods': 24550, 'consumed': 10133, 'genuine': 10416, '―': 784, '##zone': 19315, 'hunting': 5693, '##tals': 22159, 'sulfur': 20450, 'Mine': 9139, 'ử': 763, 'cables': 16886, 'Qualifying': 19720, 'horrific': 26651, 'servers': 16096, 'mid': 2286, 'ブ': 961, 'crews': 11233, 'reports': 3756, '##oi': 8136, 'odd': 5849, 'Fiat': 22163, 'creator': 9264, 'freelance': 17694, 'blade': 6275, 'astonishment': 27125, '##ette': 6347, 'trials': 7356, 'expelled': 9894, 'Holiday': 10450, '##nce': 3633, '##Æ': 28184, 'ɐ': 353, 'Reserve': 5081, 'owe': 12972, '##innamon': 23339, '##eri': 9866, 'embarked': 11322, 'inducted': 8016, '154': 17733, 'Electoral': 14282, '##tries': 22734, '##essed': 24940, 'hurriedly': 27670, 'keyboards': 6184, 'theatres': 16069, 'performances': 3853, 'ầ': 741, 'Korean': 3947, 'sang': 6407, 'trumpet': 10273, 'uncertain': 9591, 'Yugoslavia': 8575, '215': 18615, '##gata': 18708, 'fully': 3106, '1974': 2424, 'hawk': 25497, 'Performing': 14005, 'Marine': 4620, 'Path': 17392, 'references': 7732, '##uary': 18487, 'Lovers': 23260, '##quence': 25113, 'highlands': 27929, 'Reform': 10201, 'merchandise': 18349, 'dreadful': 25671, 'Doug': 8426, 'wild': 4098, 'Cavalry': 9312, 'souls': 11191, '##LC': 12674, '##os': 2155, 'junction': 6698, 'kid': 5102, 'preacher': 18154, 'muster': 24320, 'Maxim': 25217, 'caste': 17273, 'Bugs': 25417, 'Annabelle': 28016, 'dispersed': 16478, 'confluence': 14475, 'strongly': 5473, '##bahn': 15675, 'ached': 15808, 'Em': 18653, 'disrupted': 22312, '##ʲ': 28298, 'justice': 5299, 'Mughal': 19333, 'unity': 11721, 'Kai': 13354, 'hears': 15953, 'published': 1502, '##cloth': 25940, '##bage': 22070, 'atomic': 12861, '##vignon': 24724, '##lerical': 25744, '##licit': 18726, 'saying': 2157, '##ayman': 25939, 'Comedy': 8909, 'Root': 26131, '(': 113, 'who': 1150, 'demeanor': 24160, 'Teachers': 14290, '##tible': 23265, '##iably': 22368, 'engages': 27454, 'Portal': 27455, 'dismay': 22035, '##ů': 28252, 'painters': 15233, 'Gen': 9198, 'Who': 2627, 'Princeton': 8845, 'enthusiasts': 23139, 'leadership': 3645, 'breathing': 4943, '##大': 28902, 'voices': 6000, '##iler': 25614, 'hotel': 3415, 'intro': 27553, 'Cooperation': 17612, 'opening': 2280, 'subdivision': 16422, 'н': 488, 'performs': 10383, '##finery': 23011, '##城': 28900, 'shared': 3416, '1971': 2507, 'exploded': 9736, 'Ricky': 11173, 'closer': 2739, '##ught': 11266, 'Regulation': 22575, 'Antarctica': 13116, 'Cunningham': 14055, '##MX': 22941, 'uncle': 4906, 'Siena': 26606, '##licity': 17432, '⅓': 842, '##roads': 16038, 'McGregor': 25812, 'Florida': 2631, '##ples': 15377, 'nest': 10175, 'centred': 17720, '##ador': 21784, 'trio': 8823, '##iscovered': 24968, '##ooby': 27404, 'Historia': 26454, 'joint': 4091, 'u': 190, 'Saigon': 27123, '##nga': 12253, 'Coliseum': 20947, 'compensation': 9806, 'legendary': 9445, 'distract': 16989, 'Sikh': 18541, '1856': 8309, '##duction': 11243, '##原': 28889, '##hashi': 21230, '243': 25465, '##points': 21521, 'Gray': 4823, '≥': 864, '´': 215, '##mpt': 18378, 'overlap': 19235, 'Computer': 6701, 'lord': 7692, 'leather': 5439, 'Base': 5524, 'surprising': 11567, 'continental': 10998, 'Ottomans': 19199, '##core': 9475, '##ə': 28278, 'fatigue': 18418, 'Guy': 6173, 'playoff': 7913, 'suffered': 3421, 'relies': 17918, 'Strategy': 18050, 'difficulties': 7866, '##lished': 20275, 'Presley': 18386, 'Civic': 13513, 'kings': 9419, 'Angelo': 12622, 'Cannon': 16017, 'walked': 2045, '##static': 27372, 'Mick': 10829, 'pray': 13805, 'renovation': 10808, '##gas': 11305, 'Grayson': 18852, 'TNA': 21940, 'Soto': 27395, '##rich': 10886, '##ء': 28470, '39': 3614, 'Ridge': 7082, 'slope': 9877, 'suck': 13054, 'lobby': 9722, 'Haiti': 13364, '##um': 1818, '##suke': 16431, 'Excellence': 10600, 'Canary': 20462, 'collected': 4465, '##ɛ': 28279, 'honorable': 20491, 'difference': 3719, 'multinational': 24924, '##lt': 6066, '##quito': 21594, '##berman': 24419, '49': 3927, 'south': 1588, 'Hebrew': 6235, 'Run': 6728, 'DE': 18581, 'plantations': 16666, '##চ': 28547, 'diagram': 18217, 'Nell': 24441, 'began': 1310, '##Millan': 22266, '##laming': 20006, '##racker': 27733, 'skinny': 19244, 'Porsche': 17099, '##人': 28878, '##NR': 16107, 'functions': 4226, 'Event': 16223, 'ʷ': 379, 'persuaded': 11879, 'collector': 12116, 'Kaiser': 16692, 'lobe': 25163, '##ois': 8586, 'Ethiopian': 15845, 'Window': 24769, 'dipped': 13916, 'timed': 25457, '囗': 1003, 'site': 1751, 'Lynch': 11764, '##ut': 3818, 'peered': 10650, 'emblem': 19423, '##oom': 23302, '∞': 855, 'medal': 3086, 'unclear': 10527, 'Journey': 12015, '##pid': 25786, '##evo': 23663, '##orms': 25972, 'tomato': 26422, 'Takes': 26713, '##ssed': 17856, 'Lawson': 15205, 'perpetual': 25753, 'controllers': 25747, 'H': 145, '##eit': 27863, 'Estates': 23023, '##cture': 22355, 'Mecklenburg': 24345, 'dancing': 5923, '##vid': 18312, 'festivities': 24039, 'Senator': 5293, '220': 10423, '##rams': 24818, 'und': 5576, 'Hot': 4126, 'husky': 24418, 'usable': 27343, 'executing': 26789, 'chips': 13228, 'persuade': 14528, 'Vancouver': 6336, 'filtered': 24430, 'universe': 6271, '##ison': 7614, 'extract': 16143, '##ه': 15389, '##hanna': 24638, 'interpretations': 17555, '##arina': 21119, 'informed': 6189, '##classical': 23974, 'Webber': 21630, 'hanged': 19583, 'Polk': 22936, 'forced': 2257, 'wary': 16970, 'conferred': 16104, 'want': 1328, 'interventions': 22496, 'Leiden': 22262, 'BAFTA': 25207, 'should': 1431, '71': 5729, 'rejects': 22961, 'peaceful': 9441, 'surf': 20114, 'hoping': 4717, 'trunk': 8716, '19th': 2835, 'Steve': 3036, 'shoreline': 20953, 'waste': 5671, '70s': 19025, 'kinds': 7553, '##amble': 16033, 'Mia': 9103, 'Founder': 16505, 'ha': 5871, 'productivity': 18222, 'utter': 15462, 'colour': 5922, 'definition': 5754, 'imminent': 19080, 'exhibits': 10877, 'Must': 14303, 'heavyweight': 18116, 'frogs': 22025, '##otion': 24035, 'bishop': 5446, '345': 26625, '##lossom': 21853, '##phine': 21587, 'Floyd': 12450, '##rca': 23433, 'Harlem': 15557, 'Luther': 9413, 'portico': 27774, 'According': 1792, '##laws': 17830, '##bers': 11697, '##SE': 12649, 'Era': 14903, 'Cade': 20426, '##ej': 21024, 'reconnaissance': 11469, 'Midway': 20389, 'significantly': 5409, 'Cove': 13765, 'solicitor': 22744, 'buzzed': 23697, 'weekday': 18730, 'owes': 27701, 'earnings': 18155, '##(': 28132, '##like': 10318, 'Muir': 25952, 'switch': 6878, '##vyn': 27347, 'བ': 689, '##TH': 24162, 'partition': 16416, 'brushed': 7294, '##ž': 28261, 'Morton': 11142, '##ppard': 22261, 'took': 1261, 'headquartered': 9514, 'Robot': 20354, 'indicated': 4668, 'foyer': 18297, 'dare': 9164, 'longing': 17767, '##ʳ': 28299, '##eral': 21716, 'number': 1295, '##iracy': 19128, 'pulsed': 27787, 'gospel': 15037, 'Elephant': 21071, '375': 19397, 'kicker': 27219, '##kowski': 17445, '##asperated': 27423, '##tility': 20688, 'proximity': 10013, 'ֹ': 533, 'Polish': 3129, 'allegiance': 16487, 'investigator': 17805, '##IP': 11410, '##thouse': 24037, 'twin': 5930, 'Edwards': 6847, 'Mandarin': 17819, 'caliber': 17836, 'hospitality': 21604, 'viewer': 15403, 'ransom': 25057, 'expressway': 26185, 'consonant': 20037, 'terrorism': 12010, '##ien': 8584, 'unmistakable': 27360, '##V': 2559, '##?': 28145, 'oxidation': 22256, 'Jakarta': 15032, '##icles': 26407, '##fly': 15911, 'recreation': 12729, 'UHF': 21962, '##ogy': 15741, '##lving': 25115, 'attack': 2035, 'rely': 11235, '##ment': 1880, 'ə': 357, 'Â': 228, '##hov': 24922, 'Montevideo': 24942, 'headquarters': 3834, 'Collection': 6712, '##op': 4184, 'loans': 11453, 'Saskatchewan': 9861, 'mechanical': 6676, 'masculine': 15838, 'cue': 18780, 'miniseries': 15570, 'deck': 5579, 'dear': 7059, 'rises': 9440, 'progresses': 25541, 'proud': 6884, 'JR': 16572, '##elli': 12164, 'musicians': 4992, 'stacks': 24879, 'ŋ': 310, 'noises': 16256, '##lator': 13389, 'joining': 4577, 'Peru': 7022, 'Britain': 2855, 'protests': 7853, '##ila': 8009, 'schedule': 6030, 'compelling': 18397, '##ba': 2822, 'Issues': 21213, '##iger': 22896, 'Clarkson': 20177, 'Witness': 26874, 'night': 1480, 'Expedition': 12143, '##icus': 14191, 'Likewise': 18872, '1979': 2333, 'obscured': 26771, 'boats': 5778, 'legitimate': 11582, 'pockets': 10375, 'brief': 4094, 'filling': 7843, '##u': 1358, 'refusal': 14686, 'evenly': 19474, 'dark': 1843, 'lying': 4009, 'unincorporated': 7420, 'hers': 4364, 'lifelong': 14497, '##lid': 17299, 'complexes': 16575, 'historically': 8528, 'sturdy': 26887, 'guarding': 18648, 'occur': 4467, '127': 13272, 'generous': 12839, 'ER': 23580, '##ney': 4695, 'Gaelic': 11319, 'Strings': 24777, 'singles': 3896, 'Babu': 23475, 'song': 1461, 'acid': 5190, 'men': 1441, 'Every': 4081, 'г': 478, 'Club': 1998, 'diagnosis': 12645, 'woman': 1590, 'Edmond': 24061, 'editions': 7307, 'uk': 26006, '##ogist': 25976, '[': 164, '##AC': 8101, 'dell': 23950, 'Alternative': 13069, '##lly': 6071, 'Armenia': 9917, 'come': 1435, 'bottle': 5346, 'corruption': 8065, 'marriages': 13554, 'exact': 6129, '##oan': 23516, 'bizarre': 15507, '[unused57]': 57, 'candy': 13962, 'Lara': 14179, 'KC': 23702, 'demons': 8568, 'Pablo': 11660, '##dicate': 12892, '##witz': 15648, 'builds': 17850, 'banks': 5482, '##ropriations': 24594, 'communion': 27782, 'Broadcast': 19142, '##fueling': 25661, 'theology': 10104, 'ironic': 22564, 'correspondence': 12052, 'USL': 24927, 'notoriety': 26002, 'demos': 23740, 'drums': 3323, 'Review': 4960, 'プ': 962, 'bail': 17076, 'gal': 20003, 'Duo': 26401, 'communicating': 23968, 'pact': 24920, 'Fourth': 7652, 'attracts': 19119, 'Database': 22929, 'frightened': 10551, 'erase': 27224, 'hammer': 12582, 'poked': 17969, '##ro': 2180, 'fate': 7012, 'forbidden': 12031, 'instrumentation': 19391, '##mina': 14503, 'whenever': 7747, 'cloak': 12923, 'tags': 25613, 'Klaus': 17591, 'Revue': 27657, 'Nottinghamshire': 21942, 'skins': 27033, 'Arabia': 8945, 'Freyja': 6491, 'Helena': 10196, 'denounced': 19174, '##ères': 16981, '1994': 1898, 'sob': 20295, 'ह': 627, 'Circus': 14537, 'help': 1494, 'traps': 18743, 'Banner': 18985, 'Service': 2516, '##mite': 20185, 'acronym': 22478, 'fluorescent': 26163, 'trapped': 7333, '##iously': 15160, '##nky': 22792, 'América': 23227, 'shadowy': 26117, 'Rules': 8385, 'rails': 17116, 'grand': 5372, '##nta': 13130, 'draining': 21892, '##nza': 12541, 'judgement': 21261, 'Resolution': 15338, 'Brunswick': 8857, 'Cover': 17087, 'THE': 7462, '[unused81]': 81, 'Pink': 10763, 'swirled': 20883, 'ultimately': 4444, 'Cox': 9604, 'CIA': 9878, '##altered': 23925, 'motions': 16628, 'banquet': 25234, 'commotion': 27846, 'distinguishing': 23902, '##yō': 22561, 'principally': 17841, 'sweetness': 27293, 'Pavilion': 16790, 'concluded': 4803, 'slapping': 25006, 'Plans': 17171, 'Θ': 400, 'long': 1263, 'cops': 11396, 'Radar': 21858, 'manufactured': 7227, '##ans': 5443, 'silicon': 22818, 'Belle': 10199, 'Eric': 3601, 'topology': 22411, 'ensures': 23613, '##ncing': 16368, 'populous': 22608, '##ima': 8628, 'destruction': 5915, '136': 16222, '163': 19207, 'adequate': 12373, 'formally': 5708, '##oring': 17089, 'Miami': 4916, 'facing': 4749, 'Sai': 25185, '½': 223, 'finely': 24915, 'Ah': 7066, 'dams': 20245, 'Terrace': 17654, 'л': 486, 'dumb': 14908, 'names': 2666, '##sy': 5821, '##rried': 18888, 'players': 2139, 'Held': 23977, 'Buddy': 11999, 'Race': 6398, 'Kemp': 22443, 'yards': 3422, 'Questions': 24994, 'considerably': 9627, 'Georges': 10792, 'Laurence': 10833, 'hardened': 15870, 'Sanctuary': 15206, 'earning': 6957, 'Merlin': 17205, 'County': 1391, 'Inter': 11300, 'phases': 12877, 'Catalonia': 17795, '1600': 15567, 'doll': 13559, '112': 11150, 'prevent': 3843, 'Operations': 7273, 'burns': 14947, 'Belgrade': 10135, '128': 11965, '##х': 28407, 'Christensen': 27162, 'dances': 12761, 'oven': 19645, 'Attorney': 6867, 'cost': 2616, 'instructor': 10332, 'flourished': 19249, 'Liberation': 10912, 'Augustine': 14579, 'arguably': 18271, 'Claire': 5584, '##ck': 2158, 'outreach': 20253, 'Arbor': 22918, 'drum': 7505, 'boom': 11147, 'Fifty': 17522, 'thing': 1645, 'honored': 8817, '##fines': 27084, '##ganj': 25060, '##al': 1348, 'charged': 4601, 'misconduct': 26879, 'email': 10632, 'Parliamentary': 10628, 'Hole': 16535, '##bia': 10242, 'Manny': 17381, 'acceptable': 12095, 'gameplay': 11716, '##haling': 16036, '395': 27790, 'Waters': 12542, 'bias': 15069, '##ས': 28596, '680': 26838, '##nchen': 27683, 'oz': 24919, 'plug': 15244, 'Bavaria': 11632, 'translating': 26894, '##active': 19667, 'ュ': 967, 'angular': 17553, 'lottery': 23366, '1849': 8688, 'introduced': 2234, '##bility': 5474, 'Kira': 15999, '##suming': 19951, 'electro': 24266, 'Harlan': 27287, 'adjustments': 27939, 'Vargas': 22581, 'intrinsic': 27799, '1891': 6002, '##dira': 27987, 'doubled': 11590, 'Andes': 19505, 'Wilder': 22001, 'relentless': 26011, 'ecosystems': 23600, 'Jordan': 4421, '##EP': 16668, 'nominees': 21512, '##ughty': 18313, 'barely': 3742, '34th': 22361, 'Voyage': 24131, 'detailed': 6448, '##urs': 7719, 'thump': 24965, 'wooded': 18524, 'generalized': 22214, 'Castle': 3856, '##BS': 9782, 'pistols': 24389, '##overs': 24985, 'RBIs': 26417, '##fare': 14154, 'Somalia': 15350, 'emeritus': 24055, '##tor': 2772, 'requires': 5315, 'erratic': 27450, 'Scotland': 3030, '##ito': 8383, 'media': 2394, 'ག': 685, '##ring': 3384, 'continents': 21876, 'ナ': 955, '##N': 2249, 'lease': 10549, 'Walsh': 10984, '##nces': 21949, 'Giles': 13627, 'artery': 18593, 'ordinance': 26585, 'Norse': 16152, '##page': 15004, 'ľ': 304, '##cut': 12734, 'disturbance': 19019, 'finalist': 12039, 'supervisor': 16014, '##ener': 24475, '1648': 25020, 'neighbourhood': 11685, 'rewarded': 15314, 'costly': 18372, 'Cecilia': 20391, '##zhen': 21821, 'cope': 16743, '##oodoo': 25053, '1620': 27241, 'limited': 2609, 'flagship': 10818, '##sat': 28027, 'mythological': 24596, 'Principles': 22265, 'Schmidt': 13167, 'Wilcox': 26813, 'Professor': 2986, 'Sherlock': 21897, 'disappear': 10489, '##stones': 27572, 'fascinating': 19601, '##cological': 23388, 'fullback': 25540, 'rehabilitation': 14178, 'http': 8413, 'digits': 17937, 'annoyance': 19236, '##saur': 28059, '##dices': 28092, 'tattoos': 20867, 'looking': 1702, '##lect': 18465, 'philosophy': 5027, '##uit': 10950, 'happier': 21617, 'ǔ': 347, '##coon': 18201, 'rod': 14628, 'Morse': 18582, 'conversations': 12705, 'bra': 12418, 'photograph': 10110, '##gation': 10716, '##xin': 16594, '##mming': 25004, '##ď': 28216, 'atoms': 14296, 'Hendrix': 22609, '##final': 25154, 'Local': 5328, 'pageant': 14188, 'they': 1152, 'spat': 15732, 'walkway': 22010, 'Jill': 10370, 'hill': 4665, 'Pearl': 7585, '##arium': 19841, 'Members': 7667, '##CR': 23554, 'slipping': 12186, 'Isabelle': 14446, 'following': 1378, '##xton': 14933, 'Keller': 17158, 'steadily': 11383, 'Deluxe': 24975, 'upright': 10170, 'sweat': 7920, 'individual': 2510, 'wake': 5314, '##generate': 26038, 'yo': 26063, 'Editorial': 23640, '##ganized': 24087, '##luded': 27567, 'acts': 4096, '##ń': 19339, 'item': 8926, 'villain': 14081, 'exceptionally': 18635, '##ny': 3382, 'intercept': 22205, '##vos': 22287, '##market': 19919, '##lmer': 23370, 'thinks': 6191, 'Plateau': 17069, 'pressure': 2997, 'Austria': 4318, 'Beginning': 8404, '540': 22120, '##ா': 28582, 'wrist': 6703, 'ệ': 749, 'খ': 642, 'heritage': 5900, 'glossy': 21654, 'used': 1215, 'colt': 23506, 'perished': 25996, 'ᵇ': 710, 'restoration': 6912, 'playable': 18197, 'governed': 9789, 'unsuccessfully': 11586, 'Sick': 27056, '1881': 6411, '##rel': 9261, 'modify': 22015, '##hoot': 27240, 'contributes': 17705, 'Hereford': 23254, 'Independent': 4949, 'carrier': 7526, 'LLC': 11847, 'CP': 20360, '##manned': 25820, 'mage': 27595, '1874': 7079, 'salary': 10326, 'pets': 23463, 'Mitch': 11942, 'lucky': 6918, 'Fielding': 28030, 'trembled': 15529, 'Andrés': 22023, '##ld': 5253, 'mercenaries': 22222, 'even': 1256, 'lobbying': 22085, '##ţ': 28248, 'genetic': 7434, '##biology': 25181, '##ộ': 28657, 'relocated': 6942, 'र': 621, 'amount': 2971, '##ence': 7008, '##rophe': 24658, 'bags': 8483, 'necessarily': 9073, 'honoured': 17682, '##lars': 23502, '##up': 4455, 'titular': 17590, 'پ': 598, 'AJ': 22078, 'Salmon': 22144, '##avelin': 25790, 'staying': 6218, 'slide': 7253, 'Opening': 13902, 'tremendous': 15194, '##laid': 16898, '##″': 28700, 'shifts': 12644, 'defenders': 15024, 'Bonaparte': 22851, '##uating': 20807, '##евич': 25525, 'Knoxville': 21837, '##sham': 20241, 'saga': 24170, '##×': 28193, 'Mesa': 18506, '1661': 26981, 'USA': 3066, 'Bowman': 21502, '##acts': 19523, 'jammed': 24083, '##ail': 11922, '##tam': 20284, '##urgency': 25383, 'homeless': 12501, 'Buddhist': 7558, 'Dreams': 11335, 'indefinitely': 22887, 'Helens': 27068, 'Mare': 18466, 'Yourself': 26379, 'departments': 7844, 'Ajax': 20145, 'tributary': 8597, 'dunes': 23207, 'resulting': 3694, 'Yves': 21436, 'raked': 24962, 'Corp': 13619, 'Tyrone': 20314, '##jak': 24333, '##xe': 16056, 'catalog': 14438, 'earthquakes': 22555, '##rical': 17211, 'Fool': 21935, 'activity': 3246, '##zle': 21907, '##zman': 27277, 'raced': 7850, 'Albany': 10128, 'skeptical': 21333, 'consolidation': 20994, 'noun': 16432, 'Back': 4388, '³': 214, 'ABC': 5254, 'Ecuador': 10244, 'onto': 2135, 'correlated': 27053, 'incumbent': 8021, 'proliferation': 23766, '##used': 11031, 'Phoenix': 6343, 'landmarks': 21308, '[unused46]': 46, '##lates': 23591, 'Yugoslav': 12433, '##cribe': 17770, 'Tamara': 24251, 'maneuvers': 27559, 'seeks': 11053, '##yung': 25291, 'diseases': 8131, '##cise': 14636, '##uld': 24870, '##ants': 7418, 'test': 2774, 'Cologne': 12312, 'Colbert': 26866, 'biographical': 21204, 'Ritter': 25846, 'Georgia': 3260, 'University': 1239, '##v': 1964, 'threads': 18636, 'Eliza': 13661, 'Tu': 17037, 'altering': 25595, 'haunted': 13526, 'steps': 3343, 'VIII': 9935, '##din': 7126, 'debates': 15949, 'Armored': 22665, 'disciple': 21647, 'Democrat': 7319, 'deepened': 22047, 'there': 1175, '##√': 28748, 'Laws': 12077, 'rumors': 12287, 'churchyard': 24701, '##dote': 26595, 'brick': 5003, '1895': 5639, '##mins': 19296, '##uve': 19581, 'welcoming': 20028, 'overwhelmed': 14127, 'Elders': 27932, 'Liam': 7797, 'liable': 21988, 'coin': 9584, 'adequately': 26449, 'ü': 274, '00': 3135, 'tournaments': 8446, 'soundtrack': 5945, 'extraordinary': 10264, 'elevations': 20341, 'breeze': 10647, '1880s': 12931, '##ram': 4515, 'defining': 13682, 'Elgin': 26665, 'les': 8241, 'emerged': 5338, 'transplant': 26965, 'General': 1615, 'Rest': 20515, 'accordance': 10274, 'affinity': 18859, 'scenes': 4429, 'Active': 17244, 'Singing': 23836, 'auditioned': 25728, 'vessel': 5832, 'Territorial': 14984, 'thoughtful': 17873, '##emia': 20504, 'anxiously': 26433, 'Adolf': 12670, '##nin': 10430, 'touchdown': 7575, 'justify': 17422, '##lette': 21958, 'VIP': 24425, 'SmackDown': 26050, 'م': 589, 'drawn': 3795, 'sailed': 6930, 'Katie': 9482, 'befriended': 26149, '1943': 2976, 'Tokyo': 4839, '##é': 2744, 'expedition': 6084, 'survived': 4399, 'access': 2469, 'clashed': 25144, 'barony': 26488, 'diocese': 9856, '##ː': 28306, 'ã': 249, 'CPU': 18701, 'curved': 8981, '##pass': 11229, 'Leto': 27999, 'Critics': 10320, 'Thank': 4514, 'Wise': 16089, 'device': 4442, 'weakened': 12041, '##mology': 19969, 'NFC': 24743, 'historical': 3009, '##gh': 5084, '##pable': 20786, '##pers': 6206, 'rhythms': 21890, 'Dental': 24487, 'Bohemian': 22333, 'traditionally': 7440, 'Waller': 26362, 'lovely': 9020, 'ₛ': 833, '[unused25]': 25, '##ids': 7540, 'Minsk': 24137, 'sections': 4886, 'regulated': 12521, 'Hooker': 25102, '##onnell': 26823, 'gradual': 18258, 'honorary': 7316, '##OA': 23579, '18': 1407, 'Hercules': 16496, 'gasps': 27531, 'Primera': 15814, 'tensor': 27023, 'Lau': 25070, '##lini': 21472, 'kinda': 21884, 'assign': 27430, 'Reds': 13694, 'strategically': 27866, 'sail': 10339, 'tops': 15553, 'Verona': 22051, '##elo': 19773, '##hren': 22165, 'Legacy': 15512, 'wrestled': 22621, '##ering': 5938, '##ders': 10097, 'Qing': 13838, 'catalogue': 13571, 'Ramsey': 15828, 'Harbour': 10770, '1931': 3916, 'anxiety': 10507, 'styling': 23809, 'Greatest': 10971, '##ion': 1988, 'Fleet': 6711, 'dirty': 7320, '##ো': 28571, '##play': 11044, 'laughed': 3348, 'hay': 20433, 'Drama': 8020, '##ict': 17882, '##tuated': 26014, 'Played': 21433, 'holder': 10266, 'once': 1517, '##gley': 17970, 'gastropod': 10933, 'Bertrand': 22554, 'Diane': 12225, 'Miriam': 18131, 'era': 3386, 'sculpture': 7115, '##queduct': 26934, 'colony': 6417, 'Miguel': 7975, 'Andrews': 8946, '##ook': 9753, '##vie': 9756, 'policemen': 22452, 'manned': 16813, 'transfers': 16845, '322': 26605, 'innocence': 15025, 'specialising': 26388, '##bruck': 27824, 'seats': 3474, 'ecological': 14769, '##gins': 19579, 'Ling': 20815, '##iability': 26468, 'abandoning': 22634, 'unification': 21476, 'skirt': 9606, 'evolved': 7601, 'warfare': 9405, 'twentieth': 9976, 'Somali': 17950, 'guards': 5292, 'Jai': 19183, 'dart': 23466, 'jerking': 26525, 'musicals': 23924, '##oko': 26793, '1988': 2115, 'theoretical': 10093, '##き': 28792, 'obligation': 16207, 'Cromwell': 17829, 'favoured': 18039, '##less': 2008, 'Eli': 12224, 'star': 2851, 'almost': 1593, 'Disney': 5712, 'eligible': 7408, 'Swing': 21023, 'terminate': 22516, 'coached': 8692, 'tray': 12389, 'primarily': 3120, 'it': 1122, 'Norman': 5177, 'Nagar': 18704, 'Before': 2577, 'enlarged': 12089, 'laden': 23164, 'Drake': 7431, 'claw': 19659, 'temperatures': 7479, '##riad': 20144, 'Hussein': 17605, '##angay': 23001, 'replace': 4971, '##ssa': 11655, '##raphic': 27229, '1932': 3833, 'Tatiana': 25320, 'Mediterranean': 6553, 'neutral': 8795, 'González': 13375, 'Demon': 16805, '##try': 6013, 'blockade': 17567, 'Business': 3518, 'Lion': 9679, '[unused78]': 78, '##ュ': 28860, 'ᴵ': 707, 'thighs': 8932, 'Recreation': 14094, '221': 21319, 'Lyrics': 19262, 'difficult': 2846, '##HA': 11612, 'appealed': 12181, 'upper': 3105, 'Reilly': 14347, '##ā': 9663, 'froze': 10539, '##ark': 23822, 'road': 1812, '⁶': 804, 'Grand': 2224, 'Bryce': 21528, 'bars': 6668, 'shipping': 8629, '##ydro': 19694, '60': 2539, 'toast': 17458, 'Caucasian': 26561, 'Brooke': 11559, 'Grammar': 11803, 'leap': 13660, 'trying': 1774, 'pills': 17029, 'Terror': 15618, 'superiority': 21378, 'blunt': 20294, 'OR': 23066, '##dam': 10775, '##tage': 11535, 'eyebrow': 9258, 're': 1231, 'acquitted': 20183, 'pedal': 18081, 'Deep': 7786, 'ò': 264, 'transforms': 24573, 'operators': 9298, 'religions': 13239, 'spoke': 2910, 'bright': 3999, 'Feature': 14533, '##ingly': 15809, 'preventing': 10878, 'chase': 9839, 'Interstate': 8314, 'জ': 646, 'Edward': 2594, 'oil': 2949, '##ous': 2285, 'burden': 11904, 'Observer': 16460, 'Cynthia': 16754, 'follower': 25879, '1774': 18838, 'promoted': 3082, 'み': 919, 'IV': 4191, 'oath': 12749, 'styles': 6739, 'relation': 6796, 'Fisher': 8476, 'Dialogue': 26004, '##vies': 24848, 'evidently': 20178, 'battle': 2321, 'brown': 3058, 'Known': 13915, 'т': 493, '760': 27746, 'diplomacy': 24500, '##eds': 15513, '##umbling': 17776, 'Wesley': 11496, 'Statistical': 12121, 'Breakfast': 20289, 'Ç': 232, 'ύ': 444, '##ncia': 22313, '##gon': 7528, 'tutor': 17463, 'unique': 3527, 'Initial': 20242, 'Here': 3446, 'ᵗ': 718, '132': 14588, '##actor': 22610, 'Boss': 15103, 'cocaine': 18316, 'Composer': 19208, 'Ward': 5661, 'ŵ': 333, 'complementary': 24671, 'Hesse': 17416, 'Hoffman': 15876, 'IUCN': 22193, 'shirt': 2969, 'streaks': 24177, 'baron': 26347, 'ष': 625, '##ée': 8533, 'ئ': 564, '##brook': 8489, '##haw': 14431, 'lower': 2211, 'remarried': 21068, 'widowed': 26369, '##tology': 25333, 'BS': 21948, '125': 8347, 'API': 20480, 'Bentley': 16933, '##arded': 26541, '##IB': 27954, 'Burning': 17807, 'attendant': 19389, 'memories': 5628, 'stalk': 27438, '##wig': 14001, 'piles': 20849, 'differing': 18470, '##eur': 8816, 'underway': 14910, 'genetics': 20367, 'Ely': 22925, 'They': 1220, 'discussion': 6145, 'ourselves': 9655, 'V': 159, 'Calvert': 27949, '19': 1627, '##wind': 11129, '##aar': 26028, 'hiring': 15768, '##三': 28870, 'taught': 3188, '##《': 28780, '##print': 10988, 'imaging': 14377, 'Blanche': 21086, 'crystal': 8626, 'nightstand': 25895, 'ц': 497, '##tman': 21544, 'Ч': 470, 'reject': 16589, 'Swiss': 4614, 'backdrop': 20552, 'electrical': 6538, '##ija': 18158, 'permitting': 28049, '##tar': 6817, 'robbed': 22330, 'seminars': 19898, 'Melissa': 9350, 'Gillespie': 23166, 'Ellison': 23736, 'Mont': 20018, 'Equality': 25478, 'Eureka': 23695, '##iness': 8405, '##fled': 19036, 'knight': 11295, '##wo': 12821, 'Universities': 14482, 'hostilities': 19550, 'could': 1180, 'colors': 5769, 'bamboo': 19062, 'Bed': 26573, '##truction': 17993, 'routinely': 21871, '##lante': 26093, 'fingernails': 23654, 'Karen': 7677, 'branched': 24101, '##ontaine': 27656, 'contrast': 5014, 'conviction': 10774, 'weakening': 24721, 'profession': 9545, 'astonished': 26136, '##lue': 19224, 'eighty': 14654, 'prepare': 7034, 'holds': 3486, '##tinuum': 25379, 'ivory': 20728, 'Serb': 22089, 'Eve': 6721, 'inscription': 9237, 'leak': 19299, 'passengers': 4861, '##inda': 20344, 'Avengers': 15697, 'Maggie': 8153, 'bi': 16516, 'rough': 5902, 'transition': 6468, 'Cinema': 10371, 'rapper': 11333, '##ess': 5800, 'profit': 5022, '##ament': 11462, 'ț': 352, '##lique': 21492, '##500': 22682, 'chimney': 20143, 'Kenyan': 22336, 'eighth': 6075, 'parties': 3512, 'techniques': 4884, 'knocks': 24895, 'Stupid': 25863, 'saves': 14419, 'Karnataka': 12247, '##65': 27677, 'Hailey': 23923, '##ח': 28452, 'Novi': 24283, 'participating': 7828, 'Genevieve': 26905, '##reen': 28038, 'Didn': 10265, '##rdo': 16525, 'documenting': 26678, '##uns': 17096, 'pioneers': 17735, 'biography': 9631, '##ত': 28551, 'Many': 2408, 'whispered': 3125, 'Nair': 25233, '##quished': 24552, 'album': 1312, '##vere': 25243, '1949': 3224, 'runner': 6057, 'Caucus': 21127, 'Translation': 19996, 'Marsh': 11463, '98': 5103, 'Fisheries': 21817, 'Hermann': 12360, 'someone': 1800, 'applies': 12175, 'glorious': 18127, 'unusually': 14624, 'lovers': 12977, '##uen': 23404, 'Bahamas': 18242, 'lifestyle': 9897, 'Left': 8123, 'Invasion': 20209, 'eccentric': 20276, 'VA': 19497, 'lipstick': 28005, '##son': 2142, 'skipped': 18002, '##iser': 12943, 'worthy': 11649, 'lords': 17499, 'runs': 2326, 'Kraków': 16546, 'vintage': 17787, 'sanctuary': 11563, 'sic': 16554, '##umes': 25965, 'protocol': 11309, '##pent': 22083, 'NO': 24819, 'Communication': 10385, 'Guerrero': 18079, 'reduce': 4851, 'var': 15661, 'Allmusic': 16446, 'desire': 4232, 'sheriff': 11398, 'whites': 15185, '##№': 28735, '##ibi': 21883, 'bathroom': 5056, 'pursued': 9281, '##ritic': 23862, 'relegation': 9647, 'electronic': 4828, 'Reconnaissance': 18371, 'sermon': 24353, '##nos': 14226, 'address': 4134, 'murdered': 6636, 'Sigma': 15015, 'tearing': 14156, 'measurement': 11842, '##mann': 4119, 'Bend': 15913, 'glazed': 21856, 'canyon': 18964, 'revelation': 15071, '##ban': 7167, 'Championship': 1935, 'fielded': 23142, '##umba': 25509, 'economics': 8142, 'Catalogue': 20813, 'charting': 19733, 'participation': 6251, 'cursed': 11118, '##NL': 20734, 'Lincoln': 4617, 'wheels': 8089, 'Gallagher': 18497, 'civilization': 12442, '₎': 823, 'neglected': 16778, 'Areas': 20371, 'inn': 14880, 'Anything': 11087, 'Madness': 24843, 'summers': 14921, '##aded': 17535, '##\\\\': 28148, '##wicz': 15428, 'McGrath': 25975, 'lever': 20097, '##atic': 7698, 'Cassidy': 14190, '##ɪ': 28283, 'Wave': 13531, 'Only': 2809, 'Silver': 4826, 'envelope': 11427, '##unt': 8355, '##ati': 11745, 'giggle': 19186, 'Ronald': 8565, '##HD': 23527, 'horns': 13011, 'curator': 16072, '##ening': 4777, 'relate': 15123, '##ム': 28858, 'favorite': 5095, 'Barr': 21715, 'Woodstock': 23128, 'histories': 19160, '##る': 28821, 'platinum': 11980, 'wagons': 15643, '##kini': 25009, 'aired': 4086, 'sensory': 19144, '##çaise': 20952, 'Dora': 23758, 'Legislative': 5906, 'pumps': 17309, '##at': 2980, 'ornaments': 28034, 'Heavyweight': 10251, '7th': 4766, '##fighter': 22217, '##iggs': 28119, '##bie': 9725, '##gical': 20851, 'succeed': 9381, 'Malone': 17571, '##ción': 11541, '##edia': 18246, 'turtle': 19570, 'varies': 9544, 'Hansen': 13666, '##ö': 19593, 'Character': 23543, 'Windsor': 9864, 'stricken': 18178, 'posing': 23614, 'Household': 25705, 'Health': 3225, 'didn': 1238, 'Pop': 7312, 'Um': 12189, 'heck': 26913, 'fading': 15236, 'Aviv': 12927, 'puppet': 16797, 'Wakefield': 17039, '##rap': 14543, 'misery': 17490, 'Dangerous': 20924, '##deacon': 22693, 'Butcher': 25991, 'Pact': 27175, 'Homeland': 21725, '##GC': 13478, 'χ': 440, '##gogue': 26021, 'welcome': 7236, 'incredibly': 12170, 'Seas': 24281, 'Mormon': 15887, '⊕': 867, 'Mid': 9825, 'flinched': 20888, 'councils': 13298, '##bil': 15197, 'Pulitzer': 18887, 'dorm': 22181, 'Perth': 8986, '1830': 9200, '##var': 8997, 'Turning': 12848, 'echo': 16278, 'stud': 24084, 'condition': 3879, 'palm': 5824, 'unstable': 15443, 'Argentina': 4904, 'flourish': 27760, '1970': 2459, 'simple': 3014, 'chamber': 5383, 'knee': 5656, 'Todd': 6365, '##makers': 11877, 'breasts': 13016, '116': 13096, 'escorting': 27108, 'Ć': 282, 'Unfortunately': 7595, 'cathedral': 8846, 'deeper': 6353, '##II': 12738, 'Halloween': 15101, '##tensive': 27291, '##rik': 10160, '1798': 13281, 'Pieter': 26609, 'neutron': 25636, 'warehouses': 26783, 'Gerard': 13740, '⁰': 800, 'FBI': 8099, '##nson': 15703, 'populations': 6623, 'tipped': 11213, 'permanent': 4088, 'SUV': 16536, 'novella': 26995, '##MP': 12347, 'Campo': 25896, 'Prasad': 19039, 'coral': 16189, '##key': 9144, '##steries': 24748, 'é': 255, 'ồ': 753, 'penalty': 6180, '##rm': 9019, 'Holding': 14382, '##gawa': 14612, 'Mirage': 27288, 'analytical': 22828, 'Jet': 13784, '1907': 4796, 'strapped': 19688, 'Bennett': 7611, '।': 635, 'د': 573, 'Daemon': 13698, 'repaired': 14129, 'selecting': 19752, 'postseason': 19337, 'rooms': 4045, 'Judiciary': 25932, 'considers': 10500, 'hunter': 11151, '##rov': 12316, 'documentary': 4148, '한': 1093, 'Wisconsin': 4486, '##cible': 16240, '##urai': 17319, 'argument': 6171, 'enabling': 12619, 'provoked': 21094, 'pathways': 19530, 'Layne': 24926, 'Clarence': 11863, '##ナ': 28848, 'dans': 22463, 'Pay': 22531, 'Barracks': 20526, 'ribbons': 27483, 'pedestrian': 16270, 'ʁ': 366, 'powder': 10794, 'creators': 19894, 'Icelandic': 14530, '207': 21606, 'UV': 26331, 'screenwriter': 11625, 'sufficient': 6664, 'continuation': 14961, 'months': 1808, 'Arrow': 16174, 'empire': 8207, '##pores': 22708, 'Jong': 20950, 'bio': 25128, 'オ': 936, 'appeal': 5767, '##quist': 19854, 'Spider': 8454, 'considered': 1737, '##culus': 22420, 'Additional': 8154, 'Tarzan': 27951, 'Leningrad': 16866, 'unsuccessful': 7285, '##dding': 15977, 'conceived': 10187, 'indictment': 27926, '##ouse': 17237, 'harmony': 12659, 'treat': 7299, 'generally': 2412, 'beer': 5298, 'distinguished': 6019, '##its': 6439, 'Sicilian': 25150, 'Padma': 26922, 'Phase': 12278, '##lu': 7535, 'amino': 13736, 'Marines': 10603, '##VD': 23935, 'Nicaragua': 16284, 'Head': 3763, 'Doo': 27588, 'abortion': 12030, 'contracted': 11058, 'inaugurated': 11327, 'archive': 12406, '149': 18513, '##fill': 18591, 'Election': 11905, 'wicket': 13386, '##hout': 24284, '川': 1023, 'interface': 8551, 'instituted': 15833, 'trader': 22574, 'applying': 11892, 'Copenhagen': 9409, 'election': 1728, 'started': 1408, '##eves': 19316, 'Pitchfork': 27186, 'Spencer': 6511, 'Industrial': 7080, 'faced': 3544, 'invest': 17557, 'headmaster': 22919, 'resembles': 13198, 'artists': 2719, 'weekly': 5392, 'cannons': 20090, 'Harvest': 23119, '321': 26963, 'language': 1846, 'emotional': 6438, 'myths': 21557, 'filed': 5770, '‘': 786, '##thest': 22722, '##gado': 23224, 'Reese': 16829, 'ions': 17146, 'ố': 752, 'Eden': 10253, 'sweetheart': 14266, 'full': 1554, 'stomped': 24299, 'captains': 20672, '##ables': 15759, 'Courts': 16624, 'п': 490, '##ST': 9272, 'minor': 3137, 'Chao': 26168, '405': 26904, 'methods': 4069, 'Hopper': 27013, 'Lilly': 15482, '##jection': 26857, 'Flight': 6945, 'Big': 2562, 'me': 1143, 'Beneath': 23319, 'Revelation': 26374, 'Tallinn': 23277, 'gratitude': 17234, '##r': 1197, '##à': 9183, 'Initiative': 13508, 'Illinois': 3461, 'rural': 3738, 'subunit': 27555, 'armed': 4223, '##logist': 8844, '##vide': 22650, '##Á': 28180, '##enburg': 13233, 'Ce': 24664, '##qing': 22676, 'Jul': 25038, 'magnitude': 10094, 'Agency': 5571, 'Regan': 18090, '##tee': 26032, 'clawed': 25299, 'says': 1867, 'dangers': 18552, '##bered': 25757, 'currency': 10202, '」': 890, 'Li': 5255, 'Yi': 14141, 'Have': 4373, '##司': 28892, '##rade': 12673, '##tribution': 14970, 'Winters': 24699, '1923': 4123, 'Rising': 11948, '##car': 8766, '##ey': 2254, 'Fanny': 19950, 'Huron': 24289, '0': 121, 'plague': 13824, '##we': 7921, '142': 17048, 'visited': 3891, '1953': 3185, 'Lies': 22550, 'sarcasm': 23790, 'calf': 23256, 'occurred': 3296, 'Johannes': 12697, 'breach': 13275, 'Po': 18959, 'https': 18630, 'pork': 19915, 'Customs': 17050, '##mmer': 10951, 'Lester': 14682, '##wley': 21609, 'Léon': 28046, 'Carlton': 13214, 'doubt': 4095, 'Yun': 27413, 'ought': 11454, 'Any': 6291, 'from': 1121, 'regions': 4001, 'Hidden': 19595, 'brush': 8415, 'López': 13629, 'countless': 15696, 'transportation': 6312, 'Taking': 9251, 'manners': 18944, 'у': 494, 'け': 901, '##rout': 20885, 'Č': 284, 'Katrina': 17986, 'gentleman': 12400, '##wire': 24952, 'Residence': 18774, 'recognition': 4453, '##90': 21500, 'paths': 10843, 'Juliette': 27890, 'Mayo': 15423, 'ع': 583, 'Deborah': 16507, '##ceive': 23566, '##vior': 17564, 'disappeared': 4712, 'immortality': 25211, 'collect': 7822, 'enterprise': 10614, 'screening': 11954, 'Tex': 18033, 'Natal': 20929, 'bills': 10020, 'pronounced': 8481, '##umbria': 21069, 'Flyers': 20870, 'surfaced': 16713, 'deepest': 19327, 'erection': 14398, '10th': 5368, 'irrigation': 14448, '##ality': 17839, 'Modern': 4825, 'strategy': 5564, '##rma': 10841, 'canvas': 11246, 'alright': 15354, 'demonstrations': 14476, '##ès': 10695, 'defended': 7607, 'economists': 27705, 'waved': 6577, '31st': 18223, '##eding': 17141, 'concerto': 25657, 'see': 1267, '1811': 13370, 'questionable': 23589, '##Ó': 28191, 'thigh': 9973, '##grapher': 14334, 'estimate': 10301, '##₱': 28732, '##iae': 21845, 'silvery': 24910, 'consume': 17914, 'saint': 10916, '##ssel': 16077, 'র': 657, 'convince': 7627, '##zhou': 10753, 'threatens': 18241, '##neer': 25100, 'belonged': 5609, 'aboard': 7161, 'tales': 11297, 'data': 2233, 'parade': 10686, 'Lightning': 13479, '##24': 19598, 'Millennium': 14898, 'format': 3536, 'Lords': 9880, '##nis': 7221, 'nearer': 23205, 'disturbing': 15958, 'conditional': 21152, 'Cristina': 24644, 'licence': 12155, 'Evening': 11718, 'barge': 24237, 'shades': 16327, 'pioneered': 17320, 'Darcy': 18981, '##yna': 21880, 'episodes': 3426, 'Arena': 6492, 'Slovakia': 10958, 'Costello': 23093, 'emphasis': 7569, 'Twenty': 7714, 'invitation': 8727, '##ently': 23680, 'Loyola': 23828, 'Manning': 13489, '##：': 28995, 'complicated': 8277, 'Brody': 21525, 'shivered': 14422, 'Natalia': 24130, 'deposit': 14304, 'owning': 21554, '##バ': 28851, '##ei': 6851, '##vre': 9699, 'vertically': 22026, '##31': 22639, '##ith': 7088, 'Brest': 25025, 'softly': 4526, 'Theology': 15673, 'playground': 18514, '##llie': 14367, 'Porto': 14333, 'theme': 3815, '59': 4589, 'buildings': 2275, 'tunnel': 5280, 'occurrence': 15299, '##itation': 12633, 'daily': 3828, '##hand': 9332, 'Sonata': 18825, 'STS': 25435, 'patrol': 7489, 'Stevenson': 14012, 'Japan': 1999, 'recurring': 10993, 'cousins': 14904, 'Taliban': 17677, 'Burt': 20215, 'constitution': 7119, 'elimination': 10466, 'fascist': 22402, '##icide': 24421, '##stock': 22248, 'trainers': 26657, '##chus': 15548, 'Staff': 5949, 'gotta': 13224, 'seized': 7842, '##dhi': 20832, 'Founding': 27880, 'bids': 23733, 'Assam': 15984, 'cracking': 17254, '##Œ': 28240, 'comic': 4824, '##ík': 18014, '##ciation': 15253, 'effective': 3903, '[unused20]': 20, 'Hu': 20164, '500': 2260, 'differed': 21286, 'Toronto': 3506, 'lurking': 28018, 'too': 1315, 'rites': 22396, 'salaries': 23343, '##cene': 15127, '食': 1084, 'Lucian': 19618, 'highlighted': 11634, '##iana': 12268, 'Power': 3794, '##uin': 14846, 'Norte': 22095, 'supporters': 6638, 'Government': 2384, '##ovich': 11748, 'Capital': 6299, 'Trustees': 15340, '##la': 1742, 'establishments': 18879, 'forgetting': 20608, 'strap': 17896, 'adjacent': 4903, 'rulers': 11507, 'orgasm': 14676, 'MLS': 17388, 'Well': 2119, '##OS': 9025, 'lung': 13093, '1870': 6339, 'topography': 27341, 'Lissa': 22160, 'projection': 15178, 'Sung': 21375, 'Weaver': 17263, '1954': 3183, 'entrepreneurs': 21607, 'Leicestershire': 21854, 'Neo': 14521, '230': 11866, 'Ones': 21034, 'Centre': 2961, 'deaths': 6209, '##ters': 5759, '##person': 14359, 'ease': 7166, 'vibrant': 18652, 'insurgents': 23177, 'programmed': 18693, 'Lecturer': 24378, 'assembled': 8968, 'jewels': 21743, 'depicting': 10726, 'る': 928, 'Gross': 15161, '##rom': 16071, 'clarinet': 13866, '##QL': 22825, 'Motors': 13931, '##ћ': 28422, 'Passage': 22780, '##icks': 18917, 'nail': 16255, '##）': 28991, 'office': 1701, 'From': 1622, 'Slovenia': 10163, '##drome': 12743, 'ơ': 342, '##lma': 16882, 'mandated': 17983, 'metres': 2759, 'Fresno': 22885, 'easily': 3253, 'comparative': 18008, '##HP': 18104, '##ná': 24073, 'bound': 4930, 'residues': 25513, 'Front': 5967, 'Resurrection': 26461, '##lanche': 27474, '##ña': 11172, '##ample': 26671, 'Grove': 8051, 'Tanzania': 12037, 'ུ': 695, 'Anglia': 27225, 'determined': 3552, '##ure': 3313, '##yres': 19168, 'facilitated': 21582, 'metallic': 13256, 'Atkinson': 20189, 'Yamaha': 27275, 'Software': 10331, 'satisfaction': 10241, 'countryside': 11408, 'letter': 2998, 'Κ': 402, 'Aid': 15386, 'Lil': 14138, '##dicated': 17681, 'Sabine': 20081, 'marry': 5390, 'pay': 2653, 'swelled': 24201, '##bation': 19632, 'aggregator': 27205, 'realized': 2788, '##dis': 10396, 'subsidiaries': 22423, '##truct': 23055, '##lank': 27339, 'combat': 4127, 'indigenous': 6854, 'converted': 4213, 'Mellon': 24587, 'votes': 3667, 'make': 1294, '1781': 17870, 'severed': 18177, 'Frank': 2748, 'style': 1947, 'encryption': 26463, 'mythology': 12040, 'PC': 7054, '##hari': 16234, 'Students': 6510, 'winds': 7390, 'ż': 337, 'advocacy': 13871, '生': 1056, 'Smoke': 19440, 'Hardy': 10092, 'Presidential': 9643, 'swayed': 22016, 'Series': 2768, 'Regulations': 24124, 'Parents': 24261, 'Reacher': 25838, 'belt': 5614, 'graphic': 9429, 'reunion': 14150, 'destructive': 17042, '##pair': 25033, '333': 23335, 'Deportivo': 26569, 'gut': 9691, 'Harvard': 5051, '##san': 9995, 'eclectic': 24902, 'Kirk': 11667, 'GMA': 22983, 'fluent': 21785, 'graders': 26186, 'Wolfgang': 14326, 'Namibia': 16228, 'moaning': 26944, 'headed': 2917, 'thoughts': 3578, 'rules': 2995, 'engage': 8306, 'Musical': 8660, 'grade': 3654, 'symbolic': 13516, 'atom': 18858, '##roup': 24220, 'lend': 23559, 'similar': 1861, 'Dorothea': 27139, 'compatibility': 25400, '##tin': 6105, 'spying': 26470, '##natch': 25703, 'acquiring': 14585, 'Mysore': 22822, '##TR': 23313, 'Dion': 21322, 'incorrectly': 21605, 'mitochondrial': 27850, 'exhibit': 8245, 'defect': 23912, 'Cherry': 11328, 'Elijah': 14581, '##pute': 22662, 'Live': 3374, 'Henrik': 20297, 'Chung': 17838, '##YP': 24772, 'regulator': 27335, 'pot': 9814, 'annoyed': 12049, '##sponsible': 26408, 'blushed': 21082, '##ラ': 28861, 'involving': 5336, 'muzzle': 19751, 'education': 1972, 'eyeing': 21593, 'Bluff': 22779, 'canoe': 21291, '##Ú': 28195, 'lays': 22307, 'exhaust': 16287, 'Encyclopedia': 15047, '##mamoto': 24301, 'cult': 9528, '##ович': 17892, 'nests': 19759, 'breathe': 7164, '##grarian': 25873, 'handy': 25997, 'cuffs': 27917, 'directory': 22605, '##brae': 25171, '##そ': 28800, '##onic': 13207, '##ocene': 14036, 'Java': 9155, '##lea': 19094, 'planet': 5015, '##hing': 8840, 'Stan': 9633, '##rote': 21020, 'Hurricanes': 25208, 'Gonzalez': 21125, 'Feng': 22720, 'prevalent': 15950, 'Elsa': 26709, 'voyage': 10007, 'adopt': 11258, '737': 24413, 'liberated': 22241, 'establish': 4586, 'focusing': 7781, 'comedic': 24504, 'Josephine': 18355, '##ą': 28213, 'enraged': 23247, '##nner': 27106, 'only': 1178, '##ī': 11756, '1778': 17343, 'Elements': 22786, 'inferior': 15543, '##roper': 26554, '##backs': 11713, 'employs': 13856, 'Artillery': 7211, '##ジ': 28838, 'aesthetic': 13492, '##val': 7501, 'production': 1707, 'Final': 3788, '##َ': 28498, 'Consul': 23184, 'motifs': 18916, 'treaties': 19151, 'Scout': 9240, 'purple': 7212, 'ན': 688, 'Nobody': 9913, 'litigation': 18184, 'Matthias': 19317, '35th': 22031, 'Employment': 18340, 'ű': 331, '##wood': 2615, 'James': 1600, '##gong': 19387, 'cherry': 20170, '##iden': 26859, '##ֵ': 28439, 'attractive': 8394, 'Unit': 6115, '##iv': 11083, 'grim': 14816, 'hopeful': 19953, 'why': 1725, '##acity': 19905, 'Mead': 24700, 'court': 2175, 'match': 1801, '##ante': 14626, '##patrick': 17015, 'repeal': 26228, '##│': 28764, 'hurts': 15483, '##ddled': 19545, '##ncies': 9885, 'Blair': 10378, 'Lecture': 22842, 'stray': 18987, 'Everybody': 14325, 'southeast': 5038, 'Suez': 24436, '##ñ': 28205, 'а': 475, 'Uganda': 9831, 'noticing': 16927, '##oids': 18093, 'maintenance': 5972, 'Nepal': 7795, 'hunters': 13202, '287': 25724, 'denies': 26360, 'rocks': 5753, 'Nikki': 15155, 'Yiddish': 21965, 'eyebrows': 8039, 'Bombardment': 16157, 'accepted': 3134, '##lk': 10493, 'holders': 14322, '##rassed': 27857, 'narrow': 4142, 'pseudo': 23563, 'Ares': 27489, 'Aurora': 14096, '##dbury': 26837, 'Chartered': 27344, 'his': 1117, 'circuits': 15329, 'retreated': 11706, 'Η': 399, 'family': 1266, 'development': 1718, 'Mohammed': 12811, '##s': 1116, 'greeting': 15908, 'Meredith': 10534, 'departing': 18646, '##nob': 22360, 'Olympia': 18279, 'resisted': 13672, '##log': 13791, 'Eleanor': 10392, 'corridor': 7512, '[unused21]': 21, 'visits': 7508, 'Physical': 10618, 'Becky': 15009, 'paired': 13185, 'talking': 2520, 'scraping': 27088, 'Wilkes': 22603, 'reverted': 17464, '##hogany': 26724, '##hill': 6690, '##な': 28806, '##een': 9561, 'limbs': 10765, 'ME': 22157, '1745': 24088, '##ided': 10517, '##rek': 14909, 'Saint': 2216, 'fellow': 3235, '##、': 28778, '##sistence': 19031, 'spike': 21644, 'Six': 4995, 'suspicions': 19592, 'ahead': 3075, '##TI': 21669, 'sprint': 12766, 'Joy': 10768, 'hedge': 21610, 'Ha': 11679, 'springs': 12517, 'inmates': 13944, 'Philippine': 7313, 'Carpenter': 13190, 'Productions': 7896, 'Churches': 13701, 'lent': 20283, 'Challenger': 19322, 'fat': 7930, 'formulated': 21650, 'royalty': 20020, 'Madeleine': 21096, 'effort': 3098, 'Sur': 17078, 'Mari': 17978, '##86': 22392, '##nast': 27897, '##dates': 20388, 'Hair': 19817, 'Coach': 6522, 'Müller': 16761, 'Gore': 16455, 'Delta': 7679, 'Tales': 9931, 'timing': 11491, 'replacing': 5861, 'Brazil': 3524, 'disastrous': 17985, 'Races': 20157, 'Hotels': 25704, '##changing': 23286, 'Peña': 25273, 'Cameron': 6681, '##dges': 25477, 'Ю': 473, 'Louis': 2535, '##oaming': 27303, 'charity': 6630, 'め': 921, '##rna': 11782, 'reader': 9728, 'immunity': 17523, 'Bern': 17666, 'developmental': 16700, 'minors': 21675, 'Devlin': 27449, '[unused24]': 24, 'divisions': 5760, 'Lead': 10440, 'Salon': 17420, '##reator': 26284, '##eng': 14429, 'Charge': 24510, 'Curling': 23991, 'chemical': 5297, 'Juliana': 27247, 'spikes': 23030, 'conglomerate': 27482, '##sper': 20623, 'ji': 23220, 'phenomena': 14343, '太': 1011, 'capped': 14510, 'Garcia': 10233, 'Braves': 14864, 'chart': 3481, '##yuki': 19404, 'Growing': 20612, 'pig': 13407, 'Amendment': 10060, 'Shaun': 17946, 'Martín': 18060, 'Dalton': 12599, 'Seoul': 10853, 'Collin': 24565, 'operates': 5049, 'Alison': 12884, 'Excellent': 25764, 'Favorite': 22585, 'Torre': 24757, '##stra': 16468, 'clade': 24904, 'anchored': 15283, 'č': 285, 'rain': 4458, '##ulated': 8360, '##gic': 11007, 'oils': 23638, 'Hurt': 26339, 'swimmers': 25226, 'ও': 640, 'Poole': 20784, 'assess': 15187, 'acids': 13087, 'sentenced': 6874, 'arches': 14738, '##lip': 10913, 'designers': 12297, 'Library': 3371, 'maternal': 11476, '##ours': 24453, 'Nora': 12579, 'weighs': 23363, '1936': 3419, 'straight': 2632, 'passing': 3744, 'spanning': 14827, '[unused69]': 69, 'Door': 15087, 'cent': 9848, 'pressures': 16390, 'bothering': 18230, 'Cowboys': 13009, '##tant': 17071, 'heel': 12781, '##uck': 8474, 'Gregg': 19672, 'treats': 20554, '##53': 24239, '##thal': 17939, 'Requiem': 25426, 'contrasting': 25516, 'Aviation': 7650, 'wed': 26055, 'Environment': 9247, 'Managing': 16522, 'Lady': 2876, 'envisioned': 19512, 'vomit': 26979, 'cross': 2771, '##xial': 27361, '##र': 28524, '##29': 26752, 'sire': 21558, 'motion': 4018, 'white': 1653, '##ped': 3537, '##і': 28418, 'fall': 2303, 'thriller': 11826, '##load': 9607, '##gma': 14721, '##ël': 17259, 'consultation': 18261, 'feeding': 8453, 'Ḩ': 729, 'narrated': 19537, 'depends': 9113, 'carving': 20505, 'ain': 9562, 'Oracle': 19265, 'Confederate': 7730, 'commonly': 3337, '##esan': 27376, 'Goldberg': 20029, 'balance': 5233, '##ching': 7520, 'litter': 21491, 'interactions': 10393, 'labeled': 12893, 'Thom': 24484, 'sweet': 4105, 'mortgage': 16935, 'Sand': 16377, 'yacht': 16449, 'Nintendo': 9811, '##nation': 9199, 'piano': 3267, 'trailing': 13161, 'Gabrielle': 18145, '##joy': 18734, '##kara': 14567, '郡': 1076, 'Waltz': 25943, 'バ': 958, 'Stefano': 21802, 'Team': 2649, 'Kathleen': 15182, 'stress': 6600, 'Faye': 20958, 'Transfer': 23489, '##ὶ': 28675, 'Woodrow': 26861, 'Ordinary': 24564, 'throne': 5774, 'Khan': 4340, 'Johnstone': 27148, 'halls': 10969, 'Fallen': 22507, 'ト': 953, 'particle': 11287, 'grasp': 10598, 'Viscount': 12897, 'unemployment': 13204, '##ᵇ': 28613, 'look': 1440, '2020': 12795, 'ₘ': 830, '##anu': 19762, 'guided': 8610, 'ị': 750, '##tr': 18062, 'Jonah': 16576, '[unused6]': 6, 'Langdon': 16000, 'Twins': 15715, 'machine': 3395, 'Subsequent': 20499, 'Langley': 20794, 'bite': 6513, 'nice': 3505, 'patronage': 17326, '##iara': 25816, 'Ashes': 23853, 'Future': 7549, '##rp': 15615, 'Zurich': 16142, 'singers': 9500, 'fucked': 26144, '##jure': 28014, 'vicinity': 9748, '##nae': 16379, '⊆': 866, 'driven': 4940, 'handkerchief': 27570, 'all': 1155, 'stretching': 11307, 'Lam': 21372, 'Tomatoes': 16733, '##post': 21341, 'Hold': 10860, 'poll': 9590, 'Copyright': 22359, 'redevelopment': 18234, 'Beast': 11868, 'catastrophic': 27198, 'philosophical': 11388, '##23': 22737, 'Nightmare': 26247, 'changed': 2014, '##xon': 21501, '₹': 838, 'mum': 23993, 'pipeline': 15826, 'weather': 4250, 'µ': 216, '##ی': 28506, '##§': 28161, 'ེ': 696, 'accusations': 14144, '##uer': 10232, 'そ': 907, '##ella': 7772, '52': 3882, 'headache': 16320, 'HBO': 15262, '##ygiene': 21431, 'dizzy': 21441, '##graphical': 25582, 'drunk': 6882, 'ミ': 964, 'soloist': 19171, 'preparing': 7963, 'buffer': 20232, 'relatives': 8908, 'laughing': 5574, '##BC': 9428, '氏': 1047, '##れ': 28822, '##ả': 28641, 'Keys': 17142, 'Stream': 22627, 'Mauritius': 19376, '##ῆ': 28677, 'Wentworth': 22541, 'therapy': 7606, 'gritted': 18512, 'café': 20583, 'traffic': 3404, 'dust': 6693, 'praise': 9010, 'neighborhoods': 12073, '##tern': 16748, '##ʑ': 28294, '##uilt': 20833, 'Premiership': 18536, 'spins': 26670, '##o': 1186, '##ovsky': 22933, 'remarkably': 19957, 'foundation': 4686, 'Recovery': 23682, 'ceilings': 23679, 'happily': 11786, 'coma': 19737, 'Armoured': 20568, 'Talking': 17940, 'elections': 3212, '2001': 1630, 'reserved': 9142, 'contemporary': 3793, '##stituted': 26742, 'snail': 11119, 'Fiona': 13353, 'Frey': 21921, '南': 995, 'Count': 5704, 'pitcher': 8092, '‡': 793, 'token': 22559, '##MU': 21219, 'ruled': 4741, 'rebellion': 8833, 'Malaysia': 5355, 'Eddie': 5040, 'major': 1558, 'method': 3442, 'Colombo': 17245, 'Captain': 2791, 'Fever': 21416, 'run': 1576, 'Jasmine': 15912, 'Max': 3405, 'commented': 6454, 'Ch': 20394, 'Slade': 19466, 'Eat': 21327, '##gression': 24032, '##flections': 26871, 'chiefs': 16588, '##omer': 23806, '##ty': 2340, 'relegated': 7744, 'prevailed': 21691, 'premature': 24505, 'grocery': 14206, '№': 840, 'Alaska': 6883, 'Ain': 12088, 'staggered': 15366, 'habitats': 10902, 'Ashton': 14202, 'relativity': 27373, 'resolve': 10820, '##gement': 20512, 'loyal': 9125, 'twisting': 13769, 'Bernie': 16932, 'Notre': 10360, 'Yuri': 15110, 'without': 1443, 'analysts': 22018, 'noisy': 24678, 'meters': 4865, 'Into': 14000, 'Follow': 19253, 'Eugene': 8889, 'striped': 20399, 'dictionary': 17085, 'Ping': 27163, '##ave': 8308, '##usion': 17268, 'flickering': 22387, '##い': 28787, 'screenplay': 10850, 'swords': 12604, 'diver': 23448, 'resemble': 13262, 'Lucan': 22776, 'trademark': 12557, 'invites': 20384, 'reach': 2519, 'tactic': 21800, '##LE': 17516, 'Martial': 24800, '##chism': 25564, 'unusual': 5283, '##hesive': 23838, 'Shin': 14522, 'RB': 24718, '##¢': 28158, 'NATO': 10017, 'locks': 11992, 'goals': 2513, '##nics': 21157, 'identification': 9117, 'mouth': 1779, 'Denny': 15073, 'spend': 4511, '##ά': 28335, 'NBC': 6181, 'accordion': 22827, 'Ф': 467, '##ingen': 15016, 'Peak': 10088, 'exclusion': 18434, 'Athletic': 6244, '##erse': 22184, '##tography': 22556, 'officials': 3878, '##teca': 27560, 'eager': 9582, 'Accordingly': 22801, 'CBE': 16779, 'brake': 15042, 'Cruz': 7665, 'Dar': 23612, 'Bloomberg': 25638, 'Tuesday': 9667, 'beamed': 25176, '8th': 5192, 'vamp': 24414, 'Danish': 4979, 'forts': 17725, 'Kurt': 9426, '##ational': 21404, '##nnes': 24147, 'Declan': 17552, 'quartet': 14818, 'representations': 16539, 'static': 12182, 'Dean': 4285, 'Yorkshire': 6426, '##王': 28948, '##nian': 11091, 'sacked': 14736, '##ological': 7542, 'beads': 20108, 'Total': 8653, 'survivors': 8771, '##barian': 28105, 'notably': 5087, 'sympathetic': 13493, 'Ο': 406, '##₄': 13925, 'Bauer': 19211, 'cocktail': 23305, '##pia': 15748, 'Köppen': 22414, '##LF': 25470, 'crashes': 21110, 'seduce': 26317, '##bodied': 27991, '##yl': 7777, 'Goal': 20338, 'mentioned': 3025, 'Janata': 22202, 'Antwerp': 14492, 'Leary': 25654, '##itors': 27517, '##dae': 5598, '##sar': 9724, 'eroded': 26098, 'Jewish': 2778, 'composer': 3996, '##eor': 25690, '##free': 26743, '##ust': 8954, '##taire': 25482, 'travelers': 18204, 'operational': 6519, 'breakup': 21194, 'activated': 9618, 'eruption': 19049, '##rading': 23857, 'server': 9770, 'Legal': 10800, 'missionary': 10263, 'Bombay': 11888, 'Caribbean': 6562, 'piercing': 15659, '##enary': 22119, 'tells': 3301, 'reputed': 25153, '##sent': 27408, 'Lexi': 17174, '##ri': 2047, 'grin': 5207, 'pinned': 11973, 'goodness': 18023, '##ث': 28478, 'transverse': 20987, '版': 1053, 'AFL': 9835, 'Really': 8762, 'sugar': 6656, 'celebration': 7978, 'shortly': 3992, 'carrying': 4004, '26': 1744, 'Eaton': 18909, '##bra': 6766, '##liga': 10811, '##lman': 12151, 'voiced': 7350, 'professionally': 12486, 'Muslim': 4360, '256': 18440, '1885': 5951, 'batter': 27584, 'note': 3805, 'title': 1641, 'conquer': 19280, 'attended': 2323, '##making': 10448, '##jord': 17335, 'engaged': 4349, '##dr': 23632, 'Magic': 6734, 'fact': 1864, 'nightclub': 17313, 'strained': 12448, 'tasting': 21296, '##stop': 26645, 'gigs': 23369, 'echoes': 24390, 'Maryland': 4624, '##ode': 13040, 'ambushed': 24722, 'Stephen': 3620, 'McGuire': 26821, '‑': 780, '1911': 4383, '##rsch': 20627, 'lining': 16126, 'resident': 6408, 'flavor': 16852, 'Then': 1599, '##genus': 27651, 'localities': 22028, 'compose': 18742, 'EA': 23616, 'Bundesliga': 14814, 'Kingdom': 2325, 'commerce': 10678, 'resumed': 7475, '1831': 10897, '##tracted': 16550, '185': 16183, 'Stadion': 25297, 'Ghana': 9446, '##mote': 21294, 'removal': 8116, 'proteins': 7865, 'percussion': 6316, '##breaker': 21503, 'Ryan': 3730, 'ABS': 20066, 'interpretation': 7628, 'realm': 9695, 'fielding': 26110, '##ɲ': 28284, 'ups': 12534, 'i': 178, 'understands': 21744, 'slow': 3345, 'Winners': 8793, '1939': 3061, 'amphibious': 20966, 'Swamp': 25723, 'vocalist': 8086, '[unused42]': 42, 'contribute': 8681, 'tracing': 19225, 'Darlington': 21410, 'aerospace': 27689, 'constitutional': 7950, '##bury': 4109, '##ilt': 14080, 'hand': 1289, 'Flowers': 14122, '¹': 219, 'Lot': 19804, 'ᵒ': 716, 'य': 620, '##≤': 28757, 'angrily': 14887, 'combustion': 18785, 'Galloway': 24833, 'Palais': 25121, 'Falcons': 16952, 'Maximilian': 20416, 'recruits': 16231, 'Е': 453, '##eology': 22325, 'governor': 4066, '##fe': 8124, 'Newmarket': 25000, 'Hop': 12965, 'specialist': 9131, '1902': 5061, '##32': 17101, 'lined': 7265, 'peaking': 13391, 'Gaming': 21161, '##ule': 8722, 'pioneer': 8578, 'Susannah': 22470, 'authors': 5752, 'orbits': 22508, '##g': 1403, '##cluded': 23498, 'toilet': 12356, 'Doesn': 17554, '##mler': 20465, 'firms': 9780, '111': 11084, '##liness': 14951, 'pronunciation': 17238, 'cabinet': 6109, 'Patterson': 12587, 'Now': 1986, 'Quarterly': 19516, '##ader': 21706, 'Postal': 20976, 'filmmakers': 18992, 'غ': 584, 'Prussian': 10633, 'hate': 4819, '##⊂': 28759, 'Cadet': 20306, 'suggestion': 10219, 'Hari': 23803, 'patted': 12009, '##ndes': 25091, 'ago': 2403, 'guidelines': 13112, 'Leipzig': 11212, 'exemption': 22346, 'Variations': 26257, 'Too': 6466, '##sle': 27112, 'delta': 20811, 'Lewis': 3726, '75': 3453, 'Such': 5723, 'व': 623, 'comparisons': 21329, 'pulse': 8561, 'placement': 12693, 'Finalist': 24814, 'Van': 3605, 'signaling': 16085, 'frequent': 6539, 'theater': 5184, 'notation': 16049, 'converting': 17821, '##॥': 28539, '##endra': 22283, '##ང': 28589, 'earth': 4033, '1970s': 3095, 'tablets': 20159, 'impose': 19103, 'cliff': 10801, 'Adventure': 10903, 'Fun': 16068, 'good': 1363, 'Prospect': 24667, '##林': 28937, 'Valencia': 13697, '##ricks': 23587, '⋅': 868, 'determine': 4959, '±': 212, 'sinister': 20975, '1806': 12681, 'Streets': 11433, 'Patrol': 13469, 'belts': 20109, 'guitarist': 5506, 'Bernhard': 23627, 'flinch': 26234, 'Passenger': 20252, '##ان': 21273, '##iera': 25579, '##bula': 23601, 'Sky': 5751, 'Bloc': 24675, 'trade': 2597, 'operating': 3389, 'Mafia': 18070, '[unused44]': 44, 'requests': 11458, 'Tom': 2545, 'descendants': 8395, 'Ī': 298, 'Versailles': 19787, '##yote': 21798, 'sq': 4816, 'NSA': 27020, 'catches': 11401, 'Geoff': 15620, 'reel': 24548, 'ộ': 755, 'Ramirez': 25261, 'laboratories': 17296, 'wages': 13588, 'pitching': 15943, '##ᵉ': 28615, 'outlet': 14688, 'governance': 12711, '##roth': 21941, 'kisses': 8514, 'subdivisions': 25238, '##正': 28938, '##ads': 19321, 'Persons': 24113, 'slowed': 9551, 'Selection': 20045, '##̃': 28311, 'possible': 1936, 'Organ': 20383, 'Friends': 7025, '##国': 28897, 'crust': 21508, 'Rajasthan': 17988, 'AK': 25808, 'Jesuits': 22200, 'errors': 11122, 'Oregon': 4660, 'pitchers': 26970, 'ư': 343, 'Chancellor': 8861, '##sse': 11553, '##thi': 14298, 'competes': 14786, 'prospects': 19743, '##listic': 15105, 'Elias': 16325, '1842': 9790, '##ě': 28222, 'MA': 9960, '##hole': 11245, 'hem': 23123, 'Table': 11389, 'translations': 12825, '##ֶ': 28440, '##rte': 22460, 'Derry': 18797, '##hiro': 17427, 'Battery': 11537, 'ρ': 434, 'Reading': 8003, '##青': 28976, 'incorporate': 13639, '##mas': 7941, 'Prince': 2558, 'population': 1416, '##phobic': 22050, 'Richmond': 6110, 'Oceania': 22537, 'Proceedings': 20661, 'heights': 16291, '##wn': 6540, 'Disc': 14856, '正': 1045, 'honor': 3874, 'Make': 7102, 'triangle': 12099, 'calculus': 27323, '##ʷ': 28300, 'Pete': 6377, 'stroking': 15992, 'accession': 19727, 'yoga': 20631, 'crushed': 10613, '##feit': 23221, 'furrowed': 22538, 'blink': 14119, 'crisis': 5532, 'Township': 3671, 'concrete': 5019, 'Orleans': 5705, 'fur': 9015, 'similarly': 9279, 'variables': 10986, 'nuts': 13937, 'Shit': 12216, 'Stones': 15165, 'tuberculosis': 18436, 'Reeves': 19481, '##え': 28789, 'Zeke': 19705, '／': 1101, 'Egyptians': 26145, 'graph': 10873, 'patches': 14879, 'displaying': 15959, 'microphone': 16976, 'Crowley': 22804, 'cap': 6707, 'withdrawn': 9512, '##AL': 12507, 'Marissa': 25367, 'pulp': 20467, '##tide': 23767, 'Compared': 22439, 'anyone': 2256, '##vi': 5086, '##fall': 8877, 'Aye': 16837, 'cognitive': 12176, 'Noble': 13396, '##RC': 10036, 'taped': 21485, 'sad': 6782, 'tow': 18345, 'outlines': 25854, '##hound': 16930, 'aviation': 8747, '♥': 878, 'jungle': 11800, 'Malaya': 21839, 'substance': 9556, 'coloring': 25887, 'joints': 19365, '##tres': 20357, 'Biography': 20599, 'politically': 10966, 'tongue': 3661, '1864': 6113, 'blur': 17283, 'depot': 11475, 'soft': 2991, '##X': 3190, '##ggy': 14720, '##ket': 22523, 'bath': 10919, '##icides': 25606, 'aquarium': 27496, 'promote': 4609, 'factor': 5318, 'trucks': 9677, '##serve': 17886, 'sing': 6928, 'fold': 11203, 'knives': 14726, '##gging': 10932, 'མ': 690, 'loved': 3097, 'Dayton': 15321, 'Colin': 6381, 'threaten': 16757, 'hang': 7311, 'coastal': 5869, 'Suburban': 24909, 'reminiscent': 15341, 'Verdi': 22703, 'Inspired': 23865, 'sexuality': 15771, 'southward': 25256, 'nun': 22108, '152': 15722, 'pan': 13316, 'humans': 3612, 'pink': 5325, '##mond': 10151, 'nasty': 13392, 'Bruins': 19552, '##so': 7301, 'preferences': 20935, '##rton': 11530, 'Fund': 6606, 'Franklin': 5270, '##cial': 12562, 'Commandant': 22291, 'apartment': 3787, 'notes': 3697, 'FF': 26834, 'rolled': 3733, '##ar': 1813, 'ク': 940, 'promoter': 17110, '##ated': 2913, 'Highland': 12103, 'perceived': 8367, '##ʻ': 28301, 'carried': 2446, 'attach': 25337, '##ents': 9857, 'welfare': 9319, 'showcase': 17045, '##ᵏ': 28617, 'wondered': 4205, 'teenager': 10674, 'Buckinghamshire': 23976, 'eggs': 6471, 'modeling': 13117, '##TP': 17433, '##ğ': 28223, '##白': 28951, 'an': 1126, 'anti': 2848, 'Maple': 14621, 'coupling': 22728, 'Moon': 5148, '##lap': 16046, 'resignation': 7809, 'Wigan': 16471, 'coconut': 20331, 'hilly': 27312, 'Cole': 4922, 'Jase': 20160, 'Lucknow': 26480, 'mute': 26782, '117': 12737, 'dreamed': 14728, 'remnant': 22499, '##ope': 15622, 'mentally': 10883, 'fifteenth': 19868, 'Prophet': 19784, 'mac': 23639, 'ῖ': 776, 'nesting': 24056, 'kicked': 5866, '1894': 5901, 'Xiao': 22238, 'satisfactory': 26192, 'exposition': 27634, 'powers': 3758, 'speed': 2420, 'Tavern': 25829, 'Huntington': 17390, 'lyric': 19135, 'Donald': 5554, 'alter': 13000, 'Already': 16599, 'sound': 1839, 'zones': 10490, 'Beyoncé': 24041, 'derived': 4408, 'plunged': 17796, 'fire': 1783, 'spouse': 20846, '##itting': 26927, 'brewery': 17876, 'Residents': 23229, 'See': 3969, 'diagnostic': 20346, '##sors': 25481, 'decisions': 6134, 'organizations': 3722, 'dim': 12563, '##esign': 26643, '##tles': 14629, 'Prime': 3460, 'insults': 27115, '262': 24280, 'loosely': 12158, 'between': 1206, '##awed': 21449, '##posed': 13541, '##sal': 11794, '850': 16577, '##П': 28380, 'ש': 557, '##fire': 7117, 'stellar': 21371, 'intentionally': 16841, 'swear': 8222, 'bend': 12078, 'NRL': 22685, 'の': 915, 'White': 2061, '##ר': 28466, 'banjo': 22250, '##Ј': 28365, 'Rat': 21632, '##dle': 7916, 'Dundee': 14796, 'Panthers': 13598, 'hates': 18457, 'Cohen': 9735, 'Generation': 10617, '夫': 1012, 'dimensions': 10082, 'waived': 17548, 'ᵢ': 720, 'candidacy': 18364, 'Ventura': 23361, 'Cardiff': 9957, 'Chrysler': 18991, 'Worst': 25120, 'Sami': 19741, 'Davy': 25915, 'Fifth': 9638, 'streets': 4324, 'layout': 9726, 'Garden': 5217, 'Task': 11513, 'consent': 9635, 'grounds': 4745, '##ind': 24704, '84': 5731, 'accounted': 15365, 'ą': 281, '##sca': 26996, 'Command': 5059, 'feel': 1631, 'vinyl': 9744, 'secular': 11393, 'defeat': 3326, '##position': 14572, 'illegally': 19241, '950': 22173, '1918': 3428, 'surprisingly': 12283, '##eat': 13448, 'public': 1470, 'Dinner': 20333, 'Nepali': 26246, 'Large': 10236, 'figures': 3736, '##ɕ': 28277, '1813': 12282, 'DC': 5227, 'martial': 8317, 'treaty': 7274, 'reprinted': 15528, 'Ralph': 6197, 'meet': 2283, 'Romano': 24897, '##33': 23493, 'finishes': 12531, 'apology': 13382, 'Certificate': 14972, 'Airport': 3369, 'NGO': 23170, '##ᵣ': 28623, '##quiries': 24929, 'Writers': 10269, 'bind': 15600, 'high': 1344, 'lending': 21363, 'dictated': 26754, '¢': 201, 'Yong': 23816, 'Reports': 16098, 'chained': 25953, 'freak': 14406, 'civil': 2987, 'harness': 20211, 'Cast': 21452, '₤': 835, 'pulling': 4239, 'synonym': 10646, 'Isabel': 11726, 'frames': 11382, 'buys': 27302, '##Х': 28386, '[PAD]': 0, 'forcing': 6524, 'Cultural': 6651, '1901': 5064, '213': 21640, 'campaigned': 17200, 'Maia': 26685, 'monk': 12112, 'Towers': 17879, 'license': 5941, 'sliding': 7989, 'audiences': 9569, '##吉': 28893, 'Toni': 17752, 'unnatural': 25126, '##̯': 28313, 'Constable': 16113, '##hire': 15189, 'Mel': 11637, '##ম': 28558, '##う': 28788, '##yo': 7490, 'ы': 502, '##ire': 5817, 'Stick': 24953, 'Smiling': 25332, '##ario': 20438, '##lows': 26044, '##nberg': 8904, 'Pine': 11465, 'installing': 27432, '##pont': 27006, 'Augsburg': 27398, 'stop': 1831, 'urban': 3953, 'loan': 4891, '219': 22588, 'ceded': 21698, 'torment': 25944, '##vik': 13160, 'seating': 11051, 'commentaries': 26094, 'bleak': 26481, '##چ': 28502, 'Federal': 3467, 'darker': 9934, 'nails': 10821, '$': 109, 'Emil': 17304, '##chet': 17374, '##》': 28781, 'paternal': 16063, 'oversees': 25312, '##hips': 12526, 'blurted': 20291, 'implicated': 22512, 'Creation': 19470, 'extracted': 16939, 'Blackpool': 18664, 'Baron': 5483, '##nett': 16302, 'tenant': 19197, 'vowel': 13283, 'Patty': 20033, 'routes': 5441, 'Maddox': 25328, '##quel': 15966, 'swallowed': 6843, '##fic': 21361, '##ष': 28528, 'Cinderella': 24139, 'doses': 24429, 'visit': 3143, 'scores': 7432, 'cut': 2195, 'Jacques': 6909, '##す': 28798, '##am': 2312, 'earned': 2829, 'Carlo': 9503, '##ometric': 23930, 'Hobart': 14496, 'Raja': 10291, 'Burgundy': 24524, 'electronics': 11216, '252': 25479, 'St': 1457, 'caressed': 23744, 'Reggie': 19343, '##dian': 10359, '##ibrating': 27885, '##rafford': 26664, '##elly': 23083, 'Self': 9434, 'Could': 7426, 'Clube': 28070, 'bared': 26612, 'phone': 2179, '##ˢ': 28308, 'squadron': 5780, 'intercourse': 26864, 'frozen': 7958, '##gia': 9037, '##opped': 23807, 'relief': 3893, '##nia': 5813, 'quarry': 16929, 'Hertfordshire': 20455, 'charts': 5896, 'Financial': 7748, 'auction': 11046, 'Community': 3704, 'distortion': 25856, 'Road': 1914, 'Saturday': 4306, '##pelling': 24542, 'Glacier': 13972, 'arrangement': 6204, 'Friday': 5286, '650': 14166, 'Powell': 8635, 'Pirates': 11286, 'unlike': 6199, 'Nor': 16162, 'stays': 12543, 'Dublin': 5062, 'y': 194, 'already': 1640, 'Brock': 14389, 'attic': 19554, 'sparks': 20304, '##aked': 21709, '##nt': 2227, 'equality': 11986, 'CE': 9855, '##grounds': 26171, 'ك': 587, 'stretches': 14664, 'causes': 4680, 'thanked': 16490, '##rene': 16717, 'perched': 19104, '##rdy': 21366, 'Serena': 15138, '2015': 1410, 'Hotel': 4556, 'deadly': 10310, '##esh': 10654, '##lio': 9436, '##nding': 17038, 'contexts': 20011, 'beauty': 5295, '##ión': 11376, 'doing': 1833, 'Toy': 22416, 'Those': 4435, 'qualifier': 21624, '##gating': 18401, '##non': 9158, 'Una': 24258, '##illiers': 27566, 'wine': 4077, 'Tank': 12466, 'upcoming': 8851, 'Dual': 27791, '##yuan': 19835, 'Gage': 9941, '##cid': 16388, 'shops': 7116, 'ARIA': 21356, 'unfortunate': 16702, '##45': 21336, 'preservation': 10149, '##日': 28926, 'interrogation': 18864, 'infants': 20186, '##side': 5570, 'Becker': 16139, 'NH': 20576, 'Provincial': 9087, 'node': 14372, 'processor': 14538, '##lected': 19037, 'barren': 25065, 'fauna': 18335, 'ounce': 21533, 'cause': 2612, 'progress': 5070, '##cin': 16430, '##cend': 25981, 'Hindus': 19660, '##actions': 22946, 'comparable': 12763, 'panels': 9160, 'execute': 16621, '##ols': 23681, 'hiatus': 14938, '15': 1405, 'Sporting': 13365, '##よ': 28818, '##rges': 24173, '##rrell': 11862, 'neighbouring': 9586, '##tes': 3052, 'Novak': 22788, 'Hearing': 22179, '##nen': 9573, '[unused50]': 50, 'coupled': 11646, '##cherous': 26330, 'BWV': 26735, '##pura': 24790, 'fancy': 13305, '##stal': 19760, 'goodbye': 12903, 'ω': 442, 'amused': 12003, 'thirds': 12704, 'lesbian': 15026, 'partnership': 5210, 'railways': 12771, 'alcoholic': 16149, '##lten': 26929, '10': 1275, 'centuries': 3944, 'か': 898, 'SS': 6663, 'latest': 6270, 'impressive': 7757, 'accuracy': 10893, 'Siemens': 24824, 'Jules': 11011, 'calming': 27047, 'Conservative': 5739, 'encouraged': 6182, 'turnover': 23804, '##nio': 22772, 'seeded': 14937, 'project': 1933, 'chapter': 6073, '1879': 6917, '##WC': 16697, 'hushed': 27253, 'Las': 5976, 'Troy': 9454, 'Gold': 3487, 'ի': 517, 'Lopez': 13253, 'Broadcasting': 7186, '##د': 18191, 'Dickens': 21677, '##wing': 7635, 'Pool': 13384, '##rga': 18971, 'deciding': 11354, '##right': 12601, 'journalism': 10210, '##sett': 26448, 'unpleasant': 17178, 'cement': 12527, 'Machine': 7792, 'confirming': 21295, 'Tbilisi': 24875, 'Subcommittee': 23717, 'recalled': 6901, 'vectors': 21118, '##VP': 22819, 'village': 1491, 'conjecture': 26031, 'Speaker': 9911, 'fourteenth': 20872, 'Maccabi': 27016, 'winked': 14770, 'gathered': 5260, 'potent': 18106, 'news': 2371, 'Air': 1806, 'Braun': 24317, 'Dry': 18112, 'power': 1540, '##口': 28890, '##keeping': 14692, 'humorous': 15705, 't': 189, 'acknowledging': 25568, 'Clark': 4425, 'employee': 7775, 'drifting': 16708, 'Dollar': 21530, 'euros': 25921, 'Bernardo': 23333, 'recounts': 26214, 'Geological': 14802, 'cardiac': 17688, 'attained': 12961, 'butter': 13742, 'instincts': 17477, 'informally': 25355, '##|': 28154, '2011': 1349, '##ley': 1926, 'codes': 9812, 'Cornwall': 10248, '##mian': 19111, 'patient': 5351, 'recording': 2730, 'ப': 673, 'beetle': 7924, 'radical': 8276, '##burst': 22224, 'Christy': 23788, 'demands': 7252, 'kilograms': 20471, 'Dove': 20169, 'eastern': 2638, 'ָ': 532, '##qualified': 25005, 'chorus': 8220, 'Giovanni': 8789, 'decides': 6771, '##sion': 8427, 'Matrix': 25178, '##ḥ': 28630, 'reconstruction': 10442, 'Kellan': 21445, 'Physicians': 26326, 'Marguerite': 16197, 'Celeste': 24966, '##len': 7836, 'Stacey': 21807, 'Arizona': 4565, 'Murdoch': 21736, 'Warsaw': 7760, 'Additionally': 5533, '##kis': 15860, '##odus': 25405, 'Havilland': 26952, 'presumed': 15504, '261': 27480, 'stares': 14614, 'Shay': 20847, 'pole': 7712, '##Ž': 28260, 'Beckett': 22562, 'churches': 5189, '1793': 12536, 'Cameroon': 14292, 'Take': 5055, 'sway': 21931, 'document': 5830, 'alloy': 20107, '##pe': 3186, '##41': 25892, 'flipped': 9082, 'rich': 3987, '##ble': 2165, 'Cross': 3156, '[unused38]': 38, 'Dominic': 11288, 'myth': 12849, 'Her': 1430, 'Berg': 16218, '##60': 16480, 'enzymes': 17664, '310': 18333, 'crow': 25586, '##ailing': 26753, 'Fiction': 9713, '802': 26758, 'Entertainment': 4549, 'Project': 4042, 'camouflage': 25752, 'Lafayette': 15335, 'grey': 5583, 'stairwell': 24668, 'modern': 2030, 'Des': 14177, 'Heath': 10640, 'arrives': 8121, 'Nero': 21722, 'USD': 14180, '白': 1058, '##loss': 20831, 'Chronicle': 11047, 'Oro': 25084, '##tch': 6943, 'arrested': 3950, 'Electronic': 10952, 'capturing': 12203, 'إ': 563, '##grave': 11886, '##arra': 25203, 'idiot': 10696, 'turf': 19681, 'Currie': 22642, 'fastened': 27052, '##pressive': 16568, '■': 871, 'Johnson': 2921, 'Buck': 11505, 'self': 2191, 'Switzerland': 4507, '##int': 10879, 'ball': 3240, '##lles': 12132, 'Month': 17545, 'cues': 26602, 'migrated': 13793, 'belongs': 7017, 'ᵤ': 722, 'extend': 7532, '##cliff': 25927, 'Does': 7187, 'participates': 18557, 'Fitzroy': 27477, '##chair': 22908, 'Andreas': 12651, 'quarters': 7541, '##lian': 15647, 'Thin': 27626, 'BA': 12465, 'Lok': 14444, '##leg': 27412, '##cé': 27891, 'Pedro': 7233, 'wanted': 1458, 'chaos': 10676, '##ato': 10024, 'Thunder': 10798, 'submarines': 13191, 'CB': 18893, 'conclude': 17581, '##cademies': 23151, 'Best': 1798, '##ế': 28647, 'waiting': 2613, 'Them': 23420, 'Richards': 9450, 'Padres': 24483, '275': 18783, 'lawsuits': 23005, '04': 5129, '##ination': 9400, 'couldn': 1577, 'surveying': 23621, 'eternity': 15424, 'rights': 2266, '##70': 20829, 'licensing': 15469, 'Cale': 24404, '74': 5692, '##sul': 24661, 'Fantasy': 10037, '##ase': 6530, 'Finch': 19143, 'Palma': 27442, '##bing': 6791, 'consist': 8296, 'Atlantis': 17793, 'included': 1529, 'Literary': 11136, 'skirts': 20103, '##end': 6696, 'weekdays': 22701, 'Wren': 19088, 'Japanese': 1983, 'spinal': 19245, 'ₑ': 825, 'rail': 4356, 'eh': 19563, '##unk': 12660, '##vin': 6871, 'breaking': 4440, 'Sundays': 15492, 'on': 1113, 'Theory': 9560, 'hooked': 14111, 'merger': 7256, '##Š': 28246, 'Evangelical': 14716, 'SBS': 23798, 'ruin': 10677, 'Syndicate': 25139, '##Κ': 28323, 'Roger': 4271, '##ura': 4084, '##ree': 8871, 'tasted': 12876, 'employing': 16846, '##eting': 21299, 'Ewing': 26987, 'Brand': 12381, 'Advisory': 9433, '##ary': 3113, 'Routledge': 23331, 'seek': 5622, '##ste': 13894, 'ₖ': 829, 'Town': 2779, 'custom': 8156, 'employers': 13673, 'cease': 14092, 'Sullivan': 7124, 'Barney': 16213, 'Grady': 20747, 'notch': 23555, 'comedies': 25795, 'Puerto': 5304, 'approaches': 8015, 'Boca': 26178, 'friendly': 4931, 'son': 1488, '₊': 821, '##ni': 2605, 'Joe': 2658, 'hearing': 4510, '##ture': 5332, '##fully': 5834, '##ivity': 6366, '##aria': 11315, 'In': 1130, 'clients': 7550, '##glia': 22812, 'suffer': 8813, 'Kiel': 23144, 'place': 1282, 'graphical': 23885, 'Outstanding': 7196, 'ben': 26181, 'testing': 5193, 'Chapter': 2943, 'Linden': 26268, 'straightforward': 21546, '##aley': 25910, 'un': 8362, 'successes': 14792, 'nucleus': 14297, '##rying': 18224, 'Mann': 10852, 'Kumar': 9392, 'savings': 14095, '##NG': 11780, 'Earlier': 15993, 'Ville': 26119, 'incorrect': 18238, 'hi': 20844, 'mixed': 3216, 'fascinated': 17136, 'soaked': 13495, 'McDonald': 9092, '##Ż': 28258, '28': 1743, '##a': 1161, '##rter': 27618, 'About': 3517, 'CBS': 5957, 'к': 485, 'honestly': 12051, '##è': 27113, 'reinforcements': 15132, 'Italians': 17867, 'th': 24438, '##ground': 10328, 'conjunction': 9342, 'adaptation': 6350, '##mons': 17199, 'disposed': 24303, 'baptized': 22162, 'decades': 4397, '##urger': 23872, 'Credits': 25244, 'Huang': 16831, '##フ': 28853, 'formations': 14075, 'carpet': 10797, '##ue': 4175, 'deity': 13924, 'providing': 3558, 'Dare': 22471, 'safely': 9510, '##iter': 19385, 'Czechoslovak': 23409, 'commenced': 8042, 'worker': 7589, 'expired': 14224, 'dug': 8423, 'sedan': 19170, '##lub': 21794, 'Turks': 13126, 'soothing': 18059, 'feat': 8809, 'disabilities': 16292, 'Diet': 22327, '##È': 28186, 'Chargers': 21309, 'IATA': 9595, 'armour': 14583, 'Jr': 3108, '##RD': 23354, 'receptions': 17753, 'Evidence': 16573, 'fair': 4652, 'linguist': 26914, 'kg': 4023, 'fin': 15301, 'Masovian': 26506, 'unconstitutional': 22468, 'verse': 8062, 'mechanics': 11556, 'Alvin': 18577, 'decommissioned': 15440, 'Howe': 13724, 'CDs': 16881, 'Ocean': 4879, 'displays': 8609, 'Artistic': 19503, 'PD': 27802, 'Law': 2601, 'demon': 5725, 'strategic': 7061, 'damn': 4477, 'Das': 10730, 'billed': 15954, '1875': 6932, 'Keyboards': 23446, 'Cheshire': 14242, 'Sarajevo': 19788, '##found': 27794, '##nja': 19926, 'Ramón': 23775, '##nai': 26727, 'bows': 24179, '義': 1067, 'Chance': 12423, 'hired': 4327, 'Dynamo': 19725, 'missed': 4007, '##dog': 14082, '##mous': 15852, '##rocodile': 24198, 'Venture': 25986, 'Springs': 6895, 'Darling': 12777, '69': 5691, '##kan': 8752, 'fills': 18878, 'arrange': 14211, 'slain': 21866, 'allocated': 11117, 'publish': 10086, 'Parisian': 27436, '##cker': 8638, '1715': 25127, 'Continental': 9211, 'plucked': 23036, 'minute': 2517, '##tive': 3946, 'witch': 8288, '##SO': 23161, 'naturalist': 23439, 'transports': 21951, '##aya': 12057, '্': 669, '##yre': 10930, 'Sammy': 15064, 'parlor': 21799, 'Soo': 27972, 'Dragons': 12230, '##gnolia': 27795, '[unused61]': 61, '##rians': 19896, 'spices': 25133, 'Coal': 14250, 'ushered': 26751, 'York': 1365, 'ு': 681, 'hurt': 2644, 'wise': 10228, 'daddy': 21993, '##ulton': 22465, '##PO': 23329, '##fying': 16877, 'interested': 3888, 'disciplines': 13132, 'Tennessee': 4513, 'formats': 11789, '##ミ': 28857, 'Congo': 8695, 'Rene': 26978, 'muttered': 5577, 'Griffith': 14672, 'Anglican': 9137, '##bred': 26774, 'film': 1273, 'obtain': 6268, '##gu': 13830, 'Sit': 20985, 'climb': 6767, '62': 5073, '##NP': 14576, 'Browning': 21197, '##OL': 13901, 'м': 487, 'Coleman': 11630, 'stern': 12172, 'secretary': 4848, 'slightly': 2776, 'Flora': 15527, '##usive': 17849, 'mapped': 20305, 'rumored': 25472, '##reer': 27867, '##imes': 15370, 'stakes': 17930, '##ow': 4064, '##reath': 18709, '##hana': 17013, 'Dogs': 16406, '##firmed': 22750, 'committing': 18147, '##CU': 23520, '##otic': 14426, 'Bye': 17774, 'flooding': 9420, 'websites': 12045, 'Potter': 11434, '##ods': 16476, '##úl': 26994, '[unused40]': 40, 'lick': 19676, '##pation': 22578, 'aware': 4484, 'Lithuanian': 10190, 'tallest': 14369, 'weighing': 16584, 'viruses': 20942, 'faculties': 22094, 'Hawke': 28064, '1833': 11004, '##þ': 28210, 'opener': 17622, 'sacrifice': 9050, 'graffiti': 23472, 'Crane': 15972, 'demonstration': 11104, 'implying': 22203, '##dation': 13759, 'majority': 2656, 'examinations': 17865, 'lacrosse': 21135, 'fun': 4106, 'Course': 10176, 'Lions': 7862, '##type': 15177, 'Hulk': 19408, 'ministers': 9813, '愛': 1028, 'donation': 14324, '##Ps': 17598, 'kilometres': 2850, 'Lima': 13503, 'sourced': 26442, 'laboratory': 8087, '##riot': 23326, 'Goethe': 25845, 'Vegas': 6554, 'political': 1741, '##ailed': 17239, 'Hai': 18745, 'inter': 9455, '##rville': 19745, 'efficiency': 8096, 'ŭ': 329, 'primitive': 12130, '##ლ': 28604, '2017': 1504, 'rescue': 5431, 'locomotives': 7499, 'investors': 9660, 'Macau': 17982, 'ruler': 7778, 'sessions': 6887, 'Malcolm': 8491, '##yam': 17485, '##les': 2897, 'Azerbaijan': 7955, 'Platinum': 16629, 'Moscow': 4116, '238': 24370, '##hal': 7654, 'influences': 7751, 'laugh': 4046, 'Kylie': 8647, '##ী': 28568, 'boring': 12533, 'regulate': 16146, 'Alberto': 12101, 'monstrous': 27000, '##nn': 9238, 'Pulling': 22706, '##uted': 18527, 'sister': 2104, 'outright': 14484, 'endure': 19646, 'patiently': 21067, '##chu': 17143, 'Libby': 21337, '##õ': 28207, 'agent': 3677, '1847': 8841, 'Laurie': 17470, 'rumours': 23620, '##teau': 17871, 'emphasizing': 25841, 'retire': 11067, 'models': 3584, 'Forward': 15322, 'favored': 12578, 'kernel': 18670, 'Death': 4735, 'correlation': 18741, 'community': 1661, '##ums': 17167, 'Adobe': 25327, 'Lenin': 18804, 'MD': 9292, 'Nottingham': 11330, 'Denise': 16160, '##RB': 22672, '⇒': 848, '##σ': 28354, 'other': 1168, 'unpredictable': 24213, 'takeover': 17748, '##inted': 18862, 'IEEE': 16206, '##voc': 24553, 'Jack': 2132, 'Maris': 27859, '217': 22196, 'equivalent': 4976, 'Wade': 11052, 'Feb': 13650, 'Spectrum': 22046, '##ša': 23834, 'overheard': 22696, 'surveyor': 25646, 'treasurer': 17920, 'founding': 4263, '##bon': 8868, 'Latter': 20509, 'intrigued': 21750, '##pit': 18965, '##36': 22997, 'Palestine': 8619, 'Bucharest': 14806, '##having': 22300, 'attempt': 2661, 'game': 1342, 'lenses': 16938, 'liar': 22569, '36': 3164, 'thrust': 7113, '231': 22154, 'Thessaloniki': 25878, 'Twin': 12213, 'Leaving': 17003, '##fender': 27896, 'plateau': 14404, '1930s': 4970, '##rban': 23092, 'Ballad': 27309, 'tool': 6806, '##gal': 6997, 'student': 2377, 'solid': 4600, '1900s': 17446, 'Trenton': 18338, 'fade': 15854, '##qui': 18276, '##oney': 18066, 'Representatives': 5423, '##istice': 20788, '##ticus': 23312, 'Orders': 23958, 'DSO': 25577, 'Assessment': 19721, '##pox': 26466, 'experts': 8724, '##hibit': 23034, 'Secrets': 19958, '##mis': 15394, 'patriotic': 22435, 'assassin': 15467, '##ク': 28833, 'affects': 13974, 'duty': 4019, 'Last': 4254, 'missionaries': 12799, 'Bulldogs': 16051, '##ège': 26650, 'ng': 21174, 'lure': 19615, 'spirit': 4840, 'careers': 11589, 'collecting': 9370, 'Di': 12120, '##sting': 19584, '[unused48]': 48, 'canals': 20094, '##chal': 17436, 'mole': 26365, 'Rossi': 20154, '##jit': 23324, '##ndi': 12090, 'collapsing': 26092, 'id': 25021, 'Basic': 11568, '##rug': 27744, 'י': 544, 'Towns': 24503, 'Sure': 6542, '##vent': 14850, '##izations': 20412, 'raise': 4693, 'chosen': 3468, 'my': 1139, '##ر': 19775, 'Julian': 5916, 'montane': 24831, 'Imagine': 22449, 'doesn': 2144, 'finger': 3602, 'Legend': 9687, '##vsky': 13510, '##viation': 27444, 'avoided': 9226, 'goin': 23831, 'II': 1563, 'generators': 18572, 'Billie': 19623, '[unused92]': 92, '##tler': 17966, 'crack': 8672, 'trombone': 16537, 'Petra': 23424, 'naturally': 8534, 'blaze': 26124, 'counted': 8566, 'door': 1442, 'Reservation': 21542, 'Osborne': 17802, '##pine': 18351, '##iver': 18053, 'ロ': 972, 'ɑ': 354, 'populace': 25087, 'Mixed': 13362, '##ION': 24805, 'outbreak': 8010, 'fury': 10842, '##ned': 3540, 'owns': 8300, 'concurrently': 18061, 'benefited': 21495, '1753': 26659, 'Dewey': 22213, 'Over': 3278, '##ML': 19332, 'rally': 11158, 'Fighters': 23928, '##ulter': 27367, '##ٹ': 28500, '##tine': 12569, '##MCA': 25321, '##iro': 9992, 'improvement': 8331, 'mine': 2317, 'Lansing': 24725, 'yelling': 13732, 'Rose': 3831, 'Dale': 8238, 'intervals': 14662, '##erjee': 21186, 'co': 1884, 'advance': 4657, '##hazar': 24286, 'hide': 4750, 'maple': 24328, 'year': 1214, 'alone': 2041, 'restricted': 7458, 'pinched': 20078, 'onwards': 9746, 'client': 7230, 'mysterious': 8198, 'passionate': 14472, 'readily': 12337, 'champagne': 17673, 'deficiency': 21344, 'Halifax': 10355, '133': 15118, 'heats': 21247, 'know': 1221, 'scarf': 21413, 'steam': 5543, 'Glover': 21895, 'FIA': 22103, '##zaki': 21150, 'twelve': 4030, 'Nichols': 16661, 'drive': 2797, 'Cicero': 26070, 'ó': 265, '##itated': 13512, 'licking': 20238, '##sect': 26338, '[unused96]': 96, '##高': 28979, 'welcomed': 10977, 'McGee': 24539, '##boro': 10090, 'RNA': 13254, '##ş': 18272, 'birds': 4939, 'bestowed': 18668, 'Your': 2353, 'May': 1318, '1927': 3951, 'remix': 9879, '##MD': 18219, 'Anatomy': 26512, 'lawyer': 4545, 'Colours': 23189, 'crooked': 19785, 'Ш': 471, 'Centers': 22347, '##runched': 26640, 'Théâtre': 18519, '245': 23067, 'Things': 7149, 'culminating': 18174, 'compares': 26153, 'trajectory': 25882, 'Donovan': 12930, '##yed': 23080, '##ler': 2879, 'firstly': 22240, 'productions': 7481, 'Ram': 11447, 'Violence': 19834, 'mistaken': 14184, 'induce': 21497, 'therefore': 3335, 'pawn': 23903, 'Sara': 6936, '##win': 7445, 'doorway': 6535, '##orm': 24211, 'Coaches': 22322, 'smiled': 2387, 'north': 1564, 'Smithsonian': 16637, '##iper': 26734, 'Winston': 9982, 'ancestors': 11005, 'pet': 11109, 'personnel': 4675, 'current': 1954, 'sin': 11850, 'aching': 15790, 'instinct': 14683, '##ida': 6859, 'results': 2686, 'Holmes': 8775, 'drawer': 13560, 'Edison': 18221, 'weaken': 25772, 'capture': 4821, 'Half': 8636, 'heal': 11544, 'sectors': 11346, 'Defence': 6231, 'Globe': 10421, '##ར': 28594, '##dha': 14016, '##rites': 23202, '##U': 2591, '##hong': 15564, 'gram': 25968, '##erative': 21126, 'Edwin': 9854, 'Because': 2279, 'nave': 13521, 'beverages': 25872, 'developers': 10300, 'dissolution': 13679, 'nominally': 27937, 'temperature': 4143, 'provisions': 8939, '##ht': 17439, 'Myrtle': 27557, 'supper': 20644, 'curls': 15222, 'Radcliffe': 25130, '##smic': 25709, 'accessories': 18658, 'circulated': 18921, 'computer': 2775, '##hesion': 23746, '##haven': 12842, '⁸': 806, 'overtime': 13357, 'Ba': 18757, 'conform': 26736, 'ladder': 11413, 'tightening': 20896, 'Beat': 11938, '##asing': 17764, 'density': 3476, 'fort': 6503, 'knots': 9399, 'Pierce': 9636, 'bombers': 12555, 'plagued': 19543, 'hearted': 21898, 'dictator': 26400, 'plc': 23892, '1765': 22799, 'η': 424, 'proceedings': 10830, 'Constituency': 21080, 'Fulham': 23973, 'tourist': 7798, 'view': 2458, 'quality': 3068, 'McDonnell': 25847, 'cadets': 22943, 'semifinals': 11499, '##mony': 27027, 'enhanced': 9927, 'known': 1227, 'Jeremiah': 18789, '##field': 2427, '##hrill': 24657, 'fictitious': 26732, 'ד': 538, 'patents': 15674, 'excitedly': 26988, 'consisting': 4721, '1772': 18716, 'Edge': 10403, 'exposed': 5490, 'dryly': 22874, 'Dortmund': 26770, 'gear': 6990, 'elbows': 14228, '##finger': 22225, '##kura': 24470, 'breakthrough': 15036, 'action': 2168, 'Shia': 22735, 'Gretchen': 23886, '##ḩ': 28632, 'Snyder': 19181, 'flank': 12509, 'Hat': 19454, 'Italy': 2413, 'sustainable': 10940, '##CT': 16647, 'Flame': 20940, '##formatics': 27960, 'Côte': 23385, 'wasted': 15445, 'N': 151, '##enberg': 11588, 'Pet': 25993, '##®': 28167, 'common': 1887, '##fort': 11088, 'Earle': 26773, 'Heaven': 7830, 'Company': 1881, 'houses': 2725, '##off': 5792, '##ghan': 23136, 'appointed': 1923, 'pile': 8501, 'Mind': 8758, 'senators': 21770, 'attire': 22604, 'confinement': 24478, 'philosophers': 20692, 'Browns': 14559, 'anal': 24443, 'gubernatorial': 21488, '##kha': 14457, 'Legends': 15704, 'Admiral': 6114, '##ys': 6834, 'ring': 3170, 'clicked': 14376, 'findings': 9505, 'ֶ': 530, 'tossed': 6953, 'Alonso': 18918, 'din': 28028, 'rhyme': 27063, 'phased': 24590, 'Use': 11696, 'Baby': 6008, 'Mal': 18880, 'lumber': 17306, 'Keith': 6162, 'jurist': 26908, 'excluded': 12728, 'purchase': 4779, 'selfish': 15589, 'bracket': 26083, 'vengeance': 19320, 'explain': 4137, 'ghost': 7483, 'calculated': 10056, '##PS': 10197, 'Writer': 12515, 'bites': 17905, 'monetary': 15997, '##oped': 15680, 'LP': 6400, '##got': 18855, 'writing': 2269, 'Hero': 9390, '##front': 11949, '1903': 5066, 'Erica': 21205, '184': 21421, 'mystery': 8069, 'Corporal': 21221, 'revenues': 13081, '##uintet': 19473, 'commemorated': 20858, '[unused49]': 49, 'bombardment': 17347, 'terminology': 20925, 'worrying': 16569, 'Evans': 5826, 'Typical': 23125, '150': 4214, 'Professional': 6861, '##cat': 12650, 'Settlement': 19097, 'massive': 4672, 'Nan': 20689, '##¥': 28160, '##lining': 13260, 'SH': 17730, '##bre': 9730, '##shot': 21879, '##ferno': 24215, '↔': 846, 'Swami': 22762, '##alet': 26391, '##5': 1571, 'Carlos': 5124, '##uku': 25455, 'variety': 2783, 'banned': 7548, '##yd': 19429, 'Quiet': 20674, 'Nash': 10544, '##il': 2723, 'teammates': 13646, 'Berkshire': 16427, 'arm': 1981, 'progression': 16147, '##lines': 10443, 'tour': 2465, 'Study': 8690, 'Appointed': 23598, '##oam': 23270, 'Pride': 12614, 'RF': 24695, 'PhD': 7735, 'Keeping': 22049, 'accessible': 7385, 'met': 1899, 'surface': 2473, 'Trouble': 17610, 'climbing': 8259, '##hon': 8613, '264': 23852, 'Wildlife': 9749, 'withstand': 21043, '##ebrates': 27713, '##IN': 11607, 'backgrounds': 16497, 'Protestant': 7999, 'violating': 22128, '##lya': 25928, '##leading': 28007, 'Despite': 2711, '##Μ': 28325, '1888': 6079, 'syndicated': 15128, '##ronic': 26003, 'Programming': 21076, 'Ty': 5331, 'Izzy': 17779, 'Gustavo': 27956, 'Prior': 4602, 'typical': 4701, 'foundations': 11217, 'Hartley': 23053, 'Roberto': 10599, 'Sal': 18613, 'κ': 427, '##founded': 20897, 'bacterium': 27136, '##lume': 26241, 'OBE': 16611, 'French': 1497, 'recipients': 18509, '##CI': 19747, '##Հ': 28424, 'advised': 9213, '##ril': 13217, 'Toledo': 13459, 'herb': 22245, 'Wait': 7911, 'Autumn': 13154, 'imposing': 17884, 'Hurricane': 10270, 'contents': 8792, 'Roll': 9916, 'interception': 19231, 'Celtic': 8389, '##sium': 25967, 'transmitted': 12086, 'pamphlet': 22461, 'acres': 3913, '##grading': 20407, 'Lebanese': 12772, 'Permanent': 16363, 'Personnel': 19821, 'mysteries': 24804, 'FX': 27649, 'AFC': 10402, 'stronger': 5992, 'directors': 6435, '##craft': 8444, 'sex': 2673, 'celebrity': 10948, '##RNA': 15654, 'alterations': 18651, 'fountain': 12325, '##urous': 25576, 'Partnership': 17330, 'SMS': 25345, '⁴': 802, 'Marseille': 17851, 'words': 1734, 'batting': 9698, '##gent': 11549, 'slim': 17393, 'awkward': 9540, 'investor': 16321, '##ssy': 15074, 'Cha': 24705, 'reaction': 3943, 'salute': 22321, 'Brooklyn': 6010, 'humanities': 26419, 'always': 1579, '##asures': 27523, 'race': 1886, 'Rolls': 18856, 'agency': 4792, '##7': 1559, 'skills': 4196, 'places': 2844, '##ling': 1979, 'Flemish': 16276, '##chemist': 27239, 'upgrades': 20889, '##Ж': 28372, 'maintained': 4441, 'spending': 5369, 'Time': 2614, 'IT': 9686, 'missiles': 11149, 'wrong': 2488, 'Thomson': 11141, '##ises': 13733, 'recent': 2793, 'Jung': 13279, 'wrecked': 20580, 'dude': 17869, 'NZ': 23412, 'wealthy': 6822, 'initials': 22563, 'Volunteers': 19340, '##ies': 1905, 'Miles': 7726, '##riars': 27639, '##ona': 7637, 'instructions': 7953, '##holder': 14507, 'Barber': 16785, '##oss': 13159, 'buyer': 20315, '##arily': 18206, '24': 1572, 'bring': 2498, 'revised': 8182, 'gather': 8422, 'filmmaker': 13140, '##iet': 22331, 'wide': 2043, 'credits': 6459, 'Cancer': 11558, 'behave': 18492, 'Hopefully': 23122, 'Priory': 20736, 'Wow': 11750, 'counseling': 22138, 'steering': 10217, '##loc': 27089, '##ief': 19436, 'Rod': 11945, 'introduces': 14681, 'Drummond': 20978, '##ines': 8515, 'redesignated': 16210, 'Title': 11772, 'compatible': 12173, 'Ա': 513, 'treasury': 25919, 'Sino': 21572, 'debut': 1963, 'blazing': 20013, '##lizzard': 24002, 'fiction': 4211, '##wyn': 10349, 'Rebel': 17961, 'Andre': 12971, 'genes': 9077, 'flashlight': 16319, '##arney': 23605, 'blowing': 11704, 'treatise': 20594, 'leagues': 8903, '##igor': 25925, 'Graham': 5159, 'Bottom': 19984, 'scaled': 21297, '##falls': 26907, '[unused23]': 23, '##cycle': 19964, 'implementation': 7249, 'sheet': 6837, 'advocated': 11971, 'climax': 17396, 'approach': 3136, 'Mohan': 20165, 'learn': 3858, 'Marquis': 16318, 'placed': 1973, 'targets': 7539, 'Troop': 18020, '##cola': 19673, '##zas': 23538, '##nes': 3965, 'predatory': 24519, 'Serbian': 5881, 'derives': 12301, '##raz': 15265, 'Magnum': 27385, 'Fellows': 19973, 'former': 1393, 'revolution': 8011, 'horses': 4697, 'literal': 20351, '##district': 26013, 'leaf': 7404, 'Bratislava': 25618, 'Pie': 26424, 'offence': 16273, 'diagonal': 22698, '[unused65]': 65, 'Enemy': 19269, 'Experimental': 17635, 'Norma': 22796, 'Station': 2874, '##ú': 12643, 'halftime': 26077, '2013': 1381, 'Cut': 15411, 'Styles': 27881, '##rani': 23851, 'Hawthorn': 26493, '##rge': 12272, 'Catalan': 14694, 'Recently': 15088, 'participate': 4868, 'France': 1699, 'dental': 15360, 'Conner': 18938, 'kept': 2023, 'ears': 4942, 'Austin': 5202, 'McCarthy': 12780, 'Block': 8093, 'Got': 7348, '##ning': 3381, 'precision': 13218, 'fiscal': 12087, '1917': 3734, 'municipal': 5186, 'Ming': 12590, 'rower': 24773, '##wari': 20441, 'muscles': 6130, '##ert': 7340, 'steals': 16867, 'awhile': 21985, 'Tunisian': 25594, 'annual': 2683, 'Variety': 15526, 'Cricket': 6811, 'Giorgio': 18969, 'windows': 3751, 'channels': 6412, 'expressed': 4448, '##pad': 20425, 'drawers': 25604, '##bal': 7767, 'dolls': 22084, 'Caesar': 11720, 'Gómez': 21550, '##track': 22117, 'hotter': 26105, 'Pole': 13172, 'Ari': 10789, 'affluent': 25539, '##wan': 5491, 'But': 1252, 'airing': 10477, 'translation': 5179, 'Quality': 14801, '##dain': 21314, 'China': 1975, '大': 1009, 'murders': 10574, 'defenses': 14192, 'deposits': 10009, 'nut': 22664, '##cup': 18637, 'overly': 16201, 'showing': 4000, 'Mines': 18946, 'Crete': 21070, '12th': 5247, 'trust': 3496, 'classes': 3553, '##₂': 7929, 'financing': 13080, 'hairs': 14087, 'pertaining': 22383, 'Decision': 27935, '仁': 987, 'pulled': 1865, 'Manuel': 7283, 'rolling': 6362, 'complaints': 11344, 'Forbes': 10754, 'further': 1748, '##tled': 16271, '##gler': 14849, 'nicknamed': 10446, 'Danny': 5595, 'contracts': 8216, 'obsessed': 17597, '##rima': 19123, '##kie': 11334, '##ử': 28665, 'defeats': 14902, '##dock': 16417, 'seldom': 17336, 'paradigm': 26213, '##ⁱ': 28703, 'diplomat': 11608, 'operative': 13035, 'safety': 3429, 'forestry': 21292, '##cing': 4869, 'mumbled': 11599, 'Shannon': 10822, 'trench': 19374, 'piled': 19300, 'Aaron': 6619, 'Sentinel': 18474, '##ined': 9044, 'crimson': 18798, '##nado': 27493, 'deemed': 8012, 'Medina': 17250, 'enjoys': 16615, 'Domesday': 24871, 'rebels': 9283, 'serve': 2867, 'Nam': 19346, 'connections': 6984, 'illustrations': 11880, 'coldly': 28048, 'nobody': 8582, 'preparatory': 20282, 'warm': 3258, 'Ann': 5083, 'comprise': 16722, '##mia': 8191, '##cakes': 23393, '##cursion': 20079, '##spersed': 28107, 'mere': 8574, 'Oaks': 16518, 'Epic': 17375, 'behavior': 4658, 'ever': 1518, 'shelter': 7890, 'washed': 8589, 'acquire': 9703, 'Minor': 8187, 'Sunshine': 13122, '##urus': 14022, '##cca': 19495, '##tains': 22748, 'spring': 3450, 'bowling': 11518, 'suitcase': 17655, 'hitting': 6886, 'ю': 505, 'ed': 5048, 'atmosphere': 6814, 'tucked': 9094, 'fridge': 18243, 'Valuable': 21029, 'happening': 5664, 'niece': 12585, 'dominate': 17207, 'Speaking': 14072, '##utive': 27375, 'aims': 8469, 'ruling': 6550, '##ision': 15575, '##CL': 26351, 'Beautiful': 9896, 'defeating': 5699, 'ḳ': 731, 'archipelago': 21255, 'step': 2585, 'Absolutely': 24107, '₇': 818, '##ko': 2718, 'horror': 5367, 'recovered': 6203, '##KO': 16585, 'violate': 26586, 'Synod': 22013, 'surrounding': 3376, 'saints': 17125, '##bao': 21154, 'mix': 5495, 'Sinclair': 11957, '##hee': 19989, 'national': 1569, 'turbulent': 26510, 'Cage': 15693, 'expose': 16479, 'Heard': 23599, 'opened': 1533, 'householder': 7036, 'watches': 12642, '02': 5507, 'sodium': 15059, 'titled': 3334, 'angels': 13266, 'minds': 10089, '##ored': 13841, 'Anthony': 4140, 'Terra': 19810, 'mind': 1713, '##world': 13070, 'classified': 5667, '##oper': 19807, 'coast': 3153, '##oppy': 27643, 'Associate': 9666, 'Carver': 24714, 'graduates': 11529, '##б': 28393, 'Artists': 8428, 'Ned': 13105, 'Extension': 20838, '##*': 28134, 'warmed': 18694, 'eaten': 8527, '##rem': 16996, 'hovering': 17785, 'ǒ': 346, '##rs': 1733, '##hu': 6583, 'songwriting': 15744, 'traumatic': 23057, 'tears': 3632, '##nat': 24226, '##fters': 26967, 'Between': 3847, 'drawings': 9484, 'residents': 3159, 'Boyer': 26170, 'ı': 301, 'give': 1660, 'transformations': 26139, 'dorsal': 13243, '##14': 17175, 'Terence': 25228, 'Angelica': 23262, 'pm': 9852, 'erect': 15685, 'Otago': 24161, 'tight': 3600, 'pipe': 9415, '171': 19619, 'Wrath': 27561, 'overwhelming': 10827, 'bare': 6038, 'decorated': 7038, 'Jacksonville': 13326, '##scent': 23193, 'ordered': 2802, 'principal': 3981, 'Arabs': 15221, 'reviews': 3761, 'Silesia': 24204, 'awards': 3745, '##kening': 27736, 'sprawled': 23671, '##ذ': 28482, 'promotions': 18949, 'Automobile': 27336, 'softer': 21002, 'Sister': 9536, '##uche': 21758, 'behavioral': 18560, 'premise': 20197, 'learns': 10123, 'alerted': 25368, 'lamp': 11140, '−': 851, 'Tucker': 9594, 'preceded': 11983, 'potato': 17947, 'jumped': 4874, 'recipient': 7668, 'rankings': 13514, 'recommendation': 13710, 'hills': 7000, 'Rogue': 20481, 'centralized': 25864, '##uter': 18614, 'actor': 2811, 'excitement': 8061, 'through': 1194, '##traction': 27539, 'Phelps': 22385, 'marital': 27132, 'definitely': 5397, 'Sessions': 18003, 'Airlines': 8570, 'banished': 24109, 'с': 492, 'Fame': 4710, '##eel': 19032, 'NC': 14056, '##nged': 18288, 'cubic': 12242, '##mated': 22733, 'ventral': 27037, 'swim': 11231, 'fails': 12169, '##graphs': 21217, '##wheel': 26587, 'Op': 9126, '##obe': 21367, 'Convention': 5818, 'Judith': 13131, 'Eileen': 22431, 'lagoon': 25237, 'scene': 2741, '##yi': 10279, 'Cuthbert': 27694, 'coins': 7674, 'machinery': 11360, 'Surface': 22017, 'Index': 10146, 'subjective': 23481, '##[': 28147, 'Gerhard': 23118, 'Silent': 15013, 'appeals': 15996, 'participants': 6635, 'Ole': 19272, 'anchor': 8494, 'adjustment': 23427, 'investments': 12372, 'evening': 3440, 'Animals': 16519, '##ches': 7486, 'financially': 14396, 'es': 13936, 'attorney': 6507, 'Digital': 6082, 'explosion': 7552, '##и': 17424, 'Pieces': 23231, 'preferring': 24075, 'pacing': 17218, 'cars': 3079, 'Walker': 4575, '##opy': 22753, '##pants': 21868, 'came': 1338, 'summit': 7966, 'scarcely': 22464, 'contemplated': 25835, 'dwell': 26812, '##ppan': 28087, 'Certainly': 22288, 'Guest': 12044, 'Sad': 20572, 'amidst': 20746, '165': 14383, 'Danger': 21245, 'l': 181, 'share': 2934, 'believe': 2059, 'Qualification': 26298, 'Ship': 12863, 'checking': 9444, 'wolves': 11260, 'probe': 17357, '570': 28081, '##unity': 22534, 'Archaeological': 17249, 'aluminium': 17058, '##ulous': 14762, '“': 789, 'borne': 16908, 'Urdu': 12655, 'capable': 4451, 'Morocco': 9614, 'stripes': 16158, 'Fry': 20685, 'Massey': 23583, '##sm': 6602, 'Tipperary': 18521, '##VA': 12152, '550': 13592, '##ová': 23234, 'hop': 6974, 'trick': 7959, '##tically': 23817, 'leaves': 2972, 'reservations': 20624, 'oceans': 25909, 'HIV': 9622, '##cards': 18464, '##ared': 13780, '##Г': 28369, 'examine': 11755, '##ִ': 28438, 'coordinating': 27513, 'appearances': 3178, 'Champagne': 25024, 'skate': 25189, '##sso': 20808, 'Alexander': 2792, 'Drive': 6877, 'Ignacio': 25713, 'snaps': 22675, 'exploited': 20903, 'utilize': 17573, '##zz': 16771, '##rland': 20313, 'excessive': 12177, 'hosted': 3567, 'Schumacher': 24656, '##onized': 25331, 'Honda': 12110, 'hilt': 23792, 'Y': 162, 'solved': 13785, 'polished': 13247, '##scope': 15300, '##quer': 19061, '##onia': 11357, '##enne': 26042, 'weeks': 2277, '##ja': 3174, 'virus': 7942, 'Heinrich': 10917, 'mosaic': 22069, 'health': 2332, 'ultra': 18737, 'plants': 3546, '##olia': 26578, 'protector': 23476, '##duced': 20196, '谷': 1071, 'offense': 10027, 'recommendations': 11859, 'Vision': 11724, 'Rusty': 19449, 'տ': 524, 'area': 1298, 'Lamar': 21712, 'Thinking': 16204, 'labelled': 19818, 'Incorporated': 25800, '##rbonne': 26029, 'lane': 7576, 'calmly': 13285, '##州': 28917, 'application': 4048, 'toss': 10234, 'Gates': 12702, 'Abbot': 17659, 'expertise': 11717, 'spine': 8340, 'Trinidad': 11923, 'Ein': 23922, 'Bergman': 27644, 'void': 13340, 'Isles': 15429, 'Gettysburg': 25117, '##ang': 4993, 'marking': 10079, '##roke': 20265, '##uster': 25446, 'Cinematography': 27062, 'surgical': 13467, 'ব': 654, '##una': 9291, 'raging': 21348, 'Constitution': 5317, '272': 27200, '##ا': 28475, 'grows': 7096, 'Shell': 15769, 'broke': 2795, 'Driving': 26010, 'Marcel': 13737, 'otherwise': 4303, 'Schultz': 24867, 'Wolff': 26243, 'SR': 5833, '##NA': 11185, 'candle': 15488, 'fined': 18136, 'gender': 5772, 'Need': 12528, 'inadvertently': 23438, 'braced': 16438, 'Forest': 4089, 'Side': 6383, 'Oz': 16075, '##OW': 17056, '##ド': 28847, '##US': 13329, 'divides': 22646, 'ん': 930, 'studying': 5076, 'designs': 5054, 'incarnation': 17825, '##poli': 23311, '##leo': 26918, 'hell': 2630, 'Temple': 4407, '##Ա': 28423, '##rinkled': 24277, 'girlfriend': 6124, 'Standards': 14365, 'Malay': 12808, 'echoed': 10001, 'customary': 17473, 'aunt': 8524, 'surged': 20420, 'textbooks': 20980, 'Formerly': 18426, 'Think': 9471, '##Pad': 24300, 'Luigi': 15904, 'logging': 17844, 'Kiss': 10976, 'nuclei': 27349, '##yer': 7904, 'flared': 15671, 'indicator': 19738, '##secration': 27607, 'constituency': 5269, '##esta': 16144, '##ttle': 16257, '†': 792, 'beginnings': 19304, '国': 1004, 'Overall': 8007, '##ution': 12964, 'Jenks': 15855, 'Ash': 8603, 'Avenue': 3194, 'Principal': 8013, 'bargain': 19445, 'surfaces': 9902, 'Lance': 11856, '##ain': 8104, 'Heads': 20260, 'slipped': 5002, 'Gil': 13876, '##erick': 19997, '##thing': 25202, 'weekend': 5138, 'offset': 18134, 'Norwich': 12867, 'prisoner': 7396, 'Full': 8896, 'Border': 12331, 'excellence': 14509, 'secure': 5343, 'fleet': 4535, 'Atlético': 18034, 'specified': 9467, 'Solid': 20375, '##bor': 12207, 'ী': 665, '##chin': 12285, 'seem': 3166, 'Walkover': 20204, '##О': 28379, 'boundary': 5904, '*': 115, 'mattress': 14090, '龍': 1087, 'Trophy': 5891, 'plenty': 7722, 'maintaining': 8338, 'fighting': 2935, '##owski': 13379, 'curb': 15786, 'overlooking': 12904, 'hindwings': 17383, 'reply': 7163, '##lement': 20041, 'Comparative': 25741, 'R': 155, '##skin': 22934, 'Eurasian': 26245, 'Spears': 21214, 'Secretariat': 18731, 'nicely': 22857, '##tai': 13564, 'begins': 3471, 'protect': 3244, '##rae': 20439, 'shock': 4900, 'Tong': 19354, '##ora': 6533, 'Rep': 20777, 'Rebels': 26058, 'Arms': 10113, 'reservation': 15702, '##iri': 17262, 'God': 1875, 'tribes': 6872, 'kilometers': 6832, 'residential': 5198, 'deadline': 17638, '##tep': 21747, '67': 5486, 'ž': 339, 'footage': 8145, 'He': 1124, '1814': 10943, 'Grave': 24018, 'З': 455, 'Stella': 12126, 'nodding': 13393, '##lland': 24397, 'Unionist': 24406, '425': 25933, 'Flynn': 13580, 'Gareth': 22100, 'notorious': 14140, 'breed': 9489, 'Warning': 19680, '##tröm': 26305, '##otes': 27468, '223': 22803, 'hormone': 21055, 'uncovered': 15426, 'studio': 2362, '##ע': 28462, '星': 1035, 'quicker': 21104, 'faults': 21688, '##iji': 23784, 'dick': 14458, 'whispers': 11668, '##miring': 27693, 'Still': 4209, 'delays': 15308, 'fixture': 15927, '##Π': 28328, 'Senior': 4308, 'he': 1119, 'goal': 2273, 'distributor': 19371, '##aking': 13024, '##tative': 18216, 'Civil': 3145, 'Beirut': 16136, 'Doherty': 26667, 'Raphael': 13501, '##IL': 17656, 'shoot': 5211, 'bird': 5285, 'स': 626, 'pocket': 4480, '##eep': 17059, '##wise': 15868, 'linked': 5128, 'arms': 1739, 'Alien': 19637, '##rified': 24269, 'acting': 3176, 'comforting': 17526, 'Loves': 25447, 'Salzburg': 19802, '##ma': 1918, '##ahu': 23222, 'Women': 2453, 'coastline': 16783, '##ɔ': 28276, '##GR': 27617, 'enforce': 17542, '625': 25376, 'reviewers': 19475, '##pion': 20585, 'applicant': 27414, 'Sc': 20452, 'Iowa': 5258, '##ntina': 23805, 'newscasts': 27718, 'brought': 1814, 'vols': 24086, 'Verlag': 15226, 'ɲ': 363, '##yah': 18713, '##lius': 14968, '##friend': 23630, '##э': 28415, '##our': 6334, 'consider': 4615, 'activate': 23162, 'assaults': 25720, 'Mountain': 3757, '##P': 2101, 'Users': 24222, 'Southwest': 10859, 'fireplace': 14356, 'massacre': 11584, '##cher': 6072, '##lix': 20711, 'barked': 18849, 'doctrine': 9978, 'remedy': 23615, 'guns': 3832, '##gen': 4915, 'Cass': 17500, 'violent': 5973, '##か': 28791, 'ạ': 738, 'buttons': 11760, 'headlights': 20528, 'repetition': 27753, 'Violin': 19042, '##iner': 16167, 'ध': 614, 'inspector': 17672, 'hostages': 21832, 'virtual': 8496, 'shores': 16084, 'Heroes': 11312, 'PT': 22216, 'accidental': 19839, 'budget': 4788, 'blush': 18407, '##wson': 27294, '##Ι': 28322, 'Beck': 10429, 'burn': 6790, 'bedside': 21685, '##nte': 11656, 'Guo': 26527, '##wned': 22071, '##ception': 19792, 'reggae': 21402, 'repeated': 4892, '##ezer': 23762, 'flux': 24256, '##,': 28136, 'Perkins': 13968, 'Grace': 4378, 'Cure': 27121, 'describe': 5594, 'judicial': 9799, 'oversized': 24223, 'professional': 1848, 'arbitration': 26538, 'wants': 3349, 'die': 2939, 'Carnegie': 11298, '##ttes': 20161, 'cooperative': 14561, 'Fang': 18602, 'successors': 20475, '##anda': 16724, 'stealing': 11569, 'prehistoric': 16969, 'significant': 2418, 'squeezed': 7293, 'cockpit': 14803, 'barriers': 14317, 'OH': 18719, 'bounty': 23558, 'Macdonald': 21274, 'proprietor': 25543, '##bag': 17097, 'Tim': 4446, 'sponsorship': 12387, '##bject': 24380, '##named': 24499, 'directs': 26818, 'thin': 4240, 'tension': 6646, '##侍': 28882, 'tech': 13395, 'hope': 2810, '##ück': 24116, ';': 132, '##lessly': 8709, '##dl': 28054, 'Hale': 13684, 'Laughing': 26556, 'Ľ': 303, 'evaluated': 17428, 'XML': 24868, 'Calendar': 26208, '##iest': 9102, 'Horses': 24989, '##ffe': 15475, 'ज': 610, 'Countries': 19510, '##yn': 5730, 'calendar': 8729, 'Calhoun': 25627, '##icted': 27825, 'Joan': 6914, 'announces': 19028, '##OM': 13041, 'knit': 25865, 'magazine': 2435, 'Ali': 4149, 'humidity': 20641, 'pretend': 9981, 'involves': 6808, 'Joey': 9300, 'Clayton': 11867, 'setting': 3545, '##castle': 26487, 'recruitment': 17964, 'Marketing': 13801, '##mission': 11234, 'shifted': 4707, 'week': 1989, 'listed': 2345, 'lunch': 5953, 'punt': 22498, '##jas': 25983, 'La': 2001, 'Meadow': 24707, 'architect': 4460, 'suit': 4228, 'Cap': 17212, 'Elected': 23540, 'Finally': 4428, '##NU': 21760, 'throwing': 6558, 'creeping': 20949, 'axis': 9840, 'undercover': 20486, '##mizing': 25596, 'Volume': 6849, 'precious': 9692, 'marries': 22029, '##yana': 23732, 'foster': 12100, 'Flute': 25058, 'plausible': 27918, 'rape': 9372, 'sandwich': 14327, '##A': 1592, '##文': 28923, '##cks': 8770, 'Powerplant': 25390, '##ldon': 20822, '##eological': 24135, '##nch': 11273, 'condemned': 10021, 'specialized': 7623, 'Cardinal': 8538, 'bells': 12552, '##É': 28187, 'hardcore': 16883, 'outskirts': 13100, 'Herrera': 26292, '##quid': 24235, '##rois': 26865, '##eptide': 27105, 'Terry': 6050, 'absorbed': 8761, 'at': 1120, 'specializes': 18192, 'Vic': 11600, 'AB': 16151, '1755': 23588, '##ggio': 21541, '##rud': 25980, '##har': 7111, '##û': 28209, 'fly': 4689, 'though': 1463, 'Mo': 12556, 'Continuing': 20699, '##gering': 27910, 'portrayed': 6313, '##tron': 19138, '##powerment': 25603, 'Architect': 20986, 'traded': 6537, '##ding': 3408, '##vila': 23909, '##ms': 4206, '馬': 1085, '##ushing': 17760, 'none': 3839, '##icorn': 23941, 'recognise': 18986, 'copies': 4034, '##bidae': 20761, '@': 137, 'unprecedented': 16789, '##habilitation': 27778, '##lo': 2858, 'Test': 5960, '##oro': 14824, '##hai': 10390, '##uel': 24741, 'cups': 13624, 'Located': 9716, 'desperation': 17398, '##dina': 18140, 'Guinea': 6793, 'postal': 14889, 'Thailand': 5872, 'glaciers': 25625, 'knockout': 13251, 'response': 2593, '1950s': 4057, 'Heights': 9000, 'genetically': 21989, '##oris': 25758, '##lashes': 26056, 'Provost': 27920, 'healthy': 8071, '##rch': 10340, 'Malayalam': 13307, 'Anders': 16357, 'peninsula': 10720, 'urging': 14992, 'Isaac': 7026, 'fool': 8906, '##aceae': 19519, '¡': 200, '##ué': 22476, 'duties': 5078, '##ᵤ': 28624, 'tune': 9253, 'vertical': 7391, 'piston': 18796, '##ght': 10245, 'regeneration': 25517, 'Considering': 23243, 'jailed': 23631, 'bears': 8807, 'commander': 3877, 'Africa': 2201, '600': 4372, 'Calcutta': 13763, 'Low': 8274, 'chanting': 25526, 'bleed': 24752, 'も': 922, 'www': 7001, '##rise': 17789, 'Rage': 21603, 'pursed': 24292, 'apprentice': 17092, '##yrian': 21149, 'Tests': 21189, 'interfere': 15891, 'impress': 19726, 'Auschwitz': 27405, '##ranton': 27601, 'Seasons': 19939, 'Penelope': 21129, '##vern': 24472, 'wish': 3683, 'Hungary': 5169, '##ners': 9268, 'pupil': 11602, 'Alfonso': 13961, '##aga': 15446, 'exceeded': 15582, 'Kappa': 17833, 'Chapel': 7557, '##gonal': 22976, '##uds': 23218, 'eve': 23491, 'settlers': 7056, '##yun': 14935, 'Belt': 15834, 'sunshine': 18080, '##stadt': 21039, 'Micah': 18948, 'general': 1704, '##firmary': 26167, 'airplane': 15478, 'precipitation': 14886, 'called': 1270, 'cutting': 5910, 'Abigail': 17014, 'exempt': 19220, 'triangular': 14894, 'Parts': 16633, '##ee': 3051, 'infant': 11551, 'Tirana': 27759, 'advancing': 11120, 'Π': 407, 'We': 1284, 'March': 1345, 'Formation': 10762, 'fears': 10434, 'Moose': 25183, '##love': 24040, 'dies': 8336, 'reigning': 17942, '##ized': 2200, '1872': 7052, 'Sandra': 13114, 'blind': 7198, '##bir': 18710, 'Cars': 16644, '##smopolitan': 27848, 'stick': 6166, 'eating': 5497, 'smashed': 15231, 'memorable': 14113, 'distraction': 15879, 'Jarvis': 23255, 'Level': 9583, 'km²': 2287, 'chest': 2229, 'Michigan': 3312, 'geometric': 16735, '##sius': 20478, '##olm': 25363, 'Peyton': 19289, 'damaging': 15812, 'MMA': 24062, 'bosses': 27086, '##ₛ': 28728, '##bidden': 26663, 'ʾ': 382, 'Contest': 11038, 'dots': 16672, 'interacting': 24775, '##orio': 20571, '1930': 3630, '##BM': 27616, '##&': 28130, 'exaggerated': 18088, 'hour': 2396, 'detailing': 18954, 'differently': 11677, '##mable': 23019, '##о': 16948, 'RBI': 18058, 'Hon': 10942, 'topic': 8366, 'Okay': 3956, 'Muse': 26221, '##read': 11613, 'host': 2989, 'occurs': 4365, 'prisoners': 5419, 'storylines': 25869, 'therapist': 22573, 'Connecticut': 5432, 'vol': 10857, '##avi': 21704, 'Dancer': 20053, 'Stephenson': 21567, 'NAS': 25165, 'peak': 4709, 'transactions': 14409, 'relatively': 3860, 'averages': 22284, 'soil': 5384, '##As': 23390, '##tment': 22668, 'EU': 7270, 'Lyons': 17728, '##ggles': 28068, '##р': 20442, '##join': 25665, 'ª': 207, 'colonial': 5929, 'steady': 6386, 'confusion': 6406, '##RL': 20550, 'robots': 16013, 'coverage': 5811, 'cargo': 6527, 'Stone': 4118, 'せ': 906, 'flung': 14574, '##lades': 19872, 'substrates': 26794, '##quin': 12934, '##lair': 20293, 'proposition': 21133, 'ल': 622, 'league': 2074, '##ely': 17328, 'Afghanistan': 6469, 'claimed': 2694, 'offices': 4158, 'Mario': 7734, 'fits': 17976, '##sace': 28072, 'Yard': 13177, 'libraries': 9818, 'mimic': 27180, '##Ī': 28228, 'diagnosed': 11534, '##UR': 19556, 'stimulation': 23842, 'investment': 5151, 'Came': 23878, 'cigarettes': 16595, 'demanding': 9504, 'Deal': 15361, 'Conan': 17727, '##villa': 25748, 'Board': 2464, 'sped': 18132, 'Pirate': 24291, 'prairie': 26842, 'reproduction': 16600, 'pouring': 13587, 'maker': 11166, 'Instrumental': 17809, 'wool': 13103, '1790': 13728, '##nard': 20373, 'Unable': 18097, 'deploy': 23660, '94': 5706, '##unch': 14480, '##ED': 10069, 'razor': 20015, 'interview': 3669, '##EG': 17020, 'hectares': 8754, 'Dub': 20691, 'feather': 21013, 'fascination': 21926, 'CS': 24821, '##ot': 3329, 'issued': 3010, '520': 21338, 'Konrad': 25834, 'loses': 12667, 'follow': 2812, '##idge': 15091, 'algae': 20964, 'Wonderful': 20361, 'way': 1236, '##6th': 25104, 'knock': 7466, '##ffing': 17242, 'upgraded': 9554, '##ǔ': 28269, '##ན': 28591, '##Ḥ': 28629, 'flashed': 7980, 'clearing': 8650, 'Empress': 11672, 'war': 1594, '…': 795, 'Founded': 10288, 'Runner': 11204, '##의': 28984, 'ideas': 4133, 'ג': 537, 'Zhou': 15330, 'Personal': 13907, 'Rifles': 19275, 'seas': 17043, '##г': 28395, '##oll': 12666, 'because': 1272, 'Austro': 18128, 'cold': 2504, 'traced': 9286, 'Pakistan': 3658, 'Resort': 15579, 'amalgamated': 22131, 'crab': 24121, 'dialect': 9222, 'absurd': 21321, 'Sidney': 11441, 'occupy': 12774, 'Geography': 20678, 'infections': 16565, 'Nearly': 16992, '530': 26260, '##well': 3192, 'intent': 7676, 'fibre': 26226, 'Numerous': 16663, '##rmal': 25635, 'Lyon': 10067, 'subscribers': 18786, '##eil': 13593, '[unused64]': 64, '##cian': 13017, 'rip': 13579, 'spends': 16994, 'taut': 24609, 'historian': 4864, '##fect': 11916, 'Indies': 9195, 'Soviets': 16359, '##eg': 12606, 'heroes': 10962, '1858': 8109, 'Hearts': 12290, 'Humphrey': 16295, '480': 18478, 'ř': 317, '##card': 10542, 'cautious': 18596, 'Shoes': 27564, 'blackness': 22942, 'evolution': 7243, 'silently': 8490, 'breeds': 17530, 'programme': 4644, 'bronze': 4394, '##rque': 23121, 'lamps': 15248, '##dick': 25699, 'certain': 2218, 'themselves': 2310, '##inger': 7728, '##hasa': 22533, 'Louisville': 11595, 'produce': 3133, 'Assyrian': 21734, 'SM': 19293, 'closes': 15336, 'controls': 7451, 'genera': 11974, 'ि': 629, '##rilla': 18792, '1746': 27594, 'Poker': 25268, 'Frederic': 24476, 'emergence': 15351, '##ứ': 28663, 'nuns': 19394, '##lex': 21729, '〜': 893, 'no': 1185, '##published': 26296, '##obbing': 22967, 'Using': 7993, 'narrowed': 7604, 'Gas': 12384, '##oya': 22044, '##Vs': 27979, 'Ramos': 20508, 'scale': 3418, '##bla': 18075, 'Proto': 22388, 'Phone': 26385, 'Payne': 13802, 'change': 1849, '##‰': 28698, '##uad': 18413, 'blurred': 20611, 'Goes': 15150, 'transporting': 19920, 'demonstrate': 10541, '##sable': 17272, 'punishment': 7703, 'repay': 27842, 'recounted': 25546, 'reluctance': 24072, 'voter': 16977, '##reaves': 24439, 'duet': 13401, 'cries': 13881, '##pot': 11439, 'Education': 2531, 'adopted': 3399, 'torpedoes': 20430, 'Gilbert': 7175, '©': 206, 'debuted': 5362, 'sideways': 13158, 'gold': 2284, 'ת': 558, 'Augusta': 14050, '##mum': 16268, '##zing': 6185, '##42': 23117, 'blended': 22357, 'protecting': 8547, 'Congregation': 17560, '##erland': 23921, '##l': 1233, 'Loki': 27268, '##pathy': 12233, 'nation': 3790, 'crops': 8592, '-': 118, 'stationary': 19255, '##max': 22871, 'uncomfortably': 25103, 'Pearce': 21302, 'Kingston': 9557, 'moderate': 8828, 'economist': 14893, '##tano': 26445, '##tien': 20760, 'Scientist': 22985, '##†': 28694, 'purchasing': 13980, 'becomes': 3316, 'fraternity': 17188, 'ok': 21534, 'deputy': 5874, 'Clint': 17267, 'Instituto': 25218, '##nso': 27035, 'whipping': 27317, 'security': 2699, '##nel': 8967, 'folder': 22073, '##zong': 13485, 'discrimination': 9480, 'slam': 15606, '##nik': 7923, 'slight': 6812, 'guessed': 11474, 'erosion': 15251, 'España': 23453, 'secrets': 8858, 'roared': 14877, 'organizing': 11640, 'love': 1567, 'attacked': 3623, 'outlets': 11994, 'clown': 25778, 'Vivian': 14261, 'Nine': 7357, 'Current': 9493, '##dington': 18169, 'ascent': 19079, '##â': 28198, 'journey': 5012, '##fer': 6732, 'さ': 903, 'shivering': 22397, 'Suit': 27331, 'Worlds': 15746, 'some': 1199, '##L': 2162, 'Mining': 15280, '##gee': 15762, '##FL': 12281, 'initial': 3288, 'Claude': 7695, 'harvest': 15390, '6th': 4584, '##borg': 9402, '##GA': 10583, 'Shreveport': 26565, 'proprietary': 18287, '##aper': 19655, '##mo': 3702, 'Credit': 14032, 'Method': 20569, 'Accounting': 23693, '##オ': 28829, 'Annie': 7765, '##lity': 11796, 'arc': 10591, 'ambulance': 13342, 'Saunders': 16029, 'academic': 3397, '¶': 217, 'solution': 5072, 'Hull': 9632, 'collaborations': 19575, '##rica': 15353, 'opportunity': 3767, 'faster': 4946, 'munitions': 27682, 'dragging': 12482, 'weigh': 18678, 'Joker': 24112, 'benches': 21726, 'lb': 5682, 'remarked': 10694, 'freshman': 12141, '##dge': 8484, 'Eurovision': 12968, 'Tao': 25225, '##ʌ': 28292, '##mulating': 24297, '##hein': 26710, '##bang': 25903, 'Revenue': 16944, '115': 10520, 'delicious': 13108, 'frog': 13670, '##ifice': 26718, '##heat': 25162, 'Tai': 16191, 'Simmons': 14068, 'Golf': 8206, 'guts': 22075, 'exquisite': 22239, 'grants': 9295, '##zzi': 15284, '179': 22166, 'UCLA': 12553, '##ych': 21155, '##51': 24050, 'basketball': 3163, 'legged': 17082, 'smiling': 5278, 'wagon': 10625, '##nea': 25362, '##64': 22433, 'Hills': 5377, 'His': 1230, 'Telecommunications': 23356, 'prevented': 8369, 'evidenced': 23526, '##ardt': 25018, 'Barbie': 25374, 'straightened': 11161, 'Wendy': 13013, 'fuck': 9367, 'rectangular': 10848, 'Transformers': 25267, 'Bryant': 12637, 'encourages': 17233, '##ät': 27888, 'sorted': 21805, 'Marcos': 15541, 'Architectural': 22182, 'equipment': 3204, 'unless': 4895, '##tens': 23826, 'AA': 10419, 'Wu': 8769, 'Emanuel': 23271, '##ought': 26960, '國': 1005, 'Northeastern': 23362, 'therapeutic': 20340, 'programmes': 8473, '##burn': 6715, 'depend': 12864, 'Together': 6333, 'Lanka': 6722, '##wald': 11022, '##9': 1580, 'Associates': 15264, 'undergone': 18369, 'obsolete': 17070, '##enbach': 23091, 'III': 2684, 'LL': 12427, '##lose': 20316, 'weird': 6994, 'stepfather': 24133, 'clung': 15409, '##ceps': 28062, 'Christian': 2131, 'likely': 2620, 'Dallas': 5043, 'Matilda': 19381, 'Hemisphere': 24371, '##working': 23606, 'consciousness': 8418, 'influx': 19540, '##odies': 25258, 'Eight': 8371, 'sacred': 8854, 'quarterfinals': 15388, 'ா': 679, 'profile': 6168, 'Denis': 11068, 'Bey': 24896, '–': 782, 'wolf': 6164, 'ON': 21748, 'Reuben': 18522, '##oto': 12355, '15th': 5617, 'gable': 16254, 'commentators': 18209, '##teacher': 27889, 'refurbished': 20413, 'Triple': 9457, 'Saxon': 9843, 'occupants': 20664, 'directing': 10404, 'teachings': 12815, 'eighteen': 8105, 'abundance': 15569, '##ح': 28480, '##gami': 27997, 'you': 1128, 'Location': 26316, 'menu': 13171, 'Haven': 7755, 'susceptible': 19464, 'filled': 2709, '1800s': 21655, 'furnished': 21904, 'busy': 5116, 'alcohol': 6272, '##ars': 7666, '¥': 203, 'inning': 13320, 'Freeman': 11818, 'Fast': 13227, 'Non': 7922, 'extinction': 16137, 'unite': 20301, '##rance': 10555, '##back': 4197, 'nationwide': 9708, 'Normandy': 13652, 'Poe': 21377, 'off': 1228, 'exactly': 2839, 'Inspector': 9089, 'Olive': 17971, 'flaws': 24132, 'pulses': 27631, '##ṣ': 28638, 'rented': 12765, 'oversight': 20051, 'Johns': 11673, '##rry': 6234, 'swift': 15085, 'schooling': 15113, 'rumble': 24102, 'Route': 3320, 'Patriotic': 27428, 'Good': 2750, 'hours': 2005, 'Others': 8452, 'balancing': 23858, 'plans': 2714, 'railroads': 18558, 'nominee': 10333, 'musician': 4933, 'regimental': 27050, '##mism': 20279, 'Rail': 8654, '##amed': 25282, 'problems': 2645, 'accelerated': 16112, 'membership': 5467, 'Olivier': 15061, 'Walton': 14862, 'coated': 16055, 'lab': 8074, 'unfinished': 16623, 'ě': 292, 'ceased': 6445, 'Cambodian': 27463, 'networks': 6379, 'Until': 5226, 'timeline': 21169, 'Akbar': 23049, '1897': 5678, 'Calling': 22057, 'anonymous': 12631, '##copic': 22258, 'underlying': 10311, 'Airways': 14099, 'stalking': 23281, 'flu': 23896, '##listed': 26511, 'Crazy': 11722, 'donations': 11725, '##aq': 22540, '##mium': 19276, 'lantern': 19663, 'captives': 24428, '##cton': 26176, 'web': 5127, 'sworn': 10849, 'model': 2235, 'Bridges': 17501, '##taker': 20091, 'scholars': 5716, 'dos': 18463, 'FL': 23485, 'mass': 3367, 'lunar': 15383, 'inner': 5047, 'Joint': 7885, 'Gertrude': 20286, '##bt': 21238, '##cket': 21633, 'Lyndon': 25700, 'social': 1934, 'subjected': 13927, 'honoring': 24793, 'hardwood': 27059, '##nife': 23373, 'Indian': 1890, 'Paul': 1795, 'Stations': 24650, 'Donaldson': 25825, '##ę': 28221, '##lle': 4838, 'Dame': 8022, 'January': 1356, 'splash': 24194, '##rrie': 19480, 'garment': 22424, 'challenges': 7806, 'Romeo': 12992, 'Dai': 23084, 'GAA': 22156, 'plantation': 12739, 'barrels': 14619, 'Catholic': 2336, 'Sergeant': 7908, 'drinks': 8898, 'Brain': 15240, 'Weather': 14263, 'Delilah': 25662, '##anza': 18260, '##inae': 18863, 'Strange': 11359, '##EM': 15577, 'Marcus': 6042, 'Bowling': 19356, 'lone': 14936, 'notable': 3385, '##vanna': 19434, 'cheating': 18661, 'anthropology': 20233, 'ʋ': 370, 'frequently': 3933, 'adding': 5321, '##ization': 2734, 'stage': 2016, '##eter': 24951, '##graduate': 26430, '##iot': 26423, '##tium': 19509, 'crest': 13468, '##night': 11683, 'マ': 963, 'Foods': 21015, 'southbound': 23285, '井': 983, 'Specifically': 21325, 'bumper': 26035, 'Hood': 10776, 'mentioning': 20368, 'discount': 23290, 'Abrams': 25718, 'assist': 6043, 'Year': 2381, '##ption': 18225, '##mart': 22736, 'appearing': 5452, 'issue': 2486, 'Greco': 19912, '##lessness': 18984, 'duration': 9355, 'teach': 6215, '450': 10181, 'Super': 3198, '##ゆ': 28817, 'hurry': 10275, 'downfall': 27002, 'locations': 4541, '##aire': 9674, 'cabin': 6493, 'keep': 1712, '##rger': 26206, 'venture': 7006, 'secret': 3318, 'Dover': 14493, 'Arkansas': 6147, 'freaked': 25818, 'antagonist': 19173, 'Portland': 6141, 'redundant': 24520, 'choice': 3026, 'pretty': 2785, 'Jasper': 15805, 'dump': 17549, 'pillars': 15592, 'framework': 8297, 'maid': 13487, '∨': 857, '##ligent': 27518, 'Similarly': 10321, '##ise': 4862, 'Rodríguez': 15006, 'siege': 8098, 'printing': 8455, 'triple': 9225, 'vaguely': 16559, 'down': 1205, 'BBC': 3173, 'fishes': 27031, 'isn': 2762, 'travelled': 7372, 'twins': 10519, '##к': 28399, 'Wouldn': 20487, '##yk': 17252, 'Skinner': 18835, 'Bucks': 22633, '##mi': 3080, '##ual': 4746, 'characteristics': 5924, 'Lea': 12958, 'bounded': 10350, 'face': 1339, '##ô': 28206, 'Lille': 25411, '##em': 5521, 'fortification': 26863, 'pod': 23015, 'priced': 23812, 'gentlemen': 16281, '##locating': 27970, 'involvement': 6083, '₀': 811, 'Carmen': 11481, 'Honey': 12632, 'ゆ': 924, 'nineteen': 14834, 'whereabouts': 20775, 'Labs': 24621, 'happy': 2816, '##roots': 25142, 'string': 5101, 'Nixon': 11302, 'babe': 17943, 'nine': 2551, 'theatre': 4041, 'Census': 4496, 'ས': 693, 'Danube': 17230, 'Maltese': 20093, '##ricted': 20288, 'had': 1125, 'Mirza': 20855, 'villages': 4024, 'Young': 2701, 'tell': 1587, 'finance': 7845, '##ôme': 23059, '##tony': 25843, 'sites': 3911, '##berg': 2953, 'few': 1374, 'Carolina': 2938, '##jong': 25507, 'decent': 11858, 'Asian': 3141, 'buy': 4417, 'eagerly': 19379, '##/': 28139, '##curement': 23505, 'Liberal': 4561, 'score': 2794, 'margin': 7464, 'Jubilee': 14842, 'Internet': 4639, 'comrades': 22506, 'Clancy': 27637, '##believable': 26438, 'ace': 20839, '08': 4775, 'cheeks': 5388, 'wonderful': 7310, 'garments': 24938, 'Legislature': 10461, 'kinetic': 25433, 'having': 1515, 'Audience': 23590, 'charges': 4917, 'Bat': 21928, '##uiz': 20877, 'unmarried': 18927, 'podcast': 19777, 'forming': 5071, 'consistency': 20904, '##rson': 15379, '##charya': 24396, '##dynamic': 24662, 'NRHP': 24894, 'quick': 3613, 'Trek': 12293, 'keeps': 7634, 'tempo': 16655, 'entries': 10813, 'annexation': 21352, 'admire': 21937, 'exhausted': 8984, 'violently': 14835, 'makeshift': 21324, 'eliminated': 5802, '##dre': 11114, 'ducks': 24488, 'sprung': 25242, 'reconstructed': 15755, '##ê': 24559, '##hakti': 27509, 'ি': 664, 'Somebody': 18490, 'partly': 6146, 'Times': 2706, '##CS': 12122, 'Oval': 16103, '##ᶠ': 28627, 'ग': 608, 'consequence': 9547, 'header': 23103, 'tremble': 23148, 'fisheries': 23712, '##diction': 15906, 'Wexford': 25783, 'Chilean': 12208, '¾': 224, '##pina': 27822, 'interval': 14235, 'grimly': 26008, 'Match': 11492, '##hered': 22802, 'invited': 4022, 'losses': 6053, 'noon': 13282, '##mith': 17740, 'Divisions': 21460, 'two': 1160, '##pas': 22939, 'numerous': 2567, 'bass': 2753, 'idle': 24530, '##uters': 27603, 'Thompson': 5271, 'rings': 8374, '##nders': 24373, 'dripped': 25188, '##ו': 28450, 'mutual': 9175, '##lyn': 8068, 'Isn': 12357, 'Toulouse': 18367, '司': 999, 'Message': 24931, 'blogs': 27220, '##fast': 27704, '##ż': 28259, '##run': 10607, 'onstage': 27249, 'Bonnie': 12414, '##dio': 13447, '##or': 1766, '##henian': 27185, 'Quarter': 12664, 'purity': 22183, '##using': 19578, 'add': 5194, '##his': 27516, 'thereafter': 7321, 'Louisa': 16649, 'trait': 20323, 'Coast': 3331, '##dheim': 21934, 'fired': 4294, '##otherapy': 20939, 'sighed': 4756, '##gun': 11652, 'optimistic': 24876, 'escaped': 5742, 'Rogers': 6836, 'hooks': 21717, 'LED': 23112, '##frey': 24740, 'organizer': 22007, 'drone': 22020, 'patrolling': 27883, 'slave': 6748, 'Capt': 15914, '##oz': 17395, 'voted': 4751, 'practical': 6691, 'set': 1383, 'complaint': 12522, 'storey': 12758, '##gau': 20130, 'slit': 19884, 'retreat': 7826, 'examining': 13766, 'dissolve': 24907, 'collaborators': 24146, 'contributed': 4415, '##lli': 6473, 'û': 273, 'velvet': 15438, 'agreed': 2675, 'contributor': 12708, 'creativity': 17980, 'patent': 8581, 'Belgian': 6399, 'ski': 10458, 'Johanna': 24031, 'trading': 6157, 'reference': 3835, 'promise': 4437, 'nineteenth': 9451, '##ées': 21272, 'Ј': 447, '##fires': 20259, 'catalyst': 20546, 'Nuremberg': 21072, 'Raymond': 7139, 'Bass': 7716, '##lons': 22318, 'electors': 23241, 'Score': 18417, '##thermal': 27703, '##xing': 24118, 'DVD': 4173, 'essence': 12661, 'Hence': 13615, 'त': 612, '##ao': 9513, 'sticking': 14103, 'wit': 20787, 'Du': 12786, 'honey': 8531, 'planning': 3693, 'views': 4696, 'damaged': 4938, 'Leeds': 7383, 'Ernie': 15271, '##evich': 21075, 'Ruiz': 21175, '##ま': 28811, 'і': 508, 'visibility': 18319, '##rta': 16242, 'ministry': 8382, 'bag': 3821, 'tag': 9235, '##quential': 21967, 'Chen': 8742, 'novels': 5520, 'Coffee': 16182, 'Parachute': 24082, '##cist': 14015, 'Alzheimer': 24278, 'law': 1644, '##lation': 6840, 'residences': 15417, '##ggs': 15493, 'folded': 6443, 'deities': 19018, '##omorphic': 23174, 'Programme': 11512, '##ग': 28511, 'church': 1749, '##bly': 4999, 'heroin': 22856, '##nne': 10934, 'impacts': 15791, 'Weiss': 19375, 'underwear': 15082, 'Winchester': 13043, 'Verde': 17832, 'ceramics': 21703, 'Producer': 8033, 'polo': 17404, 'reached': 1680, 'Editions': 24634, 'remainder': 6311, 'discomfort': 19614, 'VC': 20559, '##hend': 24788, '##ci': 6617, 'apparatus': 16486, 'Britannia': 27907, 'survive': 5195, 'resembled': 16807, 'automated': 14717, '##EF': 14663, 'physicians': 15230, '##psis': 17990, '##ė': 28220, 'interests': 4740, 'costs': 4692, 'Enlightenment': 25738, 'Ahmad': 10870, 'failing': 7793, '##nji': 21440, '##ய': 28578, 'Swimming': 14899, 'anxious': 11841, '##kawa': 11921, 'Gone': 12289, 'Attack': 13704, '##smatic': 23626, '##tip': 27961, 'bigger': 6706, 'Ducks': 27330, 'flat': 3596, '☉': 875, 'Knights': 8751, 'Rae': 16345, '##ros': 5864, 'Indy': 19881, 'Punjabi': 18787, 'Rams': 15183, 'Send': 25929, '##cratic': 21611, 'Return': 11121, '##ज': 28513, 'to': 1106, 'spill': 16412, 'von': 3262, 'Trial': 12819, 'tonight': 3568, 'objects': 4546, 'Camden': 13613, 'Congressional': 12537, 'detained': 15474, '##bis': 14866, 'exception': 5856, 'Provence': 21818, 'Lines': 12058, 'spectral': 20277, '##MLL': 25210, 'coronation': 20743, '##lov': 14185, 'Larry': 5931, 'Used': 17627, '##lapping': 27301, 'indie': 12665, '##eni': 21462, '##bach': 6396, 'approximately': 2324, 'imitation': 24190, '##Α': 28315, '##duct': 13890, 'description': 6136, 'installed': 4631, 'trivial': 23594, '##க': 28574, '##fted': 20619, 'floor': 1837, 'Plant': 9646, 'bonds': 10150, '##rump': 27321, 'Madonna': 11324, 'probability': 9750, '⟩': 883, 'State': 1426, 'expresses': 18028, 'Churchill': 10834, 'persona': 20122, '##ged': 3660, 'literary': 4618, 'take': 1321, 'Telangana': 26695, '##ক': 28544, 'bats': 13534, 'Clive': 15295, 'Everest': 26885, 'Will': 3100, 'ε': 422, '##স': 28563, 'Gail': 20374, 'propped': 18141, 'Actually': 10188, 'Vinci': 26781, 'Quebec': 5181, 'experiment': 7886, 'delivery': 6779, 'formed': 1824, 'ecology': 19115, 'filmed': 5819, '##lated': 6951, '##stad': 18735, 'motives': 18686, 'conception': 17890, 'Also': 2907, 'samples': 8025, 'totaled': 26451, 'Paterson': 20843, '##gnant': 15454, 'Jews': 4384, 'publishing': 5550, 'Apple': 7302, 'Goddard': 25064, '##hus': 8827, 'enclosed': 10949, 'confession': 15349, 'punished': 14897, 'appointments': 16323, 'granite': 10769, 'fins': 20823, '47': 3862, 'Shri': 15795, 'Agatha': 26854, 'Directory': 26432, 'return': 1862, 'breaks': 7610, '1997': 1816, 'prestige': 19846, '##ntation': 24832, 'Letters': 10557, 'bearing': 7343, 'Guangdong': 23488, '##inia': 25397, 'stepping': 9863, 'dangerous': 4249, '139': 17683, 'Valley': 2634, 'oblique': 23455, 'warships': 18359, 'এ': 639, 'dressed': 4462, 'feeling': 2296, 'translates': 17391, 'Steele': 13083, 'flow': 4235, 'Tabitha': 23856, 'adaptations': 18830, '##16': 16229, 'Roman': 2264, 'fiercely': 17494, '##省': 28953, 'Stay': 9999, 'communications': 6678, 'Electronics': 13983, 'subjects': 5174, 'shirts': 11710, 'Prayer': 16203, '##ressed': 18089, 'concentrations': 14759, '##roft': 27421, '##•': 28696, 'bolt': 11538, 'metabolism': 20443, '##att': 19934, '##nges': 20364, '##भ': 28521, 'Missouri': 4499, 'meets': 5636, 'Evaluation': 27845, 'modeled': 15320, 'stages': 5251, 'brutality': 28024, 'ར': 691, 'become': 1561, 'conservative': 6588, 'sentences': 12043, '##،': 28469, 'آ': 561, 'finds': 4090, '##ordination': 24546, 'jackets': 27310, 'portraying': 18712, 'commemorating': 23079, 'cavalry': 7915, 'Ginger': 20326, 'against': 1222, 'Olson': 23854, '##logy': 6360, 'Webster': 11674, 'lad': 19122, 'groundwater': 27218, 'jumps': 15457, 'Fashion': 13215, '##lev': 23403, 'ǫ': 348, 'manuscripts': 11032, 'abroad': 6629, 'must': 1538, 'pits': 16187, 'produces': 6570, 'Herb': 20780, 'births': 20665, '##crats': 22292, 'Irish': 2600, 'hailed': 17932, 'Marius': 21915, 'Gay': 10906, 'Molecular': 22175, 'adopting': 17827, 'squinted': 18654, 'legal': 2732, 'Ribbon': 21686, '##פ': 28463, 'fence': 8617, 'playwright': 11617, '##polis': 14386, 'seventh': 5001, 'dispute': 7287, 'р': 491, 'drugs': 5557, 'Steven': 6536, 'generic': 13179, 'Property': 13563, '1789': 14145, '##scher': 27826, '##ト': 28846, 'unarmed': 26809, 'binding': 7861, '##ifier': 17792, 'boot': 10909, 'airline': 8694, '##ɑ': 28275, 'Delaware': 8056, '##broken': 20132, '##line': 2568, 'amazed': 16603, 'Slow': 19826, '##iza': 23228, '##rve': 24941, 'inevitable': 14014, 'Protestants': 21516, 'Richter': 21954, 'import': 13757, '##pin': 6709, 'hitter': 20836, 'MiG': 25107, '##ю': 28416, '##tures': 12463, 'Innocent': 21399, '##SU': 17281, 'necklace': 13828, 'Told': 25798, 'messing': 26746, 'ʐ': 372, '##rid': 10132, 'lacking': 11744, 'Winfield': 27895, 'negatively': 21598, '##ache': 12804, 'spawned': 19897, 'Athletics': 8058, '##unting': 14597, 'basement': 8078, 'brigadier': 23965, 'commencement': 26103, 'active': 2327, 'CT': 16899, 'square': 1961, 'Commonwealth': 5044, '##vision': 12959, 'PMID': 21936, 'flying': 3754, 'sperm': 20479, 'Jace': 10216, 'nowadays': 20148, '##same': 24947, 'nm': 19137, 'declare': 14197, '##olic': 14987, '##rogate': 25232, 'commanding': 9463, 'appetite': 21518, 'nephew': 7502, 'Bangalore': 14560, 'cooking': 8739, 'markers': 18004, 'longitudinal': 23191, 'flap': 23841, 'predictable': 24017, 'submit': 12295, 'SPD': 26765, 'control': 1654, 'Former': 6963, '##ful': 2365, 'gets': 3370, 'singing': 4241, 'Bit': 27400, 'observers': 15793, 'Edition': 7075, 'scan': 14884, 'turbines': 18979, '##mize': 19092, 'ambition': 19034, '∂': 849, 'Korea': 3577, 'sponsored': 5988, 'Honours': 14670, '##gnition': 25763, 'Naples': 10431, 'pastoral': 16905, 'stung': 21777, 'printed': 5757, 'থ': 649, 'Scarborough': 20102, 'letting': 5074, 'Para': 23994, 'Subway': 21925, '[unused72]': 72, 'ne': 24928, 'oxygen': 7621, '##eu': 14272, 'Laboratories': 23874, 'comb': 27481, 'loss': 2445, 'Right': 4114, '##rar': 22190, '##biotic': 22400, 'not': 1136, '280': 13760, '##rsey': 19930, 'Cemetery': 5501, 'ᵈ': 711, 'administrative': 3207, 'legend': 7051, 'silk': 8159, '##ester': 12831, 'ὶ': 773, 'Nursing': 15192, 'cliffs': 16043, 'elastic': 25460, '##abby': 27403, 'spots': 7152, 'soluble': 28043, 'cone': 15775, 'schemes': 12006, 'GA': 20173, 'bred': 14698, 'incorporation': 19542, 'alien': 8143, 'Looking': 8540, '##powder': 24272, 'giants': 21170, '∪': 859, 'Savings': 25794, 'recovering': 14299, 'elect': 11797, '##tty': 13932, 'Spirit': 7258, 'wipe': 14182, 'Hang': 19869, 'beef': 14413, '##∗': 28746, 'bull': 12200, 'mercenary': 26826, 'Carol': 8430, 'Rican': 14028, 'forest': 3304, 'tough': 8035, '90s': 18476, 'Diesel': 21651, 'advantages': 13300, 'Buzz': 22687, 'য': 656, 'perfect': 3264, 'violin': 7106, 'String': 13604, 'Hampton': 11648, 'creek': 10791, 'Invisible': 24823, 'Banking': 20863, 'clergy': 12538, '##pping': 13044, 'Scouts': 13349, 'Treasurer': 15099, '##nacht': 27416, 'commissioner': 12425, 'families': 2073, 'anticipated': 11526, '##tism': 15813, 'slated': 20191, 'Alley': 20570, 'transforming': 20892, 'leverage': 24228, 'à': 246, 'Summit': 11843, 'Executive': 4183, 'institution': 5375, 'Wayne': 5489, '##ER': 9637, 'Soviet': 2461, '##xen': 25926, '##pta': 21919, '##rook': 18562, '##dy': 3810, 'publicity': 12623, 'injuries': 5917, '##clamation': 17405, 'Stephan': 17120, 'Dyke': 28055, 'council': 3193, 'alley': 10959, 'longtime': 11448, '##grass': 13754, 'Special': 3139, 'United': 1244, '##game': 18350, '##otype': 27172, '12': 1367, 'spell': 5814, '##stand': 18692, '石': 1062, 'NJ': 21166, 'NYC': 17520, 'bad': 2213, '##ettes': 18289, 'demonstrates': 17798, '##ʔ': 28296, 'relationships': 6085, '307': 27663, 'groan': 13344, 'Somerset': 8860, '##building': 12851, '##ratic': 21961, '##i': 1182, 'ribs': 10346, 'confidence': 6595, 'gaping': 23846, 'abundant': 13504, 'Prevention': 18461, 'exclusively': 7097, 'acquaintance': 20125, 'fixtures': 19219, 'Lagos': 17883, 'flickered': 16945, '##lins': 17828, 'Stuart': 6395, 'sounds': 3807, 'governing': 9042, '##sef': 21762, 'mare': 21833, 'form': 1532, 'ceremonial': 13935, 'falsely': 25995, 'Tajikistan': 26307, 'vampires': 6039, '[unused5]': 5, 'Autonomous': 16742, '[unused74]': 74, 'meal': 7696, '##nose': 22583, 'Omar': 13569, '##weight': 7150, 'Both': 2695, '##≠': 28755, '##gers': 9915, 'jurisdiction': 6993, 'turn': 1885, 'declared': 3332, '##bres': 22954, 'Luna': 13700, 'its': 1157, 'museum': 3480, '##zu': 10337, 'liberty': 15470, 'online': 3294, 'methodology': 18576, '##國': 28898, 'Archive': 15041, 'performed': 1982, 'tree': 2780, 'Killing': 19949, '##ropolis': 26776, 'matrix': 8952, 'luxury': 9886, 'Navarro': 26333, 'duct': 26862, 'uncomfortable': 8504, 'crashing': 13423, 'around': 1213, '265': 22486, 'sixteen': 7423, 'irrelevant': 25707, 'buried': 3126, 'temple': 3550, '##encing': 15856, 'gravel': 11898, '1857': 7763, 'freezing': 13543, 'crystals': 16132, 'Borders': 25746, '##NF': 28047, '##chang': 26236, 'extensively': 7620, 'œ': 316, 'Magnus': 10138, 'break': 2549, 'crawl': 14869, 'Surgery': 17910, 'mused': 24807, '##pectator': 23098, 'Infinite': 27526, '##ista': 11663, 'jersey': 14953, '##jects': 26394, '₈': 819, 'blues': 9274, 'EMI': 13435, '##chan': 18546, '##maker': 8085, 'smirked': 20319, '##good': 23684, 'everything': 1917, '##њ': 28421, 'stacked': 18452, '##₈': 28715, 'ζ': 423, 'Eye': 9329, 'Ś': 318, 'imprisonment': 10125, 'lie': 4277, 'Romania': 5726, 'Tamil': 5344, 'orientation': 10592, 'electron': 11267, '##ueva': 24048, '##ua': 6718, '##hi': 3031, '##ured': 10105, 'Previous': 24142, 'warily': 27122, '##ɐ': 28274, 'knuckles': 15158, 'Sergio': 15720, 'UK': 1993, 'likelihood': 17843, 'manage': 5494, '##C': 1658, 'Points': 9965, 'export': 10107, 'wounded': 4670, 'burst': 6007, 'surprise': 3774, 'mammals': 12905, '##mel': 10212, '##hui': 23618, '##ync': 27250, 'tender': 8886, '##bush': 22763, 'Speech': 19656, 'blue': 2221, 'early': 1346, 'strode': 12455, 'gifts': 9794, 'Buddhism': 11411, 'strictly': 10802, 'abolished': 8632, '##view': 7334, '##ts': 2145, 'Nevertheless': 8094, 'wetlands': 20432, '##itic': 26320, 'luck': 6920, '##ego': 23820, '##rand': 13141, '##urley': 27009, 'в': 477, 'millions': 9215, 'cadet': 22602, 'puzzle': 13544, 'develop': 3689, 'trustee': 17665, 'prepares': 23133, '##hir': 14518, 'daylight': 13258, 'unexpectedly': 15484, '##bei': 16791, '##urers': 24990, 'Yeah': 2814, 'nature': 2731, '##olly': 21383, 'separately': 10380, 'correspond': 18420, '##eek': 20059, 'narrative': 8195, '720': 25434, '##umi': 14088, '##cky': 23143, '##이': 28985, 'Archaeology': 20193, 'phase': 4065, '##stant': 16566, '##herence': 21634, '##eyer': 22142, 'waves': 5685, 'Alejandro': 17904, 'Skating': 23094, 'Joaquin': 26261, '##IM': 13371, 'rim': 13840, 'numbered': 8324, 'Rally': 15094, 'unaware': 11987, 'Frost': 12194, '##UC': 21986, 'Wallace': 7336, '##quatorial': 23416, 'mandatory': 11839, '##eed': 11394, 'diffusion': 22873, 'Francesco': 11400, '##stered': 25924, '470': 23146, 'fit': 4218, '460': 18429, 'towers': 8873, 'scandal': 10083, 'testified': 15627, '##oint': 21506, '₃': 814, 'Darren': 12413, '##ics': 4724, 'prizes': 12843, 'alliance': 7214, 'Human': 4243, '##yar': 17556, 'proper': 4778, 'voluntary': 12048, '##jk': 17187, 'Mackay': 21741, 'Tehran': 13857, 'constraints': 15651, 'continually': 15395, '##ynasties': 25643, 'Carson': 9563, 'helicopters': 13614, 'Alps': 14316, 'WWF': 17860, 'Rancho': 20864, 'Rap': 21196, 'knife': 4937, 'Progressive': 10709, 'booklet': 21757, 'approve': 14942, 'instrument': 6337, '⁹': 807, '##ae': 5024, 'organist': 19209, '##ility': 13378, '##bourg': 20207, 'Mask': 23938, '##force': 15910, 'ƒ': 341, 'Again': 5630, 'Morning': 7151, 'fork': 13097, 'currently': 1971, '##ux': 5025, 'awaited': 21520, 'debris': 11829, 'gears': 23964, 'disappearing': 15578, 'Philip': 4367, 'wines': 16728, 'mini': 8715, '##erton': 20024, 'factory': 4790, '##vious': 18854, 'crouched': 15062, 'splendid': 27120, '[unused56]': 56, '##eus': 12963, '##太': 28904, 'Apollo': 9053, '##master': 6532, 'Hand': 9918, 'Speedway': 12081, 'Tracy': 10435, 'screens': 12472, 'Seahawks': 23572, 'tenants': 16086, 'landowners': 22671, 'professionals': 8799, '##ván': 27985, 'colored': 6805, 'equations': 11838, 'understood': 4628, 'Agnes': 11805, 'via': 2258, 'noticed': 3535, 'trusts': 25802, 'ideology': 14270, 'Cochrane': 24763, 'kitchen': 3119, 'finish': 3146, 'incoming': 16248, 'Τ': 409, '##esis': 16317, 'Lori': 20258, 'praising': 17027, 'Technology': 3529, 'shipment': 25464, 'Greenberg': 27174, '32': 2724, 'lack': 2960, 'egg': 9069, '##gni': 22152, 'ecclesiastical': 14767, 'Andy': 4827, 'disbelief': 12962, 'भ': 618, 'estimates': 10777, '##rag': 20484, '##ologies': 20941, 'constitute': 12500, 'push': 4684, 'Own': 13432, 'attract': 9781, 'Integrated': 18926, 'attends': 27150, 'designated': 3574, 'Te': 12008, 'Newspaper': 21158, '##thus': 23556, 'bowler': 17124, 'Bosnian': 17173, 'Around': 5596, 'that': 1115, 'Riding': 15862, '##nex': 24321, 'Musa': 27389, 'Bernard': 6190, '##ried': 13422, 'Shore': 11301, 'weapon': 4621, '門': 1081, 'ℝ': 841, '##ceding': 23304, 'Reverend': 10990, '1777': 17128, 'contaminated': 21636, '##brand': 25123, 'Penn': 9223, 'Layton': 25765, '##iques': 18853, 'zipper': 26074, 'packaged': 24946, 'Taiwan': 6036, 'decreasing': 18326, '##tford': 20502, 'simply': 2566, 'Stockton': 20865, 'Colton': 23065, '32nd': 22579, 'Activities': 21966, 'Nordic': 14271, 'consulted': 18881, 'Zane': 6359, 'believed': 2475, '##yman': 13276, 'Someone': 6518, 'councillor': 16517, 'Catholics': 10687, 'concession': 18750, '##rl': 17670, '[unused45]': 45, 'backing': 4581, 'naive': 22607, '##pus': 10306, 'Wilde': 20280, 'funding': 4198, 'disputes': 12530, 'prop': 21146, 'WTA': 24253, '##bek': 17327, 'clause': 13620, 'expecting': 7805, 'walls': 2928, 'aspect': 7631, '8': 129, 'solo': 3444, '##，': 28992, 'remastered': 23109, 'upward': 10828, 'have': 1138, 'issues': 2492, '##M': 2107, 'Xu': 17584, 'questioning': 11402, '##bled': 11813, 'Rock': 2977, '##ʃ': 28289, 'Henry': 1985, 'Württemberg': 17565, 'İ': 300, 'retreating': 19182, '##pace': 12204, 'Basilica': 19349, 'operation': 2805, 'Bang': 12926, 'History': 2892, '##si': 5053, '##phere': 13591, 'Were': 8640, 'rushing': 8248, 'glance': 5410, 'font': 17927, '##ო': 28606, '##pose': 14811, 'Shadows': 15714, '##xious': 25459, 'Panic': 18896, 'However': 1438, '##星': 28928, 'Cassandra': 16645, 'Daughters': 24645, 'catchment': 27011, 'Across': 14754, '##enan': 25191, 'encouragement': 17568, 'concepts': 8550, '##♦': 28773, 'bounced': 13990, 'tip': 5580, 'Sadie': 23486, 'dignity': 14931, 'Duchy': 13019, '##sma': 24557, '##rka': 23870, 'senses': 9439, 'll': 1325, 'organise': 25906, '##lal': 14258, '##nets': 25715, 'enrollment': 10803, 'aperture': 22769, '##β': 28339, 'favour': 7511, 'etc': 3576, 'antibodies': 26491, 'Ulrich': 21351, '##tah': 24401, 'Do': 2091, '##cular': 11702, 'Volleyball': 13741, 'limitations': 13004, 'randomly': 19729, 'Minas': 24307, 'transitional': 23512, 'fights': 9718, 'venom': 22638, 'Lucky': 8034, 'newborn': 24820, '의': 1091, '##tō': 24995, '911': 21787, 'Sanchez': 17738, 'bodily': 23006, 'jury': 7141, 'notion': 9162, 'Fox': 3977, 'Sports': 3692, 'Individuals': 26381, 'Guess': 17924, 'fusion': 11970, 'somewhat': 4742, 'Germanic': 15886, '##FM': 17938, 'leg': 3420, 'wherein': 18115, 'Presidents': 19279, '##most': 10019, 'sized': 6956, '##iam': 18331, 'Affair': 20840, 'quota': 23690, 'caller': 25780, 'property': 2400, 'Ţ': 324, 'exists': 5903, 'Stars': 6200, 'maze': 20214, 'Reader': 17608, '##石': 28955, 'Zion': 21863, '##uished': 22794, '##lade': 21414, '##⟩': 28776, 'Ace': 12860, 'Lorenzo': 12662, 'momentarily': 17429, '##ic': 1596, 'Dakota': 7241, 'battles': 7619, '[unused63]': 63, 'watershed': 13920, 'Dolly': 23549, 'Worship': 27978, 'our': 1412, 'west': 1745, '560': 23386, 'vacated': 16216, 'block': 3510, '##vigator': 22315, 'ų': 332, 'ق': 586, 'quarter': 3861, 'collaborated': 8303, 'expensive': 5865, 'Honorable': 26421, 'treating': 12770, '##θ': 28345, 'Did': 2966, 'directions': 7768, '##rrigan': 27613, 'Cobra': 21841, '##iate': 15045, 'festivals': 7731, 'a': 170, 'entry': 3990, 'Perry': 6306, '##མ': 28593, 'federation': 18159, 'ლ': 701, 'Oakland': 8847, 'Tanner': 13369, 'profitable': 16244, '##omi': 18882, 'flexibility': 18605, 'boulder': 23751, 'hunger': 10023, 'Aircraft': 9710, 'dock': 11020, '225': 15684, 'Stokes': 20476, 'checked': 6488, '23': 1695, 'artificial': 8246, 'Monster': 11701, 'Should': 9743, 'Byron': 12371, 'Yesterday': 21997, '##solation': 27959, '##isch': 16253, 'temporal': 18107, 'was': 1108, 'Janet': 9788, 'Isabella': 10206, 'entrepreneur': 12035, 'manufacturing': 5863, 'buses': 8049, 'Mohammad': 12460, 'invented': 8620, 'worried': 4472, 'Eva': 9734, 'survives': 14134, 'Morales': 18528, 'lbs': 24119, 'Barron': 26901, 'Branch': 6541, 'tripped': 23376, '##án': 4881, '##udi': 17294, 'lurched': 24319, 'observes': 27641, 'landscapes': 14026, '##tts': 18072, 'Que': 27328, 'considerations': 19069, '100th': 18026, 'Grant': 4468, '##slav': 26142, 'kindergarten': 15001, 'out': 1149, 'plastered': 24304, 'straw': 15235, 'respectable': 21742, 'Shah': 7686, 'ḍ': 726, 'global': 4265, 'trail': 5126, '##tation': 7984, '##pert': 17786, 'resorts': 23574, 'Phyllis': 22244, 'dough': 28075, 'International': 1570, 'sour': 17948, 'Grimsby': 27540, '##xi': 8745, 'Amber': 11623, 'endemic': 6850, 'Partner': 24961, '##mer': 4027, '##és': 10051, 'taking': 1781, '##tile': 23677, 'construction': 2058, 'undergo': 13971, 'riots': 14584, 'φ': 439, 'Reservoir': 15220, 'draft': 5039, 'Scream': 26942, 'implemented': 7042, 'syllable': 17578, 'pain': 2489, 'Sergei': 15173, 'Oilers': 22243, '##ptus': 24556, 'admitted': 4120, 'Sex': 9850, 'Ted': 6564, 'Sid': 17916, 'northern': 2350, 'inclusion': 10838, 'tugged': 10531, '##ively': 13517, '191': 21625, 'short': 1603, '##fers': 23085, 'Hartford': 13709, 'communicated': 27263, 'Rice': 8859, 'northwest': 4794, 'ethnic': 5237, 'Nick': 3350, 'Feeling': 13085, 'breakfast': 6462, 'द': 613, '1946': 3064, 'eye': 2552, 'og': 18631, '##stituting': 23346, 'readiness': 25922, '##iah': 15963, 'mirrored': 25056, 'subsequently': 2886, 'Madrid': 6331, 'endless': 12401, 'stock': 4482, '1787': 17016, 'Johann': 8686, 'multimedia': 20680, 'scientists': 6479, 'rift': 25414, 'Rings': 22518, '##ч': 28409, 'shade': 10356, 'Line': 2800, 'Allies': 14254, 'pains': 24782, '##rai': 14089, 'orthodox': 23808, 'resting': 8137, 'carriers': 11837, '山': 1021, 'oversee': 18800, 'Bermuda': 13906, '##₎': 28719, 'comprising': 9472, '##loat': 23223, 'dwarf': 13076, 'Amanda': 7872, 'reflection': 9284, 'Quinn': 8447, '##lined': 14523, 'restrictions': 9118, 'Melinda': 27042, 'steel': 3649, 'gas': 3245, '##ugen': 26623, '##bley': 26672, '##hur': 26033, 'weaponry': 25773, 'Weimar': 22688, 'messy': 20549, 'gap': 7275, 'majors': 19796, 'Tier': 24391, 'beach': 4640, '##iga': 13499, 'motionless': 22303, '戸': 1029, 'confusing': 18110, '‐': 779, '##ag': 8517, 'Carmel': 21208, 'predator': 19653, 'Irvine': 17297, 'decreases': 19377, 'Acting': 12608, 'tugging': 19029, 'Łódź': 19230, '##cursions': 23668, '##ović': 10247, '##kumar': 23107, '##書': 28929, 'Jenna': 13862, 'siding': 20181, 'eleventh': 14079, '##vender': 22622, 'arched': 8893, 'principle': 6708, 'large': 1415, 'Cabinet': 9049, '##eera': 27472, 'parcel': 24126, 'commended': 27083, 'Jacqueline': 18810, 'objective': 7649, 'regardless': 8334, '##bble': 15114, 'Shelby': 16080, 'Turkic': 25733, 'advanced': 3682, '##sity': 13730, 'adulthood': 22777, 'dismissed': 6714, 'Torino': 27882, 'covers': 3662, 'agrees': 10052, 'Spa': 23665, '##ils': 8825, 'Chronicles': 17758, 'hunt': 8263, 'summer': 2247, 'penny': 24585, 'ổ': 754, '##ι': 28346, '1924': 4002, 'Police': 3284, 'millennium': 17928, 'deportation': 27605, 'thirteenth': 17889, 'mocking': 21701, 'analogy': 26799, 'proponent': 25046, 'Sustainable': 21779, 'twitch': 27809, 'Packers': 16458, 'designation': 7970, 'edited': 5045, 'overlapping': 23003, 'oblivious': 20667, 'Belinda': 27700, 'rocking': 16964, 'ই': 638, 'Perhaps': 5203, '186': 21331, 'Nico': 21283, '##voked': 18891, 'avoid': 3644, 'Herald': 9707, 'preliminary': 9889, '##ddler': 25372, 'ְ': 527, 'Brooks': 8084, '##anne': 15733, 'Cascade': 27173, 'ἐ': 769, 'hypothesis': 11066, 'unions': 10230, '##リ': 28862, 'š': 323, '##EC': 8231, 'listening': 5578, 'rice': 7738, 'expeditions': 17208, 'Beatrice': 16131, 'に': 914, 'Barnes': 9752, 'fearing': 19424, '##н': 17127, 'clashes': 19708, 'wiped': 7960, 'Glenn': 9172, 'Queens': 9347, 'Publishing': 7045, 'respiratory': 19192, '##uang': 25530, 'Incident': 26061, 'Julia': 5829, '##gene': 27054, 'diamond': 9883, 'chat': 13287, 'smart': 6866, '宀': 1015, 'additional': 2509, 'Feast': 24140, '##zuka': 27779, 'fashionable': 22338, 'imagined': 7683, '##leen': 21180, 'compare': 14133, '##ask': 25611, '##س': 28484, 'Damien': 12757, 'brigade': 8196, 'landfall': 23729, 'Present': 13653, 'Ad': 24930, 'fried': 15688, 'diplomatic': 8311, 'governors': 17620, 'solvent': 27624, '##ف': 28492, '##aud': 16631, 'CA': 8784, 'Rider': 14187, 'asking': 4107, 'exploration': 10016, 'Turkey': 4439, 'Burns': 9608, 'restriction': 18760, '##’': 28689, 'Fleming': 14217, 'bacteria': 10548, 'animals': 3551, 'small': 1353, '##harf': 16608, 'inform': 12862, '##erer': 22113, 'Hapoel': 27227, 'Emmy': 9933, 'Blake': 5887, '##ace': 7954, 'stimuli': 25003, 'sink': 7496, 'enforcement': 7742, 'Guide': 7500, 'download': 9133, 'Lehigh': 25912, 'ร': 683, 'default': 12973, 'murmured': 6574, '##stro': 21216, '##―': 28686, 'accidents': 14705, 'conducting': 9239, 'Box': 9167, '80': 2908, 'flashing': 13294, 'unnamed': 14400, 'required': 2320, 'into': 1154, 'Pictures': 7392, 'organic': 7878, '##10': 10424, 'berries': 26571, 'Morrow': 23611, '##ungen': 25821, 'surely': 9929, 'ram': 26084, 'Bartholomew': 21622, 'warnings': 17823, '##nacle': 21946, '##birds': 13244, '##rate': 5498, 'again': 1254, '##fra': 27476, '£': 202, 'distinct': 4966, '##born': 7107, 'Misty': 19323, 'NHL': 6521, 'farmers': 6915, 'kidding': 12873, 'ostensibly': 28029, 'lectured': 20951, '##cliffe': 16208, 'ordering': 13649, 'MR': 25827, 'transitions': 26829, 'DJs': 27353, 'Gong': 23703, 'touchdowns': 10102, '##wal': 11487, 'impulse': 18623, 'gasping': 20063, 'Cornell': 10898, '##nched': 15986, 'probable': 16950, '##ustic': 20596, 'Cheltenham': 20296, 'Lands': 17854, 'Melbourne': 4141, 'passes': 4488, 'favor': 5010, 'lame': 25492, '##金': 28972, '##rgent': 14527, '##ama': 7363, 'smack': 25767, 'Brennan': 14456, 'playoffs': 7736, 'serves': 3411, 'Near': 9669, 'idol': 17642, 'outlook': 25059, 'teacher': 3218, 'Commander': 4350, '##alk': 23074, 'Sabha': 11349, 'shooter': 14896, '##sun': 23294, '##zef': 26086, 'specific': 2747, '##fighting': 24663, 'spire': 23887, 'ladies': 8564, '1827': 12445, 'accomplishments': 19156, 'Background': 24570, '##ध': 28517, 'periodical': 25907, 'Maynard': 24518, 'Mu': 19569, 'instinctively': 20749, 'Municipality': 7427, 'beloved': 12915, 'bowls': 20400, 'Parry': 24602, 'Percy': 11310, 'dresses': 15402, 'chick': 22282, '##ghty': 27390, 'Ankara': 22206, 'initiated': 7087, 'til': 27216, 'tricks': 13270, 'Alongside': 26589, 'Changes': 21395, 'Ellington': 23884, 'Martian': 23194, 'Light': 3935, 'district': 1629, '978': 4087, 'lectures': 9548, 'southwestern': 10231, '##lean': 21649, '##rome': 11457, 'AC': 9690, '##liography': 27800, 'Union': 1913, '##asus': 27384, '##user': 19399, 'supervised': 14199, 'governments': 6670, 'Erin': 11845, 'Francesca': 16233, 'impacted': 20968, 'hollow': 11134, 'frowning': 17888, 'ca': 11019, 'cheerful': 20710, '257': 27396, '##Ō': 28237, '##G': 2349, 'ton': 11371, 'Logic': 23437, 'Kabul': 23321, '##ं': 28508, '##⟨': 28775, 'preparations': 13751, 'clinging': 19728, 'members': 1484, 'upwards': 15726, 'undergoing': 15819, 'successively': 27754, 'Cheryl': 21173, 'Metacritic': 15168, '##dric': 27168, '##sfield': 17386, 'Put': 11913, 'superior': 7298, 'kinase': 24779, '##cuted': 26357, 'famous': 2505, '##ogical': 20946, 'ends': 3769, '##mb': 12913, 'Buckingham': 19180, 'vigorously': 24943, 'engaging': 12368, 'minded': 13767, '##aly': 17449, 'resulted': 3657, 'troubled': 12322, 'chambers': 13065, 'Similar': 12250, 'liked': 3851, '##edly': 17797, '##uman': 19147, 'Leaves': 21825, 'Saetan': 26256, 'morning': 2106, 'ن': 590, '##ulin': 19001, '##noy': 21244, '##Os': 22234, 'substitution': 24393, 'starts': 3816, 'mechanisms': 10748, 'gains': 12535, '##gos': 12443, 'skull': 7753, '##ruit': 27975, 'Karachi': 16237, '##led': 2433, '##sons': 22966, 'stare': 5698, '##river': 26999, '##͡': 28314, '80s': 17008, 'Benny': 12036, '##hy': 7889, 'breaths': 13278, 'Canton': 13702, 'Session': 18012, 'workshop': 10819, '##tinent': 24123, 'astronaut': 27149, 'Belize': 20449, 'top': 1499, '##guous': 22928, 'bulk': 9634, '##bent': 19145, '##nas': 13146, 'Commercial': 10472, 'recently': 3055, 'PA': 8544, 'blessed': 15865, 'Simpson': 8989, 'rather': 1897, 'scowled': 18705, '##ake': 9899, '##lane': 10303, 'freshwater': 13800, 'Person': 19783, 'Iain': 27869, 'yanked': 10968, '270': 14162, 'dealers': 19499, 'ˈ': 384, '##ffles': 25754, 'ratified': 19008, 'Kaplan': 25666, 'cones': 27712, '##pec': 25392, 'hotels': 10723, 'archaeologists': 24104, '##lls': 9872, 'plant': 2582, '##people': 21159, 'Scientology': 26973, '##ₐ': 28720, 'Randy': 9577, 'frown': 11369, 'Paralympic': 19099, 'suspended': 6232, 'athletics': 11645, 'Chamberlain': 15506, 'evident': 10238, 'Record': 7992, 'living': 1690, 'æ': 252, 'Shark': 24143, '13th': 5435, 'contributing': 7773, 'Bowen': 17220, '##エ': 28828, 'Sally': 8595, 'shouting': 11500, 'Joel': 8773, 'DNA': 5394, 'renovated': 10564, 'adventure': 7644, 'masterpiece': 22055, 'Félix': 23839, 'wounds': 8503, 'Program': 4659, 'Pam': 15259, 'costumes': 13452, '278': 27832, '##olin': 27719, 'lingered': 18942, '##ნ': 28605, '##tra': 4487, 'jerk': 12935, 'deserved': 10796, '##aldo': 19283, '##with': 22922, 'NSW': 11557, 'Wally': 19650, 'urgent': 14844, '1873': 7110, 'devoid': 25755, 'da': 5358, 'ocean': 5969, 'generating': 12713, 'lust': 13051, 'popularly': 17413, 'approached': 4685, 'comment': 7368, 'launches': 21285, 'Humanities': 14860, 'Having': 5823, 'Chatham': 17815, '##tis': 6620, 'knighted': 21905, 'does': 1674, 'cu': 16408, '##lenching': 26873, 'Destiny': 16784, 'fatalities': 23515, 'Chattanooga': 26020, 'ₚ': 832, 'songwriter': 5523, '##ン': 28866, 'Howard': 4115, 'smaller': 2964, '##rse': 15955, 'vacuum': 12374, 'appropriate': 5806, 'bodies': 3470, 'sequences': 10028, 'tumbled': 19749, 'Aiden': 15848, '##akes': 20874, '##jos': 22343, 'scored': 2297, '##ishing': 10506, 'Wall': 6250, '##aa': 22118, 'Sarawak': 23794, '##lanted': 16999, 'Burmese': 15080, '138': 15731, 'allies': 8224, 'ni': 11437, 'preserve': 8333, '##press': 11135, 'choose': 4835, 'systems': 2344, '##tated': 20213, 'aluminum': 14349, '##urage': 26800, 'furnishings': 26690, '##fining': 24110, 'Willy': 17624, 'Divisional': 26115, 'portable': 15139, '##ffy': 12383, 'panicked': 17708, '##udes': 23757, 'represent': 4248, 'Dukes': 22813, 'managing': 7204, 'trousers': 16555, 'roles': 3573, 'grenades': 24872, '##ré': 13240, '##ulating': 10164, 'moss': 24908, '##sunderstanding': 27187, 'teammate': 10871, 'Embassy': 13530, 'Nationals': 16101, 'Baldwin': 10944, 'chuckled': 10072, '##社': 28956, '##UP': 18124, '##orage': 27611, '##charged': 23131, 'ineffective': 22830, 'done': 1694, 'legislators': 27597, 'Profile': 26890, 'rooftop': 27915, 'bartender': 18343, 'Kosovo': 11494, '##21': 18202, 'betrayal': 16793, 'trophies': 26530, '##RT': 10460, 'Adler': 19358, 'arch': 9072, 'symptoms': 8006, 'can': 1169, 'México': 20697, '110': 6745, '##lot': 7841, 'forgotten': 6278, '##し': 28797, 'Quick': 18911, '##citing': 24254, '##arel': 24971, 'cookies': 18621, 'strides': 24901, 'doom': 26375, '##pphire': 24383, 'invention': 11918, 'shaking': 5121, 'Royce': 15466, 'Job': 18235, 'denotes': 16699, 'propagation': 25934, 'toxic': 12844, 'melancholy': 27990, 'Jupiter': 13377, 'longest': 6119, '##gie': 9747, 'reinforce': 21293, '##bee': 11891, 'iron': 3926, '[unused86]': 86, 'whoever': 11830, 'preoccupied': 27382, 'DVDs': 25061, 'Ham': 13030, '##amon': 25902, 'Label': 20943, '##sson': 6598, '##abad': 9671, 'Superintendent': 12987, '##gue': 7222, 'dismantled': 18640, '##aine': 19836, 'affirmed': 22062, 'ⱼ': 884, 'dirt': 6786, 'Concert': 10325, '##nney': 26335, 'rocked': 15002, 'working': 1684, '##ben': 9672, '##に': 28807, 'ħ': 296, '##sque': 16803, 'dispatch': 27209, 'proclaimed': 9950, 'rubbed': 6987, 'surgery': 6059, 'internally': 19266, 'radio': 2070, 'lap': 4443, 'marshal': 23963, 'titles': 3727, 'Fraser': 9156, '##ets': 6248, 'teenagers': 13663, 'Syriac': 27095, 'ه': 591, 'tiny': 4296, 'Alive': 15907, 'Problem': 21710, 'More': 3046, '##ía': 7171, 'residency': 16917, 'favourable': 20440, 'WC': 16857, '##lina': 10655, 'Heat': 9653, 'period': 1669, 'Top': 3299, 'soldier': 5176, 'ore': 12327, 'emerald': 23970, 'plaque': 12592, 'played': 1307, 'Cuban': 9383, '##physical': 18547, 'Guitars': 23644, 'ע': 552, 'lance': 27017, '##ical': 4571, 'octagonal': 25360, '##fight': 22805, 'Buffalo': 6911, '##ooster': 24163, 'Fish': 9425, '2014': 1387, 'Security': 4354, '60s': 22891, 'protects': 19819, 'penned': 18790, 'partially': 6320, 'dealt': 9130, 'regretted': 20632, 'Organic': 27977, '##bilities': 15951, '##اد': 25717, 'taller': 12891, 'ν': 430, 'decline': 6246, 'Sixteen': 22177, '##icz': 23586, 'frantically': 18144, '288': 27998, 'penetrated': 23937, 'gearbox': 26283, '##LT': 26909, 'Zombie': 25249, 'Middleton': 19059, 'Showtime': 27640, 'ắ': 744, 'ensure': 4989, 'knocked': 6011, 'something': 1380, '##uctive': 24914, 'railway': 2529, '##asa': 18384, 'compiler': 26012, 'courtyard': 10629, '##ke': 2391, '##mad': 22678, 'Getting': 14709, '##vich': 11690, 'marriage': 2742, '##walk': 13868, 'pardon': 19015, '##sir': 19496, 'sealed': 10410, '##NE': 22680, '##upation': 26392, '##ivision': 28096, 'Tammy': 21791, 'Trans': 13809, '##ône': 21719, '##ze': 3171, 'Mill': 7664, 'Runners': 15076, '##arity': 14405, 'drains': 20681, '##LR': 26161, 'Bad': 6304, 'Clifton': 17295, '##FI': 17675, 'Astros': 24462, 'gay': 6463, 'Mental': 16725, 'absorbing': 23774, '##江': 28943, '##gaard': 19572, 'forces': 2088, 'ps': 15604, 'monopoly': 18356, '##sa': 3202, 'transparency': 21595, 'collegiate': 14532, 'LSU': 24184, 'Shall': 17604, '##quitaine': 28120, 'Kate': 5036, 'herbs': 19933, 'reservoir': 10462, 'reasoning': 14417, 'possession': 6224, 'recipes': 23492, '##lishing': 27706, 'maintains': 9032, 'commune': 5188, '##sz': 21529, '##tudes': 22764, 'policies': 5502, 'huddled': 22451, 'Shortly': 6480, 'bank': 3085, '##AT': 13821, 'stories': 2801, 'hydrogen': 9986, 'Hits': 12852, '1797': 14643, 'Burma': 11023, 'ant': 22904, 'Det': 27524, '##eck': 14021, 'Orlando': 9906, '##ex': 11708, 'intending': 18077, 'repealed': 23948, 'Dunbar': 25688, 'clip': 13500, '##mers': 19134, 'disrupt': 26499, 'Laurel': 13616, '##olt': 17772, 'written': 1637, 'glow': 8656, 'cough': 21810, 'compete': 4845, 'acted': 5376, '##oughs': 25500, 'coughing': 24992, 'Gus': 13067, 'condom': 23956, 'pledged': 18215, 'Portsmouth': 10867, '##iber': 24851, 'swore': 13089, 'Guillermo': 23167, 'creations': 25987, 'ceremony': 4502, 'campaigns': 7827, '##gai': 21347, 'ི': 694, 'Sword': 14059, 'wilderness': 15211, '##renched': 17902, '##ulge': 26272, 'sub': 4841, 'Mortal': 26001, 'measure': 4929, '##zers': 26542, 'winners': 5222, 'persistent': 15970, 'resolutions': 22446, '##ood': 13465, 'committees': 11208, 'shit': 4170, 'Noise': 17956, 'degree': 2178, '1969': 2540, 'prices': 7352, '##sch': 9022, 'Royal': 1787, 'ṃ': 732, 'analyses': 18460, 'subtropical': 12227, 'Explorer': 18092, 'Pentagon': 25122, 'ে': 667, 'knew': 1450, 'oak': 8760, '##4': 1527, 'Luce': 22340, 'sailors': 12428, 'award': 2574, '##luck': 23251, 'Conservatory': 14074, 'cyclist': 15387, '##mee': 21563, 'rushed': 6169, 'authorised': 21812, 'Dylan': 7266, 'measuring': 10099, 'Exodus': 23451, 'international': 1835, 'prominently': 15199, '##coil': 27137, 'Macintosh': 26162, 'ensued': 20530, 'melting': 14838, 'avail': 28057, '##signed': 16173, '##ero': 10771, '##sound': 22909, 'Georg': 12171, 'kind': 1912, 'Liang': 18842, 'Willem': 20378, 'home': 1313, 'Bahá': 15216, '1987': 2164, 'RPG': 27143, '[unused11]': 11, '##rey': 12210, 'cartoons': 15669, 'Carey': 11833, 'Cerambycidae': 13449, 'յ': 520, '##rato': 24306, 'Varsity': 21360, 'CBN': 24178, 'premiered': 5281, 'Consequently': 13355, 'suitable': 6736, 'burying': 25317, 'Sector': 17063, '##acing': 18715, 'trap': 8598, 'castles': 19282, 'crumpled': 21695, 'bargaining': 25656, 'wiping': 16175, 'taxi': 11736, 'Copper': 20657, 'Saddam': 27091, 'Noctuidae': 28065, '1751': 27479, 'managers': 11493, 'ǐ': 345, 'ち': 909, '##ori': 9012, 'Consumer': 17122, 'authentic': 16047, '##su': 6385, 'Roberts': 6444, 'households': 3065, 'male': 2581, 'Lai': 25489, 'n': 183, 'markings': 14655, 'Results': 16005, 'Mount': 3572, 'murdering': 23637, 'flown': 10578, 'cum': 16040, 'duck': 13520, 'tradition': 3904, 'ɕ': 356, 'apologize': 12529, 'frontier': 13638, 'bought': 3306, 'Cathy': 19732, 'journalists': 9891, 'stuffed': 12084, '##nity': 15092, 'cleaned': 12370, 'silly': 10729, '##rease': 15691, 'arising': 19528, '##luster': 23225, '##enter': 25195, '##ọ': 28653, 'composed': 2766, 'Till': 22430, 'passed': 2085, '##vard': 24698, 'cannon': 12136, 'blessing': 15254, 'Williamson': 14905, 'celebrated': 5719, 'Pueblo': 22514, 'dictatorship': 21737, 'inspiration': 7670, 'smoothed': 19472, 'Link': 11193, 'Hellenic': 25792, 'options': 6665, '##gged': 12165, 'silver': 2878, 'Venezuelan': 16128, 'clean': 4044, '##uz': 14875, 'Roma': 13120, 'kidnapping': 16440, 'Selected': 17018, 'rotate': 27905, 'antenna': 14843, 'catcher': 18722, '##isan': 21599, '##ascism': 26492, '401': 25182, 'statesman': 25248, '##metric': 13689, '##ɡ': 28280, '##ब': 28520, 'ruins': 8606, '##orous': 18133, 'Counter': 23064, 'Wyoming': 10513, '##anti': 25711, 'bubble': 13877, 'finite': 10996, 'consumer': 8440, '##issa': 14916, '##eld': 22654, 'rang': 8293, 'dawn': 9623, '##azed': 27625, 'Buildings': 19149, '##lica': 9538, 'Warriors': 9526, 'feminine': 13385, 'sticks': 13963, '##die': 7782, 'Mongolia': 14388, 'Poets': 25336, 'conduct': 5880, 'background': 3582, 'Lang': 12431, '##ra': 1611, '##H': 3048, 'Aubrey': 20587, 'melodic': 19126, 'whatever': 3451, 'occurring': 9939, 'Moor': 20973, 'indication': 12754, 'oppression': 23309, 'dungeon': 23801, 'harvested': 25309, 'MGM': 16241, '##₇': 28714, 'listing': 10530, 'wandered': 13668, '##tite': 23723, 'oppose': 16315, 'Save': 12596, 'staging': 16772, '●': 872, 'folding': 13748, '##jer': 21569, 'specifications': 17285, 'Height': 21621, 'genuinely': 16997, 'library': 3340, '##reet': 17399, 'pad': 12921, 'wrath': 23127, 'upbringing': 27981, 'including': 1259, '##izes': 9534, 'blank': 9153, 'send': 3952, 'Period': 16477, 'Labrador': 20255, 'impaired': 20606, 'Q': 154, '##claim': 16659, 'heels': 8260, 'cooperation': 7395, 'hatred': 11571, '211': 20915, 'Gene': 9066, 'demo': 11238, 'destroys': 22955, 'カ': 937, '1855': 8082, 'salt': 6870, 'abbey': 14049, '##tead': 12679, 'Lucivar': 23567, 'Majesty': 10637, '##fit': 14067, '##kling': 18278, '##pelled': 24015, 'Eventually': 6382, 'brushing': 13398, 'Bomb': 19312, 'slung': 22056, 'Junior': 3800, 'commitment': 8268, '##ť': 28249, 'ascended': 22208, 'Pass': 9157, '##rsk': 25223, 'Corporate': 15978, 'Fairy': 18643, 'angel': 8805, 'colleagues': 8304, '##ร': 28586, 'Kenya': 7469, 'Doc': 11387, 'brass': 10488, '##disciplinary': 26096, 'artist': 2360, 'mobility': 16178, 'stunning': 15660, 'Ka': 14812, 'flowering': 11853, '##tones': 11488, 'prosperous': 20308, 'conditions': 2975, 'Elizabeth': 3019, 'Beaux': 24651, 'Archived': 10667, 'incomplete': 13975, '##urly': 25859, 'grandfather': 5112, '##rock': 10411, 'Elle': 17915, '##ggins': 27870, '##BF': 26447, 'thick': 3528, 'surprises': 22810, '##olten': 28041, 'advertising': 6437, 'missile': 8233, 'dry': 3712, 'assignments': 15799, 'No': 1302, '##asco': 15594, 'southernmost': 24608, 'ն': 521, 'toured': 6740, 'Operating': 20961, 'bell': 7315, 'Rao': 10546, 'succeeds': 24219, '##ik': 4847, 'strolled': 22271, 'bowed': 11543, '##bolic': 21022, 'banker': 15304, 'affiliate': 8563, 'improve': 4607, 'Alexei': 23378, 'honours': 12652, '##sing': 4253, 'agents': 5789, '##je': 5561, 'classmates': 22150, 'Slavic': 14331, 'Females': 27464, '⟨': 882, '##tura': 21280, 'chloride': 21256, 'convicted': 7590, 'rifles': 12385, 'emerges': 21190, '##mos': 11828, 'jeans': 5831, 'Eugène': 26689, 'Producers': 24189, '##inn': 25409, '2005': 1478, 'artifact': 24690, '##uta': 15012, 'Morrison': 9742, 'Foster': 7895, 'Housing': 11662, 'newly': 3599, 'parks': 8412, 'investigative': 19043, 'Shopping': 20372, 'coating': 20911, 'Gordon': 4345, 'watching': 2903, 'textiles': 23469, '##±': 28168, 'boycott': 21423, 'Warwickshire': 19876, 'dealings': 27223, 'Suddenly': 7935, 'Edinburgh': 5238, 'across': 1506, 'Guillaume': 21882, '##ï': 28203, 'Bai': 27900, 'Anderson': 4347, 'Labor': 6314, 'representative': 4702, 'hiding': 5797, 'discontinued': 8779, 'precursor': 15985, '##menclature': 26526, 'paperwork': 18989, '##coach': 26851, 'Spot': 28091, 'dealer': 12016, 'mosques': 26054, 'Militia': 18549, 'sitting': 2807, 'Manson': 23685, 'й': 484, 'favourite': 9122, 'movies': 5558, 'Act': 2173, 'Iran': 3398, '##ety': 20656, 'costa': 20658, 'chair': 2643, 'vocal': 5563, '##maging': 26772, 'Draft': 7060, 'Story': 5145, 'drawing': 4619, 'casting': 9616, 'founded': 1771, '##ão': 9290, '##lia': 4567, 'abandon': 11092, '##heart': 19233, 'organising': 25974, '##t': 1204, 'threats': 8657, '##reus': 27534, 'Willard': 20816, 'spheres': 23440, 'Robertson': 9693, 'Kolkata': 13895, 'preference': 12629, '##ress': 7370, 'Close': 11145, 'pleased': 7229, 'Sweden': 3865, 'admired': 13092, '##jah': 18671, 'Harding': 16294, 'golfer': 23564, 'ա': 515, '##щ': 28411, 'Alabama': 5359, '##ckers': 24138, '##venting': 27586, 'Matthew': 4754, '##go': 2758, 'Murder': 12082, 'rotting': 25407, 'Examples': 10839, 'Unity': 14996, 'Thatcher': 23300, 'Nina': 9394, '##sad': 23417, '##ல': 28580, '##sel': 11510, 'rainbow': 21489, '##ote': 11860, 'fairly': 6751, 'Internal': 13545, 'PBS': 14163, 'baths': 26066, 'Valerie': 15788, 'spans': 15533, '##nect': 21032, '##wi': 10073, 'ダ': 949, 'school': 1278, 'greatly': 5958, 'Blu': 15223, '##kushima': 27974, 'sounded': 4234, 'attitudes': 15149, 'fruit': 5735, '##aru': 19131, 'Einstein': 16127, 'Hitchcock': 21358, 'ridge': 8699, 'ὁ': 770, 'strings': 8409, 'theaters': 13090, 'volunteer': 8676, 'Arte': 20654, '##nning': 15918, 'peer': 8536, 'destroyers': 14821, '##lusion': 17855, 'deprived': 19576, 'Hadley': 23953, 'Advancement': 23827, 'Dante': 9406, 'defined': 3393, '##eton': 22273, 'amounted': 20317, 'Bills': 17651, 'squad': 4322, '##arian': 7968, 'Breaking': 20048, 'Amongst': 24693, 'Wales': 2717, '公': 991, 'rock': 2067, 'peek': 23945, '##fference': 20954, '##vial': 22319, '##gs': 5700, 'King': 1624, 'Gang': 12469, 'appliances': 26498, 'deserves': 18641, 'sequence': 4954, 'Doctor': 4157, '1913': 4325, 'dominant': 7065, 'betray': 23240, 'Rudolph': 19922, 'mom': 4113, '##ique': 5484, 'sake': 8590, 'Noel': 12309, 'announcer': 16007, 'suspects': 13928, '##cs': 6063, '##hara': 10131, 'shapes': 10724, '##ional': 12115, '##iated': 20175, 'Models': 24025, 'Byzantine': 8377, 'seed': 6478, 'supplying': 19229, 'prosecutor': 16810, '##feng': 27875, '##orama': 22968, 'du': 3840, 'remake': 13226, 'affect': 6975, 'safe': 2914, '##め': 28814, 'Peninsula': 7339, 'escape': 3359, 'reversal': 27183, 'Michaels': 19108, 'Travis': 9787, 'mounts': 22136, 'Marjorie': 23813, 'Chase': 5870, '##ves': 5710, 'Rough': 19479, 'To': 1706, 'provinces': 7112, '##+': 28135, 'defunct': 12273, 'Billboard': 4192, 'held': 1316, 'ice': 2854, 'stimulate': 26225, '##ossa': 25637, '##ལ': 28595, 'Be': 4108, '##per': 3365, 'Mart': 24341, '##ų': 28254, 'employ': 12912, 'Homer': 12353, 'chewed': 19886, '##keeper': 11953, '′': 797, 'Dixon': 11372, 'Palmer': 8450, '##Ψ': 28333, 'Quantum': 25231, 'linear': 7378, 'Bradford': 9784, 'maps': 7415, 'Rodriguez': 13711, '##gno': 25566, 'jaw': 5139, 'Revolution': 4543, 'Liza': 22483, '##bound': 8346, 'intellectuals': 19798, 'employer': 11440, 'reaches': 5965, 'magician': 22334, 'crisp': 19501, '##sla': 26597, 'RAAF': 25391, 'believes': 6616, '##reased': 20934, 'Metropolis': 26693, 'pools': 13546, '##ceipt': 27333, 'scarce': 20731, '##avan': 21714, '##士': 28901, 'René': 13368, 'consolidated': 13511, 'MVP': 12162, '##hed': 8961, 'examples': 5136, '##stan': 13946, 'scout': 14836, 'authorized': 9320, 'clinics': 20562, 'cycling': 12951, '##PM': 14808, 'likewise': 15869, '##family': 21390, '##mon': 7130, 'actions': 3721, '##byss': 24598, '##cier': 26656, '##shū': 27365, 'ideals': 16326, '##blivion': 26962, '##gy': 4873, 'terrestrial': 13669, 'shelves': 16545, 'manipulated': 22061, 'Marie': 4238, '##boats': 15980, 'tense': 8901, '##group': 16016, 'pen': 8228, 'tracking': 10066, 'Fr': 13359, 'Nigel': 13026, 'Carnival': 16902, '209': 21040, 'presentation': 8685, 'Chemical': 10957, '##mma': 12917, 'dream': 4185, 'films': 2441, 'thee': 20021, 'Cycle': 19991, 'Lennon': 14859, 'It': 1135, 'promised': 5163, 'ド': 954, '##cée': 19982, '##µ': 28170, 'reflections': 26906, 'freed': 11485, '‒': 781, 'worship': 7697, 'tragedy': 12343, 'Inquiry': 24866, 'Chad': 9578, 'extensive': 4154, '##IT': 12150, 'drowned': 14100, 'convoy': 10643, 'sailing': 9145, 'Bates': 11197, 'review': 3189, 'asked': 1455, 'partnered': 12690, '##det': 26514, '##sport': 21209, 'Glad': 27652, '##Ľ': 28231, 'Leaf': 21901, 'derby': 25851, 'organised': 6967, '•': 794, 'attracted': 5666, 'occasional': 7957, 'lived': 2077, 'farmer': 9230, '##dled': 18357, 'Tower': 5646, 'incidents': 10563, 'ugly': 10126, 'bump': 20700, '##acy': 15347, 'Archdiocese': 14873, 'dreaming': 16313, 'Tommy': 6242, '##ix': 7231, 'ass': 3919, 'Wine': 15054, 'Turin': 14283, 'several': 1317, '##ita': 5168, 'Portrait': 13954, 'ISIL': 21388, 'harp': 19960, '##100': 20150, 'lacked': 10778, 'Google': 7986, '##pop': 18299, 'intermediate': 9533, 'enjoyment': 22345, 'Sandy': 9908, 'Prescott': 22721, 'ABA': 24958, '##nac': 22636, '##aving': 19176, 'trunks': 23752, 'bravery': 19574, 'pale': 4554, '1845': 9217, '##sh': 2737, '##vade': 27923, '237': 25950, '##ifies': 9387, 'Jesus': 3766, 'caring': 12605, 'updates': 15549, '##ays': 22979, '##llon': 27351, 'supremacy': 27769, 'vibration': 20401, 'basis': 3142, '##finder': 27038, 'deposed': 19866, 'rite': 24332, 'double': 2702, 'ballot': 10713, '316': 26896, 'Jerome': 12358, 'Products': 16818, '##ael': 12060, 'cycle': 5120, 'エ': 935, 'Eliot': 17324, 'Medal': 3803, 'convention': 6765, 'Knowing': 14881, 'enhancing': 23327, 'gun': 2560, 'accidentally': 9340, '##it': 2875, '##ancy': 10413, '##med': 4611, '下': 979, 'mechanism': 6978, '##ção': 18052, 'sector': 4291, 'scanned': 11812, '##oka': 9865, 'Shen': 26197, 'Collegiate': 14329, 'growing': 2898, 'editing': 10620, 'retorted': 27022, 'private': 2029, 'Recorded': 13048, 'where': 1187, 'retired': 2623, 'recordings': 5982, 'collaborator': 20715, 'confesses': 25528, 'Yacht': 27508, 'Rhys': 14418, '##ξ': 28350, 'Greeks': 13466, 'pool': 4528, 'Mackenzie': 14519, 'se': 14516, '##₀': 18554, 'manufacturer': 7400, 'while': 1229, 'Palace': 5130, 'Going': 11099, 'supplement': 15491, '##tars': 23810, '##lora': 24171, '##rred': 16145, '##cology': 12241, 'Laos': 16765, 'filing': 16504, 'File': 25647, '##kin': 4314, 'internationally': 7460, 'advisor': 10292, 'Euro': 11854, '##net': 6097, '##心': 28920, 'Bull': 9255, 'ج': 570, '##ogan': 26843, 'Netherlands': 3706, 'admission': 10296, 'Jim': 3104, 'possibility': 5417, 'Elliott': 9657, 'registry': 25097, 'drafting': 25184, 'Zack': 14064, 'Bradshaw': 26608, 'summon': 21147, 'hampered': 25454, '##oga': 23282, 'midfielder': 8852, 'uploaded': 23661, 'swiftly': 12476, 'officially': 3184, 'Boone': 15753, '73': 5766, 'concluding': 17875, 'encountered': 8181, '##cht': 9817, 'individually': 15473, 'Ghent': 27270, 'supermarket': 20247, 'Con': 16752, 'Strauss': 17448, 'Garion': 12696, '##berries': 22630, '##ser': 6906, '##lino': 26340, 'menacing': 27242, 'stallion': 24434, 'modelling': 23741, '##ு': 28584, 'Reporter': 18096, '##hem': 15391, 'hut': 16148, '亻': 986, '##sford': 20176, 'Appearances': 24012, 'Down': 5245, 'emphasized': 13463, 'rhythmic': 17732, '##kker': 27587, '##rits': 26846, 'telecommunications': 17955, '20th': 3116, 'rigorous': 22112, 'ô': 266, '1853': 8562, 'forge': 26621, 'properties': 4625, '1843': 9869, 'Sue': 11728, 'Much': 6335, '##hium': 23649, 'lands': 4508, '##ris': 4889, 'Butterfly': 21494, 'bordering': 20268, '##rsa': 24129, 'corporate': 6214, 'stall': 15523, 'blew': 8390, 'butcher': 26087, 'incentives': 24273, 'Fin': 19140, 'wallet': 17364, 'Uttar': 15670, 'ب': 566, 'infrastructure': 6557, '##bria': 24911, '்': 682, '##ière': 19999, 'That': 1337, 'Soundtrack': 22349, 'rug': 23458, 'Daniels': 13549, 'Gift': 22889, 'rider': 10604, 'expands': 27903, 'approximation': 22519, '##ept': 15384, 'metaphor': 21927, '##iding': 26313, '##ndo': 13645, 'mercy': 12801, '##WI': 25190, 'fault': 6088, 'Pa': 19585, 'fastest': 7901, 'Gaga': 26936, 'Cecil': 12091, 'Iberian': 24381, 'reluctantly': 12306, 'grandparents': 15313, '##jn': 22923, 'Boeing': 10178, 'suits': 11449, 'attorneys': 19724, '##‚': 28690, 'inflicted': 18567, 'effectiveness': 12949, 'stuff': 4333, 'satellite': 5989, 'Violet': 10826, 'lifting': 9219, 'Tacoma': 25588, 'be': 1129, 'accompanied': 4977, '##dt': 12518, 'qualified': 4452, 'prestigious': 8593, 'colonists': 16897, 'grinding': 17959, '##tree': 14750, '##ụ': 28661, '##root': 27906, '1945': 2481, 'grins': 22317, 'Chico': 25353, '##uation': 10255, 'vital': 9301, 'chiefly': 17118, 'terrible': 6434, '##mind': 22448, 'ờ': 757, 'marijuana': 18816, 'aggressively': 27933, '##alog': 20151, 'faintly': 20525, 'Sam': 2687, '##fried': 13762, '##ugs': 22188, 'Key': 7443, 'features': 1956, 'older': 2214, 'tournament': 2348, 'Unless': 12998, '##nts': 5240, 'artillery': 6201, '##bankment': 25306, 'ad': 8050, 'declined': 5799, 'Bible': 5905, '##pps': 21509, 'investing': 23379, 'Dolphins': 19112, 'grounded': 18395, 'producer': 2451, 'expert': 6640, 'rejected': 5164, 'Student': 7646, 'Chandra': 17595, 'shattered': 11670, '##urn': 17384, '##ж': 28397, 'ট': 647, 'Malawi': 19597, 'dumped': 14632, 'Sultan': 7931, 'poses': 25366, 'Jamal': 27440, '##action': 15022, 'collaboration': 5294, 'Picasso': 24979, 'León': 14020, 'hips': 6138, 'Hindu': 7083, 'Sergey': 25252, 'worse': 4146, '##rong': 16822, 'prior': 2988, 'Tito': 22754, 'hey': 23998, '##gment': 14294, '##ₑ': 28721, '¿': 225, '##ice': 4396, '##hab': 17266, 'Emeritus': 18212, 'profiles': 21138, '##dives': 27943, 'Networks': 16942, 'coaching': 7600, 'reflective': 24449, 'Gabe': 13123, 'Clair': 19699, 'track': 1854, '120': 5356, '##lis': 6137, '##SD': 15203, 'Louie': 18676, 'Economy': 14592, 'picked': 3015, 'Keep': 7947, 'aft': 18616, 'Faith': 8463, 'italics': 24042, 'Tango': 25978, 'Devin': 26935, '##ucci': 15072, 'electricity': 6495, 'conservation': 7472, 'Bright': 13603, '##udge': 17717, 'Barrow': 17857, 'terrifying': 18625, 'approval': 5684, 'Kid': 9847, '##mass': 23749, '##mental': 15595, '##puram': 19246, 'mineral': 10956, 'permitted': 7485, 'Yankee': 19045, 'Jeffrey': 10708, 'mollusk': 13641, 'copied': 16804, '##pack': 27569, 'vector': 9479, 'reminded': 6393, '##מ': 28458, '##ness': 1757, '##iu': 19009, 'triggered': 13746, '×': 240, 'Treasure': 18022, 'twice': 3059, 'Groups': 18744, 'Burger': 24435, 'morphology': 22740, 'govern': 23633, 'Giuseppe': 12752, '##dridge': 23760, 'decorations': 15707, 'flick': 22302, '##case': 14083, 'advocate': 9411, 'paste': 24854, '##ō': 4587, 'exhibition': 4627, '##er': 1200, 'belongings': 21924, '##gill': 20254, '410': 20818, 'monarch': 14390, '##gli': 23655, 'interdisciplinary': 24568, 'drink': 3668, '##Л': 28376, '##Д': 28370, 'perhaps': 3229, '##atch': 25095, 'higher': 2299, 'cheated': 25695, '##AN': 14962, 'Industries': 10699, 'reception': 7602, '##ife': 24603, 'clue': 9956, 'subset': 18005, 'Traditionally': 19324, 'incorporated': 4572, '2007': 1384, 'smelled': 9317, 'affiliation': 13494, '##gg': 9705, 'Waste': 27124, 'superb': 25876, 'Beer': 16380, 'verdict': 16023, 'Ken': 5928, '##SC': 10844, 'crossings': 24605, 'vary': 7907, 'descended': 9026, 'Capitol': 9838, '##odes': 19419, 'awesome': 14918, 'conspicuous': 21382, 'credited': 5175, 'con': 14255, '##onda': 25323, 'briefcase': 24477, '##eer': 8284, 'takeoff': 22149, 'Dust': 20180, '##nath': 16586, 'Pietro': 16413, 'encounters': 12270, '##cultural': 19418, '1799': 14287, 'Crossing': 16188, '##holders': 17818, '##agu': 28026, 'perennial': 15894, 'chalk': 23410, 'Long': 3261, 'Annals': 22509, '##lux': 24796, 'Roller': 27957, '##egation': 24097, 'mud': 9052, 'remembering': 11566, '##EE': 27073, 'questioned': 8449, 'Prague': 8254, '##retta': 19781, 'chin': 5144, 'Citation': 17028, '##llas': 23975, 'Tracks': 11444, 'consuming': 16114, 'Medical': 3875, 'lions': 20050, '##ilton': 21970, 'meditation': 16910, 'MB': 19443, 'U2': 26148, 'corrected': 13808, 'management': 2635, '2010': 1333, 'viewers': 6827, 'Mother': 4872, '##versible': 24582, 'goats': 21235, 'ث': 569, 'swelling': 20085, '##lynn': 26750, 'classification': 5393, 'イ': 933, '##uc': 21977, 'Kung': 24120, 'Barrett': 12908, 'connect': 7543, '[unused95]': 95, 'racing': 3915, 'structural': 8649, '##isms': 16762, '##ís': 16928, '##mmy': 16211, '490': 24680, '##ེ': 28599, '##ryl': 19944, '40th': 17583, 'coil': 20614, 'Sources': 22656, 'Lucia': 13625, '##cu': 10182, 'nods': 11294, 'Da': 10136, 'feathers': 13311, '##koto': 27710, 'digit': 16521, 'Maxwell': 10593, '##nie': 5213, '##bright': 17736, 'congregations': 19215, 'spies': 21761, 'Clarke': 7949, '##tos': 11990, 'grimaced': 20663, 'Bremen': 17339, 'introduce': 8698, 'achievement': 8337, '##rang': 22081, 'witches': 15400, 'Ring': 8467, 'Airfield': 17858, 'Slam': 14923, '##55': 25491, 'this': 1142, 'spark': 14798, 'surrender': 7906, '2': 123, 'Northern': 2579, '##ander': 9900, 'Unix': 27272, 'medication': 15683, '陽': 1082, 'comes': 2502, 'Mansion': 18239, '##kman': 27776, '##air': 8341, '##pts': 12024, '##rns': 20163, 'Brian': 3579, 'rotated': 23050, '##oese': 25719, 'killed': 1841, 'William': 1613, '##eration': 17166, '##wy': 17953, '1984': 2219, 'ז': 541, 'explanations': 19940, '##nent': 21222, 'psychology': 8874, 'technology': 2815, 'consonants': 21972, 'x': 193, 'Swan': 11956, 'Flash': 12346, '##va': 2497, 'Shi': 14104, 'kit': 11622, '##gger': 9146, 'check': 4031, 'thunder': 17209, '##chester': 17824, 'kicking': 10710, 'Telephone': 22580, '##ē': 28219, '##ம': 28577, 'slaves': 6864, 'Tours': 20529, '173': 21121, 'Far': 8040, 'amounts': 7919, 'diabetes': 17972, 'Dream': 6525, 'interred': 14432, 'resigned': 4603, '228': 24618, 'corn': 11184, 'Giants': 7783, '##φ': 28357, 'mainland': 8684, 'Cedar': 14157, 'pointed': 3356, 'Shan': 20642, 'monarchy': 14358, '##ifications': 25583, '##dman': 22535, 'Finnish': 6389, 'table': 1952, 'Wildcats': 21992, '方': 1032, 'City': 1392, '##victed': 26893, 'scooted': 27306, 'privilege': 15641, 'ু': 666, 'Northamptonshire': 23518, 'promises': 11323, 'exercise': 6730, '##yama': 11418, 'Houston': 4666, 'German': 1528, '##nsky': 22226, 'threat': 4433, '##15': 16337, 'Bird': 8258, '##東': 28935, 'Daly': 20058, '##dder': 19541, 'Pepper': 19278, 'gatherings': 24246, 'Interest': 17067, 'nevertheless': 12341, '##cter': 25857, 'Vice': 4070, 'reflect': 7977, 'assaulted': 18877, 'additions': 14101, '##ize': 3708, 'grass': 5282, '##rator': 11412, 'realizing': 10459, 'Son': 6913, 'spin': 6898, '##tem': 18408, 'India': 1726, '##won': 16732, '66': 5046, '##chtenstein': 23561, 'flee': 10556, '##itude': 13691, 'mesh': 24000, 'parents': 2153, 'shows': 2196, 'Dave': 4111, 'composers': 11146, 'sights': 17504, '##genic': 19438, 'Groove': 26291, 'jacket': 6227, '##zoic': 23020, 'Hare': 18146, '##dling': 21869, 'Hawk': 11906, '##9th': 22900, 'Let': 2421, '##unds': 20408, 'sanitation': 23353, 'handling': 8130, '##pository': 24454, 'dress': 3642, '##orax': 25632, 'Raven': 11520, 'rescued': 10043, '##rts': 13245, 'NDP': 24245, '##logical': 7810, '2004': 1516, 'writings': 7961, '##oy': 7341, '##rrows': 24847, '##氏': 28940, 'programming': 4159, 'Slim': 22191, '##itz': 8976, '##র': 28560, 'Done': 24243, '##lying': 15318, 'constitutes': 18592, 'insertion': 27914, 'Electrical': 13779, '##gin': 10533, 'Irene': 13524, 'computational': 19903, 'Upper': 5454, 'expectations': 11471, 'Den': 14760, 'drummer': 6924, 'đ': 288, 'messages': 7416, 'frescoes': 26990, 'handsome': 8542, '##alty': 21733, 'Doncaster': 20474, 'Easy': 12167, '°C': 5702, 'Madame': 10889, '##ity': 1785, '##–': 28684, 'Pearson': 13079, 'Harmony': 17859, 'honour': 6565, 'objectives': 11350, 'freight': 8872, 'stunt': 18151, '##orn': 8456, 'carpenter': 25169, 'Especially': 11008, 'better': 1618, 'subfamily': 11548, '##ield': 12350, 'ban': 8214, 'hinted': 24094, 'Alec': 9596, '##beat': 14262, '##tten': 25990, '##★': 28767, '##urt': 12549, '##over': 5909, 'augmented': 22337, 'information': 1869, 'identify': 6183, '##oli': 11014, 'native': 2900, 'wearing': 3351, '162': 19163, 'denominations': 18857, 'Goodwin': 21693, '##sets': 27948, 'bladder': 28083, '##ams': 18450, 'composure': 26715, 'Gdańsk': 26198, 'explored': 10581, '##lesh': 27548, 'rats': 13475, 'murals': 21589, 'Buccaneers': 24751, 'IPA': 27925, 'priests': 8778, 'contingent': 17286, 'disco': 19959, 'hurried': 9246, 'capability': 11137, 'sat': 2068, 'featuring': 3022, 'blacks': 14892, 'hardest': 20773, 'greenish': 26953, 'procedures': 8826, 'market': 2319, 'tilting': 26954, 'Kashmir': 13705, 'phenomenon': 9501, 'Matters': 26764, 'Come': 3435, 'united': 10280, 'entertained': 23745, 'Clinic': 18601, '♣': 877, 'boxing': 10568, 'Materials': 19591, 'Yoga': 25035, 'sophomore': 14982, '190': 11876, 'works': 1759, 'Yale': 7534, 'memoirs': 18171, '##mentary': 27533, 'Chain': 19589, 'inverted': 22996, '##井': 28876, 'maximum': 4177, '##bot': 19937, 'lose': 3857, '##tring': 28108, '##loping': 20842, 'Keeper': 24057, 'crater': 12742, 'identified': 3626, 'activist': 7041, 'wrestler': 11113, 'Pi': 21902, 'disturb': 26886, '##old': 11015, '##bill': 26839, 'ர': 676, 'ours': 17079, 'excited': 7215, 'Occasionally': 22616, 'withdrawal': 10602, 'poem': 5510, 'intelligence': 4810, 'Zach': 12573, 'renowned': 7985, 'Trials': 21373, 'Exeter': 13071, '##rouse': 26413, 'marketing': 6213, '##ʂ': 28288, 'sweep': 12245, 'Étienne': 26276, 'Orchard': 23939, 'Recordings': 13111, 'Nathan': 6578, 'satirical': 18703, '##metry': 21027, 'pharmacy': 22759, 'founder': 3249, 'Where': 2777, 'Slovak': 12984, '##vy': 7170, '##mington': 21199, 'Estonian': 12127, 'snack': 23029, 'jam': 17462, '##宮': 28910, 'granted': 3609, 'lights': 4204, 'river': 2186, 'Qi': 24357, 'role': 1648, '##kovic': 22953, 'э': 504, 'shimmering': 25378, 'women': 1535, '##DP': 13339, 'seems': 3093, 'eighteenth': 14772, '##morandum': 22251, 'Poll': 24619, 'roughly': 4986, 'McCartney': 16116, '##zan': 14883, 'economically': 16682, 'expulsion': 20854, 'multi': 4321, '##aunt': 24747, 'Dinamo': 24780, 'stylized': 21527, 'doi': 9465, 'apartheid': 23062, 'packets': 27284, 'Denver': 7068, 'scheduling': 22784, '1964': 2668, '小': 1019, '1767': 23714, 'dozen': 5955, 'concerns': 5365, 'Grimm': 27354, 'Paramount': 13739, 'Association': 1791, 'Spartan': 24338, 'sobbing': 22568, 'establishing': 7046, 'homosexual': 17377, 'Hands': 13719, 'scraped': 22384, 'bony': 26647, 'decade': 4967, 'mistress': 14198, '##last': 19268, 'reward': 10703, 'Garland': 20119, 'tumbling': 25441, '[unused59]': 59, 'sly': 27912, 'Internationale': 25807, '##ɣ': 28281, 'Carmichael': 26322, 'trapping': 26452, 'end': 1322, 'sentiments': 27282, '##rms': 19995, 'Released': 11930, 'Eleven': 15159, 'gleaming': 20353, '##ab': 6639, 'submitted': 7402, 'healed': 15884, 'arise': 14368, 'texted': 27807, 'clock': 4705, 'segregation': 21079, '##17': 16770, 'rubbing': 10365, 'pausing': 25494, 'relaxation': 27475, 'company': 1419, 'neighbors': 11209, 'redesigned': 18382, '##ogged': 24009, 'Redskins': 18811, 'integrating': 26975, 'sober': 20040, 'Freddy': 21051, 'Swansea': 17057, 'answering': 10937, 'etched': 22526, '##cute': 23987, 'Pace': 24622, '##lin': 2836, '##tov': 25918, 'Aden': 17533, '##onal': 24059, 'watched': 2542, 'burned': 4562, '##mara': 20377, 'ợ': 758, 'Indianapolis': 9205, 'Section': 6177, 'furnace': 23188, '161': 18563, 'prevalence': 22760, 'fibers': 18064, '##IG': 23413, 'Guam': 17256, '##pile': 24898, 'Retired': 14454, 'Bury': 19390, 'pass': 2789, 'Woman': 5651, 'Rob': 6284, 'laptop': 12574, 'ft': 2167, 'environmental': 4801, 'monitored': 19232, 'Qualifier': 15408, 'Strip': 18534, '##CO': 15678, 'cancellation': 18360, 'novelty': 25310, 'Île': 27756, 'launch': 4286, 'Dodd': 23443, '1990': 1997, 'ǎ': 344, 'beast': 8839, 'chromosome': 18697, 'veins': 9485, 'seize': 16414, 'Jaya': 27368, 'Glass': 9357, 'Scott': 2796, '##hay': 24368, 'Joyce': 11882, 'coined': 13674, '##史': 28891, '##nh': 15624, 'At': 1335, '##oshi': 22437, 'nape': 26808, 'Courthouse': 20243, 'Official': 9018, '[unused67]': 67, '##alaya': 27399, '##ends': 22367, '##ा': 28531, 'Killer': 14613, 'Pier': 17006, '##runner': 14627, 'Gibson': 9096, '##ibly': 15298, 'Coalition': 10651, 'launching': 12611, 'Santana': 23396, '##rrogance': 27457, 'branch': 3392, 'Economic': 6051, 'honeymoon': 25619, '##30': 13144, '##film': 25340, '1804': 13419, 'funeral': 6594, 'lyrics': 4017, 'alarm': 8819, '##Dowell': 24316, 'Spurs': 25725, 'hearts': 12261, 'magic': 3974, 'Ying': 26446, 'belief': 6369, 'decision': 2383, 'capitalist': 22886, 'undrafted': 24467, 'veil': 20945, 'revoked': 25538, 'ii': 25550, 'amalgamation': 25016, '##ali': 10584, 'leased': 12222, 'accordingly': 17472, 'dragon': 7556, 'aid': 4256, 'growled': 8518, 'affected': 4634, '##vasive': 25007, 'With': 1556, 'mandate': 13515, 'List': 5619, '##mott': 27374, 'mat': 22591, 'Qatar': 12778, 'A2': 25621, 'distinctive': 7884, 'Garth': 23988, 'yourself': 3739, '##年': 28919, 'Naked': 21838, 'strict': 9382, '##Z': 5301, 'container': 12461, 'belly': 7413, 'shelters': 18833, 'Properties': 25420, 'cat': 5855, '175': 13057, 'descend': 20649, 'Brasil': 23381, '##sto': 12223, '##e': 1162, 'outsider': 26948, 'Rochester': 10425, '##rrosion': 27741, '##structure': 25198, 'answers': 6615, '##gible': 12192, 'sorts': 12072, 'probably': 1930, 'ོ': 697, 'flush': 14991, 'battleships': 24392, '##rgus': 24200, 'roller': 14167, 'Nokia': 24547, 'Timothy': 10746, 'Southwestern': 22557, 'Milne': 27458, '##⁵': 28705, '##mes': 6801, 'Meg': 13322, '[unused10]': 10, 'ֵ': 529, '##lasp': 25552, 'Nuevo': 26118, '##rick': 8053, 'professor': 3083, '##culate': 24029, 'disease': 3653, '95': 4573, 'object': 4231, 'floated': 14146, '##bial': 23467, 'fulfilling': 24560, 'Ave': 15057, 'poison': 11539, '##ada': 7971, '##tista': 25645, 'slaughtered': 26071, 'Ally': 22529, '134': 15917, 'diverse': 7188, '##Î': 28189, 'has': 1144, 'compilation': 5983, 'partners': 6449, 'Monica': 8958, 'Popular': 10106, 'counselor': 23550, 'Horse': 7429, 'Ludwig': 10143, 'polymer': 21176, 'module': 13196, 'Bobby': 5545, 'ordeal': 27768, 'decks': 22444, '##lidae': 22999, 'hesitated': 9051, '##mpo': 24729, 'Crimean': 22442, 'Angela': 10516, '##cles': 17566, '##iek': 24324, 'Antioch': 20755, 'soils': 14479, 'Rowing': 21480, 'UP': 19753, '##fies': 16847, 'unopposed': 18508, 'Monmouth': 22342, '1830s': 22286, 'unknown': 3655, 'describing': 7645, 'Sheldon': 21084, '##uxe': 26731, 'stubborn': 15437, '##rde': 14407, 'People': 2563, 'ordained': 9492, 'occupations': 27837, 'possibly': 3566, '##eli': 21091, '##ably': 5382, 'Mosque': 16815, '##horse': 16336, 'sets': 3741, '##6': 1545, 'scoring': 3859, 'grabbed': 3182, 'ğ': 293, 'politics': 4039, 'mail': 6346, '##prise': 16874, 'initiation': 21252, 'mistakenly': 22893, 'ownership': 5582, 'vitamin': 23971, 'Our': 3458, '##liers': 12996, 'te': 21359, 'violet': 19193, 'mention': 4734, 'Canada': 1803, 'guarantees': 24512, '##icle': 26726, 'prayer': 8070, 'shield': 7292, 'species': 1530, 'elements': 3050, 'assertion': 26878, 'utilizing': 19105, 'criminals': 13037, 'reissued': 16129, 'program': 1788, 'downward': 14833, 'surveyed': 13186, 'eventually': 2028, 'weaknesses': 24417, 'Greg': 6155, 'practiced': 8720, 'Purple': 13773, '##spur': 25047, 'computers': 7565, 'posthumously': 13165, 'invite': 13967, 'connects': 8200, 'utility': 10345, '##ús': 22521, 'fluid': 8240, 'mit': 26410, '301': 20785, 'fortress': 9270, 'husbands': 23197, '##ssen': 12789, '##oh': 10559, 'algebraic': 19669, 'build': 3076, 'Ethics': 17475, '##MF': 18586, 'runoff': 21814, '##↑': 28739, '##RP': 20336, '##ist': 1776, '1825': 11377, 'battled': 21600, 'Oliveira': 27283, '##ئ': 28474, 'Solomon': 8848, 'halves': 26853, '##dford': 24020, 'Quite': 22597, '##rrer': 26875, 'portrays': 18801, 'pushed': 2873, 'slid': 4144, 'transmission': 6580, '##leader': 20547, '3rd': 2973, '##sol': 24313, 'waving': 12502, 'capitals': 24199, 'afford': 8658, 'Amsterdam': 7101, '##რ': 28607, 'Led': 18657, '##aver': 18195, '##azar': 25329, 'Aunt': 8416, '##rings': 23961, 'Carbon': 23603, 'ethics': 13438, '##tsky': 26244, '##code': 13775, 'sandwiches': 25326, '235': 19152, 'Leon': 8393, '##rial': 13119, 'assisting': 15196, '800': 4645, 'Hans': 6458, 'emigrated': 11384, 'deception': 22551, '##я': 14800, 'ensured': 17349, '##say': 27911, 'Springfield': 10363, 'Advertising': 25010, '##mé': 25729, 'bearings': 24734, 'Ben': 3096, 'Plains': 12386, '##uity': 21028, 'Clay': 7592, 'Mama': 11275, 'corps': 9389, 'dip': 20866, 'orchid': 20468, '##MS': 7182, 'asset': 13274, 'Spike': 12901, 'definite': 16428, 'maize': 26114, '##vation': 11583, 'mound': 14858, '[unused34]': 34, 'attributes': 12745, '##time': 4974, '』': 892, 'pilot': 3955, '##দ': 28553, 'Comet': 28088, '##guin': 25913, 'rendered': 10029, 'hot': 2633, 'objections': 19072, 'championship': 2899, 'unrelated': 16037, 'specialised': 18768, 'vaccine': 20034, 'Whig': 24159, 'Reeve': 26034, 'hung': 4629, 'summary': 14940, 'patron': 10063, '##प': 28519, '##夫': 28905, 'Koreans': 27757, 'reactor': 15056, 'uprising': 13034, 'Pereira': 26780, 'doctors': 8114, 'trusted': 9373, 'ballads': 25303, 'handed': 3541, '##lson': 15590, 'Georgie': 22186, 'External': 22841, 'Gorge': 26496, 'supporting': 4374, 'Christine': 10918, 'billion': 3775, 'Howell': 19929, '196': 21846, 'abuses': 23711, 'disapproval': 23868, '1803': 12838, '##ures': 10374, '##bate': 13859, 'Noah': 6727, '1962': 2832, '##bari': 25964, 'financial': 2798, '##nosis': 27078, 'Moss': 13626, 'Overseas': 18624, 'bundle': 15119, 'risk': 3187, 'Wendell': 27628, 'wells': 16998, 'Piper': 12558, 'Igor': 15293, 'stay': 2215, 'insulted': 26984, '##raw': 28115, 'constituent': 17962, 'intentions': 11489, 'spanned': 19606, 'satisfying': 18330, '##llin': 23824, 'Connolly': 23110, 'Rescue': 13152, 'Pike': 14997, 'ISSN': 26273, 'saved': 4987, 'Alpha': 8461, '##achal': 26992, ']': 166, '##gum': 19524, 'Я': 474, 'Two': 1960, 'Dorothy': 9771, 'Jen': 16705, 'Soap': 26019, '##hey': 24679, 'reddish': 15200, 'halted': 12919, '##ttering': 20809, 'Orléans': 27094, 'upstairs': 8829, '##inating': 18233, 'observatory': 23014, 'hazardous': 20981, 'utilizes': 24242, 'interpreted': 9829, 'Inside': 7323, 'revealing': 8387, 'pursue': 6799, 'navy': 9466, 'rose': 3152, '##classified': 23916, 'patrols': 15803, '##tok': 18290, 'hostess': 28053, 'Rama': 15078, '##igma': 25548, 'hub': 10960, 'Scottish': 3250, 'Creative': 10963, '##ff': 3101, '##MM': 25290, 'kidnap': 25969, 'Wight': 23721, '##vied': 26889, 'research': 1844, '##jo': 5077, 'о': 489, 'Leaning': 24838, 'Barbados': 18010, '##М': 28377, '##toria': 14155, '660': 23045, 'sphere': 11036, 'Nicola': 18634, 'Card': 10103, 'Bangor': 24236, 'interpreter': 23102, 'ハ': 957, 'tighten': 23847, '##berger': 13184, '##iman': 25512, 'crop': 10809, 'represented': 2533, '##cius': 24869, '##গ': 28546, 'capacities': 23522, '[unused94]': 94, '##father': 16064, '##ural': 12602, 'genus': 2804, 'wood': 3591, '##stein': 7879, 'Brenda': 16400, 'conceptual': 20046, 'endings': 25289, 'Woody': 17709, '##minster': 27057, '##<': 28142, 'turrets': 23422, 'ラ': 968, '##bit': 9208, 'Membership': 25280, 'Wells': 7909, 'Crown': 5373, 'Source': 5313, 'World': 1291, '##valent': 24709, 'revolt': 11733, 'poor': 2869, 'forehead': 5462, '##ip': 9717, 'Antoine': 12612, 'drainage': 12779, 'ی': 603, 'њ': 511, '##nery': 16227, 'practice': 2415, 'geological': 16622, '155': 14691, '^': 167, '##wning': 18469, 'IAAF': 23398, 'Mace': 28013, 'Archbishop': 6785, 'Turtle': 26024, '##ides': 8959, 'Reformation': 16746, 'ballad': 15000, 'Martínez': 17021, 'Ko': 19892, 'troop': 14768, 'relevant': 7503, '255': 22589, 'Watford': 24019, 'mythical': 22766, 'southwest': 5090, 'Silence': 12939, 'tap': 12999, 'Pound': 28033, 'predictions': 23770, 'unofficial': 12695, '##roving': 20620, 'Melville': 21969, 'doubles': 7952, 'Kamen': 24932, '##≈': 28754, 'caucus': 27690, '##τ': 28355, 'abdominal': 24716, 'Sixth': 12979, '285': 24053, 'baby': 2963, 'Roland': 7847, 'Elliot': 11825, 'Fortress': 17661, 'shoved': 6958, 'Nielsen': 13491, 'intersection': 6326, '##ittle': 26775, 'rush': 6274, 'robes': 19918, 'bounds': 22379, '##rouch': 22454, 'Quaker': 20536, 'Sylvia': 13738, '##seau': 24405, '43': 3887, '##riff': 17387, '##ņ': 28234, '[unused30]': 30, 'sampled': 20744, 'א': 535, 'upset': 5737, 'Register': 4273, '##ạ': 28640, 'classic': 5263, 'amenities': 23134, 'carriage': 9362, '##ple': 7136, 'workshops': 10158, '151': 17576, 'damages': 12947, '武': 1046, 'Judd': 21971, '##derman': 17951, 'awkwardly': 20714, 'fungus': 18142, 'algorithms': 14975, 'damage': 3290, 'rebuilt': 6669, 'utilized': 12750, '##has': 16481, 'parishes': 12131, 'Master': 3257, 'fiber': 12753, 'Borneo': 16640, 'shakes': 11075, 'Higher': 7715, '##藤': 28962, 'ion': 14469, 'career': 1578, '##lder': 16184, 'Amateur': 11126, 'Lviv': 26681, 'locker': 13804, '##beth': 16100, 'Gill': 13896, 'boasted': 26072, 'vicious': 16094, 'screened': 12468, 'yelled': 7089, '113': 12206, 'reared': 26235, '##ntin': 26728, 'Huddersfield': 21456, '##uise': 15456, '##uchi': 16643, 'auditorium': 16280, 'deer': 10064, 'Syria': 7303, '##BI': 24963, 'snout': 18924, 'cruelty': 22125, '##itrus': 22220, 'reelection': 18955, 'contains': 2515, 'Eton': 24085, 'Institutes': 24496, 'MCA': 24955, 'Myra': 25771, '>': 135, 'Money': 8948, 'collaborating': 23365, 'Levi': 12388, 'induction': 18293, 'Uncle': 7612, 'procession': 16018, 'exiled': 15116, 'prayers': 13865, 'Walking': 13181, 'Ross': 5104, 'punching': 21899, '##alytic': 23672, '##itarian': 12403, '##ibel': 23764, 'sidewalk': 12447, 'markets': 5809, '##jay': 16860, 'cancel': 19722, '##lta': 23934, '435': 27079, 'supports': 6253, 'Albums': 9106, '##Ș': 28271, '##⁄': 28701, 'tuned': 17169, 'venue': 6590, 'switched': 6759, '##dened': 20639, '##ي': 16070, '##zione': 23316, 'Cody': 13667, 'Tactical': 14379, 'ʻ': 380, 'Damian': 22945, 'Netflix': 22989, 'directly': 2626, 'alongside': 3338, 'stands': 4061, 'forefront': 26325, 'believers': 26584, 'Deck': 26769, 'Global': 5357, 'acclaimed': 10214, 'bees': 18568, 'ﬁ': 1094, 'Administrative': 14275, 'evaluate': 17459, '##hm': 18208, '##ining': 16534, 'emissions': 12349, '##box': 8757, 'interactive': 12196, 'opposing': 10137, 'counting': 11128, 'him': 1140, 'Mindanao': 26576, 'built': 1434, 'House': 1585, 'Hutchinson': 18322, 'communists': 21752, 'Ryder': 11779, 'mandolin': 21142, 'wraps': 21738, 'Š': 322, '##た': 28801, 'entitled': 3909, 'Point': 4221, 'Trees': 20857, 'broker': 24535, 'easier': 5477, 'motioned': 13325, 'naval': 5527, 'rocky': 10987, 'NASCAR': 11924, '##ING': 15740, 'Hastings': 12446, 'Navarre': 23411, 'Camp': 5503, 'Hunting': 25330, '##inder': 23216, '##zar': 8950, '##DR': 17308, 'Ramon': 19437, 'reason': 2255, 'yes': 4208, '##ughter': 26760, 'Thai': 6888, 'formulation': 22661, 'Liberia': 19427, '##ducted': 23087, '##rous': 13149, 'nudged': 20225, 'strips': 13507, 'synagogue': 17452, 'Scarlet': 17137, 'Tyne': 19064, 'Lennox': 23157, '1906': 4782, '1823': 12683, 'Simple': 16896, 'repeating': 16590, '##rchy': 17908, 'Algeria': 11347, 'speeding': 24485, 'Earl': 4008, 'Michele': 18493, 'spontaneous': 20061, '##oo': 5658, 'Noelle': 25425, 'Seattle': 5160, 'sixty': 9229, 'parliamentary': 6774, '##!': 28125, '##ender': 15981, '##pp': 8661, 'premises': 10330, 'battery': 7105, 'commissioners': 22207, '##ç': 28201, '##uay': 19925, 'ideal': 7891, '##tum': 8928, 'Heather': 9644, 'Santa': 3364, '##cts': 15585, 'д': 479, 'posture': 18229, 'reopened': 11996, 'sneaking': 23879, '##yla': 22948, 'Angry': 24991, 'adjust': 14878, '##ե': 28426, 'Charlie': 4117, 'Konstantin': 26956, 'AAA': 13807, 'pull': 3373, 'addition': 1901, 'Robbie': 12751, 'certified': 7720, 'fuel': 4251, 'Cell': 17369, '॥': 636, 'Mateo': 21131, '1783': 16110, 'flowed': 13565, 'manages': 8701, 'stamps': 13321, 'Merrill': 17247, 'ᵣ': 721, '390': 21830, 'advocates': 15193, 'accent': 9603, 'versions': 3827, '##mand': 20993, 'Handicap': 25597, '##द': 28516, '##⇌': 28742, 'Turkish': 4229, '##physics': 18256, 'philanthropist': 16581, 'Survival': 26849, '##proof': 20324, 'Ingrid': 24665, 'Exchange': 7855, 'Worcester': 12710, '##ד': 28448, '##R': 2069, 'et': 3084, '##awa': 10946, 'inquiry': 12064, 'symphony': 19395, 'linking': 11723, 'scripts': 15690, 'hazards': 26302, 'USAF': 20010, '##rite': 10587, 'Judges': 21312, 'versa': 21003, '়': 662, 'dog': 3676, '##apa': 26519, 'publication': 4128, '290': 18374, '##』': 28785, 'ּ': 534, 'Little': 2743, 'engined': 23391, 'Support': 8704, 'Controller': 28104, 'ultimate': 10010, 'cocked': 13555, 'voters': 7179, 'risky': 22185, 'chassis': 12291, 'unidentified': 23734, '##leton': 19979, '##皇': 28952, 'contractor': 14825, '##uminous': 21376, '史': 998, 'box': 2884, 'Welcome': 12050, 'synthesizer': 15258, '##ulture': 15936, 'she': 1131, 'publisher': 6654, '##eas': 14517, '##nor': 13523, '##ʼ': 28302, 'prefer': 9353, '##ests': 27838, 'Amelia': 11691, '1792': 13747, '160': 7690, '##tto': 8849, 'Charlotte': 5204, 'suppress': 17203, 'Bihar': 17301, 'insect': 15754, '##ˣ': 28309, 'Na': 11896, 'trafficking': 12589, 'reorganization': 19990, 'junk': 22323, 'Automatic': 24842, '205': 17342, 'golf': 7135, 'message': 3802, 'humour': 19311, '##Ö': 28192, 'advantage': 4316, 'Webb': 10894, '##bling': 6647, '1821': 11749, 'somehow': 5006, '##IC': 9741, 'demise': 14353, 'ề': 746, '##oon': 6931, 'Post': 3799, 'Blaine': 21849, '##citation': 24214, 'Officer': 4124, 'ा': 628, '##utz': 27578, 'abstract': 11108, 'Hook': 15867, 'Experiment': 28009, 'salon': 20310, 'Alexis': 14008, 'nmi': 25587, '##about': 20230, 'sue': 25762, '##ience': 16457, 'Indeed': 10364, 'pigs': 18348, 'Focus': 18176, 'Peruvian': 16289, 'broadband': 26577, '##nant': 14618, '##oni': 11153, 'dairy': 14874, 'Vilnius': 22440, 'boxes': 8171, 'Primary': 6933, 'Peel': 18961, 'Sicily': 12180, 'Stein': 14981, 'pendant': 26790, 'Mathews': 25957, 'organization': 2369, 'calculation': 19218, '[unused14]': 14, 'Cape': 4343, 'meeting': 2309, 'tank': 4890, 'variable': 7898, '##nagar': 14734, 'disappointed': 9333, '130': 7029, '##kind': 17215, 'spa': 22620, 'throws': 11784, '##ou': 6094, 'テ': 951, '##pressing': 24956, '##ש': 28467, '##Đ': 28217, 'GT': 14965, '##nological': 22176, 'Airbus': 23002, 'ballistic': 24244, 'sustainability': 20598, 'boundaries': 7070, 'Lesley': 26801, '##Н': 28378, 'traders': 14552, 'uniforms': 11620, 'exterior': 8786, 'prosecution': 12369, 'decide': 4958, 'permanently': 8321, 'Therapy': 23789, 'downed': 22189, 'Laboratory': 8891, 'Schleswig': 23289, '##moky': 22582, '##Cs': 18363, 'art': 1893, 'haze': 19691, '93': 5429, 'scarlet': 23299, 'signing': 6086, '##vili': 24465, '##wry': 24522, 'thickness': 15830, 'ம': 674, 'sewage': 23198, '##kaya': 23898, 'Animal': 10854, 'Singh': 5329, 'Sr': 8731, '[unused89]': 89, 'yield': 10972, 'allotted': 27135, '##settled': 23242, 'Myanmar': 12820, 'resisting': 26337, 'Siege': 14214, 'rested': 8237, 'convincing': 13870, '##thy': 15644, 'newspapers': 6195, 'Facebook': 9078, '##razed': 18721, 'Sexual': 21843, 'Dude': 22995, '##imated': 26155, '##մ': 28429, 'Towards': 16220, 'choreography': 22543, 'Apostles': 28094, '真': 1061, 'forums': 25438, 'Lionel': 14957, '##sumption': 16937, 'r': 187, 'townships': 16553, 'reported': 2103, 'Magazine': 4341, '##minate': 17379, 'Petersen': 25245, '##ube': 15209, 'logo': 7998, 'finished': 1845, 'serving': 2688, 'administration': 3469, 'temples': 8433, 'limiting': 15816, '##rgy': 17292, 'draped': 16006, '##enham': 22014, 'Direction': 17055, 'Nowadays': 25883, 'Start': 15599, '##NS': 12412, 'Pittsburgh': 5610, '281': 25567, 'Wills': 23480, '##TO': 18082, 'sword': 4346, 'Lahore': 15767, 'Reno': 19139, 'observe': 12326, '##iture': 23861, 'Republicans': 11115, 'tore': 9626, '社': 1063, 'player': 1591, '22nd': 14260, 'gasoline': 15117, 'trip': 3868, 'chef': 13628, 'Building': 4334, 'Previously': 11642, 'Kristen': 24933, 'drumming': 27025, 'we': 1195, '##ctic': 11143, 'Saudi': 7721, 'now': 1208, 'placing': 6544, 'allegations': 9966, 'storyline': 9844, '##lene': 11936, 'Gladys': 24889, 'ể': 747, 'bean': 27528, '##ister': 11419, '##io': 2660, '##nse': 19054, 'haven': 3983, 'Exactly': 18342, '##OC': 9244, 'tongues': 24403, '##que': 3530, 'Werner': 14651, '##culture': 19695, 'helps': 6618, '##bana': 21182, 'pub': 11030, 'ᵃ': 709, '青': 1083, 'underwater': 13082, 'hierarchy': 14486, '##lav': 9516, '##visor': 22348, '1871': 6899, 'Lakes': 10180, 'torpedo': 11029, 'jolt': 26078, 'recommend': 18029, 'Darwin': 11555, 'sorrow': 17359, 'portfolio': 12256, 'exhaled': 17280, 'according': 2452, 'mutations': 17157, 'responded': 5133, 'Trace': 22681, 'Dawn': 9194, 'bounce': 22773, 'Recording': 10213, 'Spring': 5350, 'mined': 24359, '1860': 6780, '##⁶': 28706, 'ants': 19652, '##nees': 27075, '[unused54]': 54, 'Ultimate': 11618, 'arrogant': 17346, '##lamp': 26345, 'Toward': 27674, 'Rotten': 15135, '##idal': 13293, 'Uh': 11205, 'noting': 9095, 'Arts': 2334, 'advent': 16889, '##lify': 22881, '##scence': 16353, 'Immaculate': 27024, '##»': 28175, '##phe': 27801, 'Moreno': 19388, '##☆': 28768, '430': 21268, 'Bulls': 14542, 'Jameson': 24791, 'Wings': 11237, 'August': 1360, 'batsman': 14526, 'Pure': 16665, 'absorption': 18099, '##sten': 15874, 'Gibbons': 25759, 'Try': 13665, 'Highest': 26209, '##olio': 24079, '##p': 1643, 'Counts': 26112, 'Yao': 27762, '##destine': 27543, '##phus': 21060, 'Web': 9059, 'blood': 1892, '##tica': 11761, 'impossible': 4763, 'ā': 279, 'Bulgaria': 7599, 'Larson': 23360, 'Avalon': 20613, 'indicating': 7713, 'Religion': 11893, 'continent': 10995, 'Up': 3725, '##島': 28915, 'forewings': 13867, 'Egg': 25861, '253': 25894, '##ores': 12238, 'largely': 3494, 'vernacular': 21662, '##sitive': 22472, 'Mat': 25702, '##isans': 21836, 'Dolores': 23952, 'par': 14247, 'Laura': 6273, 'ruined': 9832, 'clipped': 22281, 'insane': 10049, 'subtle': 11515, '##powering': 26703, 'back': 1171, '##her': 4679, 'Leinster': 16619, 'shouts': 17371, 'link': 5088, 'West': 1537, 'clumsy': 26928, 'remind': 11484, 'ecosystem': 19534, '45': 2532, 'Ok': 23330, 'merely': 5804, 'template': 27821, 'হ': 661, 'discharged': 15207, '##isers': 23551, 'thereby': 8267, 'Meridian': 27654, '¼': 222, 'ս': 523, '##ate': 2193, 'Red': 2156, '##regation': 22998, '##aal': 27679, 'standings': 12813, 'shareholder': 20769, '##stics': 19251, 'rounded': 7982, 'inspiring': 21964, 'study': 2025, 'colours': 9849, 'Hi': 8790, 'spy': 10669, 'Wolverhampton': 21900, 'Ju': 23915, '##wives': 26791, 'capital': 2364, '1832': 10022, 'suggested': 3228, '##jana': 21026, 'Manual': 9128, 'biodiversity': 23797, 'Diamond': 8549, 'relates': 15286, 'Meet': 16053, 'Bohemia': 17984, '`': 169, '##ift': 17368, 'Romans': 10935, 'forecast': 24647, 'Duchess': 12856, 'organizes': 24532, '##uild': 19118, 'cave': 5812, 'statue': 5921, 'disadvantage': 22611, 'third': 1503, 'lump': 16401, '##iens': 23461, 'omitted': 17852, 'farming': 7718, 'seminar': 28067, 'ט': 543, '##yr': 12577, '1826': 12000, 'diploma': 14985, '##jured': 26966, 'revision': 16547, 'clinical': 7300, 'Daytona': 19634, 'চ': 644, '##reak': 22362, '##₍': 28718, 'Question': 22171, '.': 119, 'Québec': 19833, 'Breton': 17935, 'amendment': 12669, 'Bedford': 12094, 'joked': 21455, 'clan': 7019, '20': 1406, 'speak': 2936, 'effects': 3154, '##conscious': 27307, 'protested': 11472, '##下': 28872, 'widened': 8344, '##yra': 20153, 'Luis': 6132, 'microwave': 21865, 'outdoors': 23178, 'ta': 27629, 'Get': 3949, 'Dixie': 20578, 'blame': 7338, 'destroying': 9769, '##valence': 25388, 'pizza': 13473, 'associates': 13681, 'ე': 699, 'truck': 4202, 'mosque': 11666, 'sucked': 8286, 'Publishers': 12748, 'Dec': 13063, 'Bertie': 22725, 'fond': 15263, 'expressive': 26005, 'HD': 10728, 'rests': 17808, 'blonde': 9853, 'light': 1609, 'amended': 13848, 'telling': 3344, '##ala': 5971, 'depression': 7560, 'Rex': 10896, 'celebrate': 8294, 'brows': 11424, 'conditioned': 25592, 'territory': 3441, 'plaster': 17310, 'plastic': 5828, '##lock': 6726, 'allied': 11221, 'psychedelic': 22151, 'ন': 652, 'qualifying': 6045, 'gangster': 27101, 'Healthcare': 22993, 'sexes': 24549, 'released': 1308, '700': 5689, 'inception': 12548, '##ione': 23997, 'listeners': 14861, 'divorce': 8126, 'physiology': 25445, 'columns': 7411, 'Architecture': 9021, '##set': 9388, 'stainless': 21771, 'Angus': 14091, 'settling': 9943, 'Katz': 22795, 'Democracy': 12470, 'Pack': 14667, 'Diamonds': 24900, 'greeted': 11196, 'accounting': 11438, 'relations': 4125, 'pottery': 12993, '##nter': 22456, 'Montréal': 23687, '##ウ': 28827, 'Antrim': 27117, 'Russo': 18182, 'politely': 18232, 'Technologies': 14164, '##worked': 26053, 'aren': 4597, 'mature': 9881, 'Mechanics': 25858, 'sparked': 14514, '##eth': 8767, 'Dubai': 11593, 'socially': 15315, 'variation': 8516, 'Slayer': 25642, 'goods': 4817, '##rators': 19527, 'angered': 22296, 'thriving': 22522, 'Barbara': 5934, 'receptor': 10814, 'terminals': 20618, '##rets': 24067, 'starring': 3937, 'Years': 5848, 'upgrade': 12764, 'Cobb': 18358, 'Chief': 2534, '##Leod': 18763, 'Tall': 19900, '##谷': 28964, '高': 1086, 'warrior': 8229, 'reside': 14487, '##キ': 28832, '##ok': 5926, 'respectively': 3569, '##ised': 3673, 'Vogue': 22257, 'bold': 9009, '##rō': 19651, 'pained': 24794, 'arranged': 4768, 'Bloody': 17921, '##iti': 17030, 'cartridges': 26274, 'innings': 6687, 'dye': 23966, '##ʿ': 28304, 'update': 11984, 'custody': 9948, '1944': 2782, '##cats': 21393, '##♭': 27096, 'countered': 19347, 'Him': 15619, 'wouldn': 2010, 'protesters': 14339, '##SP': 15735, '[unused9]': 9, 'predicted': 10035, 'synthesizers': 26000, '251': 25101, 'incredible': 10965, 'Augustus': 11740, 'Reagan': 11546, 'Gypsy': 22153, '##illo': 12284, 'spare': 8608, '##lund': 17897, 'ف': 585, 'Downs': 15794, 'yesterday': 8128, 'Б': 449, 'dial': 17693, 'Kincaid': 27623, 'notices': 15749, '##dated': 14459, '##sburg': 9364, '##ots': 12129, '##は': 28809, 'ť': 326, 'judge': 3942, 'ა': 698, 'Via': 15709, 'Rocks': 17198, 'laps': 11033, 'drill': 15227, 'Auguste': 22826, 'Freeway': 23596, 'fuels': 23769, 'rag': 26133, 'Serbs': 17835, 'curated': 21092, 'Massachusetts': 3559, '##ₖ': 28725, 'fresh': 4489, '##AM': 10964, '##gate': 4948, 'fraction': 13394, 'Forster': 25805, 'Amnesty': 25072, '###': 28127, 'Fishing': 23738, 'Simpsons': 20726, 'straps': 21702, 'glowing': 10140, 'bullshit': 17480, '##ے': 28507, 'sending': 5416, 'components': 5644, 'committee': 3914, 'Divine': 13434, 'rockets': 18437, 'graceful': 21620, 'appropriately': 26620, 'lieu': 27190, '##사': 28982, 'Racecourse': 20042, 'toy': 10929, 'dating': 4676, 'Fate': 17711, 'interference': 11364, 'Goose': 23914, 'ashes': 15359, '##ew': 5773, '##lington': 21103, '##≥': 28758, 'discourse': 18644, 'master': 3283, 'representation': 6368, '##hua': 12491, 'jockey': 19010, 'recited': 28071, 'contempt': 18875, 'scrap': 16720, 'truce': 21978, 'received': 1460, 'receive': 3531, 'secretly': 10173, '##ul': 4654, '##hyl': 18873, 'Corey': 19521, '##河': 28944, 'integer': 18157, 'Jess': 12419, 'outward': 16923, 'roses': 16760, '##ssi': 19828, '##PR': 22861, 'Buy': 26123, '##hammer': 21427, 'discovery': 6004, 'Snow': 8442, 'Batman': 8622, 'forearm': 17284, 'realities': 27167, '##ु': 28534, '##ὰ': 28674, '##iko': 12260, 'signatures': 17926, 'Urban': 6972, 'ä': 250, '630': 26384, 'inserted': 13137, 'Julio': 16786, 'directed': 2002, 'Buffy': 20495, 'verified': 22480, '##І': 28364, '##ssler': 27061, 'impressions': 25263, '##lah': 10358, 'Silas': 20101, 'Dusty': 23246, 'ė': 290, 'consisted': 4227, 'indoor': 9287, 'wears': 12063, 'beginning': 2150, '2019': 10351, '1986': 2177, 'shrieked': 24863, 'McGraw': 27315, '##ignment': 24571, 'Muhammad': 6710, 'Wellington': 8017, 'Herman': 11495, 'Canberra': 13400, 'constituents': 27808, '##Ο': 28327, 'body': 1404, 'Ordnance': 19369, 'Wyatt': 13250, '##ع': 28490, 'Regina': 13046, 'shoots': 11981, '##cope': 16260, 'Manufacturing': 17023, 'Chiefs': 12359, 'weren': 3920, 'threshold': 11810, 'awful': 9684, 'Danielle': 20017, 'Dog': 8166, 'officer': 2575, 'roots': 6176, 'flood': 7870, 'Guild': 9922, 'Bella': 12787, 'medley': 19362, 'rot': 24692, '##ʰ': 28297, '##lay': 6622, 'Bubba': 21471, '（': 1097, 'Loire': 22306, '##umour': 27226, 'unnoticed': 25649, 'Lancashire': 9365, 'very': 1304, 'trend': 10209, 'elsewhere': 6890, '198': 21801, 'athletic': 8470, 'losing': 3196, '##ec': 10294, 'outnumbered': 25346, '##rsing': 25351, 'Steam': 15144, 'mph': 4955, 'planes': 10025, 'ế': 745, 'Mack': 11397, 'snake': 8925, 'forensic': 21330, 'compiling': 24615, 'Croatia': 7636, 'Indonesia': 5572, 'Tournament': 5629, 'Crewe': 24607, '##version': 12475, 'Cyprus': 9460, 'Its': 2098, 'Meyrick': 15990, 'splits': 22141, '##heist': 25811, 'Jorge': 10780, 'continue': 2760, 'Emerson': 12836, '##itch': 18963, 'BR': 26660, 'Kathy': 15698, 'soccer': 5862, 'skin': 2241, '##hip': 3157, 'crown': 6371, 'bends': 27107, 'random': 7091, 'Peacock': 26102, 'Tourism': 12067, 'assigns': 27043, 'Horn': 11684, 'Rupert': 15288, 'limitation': 26802, '##lang': 19514, 'identifying': 12760, 'Jamie': 5518, 'Atlantic': 3608, 'mutually': 22376, 'werewolves': 22730, '##ই': 28541, 'Veronica': 14070, '303': 21786, 'skies': 22065, '##ading': 17465, 'perfection': 17900, 'barn': 9328, 'Crimea': 23748, 'shots': 6981, 'suited': 10891, 'Italia': 13399, 'wooden': 4122, 'Jump': 18454, '109': 11523, 'Applied': 12547, '##š': 10222, 'socialist': 11181, '##twined': 23141, 'unemployed': 21424, 'rest': 1832, '##long': 9851, 'Vehicle': 19357, 'Teatro': 17406, 'peers': 14097, '##ades': 16913, 'Clifford': 14363, 'ballet': 10921, 'brutally': 26125, 'impatiently': 22086, 'plains': 14237, '##nary': 24917, '##function': 26420, 'Conrad': 10904, 'leave': 1817, '##amia': 26817, 'Linnaeus': 23866, 'Afterward': 26869, 'Bay': 2410, 'club': 1526, '##rio': 8558, 'ₓ': 827, 'wire': 7700, '=': 134, 'pounder': 22809, 'disposition': 25622, 'adorned': 21054, '##せ': 28799, 'growling': 27684, 'Moses': 9755, 'Joseph': 2419, 'ISBN': 2282, '##म': 28522, 'interim': 10572, 'organisms': 12023, 'corporations': 12584, 'petrol': 19847, 'Donna': 11351, 'eldest': 6921, 'winding': 14042, 'interest': 2199, 'ineligible': 25311, 'br': 9304, 'surreal': 24882, 'Chevrolet': 15348, 'Potomac': 20419, 'enjoyable': 24815, 'Watching': 21570, 'François': 8465, '##houses': 15246, '##lberg': 20974, 'senior': 2682, 'Dragon': 6891, 'seen': 1562, 'geared': 26870, 'register': 8077, '##lding': 12918, 'harmonica': 19502, 'postgraduate': 19932, '##rcle': 24490, '##ixel': 28076, 'Tony': 3270, 'assisted': 6842, 'Abbas': 19166, 'Mk': 15900, '##ished': 9980, 'YOU': 19141, '##ilated': 27388, '##tas': 10401, 'FCC': 15121, 'Willis': 12886, 'foil': 20235, 'DJ': 6027, 'remarks': 13570, 'vice': 4711, 'Belfast': 10189, 'scorer': 11766, 'Hutton': 22298, 'nurses': 13318, 'Consortium': 25222, 'legs': 2584, 'movie': 2523, 'servants': 8960, 'freshly': 22866, 'substantially': 12613, 'PM': 14123, '[unused52]': 52, 'if': 1191, 'shoving': 18164, '十': 994, '##tured': 23132, 'hydroelectric': 23323, 'ъ': 501, 'Blackwell': 20348, 'stones': 6971, 'boasts': 24372, 'outline': 13905, 'subsidies': 24708, 'MS': 10978, '1761': 23514, '##ছ': 28548, 'Heritage': 5560, 'Greece': 4747, 'beasts': 18914, 'impressed': 7351, 'attendance': 7794, 'Axel': 20575, '##mized': 26740, 'Burke': 9661, 'specifically': 4418, 'Sounds': 10560, 'HQ': 17426, 'abrupt': 20494, 'ripped': 8899, '##az': 10961, 'reformed': 13350, 'powerful': 3110, 'Kilkenny': 18277, '##₃': 11851, 'AFB': 18017, 'Relegated': 17997, 'Stade': 16634, 'Mali': 17168, 'Hawkins': 14289, '##nden': 28004, 'Hanover': 14993, 'cello': 11742, 'characterised': 18532, 'handles': 17180, 'sports': 2865, '##rera': 25508, 'qualification': 8969, '##KS': 25370, 'Beaver': 16626, 'Ambassador': 8397, 'Tobago': 18411, 'Flat': 20451, 'Garner': 26971, '##ki': 2293, '##oc': 13335, '[unused62]': 62, '[unused19]': 19, 'Bell': 4720, 'SL': 27103, '##ucking': 22045, '##lphin': 19030, 'low': 1822, 'larger': 2610, '##pt': 6451, '[unused35]': 35, 'clouds': 8435, 'Suns': 25412, 'efficiently': 19723, 'Hours': 13819, 'childhood': 5153, 'repeat': 9488, 'Segunda': 21063, 'consequently': 14007, 'louder': 11579, 'umpire': 25077, 'bride': 12187, 'Rothschild': 21457, 'Germany': 1860, 'Ø': 241, '##kes': 9029, 'flooded': 10276, 'canal': 7684, '##aw': 7220, '##cie': 25982, '##meister': 27582, '##fields': 14922, 'Burton': 9395, '##egro': 28063, '##yland': 18403, 'dimension': 11025, 'Oriental': 13078, 'Fowler': 15738, '##irn': 23905, 'Article': 8554, 'scare': 13671, '1854': 8023, 'conveyed': 23777, 'radiation': 8432, 'Rudy': 19658, '2d': 25712, 'honest': 7345, 'flexed': 27292, 'Vista': 14600, 'ray': 7586, '##taking': 17181, 'Charley': 22458, '##PL': 27258, 'hormones': 23602, '##ň': 28235, 'plaza': 19075, 'themes': 6621, 'Surrey': 9757, '##arte': 26579, 'Museum': 2143, '##tub': 25098, 'Watts': 15215, 'name': 1271, 'great': 1632, 'itself': 2111, 'deposited': 14735, 'Lia': 25760, 'Libraries': 27927, 'radar': 7746, '°': 211, 'subsequent': 4194, '##luk': 17086, 'Mixing': 21796, 'mm': 2608, 'arrived': 2474, 'psychologist': 16979, 'Boots': 25023, 'ụ': 759, 'complaining': 19533, 'fortunate': 22649, 'Jenkins': 11076, '##⁹': 28709, 'Fighting': 10864, 'Ortiz': 21922, 'Josh': 5868, '16': 1479, 'á': 247, '##have': 22145, 'troubles': 16115, '##kat': 24375, '##ehan': 27749, 'muddy': 20670, 'overseen': 25197, 'defense': 3948, 'ひ': 917, '##ude': 10308, '##onies': 11506, '##tal': 6163, 'Lake': 2161, 'Stoke': 13953, 'Mei': 24563, '##roduced': 27318, '##iidae': 19793, 'Nehru': 26373, 'sustaining': 26081, '##cast': 8305, '##ccelerator': 26154, 'bikes': 20852, '##ese': 6420, 'ф': 495, 'stalked': 16895, 'trilogy': 14927, 'April': 1364, '##3': 1495, 'Highlands': 15343, 'bottom': 3248, 'Sachs': 25585, 'Trio': 13884, 'lightning': 9605, '46': 3993, 'false': 6014, 'movements': 5172, 'umbrella': 14793, 'Christi': 23628, '##ilo': 24755, 'engines': 4540, 'Kerr': 15587, '##fi': 8702, '##smo': 26358, '##iss': 14788, 'enhance': 11778, 'Jets': 13136, 'Allah': 18203, 'join': 2866, 'president': 2084, 'station': 1466, '##Е': 28371, 'gallons': 20188, '##nder': 9824, 'Rabbit': 17435, 'MLB': 10872, 'tapped': 10316, '##gelist': 26959, 'reptiles': 25440, 'Gate': 8375, 'Nah': 24883, 'casual': 10243, 'referred': 2752, 'У': 466, 'grabbing': 10810, 'insist': 19831, 'farmland': 17790, 'achieved': 3890, 'cream': 7081, 'ITV': 12019, '39th': 25235, 'Apart': 10342, 'Sub': 12859, 'pointing': 6903, '##iology': 17288, 'campus': 3314, 'spectacle': 25396, '\"': 107, 'fists': 9993, '##hale': 11941, 'Tomas': 19549, 'wreckage': 24069, '37': 3413, '##ir': 3161, '##von': 19988, 'bike': 8295, 'Alexia': 24080, '##ս': 28433, 'naked': 6222, 'journeys': 24452, '##田': 28950, '##ulos': 24153, 'Val': 12226, '##state': 19596, '178': 20977, 'immortal': 15642, 'one': 1141, 'backed': 5534, 'Fulton': 18196, '##pis': 19093, 'Farmer': 15198, '##版': 28946, 'Linda': 8138, '##平': 28918, 'new': 1207, 'prose': 14221, '122': 13381, 'Crow': 15252, 'dramatically': 12235, 'bitten': 21381, 'reflects': 11363, '##mates': 12070, 'meantime': 13115, 'aligned': 14006, 'cases': 2740, 'Heinz': 18928, 'lion': 11160, 'tied': 4353, '##wine': 17679, '##ʁ': 28287, 'Polar': 25848, 'Code': 6741, 'peeked': 20221, 'due': 1496, 'Walk': 10065, 'veterans': 11461, 'of': 1104, 'Moran': 19823, 'analyzing': 23389, '1933': 3698, 'painted': 4331, 'transferred': 3175, 'Devon': 7122, 'rains': 19267, '##nish': 21816, '##seller': 25421, 'eventual': 9288, 'frequented': 28093, 'mistake': 6223, 'Stalin': 13406, 'helmets': 26472, 'knights': 15480, 'imagination': 10405, 'car': 1610, 'named': 1417, 'extent': 6102, 'offended': 16921, '##ogue': 18597, 'infrared': 18688, '##sai': 19021, 'seizure': 20752, '##hers': 20765, 'CH': 24890, '##tised': 25048, '##nds': 15613, 'Charles': 1889, 'farther': 8791, '##ration': 6108, 'Yo': 14941, '##shore': 16324, 'close': 1601, 'strangely': 16352, 'unpopular': 21665, 'MI': 26574, 'mission': 2862, 'Midnight': 12407, 'Distribution': 19806, '##ems': 14587, 'キ': 939, 'payments': 10772, 'aged': 4079, 'romance': 9688, 'Leagues': 24502, '##ximal': 23984, 'rpm': 14804, '‖': 785, 'heated': 9511, '##У': 28384, '##ius': 3285, 'pillar': 18515, 'Angelina': 26876, '##rion': 12395, 'ु': 631, 'Cotton': 12871, 'positioned': 11059, 'ages': 6776, 'shallow': 8327, 'yeast': 25693, 'Leo': 6344, 'GP': 15175, 'confirms': 26064, '##grade': 24633, '##gnesium': 27844, 'least': 1655, '##dson': 21369, 'promoting': 7495, '##xed': 14771, '##lops': 22101, 'paper': 2526, '##ology': 4807, 'An': 1760, '1859': 7707, 'Gun': 11274, 'tuition': 17185, 'cheek': 4310, 'opinion': 4893, 'seminary': 17403, '##azza': 25774, 'gaped': 26722, 'explicitly': 12252, 'Hewitt': 21258, 'Cook': 6816, '##vant': 14194, 'Wilson': 3425, 'え': 896, 'Felix': 9423, 'scooped': 22890, 'saturated': 26777, 'convict': 24770, 'Brad': 7796, 'Brook': 10597, 'recycled': 25677, 'single': 1423, 'balloons': 26219, 'Geoffrey': 10985, 'screwed': 15020, 'Fantastic': 19420, 'associated': 2628, 'necessary': 3238, '##plified': 18580, 'science': 2598, 'punish': 17912, 'collectively': 14998, '##IO': 19368, 'GPS': 16002, 'Wheel': 19754, 'verbal': 14093, 'Like': 2409, 'Liège': 23176, '##ổ': 28656, 'argue': 6982, '##AF': 12303, 'disputed': 11807, '##viator': 26680, 'elevation': 6252, 'pirate': 15266, 'ragged': 15588, 'Egypt': 4498, 'skier': 23848, 'tally': 24912, '[UNK]': 100, 'Aberdeen': 12184, '##zam': 20123, '##oning': 10087, '##cano': 17519, 'privately': 9045, '##bas': 16531, '##nz': 19411, 'luggage': 20307, 'ethical': 15380, 'Kali': 22576, '##ilde': 26566, '##baum': 14318, '##por': 18876, '##icular': 20899, '##git': 24632, 'plea': 16150, 'Introduction': 13813, 'NME': 26686, 'congregation': 9201, 'ứ': 761, 'comics': 9767, '##estive': 23536, '##ם': 28457, 'challenging': 10467, 'looming': 27003, 'semi': 3533, 'programs': 2648, 'repeats': 19811, 'Bryan': 8129, '##ngle': 22170, 'devised': 15724, '##ingham': 11524, '##ismic': 24864, 'shortages': 25630, 'Alfred': 5492, 'CSI': 25011, 'Bomber': 20707, 'Meanwhile': 5459, 'forcibly': 23129, 'reminds': 16816, '##rden': 12345, '##tended': 21857, 'Stop': 6682, 'argued': 4491, 'Abraham': 7752, 'brewing': 23800, 'drilled': 27504, 'Isle': 8843, 'das': 19875, 'fused': 21859, 'Featured': 27207, 'achieve': 5515, '##rf': 11931, 'MTV': 8316, '₉': 820, 'migration': 10348, 'Boy': 4596, 'borrow': 20055, '##boat': 8545, 'deaf': 16814, 'Environmental': 8019, 'rays': 11611, 'José': 5180, 'insufficient': 14733, '##ea': 4490, 'teamed': 12854, '##idated': 27893, '[unused47]': 47, 'Fest': 22305, '##つ': 28803, 'dared': 15983, 'cursing': 25002, 'kidnapped': 11665, 'Jarrett': 27592, '##ῖ': 28678, 'boss': 6054, 'encoded': 12544, 'melody': 11961, 'joking': 18114, '##bow': 14251, 'Venice': 7433, 'Rhine': 10920, 'location': 2450, '##ira': 5132, 'Dell': 18451, '##ivate': 18851, '##ishly': 21120, 'π': 433, 'Few': 17751, 'Packard': 27065, '##∘': 28747, 'Testament': 9873, 'Tunisia': 13772, '##bby': 13575, 'Telecom': 25119, '##tracts': 26193, '##pel': 10522, 'auto': 12365, 'Bowie': 15413, '2000': 1539, 'Cyrillic': 16466, '##codes': 25634, 'mayor': 4398, 'Francis': 3720, 'Decree': 27235, 'Married': 20092, 'assuming': 11577, 'Iraqi': 8612, '##Ć': 28214, 'Gavin': 9152, 'Govt': 27327, 'Liu': 8411, '##zi': 5303, 'departed': 7361, '##aris': 26464, '##rman': 7990, 'constituencies': 14076, 'Per': 14286, 'Bharatiya': 27326, '##м': 28401, 'Hollow': 19098, 'differences': 5408, 'MG': 22459, 'ratios': 24576, '≈': 860, '##rian': 5476, 'lineage': 14209, 'east': 1746, 'buyers': 19682, '1766': 23576, 'integrated': 6576, 'portrait': 7494, '##tric': 11048, 'Sharks': 18038, 'Treasury': 11712, 'isolated': 6841, 'Structure': 25341, 'PP': 27660, 'competent': 19555, 'Ruth': 7456, 'expenses': 11928, 'disposal': 14364, 'startling': 22425, '##NT': 15681, 'defiance': 27071, 'user': 4795, 'greenhouse': 19883, 'ς': 435, 'creative': 6228, '##ified': 6202, 'cock': 11012, '##space': 21220, 'mon': 19863, 'Division': 1784, 'kW': 5897, 'soprano': 11264, '##К': 28375, 'Chocolate': 22011, 'claim': 3548, 'Thames': 11055, '##dating': 23562, 'Gunner': 21913, 'outstanding': 6976, 'Damascus': 17065, 'draw': 3282, 'Schedule': 23070, 'refrigerator': 20035, 'nationalist': 11619, '##OT': 14697, 'decomposition': 25898, '̍': 391, '##SM': 16450, '##leaf': 21407, 'flames': 8150, 'manor': 9764, '##lash': 9936, 'continuity': 15126, '##ulf': 19284, 'inability': 14267, 'Diary': 19157, 'Hunt': 7928, 'spot': 3205, 'human': 1769, 'makes': 2228, 'classrooms': 13038, 'Elena': 8712, 'Graves': 16494, 'na': 9468, 'sexy': 8141, 'processing': 6165, 'prostitution': 17192, 'expenditure': 24106, 'termination': 20776, '##TM': 19974, '##geny': 21004, 'elevators': 22167, 'dormitory': 25565, 'Spokane': 24193, 'Marion': 9928, 'tolerance': 15745, 'subway': 14790, 'Bangladeshi': 27260, '##redo': 20792, 'business': 1671, 'Seville': 20768, 'sand': 5387, 'embroidered': 26807, 'limit': 5310, 'internal': 4422, 'panting': 17700, 'researching': 22513, '##pating': 19167, '##ŋ': 28236, '##heim': 6797, 'flight': 3043, 'intelligent': 9998, 'globe': 12868, 'uncredited': 7750, 'inhaled': 16957, 'busiest': 22577, 'gossip': 16378, 'А': 448, 'Bears': 10169, 'Hobbs': 26591, '[unused71]': 71, 'Intercontinental': 24501, 'cloth': 8217, 'spinning': 9754, '##α': 15561, 'victim': 6410, 'settlements': 7536, 'Oct': 14125, '##oria': 16420, 'Teaching': 15846, 'collects': 19213, 'Matt': 3895, 'Shield': 11452, 'blacksmith': 26450, 'confronted': 13367, 'semester': 14594, 'garage': 7419, '##eley': 23814, 'stinging': 25648, 'enslaved': 25781, 'Shaw': 7802, '##ume': 15447, 'cigarette': 9983, '##ete': 16618, 'willing': 4988, 'stored': 7905, '##nu': 14787, '##owed': 12595, 'ˢ': 387, 'Chorus': 16415, 'Vijay': 18214, '女': 1013, '##uerra': 27519, 'happen': 3333, '##cc': 19515, 'afterward': 11343, 'Players': 6624, 'Avon': 17139, '##teral': 16719, '##ṃ': 28634, 'invade': 20118, 'neighborhood': 4532, 'Sitting': 17660, 'vocals': 2172, 'tactical': 12394, 'Bruno': 10305, '##kari': 20231, 'Afghan': 13099, 'Omega': 17648, 'domination': 21048, 'Shirley': 11281, 'winger': 18962, '##acle': 25001, 'admissions': 25831, 'sons': 3824, '##vocation': 17105, 'Historically': 14630, 'Trail': 6938, 'Beacon': 23881, 'rack': 16365, '##fle': 23445, 'formidable': 20466, 'sit': 3465, '##uts': 10793, 'reproductive': 17505, 'superhero': 18365, 'vase': 26100, 'geologist': 25166, 'Galicia': 20696, 'Cy': 27688, '##d': 1181, 'forested': 16044, '##rage': 20240, 'veto': 27484, '##aines': 25180, '##lterweight': 22901, 'curious': 8193, 'develops': 11926, 'Cumberland': 12454, '##verted': 17534, 'orders': 3791, '##light': 4568, 'chased': 13781, 'Mohamed': 15083, 'retention': 23406, '##rissa': 26509, 'point': 1553, 'cattle': 6937, 'ridden': 17698, 'Zen': 18933, '##ago': 19308, 'boarding': 9678, '##ünster': 27077, 'í': 259, '##spense': 21643, 'Okinawa': 15777, 'И': 456, '##rush': 15432, 'penetrating': 25395, 'ø': 270, 'refers': 4431, 'wheelchair': 14980, 'destinations': 15309, 'justified': 16489, 'viral': 14837, 'roar': 14148, 'syllables': 23192, '##ulum': 19463, 'Hank': 8902, 'milk': 6831, 'enemy': 3437, 'surpassed': 16509, 'alpine': 16780, 'trailed': 11133, 'Jacobs': 13220, '##roach': 20073, 'Bree': 24479, 'HM': 25259, '##zon': 9515, 'darts': 26581, 'Wind': 7943, 'Drew': 8633, 'displaced': 13577, 'freedom': 4438, 'sisters': 5919, 'frequency': 5625, 'demonstrating': 15107, 'awoke': 21167, 'Alfredo': 21269, 'Prussia': 10612, 'Ya': 14680, 'edible': 24525, 'slips': 19106, 'dong': 26182, 'Protection': 8063, 'Hunters': 17998, '##ga': 2571, 'feedback': 13032, 'unsure': 13201, 'bureau': 18561, 'plane': 4261, 'Freddie': 16393, 'Vernon': 11459, 'honors': 8357, 'convey': 17863, 'fixing': 17509, 'contributions': 5353, 'Grammy': 8645, 'Dance': 4846, 'Cadillac': 22393, 'forth': 5275, 'investigations': 11041, 'RAM': 20898, 'chickens': 26199, '##ugh': 6289, 'Acheron': 23636, 'stir': 17977, 'ć': 283, 'Frontier': 13984, '##warm': 18900, 'inviting': 16067, 'Mathematical': 16298, 'Triangle': 20742, 'Chris': 2929, 'Jessica': 7788, '##lial': 25737, 'Mara': 14973, 'rusty': 26195, 'seat': 1946, 'Duncan': 6809, '##cross': 17414, 'Bar': 6523, 'Jamaican': 19198, 'Nice': 8835, '11': 1429, 'remained': 1915, 'Trade': 5820, 'animal': 3724, 'statistical': 11435, 'hands': 1493, 'tensions': 14696, 'begged': 13308, 'pre': 3073, 'tide': 12600, '##uli': 15818, 'Elvis': 12452, 'Al': 2586, '##pio': 27931, 'Edgar': 9407, 'für': 11436, 'assigned': 3346, '14': 1489, 'Fort': 3144, 'courts': 5333, 'most': 1211, 'prison': 3315, '##quest': 16437, 'Hungarian': 4852, 'Liga': 7837, 'surroundings': 11342, '1300': 21251, '##ente': 23771, 'ejected': 25292, '##hold': 8678, '##erus': 27955, 'drought': 16076, '∗': 852, 'inequality': 18610, '城': 1007, 'stroked': 11754, 'gardens': 7709, 'unbeaten': 22594, 'Report': 7178, 'allegedly': 9273, 'neared': 22853, '##genesis': 27364, 'files': 7004, '[CLS]': 101, 'Ó': 238, 'mi': 1940, 'Thankfully': 25375, 'Richie': 15028, '##ckney': 24614, 'rendition': 21237, 'televised': 14463, 'philosopher': 10070, '158': 18960, 'Ukraine': 5231, 'Martins': 22670, 'whisper': 6996, 'county': 2514, '##reate': 15998, 'races': 3117, 'Map': 21824, 'Gathering': 26532, '##安': 28909, '★': 873, '##ye': 4980, 'Asia': 3165, 'Homestead': 25073, 'shine': 18978, '##eon': 9828, '##rin': 4854, '365': 21033, 'Next': 5893, 'Sato': 26824, 'developments': 9093, '##etus': 16311, 'zombies': 17715, '##nking': 20698, '##GI': 21065, 'tram': 14172, 'Check': 23114, 'Shelton': 24616, '##mpus': 26696, '##ptic': 8956, 'century': 1432, '##pathian': 24555, '##gus': 12909, 'Based': 7457, 'alleviate': 27295, 'Christ': 4028, 'ś': 319, '##hady': 24905, 'touring': 7048, 'analogue': 26116, 'suspect': 8095, '##ø': 17945, '##ἀ': 28670, '##loading': 19910, '##ims': 25936, 'endowment': 27738, 'motor': 5968, '##郎': 28968, 'acquired': 2888, 'Adrian': 7687, 'visa': 12083, 'report': 2592, 'protein': 4592, 'cylinder': 7613, 'Œ': 315, '170': 10837, 'Reece': 27208, 'illustrate': 20873, 'Ж': 454, 'stupid': 4736, 'Communist': 5248, 'simultaneously': 7344, '##sus': 14410, '##frame': 16548, '##marine': 19845, 'ַ': 531, '##unda': 22902, 'commodities': 26279, 'ր': 525, 'shuffled': 20390, 'dusk': 24494, 'Mary': 2090, 'Wingspan': 24185, 'Park': 1670, 'teased': 13383, 'zoo': 15003, 'precisely': 11228, 'fake': 8406, 'Video': 6301, 'Belarus': 12715, '##uant': 27280, 'Harrington': 21538, 'navigate': 24713, '##এ': 28542, 'synonymous': 25239, 'Vince': 12279, 'retaining': 13223, 'request': 4566, '##rations': 26720, 'handing': 13712, 'emitted': 25219, 'particles': 9150, 'speakers': 7417, 'di': 4267, 'editorial': 9378, 'Keynes': 24543, 'Court': 2031, 'port': 4104, 'Dawson': 10994, 'Estonia': 10579, 'fossil': 11671, '##bius': 19071, '##tsu': 9552, 'shortlisted': 25785, 'Exempt': 19861, 'journals': 9442, 'corpus': 26661, 'truth': 3062, '##ton': 1633, 'Note': 5322, 'Dynamics': 25082, '##ș': 24158, 'ï': 261, 'returns': 5166, 'Riverside': 14109, 'Pro': 5096, 'Playhouse': 19889, 'astronomy': 17338, 'Kitty': 16834, 'Confederacy': 21885, '##UE': 24846, 'Canadian': 2122, 'colloquially': 27963, 'treated': 5165, 'realistic': 13142, 'underside': 19631, '##eca': 25534, 'Merchant': 17225, 'headlines': 22674, '##ش': 28485, 'End': 5135, '##tating': 24558, 'Merit': 9737, 'marched': 9639, 'posted': 6310, 'pat': 26227, 'Thousands': 26159, 'librarian': 18280, '##eanut': 23629, '##aen': 27237, 'enough': 1536, '##8': 1604, 'tolerate': 21073, 'Sears': 20590, 'bid': 6875, '##brian': 23187, 'asserts': 21306, 'badge': 13088, 'manuscript': 8323, '##hurst': 10623, 'whale': 17757, 'parameter': 17816, '##fty': 27944, 's': 188, 'Boys': 4760, 'echoing': 19067, 'concurrency': 27994, '♦': 879, 'ὰ': 772, 'destroyed': 3072, '##rille': 26327, 'Critical': 15247, 'Interview': 24731, 'swimming': 5947, 'Marriage': 16032, 'trembling': 10409, 'Tide': 27604, 'Nr': 26378, 'longer': 2039, 'MacArthur': 21045, 'urgency': 21573, 'classics': 18046, '明': 1034, '##nna': 10186, 'messed': 20147, 'Madras': 13302, 'reflecting': 11636, 'guerrilla': 18850, 'Arc': 18647, 'Teacher': 14208, 'colleague': 11864, 'Boogie': 27593, 'educators': 24937, '##omy': 18574, 'typing': 26716, 'verify': 23073, 'Aren': 18973, 'trains': 3918, 'hat': 6131, 'Guinness': 18517, 'Text': 18430, '##uring': 6660, 'Colonel': 4212, 'fucking': 8750, 'popularity': 5587, 'inscriptions': 14212, 'valve': 11727, '##rumbling': 21473, 'inspire': 21792, 'steamer': 20472, 'staple': 22088, '##hism': 26172, 'Roads': 13690, 'authoritative': 27355, 'Darius': 15552, '島': 1022, 'cowboy': 17803, '236': 26361, 'projecting': 20266, '##feld': 7355, '##{': 28153, '##pa': 4163, 'Typhoon': 26490, 'steaming': 23026, 'locking': 16348, 'Shoot': 26912, 'ballroom': 20511, 'contests': 17457, '£1': 15142, 'beers': 23147, 'eliminating': 16520, '##ilis': 22279, 'manifold': 22502, '##tons': 19740, 'TX': 21514, 'Caroline': 7515, '##urion': 27178, 'beautifully': 19758, 'learning': 3776, 'difficulty': 7262, '##vil': 15655, 'Order': 2864, 'withdrew': 6367, 'circa': 14121, '##chia': 27018, 'emperor': 6821, 'mounds': 23727, 'Cao': 13872, 'crazy': 4523, 'arithmetic': 24205, 'Whitney': 9567, 'Marcia': 25663, '##ր': 28435, '##hor': 13252, 'swamps': 26216, 'publishers': 13599, '##etti': 12266, '##rons': 19298, 'Oklahoma': 5154, 'price': 3945, '##osy': 28114, 'offerings': 16102, '##liptic': 24021, 'Chávez': 26745, '176': 20039, 'caused': 2416, 'Bart': 13045, '神': 1064, '##uded': 14054, '##和': 28895, '##hard': 9421, 'Larsen': 22111, 'mess': 6477, 'characterized': 6858, 'Tam': 22876, 'musical': 2696, 'cafe': 17287, 'Finland': 5776, 'Currently': 7199, 'Barlow': 19124, '##iers': 11528, '##relli': 25294, 'Americans': 4038, 'Millie': 21317, 'evil': 4719, 'Status': 22130, 'Hayes': 10011, '##rane': 18194, 'interpret': 19348, '##ari': 7710, '##eira': 24982, 'Constance': 16651, 'rivers': 6319, '##ds': 3680, 'Break': 15835, '##ographic': 9597, '##cars': 18633, 'tones': 13647, 'venues': 9165, 'main': 1514, '##ogenic': 17960, 'homes': 4481, 'junior': 4635, 'Engine': 13451, 'consulting': 12421, '58': 4650, 'flip': 12785, 'unanimously': 16642, 'cited': 6024, 'originally': 2034, 'municipalities': 7473, 'locality': 10157, 'perspectives': 22168, '##aneous': 13064, '##vani': 25373, '⁻': 809, 'Patriots': 12366, 'harder': 5747, 'Thing': 11675, '##ib': 13292, 'robbery': 15522, 'Blade': 17360, 'Hussain': 21984, 'McKinley': 24610, 'kits': 21195, 'ẩ': 742, '[unused68]': 68, '##mination': 9204, '##ime': 10453, '##rino': 16987, 'Muller': 27418, 'Pasadena': 20458, '##rudence': 18424, 'ISO': 11533, 'coup': 8707, 'Niall': 24233, '##payers': 27452, 'surname': 12239, '##gence': 12329, 'Music': 1953, 'tomorrow': 4911, 'Idaho': 9559, 'Rey': 12952, 'glared': 9090, 'Pavel': 20270, 'CONCACAF': 24710, 'NL': 21239, 'Southeastern': 18983, 'ear': 3811, '1795': 13731, 'surprised': 3753, 'socket': 27532, 'storm': 4162, 'Gunn': 24457, 'Africans': 19442, 'expressing': 14819, '##met': 11006, 'gardening': 27045, 'turned': 1454, 'Dominican': 9903, 'spurred': 26222, 'scouting': 26820, '1935': 3588, 'implied': 13806, 'Sabah': 25114, 'moment': 1721, 'testimony': 11405, 'below': 2071, 'emptiness': 27781, 'Mississippi': 5201, 'Rain': 10463, 'moan': 14309, 'smell': 4773, 'boarded': 18666, 'handball': 17678, '##cz': 18587, 'instability': 20482, '1966': 2678, 'Sunny': 17321, 'der': 4167, 'spiders': 16961, 'sobs': 24523, 'Newcastle': 7685, 'agencies': 6421, 'Population': 10858, 'Suzuki': 14851, '##ients': 24767, 'plaintiff': 23940, 'landing': 4636, 'eponymous': 16105, 'cardinal': 15058, 'Promise': 18432, 'Wednesday': 9031, 'exceeding': 18291, 'Strategic': 12367, 'policeman': 17559, 'AL': 18589, 'dominating': 24778, 'Fine': 4730, 'Foot': 13929, 'unwilling': 17026, 'Had': 6467, 'Letter': 14549, 'Beauty': 10764, 'worlds': 11308, '##logists': 17246, 'thankful': 21602, 'Fremantle': 22231, 'Faso': 25408, 'Wizards': 26398, '##ery': 5075, '##vington': 26251, 'Alexandre': 18094, '##es': 1279, 'Rome': 3352, 'Gomez': 21411, 'Cooperative': 22892, '610': 21591, '##sities': 28060, 'Hagen': 27080, 'Adult': 11635, 'official': 2078, 'Fairbanks': 27591, 'baritone': 16177, '##tched': 16283, 'New': 1203, 'des': 3532, '##ele': 11194, 'bonding': 22587, 'Guardians': 21444, 'Commodore': 14053, '##form': 13199, '»': 221, 'Campaign': 7988, 'transmit': 21994, 'encompassing': 21143, 'Bayern': 23517, 'Ambulance': 27114, 'Carole': 27422, 'helpful': 14739, '##ύ': 28362, 'finals': 4278, 'Boat': 12936, 'ran': 1868, 'goose': 20398, 'vassal': 28080, 'than': 1190, '##tian': 11969, 'peripheral': 17963, '##mber': 10615, 'pregnant': 6391, '##GE': 16523, 'commemorate': 13792, 'commemorative': 22180, '##eman': 12437, 'favors': 24208, 'configurations': 25209, 'Rosa': 9449, 'Yerevan': 26082, 'preserved': 6018, 'challenged': 7964, '##sley': 8980, 'EP': 4493, '##ino': 4559, 'sensations': 24783, 'generates': 21241, '##girl': 17001, 'Carleton': 24676, '##ković': 18571, 'Mall': 11123, 'Syrian': 8697, 'Chip': 20379, '##cure': 22712, 'Bill': 2617, '##note': 17113, 'stormed': 17236, '##cite': 14375, 'audible': 22395, '1975': 2429, '##श': 28527, 'downstream': 14102, 'fellowship': 16901, 'Lama': 21795, '##力': 28885, 'proposed': 3000, 'spectators': 12902, 'publications': 5873, 'Kent': 5327, 'chant': 22058, '[unused29]': 29, 'mighty': 16370, 'fragment': 17906, '##uction': 18305, 'perspective': 7281, '##zzling': 18537, 'acquainted': 20869, 'denote': 21185, '1956': 2990, 'automobiles': 23338, 'ₜ': 834, 'transgender': 20141, 'patriarch': 27797, 'joined': 1688, '##mme': 12140, '##rito': 20376, 'require': 4752, 'Vinnie': 27213, 'Production': 6401, '##av': 23140, '##tered': 7655, 'focuses': 7203, '##mata': 23436, 'enabled': 8824, '226': 23100, 'Bray': 21920, '##mbo': 13685, 'Wanted': 20601, 'prohibited': 11018, 'sustained': 8505, '##⁴': 28704, 'Ten': 5157, 'listened': 7327, 'Sin': 14009, '##থ': 28552, '##yper': 24312, 'stilled': 25463, 'Catholicism': 17164, 'manga': 9675, 'penetration': 23135, 'gel': 27426, 'ল': 658, 'researcher': 11325, 'hereditary': 17676, 'Stories': 9337, '##cripts': 20506, '##iar': 26230, '##phony': 27716, 'Yukon': 21684, '##held': 17674, 'Apr': 23844, 'shrine': 12157, 'Ferrari': 14013, 'tertiary': 16371, 'Christmas': 3394, '##oos': 26459, 'Viktor': 13845, '##pice': 15633, 'colder': 24444, '##illa': 5878, 'Mariana': 24764, 'ṇ': 734, 'center': 2057, 'Engineers': 8665, 'Pat': 7195, '##ios': 10714, '##Ш': 28389, 'relax': 10482, '##竹': 28958, 'nursery': 17840, 'frigates': 26215, '1808': 13295, 'procedure': 7791, 'advertised': 18428, 'Sol': 17135, '##ued': 17226, 'centered': 8663, '##ficient': 19568, 'theorem': 10384, '##cimal': 27924, 'eagle': 13387, 'Rivers': 10262, '##ǎ': 28266, '25': 1512, 'Ż': 336, 'Fresh': 15756, 'Finding': 18036, 'comprises': 8302, 'Sox': 8913, 'proof': 6777, 'Maya': 9738, 'Metal': 9953, 'paved': 12609, 'Habsburg': 18729, 'Kansas': 4312, '##had': 9574, 'rebranded': 19735, 'agitation': 26134, 'pit': 7172, 'affordable': 19017, 'Landscape': 20544, 'birthday': 5913, 'Observatory': 12498, 'lucrative': 23284, '##ρ': 28353, 'tastes': 18689, 'physically': 8027, 'Realm': 21248, 'playing': 1773, 'basins': 26404, '204': 21355, 'pulmonary': 26600, 'abbreviated': 12258, '##ს': 28608, 'Touring': 21908, 'leaping': 25037, 'swirling': 17814, 'Theological': 14029, '##gnetic': 19975, '##$': 28128, 'FIFA': 5013, '##biotics': 25523, 'acclaim': 10989, '##ier': 2852, '##ched': 6428, 'characterization': 27419, 'Helmut': 27653, '##ologists': 16511, 'и': 483, '##dium': 10876, 'canonical': 21768, 'bacterial': 19560, 'solidarity': 22352, 'Moroccan': 18754, 'Berlin': 3206, 'Ford': 4100, 'assessment': 8670, '##pra': 20488, 'Wanda': 23008, 'ˣ': 388, 'equal': 4463, '##him': 14565, 'Volunteer': 12744, 'Gracie': 20653, 'discretion': 21435, 'Crafts': 26460, 'tasks': 8249, 'Vocals': 9826, 'Alumni': 17934, '##uren': 22920, 'express': 6848, 'duo': 6862, 'Gibraltar': 12410, 'years': 1201, 'Hart': 7103, '##lie': 7174, 'Rabbi': 8915, '##oration': 18227, 'donated': 6384, 'Rollins': 26255, '##ε': 28342, 'USS': 6684, 'Swindon': 24792, 'Sparhawk': 14128, 'cruel': 11224, 'Horne': 27285, 'Ballard': 24241, '##lind': 27969, 'arrondissement': 26592, 'Normal': 14508, 'assumption': 13457, 'Harold': 6587, 'fourteen': 7840, 'motivation': 15710, 'nerves': 10846, 'issuing': 16141, '##ass': 11192, '##any': 18266, 'Virtual': 18486, 'expanse': 26453, '##ի': 28427, 'electrified': 19746, 'Blaze': 27740, '##（': 28990, 'Bones': 13716, 'Prison': 11375, 'biting': 13602, 'Middlesbrough': 23917, 'Split': 17012, '本': 1039, '##otics': 24262, '##apon': 26655, 'notions': 25071, 'relying': 20790, 'ᴬ': 706, 'Vance': 17750, 'spreading': 9243, '##ς': 18143, 'danger': 5170, 'wonders': 21346, '##ü': 17176, 'Petit': 21386, '##tre': 7877, 'き': 899, '##ी': 28533, 'Express': 5764, '##monia': 21667, 'Yours': 25901, '##block': 27467, 'stairway': 27332, 'Bourne': 16799, 'Day': 2295, 'Vale': 10532, 'accusation': 21100, 'Papua': 13361, 'States': 1311, 'previous': 2166, '##iano': 16265, '159': 20485, 'chain': 4129, 'nose': 3678, 'Kill': 11404, '##ming': 5031, 'wrestling': 7325, 'midfield': 26599, '##cos': 13538, 'socks': 16601, 'NHS': 18435, 'chartered': 17064, 'Commerce': 7873, 'Carlisle': 13939, 'AN': 23096, 'diary': 12997, 'importantly': 16246, 'readings': 17813, '##cha': 7147, 'Balkan': 18903, '123': 13414, 'Saturdays': 20459, 'land': 1657, 'realised': 11326, 'marketed': 11777, 'ḥ': 728, 'Tribute': 20140, 'Tale': 14540, '##hsil': 21938, 'Deacon': 23452, 'Fed': 26356, 'tenure': 6999, 'teen': 13964, 'Hassan': 13583, 'Congressman': 15444, 'Famous': 16232, 'resource': 9100, 'exit': 6300, 'Paralympics': 16541, '##ducing': 17484, 'ʌ': 371, 'psychiatrist': 20926, 'dangerously': 24529, 'flopped': 27878, 'print': 5911, 'curves': 10642, 'Graphic': 24318, 'phylogenetic': 28084, '##tise': 22280, 'Value': 24076, 'Ernst': 10624, 'Authority': 5987, '##uated': 13567, '##gat': 25524, 'collaborative': 14684, 'question': 2304, 'hated': 5687, 'Kirby': 15899, '##方': 28925, 'attested': 20000, 'Spaniards': 23068, 'anthem': 15739, 'Beth': 6452, 'criticised': 10543, '##ivable': 25768, 'pregnancy': 10203, 'rated': 6317, '##rring': 15378, 'compulsory': 16472, 'inconsistent': 22410, 'Rovers': 9740, 'donor': 16667, 'iTunes': 12145, 'win': 1782, 'rapid': 6099, 'flame': 9925, 'Girls': 4808, '##aj': 12487, '##ten': 5208, '##tain': 11379, '##zy': 6482, 'valves': 19056, 'Australia': 1754, 'tragic': 15372, 'Eduardo': 15521, '##tamine': 27621, 'Guthrie': 21727, 'Running': 12074, 'automatic': 6973, '##edar': 23785, 'Trilogy': 27329, 'stocks': 17901, 'Shaking': 25227, 'lift': 6012, 'audience': 3703, 'Punk': 19491, 'concept': 3400, 'VI': 7118, '##name': 16124, '##junct': 20327, 'strangers': 15712, 'gig': 17799, 'Hillary': 20001, 'Anna': 3883, '##ynth': 26588, 'tug': 14370, 'sandy': 13366, 'atmospheric': 15129, 'advisors': 26223, '##δ': 28341, 'restaurant': 4382, '1784': 17521, 'surveys': 13634, 'sea': 2343, 'destined': 17348, 'γ': 420, 'choking': 20523, 'Le': 3180, 'Weston': 12946, 'positions': 3638, 'Duck': 16627, 'cramped': 25484, 'combination': 4612, 'Leader': 7308, 'tear': 7591, '##pian': 22032, 'amplitude': 25437, 'activism': 18945, 'Range': 7389, 'immensely': 27590, 'circles': 7839, 'sure': 1612, '1815': 10569, 'َ': 595, 'base': 2259, 'sort': 3271, '##ay': 4164, 'during': 1219, 'remove': 5782, 'Benson': 12093, 'tuning': 19689, '[unused75]': 75, '##cription': 27530, 'stack': 10926, 'encourage': 8343, 'Reed': 7527, 'División': 12583, 'digital': 3539, '##dor': 8380, '##tle': 5034, 'regime': 6716, 'deal': 2239, 'cooler': 16314, 'Organizations': 25684, 'MW': 13277, 'scroll': 21105, 'Wes': 14784, 'Laurent': 15356, '##ζ': 28343, 'ᵉ': 712, 'reconciliation': 21482, 'interesting': 5426, '##tel': 7854, 'chapters': 9611, 'Fu': 14763, '##ت': 28477, 'monastic': 19742, 'asshole': 27877, '##ِ': 28499, 'folklore': 16106, 'preceding': 11139, '380': 18130, 'exhibitions': 8639, 'il': 14596, '##ocks': 18347, 'uttered': 23056, 'ș': 350, 'summoned': 12114, 'anger': 4470, 'cricket': 5428, 'Jessie': 10911, 'hint': 9124, '##cline': 24230, 'Three': 2677, 'cleaner': 23722, '##erty': 17845, '1828': 11521, 'Faber': 24164, 'led': 1521, 'Monaco': 15422, 'Sharif': 22645, 'enormous': 7883, 'Islam': 6489, 'envy': 26867, '45th': 27743, 'coincidence': 18264, 'inhibitor': 27558, 'abilities': 7134, '##mont': 7578, 'inch': 4305, 'alleging': 26099, 'Nonetheless': 16097, 'grip': 5688, '##西': 28963, 'debts': 14689, 'terror': 8938, 'Grade': 6318, 'detect': 11552, '##sdale': 20537, 'saxophonist': 22324, 'developed': 1872, '##ship': 6607, 'offer': 2906, '##istic': 5562, 'Massacre': 20507, 'Casey': 8700, 'Vita': 25118, 'pick': 3368, '29th': 17333, '##on': 1320, 'requested': 6792, 'walking': 3179, 'Rd': 23604, 'Clearly': 19260, 'wheat': 11773, 'abbreviation': 25732, 'Moore': 4673, 'Lynn': 9086, 'ventures': 20135, 'Lacey': 17589, 'Mason': 6287, 'groundbreaking': 27983, 'future': 2174, 'gesture': 8982, 'bruised': 20617, 'p': 185, 'crept': 13462, 'nowhere': 8251, 'diversion': 24183, 'Giro': 21332, 'Marilyn': 15407, 'rates': 5600, '##ahan': 14063, '##roon': 21467, 'grant': 5721, 'ninety': 16696, 'Higgins': 13797, 'Alessandro': 19334, '##orf': 22488, 'articles': 4237, 'Plastic': 26759, 'sucking': 14571, 'Arabic': 4944, 'examined': 8600, '1710': 26699, '##Í': 28188, 'commercially': 11514, 'Kota': 28056, '340': 16984, '##sique': 24808, '##onte': 22994, '##my': 4527, 'hauled': 13486, 'costume': 10220, '##uh': 23698, 'comune': 24382, 'automobile': 11707, 'ships': 2968, '##ify': 6120, '##ews': 17540, '##34': 23124, 'pride': 8188, 'roofs': 16967, 'ache': 12953, 'studies': 2527, '##Η': 28320, 'Python': 23334, 'Parkway': 14293, '##ane': 6354, 'grapes': 19573, 'strength': 3220, '1763': 19877, '##oth': 12858, 'Marley': 22197, 'Resident': 20431, 'Naomi': 13042, 'independent': 2457, 'left': 1286, 'Krishna': 10892, 'comparing': 15089, '##OR': 9565, '##smus': 23283, 'relevance': 25319, 'Steel': 8180, '##law': 9598, '##isco': 21097, 'Frances': 10327, 'generation': 3964, 'ingredient': 24799, '##陽': 28975, 'Davies': 8746, 'troops': 2830, '##nde': 11131, 'Australians': 16646, 'insignia': 19063, 'Greens': 22412, 'tandem': 22090, 'nutrients': 22667, 'chemist': 17382, 'Street': 1715, 'worst': 4997, 'Hasan': 18892, 'pants': 6023, 'relaxed': 8000, '##gman': 24540, 'dollars': 5860, 'shed': 8478, '244': 27160, 'Patti': 25598, 'Sons': 9946, 'Clapton': 27849, '##bina': 23051, 'driveway': 11230, '1989': 2056, 'lost': 1575, 'colonies': 8990, 'Jake': 4387, 'benefit': 5257, 'turret': 15781, 'smoothly': 16193, 'poster': 14525, 'mastered': 20881, '##ear': 19386, 'Loving': 24141, 'diesel': 8887, 'quickly': 1976, 'D': 141, 'load': 6829, 'Baronet': 9023, 'Lakshmi': 23691, 'linguistic': 13633, 'toes': 10497, 'César': 21730, 'School': 1323, 'move': 1815, '##fan': 16740, 'Attendance': 6868, 'Ada': 19222, '##PP': 20923, 'Silk': 14580, '28th': 16398, 'grape': 17291, '##wasaki': 28069, 'civic': 12296, '##té': 14608, '##fting': 16364, 'Teddy': 12684, 'vision': 4152, '##aks': 27843, '[unused93]': 93, 'asteroid': 13708, 'グ': 941, 'burials': 27111, 'Tate': 9727, 'hybrid': 9890, '##sed': 5591, 'Courtney': 14675, '##cal': 7867, '##ities': 4233, 'after': 1170, 'counterparts': 15289, 'Ignoring': 27853, 'Pastor': 19744, '##DM': 20002, '##idy': 25382, 'gloves': 12845, 'commenting': 18912, 'Riga': 19813, 'alumni': 12762, 'sacrificed': 22353, '##strom': 22230, 'thoroughly': 12678, 'volleyball': 9576, 'Compton': 20110, 'halfway': 9079, 'swam': 18065, 'proceeds': 11283, 'requesting': 19458, 'questions': 3243, 'Crawford': 10433, '##ɨ': 28282, '##cre': 13782, 'coats': 19582, 'assessed': 14758, 'Fat': 13723, 'President': 1697, 'doctorate': 10277, 'cottage': 11218, 'Trent': 7524, 'altar': 9625, 'ICAO': 19426, '##נ': 28460, 'Collier': 23946, 'Armagh': 27816, 'contributors': 19492, 'Donnell': 19412, 'ལ': 692, 'constructed': 3033, 'glory': 12887, 'profound': 14511, '##m': 1306, 'drained': 11094, 'casts': 27486, 'bidding': 19520, 'relating': 8616, 'Orthodox': 6133, 'TNT': 27196, 'Académie': 23705, '##onomy': 19608, '512': 27445, 'jerked': 7821, 'navigation': 11167, 'BWF': 23342, '##´': 28169, 'corridors': 19507, 'Warm': 26252, 'appointment': 5516, 'mentor': 11757, 'hearth': 27965, 'Brent': 13150, '##urg': 15243, 'remains': 2606, 'resentment': 22917, 'Drug': 13982, 'Jeep': 19146, '##dir': 15232, 'Lily': 6916, '##ano': 7428, 'Louise': 7790, 'rude': 14708, 'evacuation': 15346, '##ather': 17586, 'Spy': 19212, 'copper': 7335, 'argues': 8935, 'athlete': 8765, 'propaganda': 11516, 'merging': 17862, '172': 19639, 'personality': 5935, 'Concept': 28103, '##ル': 28863, 'ʰ': 376, 'comments': 7640, 'hopes': 7816, 'creditors': 26814, 'う': 895, 'candidate': 3234, 'demand': 4555, 'penalties': 13095, 'Twitter': 10616, '##ement': 14529, '##uffed': 22236, 'null': 26280, 'critical': 3607, '1967': 2573, 'Washington': 1994, 'accident': 4216, 'destiny': 16988, 'goat': 17497, 'Holloway': 23060, 'Leave': 11255, 'Typically': 16304, 'Origin': 18999, 'Amherst': 21618, 'Hip': 12803, 'ア': 931, 'Born': 3526, 'begging': 13498, 'Ventures': 25386, '247': 26049, '##月': 28930, '##hs': 9524, 'Baden': 12311, 'betting': 21891, 'giggling': 25108, 'Frankie': 12991, 'depict': 18274, 'communities': 3611, 'ingredients': 13288, 'Skye': 17685, 'ranked': 3616, 'impact': 3772, '##cellular': 18091, '##⊆': 28760, 'consumption': 8160, 'madness': 16870, 'ص': 579, 'within': 1439, 'Throughout': 7092, '##ntly': 15275, 'functionality': 16354, 'announced': 1717, 'pauses': 21438, '##aan': 13986, 'CNN': 13597, 'triumph': 14558, '##dence': 23496, 'blinding': 22350, 'video': 1888, '##hala': 19456, 'Cash': 10511, '##oar': 19243, '²': 213, '##gro': 21932, 'helicopter': 7948, '##eka': 19413, 'guitars': 7789, 'pack': 5246, 'Kings': 6560, '900': 7208, '年': 1026, 'Auxiliary': 18102, 'berth': 18690, 'lip': 4764, '##tan': 5108, 'Josiah': 27549, 'Jensen': 15535, 'caution': 15597, 'Mobile': 8410, 'petition': 10077, 'Marks': 16875, 'exports': 15765, 'searching': 6205, 'Shane': 8299, 'sales': 3813, '##owa': 24611, 'Clinical': 15961, '40': 1969, '64': 3324, 'bother': 8255, '##ⁿ': 28711, 'financed': 14395, 'structured': 15695, '##point': 7587, 'pause': 8557, '##roo': 24886, 'carved': 7470, 'railing': 16690, 'Madeline': 18087, 'espionage': 25652, '440': 18629, 'Lindsey': 18781, 'fitted': 6609, '1898': 5381, '##hman': 16277, '620': 26387, 'disability': 13996, '##ynamic': 27500, '##eye': 23183, 'Aidan': 12834, 'board': 2313, 'distinction': 7762, '##unts': 17430, 'exclaimed': 12922, 'coaches': 8648, 'scenario': 12671, 'punk': 7899, '##oat': 20534, 'Taylor': 3357, 'plates': 7463, 'Ibrahim': 14338, 'talent': 5939, 'María': 9842, 'much': 1277, '##rant': 6922, 'skilled': 10715, 'commanders': 12392, 'Choir': 12511, '##words': 15573, '##辶': 28966, 'Illustrated': 16424, '##wab': 26580, 'Patricia': 10711, '##not': 12512, 'standards': 4473, 'tractor': 20224, 'conversation': 3771, 'strengthening': 18185, '##VO': 21049, '##color': 21829, '##belt': 24394, '7': 128, 'unchanged': 16684, 'Franciscan': 21183, 'desires': 15827, 'judging': 16839, 'Dickinson': 18843, 'Elmer': 23737, 'running': 1919, '##nar': 13380, 'Davis': 3635, '07': 5004, 'walled': 20016, 'evergreen': 27818, 'Greenwood': 17999, '##ole': 9016, '##食': 28977, 'wetland': 27775, 'surrendered': 10738, 'Hui': 22107, 'disbanded': 8285, 'Ai': 19294, 'loudly': 9733, '##rith': 24969, 'spiritual': 6170, 'Body': 10341, '##yssa': 18467, '##rals': 16179, 'personally': 7572, 'Dictionary': 12496, '##oux': 24060, '##hards': 25099, 'pins': 18607, 'Seventh': 13121, 'optimization': 25161, 'Corps': 3158, '##ows': 11997, 'dig': 11902, '##iard': 18421, '##šić': 23571, 'Δ': 397, '##fied': 8971, 'bankruptcy': 11102, 'Seneca': 23399, 'Rooney': 27238, 'Area': 3894, '##lattered': 26355, '##vic': 15901, '##wu': 20236, '車': 1072, 'restore': 9176, 'Counties': 12259, 'Stafford': 15785, 'Koch': 16165, 'calm': 5017, 'currents': 16334, 'Mongolian': 19210, 'spreads': 23237, 'Denmark': 5140, 'Viper': 24010, '##ダ': 28842, 'Atomic': 18662, 'Early': 4503, 'ringing': 13787, 'Nairobi': 23248, 'shoulder': 2342, 'Summers': 22596, 'hauling': 26483, 'carefully': 4727, 'circled': 15591, 'cycles': 13874, '##hoff': 18681, 'Berger': 17911, '##lastic': 20519, 'ruthless': 20871, 'uranium': 16410, '##phorus': 22848, '##ceived': 21437, 'differ': 11271, 'Summer': 2659, 'mourning': 19837, 'hurling': 18409, 'Concord': 18314, '114': 12620, 'GB': 17909, 'Brothers': 5216, 'moaned': 12732, 'Chester': 8459, 'Jonas': 10693, 'Bond': 8211, 'confront': 15034, 'peasants': 15490, 'disks': 27725, 'motors': 17109, '##lish': 10550, 'Ricardo': 13921, 'foremost': 17766, 'Christians': 7682, 'depiction': 16940, 'Rodrigo': 20551, 'controlled': 4013, 'Josie': 16169, 'follows': 3226, 'feels': 5115, 've': 1396, 'Cold': 7437, 'unnecessary': 14924, 'Approximately': 16349, '##iting': 21412, 'expression': 2838, 'compiled': 9064, '##oda': 16848, 'grouping': 23291, 'Erich': 18773, 'continuing': 5542, 'Evan': 9034, 'Domenico': 20187, 'herd': 17804, '##cate': 20127, 'confrontation': 14002, '花': 1068, 'cultivation': 13958, 'Math': 15112, 'animated': 6608, 'Fan': 16061, 'bonded': 23781, 'motorway': 15316, 'haired': 10742, '##aged': 15841, 'icon': 15802, 'Gale': 19820, '##rley': 12586, 'XIII': 16214, '##edd': 23372, 'NCAA': 5089, 'traits': 13474, 'ordination': 20424, 'cry': 5354, 'Fall': 6760, 'nothing': 1720, '##ías': 22418, '##ckey': 19254, 'altogether': 11257, 'terminal': 6020, 'dam': 6961, 'niche': 20545, 'relocation': 21179, 'topics': 7662, '##zo': 6112, '##iff': 11093, 'pollen': 27151, '##tti': 6154, '##А': 28366, 'qualifications': 18113, 'tracts': 26945, '##hisky': 23395, 'whatsoever': 20748, 'probation': 23793, '##osa': 9275, '##sei': 17191, '##MA': 8271, 'axle': 19100, '##books': 16429, '##愛': 28921, 'judged': 13680, 'Ronnie': 11715, '##tling': 13756, 'Jade': 14976, 'theological': 14757, 'Host': 15919, 'Journal': 3603, 'get': 1243, 'digging': 10750, 'Albion': 13744, 'Kong': 3462, 'Guadalupe': 26306, 'autism': 26969, 'flexible': 13156, '##ant': 2861, 'himself': 1471, 'apple': 12075, '1822': 12439, 'extant': 13551, '##gratory': 24521, '241': 24776, '##ط': 28488, '##irs': 11836, '[unused41]': 41, 'practised': 22426, '##tieth': 24115, 'dotted': 22641, 'lesions': 26052, 'visitors': 5496, '##heses': 18769, 'replaces': 22974, 'went': 1355, 'Lisa': 6516, '##eron': 28032, '##yne': 10941, 'joy': 8730, 'Vera': 13050, 'Applications': 20603, '##aries': 5927, '##evity': 25769, 'sting': 17975, '##hol': 14084, 'Unknown': 16285, 'healing': 9523, 'taken': 1678, '##pled': 13229, 'Crusade': 23983, '1807': 13518, '##LM': 22074, 'Fernandez': 24840, 'sided': 11641, 'wasting': 20930, 'Kris': 21478, 'overrun': 28025, 'desk': 3917, 'Armenians': 22204, 'weeping': 24305, 'culminated': 18048, 'ochreous': 26187, 'steered': 26386, '##Ħ': 28225, '##ulation': 6856, 'crafts': 22009, '##tale': 15903, 'ensuring': 13291, '##centric': 24684, 'Kapoor': 18321, 'Bin': 21700, 'trigger': 9887, '##ial': 2916, 'internet': 7210, 'lime': 18669, 'LDS': 18966, '##lemma': 23397, 'unit': 2587, 'Scotch': 26549, 'Σ': 408, 'Whole': 23765, 'Phillip': 10766, 'pose': 14131, '##inus': 12376, 'loves': 7871, '##lists': 18286, 'conventional': 7228, 'Plata': 21576, 'quarterly': 21081, 'associations': 9815, 'hiss': 23382, 'critic': 5959, 'intake': 14741, 'mirrors': 15700, 'progressed': 12687, '##mat': 21943, 'commuter': 17397, '##astic': 25066, 'feeds': 15044, 'databases': 19908, 'Peoples': 19448, 'rushes': 20577, '##æ': 28200, 'Florence': 7205, 'ང': 686, 'ნ': 702, '##ody': 22320, 'estimated': 3555, 'glide': 25701, 'fumbled': 21909, '##rone': 18516, '2003': 1581, 'drifted': 9876, 'cruisers': 18755, 'purchases': 18908, '##mento': 26173, '17th': 4815, 'writer': 2432, '##are': 8836, 'Honorary': 9351, 'artwork': 8262, '1802': 13847, 'reproduce': 23577, 'firearm': 27356, 'Nov': 14152, 'awarding': 25055, 'Featuring': 27397, '##gold': 26684, 'stars': 2940, 'culturally': 23656, '##zak': 24996, 'twist': 11079, 'Dexter': 15815, '##ún': 26784, 'Stand': 11232, '##ceded': 26141, 'removes': 22391, 'Joshua': 8777, 'Caleb': 9997, 'Third': 4180, 'peasant': 17231, 'command': 2663, 'accreditation': 21653, 'Trinity': 6626, 'straining': 24089, 'Wehrmacht': 26165, '##dging': 13556, 'concerts': 6460, 'Musicians': 24108, 'TV': 1794, 'desperately': 9600, 'mounting': 17361, '##nated': 25206, 'parallel': 5504, 'bouncing': 18302, 'output': 5964, 'Hope': 5977, 'Call': 7268, 'Hard': 9322, '##LL': 23955, 'Seal': 19200, '##4th': 23829, 'literature': 3783, 'Saxony': 13249, 'Relief': 13436, 'academics': 16878, '##oes': 19270, 'contacts': 10492, 'Programs': 18555, 'anywhere': 5456, 'funded': 6264, '##プ': 28855, 'versus': 6055, 'Kyrgyzstan': 25874, 'implement': 10407, 'Co': 3291, 'Elise': 14945, '##chi': 4313, 'amazement': 24100, 'Weir': 20931, '##matic': 10734, 'norm': 18570, 'פ': 553, 'hesitant': 22489, 'Biological': 20312, 'Moment': 24334, 'り': 927, 'youths': 23149, 'Göttingen': 26619, 'Highway': 3580, '##tics': 7376, 'meaningful': 17119, 'geographically': 26160, 'ranged': 16859, '##itte': 25608, 'occupies': 14679, 'improvised': 22421, 'verb': 12464, 'democratic': 9327, 'Walls': 22211, 'Obama': 7661, 'variant': 8120, 'optional': 13027, '##pler': 20687, '##山': 28914, 'frenzy': 27221, '104': 9377, 'credentials': 25644, 'skeleton': 15427, 'Armenian': 6985, 'Speed': 10856, 'MCC': 26692, 'addresses': 11869, 'widening': 19852, 'bat': 7693, 'Kiev': 12220, 'Château': 19281, '##vout': 27729, 'facility': 3695, '##ashi': 18303, '##en': 1424, 'Tucson': 18740, '##ronological': 25531, '##imation': 21517, 'Whitehead': 25994, 'prone': 13557, 'waterfall': 16962, 'Turnpike': 23303, 'tingling': 26882, 'Rio': 5470, '##horn': 9772, 'deceased': 10281, 'Sheridan': 13566, 'badly': 6118, 'geographic': 13351, 'DB': 24044, '1730': 25914, '##pole': 16293, 'Southern': 2685, 'sparse': 22726, 'Mickey': 11028, 'ignited': 25092, '##aton': 21113, 'Burnley': 25670, '##kle': 12767, 'Contemporary': 6845, 'urges': 27169, 'attending': 6546, 'flanked': 16947, '##ä': 17479, '##trate': 18775, 'keen': 11367, 'Preliminary': 26308, '##lone': 25770, 'Appearance': 27717, '##ز': 28483, 'blow': 5993, 'Equal': 26933, 'quantity': 11978, 'recognizes': 15294, 'mothers': 12694, 'path': 3507, 'definitions': 16687, 'superintendent': 15778, 'mad': 6340, 'blond': 8781, 'ј': 510, '##シ': 28837, 'edged': 13324, 'Amtrak': 22129, '##AP': 12240, 'also': 1145, 'Atlanta': 5161, 'Pacific': 2662, 'McLaughlin': 26721, 'Gear': 20683, 'derive': 20292, 'flashback': 27836, 'motorcycle': 9580, '##uma': 10161, 'forgiveness': 19827, 'predominant': 23375, '##eti': 26883, 'lengthy': 12628, 'qualifiers': 23504, 'Million': 16660, '##sin': 10606, 'lush': 19302, '##Ц': 28387, '##fen': 13488, 'poker': 15772, '1937': 3493, 'Bangladesh': 6735, 'NY': 5883, 'falling': 4058, 'foods': 11785, 'Tag': 9697, '##ώ': 28363, 'Luzon': 23985, '##tie': 9570, 'Rashid': 24736, 'McIntyre': 27873, 'saving': 7740, '##grove': 14606, '##TF': 22169, '##ckoned': 21666, 'aided': 12340, 'Blues': 5791, '##OH': 23293, 'Monty': 19955, '##dad': 14810, '##gated': 10901, 'Ḥ': 727, '##MR': 21148, 'autonomous': 10661, 'leveled': 25569, 'demolition': 14295, 'Irving': 12581, '##writing': 17729, 'Aston': 14901, 'takes': 2274, 'introducing': 11100, 'bow': 7125, 'towards': 2019, '1824': 11638, 'waiter': 17989, '4th': 3492, 'wrote': 1724, '29': 1853, 'broadcasts': 8737, 'collar': 9704, 'darted': 14568, 'ACC': 18396, '##lm': 13505, 'Beyond': 8270, '1860s': 16840, 'DS': 18448, 'Rue': 19780, '##bay': 22771, '##ব': 28557, '##quez': 12018, 'salad': 19359, '370': 17455, 'dragons': 14744, 'balcony': 12025, 'Learning': 9681, 'footballer': 3585, '##tras': 25352, 'concerning': 6995, 'Midwest': 14661, 'temporary': 5335, 'Erwin': 24652, 'component': 6552, 'especially': 2108, 'nobleman': 20444, 'feasible': 25667, 'Gloucester': 13695, 'sprang': 16636, 'rifle': 6658, 'gymnasium': 17602, 'tables': 7072, 'Lausanne': 24688, 'lighting': 7570, '##rle': 15576, 'hook': 10329, 'Associated': 12835, '##rice': 10835, '##ened': 4772, '##vations': 22553, 'events': 1958, '##bark': 24063, 'Sega': 17979, 'throbbing': 18767, '##rcia': 24579, '##church': 26037, 'Process': 18821, 'strongest': 11112, '##TC': 9481, 'Hate': 20735, 'Thorpe': 22237, 'casualties': 8487, 'Susan': 5640, 'divided': 3233, '##iled': 11908, 'stint': 12249, 'ɨ': 361, 'AP': 10997, '##ո': 28432, 'Oxfordshire': 21945, 'barred': 17081, 'retailer': 23495, 'cluster': 10005, 'fl': 22593, '##keepers': 26888, 'Files': 21231, '사': 1089, 'Providence': 11658, '##ge': 2176, 'Casino': 14773, '##uth': 15796, 'periods': 6461, 'Latino': 6897, 'website': 3265, 'knees': 4257, 'pitched': 7813, '##lut': 25937, 'Which': 5979, 'Literature': 7594, 'dove': 15811, '##oop': 24064, 'derivative': 14478, 'auxiliary': 13817, 'AG': 14731, '##isk': 13189, '##EX': 24654, 'Agricultural': 10705, 'stating': 4797, 'unison': 21658, 'congressional': 10974, 'sunrise': 23859, 'infected': 10594, 'Devils': 16459, 'influenced': 4401, 'Gardens': 9035, 'Field': 3479, 'weekends': 14464, 'aquatic': 16500, 'Bali': 22403, '##caster': 24175, 'portions': 8924, 'playfully': 25350, 'citation': 19548, 'Liverpool': 5555, 'Discovery': 11250, '##ffs': 13348, 'PS': 12727, 'escapes': 13481, 'squares': 16004, 'sabotage': 23959, 'concludes': 15382, '[unused26]': 26, '##to': 2430, 'edge': 2652, '##un': 3488, 'cottages': 22264, 'Paula': 14153, 'Wicked': 25262, '##ひ': 28810, '09': 4925, 'sharp': 4295, '233': 24482, 'cop': 9947, 'Stevie': 18702, 'operator': 6650, 'De': 3177, 'chess': 10924, 'smells': 16533, 'operations': 2500, 'lied': 10118, 'obstacle': 20382, '##rked': 23499, '##œ': 28241, 'AM': 6586, 'dominance': 14678, 'Wife': 15256, 'Harcourt': 25272, 'styled': 14174, '##ishes': 19033, 'empty': 3427, 'challenge': 4506, 'consultant': 9496, 'polling': 20990, 'agricultural': 5035, 'whiskey': 17714, 'Sioux': 17680, 'タ': 948, 'Wien': 25505, '##lace': 17510, 'Ferdinand': 9422, 'hopped': 18507, 'Built': 10521, 'suicide': 5680, 'details': 4068, 'shorts': 9330, 'rumor': 24206, 'reappeared': 25696, '##ere': 9014, 'よ': 925, '##af': 9823, '”': 790, 'Rowland': 22473, 'Drugs': 26500, 'hurled': 27060, '##郡': 28969, '##>': 28144, 'Salvation': 22781, 'achieving': 11190, 'alternating': 16307, 'splashed': 24514, 'Sumner': 26810, '##iname': 28085, 'ी': 630, 'Game': 3497, 'frame': 4207, 'Monument': 12267, 'trophy': 11073, 'Desire': 23325, 'interrupting': 25602, 'Elm': 25877, '子': 1014, 'Callie': 21894, 'miracles': 27658, 'Lauren': 10177, 'IN': 15969, 'alert': 10427, 'lifted': 3358, 'Kramer': 17615, 'Nothing': 4302, 'Chichester': 26101, 'casually': 13725, 'Party': 1786, '1869': 7354, '##ings': 5018, 'brave': 11313, 'cyclone': 15202, 'zinc': 19159, 'prevention': 13347, 'Mira': 20290, 'Sovereign': 24600, 'motivated': 13241, '##Ț': 28272, 'ỹ': 767, 'Paige': 18179, '##υ': 28356, 'AHL': 22030, 'shrubs': 20918, 'Luxembourg': 10665, 'landscape': 5882, '1750': 19546, 'incorporating': 14239, 'Saints': 7099, 'Nikolai': 14374, 'industry': 2380, '##tical': 10165, 'religious': 2689, 'lanes': 11348, 'س': 577, 'Baseball': 5079, 'ally': 11989, 'Nature': 7009, '##the': 10681, '##bies': 16751, 'Bow': 21107, 'Raleigh': 16755, '##η': 28344, '##ropic': 27098, 'proven': 9893, 'Warfare': 22394, 'Stockholm': 8583, 'choices': 9940, '##bide': 22742, 'invaders': 22864, 'Malmö': 27501, 'bay': 5952, 'target': 4010, 'conventions': 14483, 'inventions': 26627, 'Creek': 3063, 'businesses': 5028, 'enjoyed': 4927, 'feudal': 18594, '##hh': 23830, '##ᵗ': 28621, '##este': 17563, '##€': 28731, '##ung': 4380, ')': 114, 'polar': 15281, 'Sang': 22409, 'substrate': 17498, '##³': 19763, '##ema': 14494, 'Curry': 20422, 'composing': 18031, 'wakes': 19355, 'clutched': 13887, 'liturgical': 22628, 'arranger': 16163, 'founders': 9004, 'Guido': 22277, 'glands': 26310, '_': 168, '##oor': 15626, 'punch': 9592, 'Craven': 24422, 'Against': 8801, '##л': 28400, 'Quarterfinals': 13582, 'Costa': 7176, '##nka': 22294, 'North': 1456, 'recognized': 3037, 'ס': 551, 'were': 1127, '##EA': 12420, '##nto': 10153, 'recorder': 18898, '##hya': 20622, 'completed': 2063, 'remembered': 3801, 'Detroit': 4908, '##gan': 3820, 'axe': 16301, '1996': 1820, 'companions': 12994, 'Paz': 20136, '##ub': 10354, 'nominated': 3639, '##kov': 7498, 'Phoebe': 19704, 'Eastman': 27251, 'careful': 5784, 'sore': 15939, 'narrowly': 11982, 'hesitate': 17467, 'hobby': 22510, 'lungs': 8682, '##ations': 6006, '##rvin': 22466, '##eller': 13703, '##uni': 19782, '##uo': 11848, 'Tomorrow': 10656, '##48': 19203, 'implements': 24935, 'sophisticated': 12580, 'freeway': 14373, 'replication': 25544, 'celebrating': 14118, '##sions': 14971, '##pol': 23043, 'Zimbabwe': 11395, 'spun': 6964, 'Esther': 15261, 'schooner': 25756, 'immigration': 9027, 'diamonds': 16031, 'brain': 3575, 'Piedmont': 20970, 'Missing': 20801, 'risked': 24925, 'doctoral': 12308, 'enrolled': 7945, 'Celebration': 22677, 'twenty': 2570, 'Member': 3844, 'strikes': 9778, 'rational': 12478, '306': 27724, 'Quran': 23593, 'Navajo': 24954, '[unused43]': 43, 'uh': 14863, 'Hit': 15375, '##lities': 16652, '302': 24412, 'contrasted': 24681, '##`': 28152, '##ltration': 21875, 'Granny': 23957, '##dek': 27170, 'wrestlers': 15381, 'Cause': 20111, '##bourne': 10526, '##GM': 23169, 'dub': 23700, '##‡': 28695, 'squadrons': 13352, 'Worker': 26455, 'studios': 8522, '##BA': 8215, '##osh': 14695, 'trolley': 27546, 'padded': 22862, 'propelled': 17314, 'packed': 8733, 'laborers': 27245, 'sick': 4809, 'flock': 24117, 'completely': 2423, 'Samuel': 4424, 'hairy': 18419, 'eliminate': 11125, '##ean': 7766, 'reminder': 15656, 'Degree': 16861, 'battleship': 21335, 'Extended': 19757, '##hering': 23341, 'lock': 5842, 'Office': 3060, 'sheets': 8675, 'Viking': 13264, 'rebel': 10474, '##₉': 28716, 'ジ': 945, 'call': 1840, 'Arcade': 22697, 'Ser': 19536, 'stirring': 20329, 'В': 450, '##hiva': 22268, '##rva': 13461, 'workplace': 19328, '##土': 28899, 'Jon': 5703, 'overhead': 9008, 'Rocky': 9376, '1817': 12698, 'Celebrity': 20448, 'courtesy': 15897, 'aux': 24544, 'stool': 15631, 'Caden': 26402, 'wasn': 1445, 'reduces': 13822, 'hooded': 25076, 'collaborate': 23200, '##ative': 5838, 'Andrei': 19668, 'Gregory': 6813, '##ators': 11664, 'enclosure': 19904, 'nationalism': 16767, 'iPhone': 19641, '##₤': 28730, 'habitat': 6296, 'Conflict': 23419, 'followers': 8618, 'Shipyard': 27542, 'Stranger': 19153, '##agh': 19947, 'Mitchell': 5741, '##all': 5727, '##rned': 23537, '##coa': 20535, '##ễ': 28650, 'Pascal': 19636, '##unted': 13153, 'Mega': 16501, 'photography': 6427, 'guide': 6388, 'matched': 10260, 'ŷ': 334, 'fatty': 24862, 'Romero': 19731, '##B': 2064, '##theon': 24471, 'Mt': 13086, 'deliberate': 16170, 'lazy': 16688, 'click': 13440, '##W': 2924, 'Glory': 12519, '##ilize': 21225, '##safe': 27789, 'Dietrich': 25110, 'Olympics': 2932, 'Advisor': 20567, 'Angola': 13833, 'CDP': 8170, 'Life': 2583, '##sted': 8546, 'Aero': 23877, 'conceal': 21689, 'friend': 1910, '##rase': 24839, '##giri': 25899, 'put': 1508, '##eous': 13169, 'Suicide': 25067, '##bedience': 18100, 'ambient': 20068, 'emigration': 24806, 'vodka': 27407, 'oldest': 3778, 'varying': 9507, 'skater': 21827, 'Emilia': 22836, '##skaya': 23888, 'inherited': 7459, '##zilla': 20366, 'fighter': 6295, 'Barack': 14319, 'Guard': 4813, 'Kick': 27596, 'Chart': 6900, 'Crisis': 12234, '##oa': 12985, 'Lifetime': 14852, 'Online': 10523, 'amusement': 10367, 'Monkey': 18499, '##BB': 20056, 'melodies': 20134, '##ka': 1968, 'Languages': 18388, '##wirl': 26137, 'pill': 21822, 'Stamford': 24944, 'dad': 4153, 'barrister': 24145, 'listener': 23392, '##zophrenia': 26474, 'Brien': 9620, 'ET': 27269, '##hit': 17481, 'father': 1401, '##bbs': 20763, '##。': 28779, 'Collins': 6266, 'Vishnu': 18996, 'loads': 16955, '二': 982, 'statutory': 17302, 'feelings': 4681, 'Clubs': 18812, '##bbed': 14882, 'incapable': 21888, 'awarded': 2152, 'mother': 1534, 'ń': 307, '254': 24613, 'Force': 2300, 'Excuse': 20676, '##riz': 28021, 'vault': 13454, '##ག': 28588, 'High': 1693, '##heus': 25212, '##Я': 28392, '##asis': 14229, 'ћ': 512, '##riel': 16753, 'herself': 1941, '##ᵘ': 28622, 'Traffic': 15727, 'Images': 21496, 'Avery': 12274, 'increasingly': 5672, '##stabulary': 26644, 'McLaren': 20256, 'mechanic': 19459, 'ongoing': 7173, 'Thorne': 14872, '##pella': 22517, 'nets': 26188, 'serpent': 26534, 'spite': 8438, 'Funny': 16819, 'any': 1251, 'Col': 9518, 'Ezra': 17275, 'Expeditionary': 19345, 'noble': 8604, 'animation': 8794, '☆': 874, 'Warrior': 12896, 'relieved': 7375, 'photographs': 6810, '##kins': 9615, 'resume': 14926, 'twists': 24008, '##ju': 9380, '##llan': 22066, '##lum': 7776, 'Jeff': 4274, 'intensive': 12885, 'yielded': 18826, 'arena': 8176, '##cas': 21995, 'Nanjing': 23761, 'Pocket': 22595, 'evangelical': 26046, '↑': 844, 'facilities': 3380, 'Raiders': 12317, '83': 6032, 'denied': 5762, 'Albanian': 9104, 'Basil': 16209, 'flattened': 17454, 'Dominion': 17609, 'exclude': 26132, '##balls': 20088, '##hil': 20473, '##wark': 27319, 'Vlad': 20868, '##ngled': 25675, 'fangs': 12085, 'bones': 6476, 'Philharmonic': 12615, 'rocket': 8964, 'favorites': 25735, 'progressively': 22770, 'Alright': 18009, 'Anti': 8329, '##ctional': 17264, '،': 559, 'moments': 4899, 'sends': 10130, 'Panel': 20339, 'leaving': 2128, '##blast': 27184, '##hita': 24648, 'One': 1448, 'reflected': 7226, 'obey': 17088, 'crossing': 4905, 'symbols': 9282, 'Northwestern': 13437, '##ider': 18494, 'Way': 4714, '##lts': 24735, 'southern': 2359, 'Designer': 25174, 'trauma': 14780, 'remixes': 20168, '##」': 28783, 'Patton': 19451, 'behaviors': 16711, 'staircase': 11035, 'shrines': 26723, 'technically': 12444, 'intensely': 22695, 'enjoy': 5548, '##松': 28936, 'destroyer': 11871, '246': 24826, 'Napoleon': 9006, 'legitimacy': 25844, 'Burr': 27473, 'Appeals': 12566, 'Rudolf': 12995, 'wrists': 12294, 'Maharashtra': 12626, 'Douglas': 4402, 'Mexican': 4112, '250': 4805, 'crosses': 7566, '##tero': 25710, 'gunfire': 19188, 'Cities': 12380, 'pinning': 25970, '##♠': 28770, '##ls': 3447, '##gar': 5526, 'integration': 9111, 'serviced': 25658, 'ñ': 263, 'Emergency': 11177, '##dition': 14669, 'ニ': 956, 'Plaza': 9761, '##ues': 10589, 'Dirty': 14853, 'UCI': 15166, '##ppe': 20564, 'Lankan': 17170, 'anatomy': 19768, 'restored': 5219, 'infectious': 20342, 'Salem': 10293, '##pired': 23709, 'innovation': 11279, 'adjusting': 21763, '##…': 28697, 'Ä': 229, 'homosexuality': 18160, 'fuzzy': 22520, '##mill': 11734, 'psychiatric': 17123, 'gasp': 12271, 'І': 446, 'Wilmington': 18150, 'Wichita': 20124, 'Educational': 11423, 'Grande': 9109, 'doors': 3581, 'Hayden': 14344, 'grove': 28011, 'captained': 17251, 'syntax': 24426, 'scholarly': 13527, 'synthesized': 26662, '##ù': 22702, 'steep': 9458, 'serum': 23651, 'successfully': 4358, 'ᶠ': 725, 'tape': 6649, 'cleaning': 9374, 'listen': 5113, 'Nelson': 5232, 'tier': 8081, 'topped': 9065, 'Aires': 8837, 'total': 1703, '##amine': 19577, 'Locke': 19779, '79': 5899, 'Yates': 22260, 'Alternatively': 23104, 'Pembroke': 23647, 'bundled': 28003, 'Complete': 12735, '[unused28]': 28, 'miniature': 14547, '##llo': 6643, 'simulcast': 22820, 'exist': 4056, '##λ': 28348, 'mates': 16195, '##●': 28766, 'Kerry': 11253, 'separating': 15352, '##ilizer': 25833, 'Monastery': 14098, 'Directed': 16698, 'relaxing': 22187, '##RO': 21564, '##isław': 26515, 'Tudor': 16528, 'invalid': 22475, 'neighboring': 8480, 'uneasy': 16782, '##ynn': 20906, '##ilon': 27599, '##minated': 23713, 'traveled': 5505, '£2': 24155, 'ceramic': 17060, '##dea': 18747, 'Elsie': 27737, 'Classification': 19295, 'unified': 13943, 'Lemon': 27322, 'guilty': 5425, '2002': 1617, 'molecular': 9546, 'Gymnasium': 19431, 'Gao': 20756, '##¶': 28171, '##imed': 24733, 'Juno': 23359, 'midway': 20271, 'doubts': 14351, 'acknowledge': 13812, 'Maud': 24351, 'brand': 4097, 'Enforcement': 22990, 'tracked': 13183, 'Benin': 23552, '##thical': 26610, 'elected': 1809, 'sarcastically': 26708, 'Archives': 12422, 'behalf': 6261, '##oting': 13460, 'Cary': 22527, 'licensed': 6825, 'Server': 18950, 'Robinson': 5485, 'text': 3087, 'explosions': 20518, '##uations': 24176, 'Friendly': 27755, 'excuse': 9107, 'toys': 12967, '?': 136, 'dusty': 19769, 'Gregor': 18123, 'danced': 11103, '##erson': 18608, 'doubted': 13216, 'Limited': 5975, 'Oldham': 19684, 'worm': 19686, '##era': 5970, 'happiness': 9266, '[unused76]': 76, '1921': 4085, 'motel': 18976, '[unused60]': 60, 'scrub': 20712, 'stood': 1866, 'sexual': 3785, 'horizontal': 10012, 'scholarship': 7084, 'connection': 3797, 'dislike': 20662, '##ltry': 21001, 'desired': 8759, 'attacks': 3690, 'Different': 14380, 'repertoire': 14674, 'crew': 3039, 'consciously': 27835, 'armoured': 16267, 'curl': 17331, '##sner': 23430, 'Ascension': 28073, 'Robbins': 19462, '##ully': 16125, '##ن': 17754, 'jaws': 19946, 'SD': 19416, 'rejecting': 25537, 'chairs': 8391, 'texture': 16117, '##icidal': 27804, '##elling': 25518, 'package': 7305, 'Rita': 11821, '##光': 28883, '##rdi': 16936, '##bones': 21672, 'yielding': 23731, '[unused8]': 8, 'dissertation': 16435, '##ilization': 15100, '##nium': 14553, 'Poems': 13820, 'upheld': 17923, 'Metro': 6431, 'subscription': 16759, '##¿': 28178, '##έ': 28336, 'Lex': 19993, '##rative': 15306, '##ference': 16792, 'Cream': 24511, '##門': 28974, 'Poland': 2870, '##wes': 14291, 'documentation': 14371, '##urance': 18054, 'Singer': 10636, 'contested': 6839, 'buying': 9241, 'scratch': 14515, '##cho': 8401, 'Consolidated': 23582, 'hospital': 2704, '##hao': 22235, '##տ': 28434, 'logical': 11730, 'returning': 3610, 'ramp': 14207, '₂': 813, 'Legion': 8890, 'formation': 3855, '##ries': 3377, 'embrace': 10249, 'selected': 2700, 'War': 1414, 'separate': 2767, 'Fernando': 8834, 'Ranking': 13332, 'pirates': 14978, '##owing': 13621, 'ώ': 445, 'marginal': 16404, 'Haley': 17703, 'gazing': 18538, 'Leading': 16425, 'metal': 2720, 'respects': 18788, 'drown': 22592, 'log': 9366, '##loy': 26179, 'Syed': 21626, 'Fuck': 10259, '##ible': 5225, 'heavier': 12163, 'Ravens': 21848, 'artworks': 25466, 'diameter': 6211, 'cup': 4355, 'seasons': 2955, 'Latin': 2911, 'resolution': 6021, 'League': 1453, 'acknowledged': 8646, 'Projects': 21454, '##rita': 15662, 'spelled': 11517, '##water': 4669, '1968': 2477, 'Jimmie': 27806, 'involved': 2017, 'Strike': 15425, 'Christianity': 7522, 'legislation': 5626, 'Cambodia': 13101, 'ɛ': 358, 'Besides': 4981, '##と': 28805, 'render': 19566, 'suspicious': 10108, 'bolts': 23642, 'disappointment': 10866, 'bicycle': 11639, 'aggregate': 9453, 'exile': 8879, 'Robson': 26548, '##ii': 6904, 'absently': 24420, 'Samoa': 15850, 'drew': 3583, 'ď': 286, '##ord': 6944, 'Rosario': 19274, 'Antarctic': 10053, '##llars': 27299, '##inate': 14248, 'Harriet': 14766, 'finest': 10812, '##aling': 13248, 'use': 1329, 'Breuning': 19559, 'Amiga': 27424, 'anniversary': 5453, 'Hung': 26157, 'Agriculture': 8273, 'reduced': 3549, 'A1': 18967, 'hear': 2100, 'scrambled': 13988, 'す': 905, 'Distance': 22694, '##Б': 28367, '##CC': 12096, 'smacked': 20969, 'cake': 10851, 'observed': 4379, 'prove': 5424, '##mani': 21132, '##@': 28146, '##dong': 17091, 'captures': 21540, 'conferences': 9759, 'modification': 15156, 'write': 3593, 'flowing': 8342, 'readers': 8460, 'speeds': 10979, 'Weekend': 17240, 'signed': 1878, 'Making': 10697, 'pine': 10194, 'Genoa': 16745, 'quote': 15882, 'racist': 18848, 'Cain': 11753, 'bury': 16712, 'Elite': 13995, '##ogies': 22339, 'Giving': 22700, 'Ellen': 8821, '##bey': 18503, 'deals': 8927, 'ominous': 26858, 'length': 2251, 'life': 1297, '156': 17801, 'Haas': 25730, '##ή': 28337, 'geology': 18170, '##adia': 21403, 'Rockefeller': 17768, 'attention': 2209, 'Mercury': 10080, 'Award': 1698, '##ort': 12148, 'distinguish': 10706, '2D': 22947, 'Harrisburg': 27676, '##শ': 28562, 'imprisoned': 8269, 'ṣ': 736, 'disciplinary': 21334, '##ctive': 13851, 'NWA': 16707, 'Monitor': 24803, 'Seems': 25686, '##ddle': 13002, '##mal': 7435, 'work': 1250, 'stream': 5118, 'routing': 19044, '##mate': 7213, 'aisle': 12899, 'ự': 765, 'bays': 15520, 'respect': 4161, 'Stephanie': 11952, 'functional': 8458, 'fetch': 21616, 'pressing': 7675, 'paint': 6628, 'expansion': 4298, 'independence': 4574, '##sies': 23434, 'Papal': 26202, 'concerned': 4264, 'Sheikh': 13609, 'Daily': 5732, 'administrators': 18083, 'metre': 7545, 'Advanced': 8445, 'wash': 10124, '月': 1037, '##beck': 10869, '##ờ': 28659, 'Birthday': 16168, 'performance': 2099, 'Drums': 11714, 'Ceylon': 17469, 'Inn': 9859, '##pore': 21370, 'spines': 22503, 'securing': 12796, 'measures': 5252, 'laude': 27159, 'MC': 12029, 'bush': 13771, 'Henri': 8498, 'sculptures': 11101, '##iva': 12416, 'occupation': 5846, 'mortal': 11647, '##dent': 11951, '##standing': 17277, 'Standing': 9996, 'list': 2190, '##lights': 13231, 'replica': 16498, '##narl': 27831, 'Rugby': 5457, 'northward': 18619, 'helping': 4395, '##lar': 5815, 'talk': 2037, '##ulo': 22806, 'RAF': 6733, 'ten': 1995, 'encoding': 18922, 'yet': 1870, '木': 1038, 'Simon': 3274, 'Language': 6828, 'harbour': 11614, 'tire': 15269, '##ending': 16264, '194': 21720, 'RTÉ': 23890, 'developing': 4297, '##oly': 23415, 'shaped': 4283, 'Somewhere': 17197, 'Anastasia': 21201, 'ᵖ': 717, 'horrified': 16161, '1759': 23920, 'daughter': 1797, '##χ': 28358, '##SN': 24597, '##MT': 13910, 'Ching': 24711, 'slightest': 16960, 'capitalism': 20582, 'Cretaceous': 19605, '##ий': 21911, 'shape': 3571, 'Lighthouse': 21432, 'successful': 2265, 'nervous': 5604, 'obligations': 15337, 'Freud': 21058, '##érie': 23081, 'bait': 21012, '##ylon': 22099, 'chilled': 27278, 'Plymouth': 10033, '##chy': 8992, 'compound': 7090, 'sheltered': 20052, '##boe': 21968, 'Thousand': 19223, 'famine': 20859, 'Emirates': 14832, 'academy': 8717, 'special': 1957, '##eak': 23783, 'Supreme': 3732, 'Xbox': 12335, 'aggressive': 9233, 'scars': 15066, '##DA': 11392, '##osterone': 26622, '##uries': 19363, 'Wright': 5445, 'Paraguay': 14345, 'convergence': 25628, 'fabric': 8113, '##cock': 11157, 'Anyone': 15859, 'fathers': 15920, 'prize': 4716, '##в': 28394, '##icked': 27545, 'sliced': 17053, '##lim': 24891, 'citing': 9036, 'Better': 8529, 'consideration': 9486, '~': 199, '1829': 11527, 'sunglasses': 18679, 'ancestry': 11626, '##nger': 11576, '村': 1041, 'Conference': 3047, 'Jan': 4945, 'hole': 4569, '##agger': 28100, 'Á': 227, '##aux': 10172, 'slashed': 26551, '##PI': 23203, 'Colour': 25809, '##く': 28793, 'candles': 15560, '##gi': 5389, 'lines': 2442, 'mode': 5418, 'Lublin': 20588, '##emon': 25027, 'squared': 23215, 'Philips': 20810, 'sealing': 26787, 'Flint': 17741, 'Peace': 5370, 'virtually': 9024, '##tail': 11154, 'Chandler': 14394, 'Ritchie': 22299, '##vated': 18588, '##fuse': 23718, 'spectacular': 14449, '##dious': 24348, '##ovo': 18105, 'ah': 18257, '##tz': 5745, 'slang': 25881, '##ycle': 21172, 'posthumous': 22691, 'holding': 2355, '─': 869, 'sides': 3091, '1839': 9796, '##ị': 28652, 'foreign': 2880, 'exceptions': 12408, 'न': 615, 'distant': 6531, 'essays': 11001, 'attacking': 7492, 'ghosts': 14586, 'calculations': 17891, 'shake': 5854, 'AIDS': 9837, 'stove': 18362, 'famously': 20025, 'Lulu': 24702, '##♣': 28771, 'painful': 8920, '##chichte': 25124, 'plays': 2399, 'mathematical': 9988, 'cans': 20668, 'Bolivia': 11686, 'laws': 3892, 'exercises': 11536, 'motif': 17853, 'Dex': 23058, 'money': 1948, 'clearance': 16443, 'Ji': 13997, 'Santo': 11832, 'Crash': 21229, '1900': 4337, 'Arturo': 22462, 'Angeles': 2460, 'Poet': 22381, '##edestal': 27571, 'Sept': 20456, '##龸': 28981, 'Couldn': 23320, 'child': 2027, 'ç': 253, '##lain': 15858, 'Adam': 3379, 'Work': 6955, 'Romanian': 6481, 'cookie': 25413, '##ỹ': 28669, 'Due': 4187, 'Mitsubishi': 21450, '##anche': 23742, 'Rear': 15053, 'card': 3621, 'shop': 4130, 'launched': 2536, 'modules': 15412, 'statutes': 24026, 'noted': 2382, 'Toyota': 11801, 'extremely': 4450, 'Scientific': 8787, '##dar': 7858, '##wara': 11525, 'Imam': 21765, 'mark': 4551, 'Institutions': 26343, '##ases': 23105, '1762': 22840, 'devices': 5197, '##uan': 8734, 'ODI': 23882, 'shook': 2291, 'camera': 4504, 'moon': 5907, 'evacuated': 13776, 'uncommon': 14124, 'AT': 13020, '##ṛ': 28637, '##eavor': 26687, 'δ': 421, 'attackers': 19450, 'hall': 2885, 'Kern': 25682, 'advertisements': 15448, 'reefs': 24934, '1950': 3067, 'relationship': 2398, 'Boris': 11265, 'nipple': 15070, 'compelled': 15957, 'educate': 18584, 'Ex': 16409, 'MV': 23061, 'Bolshevik': 27904, 'previously': 2331, 'quest': 12485, 'Shake': 25775, '##ظ': 28489, 'coordination': 14501, 'abbot': 19966, 'Napoleonic': 20395, '##ttered': 16616, 'margins': 18717, 'allowing': 3525, 'Martina': 26254, '##.': 28138, 'propose': 17794, 'Pandora': 20944, 'trim': 13373, 'meals': 13077, 'Milo': 22644, '##ky': 3781, 'coasts': 23278, '##ca': 2599, '##tion': 2116, '##ssent': 26614, 'Cooper': 5588, 'Pick': 20984, 'chains': 9236, 'nearby': 2721, 'unavailable': 22254, 'reinforced': 11331, 'surfing': 25502, 'Thorn': 22428, '##linger': 18332, 'Emmanuel': 15067, 'Bulletin': 17842, 'Bunny': 21198, '##graph': 15241, 'real': 1842, 'Heart': 4641, 'Revolutionary': 9013, '##itative': 24936, '##李': 28933, 'Christoph': 23607, '##marked': 19384, 'ད': 687, '##ES': 9919, 'Lakers': 19713, 'resistant': 13676, 'broader': 12594, '##adi': 14230, 'Flanders': 14506, 'Kerman': 27671, 'Hubert': 16153, 'delegate': 13715, 'Boxing': 16876, 'dual': 7058, '##uate': 20043, '三': 977, '##kers': 8811, 'July': 1351, 'reduction': 7234, 'partnerships': 15605, 'winning': 2183, '##WA': 11840, 'lowland': 18720, '##lating': 18156, 'Lucy': 6423, 'arguing': 8995, 'imagining': 18632, '##ḳ': 28633, 'Pre': 11689, 'witnesses': 10313, 'Looks': 15218, 'beverage': 24802, 'shipyard': 20891, 'presses': 16526, 'airport': 3871, '##tted': 16787, '##₹': 28733, 'beta': 11933, 'buzz': 19859, '##sang': 27192, '4000': 21955, 'Jonathan': 4947, 'Pomeranian': 19006, 'Jo': 8125, '##aging': 10588, 'collapsed': 7322, 'keys': 6631, 'citizenship': 9709, 'hunched': 22831, 'concealed': 14914, 'accounts': 5756, 'mortality': 14471, '##gra': 14867, '##lett': 21664, 'Whilst': 15737, 'undertaking': 20686, 'artifacts': 10701, 'cm': 3975, 'm²': 6450, 'maiden': 13636, '##ments': 4385, 'Æ': 231, 'advice': 5566, 'Truck': 19965, '##par': 17482, 'celebrities': 13073, '##ytic': 23894, 'wicked': 13273, 'Wang': 7014, 'regret': 9005, 'discovers': 9149, 'Hunger': 27962, '##য': 28559, 'Whenever': 20589, 'deployment': 11180, 'ponytail': 21101, 'tone': 3586, 'bandwidth': 22965, 'Quincy': 17134, 'I': 146, 'cemeteries': 24358, 'mate': 6642, 'migrant': 25496, 'either': 1719, '##hibition': 16485, 'Hyderabad': 14033, 'blasted': 20527, 'sentiment': 17024, 'quartz': 26747, 'modest': 11263, '##zal': 25049, 'time': 1159, 'Abu': 8158, 'Castro': 11919, 'excavation': 18682, 'Birmingham': 5836, 'Cora': 18805, 'defects': 20705, '##ί': 28338, 'Yemen': 14466, '##enko': 19177, 'WA': 22751, 'seated': 8808, 'Hilton': 16347, 'diner': 20162, 'kilometre': 13790, 'Marvin': 14165, 'Infantry': 4155, 'Goddess': 15728, 'Elaine': 16081, 'vineyards': 26009, 'Rich': 8864, 'team': 1264, '##rig': 17305, 'Guadalajara': 25480, 'instance': 5374, '##ac': 7409, 'contestants': 11061, 'crimes': 6969, 'visions': 15219, 'Jays': 21592, 'let': 1519, 'porch': 7003, 'Establishment': 24813, 'banning': 26380, 'modified': 5847, 'Jacob': 5549, 'villagers': 12453, 'Clerk': 16483, 'collapse': 7546, 'mill': 6159, 'կ': 518, '##vance': 24043, '##nies': 16133, 'specialists': 18137, '##oise': 17724, 'franchise': 5801, '##hot': 12217, 'Nadia': 15686, 'Vampires': 23233, 'courthouse': 15608, 'Independence': 7824, 'Winnipeg': 11070, 'February': 1428, 'transit': 9575, 'Main': 4304, 'System': 3910, '##economic': 25726, 'said': 1163, 'raped': 16567, 'Moody': 17820, 'indicted': 24294, 'Brick': 19217, 'autonomy': 13987, 'organisations': 8485, 'records': 3002, 'Toro': 27470, 'Emperor': 3637, 'Savoy': 17438, '##hic': 11239, 'Botanical': 24136, '##∞': 28749, 'Blessed': 16850, 'kn': 18325, 'finale': 10554, 'slippery': 27562, 'person': 1825, 'by': 1118, '##cedural': 27433, 'assistant': 3109, '27': 1765, 'typically': 3417, 'Andersen': 19761, '⊂': 865, '##rcerer': 25989, '##↔': 28741, 'originated': 7506, 'murder': 3513, 'metals': 13237, 'Sen': 14895, 'legally': 10368, '##yric': 23710, '##ști': 23995, 'minimize': 20220, 'Petersburg': 7598, 'ethnicity': 21052, 'Nebraska': 8097, 'cuts': 7484, 'beings': 9476, '##sp': 20080, 'Preparatory': 26329, 'Sunday': 3625, 'signature': 8250, '##cating': 14829, 'differentiated': 27840, 'highlights': 12976, 'delivering': 13232, '##tier': 14175, '##eveloped': 19703, '##zio': 13409, 'Corpus': 21612, 'Rubin': 22686, 'annually': 6089, '##mp': 8223, 'municipality': 2667, 'grandson': 7254, '##ñez': 24066, 'forever': 5221, 'Geometridae': 27817, 'theirs': 19201, 'Assembly': 2970, '##graving': 26200, 'poisonous': 26106, 'Northampton': 16873, '和': 1002, 'Maine': 6514, 'parting': 24402, '24th': 13722, '←': 843, '##ene': 7582, 'badminton': 22438, '}': 198, '##宿': 28911, 'Plants': 25880, 'Gustav': 13829, 'Reddy': 20772, '##con': 7235, 'restless': 20806, 'warmer': 18153, 'consistent': 8080, '##真': 28954, 'innocent': 7386, 'Huh': 27158, 'poured': 8168, '##b': 1830, '##des': 4704, '260': 13888, '##VE': 17145, 'Invitational': 26897, 'closely': 4099, 'widely': 3409, '##nburg': 16050, 'counts': 10664, 'Carthage': 24326, 'firm': 3016, 'Scouting': 22768, 'territorial': 10120, 'helpless': 14120, 'Chapman': 11554, 'entrusted': 19469, '##BE': 27211, 'laced': 19498, 'exciting': 11215, 'Randall': 13001, 'Classics': 14387, 'vowed': 19562, 'Souls': 22571, 'disgusted': 20524, 'weeds': 25536, 'projected': 11479, '##dius': 18889, '##tina': 11681, '##zel': 13430, 'customs': 10148, 'restructuring': 20841, 'Hudson': 6236, 'Severn': 27908, '1884': 6394, 'Russian': 1938, 'ᶜ': 724, 'fueled': 20573, '##ন': 28555, '##HT': 18784, '##神': 28957, '##gues': 17423, '##O': 2346, 'Galen': 23295, 'crowds': 13484, 'quietly': 4432, 'converts': 22042, 'fish': 3489, 'campaigning': 20648, '##lani': 21690, 'Inc': 3561, 'bilateral': 20557, 'epithet': 21397, 'correctly': 11214, '##lik': 19921, 'Burnett': 14279, '##outs': 10469, 'ranch': 10804, 'Kurdish': 16441, '##EI': 27514, 'Gaston': 21668, 'vague': 14673, 'Bone': 17722, 'Philosophical': 24515, 'dragged': 7509, 'owed': 12390, 'job': 2261, 'refugee': 15820, 'ʃ': 368, '##stic': 5668, 'Mercer': 13576, 'matrices': 24350, 'tee': 26425, 'Burlington': 16402, '##ハ': 28850, '##ster': 4648, 'dormant': 25253, 'tying': 16366, '##cribing': 27362, 'organizers': 21510, 'detail': 6505, 'Matter': 21773, 'comet': 27492, 'tube': 7159, 'Alto': 17762, 'wished': 5608, '##ienced': 28118, 'Newman': 10525, '≤': 863, 'Allie': 18067, '1938': 3412, 'beaches': 13343, 'architecture': 4220, 'targeted': 9271, 'lecturer': 10635, 'Problems': 23855, 'experimentation': 24768, 'Cups': 21671, 'Banks': 10117, 'attractions': 14312, 'exited': 16095, 'Changing': 25855, '1878': 6723, 'housekeeper': 26458, 'exchanges': 17755, 'ID': 10999, 'ধ': 651, 'try': 2222, 'commissioning': 26239, 'gym': 10759, 'Rhode': 9502, '##utical': 19748, 'slowly': 2494, 'dining': 7659, '##cle': 10536, 'yell': 15935, 'When': 1332, 'Macedonia': 11504, 'Pius': 14990, 'magical': 9214, '##formation': 24152, 'Thus': 4516, 'packet': 17745, 'parachute': 22021, 'cheaper': 17780, 'suddenly': 2840, 'items': 4454, 'inhabit': 23778, 'inherent': 17575, 'Advances': 25308, '##aret': 22914, 'Hybrid': 27602, 'al': 2393, 'gauge': 7405, 'edit': 14609, '##ller': 9860, 'Rosemary': 20983, 'ừ': 762, 'mixing': 7021, 'Aria': 12900, 'ɾ': 364, 'Subsequently': 10608, 'Deutsche': 12054, '##ص': 28486, 'Regent': 17626, 'Fighter': 7388, '##ediatric': 24795, 'paintings': 4694, '##ruk': 25192, 'ferry': 9452, '##nesia': 23032, '##imating': 27182, 'competitive': 6591, '##ᵀ': 28611, 'firearms': 16025, 'tapping': 16911, 'Happiness': 25410, 'aristocracy': 26076, 'politician': 2931, 'faculty': 5449, 'sleeping': 5575, 'university': 2755, 'activities': 2619, '##fo': 14467, 'bucket': 15398, 'conspiracy': 10758, 'blows': 14977, 'Pit': 20008, 'memory': 2962, '##and': 5709, 'Triumph': 23568, 'Nassau': 15272, 'Gemini': 23716, 'final': 1509, '##dered': 26788, 'Baba': 15602, 'Hilda': 23927, 'Crescent': 17919, 'rabbit': 16225, 'Luca': 16730, 'doubling': 21756, 'Gmina': 7002, 'focused': 3378, 'Fear': 11284, 'clarity': 19041, 'Chairman': 4284, 'elementary': 7876, 'wartime': 13425, 'conflict': 4139, '##39': 24786, '##∂': 28744, 'Allan': 8577, 'explains': 7155, 'prayed': 14913, '##ach': 7291, 'engineering': 3752, '##tional': 15937, 'availability': 11731, 'creation': 3707, 'Improvement': 22053, '##hang': 17204, 'Kathryn': 22404, 'Plantation': 22849, 'Reginald': 15095, 'Penny': 13651, 'Municipal': 7360, 'innovations': 18168, 'wrapped': 4293, 'Dominique': 19553, '##一': 28869, 'commentator': 12895, '##erie': 15148, 'monks': 10547, 'grasses': 24567, 'added': 1896, 'circumstances': 5607, '1976': 2402, 'Cola': 17492, '##kim': 18504, 'enter': 3873, 'additionally': 19148, 'Garry': 23735, 'Schneider': 15934, 'si': 27466, 'culture': 2754, 'Melvin': 23088, 'sweating': 21234, 'morale': 22407, 'abdomen': 14701, 'inclined': 13427, 'allow': 2621, 'wanna': 16445, 'throughout': 2032, 'decorative': 12300, 'saw': 1486, '##eries': 15297, 'stadium': 4706, 'until': 1235, 'traveling': 6934, '##bearable': 27244, 'emphasizes': 22663, 'tunnels': 11175, 'Scandinavian': 18936, '##ctus': 18045, 'Initially': 7245, '##lore': 21425, '##rgon': 22487, 'Rev': 6750, 'temper': 12653, '##raft': 15371, 'systematic': 12818, 'exhibited': 7799, 'Edmonton': 10397, '##lew': 23513, 'suffers': 18907, 'tailed': 15376, 'youth': 3298, 'solar': 6644, 'department': 2853, '##ians': 5895, '##ran': 4047, 'embraced': 14891, '##vate': 21106, '##yme': 26911, '##down': 5455, 'mural': 17929, 'precinct': 26757, 'referenced': 15780, '##Ν': 28326, 'streamed': 20273, 'occasions': 6070, 'Councils': 27498, '王': 1055, '##jan': 8548, 'please': 4268, '##oast': 20219, 'prediction': 20770, 'near': 1485, 'racial': 5209, 'რ': 704, 'ő': 314, '##ance': 3923, '##nay': 16691, '37th': 25659, '##age': 2553, 'Sa': 17784, '##UM': 25810, 'practitioners': 16681, '##部': 28970, 'gone': 2065, 'Adults': 15584, '##長': 28973, '##ced': 9650, 'medals': 6498, 'advances': 11823, 'ship': 2062, '##zac': 25616, 'Rule': 11575, 'Blind': 13955, '##burne': 26980, 'Goldman': 19085, 'reprised': 25236, 'Shankar': 18695, 'dried': 9490, '##ater': 19987, 'clubhouse': 27973, 'Sundance': 22012, '皇': 1059, '##hales': 26075, '##ch': 1732, 'Anita': 13173, 'humanity': 9011, 'combined': 3490, 'discovered': 2751, 'senate': 22719, '##erina': 18866, 'requirement': 8875, 'supportive': 17847, 'associate': 6500, '##pear': 25745, 'lasts': 17503, 'ú': 272, 'arose': 10246, 'splitting': 15601, 'Loch': 18207, 'imports': 20171, 'Casablanca': 27786, '##ditional': 27988, 'tossing': 16824, '##ulata': 23811, 'Woods': 8726, '##у': 28405, 'medium': 5143, 'Horizon': 20218, 'Traditional': 12144, '##áil': 20938, 'Orchestra': 4590, 'Lower': 5738, 'Mansfield': 16154, 'Pan': 6991, 'Serra': 25605, '##イ': 28826, '##smos': 18818, 'Ives': 26916, 'perfectly': 6150, 'scrapped': 15420, '##eers': 14350, '##mana': 28097, 'Judaism': 14142, 'feeder': 27026, 'fifty': 5547, 'Presbyterian': 10091, 'geometry': 12053, 'reporting': 7516, 'freaking': 14599, 'fumble': 21577, 'assemblies': 24798, 'Torah': 17407, '##44': 25041, 'Turbo': 23344, '##ross': 21721, 'Yusuf': 26798, 'residing': 6604, 'react': 10573, 'motive': 17941, '##sberg': 19945, 'segment': 6441, 'Garfield': 22005, 'coefficients': 23795, '##nx': 21123, 'compromised': 22485, 'Casper': 27950, 'heavy': 2302, 'awake': 8264, '##ota': 16339, 'AND': 16716, 'Roberta': 26212, 'screamed': 6673, 'Bride': 16456, 'Arabian': 14223, 'Conservation': 8749, 'Page': 8500, 'intellectual': 8066, 'elevated': 8208, 'Olaf': 22745, 'Lee': 2499, 'ů': 330, '##÷': 28208, 'becoming': 2479, 'nodes': 15029, 'Nobel': 10412, '##eran': 19776, 'est': 12890, 'Wei': 12068, 'Screen': 15652, 'mist': 12791, 'introduction': 4784, '##ritz': 19671, 'appreciated': 12503, 'Tang': 10215, 'beetles': 15730, '##cake': 19453, 'poets': 11587, 'exchanged': 10476, '##tral': 16010, 'Cheung': 26475, '##rez': 18550, '415': 27813, '##ynx': 22093, 'canopy': 15721, 'bankrupt': 19004, 'Policy': 7037, '##fusion': 17149, '##bah': 25547, '心': 1027, '##आ': 28509, '##pal': 12320, 'floors': 7849, 'integrate': 18831, 'bunker': 23674, 'estuary': 24703, 'awaiting': 16794, 'super': 7688, 'Warren': 5407, '##cchi': 27992, '##roid': 16219, '[unused3]': 3, 'Nazis': 13525, 'Beach': 3808, 'Aug': 16892, 'although': 1780, '56': 4376, '##ý': 13933, 'Sant': 16612, 'Landing': 14737, 'depictions': 23507, 'historians': 8202, 'Recent': 13989, 'confirmation': 15468, 'farmhouse': 20077, 'sensed': 10494, '##sist': 22398, 'sued': 13187, 'shark': 15623, '##bid': 14598, '##location': 27141, 'θ': 425, 'enters': 7603, 'brakes': 14656, 'Polly': 18905, 'Denton': 26763, '##harine': 20415, 'backup': 10441, 'Headquarters': 9101, '##ц': 28408, '##ɾ': 28285, 'maritime': 12657, '##lé': 18076, 'expanded': 3631, 'pivotal': 22927, '##Ţ': 28247, 'genius': 13533, '##graded': 18590, '##ive': 2109, '##LA': 10783, 'northernmost': 24873, 'muted': 25088, 'ERA': 11042, '##sided': 25984, 'succeeding': 13605, 'iOS': 18471, 'Player': 5348, '##troke': 18211, 'Palm': 10739, 'achievements': 10227, '[unused7]': 7, 'cleared': 5323, 'devotion': 14740, '##she': 21581, 'Estadio': 19116, 'projections': 25344, 'variance': 26717, 'Cycling': 18934, 'original': 1560, 'performers': 9821, 'violence': 4289, 'Ariel': 17214, 'pigeon': 27936, 'existing': 3685, 'Met': 19415, '##graphy': 8944, '##ride': 17731, 'neon': 24762, '##wold': 27980, 'duke': 16093, 'Riders': 17662, 'Iranian': 7239, '##tour': 18834, '##took': 24144, 'unreleased': 14605, '##reed': 15825, '‚': 788, '##lich': 16879, 'glad': 5171, 'Tyler': 6952, '##urning': 24049, 'Texans': 25904, 'bullet': 8417, 'electrons': 16159, 'attendees': 23150, 'Forum': 8576, 'Yuan': 13049, 'Garrett': 9412, '##rious': 17401, 'Everton': 19433, 'stuck': 5342, 'discover': 7290, '##manship': 15924, 'Landmark': 18405, 'surveillance': 10900, '##花': 28961, 'Pope': 4409, '183': 20212, 'masters': 11573, '##nale': 25668, 'blankets': 15971, 'Institut': 18531, '##¨': 28162, 'ill': 5178, 'Honors': 25796, 'deliver': 7852, '##aled': 18121, 'Wiltshire': 18188, 'Gram': 19891, '₍': 822, 'sunk': 10406, 'Singapore': 4478, 'slender': 11226, 'wrapping': 13261, '##uben': 27076, 'raid': 8818, 'delayed': 8088, '##uard': 21320, 'country': 1583, '##CM': 27847, 'য়': 670, 'bitch': 7979, 'Socialist': 7365, 'trenches': 22547, 'institute': 8918, 'licked': 11206, 'stumble': 24545, '##lative': 26304, '##ille': 8683, 'Blood': 5657, 'chancel': 17954, 'refer': 5991, 'hospitals': 8894, 'Dustin': 27381, 'Sunset': 16800, 'Waiting': 16602, 'Units': 21687, 'incarcerated': 27437, 'mustered': 25078, '1993': 1949, 'Ν': 405, 'grab': 6387, 'intercepted': 17771, 'Serie': 9689, 'publishes': 12701, 'entertain': 23490, 'au': 12686, 'deputies': 18317, '##bine': 16405, 'c': 172, 'Sánchez': 16549, 'bore': 8475, 'ensuing': 14332, 'mastering': 14451, '1916': 4145, '1981': 2358, 'obeyed': 25314, 'what': 1184, 'Malta': 9723, '##mada': 24817, 'Indoor': 12617, 'Dancing': 13234, '##chanted': 21874, 'branded': 11450, 'bringing': 4362, 'â': 248, 'unacceptable': 24726, '##rah': 10659, 'Ferry': 11976, '##ition': 8934, 'stature': 23432, 'Blanc': 24687, 'dismiss': 21728, '##ig': 6512, 'claiming': 6330, '##hog': 27892, 'approved': 4092, 'sampling': 18200, '##pf': 20201, '##yard': 8624, '##Works': 28039, '##grim': 21956, 'ledge': 21340, '##king': 4419, 'automatically': 7743, 'Weapons': 20263, 'Daphne': 18175, '##race': 27510, '##nk': 6773, 'unto': 23165, 'solutions': 7995, '##rier': 10914, 'Western': 2102, 'Ever': 10006, 'agony': 13965, 'Bois': 23949, 'fairies': 26679, '##runcated': 28098, '##dom': 9277, 'volcano': 15406, '##ington': 5541, '##chev': 21578, '##ruly': 23377, '78': 5603, '##KE': 22441, 'kidney': 16042, 'heroic': 17047, 'refuse': 10250, '##rz': 11819, 'sails': 20349, 'meadows': 25958, 'confused': 4853, 'variations': 9138, '##ë': 13420, 'Fork': 16384, 'Issue': 15653, '1769': 22632, 'Betty': 8998, 'exceed': 13908, 'Origins': 27358, '##ically': 9203, 'gaining': 8289, 'picks': 11606, 'Numbers': 19661, 'fiery': 17412, 'Aristotle': 18727, 'times': 1551, 'ripping': 18841, 'backpack': 13846, 'with': 1114, 'Ida': 19022, '##fold': 10787, 'numbering': 16538, 'smile': 2003, 'lemon': 22782, '##phone': 9293, 'Barnard': 24669, '1999': 1729, 'Bangkok': 12829, 'virtues': 26437, '##本': 28932, '<': 133, 'suppliers': 22981, 'linebacker': 17625, '##প': 28556, 'bridge': 2738, 'symbol': 5961, 'First': 1752, '##but': 16442, 'Sophia': 9432, 'evidence': 2554, 'clearly': 3817, '日': 1033, 'initiative': 7191, 'Archipelago': 26951, 'auditions': 27503, 'Mussolini': 25086, 'Poor': 11767, '##holm': 20798, '##num': 12603, '##~': 28156, '##sey': 8780, 'settler': 21345, 'Mohawk': 25797, 'season': 1265, 'imagery': 14210, '##gua': 13855, '##trusion': 22097, 'Wallis': 26983, 'doctrines': 27153, 'Selena': 20861, '##tly': 8671, 'Tradition': 24216, '##rd': 2956, 'warming': 14110, '##ric': 4907, '##京': 28877, '##rting': 21811, 'preserves': 20421, '##⁷': 28707, 'ł': 306, 'retail': 6989, '##ih': 21656, 'swap': 24295, 'speculation': 12828, 'Motor': 8226, 'cracked': 9549, 'cooled': 13289, '##tisfied': 20605, '##sts': 10047, 'Ramsay': 21178, 'Dani': 21555, 'Sony': 8028, '##tham': 14988, '##01': 24400, '##cine': 15459, 'platform': 3482, 'expressions': 11792, 'Tessa': 13471, 'phrases': 16954, 'female': 2130, 'disk': 10437, 'alias': 17486, '##ara': 4626, '##公': 28884, 'properly': 7513, 'Velvet': 21499, '##inet': 27411, 'jumping': 8987, 'Honolulu': 17652, 'Seine': 19461, 'rat': 11631, '##ilian': 27308, 'clockwise': 26668, 'ʼ': 381, 'Coupe': 26590, '##pes': 6633, 'Sinatra': 21396, 'seeking': 5788, 'simplest': 23565, 'Mayor': 4643, 'は': 916, '##ř': 28242, 'Armed': 8776, 'Cliff': 12483, 'sergeant': 13956, '##ậ': 28645, 'oxide': 17151, '##taining': 26174, '##kai': 10098, 'retiring': 8970, 'illustrator': 15249, 'Centro': 19927, 'eclipse': 22623, 'compass': 23962, 'pleasure': 4687, 'Alistair': 26618, '##eum': 14136, 'burnt': 11946, 'utterly': 13006, 'revered': 27415, '##rak': 16971, 'merchants': 11278, 'Mrs': 2823, '##las': 7580, '1810': 11831, 'fox': 17594, 'з': 482, 'Insurance': 11037, 'distress': 13632, 'underworld': 23796, 'Commission': 2827, 'cousin': 5009, 'Beard': 23352, '100': 1620, 'possesses': 15614, '##ो': 28536, 'merchant': 6800, 'huts': 26931, 'Fell': 26297, 'familiar': 4509, '##bes': 12866, 'displayed': 6361, 'Sykes': 26382, 'Abe': 15849, 'justification': 22647, 'really': 1541, 'Aside': 14727, 'Slowly': 13060, '##ually': 14795, 'possessions': 14264, 'Appalachian': 21464, 'Ye': 15821, 'Levant': 27728, '##solidate': 28078, 'Valle': 22474, 'stated': 2202, 'ے': 604, '##sik': 24577, 'Apocalypse': 22949, 'housed': 6960, 'galleries': 14320, '##id': 2386, 'poet': 4225, 'Dash': 23460, 'phosphate': 19273, 'Ц': 469, 'pneumonia': 20673, 'localized': 25813, 'coordinator': 13443, 'Kyoto': 16083, '『': 891, 'Suite': 14958, 'Ravi': 17968, 'Working': 9612, '##uff': 9435, '##quisite': 26089, 'inadequate': 15694, 'clerk': 9477, 'personalities': 13497, 'performer': 9963, 'ι': 426, '99': 4850, 'ṅ': 733, '##uernsey': 27745, 'disappears': 18441, '##村': 28934, 'flicked': 12988, 'rotten': 23076, '##mett': 23355, 'vow': 22417, 'Knowles': 25384, 'Margaret': 4811, '##hat': 11220, '##nating': 26434, 'popping': 22850, '##uda': 15798, '1640': 23753, 'informing': 24388, 'oral': 9619, 'Connie': 17618, 'architectural': 6645, 'others': 1639, 'Century': 5944, '##Script': 27780, 'Travel': 7938, '##lump': 15363, 'warning': 5183, '##jou': 25028, 'backbone': 25776, 'orphan': 25298, 'Rutherford': 19936, 'AU': 21646, 'Scene': 15555, 'Maximus': 26295, '1977': 2449, '##む': 28813, 'Seriously': 18725, '##ʋ': 28291, 'universally': 23578, 'ḩ': 730, '##bus': 7441, '##resses': 26628, 'Tribe': 15987, 'includes': 2075, 'holy': 9371, '##dus': 15307, '##berto': 26831, 'absent': 10040, '##waters': 20038, '##lsive': 27199, 'gaming': 13926, 'flora': 16812, 'retaliation': 20921, 'sport': 4799, 'drain': 13734, 'Craft': 19899, 'theories': 7997, '##racy': 23557, 'Bloom': 19169, 'pictures': 5324, 'baroque': 26194, '##bha': 24167, '##ffle': 13327, '##work': 5361, '##headed': 14443, 'median': 3151, 'prospect': 11870, 'Bean': 21561, 'assists': 8407, '##sance': 27346, 'creepy': 19857, 'kissing': 7567, '##WD': 24480, 'treatment': 3252, 'comprehend': 24822, 'Dyer': 27028, '##47': 24766, '##ancipation': 25305, 'people': 1234, 'easy': 3123, 'concessions': 23308, 'monkeys': 22413, 'ho': 16358, 'spelling': 12330, 'Westwood': 24023, 'Oh': 2048, 'च': 609, 'shoe': 12228, 'strand': 15947, 'extraction': 16026, 'intentional': 24629, 'wizard': 16678, 'molecules': 10799, '##itution': 27067, 'pouch': 24225, 'paced': 14366, 'As': 1249, '##←': 28738, 'Princes': 22227, 'descriptive': 27938, 'Generally': 15559, 'Hanson': 18334, 'criterion': 26440, 'insists': 17933, 'totally': 5733, '##rst': 9731, 'skinned': 22003, 'malaria': 23645, 'Kingsley': 25393, 'wedding': 4655, 'grams': 25293, 'hasn': 8186, 'speaks': 8917, 'Crystal': 9048, 'horrible': 9210, '##ives': 11355, '##eo': 8209, 'fungi': 17005, 'pitches': 21271, 'Negro': 13898, 'concert': 3838, 'Northumberland': 17206, 'illegitimate': 19710, 'Theme': 14999, 'rooted': 16906, 'gods': 6807, '##ddington': 24103, 'loving': 9207, 'recreational': 11240, 'armored': 14085, '上': 978, 'lobes': 27645, 'gently': 4588, '##ats': 9971, 'translate': 19396, 'thousands': 4674, 'lets': 11446, 'Shadow': 8111, '135': 11498, 'Hampson': 24065, '##ème': 25266, 'posting': 15537, 'clapped': 19734, 'texts': 6685, 'representatives': 6683, '##geon': 21565, 'differentiate': 23159, '##ق': 28493, 'thumb': 7446, 'Success': 25911, 'East': 1689, 'chunk': 24384, 'WR': 26476, '##le': 1513, '##shes': 26816, 'hero': 6485, '##gram': 12139, 'Candy': 16045, 'Some': 1789, 'grace': 11116, '##za': 3293, 'Songs': 6080, '##hel': 18809, 'identical': 6742, 'ou': 20796, 'Carla': 18301, 'eat': 3940, 'sale': 4688, '##cession': 16122, 'Zhao': 16749, 'Empire': 2813, 'saddle': 14783, 'areas': 1877, 'Marx': 13860, '##pire': 20082, '##tisfaction': 25734, 'operatic': 26350, '##ów': 6781, 'unfair': 17111, '##lde': 20937, '##γ': 28340, 'frustration': 9074, 'chicken': 9323, 'camping': 15973, 'fearful': 22984, 'marshes': 23832, 'Pratt': 13528, 'tunes': 17378, 'Rebecca': 9135, 'Province': 2715, 'mainline': 25229, '·': 218, 'inexpensive': 27215, '##psy': 12685, '325': 21380, '##ad': 3556, 'Phi': 14890, 'stranger': 9280, 'Queen': 2454, 'contrary': 11565, 'analyzed': 17689, 'Oman': 17739, 'employed': 4071, 'Hepburn': 24340, 'Corbin': 26968, 'Centennial': 20988, 'Murray': 5593, 'Windows': 5647, 'outdoor': 7814, 'Linux': 11735, 'page': 3674, 'logs': 16959, '##خ': 28481, 'doctor': 3995, 'Mention': 26898, 'statements': 8477, '##サ': 28836, 'Prakash': 24694, 'getting': 2033, 'slap': 15933, 'Croix': 20719, '##≡': 28756, '##stance': 21579, 'cook': 9834, 'Monday': 6356, 'Ş': 320, 'Unified': 22749, 'দ': 650, '♯': 881, 'fist': 7374, '##Ε': 28319, '##ん': 28823, '##ais': 15837, 'Ι': 401, 'seriously': 5536, 'babies': 12237, 'humid': 15120, 'Guyana': 20345, 'rule': 3013, 'suspected': 6321, 'Bhutan': 20325, 'success': 2244, 'openings': 18199, 'lips': 2089, 'tested': 7289, '1893': 5843, 'instantly': 6677, 'Dodgers': 13839, 'Heidi': 23669, 'outlined': 15530, 'bitterness': 26051, 'mixture': 7759, 'strong': 2012, 'finally': 1921, 'Depression': 11442, 'ム': 965, 'thinner': 26263, '##D': 2137, 'Willow': 15133, 'Croatian': 7491, 'cooling': 12147, 'excelled': 25749, 'Expressway': 15616, 'pushing': 5859, 'Nix': 26880, '404': 27993, 'pioneering': 14024, 'Type': 6902, '##mar': 7317, 'registration': 9630, '##fari': 21975, 'concussion': 27233, 'prominence': 12299, 'rigid': 12135, '##burgh': 16854, 'popped': 10447, '##uti': 16065, 'postponed': 16296, '##JP': 25141, 'Knowledge': 14966, 'anterior': 16557, 'Olsen': 20637, 'summarized': 25172, 'caress': 24765, 'author': 2351, 'armies': 9099, '##sation': 20414, 'ked': 17316, 'nitrogen': 15385, 'Soldier': 14595, '##jima': 17133, '1887': 6225, 'homage': 16734, '##lings': 11082, '##₊': 28717, 'Davidson': 12109, '131': 15290, 'Reich': 14994, 'Temeraire': 27030, 'space': 2000, 'yearly': 13502, 'beans': 15154, '##urer': 26616, '##nd': 3276, 'Methodist': 8580, 'fingers': 2220, '##lves': 14455, 'technicians': 25032, 'Oliver': 5638, 'riding': 5569, 'Mark': 2392, 'hike': 25401, '##SV': 26270, 'aforementioned': 18501, 'orbit': 8895, 'icy': 14724, 'Gupta': 22560, 'problem': 2463, 'Rufus': 20635, 'Randolph': 13290, 'applications': 4683, '##ニ': 28849, 'evolving': 23657, 'Quest': 15217, 'Wagner': 10171, '##sible': 24355, 'ɔ': 355, 'combinations': 16058, 'labour': 8596, 'distributions': 23190, 'shadows': 6719, 'Mao': 16922, 'imaginary': 18298, 'sticky': 18674, 'Pub': 21385, '##ffer': 12929, 'Defensive': 21368, 'flash': 6746, '##kot': 27952, 'tanks': 6977, 'Kyle': 7156, 'analog': 13022, '##nsis': 11261, '203': 20022, '##medical': 20489, '##garh': 12981, 'march': 8943, 'sibling': 26563, '##sket': 18015, '##cheng': 25307, 'three': 1210, 'vivid': 16756, 'rematch': 19824, '松': 1043, 'What': 1327, 'mentions': 9541, 'spider': 12545, 'Hammond': 11425, '##dham': 21469, '##bel': 8511, 'Vietnamese': 8763, 'peace': 3519, 'Booth': 15551, 'Sabbath': 21952, 'Micro': 27730, 'cats': 11771, 'Cyril': 17007, 'Р': 463, 'unlocked': 14776, 'thermal': 10735, 'Kentucky': 4875, 'Seth': 6081, '##champ': 23542, 'experienced': 4531, 'snakes': 14986, '##野': 28971, 'Glasgow': 6179, '750': 9416, 'descendant': 12920, 'Statistics': 10910, 'persisted': 20702, 'gunshot': 24939, 'Die': 5736, '##dal': 6919, 'descending': 16610, 'recruited': 8443, 'selective': 14930, 'Wanna': 17837, 'estate': 3327, 'Māori': 15929, '##rung': 20901, '##llah': 17734, '1819': 12720, '##ז': 28451, '##ya': 2315, 'premiership': 18262, 'learnt': 22215, '##vering': 15878, '##lude': 12906, 'travel': 3201, '##tom': 18778, '1861': 6255, '##sis': 4863, 'Secondary': 7934, '##SI': 13882, 'Nord': 14782, 'flies': 10498, '犬': 1054, '1835': 9955, '##ania': 11262, 'ウ': 934, 'צ': 554, 'Gentleman': 25623, 'posts': 8345, 'Wake': 13062, 'Several': 3728, 'Ú': 242, 'contraction': 24827, 'remorse': 27502, '##ddin': 24691, 'knelt': 13007, 'Hughes': 7638, '##lysis': 15140, '##য়': 28573, '##aja': 22558, '##MG': 14666, 'reporters': 13509, '##cel': 18389, 'normally': 5156, 'satire': 20817, 'survey': 5980, '##hine': 17108, 'Ghost': 9040, 'remaining': 2735, 'maintain': 4731, 'Bradley': 8623, 'Museo': 21674, '##dak': 24122, 'indicate': 5057, '##bic': 15421, 'botanist': 18902, 'crying': 6675, 'Emma': 4913, 'vest': 21531, 'teaching': 3679, 'character': 1959, 'detective': 9140, 'Formula': 8266, 'grinned': 6375, '##lent': 13147, '##hore': 18443, 'elaborate': 9427, 'incidence': 21014, 'Song': 3765, '##cted': 8436, '##haman': 24045, 'Raoul': 24437, 'defender': 8919, 'exhaustion': 17049, '##acon': 24825, 'guys': 3713, 'reform': 5851, 'Haryana': 26022, 'weary': 18024, 'smash': 24881, '##plication': 15534, 'Class': 3699, 'Refuge': 24878, 'scarred': 25201, 'Lorraine': 14378, 'pitch': 6158, 'institutional': 15040, '227': 23689, 'walks': 7104, 'programmer': 23981, '##gard': 16968, 'scholarships': 18085, 'retailers': 18399, '##igh': 21523, '##haft': 26484, 'Susie': 26796, 'MPs': 13904, 'Channel': 4076, 'nobility': 12276, '##ш': 28410, '##pic': 20437, 'allowed': 2148, 'feud': 15081, 'aiming': 14485, 'Effect': 27007, 'Beatles': 11581, 'nomadic': 25578, 'classmate': 26562, '##cule': 21025, 'Episode': 8112, 'oversaw': 14658, 'Drum': 18687, '##cale': 20532, 'Hades': 26015, 'distance': 2462, 'tornadoes': 28035, 'Vol': 5713, 'Iraq': 5008, 'reorganized': 15956, 'signs': 5300, '##ź': 28257, 'penetrate': 20890, 'jokes': 13948, 'Perfect': 12174, 'missing': 3764, 'guilt': 8169, 'cab': 10347, 'Bryn': 21746, 'funk': 19657, 'ய': 675, 'clothes': 3459, 'soldiers': 2803, 'Ethiopia': 11132, 'ample': 23336, 'Lena': 14960, 'loops': 17806, '##rgan': 21061, '##urney': 24339, 'Swift': 13897, 'food': 2094, 'landed': 4860, 'pump': 11188, 'Restoration': 15988, 'groove': 22482, 'instead': 1939, 'Queensland': 4548, 'Deer': 19712, '⁄': 799, 'Finance': 7476, '##se': 2217, 'dates': 4595, 'Kuwait': 13397, 'investigation': 4449, 'Upon': 4352, 'Rangers': 6838, 'remain': 3118, 'lecture': 10309, 'varsity': 17611, 'Stores': 26811, 'persecution': 15873, 'profits': 11709, 'Arlington': 14415, 'Open': 3353, '##ᴵ': 28610, 'worldwide': 4529, 'River': 1595, 'Tri': 18491, 'ignorant': 24636, 'order': 1546, 'definitive': 18379, 'Ptolemy': 26262, 'rattled': 21117, '##erne': 27665, 'Brotherhood': 15831, '÷': 269, '1947': 3138, 'cricketer': 9469, 'Lithuania': 9602, 'northeastern': 10081, 'Turn': 12128, 'unanimous': 14285, 'closest': 7064, 'Sterling': 12319, 'մ': 519, 'angles': 12879, '##्': 28537, 'IRA': 16561, '##asily': 20158, '##2': 1477, '##ivism': 26832, '##wart': 18320, 'violinist': 18300, 'miserable': 14531, 'Craig': 6422, 'Monsters': 20971, 'Created': 25423, '##moto': 12610, '##ving': 3970, 'creature': 6093, '##タ': 28841, 'Talbot': 15547, '##vez': 21755, '##₁': 12183, 'simplified': 11654, 'enforced': 17538, 'links': 6743, 'training': 2013, 'trash': 13151, 'gestures': 20190, '##ulates': 20267, 'Troops': 26113, 'prototype': 8933, '##35': 19297, 'Casa': 17154, 'Desmond': 17190, '##xy': 16844, '##mobile': 24052, 'townland': 26594, '→': 845, '##latt': 23524, 'submarine': 7027, 'scowl': 21840, 'Parker': 5597, 'industrialist': 24916, 'proving': 15975, 'pierced': 17547, '##hack': 17907, 'cured': 24265, '##uerre': 27707, '##mmal': 27568, 'intense': 5827, 'Morris': 5744, 'informs': 16788, '##南': 28888, 'begin': 3295, '##hou': 14640, 'sewer': 27635, '®': 210, 'Died': 18706, 'Peggy': 15607, '東': 1042, '##mie': 9745, 'tourism': 8668, '##kell': 24888, '北': 993, 'Wiley': 20516, 'ễ': 748, '1889': 5825, 'photographers': 21083, 'underground': 5433, 'transcription': 15416, 'Basel': 14562, 'console': 10662, 'Iona': 24964, 'lo': 25338, 'engineer': 3806, 'pp': 4329, '##aca': 16604, 'Brazilian': 5468, 'piece': 2727, 'olds': 25343, 'drying': 19264, 'salesman': 23259, 'Rite': 23787, 'series': 1326, 'Himself': 20848, '##ME': 14424, 'quit': 8204, '##ʒ': 28295, 'imp': 24034, 'bomb': 5985, '##nier': 12682, 'massage': 26088, '1779': 18870, 'Lev': 27257, 'Holy': 3930, 'astronomer': 17150, 'trial': 3443, '##宀': 28908, '##omo': 18445, 'Reserves': 24635, 'Phillips': 7651, '##imate': 15774, 'Ladies': 10504, '##lved': 25043, 'roll': 5155, 'Madagascar': 12014, 'hometown': 9694, 'enterprises': 14839, '2018': 1857, 'begun': 4972, 'hug': 8363, 'mascot': 14623, 'arrest': 6040, 'Within': 5360, '##ס': 28461, '##ern': 10449, 'choir': 8041, '1720': 26282, 'Leslie': 8521, 'brains': 16570, 'treason': 16975, 'Standard': 6433, '##gned': 26884, 'erected': 6517, '##voking': 20202, 'chasing': 13333, '##real': 16330, 'livery': 21193, 'bisexual': 28121, 'presently': 16269, '##oof': 19329, 'Factory': 9977, '##connected': 24323, 'inaugural': 7517, 'Düsseldorf': 19822, 'reproduced': 25017, '##nah': 17080, 'layers': 8798, 'Marathon': 12719, 'Sharpe': 24566, '##mered': 18583, 'Established': 14633, 'abolition': 18304, 'struggle': 5637, 'fed': 7672, 'spaces': 6966, '##₅': 28712, '##sler': 21318, '##ury': 11366, 'washing': 13445, 'parish': 3363, '##rehension': 17121, 'ן': 549, 'Saga': 18913, 'Alex': 3230, '##ddling': 16166, '##reis': 19766, 'thirty': 3961, '##tus': 4814, 'derivatives': 18952, '##ws': 10732, 'tortured': 12730, 'buddy': 16723, '##kley': 19490, '##ishi': 20800, 'supreme': 14777, 'Yep': 17035, '##40': 12882, 'flowers': 4637, 'button': 6324, 'Bosnia': 9276, 'Tobacco': 25159, 'six': 1565, 'escorted': 13539, '##ers': 1468, 'passports': 23047, 'states': 2231, 'Opera': 5434, '##meter': 19401, '##rising': 25443, 'traces': 10749, 'amid': 15872, 'route': 2438, 'state': 1352, 'Gilles': 24006, 'heat': 3208, 'petitioned': 25042, 'beat': 3222, 'things': 1614, 'inactive': 18040, '##raught': 23843, 'Enterprise': 9892, 'circular': 8287, '##с': 28403, '》': 888, 'layer': 6440, '##tland': 11910, '##abulous': 20356, '##ceptive': 17046, 'Maintenance': 21112, 'sensing': 16986, 'Slater': 19336, 'Ā': 278, 'institutions': 4300, 'Ahmed': 10045, 'sooner': 10639, 'referendum': 9905, 'disgust': 13155, 'Lac': 23929, 'Television': 4552, 'dash': 16605, '##pse': 17783, 'descent': 6585, '##—': 28685, '##⁻': 28710, 'Except': 9656, 'sacks': 17177, 'investigate': 8242, 'feminism': 25787, 'meaning': 2764, 'Endowment': 25045, 'enjoying': 8965, '##cated': 11603, 'pays': 15539, 'boiled': 19040, '##week': 21394, 'liberal': 7691, 'Jerry': 5466, '##ont': 9921, 'weakness': 11477, 'Richard': 2055, 'weighed': 13025, '##ة': 23525, 'Chair': 7507, 'ậ': 743, 'include': 1511, 'naming': 10505, '##worth': 4189, 'Matches': 20380, 'need': 1444, 'Remember': 9498, 'Monroe': 9487, 'whom': 2292, 'أ': 562, 'manual': 9506, 'smirk': 15861, '##nal': 7050, 'defence': 6465, 'depicts': 11268, '##im': 4060, 'shot': 2046, '##Λ': 28324, 'Short': 6373, '##tend': 22910, 'Anthology': 20682, 'identity': 4193, '##ras': 7297, '##lution': 18404, 'comedy': 3789, 'Ku': 23209, '##ill': 7956, 'Eddy': 18998, 'tropical': 5065, 'ʊ': 369, 'Holden': 9792, '218': 22723, 'installation': 8205, 'boy': 2298, 'preserving': 16593, 'unveiled': 11770, 'Ages': 9325, 'expand': 7380, '##bin': 7939, 'е': 480, 'speeches': 14948, 'continuous': 6803, 'orbital': 16488, 'Studio': 6125, 'greedy': 24007, 'los': 12724, 'orchestral': 15682, 'Victor': 4622, 'throw': 4932, 'entities': 11659, '##oter': 26950, 'younger': 3247, 'vehicles': 4011, '##grown': 21038, 'revealed': 3090, '##ἐ': 28671, 'Solo': 11977, '##rkin': 17687, 'Ho': 9800, '##rism': 18502, 'consecutive': 4776, '##pan': 10224, 'Γ': 396, 'makers': 12525, '##bolt': 24850, 'courtroom': 23699, 'embarrassed': 10529, 'peaks': 13175, 'decay': 14352, 'member': 1420, '##п': 28402, 'sur': 8910, 'steamed': 24410, 'hardly': 6374, 'pilots': 8486, 'bypass': 13981, 'Crew': 11144, '1925': 4053, 'Sacred': 11373, 'apart': 3966, 'Browne': 15711, 'puzzled': 16199, '##ャ': 28859, 'complications': 13522, '##life': 14430, 'commands': 11443, '##obia': 23145, 'Won': 9083, 'vendor': 26111, '##হ': 28564, 'victims': 5256, '##place': 11256, '1980': 2253, 'somebody': 9994, 'aggression': 16843, 'hopeless': 24858, 'Edmund': 9196, '##orium': 25285, '##ging': 3375, '##ulon': 23643, 'Holdings': 14575, 'Henderson': 9184, 'bursting': 24329, '##cracy': 22814, 'Freiburg': 25476, 'Dresden': 13211, 'Ibn': 14340, 'garde': 19484, 'While': 1799, '##生': 28949, 'towels': 27715, '##á': 5589, 'subsp': 28124, 'assassins': 27459, '##tory': 6207, '##suse': 24784, 'del': 3687, 'colonel': 9431, 'steer': 25284, 'Hatch': 25945, '##ffington': 26147, 'and': 1105, '##icient': 26845, 'Fourteen': 27711, 'modernist': 26068, '##ça': 15331, 'shaved': 23116, 'ones': 3200, 'Regis': 25510, 'rubble': 19468, 'Nile': 16022, 'consecrated': 12636, '##augh': 23825, 'experiences': 5758, 'cash': 5948, '##brush': 20248, 'UFC': 12047, '##ency': 9517, 'lakes': 9231, 'Harrison': 6067, 'afforded': 25520, 'nutrition': 20121, 'Kilda': 25168, '##ération': 27686, 'glasses': 7537, 'Length': 16758, 'script': 5444, 'Sahib': 27556, 'empirical': 20607, 'Gap': 16580, 'shaping': 23918, 'breeding': 8103, 'Martinez': 16247, 'Bravo': 19465, 'sinks': 27004, 'Baton': 22178, 'green': 2448, 'Davenport': 17352, 'technician': 22242, 'inspection': 11820, 'Norton': 10685, 'increasing': 4138, 'statement': 4195, 'equals': 22455, 'planting': 16109, 'eds': 14625, 'IL': 15393, 'discs': 17973, '##wat': 20543, 'Afterwards': 13611, 'ONE': 24497, 'kids': 4067, 'Ni': 27453, 'Salisbury': 14268, 'controller': 14668, 'accompaniment': 25089, '286': 28112, '##going': 25251, 'prey': 8368, 'exploit': 19685, 'embarrassment': 15285, 'Clement': 13875, '2008': 1369, 'threw': 3885, 'worms': 23357, 'Penguins': 24801, 'federal': 2877, 'Sussex': 9206, 'della': 12391, '##nc': 26405, 'Battle': 2651, '1915': 4135, 'fine': 2503, '##Ş': 28245, 'contestant': 11201, '##zine': 25593, 'Christopher': 4978, 'volunteers': 8118, 'Domain': 20237, 'intervened': 23250, 'Benedictine': 23494, 'Senate': 3279, 'chaired': 12624, 'Impossible': 26138, 'Fair': 6632, 'right': 1268, 'Janeiro': 11502, 'CW': 21303, 'disagreements': 26805, 'ם': 547, 'parody': 13129, 'preseason': 23592, 'moral': 7279, 'Owen': 6761, '##stone': 6078, 'towel': 10166, 'Ra': 16890, 'peacefully': 23954, 'precedent': 22275, 'jurisdictions': 18923, '∘': 853, 'fled': 6192, 'thrusting': 24386, 'killing': 3646, 'immune': 11650, 'variously': 18995, 'distinctly': 21389, 'Voiced': 11361, 'stripped': 10168, '##IF': 15499, 'Dom': 16727, 'crap': 11074, '[unused91]': 91, 'چ': 599, 'armament': 18829, 'needy': 27819, 'Collections': 26294, 'স': 660, 'desert': 6941, '##lad': 23850, 'factions': 14468, 'supposed': 3155, '辶': 1073, 'Hanna': 10502, 'Helen': 5673, 'Teresa': 12575, 'Golden': 3684, 'Forty': 15487, 'inhabitants': 4131, 'classroom': 10229, 'defensive': 5341, 'manipulate': 19109, '##erham': 25499, 'Ki': 14477, '##ly': 1193, '##oned': 23138, '##gle': 6415, '##ege': 27487, 'England': 1652, 'С': 464, 'Old': 2476, 'extended': 2925, 'Peterson': 12092, 'crude': 14699, 'RA': 26547, '##stillery': 28042, 'Said': 11455, 'Kara': 14069, 'Ara': 25692, 'famed': 16916, '##grating': 21889, '##\"': 28126, 'sight': 3617, '##where': 15839, 'Colts': 16186, 'reversed': 11802, 'Of': 2096, 'Rafe': 16808, '##rricular': 23821, 'assume': 7568, 'transform': 11303, 'Hangul': 22064, 'served': 1462, 'Tristan': 9665, 'Counsel': 18645, 'troupe': 19338, 'Crimson': 18795, 'numb': 18152, '##chemical': 16710, 'Voyager': 26677, '1955': 3115, 'communication': 4909, 'Gujarat': 15019, 'sermons': 26367, 'hurting': 12199, 'secondly': 25527, 'uses': 2745, 'nobles': 15621, 'Adele': 20322, 'betrayed': 12546, 'each': 1296, 'curtain': 12354, 'troll': 28000, 'hair': 1716, 'inputs': 22743, '##rose': 10127, '##yrinth': 27254, 'Montana': 7976, 'Zeus': 16111, 'op': 11769, 'ņ': 308, 'Marshal': 9776, '##li': 2646, '##آ': 28471, '##min': 7937, 'Owens': 15500, '148': 17474, 'nude': 17899, 'Interactive': 17353, 'Communion': 27212, 'sinking': 10464, 'amateur': 6135, 'stirred': 14030, 'clinched': 23782, 'ს': 705, 'Commissioners': 19405, '1883': 6720, 'pension': 12966, 'amusing': 21124, 'signal': 4344, 'archaic': 26152, '##igo': 11466, 'masonry': 20860, 'Memories': 19917, 'demonic': 27324, 'birthplace': 15979, '##lacing': 24001, 'organism': 17102, 'injected': 21881, 'prince': 6927, 'Beau': 21477, 'secondary': 3718, 'dome': 10945, '##ₙ': 21030, 'bunch': 9670, 'happened': 2171, 'Johnston': 10675, '##claiming': 23802, 'hundreds': 5229, '##kick': 27982, 'electric': 3651, 'adapted': 5546, 'motto': 13658, '##hlete': 25519, 'evaluation': 10540, 'yellow': 3431, 'ignorance': 21326, 'ء': 560, '##marks': 22328, 'scared': 5528, '206': 20278, 'Art': 2051, '##borough': 8677, '88': 5385, 'Meat': 25224, 'cameo': 13405, '##ṭ': 28639, 'Su': 15463, 'died': 1452, 'ratings': 8532, 'Solar': 12700, 'Talon': 22879, 'brands': 10915, 'credible': 27709, '##ы': 28413, 'smooth': 5307, '##roner': 21947, 'suburbs': 10386, 'Know': 9224, 'thrilled': 17278, 'cells': 3652, 'federally': 26129, 'tennis': 5538, 'Sands': 18869, 'Leaders': 20880, 'air': 1586, 'limits': 6263, 'Dee': 9115, 'gripped': 9430, '##piece': 9641, 'Iroquois': 25678, '##eiro': 20894, 'Citizens': 14649, 'Macon': 23153, 'grassland': 23560, '##^': 28150, 'Ursula': 23500, 'stayed': 3523, 'survival': 8115, '##uca': 23315, 'affecting': 12759, 'Johan': 13402, '##dn': 22834, 'golden': 5404, 'ă': 280, 'marble': 8004, 'advising': 28002, 'sketch': 12333, 'showered': 27155, 'vehicle': 3686, 'repairs': 10528, '##cia': 6052, 'las': 17496, 'Awards': 2763, 'metropolitan': 9259, 'boilers': 22800, 'going': 1280, '##raction': 27612, '##com': 8178, 'case': 1692, '##gt': 19815, '##losure': 26073, 'shear': 21660, 'Cave': 11900, 'Anaheim': 22845, 'vain': 18329, 'Mr': 1828, 'circuit': 6090, 'Bud': 17084, 'militants': 19342, '##ost': 15540, '##mah': 26363, '##oku': 23226, 'SE': 12342, '##uro': 11955, 'seeming': 17511, 'Vienna': 5337, 'tilted': 9766, 'Rory': 14845, '##ک': 28503, '##KA': 18135, 'Chef': 19750, 'Cummings': 22982, 'Ware': 22846, 'Notes': 8797, 'plural': 14920, '##teen': 10381, '江': 1050, 'secured': 6561, 'Claremont': 26537, '##kra': 27311, 'Date': 14265, '##rated': 5894, 'Industry': 7358, 'Zero': 10670, '##schen': 24169, '##yotes': 26833, 'don': 1274, 'warned': 6926, 'Gillian': 24865, '##ℝ': 28736, 'ⁱ': 801, '##calated': 27810, 'basal': 16361, 'Squad': 14346, 'Album': 6429, 'medical': 2657, 'tower': 3590, 'fulfilled': 18210, 'Historical': 6794, 'chemistry': 8117, '##rted': 26048, 'Maiden': 23185, '##imo': 12013, 'knocking': 10760, '##saki': 21483, '##ہ': 28505, '##bella': 23033, 'dollar': 8876, 'softball': 17607, '##by': 2665, '96': 5306, 'raw': 7158, '##uy': 20257, 'squirrel': 25817, '##rwick': 25431, 'composition': 5239, 'submerged': 14203, 'Transport': 5371, 'force': 2049, 'dice': 26104, 'daughters': 5421, 'useful': 5616, 'feminist': 12080, '##lant': 9180, 'Pretty': 12004, 'drastic': 27735, 'potential': 3209, '1908': 4536, 'Divinity': 25992, 'logic': 8738, 'Under': 2831, 'seconds': 3071, 'realize': 4663, 'Baroness': 25358, 'David': 1681, '##ET': 11943, '##bracing': 26348, 'comprised': 11561, '##cue': 27138, 'disliked': 20604, 'overseeing': 21661, 'cemetery': 6680, 'Soon': 5398, '##zano': 23371, 'deeds': 19301, '##hum': 21631, 'grateful': 9473, 'creep': 24090, 'yours': 6762, 'Cheney': 26568, 'sun': 3336, '1690': 27899, 'emotions': 6288, 'agenda': 12932, 'mixes': 25013, 'crowd': 3515, '##ב': 28446, '##ப': 28576, 'trainer': 11277, '##el': 1883, 'Richardson': 9186, 'Sites': 27010, 'MacKenzie': 28116, 'excluding': 14243, 'affection': 12721, '##lint': 22761, 'sharply': 8930, 'rabbits': 25164, 'hungry': 7555, 'camp': 3227, 'Theodore': 10408, 'Baghdad': 14465, '##ᵐ': 28618, 'Westminster': 9134, 'cultural': 3057, 'penis': 21504, 'college': 2134, '##AG': 22689, '##inga': 28050, 'å': 251, 'veterinary': 27431, 'Territory': 7442, '##holding': 20139, 'locomotive': 8502, 'Sparta': 23479, '##els': 5999, 'capsule': 21749, 'repetitive': 26976, 'Kevin': 4101, '1896': 5645, 'legends': 14218, '##π': 28352, 'Go': 3414, '侍': 989, 'Sound': 5196, 'narratives': 26712, 'pounding': 9683, 'landmark': 10755, 'כ': 545, 'Poetry': 9721, 'Patch': 26941, '##clusive': 16891, 'changes': 2607, 'Frog': 25573, '72': 5117, 'Nazi': 5755, '##lf': 9654, 'Probably': 10109, 'Holocaust': 12066, '##⁰': 28702, 'Parliament': 2901, '##∪': 28753, 'transfer': 4036, 'ッ': 950, '##nut': 12251, 'snapped': 5267, '##utrition': 23016, 'Khalid': 24257, 'blinded': 24255, 'pathetic': 18970, 'unreliable': 26641, 'units': 2338, 'up': 1146, 'em': 9712, 'accountant': 23195, 'lists': 6802, 'Manitoba': 10391, 'Alpine': 16515, 'insanity': 23186, '##iya': 9384, 'returned': 1608, 'Cal': 11917, 'booked': 18951, 'protective': 9760, 'Clare': 11148, 'Renee': 24463, 'shotgun': 15210, 'Hague': 15201, 'convex': 20137, 'adorable': 27627, 'Moreover': 9841, 'receiver': 8352, 'afraid': 3737, 'ῦ': 777, 'fare': 14550, '##ffin': 16274, 'swamp': 16407, 'Sardinia': 23833, 'apply': 6058, '##ה': 28449, '##lat': 16236, '55': 3731, 'Shooting': 19439, 'Stock': 9924, 'driving': 3759, 'Corridor': 21740, 'Fife': 23521, 'your': 1240, '##kar': 6610, '##ibe': 13374, '##phon': 21250, 'sleep': 2946, '##ido': 12894, 'Telegraph': 12627, '1865': 6127, 'scratched': 15844, 'verbs': 17992, '##ე': 28602, 'cart': 12411, 'celestial': 25432, 'Psychology': 11695, 'organizational': 15610, 'Brewery': 23418, 'SAT': 26203, 'Clock': 20957, 'dubbed': 9098, '##å': 16835, '##phones': 16215, '##lander': 21077, 'amassed': 24592, '##lite': 21998, '人': 985, 'extinct': 8256, 'dense': 9613, 'Germans': 6494, 'Oblast': 11705, 'rewards': 22278, '##port': 4342, '##lena': 23675, '##hesis': 22063, 'weaker': 16990, '##oir': 24554, '5th': 4025, 'committed': 4762, '##zzle': 21011, 'wreck': 13573, '##ruba': 24325, 'chaplain': 19715, 'misses': 26334, 'Common': 6869, '##rou': 20645, 'Analysis': 12504, 'heating': 11187, 'Greenland': 17098, '##dict': 28113, 'Zachary': 21202, '##十': 28887, '##ད': 28590, '美': 1066, 'Treaty': 6599, '##gion': 16680, 'html': 28066, 'traditional': 2361, 'Romanized': 7278, 'anime': 9499, 'positioning': 23208, 'monster': 7121, 'treatments': 14115, 'Disco': 22314, '##sused': 26097, '##т': 28404, 'disorders': 11759, 'galaxies': 26341, 'mountain': 3231, 'arcade': 14751, 'fitting': 11732, 'charge': 2965, '##nial': 21364, '##ấ': 28642, 'packages': 15611, 'Sarah': 3696, '##rri': 14791, 'tentative': 23113, 'regulating': 24717, 'Calder': 21056, 'En': 13832, 'Horace': 12950, 'positively': 14257, 'second': 1248, '##berley': 23086, '##roa': 27380, 'Tin': 16452, 'Film': 2352, 'trips': 9185, 'whipped': 12740, 'circling': 20774, '##nov': 15847, 'horsepower': 16243, '##udo': 18109, 'suppose': 6699, 'fruits': 11669, 'shiver': 14004, 'fishing': 5339, 'medial': 27598, 'editors': 11884, 'multitude': 23210, 'Individual': 12265, '##ification': 5783, 'creatures': 7207, 'promotion': 4166, 'Tad': 26741, 'Romani': 27876, 'Morgan': 4461, '##vocative': 22738, 'Ε': 398, 'excavations': 16444, '##tract': 15017, 'Midlands': 13869, 'Retrieved': 4996, 'reactors': 25521, 'en': 4035, 'گ': 601, 'contribution': 6436, 'succeeded': 3760, '##ryan': 25641, 'furniture': 7373, '##actic': 19102, 'manipulation': 18776, 'stride': 20856, 'Colombia': 6855, 'heavens': 21782, 'alarmed': 22525, '##eria': 16386, 'Sampson': 24468, 'Clan': 14288, 'Woodland': 26730, 'Israel': 3103, '##ío': 26804, 'session': 4912, 'ק': 555, 'performing': 4072, 'crushing': 15477, 'Redesignated': 25270, 'Farrell': 17271, '##cam': 24282, 'deeply': 5585, 'relocate': 22036, 'Works': 5853, 'aroused': 20014, '##bank': 8607, 'rehearsal': 20762, '##thorpe': 22194, 'convertible': 28086, 'IP': 14274, 'sanity': 24188, 'Signal': 15663, 'aide': 17512, '##gna': 12149, 'Flag': 13654, 'Fender': 24852, 'fraud': 10258, 'Roach': 25483, 'insulin': 26825, 'vulnerable': 8018, 'Ski': 16851, 'ं': 605, '##lby': 14974, 'nor': 4040, 'laundry': 16524, 'rebounds': 11174, '##prints': 12668, '##ntiary': 24051, 'Robert': 1823, 'cents': 18748, '##ucks': 21515, 'namely': 8199, 'Fury': 14615, 'upon': 1852, '##reta': 22714, 'Becca': 24538, 'Bergen': 12889, 'portraits': 10285, 'inauguration': 20105, '##weed': 14315, 'opportunities': 6305, 'Ira': 21109, 'system': 1449, 'Deputy': 4831, 'monsoon': 24986, 'convenient': 14785, '##iator': 26264, 'promising': 10480, 'volume': 3884, 'illustrated': 8292, 'clutching': 15571, 'semifinal': 20410, '##lass': 17223, 'Vuelta': 24033, 'Dhaka': 17558, 'Warwick': 13608, 'ridiculous': 9944, '##J': 4538, 'civilian': 6688, '##bi': 5567, '##eering': 15536, 'Rana': 25503, '##aker': 17051, 'verge': 18691, '##alo': 20717, 'climbed': 5998, 'legislative': 7663, 'gotten': 4690, '##tering': 9930, '##ḍ': 28628, '##yan': 6582, 'toxicity': 25954, 'telescope': 16737, '1973': 2478, 'hazard': 22699, 'spells': 12168, '##け': 28794, 'inflammation': 24970, 'paid': 3004, '##Å': 28183, 'Gandhi': 12508, 'Thirty': 10868, '##loaded': 18268, 'sounding': 9209, 'UN': 7414, 'industrial': 3924, '原': 996, 'studied': 2376, 'biographies': 26785, 'Haynes': 24098, 'stranded': 17345, '##guard': 12188, 'Cottage': 20948, 'colorful': 15302, 'clicking': 25600, 'substances': 15804, 'Vincenzo': 27854, '##ψ': 28359, 'sweater': 15195, 'Random': 19441, 'adults': 6323, 'incentive': 23692, 'Depot': 15525, 'Closing': 23408, '##rippled': 27448, '##zzy': 18894, 'parked': 8806, 'Want': 8631, 'liver': 11911, 'owned': 2205, 'speech': 4055, 'homestead': 24857, 'coffin': 16638, 'Franz': 8615, 'Joachim': 18473, 'Allegheny': 23307, 'dem': 26707, '77': 5581, 'Majority': 23670, 'ά': 414, 'Helsinki': 12471, 'Gardiner': 23272, 'Lyle': 24311, 'declaration': 11156, 'Bold': 19096, '##rocław': 26524, '1899': 5493, 'tonnes': 10992, 'ỳ': 766, 'Megan': 12975, 'Hello': 8667, 'authorities': 3912, '##elle': 11682, 'Gallery': 3889, '##nology': 16658, '157': 18611, 'growth': 3213, 'ancient': 2890, 'Honourable': 22110, 'felt': 1464, 'Shields': 21059, 'Jimmy': 4479, 'Cavendish': 26371, 'Preston': 8083, 'Doom': 18309, 'facto': 14277, 'evenings': 18051, 'Pleasure': 23786, '1877': 7028, '##cane': 27313, 'Torres': 13428, 'Lal': 24298, 'Tanaka': 24128, '李': 1040, '##Θ': 28321, 'М': 459, 'Anglo': 7342, '##hom': 25453, '##uing': 21490, 'Candace': 25554, 'controversy': 6392, '31': 1955, '##ever': 17791, 'beside': 3148, 'Everything': 5268, 'basically': 11519, '##aran': 27177, 'G': 144, 'forwards': 22453, 'Peterborough': 18839, 'Victorian': 6046, 'explode': 16099, '##Þ': 28197, 'before': 1196, '##men': 2354, 'Ulysses': 25427, 'Cincinnati': 7304, '##FF': 17515, 'reality': 3958, 'odds': 10653, 'Directorate': 15237, '1851': 8424, 'darkened': 14307, 'q': 186, '##hia': 10652, '天': 1010, 'inland': 11054, '##dust': 27650, '##rdon': 22528, 'eerie': 21914, '!': 106, 'stark': 18237, 'Ivan': 7062, 'Gina': 18943, 'slot': 10641, '##kus': 26688, 'Price': 7510, '1991': 1984, 'Tuscany': 25985, 'Reynolds': 9296, '）': 1098, '##rn': 4558, 'purpose': 3007, 'Thornton': 15260, 'world': 1362, 'Mountains': 5249, 'addiction': 15658, 'deficit': 16312, 'Help': 12056, '[unused36]': 36, 'corners': 8993, 'tiger': 13778, 'podium': 15464, 'Pig': 23350, 'Motown': 25301, 'Custom': 25456, 'developer': 9991, 'Lesser': 19286, 'confirm': 12434, 'Holt': 12857, '1642': 27015, '##til': 19621, '##bino': 25473, 'eyes': 1257, 'chords': 22098, 'overthrow': 18310, 'labs': 21973, '##ation': 1891, 'engulfed': 28109, 'Hannah': 8014, '##lem': 14183, '##uding': 21705, '##ym': 17162, 'experimenting': 27193, 'belong': 6772, '##FS': 17691, '##nir': 20461, 'Հ': 514, 'complex': 2703, '145': 14151, '##icious': 25430, 'undergraduate': 8448, 'Prefecture': 8197, 'Photography': 12954, '##յ': 28430, '##pet': 12924, 'worked': 1589, 'newer': 11483, '##カ': 28830, 'perfume': 20087, 'product': 3317, 'snap': 11152, '##irt': 25074, 'pearl': 24837, '##rable': 9739, 'Heavy': 10580, '##CP': 13113, 'Are': 2372, '##bu': 7925, '##lands': 6754, 'disc': 6187, 'example': 1859, 'Tottenham': 19494, 'Ψ': 412, 'Salt': 8881, 'Goals': 14238, 'kingdoms': 16685, '##ome': 6758, 'Never': 5091, 'flag': 5167, 'seniors': 20566, 'Gerald': 9532, 'Molly': 9564, 'operate': 4732, 'Archer': 12244, 'XV': 16925, 'Safe': 19770, 'computing': 12783, 'willingly': 19711, 'Bethel': 21099, 'enable': 9396, 'nod': 6873, '##hane': 15296, 'frontman': 25063, '##de': 2007, 'earthquake': 8386, 'Ranger': 13415, 'Nissan': 17574, 'Wimbledon': 13752, '##lets': 9585, 'booth': 12960, 'violations': 13957, 'fleeing': 14979, '##Es': 27485, '##hwa': 24156, 'pace': 6418, 'town': 1411, 'Champion': 4445, 'Visiting': 19383, 'Hey': 4403, 'lens': 11039, 'Star': 2537, 'Lincolnshire': 17699, '##VI': 23314, '[unused16]': 16, '##ָ': 28442, '##kova': 26892, '##fu': 14703, 'Fight': 11290, '##osis': 11776, 'Being': 6819, 'anymore': 4169, 'lashes': 17366, 'ornamental': 20363, 'undoubtedly': 19832, '##hali': 24486, 'þ': 276, 'pursuing': 12137, '##uria': 19700, 'carries': 7450, 'Look': 4785, 'प': 616, 'License': 24689, 'Karl': 5728, 'Maddy': 22838, 'bits': 9182, 'situation': 2820, 'Directors': 9970, 'chewing': 19791, 'concentrate': 10191, '##nica': 13109, 'beams': 13903, 'Alternate': 14234, 'spray': 13477, 'imposed': 9520, 'Pakistani': 9651, '##inen': 19865, 'combine': 12479, '##ldo': 25791, 'Kang': 17614, 'bombed': 20812, '##ừ': 28664, '##hly': 25469, '##llers': 25029, 'marrying': 14244, 'Newfoundland': 12033, 'book': 1520, 'Duval': 27281, 'Jared': 7927, 'torso': 16374, 'legacy': 10261, 'heiress': 22915, 'holes': 7996, 'evolutionary': 14745, 'bordered': 11460, 'tentatively': 22285, 'Jew': 17706, 'economy': 4190, '146': 17350, 'protagonists': 24541, 'elderly': 9808, '##்': 28585, 'Rhineland': 23910, '##り': 28820, 'Tolkien': 26396, 'grave': 6569, '##佐': 28881, 'Miranda': 9120, '##rating': 7969, 'coal': 5289, '##ibes': 20195, '##amel': 22962, 'Ohio': 3197, 'renewed': 8978, 'impression': 8351, '##lasia': 22992, 'Biennale': 23754, '##gor': 18791, 'Germain': 20920, 'downhill': 23895, '##ish': 2944, 'Chun': 25475, 'graves': 14489, 'filthy': 22024, 'Ș': 349, 'consists': 2923, '이': 1092, 'protected': 4921, 'suspension': 8605, '##nst': 22399, '##inian': 17054, 'leaped': 18021, 'Hannibal': 27197, 'announce': 15810, 'presidency': 11223, 'Lancaster': 10054, 'Pharmacy': 24774, 'America': 1738, '##tist': 12948, 'Visa': 21009, 'Saratoga': 25867, '##dley': 11814, 'Thor': 16261, 'Chiang': 19110, 'Vincent': 5665, '##ne': 1673, 'considerable': 5602, 'cancelled': 7618, '##TL': 20156, 'vacation': 12020, 'admiral': 15822, '##them': 25962, 'thank': 6243, '##ham': 2522, 'asserted': 14043, 'molecule': 14730, 'ィ': 932, 'Rockets': 24249, 'teens': 15050, '##ating': 3798, '##yke': 27142, '##ign': 11368, '##heads': 12970, '##lung': 24356, 'ex': 4252, 'expanding': 9147, 'Panther': 19719, 'jealous': 10282, 'ę': 291, '##♥': 28772, 'reigned': 23457, 'Sonia': 17450, 'Kelly': 4368, 'Mistress': 20909, 'Jayne': 27469, 'Ashland': 27391, 'map': 4520, 'juice': 12362, 'α': 418, 'delay': 8513, '360': 9174, 'assassinated': 17493, 'Publications': 12524, 'Workers': 8736, 'peering': 19205, 'humor': 8594, 'significance': 7467, '##bbling': 20830, 'prophet': 20718, 'opposite': 3714, '##ilitating': 26039, 'Frederick': 4682, 'stationed': 8651, '##struction': 26372, '##ħ': 28226, 'Trump': 8499, 'meant': 2318, 'been': 1151, 'plan': 2197, 'Palestinian': 8988, 'esteem': 22123, '##ikos': 25529, '##テ': 28844, '##gren': 13421, 'accurate': 8026, 'RCA': 12833, 'cast': 2641, '##lton': 13464, 'Atari': 20694, 'dialogue': 8556, 'breath': 2184, '##der': 2692, 'swing': 8046, 'averaged': 11445, '##uto': 21017, 'respected': 9581, 'cord': 13408, '##phy': 22192, 'Milford': 25155, 'adverse': 16798, 'Four': 3396, 'Doctors': 21232, 'collided': 19060, '##37': 26303, 'syrup': 27662, '##span': 27894, 'touching': 6893, 'Stakes': 8666, 'scrutiny': 19258, 'Seminary': 11186, 'Marshall': 5137, 'teenage': 11009, 'Gazette': 11698, 'tributaries': 17147, 'Benz': 19107, 'courses': 4770, 'Rosie': 16853, '##ports': 21673, 'Give': 7193, 'glare': 11043, 'heart': 1762, 'specializing': 14774, 'constructing': 17217, 'paler': 28089, 'grazing': 16747, 'transmissions': 25436, 'Green': 2565, 'frequencies': 13714, 'awe': 16958, '##ilities': 27968, 'injury': 3773, 'lot': 1974, '202': 17881, '##lag': 18974, 'Charts': 25085, '##orse': 18649, 'Bathurst': 24231, '1941': 3018, 'Defaulted': 20445, 'Tibet': 13659, '17': 1542, 'rebellious': 25935, '##rop': 12736, '##dia': 7168, 'Energy': 5514, 'fourth': 2223, 'lasted': 5695, 'fuselage': 13959, 'pope': 17460, 'interiors': 25556, 'Darrell': 25815, 'increased': 2569, 'figured': 6101, 'chancellor': 15046, '##aroo': 25956, '##gam': 17634, 'permission': 6156, 'Cork': 8711, 'Canon': 14718, 'Dana': 11422, '##figured': 18930, 'reasons': 3672, 'symmetric': 21852, 'cushion': 26701, 'portion': 3849, 'Maybe': 2389, 'Dmitry': 24513, '##こ': 28795, 'Caine': 21723, '##ded': 4902, '##ong': 4553, 'woods': 6269, 'Watson': 7422, 'brackets': 22019, '##wamy': 27785, 'Montreal': 5206, 'MAC': 25424, '##ddy': 13617, '##rvette': 25054, 'pictured': 17066, '##offs': 18438, '##porated': 26762, 'vacant': 10218, 'murmur': 22895, '##Ф': 28385, '##bbe': 20584, 'Lisbon': 12007, 'counterpart': 14132, 'conversion': 7497, 'Kiran': 24967, 'Lover': 20501, '1400': 22612, 'Leafs': 23932, 'ւ': 526, 'sweeping': 13194, 'flushed': 13338, 'terminating': 26702, 'ritual': 9181, 'vast': 6047, 'senator': 12280, 'moved': 1427, 'corresponds': 15497, 'radiated': 25822, '##eric': 26237, 'seeing': 3195, 'Martha': 8996, 'Rodney': 14360, '##mmoth': 26543, 'Clinton': 6652, 'cartridge': 16542, 'Taft': 21707, 'Institution': 11127, 'constituted': 12810, '##rue': 26930, 'Landon': 22613, 'normal': 2999, '##ficiency': 23622, 'Destroyer': 24473, 'প': 653, 'contest': 5235, '44': 3140, 'Isaiah': 20464, '##et': 2105, '315': 25495, 'criticizing': 23707, 'Parks': 10112, 'Whoever': 20834, ',': 117, 'Engineer': 8252, 'Lois': 17002, 'outpost': 26411, 'Nigeria': 6860, 'equilibrium': 15784, 'Gentlemen': 21224, 'Content': 27551, 'closed': 1804, 'Santos': 11064, '##18': 15292, 'thoughtfully': 21815, 'clergyman': 25215, 'exiting': 26513, 'luxurious': 23211, 'Suffolk': 12436, 'relay': 9316, 'sizes': 10855, '##verse': 10840, '1785': 18425, 'Fathers': 23010, 'Friedman': 19942, 'tents': 19544, 'illumination': 25842, 'Taipei': 14512, 'local': 1469, '1948': 3027, 'Basketball': 6035, 'waitress': 15098, 'reportedly': 7005, 'murmurs': 26792, 'reasonable': 9483, 'Animation': 15048, 'Memory': 14500, 'Dome': 17917, 'banged': 25697, 'McCormick': 25900, '##oms': 17112, '##ented': 22666, 'bug': 15430, '##uke': 16140, 'arts': 3959, 'Mum': 20409, 'depths': 11417, 'Tech': 7882, '1890s': 14066, 'yd': 23715, '##rench': 18129, '##voke': 14638, '##ado': 9359, 'thorough': 17213, 'pop': 3618, '##vert': 12986, 'Cope': 26673, '1749': 27828, 'systemic': 27410, '3000': 11975, 'Watkins': 18190, 'Claus': 20804, '##ǫ': 28270, 'suite': 9555, 'weight': 2841, '##rne': 12275, 'front': 1524, 'proceeding': 20793, 'strengthened': 14544, 'spectrum': 10122, '—': 783, 'ride': 4176, 'masked': 19970, 'squads': 23072, '##ὸ': 28676, 'organisation': 5632, 'subsidiary': 7049, 'Ta': 22515, 'Convent': 24376, 'FC': 3604, 'Swedish': 3619, 'lodge': 14433, 'risks': 11040, 'Hungarians': 26964, '##utnant': 27739, '##´s': 25313, 'shadow': 6464, 'estates': 10015, 'Passion': 17044, 'Leonardo': 15358, '##lier': 9888, 'Hall': 1944, 'Junction': 7364, 'prepared': 4029, 'XIV': 17340, 'delicate': 10141, 'multiplayer': 20602, '##imeter': 19998, '##sive': 8788, 'invasion': 4923, 'division': 2417, '##works': 9975, 'cows': 19816, 'candidates': 4765, 'guidance': 8815, '##liva': 24186, 'Brunei': 20249, 'stench': 24218, '##kor': 26989, 'unfolded': 27118, '##ض': 28487, '##toon': 23960, 'क': 607, 'assurance': 23296, 'BP': 21062, '##gets': 22785, 'restoring': 18306, 'Kendall': 15151, 'apex': 15764, 'ripe': 27087, 'transformed': 8272, '##ight': 11381, 'gorgeous': 10144, 'latter': 2985, '##lic': 8031, 'purposes': 4998, 'hip': 5110, '##sses': 26895, 'Rolf': 26130, 'patch': 10085, 'Wesleyan': 21627, '##sign': 19638, 'provided': 2136, 'positive': 3112, 'Pond': 15311, 'Gaius': 21305, '##В': 28368, '##′': 28699, 'athletes': 7653, 'gases': 17202, 'ɪ': 362, '⁺': 808, '##ature': 17337, 'charities': 18844, '##liner': 25167, 'memoir': 14871, 'clay': 8785, 'Macquarie': 26828, '##同': 28894, '##bs': 4832, '##copy': 20739, 'math': 12523, 'Woodward': 20825, '##tooth': 21590, 'Bonn': 21066, 'Neolithic': 22756, 'cabins': 23108, '##agan': 18323, 'disagreement': 19855, '##court': 13683, '##puted': 18505, '##als': 7264, 'Eighth': 17561, \"'\": 112, 'minutes': 1904, 'businessman': 6414, 'connecting': 6755, 'watts': 22469, 'cruise': 11270, 'volunteered': 15014, 'Talmud': 27512, 'Nationale': 28077, '##ologist': 8072, '##shu': 16138, 'Enrique': 16683, 'courage': 9163, '##RS': 8900, 'sovereignty': 13578, 'Leone': 13774, 'Universidad': 17572, 'Paper': 11594, 'bothered': 11352, '##MO': 20647, '##rano': 23367, '[unused13]': 13, 'Fairfax': 19175, 'Today': 3570, 'soaking': 25782, '177': 19478, 'printer': 17588, 'calmed': 22980, 'pounds': 6549, 'Chile': 6504, 'namesake': 18777, 'floating': 8379, 'hostage': 14551, '##avia': 19962, 'Amos': 14341, 'genre': 6453, 'swings': 21583, 'singular': 13794, 'Books': 5063, 'amber': 18376, 'flights': 7306, 'economic': 2670, 'WCW': 27189, 'Dramatic': 20779, 'Barton': 13235, 'arguments': 9989, 'Julius': 10315, 'insult': 16447, 'brother': 1711, 'Bourbon': 19247, 'Wood': 5296, 'cc': 14402, 'distorted': 21387, '##roy': 9166, 'matter': 2187, 'neatly': 17033, 'Mostly': 21981, '##dah': 16662, 'entertainment': 5936, 'Missile': 19794, 'collision': 13213, 'longitude': 27097, '##tick': 27252, 'Lund': 24232, 'refusing': 11676, '##aft': 17495, 'merit': 16008, 'entire': 2072, '##art': 9349, 'cheer': 18456, '##nee': 23063, '##bbled': 14437, '##agon': 19867, '##bner': 19090, 'detection': 11432, 'Knox': 12124, '##uka': 12658, 'VHS': 18808, 'Cory': 19801, '##phic': 21990, 'disqualified': 20200, 'honesty': 19242, 'Tribune': 11693, 'complexity': 12133, 'attachment': 15708, 'Canterbury': 9763, '##more': 4982, 'hardcover': 27214, '##fin': 16598, 'rank': 3997, 'train': 2669, 'complained': 10790, 'Mongol': 18739, 'attracting': 16453, '##aco': 17312, '##rky': 15538, 'Easton': 23908, '##ₘ': 28726, 'spared': 18173, 'carry': 3564, '##美': 28959, 'similarities': 12672, 'Sahara': 21465, '##uous': 8163, 'sovereign': 14611, '##ergic': 26949, 'airlines': 19602, 'Victory': 10663, 'Fischer': 13317, 'scary': 13952, 'clenched': 8173, 'chaotic': 22911, \"##'\": 28131, '[unused79]': 79, '##ull': 11781, 'participant': 14031, '195': 18500, 'ordinary': 6655, 'Claudia': 14035, 'American': 1237, 'clarified': 22484, 'trends': 14652, 'pie': 16288, 'Color': 13066, '##wright': 12723, 'despite': 2693, 'fight': 2147, 'Tears': 9846, 'Colt': 10717, 'ш': 499, 'lid': 14753, '##od': 5412, 'yer': 27497, 'shown': 2602, 'everywhere': 7244, 'Marian': 14789, '##ⱼ': 28777, 'machines': 6555, 'blend': 13390, '##ˈ': 28305, '##ther': 8420, 'Ballet': 10773, '、': 885, 'contention': 21374, 'VII': 8748, 'palms': 9797, '##flower': 15055, 'Hicks': 18564, 'graduation': 7477, 'criticisms': 22316, 'W': 160, 'Rica': 11585, 'These': 1636, 'Jakob': 20791, '##sville': 8030, 'aura': 19035, 'both': 1241, '道': 1074, '##木': 28931, 'Circle': 7933, 'ش': 578, 'shame': 10499, 'seasonal': 13286, 'Rainbow': 13188, 'sensitivity': 15750, 'Enrico': 24331, '[unused99]': 99, 'turkey': 25138, 'stiff': 11111, 'Updated': 17451, '[unused70]': 70, '##nous': 23901, 'Belgium': 4990, 'Reconstruction': 20750, 'feast': 11995, '06': 5037, 'dogs': 6363, 'cassette': 16820, '##DI': 17243, 'Curran': 21428, 'ammunition': 9448, 'Timor': 21597, 'Toby': 11311, '##amp': 19471, 'checks': 15008, 'inspired': 3768, 'releases': 6596, 'Festival': 2263, 'freely': 10297, 'Zhu': 16920, '##ductory': 26739, 'Jersey': 3308, 'Melanie': 13973, 'lady': 5141, 'actively': 8525, 'English': 1483, 'Stewart': 5272, 'Mariano': 25260, 'Sanford': 23266, 'squash': 25714, 'kilometer': 23387, 'accompany': 12910, 'cameras': 8457, 'Erie': 13717, 'Edith': 13917, 'charitable': 12474, 'irritation': 19380, 'hosts': 5654, 'Shakespeare': 7647, '##lance': 13831, 'since': 1290, 'Ashley': 9017, 'Hispanic': 6098, 'opponent': 6566, 'Sleeping': 21751, '##sby': 13341, '[unused15]': 15, '##小': 28912, 'assessing': 23529, 'Musée': 21808, 'smiles': 8402, 'Kaladin': 25111, 'immense': 14934, 'ი': 700, '##OK': 22027, 'interior': 4604, '##ogram': 28012, '₄': 815, 'Ships': 21016, 'appears': 2691, 'mines': 7785, 'heading': 5312, '##room': 6077, 'harassment': 17514, 'Eclipse': 22301, 'Shuttle': 20106, '##ân': 27708, 'Vocal': 15922, 'disagree': 23423, 'combines': 14215, '##19': 16382, 'd': 173, '208': 19980, 'velocity': 10537, 'detached': 12817, 'filter': 12123, '##pie': 15418, 'snorted': 16015, '##quities': 20030, '##ocytes': 26431, 'grassy': 26924, '##ớ': 28658, 'Governorate': 17596, 'innovative': 10034, 'refuses': 10078, '295': 23931, 'Sawyer': 14564, 'specials': 25736, '##acher': 25750, 'Shade': 20956, '1928': 3825, 'realism': 18990, 'exits': 18387, 'butler': 23635, 'comedian': 10475, 'Luciano': 27636, 'Comics': 7452, 'Features': 24972, 'centre': 2642, 'twisted': 6061, 'striking': 8261, 'Buddha': 12166, 'beaten': 7425, 'winced': 16433, 'inlet': 27036, '57': 4667, 'À': 226, 'just': 1198, 'Kenneth': 8488, 'galaxy': 15593, 'Eyes': 8855, 'faction': 10673, 'continuously': 10861, 'Quickly': 26705, '##tting': 19162, 'Otherwise': 15853, '##č': 18308, '##إ': 28473, 'hugged': 10167, 'footing': 25559, '##k': 1377, '##ruising': 24310, 'supplier': 19161, '##egan': 18886, 'labels': 11080, 'whitish': 17949, '##ṇ': 28636, 'Alt': 14983, '##犬': 28947, 'Acoustic': 20483, 'imperial': 7749, '##oons': 17658, 'Car': 8185, 'Abel': 17931, 'Guns': 18270, 'whereby': 13949, 'describes': 4856, 'females': 3032, 'gradient': 19848, 'appear': 2845, 'opinions': 11089, '##ston': 6186, '##EL': 21678, 'tended': 11097, 'obvious': 5119, '##athy': 23610, 'transformation': 9047, 'clash': 18751, 'structures': 4413, '1892': 5889, 'draws': 9804, 'painter': 5125, 'destination': 7680, '西': 1070, 'Vietnam': 4357, 'MP': 5478, '##oil': 20708, 'thereof': 24234, '##liche': 26567, 'cannot': 2834, 'exceptional': 12688, 'IGN': 17478, 'Ava': 11651, 'Hawaiian': 12314, 'holiday': 7946, '##cula': 21608, '##itt': 9642, '##cting': 16279, 'championships': 6430, 'explained': 3716, 'Enterprises': 16949, 'Representative': 7725, 'Strait': 12925, 'suggestions': 17241, 'Guatemala': 11835, '##eb': 15581, 'confiscated': 18423, 'spear': 14690, 'charcoal': 21648, '1942': 2889, 'beard': 12832, 'archbishop': 19026, 'responsibilities': 10239, 'groups': 2114, 'bitterly': 21115, '##llar': 12576, 'Transylvania': 22833, 'round': 1668, 'revenge': 7972, '##OD': 15609, '##rist': 12937, 'shove': 15909, 'Wolverine': 25862, 'theorist': 27620, 'slumped': 14956, '##wave': 17159, 'reliable': 10682, 'confined': 12597, 'Novgorod': 27383, 'yields': 17376, 'Neptune': 23405, '9th': 5612, 'solemn': 22752, 'Venus': 11968, 'ads': 17641, 'crawled': 12625, 'thought': 1354, '##vo': 6005, 'instruction': 8235, 'Medici': 25650, 'Birds': 13873, 'SV': 21479, '##ckle': 19053, 'destroy': 5535, 'bases': 7616, 'Townsend': 17131, 'strung': 27585, 'フ': 960, 'org': 8916, 'support': 1619, '##trata': 26649, 'boys': 3287, 'upside': 16888, 'Mata': 28044, '580': 26516, 'beneath': 3502, 'focal': 17811, 'butterflies': 18344, 'nightmare': 12178, 'tsunami': 24212, 'Sanders': 12195, 'Cambridgeshire': 27171, 'Ellis': 8161, 'Buckley': 19259, 'ranks': 6496, 'arrangements': 7371, 'Brussels': 9062, '##rolls': 26521, 'grunt': 24673, '##versity': 17671, '##tyn': 27156, '##garten': 20927, '##ogen': 19790, 'thread': 12473, 'Image': 15065, 'auspices': 22105, 'Widow': 26634, 'beg': 13803, 'sleepy': 23024, '##ã': 28199, 'Г': 451, 'visiting': 5807, 'McPherson': 27441, '##uga': 15650, 'Mercedes': 10743, 'ছ': 645, 'XI': 10252, 'storytelling': 25514, '##dified': 22293, 'bread': 8162, '##ك': 28494, '##path': 16606, 'ù': 271, 'bathing': 19971, '##xley': 18485, '##cer': 14840, '##pheric': 24551, '##bos': 18071, 'Kerala': 8627, 'vapor': 23548, 'There': 1247, 'fail': 8693, 'aging': 14195, 'hose': 25803, 'km': 1557, '##fter': 20962, 'hiking': 14249, 'strokes': 15007, 'Wikipedia': 18920, 'Broadway': 5259, 'pro': 5250, 'retrieve': 13139, 'induced': 10645, 'valid': 9221, 'Tel': 11341, 'railroad': 5786, 'slick': 16715, 'Gladstone': 24068, 'Mans': 18180, '##angelo': 27638, 'franchises': 25429, 'cheap': 10928, '##nell': 10376, '##mash': 21575, 'Mar': 9751, 'Niger': 19084, '##eted': 27860, 'practically': 7892, 'Telugu': 12321, 'altered': 8599, 'Paddy': 21211, 'reign': 5436, 'Weird': 24209, 'Buenos': 8883, 'furious': 10927, 'Nigerian': 11960, 'debating': 27066, 'decisive': 13630, '##ệ': 28651, '##hmann': 28111, '##ula': 5886, 'Cathedral': 5761, 'Hamilton': 4436, 'insight': 14222, 'cereal': 24759, 'cortex': 21284, 'slalom': 28095, 'elevator': 7605, '##green': 24448, 'tattoo': 13271, 'element': 5290, 'sincere': 19967, 'created': 1687, 'Cable': 15038, 'flags': 14870, 'Mustang': 21064, '##rata': 15471, '##lake': 13238, '##tails': 23871, '##spect': 20629, '##spective': 16776, '##eking': 25819, '##ầ': 28643, 'Whatever': 6853, 'government': 1433, '##if': 8914, 'Newport': 9168, 'dose': 13753, 'painfully': 17562, '##PA': 10147, '##est': 2556, 'sorry': 2959, 'orderly': 28058, 'inflation': 15503, 'Species': 11763, 'surplus': 17317, 'Barcelona': 7120, 'fronts': 25036, 'Cheng': 17525, '##ceiving': 24271, 'striker': 13074, 'ambassador': 9088, '##ales': 19856, 'Brown': 2671, 'tries': 4642, 'Basin': 10432, '##rre': 11604, '##shing': 12802, 'Innovation': 13886, '##ieri': 21328, 'For': 1370, '##quisition': 18540, 'presentations': 20531, 'versatile': 27133, '##elves': 27722, 'Hawks': 14126, '##human': 15319, 'Journalists': 26646, 'Hunter': 4242, 'Villa': 8064, 'reserves': 9114, 'Pioneer': 14589, '##watch': 21200, 'Patent': 16653, 'transparent': 14357, 'Stacy': 20072, 'indeed': 5750, 'provides': 2790, '##loop': 22344, '藤': 1069, '##of': 10008, 'Minneapolis': 11338, 'crawling': 17872, 'Bethlehem': 21078, 'Governor': 2958, 'verses': 11808, 'Hamlet': 20332, 'employees': 4570, '##arians': 26559, '##FP': 20912, 'charging': 13758, 'О': 461, 'bitter': 9178, 'eternal': 14822, 'Laguna': 19677, 'sleek': 23996, '1782': 17995, 'PlayStation': 8905, 'Smart': 13015, 'Punch': 25487, 'Warner': 6049, 'strangled': 23776, 'regarded': 4485, 'designer': 5592, '्': 634, 'clad': 14439, '##orious': 19402, '90': 3078, 'stairs': 4377, 'incident': 4497, 'akin': 21584, 'Cantonese': 24686, '##mor': 26271, 'leading': 2020, '##nny': 15863, 'supply': 3880, 'ا': 565, 'proceeded': 8621, 'MacDonald': 14023, '⁷': 805, '##nko': 17075, 'Campeonato': 18958, 'ducked': 14245, 'bench': 6757, 'pads': 21910, 'お': 897, 'lasting': 9810, 'impatient': 19331, 'comfort': 7238, 'stems': 12878, '##ntal': 21739, 'Grandma': 16245, '##han': 3822, '##nitz': 21505, 'Regional': 4723, '##pered': 19808, 'victorious': 15566, 'mast': 18871, 'matters': 5218, '##ails': 25428, '##ifiable': 20643, 'learned': 3560, 'Luftwaffe': 19027, 'Role': 17094, 'travelling': 9169, '##「': 28782, 'tempting': 27386, 'airs': 15692, 'pencil': 16372, 'cellar': 17637, 'Dead': 5620, '108': 10601, 'Assistance': 20778, 'Ciudad': 24038, 'mean': 1928, '##lifting': 18867, '1852': 8414, 'goes': 2947, 'wrought': 20533, '##ら': 28819, 'copy': 5633, 'showed': 2799, '##ltz': 23501, 'Past': 11415, 'Libya': 13135, 'prototypes': 22544, 'Brewers': 24591, '##bering': 26368, '##og': 8032, 'Santiago': 8349, 'fought': 3214, 'towering': 23441, 'despair': 15546, 'Delhi': 6175, 'Therefore': 6589, 'everyone': 2490, '##q': 4426, 'winters': 17415, 'Director': 2524, '##saurus': 23913, 'García': 12396, 'õ': 267, 'intends': 20299, 'Wan': 17878, '##%': 28129, '##cript': 13590, 'attitude': 7533, '##Ø': 28194, 'certainty': 17140, 'Guggenheim': 22310, 'republican': 22679, 'territories': 6835, 'multiple': 2967, '##jon': 19977, 'gazed': 11107, 'turnout': 17293, '##Σ': 28329, 'champions': 5461, 'accepting': 10795, 'Honour': 16451, '##break': 16596, 'Rockies': 24860, 'shrink': 26406, '##ditions': 16718, 'Oak': 8957, '##sian': 11890, '##esi': 18766, '##ₕ': 28724, 'Direct': 15974, '##rten': 23619, 'less': 1750, 'failure': 4290, 'fashion': 4633, 'historic': 3432, 'Smith': 2159, 'bet': 7023, '##ory': 4649, 'maturity': 18462, 'Mallory': 22378, 'ambiguous': 22405, 'Der': 9682, 'Eliminated': 20490, 'selling': 4147, 'medicines': 26016, 'Gonna': 19642, '##⅓': 28737, 'f': 175, 'entirely': 3665, 'resort': 8037, 'Lotus': 15945, '##ט': 28453, 'Defense': 5262, 'frowned': 6804, '##ox': 10649, 'Fly': 13677, '##iving': 21877, 'Wheeler': 14003, 'Culture': 6076, 'confirmed': 3659, 'blast': 9232, 'weaving': 17603, 'congestion': 22860, '##aring': 10832, '##Ḩ': 28631, 'Republican': 3215, 'Honduras': 14950, 'potassium': 21177, 'treasure': 11272, 'Facility': 19341, 'archaeologist': 21788, 'stops': 6260, '##tad': 18518, '60th': 22963, 'glanced': 3040, 'infection': 8974, 'ո': 522, '##GS': 13472, 'petty': 19701, 'Emilio': 20555, 'electorate': 15770, 'Omaha': 13072, 'ibn': 10452, 'acceleration': 18383, 'recalls': 19120, 'baked': 19983, 'WWE': 11729, 'Norwood': 25365, 'poverty': 5224, '13': 1492, '，': 1099, 'farm': 3922, '##ivers': 25105, 'ل': 588, 'referring': 7455, '##ი': 28603, 'Sharp': 13319, 'livestock': 12490, 'grief': 10283, 'Bingham': 27721, 'angle': 6341, 'freeze': 16020, 'Addison': 19864, 'discussions': 10508, 'André': 9343, 'half': 1544, 'king': 2226, '##ool': 21778, 'dismissal': 16373, 'whilst': 5994, 'Vin': 25354, 'Boston': 2859, 'turbine': 16181, 'overhaul': 20131, '##も': 28815, '##icking': 26786, 'whispering': 15181, 'Doris': 16434, 'Holstein': 20477, 'healer': 27773, 'supervision': 10955, 'Singles': 6950, '郎': 1075, 'promotes': 14710, 'executions': 26107, 'Baku': 17987, 'Sufi': 25062, 'trained': 3972, 'blog': 10679, 'Hundreds': 25793, 'Friedrich': 8523, 'Southampton': 11881, '##chaft': 19309, '38': 3383, 'hardness': 26902, 'bodyguard': 19227, '54': 4335, 'Trip': 18752, 'physicist': 14646, 'Bert': 15035, '89': 5840, 'manually': 23465, 'disaster': 7286, 'Х': 468, 'Derek': 6749, 'Ultra': 17781, 'Shrewsbury': 19561, 'investigated': 10788, 'Nate': 7848, 'equipped': 5440, '##mund': 13889, 'ş': 321, 'side': 1334, 'Vickers': 20067, 'wired': 26473, 'dissolved': 7944, 'monasteries': 18846, '##tana': 15634, 'influence': 2933, '##scription': 19256, 'Rivera': 14556, 'McCoy': 17061, 'flower': 7366, 'kindly': 21559, 'Plays': 23625, '##グ': 28834, 'football': 1709, '##out': 3554, 'Railways': 9058, 'Ghosts': 26598, '##ville': 2138, 'Albuquerque': 21037, 'Gilmore': 25624, 'prohibition': 19113, 'often': 1510, 'Jaenelle': 22755, '##cologist': 27427, 'champion': 3628, 'None': 7330, 'invading': 19185, 'Ottawa': 7711, '##گ': 28504, 'Missionary': 21343, 'Highways': 27204, 'Grandpa': 18103, '##rants': 18937, 'Fairfield': 20609, '##nist': 22158, 'audit': 23097, 'depending': 5763, 'Novel': 16912, 'featured': 2081, 'Training': 5513, 'nights': 6823, 'hurricane': 10610, 'Brass': 20982, 'picnic': 14823, '##odles': 27267, 'Jang': 27435, 'hunted': 15991, 'ambitions': 21681, 'ت': 568, '##forcing': 20586, 'exploding': 24172, 'Great': 2038, 'Product': 22249, 'version': 1683, 'violation': 11574, '##ও': 28543, '##tani': 17010, 'defines': 12028, 'avant': 18595, 'fracture': 22869, '##tower': 26915, '1983': 2278, 'Wong': 12021, '##uses': 14225, 'essential': 6818, 'Flow': 25549, 'Ethel': 20995, 'raised': 2120, 'admiration': 18368, '##ometer': 20182, '##¡': 28157, '##ana': 3906, '##nail': 26060, 'Meeting': 12505, 'Aquino': 27194, 'poisoned': 19666, 'insurance': 5986, 'limestone': 10718, 'spotlight': 24787, 'fans': 3899, 'kingdom': 6139, '##van': 5242, 'broken': 3088, 'Electricity': 23017, 'Nathaniel': 14453, 'el': 8468, 'blinked': 7478, 'problematic': 20405, '##uveau': 27377, 'Natasha': 18612, 'phones': 11947, 'Press': 2544, '##wati': 26986, '##pipe': 27871, 'lodged': 22422, 'bastards': 26711, 'corresponding': 7671, 'reservoirs': 26536, 'explores': 16001, 'Sisters': 9361, 'ё': 507, '##RI': 20595, 'charter': 7394, 'terrorist': 9640, 'tracks': 2390, 'Dane': 15312, '181': 20083, 'Published': 15807, 'dot': 15645, '[unused101]': 105, '##RA': 9664, 'wardrobe': 21468, 'Wilkinson': 17255, 'delivers': 19603, '##vity': 14499, 'pursuit': 9542, 'fluttered': 19812, '##linity': 25230, 'Dow': 26535, 'physics': 7094, '##gling': 10134, 'frost': 26109, 'richest': 20513, '##aws': 19194, 'Davey': 22618, 'Biology': 12055, 'thirst': 26190, 'É': 234, 'reputation': 5244, 'sequel': 8047, 'soul': 3960, 'Preservation': 18253, 'Been': 18511, 'Drivers': 23004, 'made': 1189, 'economies': 21553, 'rebuilding': 15921, 'Nominated': 15718, 'Wii': 17716, 'Bernardino': 23547, '##rya': 20845, 'porcelain': 21085, '##verty': 26462, 'Elections': 15875, 'wore': 4307, 'rogue': 21010, 'dependence': 20917, 'gate': 5400, 'chatting': 25132, 'shrugged': 5701, 'Church': 1722, 'Sainte': 18247, 'which': 1134, 'Russia': 2733, 'ninth': 6948, 'origins': 7564, 'Mighty': 17434, 'Brittany': 12875, 'integers': 27264, 'nasal': 21447, 'Mass': 8718, 'Medium': 19250, 'brightly': 14963, '97': 5311, '##پ': 28501, 'Pokémon': 22926, 'Referee': 5653, '##IE': 17444, 'sewing': 27535, '##nan': 6509, 'cities': 3038, '##rer': 14906, 'leaked': 16795, 'Hilary': 25296, 'coarse': 23137, 'denomination': 20493, 'devastated': 14778, '##cote': 21596, 'compared': 3402, 'ethanol': 27236, '##rama': 21571, 'manufactures': 26441, 'Otto': 7639, 'Gerry': 15636, 'pasture': 24495, 'wonder': 4608, '##12': 11964, 'autumn': 8929, '##uki': 17041, 'Wrong': 20337, '##ked': 7831, 'apparent': 6281, '##ă': 15287, 'Flying': 7769, 'Camille': 17756, '##亻': 28879, 'allows': 3643, 'Corbett': 27082, 'bear': 4965, 'Commanding': 18120, 'fiddle': 18997, 'Balkans': 21498, 'Along': 6364, 'prisons': 20070, 'Dr': 1987, 'aesthetics': 27456, '##dicative': 26289, '##ll': 2339, 'unused': 16217, 'showcased': 24980, 'choke': 18603, 'assured': 8642, 'FDA': 18762, 'usually': 1932, 'Arch': 19797, 'Fellow': 6229, 'today': 2052, '##ট': 28550, 'Judicial': 19078, '##naire': 24730, 'adult': 4457, '##Р': 28381, 'alternative': 4174, 'Maria': 3406, 'shout': 12941, '##house': 3255, 'biologist': 24742, 'Anne': 3967, 'highlight': 13426, 'natural': 2379, 'apologized': 19158, 'invasions': 27550, '192': 18868, '##rika': 21513, '##ria': 3464, 'weak': 4780, 'spit': 15277, 'Spanish': 2124, 'er': 14044, 'Conservatives': 15485, '##nus': 9299, 'Alvarez': 27352, '##dez': 15125, 'balloon': 15758, 'ready': 2407, 'shouldn': 5380, 'hail': 26943, 'section': 2237, 'grew': 2580, '##nya': 15449, '304': 26714, 'lit': 4941, 'loop': 7812, 'newspaper': 3054, 'registered': 4410, 'usage': 7991, '##cies': 9805, 'however': 1649, '##word': 12565, 'progressive': 8706, '##come': 19191, '##putation': 19675, 'abnormal': 22832, 'Ω': 413, 'sponsor': 10767, '##iciency': 23864, 'gained': 3388, 'Application': 22491, 'Kane': 8119, 'divorced': 8963, '##CD': 14107, '##ntary': 17103, '##digo': 22039, '##mini': 25685, 'Blacks': 21861, 'search': 3403, 'Auckland': 8279, 'accommodate': 8378, 'Β': 395, 'characters': 2650, 'Carter': 5007, 'v': 191, 'borough': 7833, 'Contact': 24367, '##ilia': 26502, 'marsh': 22295, 'Prize': 3449, 'Entry': 15214, 'pages': 5097, 'Shock': 18000, 'generals': 14729, '##science': 22274, 'modular': 24407, '##rots': 27460, '##ё': 28417, 'Trick': 27069, 'Marathi': 19963, '##ways': 8520, 'bullying': 21619, 'cried': 6104, 'lover': 7559, 'invaded': 10784, 'popular': 1927, 'administer': 23972, 'clips': 16973, 'Roses': 17303, '##unta': 19529, 'dwelling': 13835, 'devoted': 6970, 'napkin': 22783, 'ₕ': 828, 'Dhabi': 25840, 'hadn': 2018, 'experimental': 6700, 'managed': 2374, '##ken': 6378, 'Communists': 22004, 'tendencies': 23581, 'silence': 3747, 'stimulus': 21950, '23rd': 14411, 'Julie': 7129, 'dealing': 6705, '##ф': 28406, 'Politics': 11207, '##cap': 25265, '##ợ': 28660, '##ove': 18122, 'Place': 5033, 'refrain': 24296, '##iant': 13789, 'stopping': 7202, '##nks': 18683, 'conserved': 21996, 'halt': 9700, 'renew': 23421, 'Promoted': 15431, 'Newton': 8102, 'milestone': 24697, 'thence': 26972, 'divide': 13330, 'free': 1714, 'darkness': 4542, '√': 854, '##rrow': 8674, '##ium': 3656, 'energetic': 20069, 'Harlow': 25069, 'um': 15276, 'pledge': 20335, 'Jason': 3627, 'Kuala': 16343, '##ez': 6409, 'floods': 15501, 'caretaker': 20893, 'Hodge': 26201, 'biological': 7269, 'term': 1858, '85': 4859, 'designed': 2011, 'Winner': 7387, 'Painting': 18189, 'hastily': 17132, '##eper': 25136, 'regularly': 4857, 'SAS': 25828, 'regional': 2918, '##CH': 23258, '##rt': 3740, '##ũ': 28250, '##ian': 1811, 'ى': 593, 'née': 7658, 'Katherine': 9179, 'Wide': 15268, '##written': 16674, 'Armand': 22276, '[unused4]': 4, '##mble': 16465, 'щ': 500, 'software': 3594, 'Zambia': 16512, 'Celtics': 25931, 'Orient': 20032, 'Chevalier': 26353, '1660': 19306, 'interfering': 27666, 'executive': 3275, 'formal': 4698, 'yard': 3723, 'dreams': 6149, 'judgment': 9228, 'hideous': 25801, '##aven': 24134, 'depleted': 25403, '##rb': 26281, 'cape': 23546, 'Federico': 22434, 'Leigh': 11855, 'During': 1507, 'acceptance': 10030, '口': 997, 'beats': 11883, 'Evolution': 16781, 'mystical': 20600, 'Yorker': 20998, '##ient': 9080, 'Yahoo': 23535, 'imagine': 5403, 'drag': 8194, 'faith': 5228, 'jumper': 25563, '350': 8301, 'withdraw': 10570, 'Chinatown': 24812, 'reverse': 7936, 'Outside': 9572, '##ping': 2624, 'detachment': 15146, 'psychological': 9189, 'Forgotten': 26286, '##uba': 24672, 'Arab': 4699, '##ő': 28239, 'accusing': 18001, 'tease': 20826, '##ủ': 28662, 'cares': 16903, '##y': 1183, 'patterns': 6692, '##different': 27537, 'reads': 9568, 'consequences': 8421, '##mented': 24674, '##uil': 16966, 'harmful': 19403, 'Dirk': 19862, 'Read': 15152, 'chief': 2705, 'Hmm': 23031, 'sitcom': 13664, 'Cowboy': 21391, 'Cam': 14805, '##ival': 15895, '##新': 28924, 'Xi': 20802, 'Guys': 22000, '##fy': 13268, 'Organization': 6534, 'Stark': 13562, '##bat': 14602, 'Viva': 24949, 'unfamiliar': 17546, 'automotive': 17362, '##rida': 22977, 'defendant': 14259, '##ortex': 26211, 'killers': 21870, '##lide': 18498, 'Abd': 22358, 'Sport': 7331, 'boards': 8190, 'une': 25731, 'ʔ': 375, 'Annual': 8451, '##／': 28994, 'rainforest': 24369, 'denial': 16926, 'Eagles': 8507, 'reporter': 6672, 'Chemistry': 10847, '##ivist': 23936, 'restrained': 21775, '##ough': 18626, 'Demons': 25501, 'Kim': 4246, 'myself': 1991, '##due': 21405, '##chen': 10415, 'RIAA': 25269, 'god': 5540, 'controversial': 6241, 'asphalt': 19164, 'Escape': 17822, 'Word': 10683, '224': 21448, '##ᵥ': 28625, '##ে': 28570, '##ﬁ': 28987, 'Chloe': 9344, 'Sign': 20979, '##च': 28512, 'Secretary': 2909, 'rallied': 27429, 'GO': 27157, 'boat': 3499, 'ZIP': 26248, '##tu': 7926, 'Ambrose': 16579, 'overlooked': 18459, '##ն': 28431, 'database': 8539, 'Male': 10882, 'snatched': 14779, 'gripping': 15436, 'battlefield': 13777, '##jar': 15184, 'crossover': 18847, 'Akira': 23980, 'slash': 26632, '##FC': 12323, 'Scots': 12364, 'ambush': 17279, 'interfaces': 22739, 'Tori': 28017, 'cards': 4802, 'slept': 7362, '##Ю': 28391, 'Hodges': 21539, 'Belarusian': 16510, 'relied': 13892, 'Dunedin': 24377, 'Vatican': 12232, '##atus': 16582, 'Hurling': 16842, 'Nearby': 22006, 'cache': 21774, 'making': 1543, 'baggage': 23539, '##lage': 19640, '##izer': 17260, 'suppression': 18793, '1834': 10586, '##rmaid': 24744, 'Nights': 16303, '##ena': 7076, 'Harley': 14062, 'aloud': 13934, '##rup': 20910, 'switching': 12806, 'Veterans': 14027, '##EN': 11680, 'businessmen': 19150, 'freeing': 25439, '##א': 28445, 'Walden': 28020, 'Rhodes': 10575, 'huge': 3321, '1812': 9601, 'Mongols': 24640, 'supplies': 5508, 'Miller': 3902, 'trailers': 24760, 'Serbia': 6689, '##ske': 17726, 'quasi': 21711, 'magazines': 6959, 'infantry': 6404, 'Liz': 8719, 'emerge': 12982, '##OX': 24569, 'Bartlett': 21912, 'horn': 9621, 'separation': 8865, 'earnest': 21304, 'Soul': 7381, 'Steps': 27913, '##̍': 28312, '##♯': 28774, '##lug': 16693, 'decoration': 12824, 'landlord': 21406, 'Reaper': 23696, 'weed': 24195, 'hymns': 24014, '##ᵃ': 28612, 'Emily': 5590, 'predominantly': 8941, '##arm': 20350, 'Burn': 16915, 'bachelor': 8091, 'Sutherland': 14831, 'dated': 5422, 'bending': 16571, 'usual': 4400, 'Duff': 23719, 'm³': 14813, 'com': 3254, 'graphics': 9043, 'discarded': 16041, 'Shelley': 16738, 'î': 260, 'BCE': 10596, 'meanwhile': 17527, 'gaps': 18249, 'Guards': 9696, '##uf': 16205, 'closing': 5134, '##pted': 15514, 'Rs': 19003, 'differs': 13242, 'milling': 27814, '##BL': 13360, 'threatening': 8400, 'energies': 21963, 'Gamma': 23039, 'Commons': 7554, 'Play': 6060, 'soon': 1770, 'Finals': 9801, 'dangling': 20626, 'Wing': 5517, 'Colonial': 10319, 'MLA': 20222, '##rates': 14048, 'Hour': 12197, '##rno': 11791, 'ₒ': 826, 'playful': 20303, 'criminal': 4771, 'responding': 16322, 'prime': 5748, 'Winning': 24627, 'escaping': 13755, '##ression': 26779, 'internship': 27265, '##rks': 18416, '##ute': 6140, '##ndy': 22600, '##ffed': 9845, 'credit': 4755, 'became': 1245, '##lancing': 24855, 'effect': 2629, '##llister': 22790, 'Mumbai': 8601, 'replaced': 2125, 'Madison': 6501, 'Sale': 21862, 'entrances': 19914, 'Piano': 8802, 'Columbus': 8555, 'ankle': 10845, 'sack': 14204, 'ý': 275, 'sipped': 19055, '##ons': 4199, 'disappointing': 16703, 'Small': 6844, 'staring': 3846, 'Circuit': 7887, '61': 5391, 'modes': 11958, '##ġ': 28224, 'binary': 13480, 'noir': 25766, 'documentaries': 17221, '##।': 28538, 'Ferris': 26428, '##röm': 26370, '1770': 18980, 'pillows': 19607, 'Scientists': 26158, '##iba': 26648, 'bugs': 19048, '313': 25620, 'Ella': 11915, 'Track': 6563, 'temperate': 18606, 'cared': 8361, '##wich': 9242, 'vows': 18095, 'Harry': 3466, 'stretched': 6572, 'K': 148, '##skar': 24335, 'Lieutenant': 3897, 'brilliant': 8431, 'miners': 13418, 'Each': 2994, '##cott': 11627, 'distances': 12424, '##ayne': 24562, 'swollen': 13930, 'oriented': 7779, '##inator': 24682, '##ague': 26169, 'bond': 7069, 'removing': 9305, '##russ': 25357, 'couples': 5509, 'bolted': 19532, 'П': 462, 'radial': 17172, '##ental': 22692, 'nervously': 12938, '##ber': 3169, 'Deputies': 21588, '##Δ': 28318, 'accept': 4392, 'presumably': 11280, '##DE': 20427, '水': 1048, '##rie': 5997, 'sniper': 22209, 'Judge': 5274, 'Taste': 27589, '##¹': 28173, 'Russians': 12677, 'wondering': 6123, 'dread': 18410, 'gonna': 6100, 'sheer': 12027, 'Tina': 12106, 'Lexie': 27255, '##lda': 23253, 'Sage': 15204, 'aristocratic': 21809, 'Chamber': 7018, 'Plain': 13823, 'grossing': 19842, 'field': 1768, '##erry': 16463, '##TT': 20174, 'Benedict': 12334, 'आ': 606, 'arid': 19580, 'Stephens': 15752, 'Complex': 9974, 'tribe': 6128, 'Would': 5718, 'watch': 2824, 'revolutionary': 8953, 'SP': 16625, 'habits': 15640, '##aph': 25890, '##wolf': 25380, 'Eastern': 2882, 'five': 1421, 'retain': 8983, '26th': 15638, 'haunting': 24844, 'Belmont': 18672, 'everyday': 11236, '##runk': 26467, 'earlier': 2206, 'Logan': 5652, 'efforts': 3268, '##bb': 13834, 'Khorasan': 25961, 'Audio': 14065, 'fitness': 12691, 'feet': 1623, 'Achievement': 10295, 'Honor': 7337, 'slides': 15766, '##tock': 15960, 'floral': 22504, '##rok': 24830, 'pinch': 21466, '##ices': 18117, 'under': 1223, 'many': 1242, 'ψ': 441, 'Dick': 6416, '##xham': 23384, 'bucks': 26429, 'T': 157, '##tions': 6126, 'sunny': 21162, '##ogo': 26205, 'wins': 4646, 'AMC': 24810, 'Chess': 11503, 'dubious': 26287, 'decree': 11903, 'IDF': 27140, '[unused31]': 31, '##vers': 10704, '##board': 4015, 'hostility': 19981, '##utes': 20311, 'Rankings': 22732, 'helm': 22778, '##tte': 3786, '##wana': 22839, '##occo': 26108, 'walk': 2647, 'lots': 7424, 'connected': 3387, 'longed': 26127, '##dication': 13923, '##utt': 25131, '##rina': 9324, 'wives': 11798, 'Greenville': 23035, 'sample': 6876, 'fix': 8239, '##ynamite': 24027, '1965': 2679, 'glacier': 19121, 'clinic': 12257, '##nese': 13309, '[unused1]': 1, 'propulsion': 21184, 'formerly': 3147, 'robust': 17351, '##dden': 19221, '##iliated': 21896, 'worshipped': 25610, '1758': 17922, 'boroughs': 27126, 'Loss': 22008, 'Salvador': 10479, 'exercised': 19065, '##fiction': 26778, '##tat': 19756, 'substituted': 18667, 'Apparently': 10115, 'portal': 10823, '##how': 17193, 'Lawn': 26189, '[unused73]': 73, 'medieval': 5908, '2012': 1368, 'Orioles': 20821, 'Fringe': 23863, '##raga': 24036, 'Sultanate': 26607, '金': 1079, 'Garrison': 17232, 'seemingly': 9321, 'Fusion': 27573, 'trustees': 14052, '##ов': 24625, 'Wish': 18861, 'retained': 5366, '##zled': 21524, 'ţ': 325, '̯': 392, 'someday': 18361, '##mberg': 23701, '48': 3615, 'scattering': 19665, 'certification': 12146, 'sells': 16695, '##munication': 22229, '##ān': 20208, 'Eisenhower': 17616, 'Hugh': 6016, 'heaven': 9775, 'Qur': 25977, 'blocking': 11016, '##∧': 28750, 'Masonic': 25080, '##cus': 6697, 'faces': 4876, 'ponds': 20054, 'loneliness': 24921, 'injunction': 25905, 'Operation': 5158, 'Pen': 23544, 'heirs': 17461, 'congress': 16821, '##au': 3984, 'Munich': 6947, 'Roosevelt': 8189, 'investigators': 17718, 'grain': 9478, 'Regiment': 3391, 'unlock': 22436, 'starvation': 26389, 'possessing': 21171, '##TS': 11365, 'boxers': 21353, 'pairs': 7608, 'Milton': 9398, 'Tibetan': 12046, 'indirect': 16673, 'successor': 5714, 'punches': 19739, 'patrons': 14645, 'odor': 21430, 'サ': 943, 'ї': 509, 'Jed': 27680, 'Kendra': 14328, '##yoshi': 18724, 'Shire': 16108, '##xia': 19767, '4': 125, 'Editor': 9057, 'obsession': 21243, 'forgive': 10737, 'completion': 6026, 'concurrent': 19522, 'manager': 2618, '##lsson': 22481, 'Shu': 23274, 'FAA': 18496, 'Meiji': 25897, 'façade': 18578, 'Draw': 22877, '##VS': 27127, 'proposes': 18381, 'Paisley': 27771, 'organized': 3366, '##ens': 5026, 'horizontally': 26126, 'history': 1607, 'dividing': 18699, 'dinosaurs': 23570, 'mater': 23662, 'gazes': 26469, 'Tavi': 27342, 'reviewer': 12827, 'garlic': 24861, '##miya': 25553, 'dressing': 11597, 'latitude': 18579, 'photos': 7630, 'as': 1112, 'Model': 6747, 'delighted': 17261, 'seventeenth': 18032, 'Lizzie': 16817, 'Inland': 26336, '##マ': 28856, '##vey': 13312, 'ashamed': 16155, 'barrage': 24125, 'discussed': 6352, 'Neither': 8853, 'saloon': 22905, 'Crusaders': 24174, '##lava': 24330, 'Underwood': 25402, 'ʀ': 365, 'shares': 6117, '##sight': 18883, '##came': 22865, 'Jing': 25837, 'alleged': 6351, 'Ł': 305, 'comparison': 7577, 'deliberately': 9938, 'reef': 18939, '##erries': 22707, 'negotiations': 7624, 'alike': 11609, '##recht': 20690, '##ease': 23860, 'Islands': 3503, 'suffering': 5601, '##unate': 27858, '##水': 28941, '##‑': 28682, 'Istanbul': 10585, 'implies': 12942, 'Theo': 15840, 'hum': 21820, '##sco': 11428, 'voting': 6612, '##ggle': 25186, '##ction': 5796, 'Obviously': 15580, 'Staten': 27188, '##RE': 16941, '##lown': 23054, 'cakes': 27748, 'messenger': 17957, 'baking': 26377, 'kick': 5642, 'poems': 6329, 'Ask': 18149, '##tropical': 27144, 'expense': 11013, '##definite': 28090, 'suburban': 10786, 'hatch': 15524, '##olar': 21459, 'wait': 3074, 'sensible': 25152, 'Liberty': 8146, 'Busch': 16773, '##ŭ': 28251, 'Lin': 12221, '##oki': 21420, '##gly': 18901, 'Jericho': 18545, 'scientific': 3812, 'sailor': 16389, 'Cullen': 21696, 'Christophe': 26921, '##ses': 8830, '##erial': 19860, '##roi': 21418, 'Criminal': 10382, 'humanitarian': 13879, '##oters': 21670, 'Galway': 14943, 'pyramid': 15931, 'absorb': 18055, 'mouse': 10322, 'statistics': 9161, 'CFL': 20457, 'Mabel': 21264, 'ū': 328, 'consort': 19518, 'le': 5837, 'Abby': 9234, 'skeletal': 23400, '##ssin': 21543, 'mostly': 2426, 'intention': 6247, '##ova': 8625, 'Italian': 2169, '##mán': 24092, '##hino': 21918, 'Amazing': 16035, 'fill': 5475, 'Fi': 17355, 'consensus': 10923, 'bricks': 15453, 'USC': 16403, '##chenko': 18599, 'regard': 7328, 'vaulted': 27958, 'Bells': 24203, 'Doing': 27691, 'forum': 13912, 'photographed': 17411, 'perpendicular': 24267, 'anticipation': 11468, 'Roy': 5396, '##rive': 17389, '##IX': 19678, 'parts': 2192, 'boiler': 17587, 'Away': 9252, 'fingertips': 12441, 'affairs': 5707, 'textbook': 18977, '##lana': 20592, '##cci': 19557, 'tale': 8144, 'installations': 15111, 'Lydia': 14639, 'Select': 18193, 'four': 1300, '##lus': 5954, 'Fernández': 16918, '##ruff': 17669, 'insistence': 22669, 'Private': 7219, '##ein': 20309, 'Tour': 3124, 'dancers': 11314, 'earn': 7379, 'Pleasant': 16836, 'Jin': 10922, '##中': 28873, '\\\\': 165, '##rivatization': 26815, 'park': 2493, 'Oslo': 9773, '##abe': 22377, 'Yan': 14932, 'filly': 27090, 'removed': 2856, 'PDF': 12955, 'Vicky': 25452, 'Choice': 10373, '##ა': 28601, '##pper': 11292, '1818': 12191, 'Caracas': 23947, 'Tonight': 8912, 'bomber': 11895, 'Harvey': 7206, '##zda': 26604, 'points': 1827, 'insights': 24180, 'producers': 6419, 'consortium': 17619, 'perform': 3870, '##ata': 6575, 'licenses': 17488, 'warriors': 9171, 'participated': 3360, '##nge': 12377, 'Thirteen': 20404, 'unrest': 18366, 'leaders': 3478, 'Mina': 22787, '##moor': 19216, 'Allied': 7194, '##ules': 11806, '##κ': 28347, '##iful': 17126, 'privacy': 9909, 'Sculpture': 19477, 'stamp': 13182, 'article': 3342, '1922': 3988, '##hora': 16426, 'comfortable': 6062, 'Betsy': 24903, 'attain': 20386, 'flaming': 27928, 'camps': 7869, 'Messiah': 27664, 'Rutgers': 20244, 'symmetry': 16558, 'talented': 11249, 'theatrical': 9033, 'passenger': 4059, '1951': 3280, 'visual': 5173, 'wholly': 12907, 'sponsors': 13942, 'Waterloo': 14233, 'fulfill': 14414, 'booking': 26059, 'Gala': 26376, 'Underground': 11643, 'establishes': 23497, 'Fairchild': 27345, 'grossed': 18758, '##combe': 14231, 'Thomas': 1819, 'requiring': 8753, 'lateral': 11937, '##İ': 28229, 'landslide': 23018, 'ח': 542, 'requirements': 5420, 'retains': 15208, 'grabs': 13707, 'Rourke': 27446, 'brutal': 12800, 'DD': 23232, 'João': 18139, 'presided': 16448, '##Ə': 28262, '1995': 1876, 'Marianne': 21659, 'circus': 16134, 'paradise': 23876, 'Committee': 2341, '1740': 24028, 'well': 1218, 'ہ': 602, 'Pyramid': 26910, '##ptera': 26523, 'Macy': 22957, '##hos': 15342, '##sume': 22369, 'palace': 5717, 'Asylum': 24492, 'affair': 7033, 'rise': 3606, '##rsten': 20628, 'urge': 8869, 'श': 624, 'heavily': 3777, 'conclusion': 6593, '1768': 21560, '1914': 3710, '##tur': 20362, 'Chan': 10185, 'enemies': 6380, '##rab': 17952, 'ե': 516, 'loyalty': 10075, 'never': 1309, '##⇒': 28743, 'Food': 6702, 'Marta': 22930, 'moves': 5279, '##coming': 9331, 'blending': 27104, 'believing': 9313, 'vertices': 20803, 'priest': 4924, '##ela': 9945, 'Agents': 28052, 'weapons': 3595, 'possessive': 25254, 'curtains': 15800, 'offshore': 13885, 'tons': 5606, 'bakery': 23986, 'Conquest': 24885, '##lants': 23288, 'context': 5618, 'greet': 18884, 'Romantic': 20359, '##ji': 3454, '##ǐ': 28267, 'expected': 2637, '##stable': 23276, 'dialed': 23597, 'Ü': 243, '##rum': 5697, '##imator': 23021, '##shaw': 17630, 'Maj': 18285, 'lightweight': 14939, '##shirt': 22883, 'ACT': 21111, 'Monte': 10046, 'Younger': 17370, 'Michel': 8372, '##ulse': 20996, 'compliment': 21215, 'suggesting': 8783, 'chairman': 3931, 'crowned': 10290, 'police': 2021, 'Bush': 6096, 'journalist': 4391, 'º': 220, 'passive': 14403, 'economical': 24977, 'runways': 28123, '##ensis': 11085, 'ま': 918, 'Another': 2543, '##hart': 11429, 'strikeouts': 23318, 'Storm': 7007, '##ef': 11470, 'Budapest': 10895, '##titis': 27659, '1905': 4761, 'Yang': 8772, 'dynamic': 9652, '##22': 20581, '1700': 17647, 'central': 2129, 'explanation': 7108, 'efficient': 7856, '##ª': 28164, 'Broad': 16943, 'Driver': 15787, '##rit': 7729, 'All': 1398, 'mountains': 5000, '##lover': 22894, '##powered': 18186, 'baptism': 24111, '##UT': 16830, 'Boer': 21929, 'Psychological': 24797, 'discussing': 10751, '##ups': 17210, 'fatal': 11874, 'flesh': 5352, 'commit': 10836, '##here': 12807, '##w': 2246, 'dance': 2842, '##ah': 3354, '##ush': 13148, '##ions': 5266, '##wain': 13644, 'analyst': 14582, 'resembling': 16562, '##−': 25532, 'Hess': 26349, 'diocesan': 26937, 'stunned': 10119, '##fa': 8057, 'applied': 3666, 'Digest': 27348, 'Hell': 5479, 'owner': 3172, 'pleasant': 10287, '335': 27461, '##pruce': 21641, 'onset': 15415, 'admitting': 19931, 'optimal': 17307, 'claims': 3711, 'Symposium': 26520, 'divine': 10455, 'handle': 4282, 'runners': 8541, 'Conway': 15452, 'last': 1314, 'Evelyn': 13110, 'jets': 20397, 'slate': 15989, 'poisoning': 17539, 'ב': 536, 'contractors': 19874, '##lak': 28001, '##vić': 10225, '##as': 2225, 'pending': 15498, '##ick': 5345, 'gives': 3114, '##rrey': 25676, '##ि': 28532, 'Tree': 8659, '##árez': 21823, 'permit': 9154, 'importance': 4495, '##ferred': 26025, 'ascending': 26457, 'orchards': 27034, 'narrator': 12790, 'anarchist': 23301, '##ists': 3681, 'satin': 24229, 'Mint': 21192, '##tore': 24612, 'News': 3128, 'London': 1498, 'Chang': 11497, '≠': 861, '##loom': 13853, 'Leadership': 11873, 'Families': 21860, '##organisation': 28037, 'Mustafa': 21638, 'lavish': 25871, 'employment': 6233, 'Benito': 26397, 'க': 671, '##wami': 27687, '##iance': 19425, '##than': 22252, 'Produced': 13662, 'numerical': 18294, 'marketplace': 24210, '##yal': 18543, 'So': 1573, 'claws': 11222, 'lyrical': 18799, 'daring': 17402, 'waters': 5635, '##ó': 7774, 'Venetian': 16574, 'DL': 26624, '##ini': 4729, 'Ronan': 20320, 'shrub': 16965, 'nausea': 22882, '##AD': 14569, 'Sep': 23181, 'warship': 26957, 'brothers': 3330, '##roved': 16011, 'Female': 9714, 'hourly': 24308, 'authenticity': 24738, 'aspiring': 25850, 'Cooke': 17601, 'shifting': 9914, 'Д': 452, 'marks': 6216, 'streams': 9136, 'prophecy': 19214, 'educational': 4339, 'Mai': 17551, 'Bacon': 17887, 'Charlton': 19155, 'HK': 25660, 'bouts': 27996, '##alis': 14200, '##hak': 21893, '##lau': 15554, '##ine': 2042, 'Chicago': 2290, '##body': 14637, 'Reformed': 15212, 'plotting': 23214, '101': 7393, 'swiped': 27581, 'reliability': 17104, '##NI': 27451, 'enzyme': 8744, 'rage': 8045, 'Straight': 18296, 'Voices': 14725, '##hra': 20955, 'priorities': 21249, 'ⁿ': 810, '1952': 3130, 'Zheng': 23673, '##qa': 24750, 'themed': 12005, 'College': 1531, 'tract': 14441, 'XII': 15434, 'coincide': 21439, 'Lone': 19511, 'agree': 5340, 'fifth': 3049, 'tackles': 10379, 'OK': 10899, '光': 990, 'sexually': 13014, 'Glen': 8820, '##ges': 7562, 'ण': 611, 'imprint': 17322, 'onward': 17765, 'Uzbekistan': 18245, '##liance': 20541, '##ray': 6447, 'engraved': 17788, '##lter': 18041, 'Della': 14435, 'rink': 23444, 'boulders': 25467, 'knowing': 3650, 'kills': 8567, '1850s': 17513, 'Ernest': 8075, 'pupils': 7035, 'logistics': 18398, 'solving': 15097, 'consul': 17004, 'Alfa': 27099, 'Titan': 18696, 'offering': 4733, '##vio': 17417, 'tighter': 12567, 'algorithm': 9932, 'Wharton': 27256, 'depended': 18520, 'By': 1650, '##yes': 25014, 'Javier': 14280, 'jazz': 4888, '##eorological': 22272, '##ité': 27751, 'basic': 3501, 'Jesuit': 14335, 'Dorian': 17130, 'Burgess': 19683, 'Bachelor': 6143, 'screaming': 7406, 'identities': 17409, 'roster': 9197, 'Science': 2444, '##cio': 8174, 'hymn': 19978, 'emails': 24853, '##sitic': 27702, '##ᴬ': 28609, 'certainly': 4664, 'soup': 13128, 'EC': 16028, '##gles': 15657, 'Rural': 4985, 'Dev': 18433, 'parental': 22467, 'Canadiens': 23454, '1909': 4818, '##shi': 5933, '##bull': 17719, 'ambitious': 12914, 'Celia': 19629, '##bish': 26652, 'commercial': 2595, 'curving': 24016, '##dh': 17868, 'simulated': 27210, '##ductor': 25836, '##ndas': 27417, '##tarian': 24279, 'nonsense': 17466, 'observation': 8310, '##eson': 20071, '1880': 6148, 'sage': 26518, 'GM': 14748, '##plex': 21790, 'Mandy': 19599, 'appeared': 1691, 'Rush': 10357, 'trimmed': 24509, '##cis': 21349, 'cruiser': 12680, '##£': 28159, '##ograph': 17965, 'Lebanon': 7940, '##車': 28965, 'PGA': 14743, '##ldred': 28040, 'Actor': 7617, '258': 27434, 'concern': 4517, 'big': 1992, '##tley': 18932, 'Herbert': 6717, 'stance': 11105, 'Borough': 7819, '##ス': 28839, 'ending': 3830, 'Lodge': 9262, 'Jocelyn': 26653, 'scenarios': 18414, 'Willie': 9676, 'ь': 503, 'society': 2808, 'Jeanne': 15157, '##hp': 16194, 'Levy': 16809, 'Writing': 8687, 'portray': 18483, '##onium': 23772, 'mock': 14660, '##achi': 19226, '##lift': 12215, 'giant': 4994, 'realization': 13192, 'containing': 4051, 'Louisiana': 5060, 'closet': 9369, 'sadly': 17156, 'carbon': 6302, 'Mode': 18390, 'Saharan': 27902, 'release': 1836, '##opping': 20553, '##éra': 25570, '##lase': 26572, 'inventor': 12989, '##cacia': 27576, '##inge': 27048, '##38': 23249, 'prescribed': 17421, 'climbs': 20782, 'Regular': 14381, 'judiciary': 25348, 'Venezuela': 7917, 'differentiation': 23510, 'ì': 258, 'Tax': 13429, 'opposed': 4151, '##tosis': 26156, 'Listed': 22109, 'Country': 3898, 'Rise': 13600, 'horse': 3241, 'zero': 6756, 'warrant': 13178, 'panic': 7011, 'plate': 4885, 'Pamela': 18477, 'Beverly': 12352, 'prefix': 19586, 'Response': 24187, 'reassure': 27879, '##hul': 24287, '##fulness': 21047, 'Devil': 8201, 'Milwaukee': 8850, 'rejoined': 14944, '164': 19290, 'Just': 2066, '##ciating': 26346, '##hetic': 18994, 'confessed': 14900, 'Episcopal': 10590, 'coffee': 3538, 'Market': 6923, 'jail': 7237, '1773': 21676, '33rd': 22906, '##writer': 13814, 'typhoon': 27350, '##ás': 10014, 'emotionally': 15962, 'trees': 2863, 'Theatre': 2872, 'supposedly': 11178, 'policy': 2818, 'ক': 641, 'sucks': 22797, 'Certified': 25777, 'Cairns': 26314, 'Α': 394, 'ö': 268, 'teachers': 4952, '##dell': 12065, '##ships': 18373, '##bles': 8350, 'den': 10552, 'Prairie': 13891, '##meyer': 25177, 'gates': 8257, 'recorded': 1802, 'differential': 12630, 'beating': 5405, '##SA': 8055, '##XT': 23206, '1978': 2406, 'petroleum': 17697, '##pulsion': 20057, 'graphs': 21562, 'elongated': 19564, 'Administrator': 19483, 'Parsons': 13883, 'Juan': 4593, '##weet': 24887, 'keyboardist': 23075, 'Anger': 22155, 'Nickelodeon': 23025, 'understanding': 4287, '##tech': 22218, 'meetings': 5845, 'Catherine': 6017, 'admits': 15077, 'suspiciously': 23837, 'Constitutional': 12339, '##utter': 18553, '##ade': 6397, '##chor': 22811, 'allocation': 18205, 'UNESCO': 12588, 'endowed': 22868, 'Shrine': 20703, 'Atkins': 23196, 'Simone': 14591, 'cradled': 26830, 'graveyard': 20701, 'Fruit': 22490, 'focus': 2817, 'tea': 5679, 'attribute': 19795, 'P': 153, 'compression': 14928, 'XVI': 18406, 'blinking': 18617, '##mbre': 20347, 'detector': 21819, '##ography': 9543, 'nap': 22956, 'television': 1778, 'fundamental': 8148, 'everybody': 10565, '##neck': 19517, 'conducted': 3303, '##aki': 8552, 'bruises': 20514, 'spirituality': 27491, '##rack': 21580, 'resurrected': 26529, 'precedence': 26923, 'movement': 2230, 'ventilation': 22297, 'military': 1764, '##ob': 12809, 'inclusive': 21783, '##hop': 23414, 'Frankfurt': 9529, 'comeback': 14019, 'broad': 4728, '##ages': 12062, 'geologic': 25542, 'im': 13280, 'salvation': 19718, 'Bach': 10420, '##ired': 24599, 'Shipping': 22198, 'disconnected': 27425, 'Can': 2825, 'owing': 13412, 'paperback': 16885, 'Λ': 403, 'instances': 12409, 'average': 1903, 'Anyway': 10756, 'sudden': 4962, '##planes': 24983, 'games': 1638, 'belonging': 7078, 'Competition': 8579, 'calculating': 23172, 'convictions': 22978, '##buster': 27338, 'heightened': 23442, 'Pak': 26850, 'building': 1459, 'lately': 10634, 'isolation': 13345, 'Herr': 26497, 'Gulf': 5634, 'compositions': 9116, '##cribed': 13098, '##lick': 13299, 'till': 6174, 'Duffy': 19352, 'provincial': 5586, '##ast': 12788, 'bombings': 22419, 'Cebu': 26266, 'έ': 415, 'accepts': 13749, 'happens': 5940, 'weakly': 19057, 'Veracruz': 26570, 'live': 1686, '##ồ': 28655, '##・': 28867, 'wishes': 8921, 'Comic': 14536, 'shorter': 7681, 'shutting': 19702, 'prominent': 3289, '##auer': 27273, '##me': 3263, '##ь': 28414, '##zia': 12432, 'tempted': 17749, 'Markus': 26085, '##fish': 6529, 'Sims': 20402, '##don': 3842, 'technologies': 7951, '##away': 7138, 'executives': 14011, 'privileges': 15676, 'Sheila': 15829, 'brigades': 20234, '##sio': 23652, 'intimate': 10666, '##iq': 28101, 'overturned': 18252, 'bonus': 6992, 'storing': 27580, '1689': 25221, '##¬': 28166, '##pi': 8508, 'contemporaries': 18544, 'WHO': 23750, 'manifest': 23487, 'commodity': 23883, '3': 124, 'Myers': 14311, 'sparkling': 18439, 'anytime': 20166, 'minorities': 16130, 'narrowing': 25277, 'Roxy': 26507, 'teeth': 3307, 'depicted': 7801, 'raids': 11426, 'barrier': 9391, 'disguise': 15699, 'peculiar': 15404, 'alumnus': 24761, 'conceded': 16806, 'rows': 10389, 'may': 1336, 'sediment': 22122, 'injuring': 25359, 'is': 1110, 'Bring': 15646, 'Sabrina': 24250, '##hetical': 27861, 'drop': 3968, '##vue': 19038, 'screen': 3251, 'unhappy': 13143, '##rus': 6208, 'tactics': 10524, 'divisional': 22724, 'explorers': 26026, 'substantial': 6432, 'severe': 5199, 'recommended': 6315, 'equation': 8381, 'extension': 4973, 'preached': 23919, '##uddin': 22717, 'butterfly': 11057, 'Johnny': 4414, 'Miracle': 16904, 'fellows': 27465, 'Jury': 15169, 'Orion': 20634, '##ズ': 28840, 'chronicles': 22329, 'choked': 12663, 'say': 1474, '##rooms': 19050, 'muttering': 27619, 'Anatolia': 26575, 'Films': 9141, 'Mainz': 21657, '##„': 28693, 'tailored': 24423, 'Cuba': 6881, 'Maurice': 7523, 'Physics': 8937, 'virtue': 13456, 'Gemma': 20916, 'process': 1965, 'Clary': 13483, 'Racing': 6770, 'densely': 21265, 'educated': 4512, 'Estate': 9765, 'Messenger': 22658, 'hit': 1855, 'elegant': 12002, '##⁺': 13061, '##linear': 24984, 'Nightingale': 26007, 'Rodgers': 16532, 'imply': 21276, 'Georgetown': 13206, 'Moments': 22718, 'grunted': 15637, 'Baird': 22903, 'Sonic': 16202, 'accelerate': 26872, 'noticeable': 19178, 'volumes': 6357, 'miles': 1829, 'lightly': 7863, 'pleaded': 12404, 'て': 911, '1747': 27614, 'Qin': 22495, 'savage': 20745, '##mark': 8519, 'reactive': 26844, 'Syracuse': 11775, 'interact': 12254, 'Ancient': 7622, '##ti': 3121, 'worth': 3869, 'Ph': 7642, 'Factor': 15926, '##S': 1708, '##dai': 14117, 'frightening': 18523, 'invested': 11285, 'situations': 7832, 'wildlife': 10501, 'Vaughn': 19633, 'Worcestershire': 22067, 'Rosenberg': 23171, 'আ': 637, '##ones': 18764, 'Athens': 7055, 'room': 1395, 'Birch': 25295, 'entirety': 16635, 'minority': 7309, 'Scotia': 9418, 'Franco': 9063, 'Wonder': 10991, 'insisted': 6744, '##ent': 3452, '##ward': 5984, 'Wars': 6238, '##zor': 24959, 'adaptive': 25031, '##И': 28374, '[unused87]': 87, 'looked': 1350, 'Champions': 4748, 'ọ': 751, 'Wembley': 17593, 'Geneva': 9571, 'fallen': 4984, 'ᵍ': 713, 'harshly': 23236, 'Ion': 19447, 'Bridge': 3640, 'manner': 4758, 'Softball': 26719, 'Flames': 19002, 'devotees': 27145, 'Brewster': 25673, 'ask': 2367, 'Morley': 22619, 'pistol': 8951, 'wall': 2095, 'bedroom': 4255, 'gain': 4361, '65': 2625, '##ann': 11657, 'Disaster': 23873, '##red': 4359, 'Foreign': 4201, 'Emerald': 24464, '##anus': 20387, 'Mikhail': 11329, '##regard': 23429, '##！': 28989, 'Hernandez': 23819, '##vary': 24022, 'antique': 17186, '{': 196, 'cultures': 8708, 'satisfied': 8723, 'lighthouse': 13416, '##flow': 12712, '##yte': 14300, '##plate': 16671, 'reminding': 17235, 'terminated': 12830, 'binds': 23126, '##ator': 6579, 'brushes': 25511, 'continues': 3430, 'relieve': 16775, 'Hugo': 9110, 'Se': 22087, '##7th': 24151, 'ủ': 760, 'Slave': 23425, 'clocks': 24998, 'customers': 5793, '##dice': 19237, '##aid': 19954, 'Move': 15729, 'Stern': 15010, 'curse': 9188, 'gray': 5021, 'AD': 5844, 'suburb': 7144, '##delity': 18860, '##ism': 1863, '##pect': 26426, 'genome': 15519, 'moderately': 19455, 'foul': 13209, 'status': 2781, 'Handball': 25283, 'precise': 10515, 'overall': 2905, 'read': 2373, '##itating': 20563, 'password': 25241, '##mined': 15842, '##tter': 8634, 'cringed': 26881, 'Jude': 12776, 'superiors': 26917, 'Graduate': 11045, 'inflammatory': 22653, '##eh': 10486, '##ガ': 28831, 'remotely': 21699, '##graphers': 26940, 'finishing': 4416, '300': 3127, 'drama': 3362, 'μ': 429, 'paragraph': 24950, '##eto': 20713, 'ম': 655, '##LD': 20521, 'violated': 15079, 'referee': 11601, 'regiments': 11988, 'Editing': 25960, 'choreographer': 20999, 'blocked': 8192, '##ィ': 28825, '##drick': 21847, '##戸': 28922, 'Studies': 3829, 'Iceland': 10271, '##pool': 13764, 'maybe': 2654, 'Partners': 12532, 'injustice': 26991, 'backseat': 22375, '##vous': 11944, 'poles': 16739, 'ذ': 574, 'tangled': 15736, 'Presidency': 18037, '##天': 28903, 'Minister': 2110, 'thy': 21153, 'measured': 7140, 'ate': 8756, 'midnight': 9191, 'objected': 16894, 'whore': 20239, 'ratio': 6022, 'Ron': 6413, 'shields': 18254, '##ait': 21263, 'littered': 28006, 'École': 15687, 'past': 1763, 'acoustic': 6659, 'valleys': 13900, 'Jain': 18489, 'tried': 1793, '##ོ': 28600, 'rarely': 6034, 'Straits': 24884, 'Liv': 26997, 'discrete': 18535, 'rapidly': 5223, 'Maharaja': 24659, 'planned': 2919, '##Ds': 26436, 'detectives': 23641, 'leopard': 27865, 'traditions': 7181, '305': 22289, 'CO₂': 22140, 'designing': 13795, 'ICC': 17502, 'alignment': 12793, 'newest': 15649, 'Beside': 21637, 'harvesting': 25039, 'code': 3463, 'Lockheed': 18904, 'Gothic': 8328, 'Kahn': 21145, 'grandchildren': 14139, 'Cleopatra': 24432, '##pies': 15108, 'Coastal': 16342, 'bandage': 27856, 'Hear': 22038, 'presenting': 11124, 'Room': 7043, 'Exposition': 18620, 'McKay': 17453, 'premium': 16865, 'mausoleum': 27685, '9': 130, 'comparatively': 22673, 'Identity': 22855, '##tadt': 14193, '##uk': 7563, 'Everett': 15896, 'pilgrimage': 17385, 'Bari': 25788, 'validity': 17782, '##nington': 24288, 'woven': 19187, 'celebrates': 24408, '##dant': 26977, '1990s': 3281, 'tumors': 24309, 'wingspan': 11564, 'Edna': 23273, 'mint': 22532, 'objection': 26017, 'Strasbourg': 19467, 'functioning': 12641, 'reviewed': 7815, '##iling': 10689, '##lies': 7875, '##foot': 10744, 'Wonderland': 23368, '##tius': 18392, 'screams': 12264, 'flatly': 27337, 'Weeks': 23519, 'Research': 2713, 'ash': 11699, '##子': 28907, '##ng': 2118, 'erotic': 16263, '##;': 28141, '##『': 28784, 'leaking': 27742, 'Parish': 6648, 'stores': 4822, 'turns': 3587, 'districts': 4210, 'values': 4718, 'technological': 12675, 'Records': 2151, 'utilities': 22606, 'reading': 3455, 'languages': 3483, '##}': 28155, 'complete': 2335, 'neat': 17537, 'Calais': 25804, 'Central': 1970, 'receiving': 4172, '##ech': 11252, 'heaved': 21766, '##mot': 21277, 'Expo': 18947, '##diation': 25971, '##ج': 28479, 'swallow': 11692, 'resistance': 4789, 'hanging': 5205, 'Reference': 19714, 'Ángel': 25257, '41': 3746, '##cturnal': 26629, '##eau': 8221, '##HC': 15779, 'Ma': 7085, '##hetto': 17643, '##boa': 22126, '事': 981, 'tenor': 9969, 'Exploration': 27734, 'decided': 1879, 'Always': 10672, 'Orange': 6309, '##able': 1895, 'strengths': 23347, 'swaying': 24578, 'communes': 18183, '169': 20065, 'motorcycles': 21552, 'vowels': 16506, 'workers': 3239, 'novelist': 10050, '##ahn': 25963, 'thrown': 6358, 'Trey': 15558, 'sympathy': 12775, 'best': 1436, 'recipe': 20538, 'struggling': 7851, 'tensed': 16027, 'Promotion': 19697, 'visibly': 21408, '##ami': 11787, 'ignore': 8429, '1100': 24450, 'convenience': 16670, '1754': 25109, 'Shine': 22931, 'sometimes': 2121, 'Strand': 21939, '##lge': 21463, 'rowing': 18656, 'succession': 8705, 'Polytechnic': 16258, 'hides': 18915, '##umatic': 25930, '##ractical': 18890, 'gum': 19956, 'drops': 8949, 'jar': 19609, 'NFL': 4279, 'determination': 9220, '##trom': 24655, '##K': 2428, 'pepper': 18700, '106': 9920, 'sits': 7250, 'ward': 7910, '##ha': 2328, 'residual': 25399, 'eki': 26540, 'ṭ': 737, 'liter': 27146, '2009': 1371, '##ias': 7346, 'teasing': 12516, 'hangs': 19565, 'softened': 17650, '##レ': 28864, 'Clara': 10200, 'Nicolas': 10418, 'fortunes': 20733, 'Floor': 22774, 'lifetime': 7218, 'gift': 5309, 'speaker': 7349, 'Set': 9617, 'ả': 739, '##rol': 13166, '##ð': 28204, 'million': 1550, 'ī': 299, 'clans': 18807, 'Sgt': 18660, 'Center': 1945, 'viewing': 10761, 'Weekly': 8922, '##囗': 28896, 'tooth': 14051, 'percentage': 6556, '##lled': 11572, 'piss': 20693, 'Haitian': 23595, '##ector': 20302, 'Welles': 26146, '##data': 27922, 'breathed': 8399, 'g': 176, 'cooked': 13446, 'moths': 16297, 'wider': 6815, 'survivor': 17544, 'substitute': 7359, 'priesthood': 20343, 'Off': 8060, 'generations': 8225, 'footsteps': 10139, 'Dodge': 14205, 'presents': 8218, 'glued': 25615, 'joins': 9649, 'vegetation': 10338, 'Ren': 16513, '⁵': 803, 'Caldwell': 17649, 'Spain': 2722, 'basin': 8434, 'Ride': 13643, 'flutter': 27471, 'inquired': 28110, 'Naval': 4715, 'beam': 7574, 'organ': 5677, 'hillside': 25068, 'Public': 2710, 'Brigadier': 12159, '##nbridge': 24416, '##mei': 27750, 'potentially': 9046, 'Jamaica': 8822, 'exams': 15747, 'Volkswagen': 20381, 'Powers': 12305, 'Watt': 20862, '147': 17491, 'uncertainty': 13265, '##pecific': 27934, '##ỳ': 28668, 'got': 1400, 'viewed': 6497, 'important': 1696, 'Minh': 21481, '##ger': 2895, '##haus': 13842, 'Lumpur': 19083, '##ᵒ': 28619, '##Ü': 28196, 'Andrea': 8326, 'alternatively': 25276, 'Duke': 3131, 'lonely': 12494, 'calcium': 15355, 'observing': 15639, 'annoying': 17090, 'averaging': 15883, 'Foley': 18412, 'Museums': 27070, '##ON': 11414, 'likes': 7407, 'Elisabeth': 13844, 'nautical': 11894, 'seater': 26675, 'crafted': 21165, '##mic': 7257, '##dos': 12847, 'Fiji': 11490, '－': 1100, 'reins': 21141, 'slammed': 7040, 'Olympic': 3557, 'first': 1148, 'Virgin': 6567, '##rella': 23482, '##town': 3305, 'ো': 668, 'December': 1382, 'Norway': 4323, 'Chi': 11318, 'emerging': 8999, 'Merry': 15871, '##phi': 27008, 'flour': 15068, 'true': 2276, 'Forrest': 17367, 'Inner': 13310, 'orange': 5925, 'administered': 8318, '##plied': 18148, '##imus': 26552, 'forests': 5775, 'Skyla': 24013, 'residue': 24456, 'Symphony': 6280, '##bara': 18228, '##rew': 11899, 'soda': 18402, 'Chesterfield': 25381, '##rises': 18565, 'McLean': 19271, 'Reyes': 12823, '¬': 209, '##res': 4894, 'shale': 25716, 'neighbor': 12179, 'embarrassing': 17810, '1836': 9875, '##hell': 24364, 'selections': 19674, '1820': 11072, 'smug': 23106, '##liff': 18820, 'domain': 5777, '##own': 13798, '##hausen': 12399, 'Tor': 19928, 'Tokugawa': 24424, 'regained': 11979, 'satisfy': 13692, 'Islanders': 21574, 'insisting': 25504, 'Titus': 20460, '##lumber': 26993, 'Europa': 12348, 'northwestern': 10727, 'opponents': 7741, '##anga': 21842, '30': 1476, 'hid': 11269, '##iac': 12571, 'shrug': 13786, 'Engineering': 3939, 'entertaining': 15021, 'Surely': 13410, 'distribute': 17114, 'Zoe': 11929, '##nic': 7770, '##ʊ': 28290, 'hissed': 11406, 'Putin': 24489, 'occupational': 25779, 'Barry': 5631, 'Unlike': 5472, 'branding': 17864, 'Kelley': 21282, 'mocked': 27304, 'ʑ': 373, 'circle': 4726, 'actors': 5681, 'battered': 19277, 'rhythm': 6795, 'canon': 14917, 'widespread': 6506, 'Target': 18525, 'perceive': 25784, 'examines': 22987, 'This': 1188, 'revived': 10553, 'Judy': 12248, '174': 21223, 'color': 2942, 'jealousy': 16082, 'Ice': 6172, '##zzo': 12550, 'Vampire': 13453, '《': 887, 'Jane': 4074, 'Phantom': 13850, 'Mom': 4563, 'mainstream': 7965, 'documented': 8510, 'prohibit': 26485, '##rows': 20876, 'sixteenth': 16704, 'September': 1347, 'bald': 18035, 'Idol': 15632, 'popularized': 22390, 'numbers': 2849, 'catering': 22709, '##PC': 15270, 'Shea': 18352, 'National': 1305, '##lou': 24491, '##়': 28565, 'Operational': 24531, 'crossed': 3809, 'parchment': 25680, '##Ms': 25866, 'jagged': 21313, '##igate': 25342, '##cens': 17248, 'You': 1192, 'enacted': 12113, '’': 787, 'GE': 25075, 'Z': 163, '##Q': 4880, '##ÿ': 28211, 'Mission': 5852, '[unused33]': 33, 'ო': 703, '##ctor': 9363, 'story': 1642, '1957': 3034, 'improvements': 8313, '##ulu': 14693, 'professors': 14427, 'Survivor': 23725, 'slots': 22223, '41st': 27203, 'lengths': 10707, '##ل': 28495, 'ὸ': 774, 'Indonesian': 8644, 'entrance': 3448, '##rac': 19366, 'sins': 19452, 'volatile': 23332, '##etta': 19938, 'Brandt': 21140, '##turn': 23238, 'Ivory': 17507, 'Murphy': 6528, '137': 15679, 'Tan': 13880, 'corporation': 9715, 'Cornelius': 18604, '##itis': 10721, 'locate': 12726, 'dishes': 10514, 'turtles': 24913, 'elephants': 20724, '##]': 28149, '##上': 28871, 'Dark': 4753, 'external': 6298, 'elbow': 9007, '##crat': 23383, '##rrel': 18337, 'masses': 12980, 'vacancy': 16871, 'Bonus': 21916, 'Ark': 19372, 'prejudice': 22648, 'SK': 17447, 'respective': 7514, 'Friend': 13058, 'Gateway': 20393, '##sex': 23152, 'Connection': 21983, 'Baxter': 15291, 'Bulgarian': 7145, 'fortifications': 15542, '1805': 13403, '##erging': 27884, '[unused80]': 80, 'periodically': 20352, '234': 24354, '1960s': 3266, 'Hume': 22427, '##ore': 4474, 'm': 182, 'operas': 15441, 'Resource': 17282, 'tails': 21315, 'attempts': 4021, '1848': 7518, 'sensation': 8710, '##act': 11179, '##war': 7200, 'roadway': 20722, 'Dracula': 20128, '##rash': 16543, 'Bo': 9326, '##lee': 6894, 'Putnam': 22072, 'vine': 23230, 'Zionist': 23726, 'like': 1176, 'ancestral': 17040, 'Manhattan': 6545, 'Cassie': 8512, 'highway': 4083, 'Volvo': 23212, 'Jackson': 3160, 'emptied': 24168, '##ós': 24127, 'broadcaster': 12689, '##T': 1942, 'sofa': 10907, '##plane': 10648, 'Train': 9791, 'failures': 16676, '##ण': 28514, 'Ray': 4150, 'Fellowship': 9508, 'Ponce': 23349, 'hoped': 4320, 'holdings': 15734, 'sensitive': 7246, 'Î': 236, 'actress': 3647, 'Ltd': 4492, 'granddaughter': 13118, '##rro': 13656, 'faithful': 12969, 'sources': 3509, 'Kay': 11247, '##ľ': 28232, '##wa': 3624, 'Río': 21683, 'identifies': 15625, 'Edit': 18269, 'া': 663, 'min': 11241, 'j': 179, 'Paso': 19234, 'gliding': 25545, '1794': 13506, 'passport': 14171, 'literacy': 8923, 'Nagoya': 27507, 'incurred': 25240, 'Guardian': 7754, 'funds': 4381, 'Harper': 8135, 'Shapiro': 27747, '##ru': 5082, 'archaeological': 8962, 'Ismail': 21851, 'ί': 417, 'height': 3976, 'Dudley': 12840, 'Studios': 5406, 'October': 1357, 'battalion': 7295, 'clasped': 17874, 'tissue': 7918, '##ral': 4412, 'starving': 20285, 'periodic': 18084, 'coordinates': 12570, 'inhabited': 9375, 'Reason': 21642, 'mills': 11467, '##gant': 24581, 'mutant': 21392, 'greatest': 4459, 'pounded': 14216, 'Welfare': 15357, 'Second': 2307, '##gny': 20539, 'composite': 14752, 'caps': 10184, '州': 1024, 'Il': 9190, 'establishment': 4544, '氵': 1049, 'float': 15666, 'evacuate': 25966, 'resided': 12621, 'Metropolitan': 5458, 'Pilot': 14384, 'migrants': 18677, '##oxide': 22040, 'suites': 26683, 'comfortably': 20542, 'Kitchen': 18988, 'Dynasty': 9609, 'Zone': 6402, 'Galerie': 19851, 'bar': 2927, '##istan': 20300, 'ấ': 740, 'ul': 23449, 'sarcastic': 25322, 'governmental': 11219, 'Michelle': 9075, 'fines': 25488, 'Falling': 21151, '≡': 862, 'Ō': 311, 'Vladimir': 8591, '##ur': 2149, '141': 16308, '##sta': 8419, 'prosperity': 16286, '田': 1057, '##ford': 2821, '##00': 7629, 'Gloria': 11024, 'Hancock': 14305, 'label': 3107, '##NC': 15517, '##rat': 7625, 'photographer': 8152, 'Squadron': 3837, 'IBM': 9768, 'backwards': 11316, 'PBA': 23867, 'plot': 4928, 'settled': 3035, 'Von': 13610, 'Design': 4800, '##ǒ': 28268, 'Χ': 411, '##cum': 19172, 'Girl': 4537, 'Jax': 13612, 'outstretched': 23217, '##ogel': 27732, 'specimens': 9985, 'dean': 14445, 'CO': 18732, 'Nicky': 21999, 'Lie': 15030, '##nap': 27864, 'Chennai': 12451, 'Soccer': 6863, 'Lexington': 15134, 'Houghton': 23364, 'trouble': 3819, 'Development': 3273, 'packs': 16777, 'downstairs': 10304, 'Scheme': 20591, '##oted': 21493, 'contrasts': 26856, '€': 836, 'Mexico': 2470, 'marker': 13537, '##MI': 14038, 'Collective': 22380, 'experimented': 22988, 'shoulders': 3221, 'Less': 13568, '##ta': 1777, 'midst': 13337, 'alto': 17138, 'Mean': 25030, 'injection': 14546, 'irony': 23027, 'accredited': 12032, 'Neville': 15562, 'chapel': 6221, '##undy': 27478, 'mobile': 5093, '##mpest': 25214, 'Cleveland': 5364, 'provider': 11482, '##croft': 12012, 'ャ': 966, '##ious': 4179, 'monkey': 16019, 'stumbled': 9624, '##shima': 21957, 'originate': 24077, 'rub': 16259, 'Exhibition': 9336, 'arrests': 19189, '##NBC': 21679, '##स': 28529, 'standing': 2288, '200': 2363, 'suspicion': 11340, 'thesis': 9593, '##tec': 19000, '##rea': 11811, '##idae': 5106, 'Knight': 5122, 'Fergus': 23130, 'Cornish': 19130, 'outer': 6144, 'rib': 23298, 'anthropologist': 26232, '##che': 4386, 'シ': 944, '##VB': 18339, 'councillors': 16306, 'Lacrosse': 25742, 'intriguing': 27529, 'hard': 1662, 'aftermath': 11026, 'breakdown': 14025, 'Shropshire': 21031, '1000': 6087, 'ʿ': 383, '1867': 6988, 'ports': 9267, 'cage': 10096, 'burial': 9278, 'Brigham': 25278, 'intend': 13938, '##ulate': 9732, '##WR': 15824, 'offensive': 5810, 'burning': 4968, 'cute': 10509, 'executed': 5858, 'Ready': 13635, '##lough': 14704, '##media': 16418, 'Extreme': 19005, 'fuscous': 19489, 'Chin': 19935, 'bleeding': 9793, 'cumulative': 27574, 'Angels': 8728, '##lient': 19526, 'socialism': 20560, '##oken': 27443, '##ites': 7571, '##ledge': 19693, 'recognize': 6239, '126': 14491, '##ppa': 13059, 'Alexandria': 10142, '##tany': 26504, 'subdivided': 16224, '##ud': 4867, 'Baptiste': 18529, '##oit': 23508, '##bri': 27647, 'startled': 10057, 'absolute': 7846, '##ett': 5912, '##न': 28518, 'robin': 16763, '##জ': 28549, 'fertility': 20060, 'responds': 17550, '##venge': 25173, '##ili': 18575, 'bumped': 20878, '₅': 816, 'Н': 460, 'prefecture': 22041, 'harbor': 12397, 'gamma': 21400, 'bishops': 11358, '##urge': 27793, 'bombs': 10095, 'Search': 12646, '##fine': 24191, 'discipline': 9360, 'Ezio': 25689, 'aspirations': 25946, 'Constantine': 12978, '##dded': 19409, 'red': 1894, 'Admiralty': 15563, 'Chicken': 18770, '##chemistry': 18533, 'ticket': 7260, '##ּ': 28444, '##nine': 20677, '##ntes': 21713, '##voy': 12716, 'age': 1425, 'regain': 12699, '##vention': 21987, 'Damn': 8441, 'cool': 4348, '##del': 6738, 'reserve': 4837, 'hind': 24856, 'autobiographical': 20638, 'mainly': 2871, '##brecht': 22716, '##sworth': 14775, 'lay': 3191, 'illness': 6946, 'Fallon': 17592, '##urier': 16706, 'Butch': 19504, 'publicly': 6783, 'ː': 385, 'Mars': 7403, 'discovering': 15137, 'Malaysian': 11887, 'advancement': 19024, 'loaned': 13607, 'wander': 20004, '##den': 2883, 'submission': 13455, '##llus': 24960, 'salmon': 17646, '##elf': 22775, 'Billy': 4224, 'Regardless': 20498, '##tton': 16495, 'Hollywood': 4613, 'afternoon': 4427, '33': 3081, 'notice': 4430, '##bayashi': 26412, 'Marina': 11391, '##urable': 27984, '##wei': 24078, 'married': 1597, '##Net': 25264, 'types': 3322, 'resign': 13133, 'Bel': 26744, 'Sloane': 18823, 'convert': 10454, '##vening': 24248, 'Reality': 18510, 'mask': 7739, 'abused': 18400, 'detention': 13826, 'Matteo': 27872, 'ribbon': 14253, 'Shepard': 24620, 'reducing': 7914, 'leapt': 14462, 'Assault': 24572, 'besieged': 19571, 'bluff': 27661, 'societal': 27266, 'Kingdoms': 25316, '##道': 28967, 'practicing': 13029, 'aliens': 14498, 'Devi': 15545, 'Change': 9091, 'glowed': 17531, '##lein': 18929, 'Conversely': 24433, 'failed': 2604, '##du': 7641, 'Double': 8543, 'Remix': 8076, '##م': 26259, 'Melody': 14653, 'thanks': 5438, '##ulously': 23268, 'Mystery': 12011, '##-': 28137, 'Siberian': 24196, '##abar': 23815, '385': 27462, '[unused90]': 90, '##islav': 23012, '##resh': 21298, 'line': 1413, '##ographer': 23528, 'presiding': 23608, '##iation': 24737, 'Although': 1966, 'MIT': 13219, 'recognizable': 22082, 'ë': 257, 'offenders': 23267, 'Other': 2189, 'מ': 548, 'Beethoven': 16316, 'accustomed': 19292, '6': 127, 'Warrington': 25687, '##tein': 7242, 'opted': 12243, 'transported': 9470, 'tired': 4871, '##한': 28986, '##ggled': 20919, '##xa': 20192, 'Band': 4230, 'suggests': 5401, '##11': 14541, 'attend': 4739, 'Antony': 17289, 'Hospital': 3355, '140': 8183, 'Stanford': 8036, 'overnight': 12292, 'processes': 5669, 'rumbled': 24666, 'Adelaide': 6908, '##tone': 4793, 'act': 2496, 'seal': 9438, 'barking': 26635, 'drug': 3850, 'contacted': 12017, '1796': 14342, '##hiko': 24617, 'albeit': 12456, 'interrupted': 6634, 'index': 7448, 'romantic': 6376, 'Fuel': 18935, 'sweetly': 25385, 'plasma': 13441, 'Berkeley': 7823, 'Their': 2397, 'shy': 12076, 'schools': 2126, 'Pasha': 15392, 'Experience': 15843, 'sanctions': 19344, 'illusion': 14488, '##ி': 28583, '##ico': 10658, 'Oxford': 3500, 'semantic': 27921, '##ʀ': 28286, '##ees': 8870, '##aul': 18318, 'packing': 16360, '##das': 9028, '##²': 10731, 'willed': 25369, '##usal': 25034, 'groom': 23799, '##logies': 27600, 'or': 1137, 'guardian': 14436, 'sensual': 21128, 'specify': 22829, 'preaching': 20850, 'bodied': 25448, 'recaptured': 26819, 'х': 496, 'unconscious': 9719, '##c': 1665, 'Gods': 11795, 'boxer': 12156, 'Classical': 10018, 'Nashville': 8029, 'hold': 2080, 'Ontario': 3717, 'spokesperson': 18391, 'ō': 312, '##upe': 26939, '##notes': 22854, '##dd': 13976, 'chord': 15461, 'Pomerania': 20152, '1776': 14447, 'BYU': 26319, 'valuable': 7468, '##ven': 7912, '##stead': 21018, 'towns': 4281, '##rr': 11096, '##sbury': 14959, 'fences': 25617, 'Romanesque': 18895, '##kill': 16249, 'smoke': 5427, 'sent': 1850, 'existed': 5131, '##dale': 4319, 'punched': 11790, 'whales': 21434, 'Harald': 23037, 'Birth': 20729, 'stamped': 23245, '##rena': 23503, 'Hundred': 15090, 'vocational': 18341, 'eleven': 5450, 'Actress': 8151, '##dial': 27565, 'Lim': 21551, 'directional': 23317, 'rising': 4703, 'effectively': 5877, 'thief': 16529, 'dying': 5694, '##rana': 26231, 'Originally': 5798, 'behind': 1481, '1890': 5522, 'ceremonies': 11605, 'agreeing': 17577, 'peeled': 23175, 'Crosby': 14841, 'percent': 3029, 'Stadium': 3339, 'leader': 2301, 'skiing': 14106, '##mise': 26806, 'merge': 14713, 'Shut': 15104, 'Nicholas': 5460, 'for': 1111, 'upstream': 15011, 'fund': 5841, '##=': 28143, 'Am': 7277, 'comprehensive': 8232, '##13': 17668, '##wall': 9456, 'seeds': 8365, 'dozens': 10366, '##fluenza': 27206, '##ker': 4188, '平': 1025, '##dox': 15942, 'reveal': 7063, '##toire': 19101, 'Aziz': 23623, 'occupying': 14854, 'cutter': 24639, 'Genus': 17763, 'expectation': 19351, 'Indo': 11501, 'sings': 12792, 'Lawrence': 4898, 'fantastic': 14820, '##leashed': 24906, 'fields': 3872, 'infringement': 23040, '119': 13606, 'Farmers': 19506, 'Ingram': 25885, 'ink': 12816, 'Mad': 10779, 'Declaration': 14308, '##а': 10286, 'filters': 19690, 'record': 1647, 'Cara': 16185, 'coming': 1909, 'societies': 9306, 'sixth': 3971, 'tightened': 7974, '&': 111, 'rental': 13519, '##chess': 27320, 'writes': 6474, 'Peter': 1943, '##ike': 13012, 'Galaxy': 13021, 'こ': 902, 'choral': 20184, '##BO': 23904, 'gene': 5565, '##ponents': 25387, '##GB': 13745, 'grammar': 12616, 'Godfrey': 19635, 'facade': 10611, 'pots': 21917, 'mercury': 22617, 'wandering': 14848, '##hl': 8495, 'Number': 7421, 'overcome': 9414, '##oked': 27499, 'Graeme': 24149, 'Tropical': 13536, 'Named': 15084, 'zur': 23199, 'Hamburg': 8339, 'Examination': 26947, 'frigate': 17201, '##city': 9041, 'pavilion': 17152, 'Hayward': 23739, 'available': 1907, '##rsen': 22972, 'Bismarck': 24411, '##politan': 27058, 'σ': 436, 'makeup': 5150, 'bark': 12001, 'confident': 9588, 'late': 1523, 'edges': 7521, 'originates': 18025, 'Visitors': 22253, 'Rocket': 17100, '##uration': 23022, 'ي': 594, 'remnants': 11834, '##☉': 28769, 'suffrage': 18817, '##estone': 22971, 'medicine': 5182, 'FK': 14954, '##hian': 17229, 'Diana': 8506, 'Luckily': 20044, 'segregated': 27798, 'authored': 8466, '¹⁄₂': 20262, 'Theodor': 23704, '##BR': 26166, 'chose': 4102, '##lamour': 23823, 'besides': 8655, 'liaison': 20741, 'shocking': 19196, 'jewelry': 12731, 'debate': 5655, '##gne': 8376, 'debated': 16087, 'fringe': 22164, 'Philipp': 22765, 'needles': 20625, 'Otis': 20579, '##Э': 28390, 'E': 142, 'photo': 6307, '##man': 1399, 'play': 1505, 'giggled': 16833, 'schedules': 23028, 'peoples': 7983, '##yclic': 24974, 'powered': 5605, 'Mon': 22401, 'Codex': 24643, 'Jiang': 23678, 'Ed': 5316, 'Patriot': 22817, 'scripted': 26095, '1775': 14826, 'trails': 10353, 'scheduled': 4533, '##land': 1931, '[unused18]': 18, 'able': 1682, '##cision': 16073, 'intricate': 19360, 'meadow': 20558, 'consoles': 25612, 'k': 180, 'surgeon': 10690, '##Β': 28316, 'Columbia': 3132, 'oval': 13102, 'Row': 14706, '##burg': 3410, 'Colby': 20198, 'Collingwood': 21867, 'sciences': 8614, 'Above': 12855, '##mbs': 20630, '##slow': 20120, 'Emery': 28019, 'cafeteria': 18698, '#': 108, '省': 1060, 'Testing': 27259, 'Countess': 13106, 'Palatinate': 20824, '##raphy': 18385, 'pollution': 11738, '##ici': 27989, 'serious': 3021, '##ku': 4786, 'groin': 22106, 'ankles': 16344, 'stopped': 2141, 'exploring': 12138, 'Growth': 20227, 'generated': 6455, 'vendors': 19086, 'certificates': 21487, '##→': 28740, '##dly': 18733, 'strike': 4585, 'Ng': 26057, 'Child': 6405, 'polls': 15995, '##us': 1361, 'billionaire': 26961, 'heavenly': 26891, 'degradation': 18126, '##oud': 13431, 'arrows': 15130, 'Wireless': 21697, 'Chesapeake': 22907, 'terms': 2538, 'dresser': 19257, 'sign': 2951, 'Robin': 5981, 'Tara': 10235, 'Flores': 18827, 'Water': 4434, 'Savage': 12160, 'caught': 2347, 'Romance': 13589, '##some': 11743, 'albums': 3770, 'spur': 16650, 'lunged': 19070, 'covert': 25015, 'infamous': 15881, 'serial': 7838, 'coach': 2154, 'locked': 4594, '##rax': 17031, 'monitoring': 9437, '##rmon': 26654, 'Luke': 4599, '##─': 28763, '##zier': 22815, '##pu': 16091, 'delight': 13657, '##berry': 6614, 'starter': 12302, '##postle': 21953, 'Beaumont': 17227, 'Teams': 11912, 'Ethan': 5386, '##star': 10058, 'Regency': 23069, '##kos': 22068, 'audio': 6056, '312': 23101, 'Elton': 20837, 'Benjamin': 5816, 'Federation': 4245, 'amazing': 6929, 'disgusting': 22852, '##đ': 28218, '##ph': 7880, 'Rouge': 13993, 'fewer': 8307, '新': 1031, '[unused37]': 37, 'touched': 4270, 'astronomical': 20771, '##ndra': 17394, '##dra': 7412, 'Interior': 10000, 'puppy': 21566, 'ﬂ': 1095, 'DR': 22219, 'buzzing': 22601, 'electromagnetic': 19805, 'Conor': 22524, '##«': 28165, 'smelling': 22022, 'harm': 7031, 'Matthews': 12495, 'Funk': 20019, 'Penang': 24099, 'picture': 3439, '##ckman': 22372, 'drift': 13648, '1870s': 15583, 'grow': 4328, 'clone': 22121, 'Christina': 12870, 'Daisy': 11291, 'B': 139, 'press': 3181, '124': 13743, 'competitions': 6025, '##IVE': 26140, '##mity': 15455, '##明': 28927, 'Apostolic': 14220, 'neural': 18250, 'Prentice': 26323, 'Gideon': 12310, 'Extra': 18684, 'Ħ': 295, 'wings': 4743, 'nationality': 11242, 'leads': 4501, 'victory': 2681, 'Aragon': 19493, 'Collector': 25493, 'edition': 2596, 'Essays': 19880, '248': 27672, 'garbage': 14946, '##gn': 17653, 'potatoes': 15866, 'desirable': 17483, 'Plan': 7382, 'insides': 20751, 'nationals': 17160, 'Sven': 23468, 'graded': 25664, 'Cambridge': 3900, 'Muslims': 6979, 'loomed': 27401, 'Rhodesia': 22228, 'segments': 9038, 'forged': 17667, 'cube': 22034, '##ű': 28253, 'diverted': 19901, 'poetic': 15751, 'Tripoli': 24227, 'banking': 9339, 'rituals': 14490, '##tera': 17528, '##oe': 7745, '##way': 2787, 'consumers': 11060, '##self': 19303, 'Catalina': 25106, 'DOS': 19132, '##nda': 7807, 'Territories': 18057, '##ously': 9537, 'Winkler': 22382, 'elite': 8662, 'worn': 5624, '##phological': 26920, 'resurrection': 26926, 'McMahon': 19047, '一': 976, 'Securities': 20548, 'hints': 23531, 'Osaka': 13586, 'wink': 19887, 'forms': 2769, 'corpses': 20540, 'adolescent': 25506, 'Sheffield': 8139, '##iz': 9368, '##escu': 22102, 'distributed': 4901, '##rove': 24157, 'Author': 14593, 'Derrick': 21281, '##Φ': 28331, 'eligibility': 11768, '##ße': 13750, 'reluctant': 12061, 'core': 4160, 'rotating': 14362, 'Infrastructure': 22791, '##Y': 3663, 'Nations': 3854, 'Alberta': 7153, 'explaining': 10100, 'border': 3070, 'thousand': 4032, '##riated': 22356, 'safer': 15033, 'monitor': 8804, '##ু': 28569, 'shooting': 4598, 'Manila': 9002, 'proceed': 10980, 'based': 1359, 'NE': 26546, 'adds': 9807, '##ckett': 24361, 'shower': 5946, 'Cloud': 11804, 'libretto': 19535, 'Coral': 20385, 'possessed': 8471, 'Same': 14060, 'meanings': 17686, 'coward': 24362, '##laus': 17442, 'sole': 6753, 'shelf': 12202, '##gol': 26603, 'relics': 19052, 'tilt': 20827, 'struggles': 11998, 'complement': 14348, 'van': 3498, '##eno': 26601, 'devil': 11711, 'horseback': 22757, '##aster': 20517, 'experiencing': 13992, 'illustration': 17011, 'Democratic': 2978, 'metro': 16411, 'VP': 23659, '##rby': 26803, 'hidden': 4610, 'convection': 27803, '##ie': 1663, '##py': 5005, 'medications': 23897, '##licing': 22548, 'securities': 19313, 'shoes': 5743, 'grandmother': 6907, 'Greenwich': 14323, 'Fountain': 19873, 'Males': 7689, 'Night': 3259, 'vanished': 9898, 'pretended': 15401, 'curriculum': 9403, 'turning': 3219, 'hull': 10207, '##ŵ': 28255, 'wind': 3223, 'Transportation': 8373, 'Behind': 8291, 'ত': 648, '##oft': 18874, '##aurus': 19664, '##Ł': 28233, '5': 126, 'skill': 7864, 'Restaurant': 17925, '##lary': 18480, 'ல': 677, 'Zealand': 2512, 'Vikings': 13854, 'Sherman': 10981, 'beautiful': 2712, 'sunset': 16855, '##sche': 15460, 'payment': 7727, 'Savannah': 11304, 'cloud': 7180, 'pound': 10074, 'Name': 10208, 'arrow': 11473, '##tania': 22793, 'withdrawing': 24749, '##gis': 25019, 'Natalie': 10752, 'Tiffany': 14989, 'Utrecht': 19789, '##お': 28790, 'Cindy': 16774, 'pu': 23609, 'monsters': 11339, 'assessments': 25451, 'Los': 2238, 'nestled': 26533, 'Joanna': 16934, '##ended': 15399, 'sustain': 16974, 'Paris': 2123, 'Oswald': 18638, 'Supporting': 12440, 'ظ': 582, 'willingness': 21623, '##nical': 25116, 'cartoonist': 23095, 'unlimited': 22921, 'Detachment': 22477, 'Gary': 4926, 'competitors': 10388, '##st': 2050, 'Anand': 20556, 'Libyan': 20914, 'Mutual': 22969, 'Algerian': 18068, 'Motorsports': 25683, 'harmonic': 23650, 'jointly': 10824, 'photographic': 15368, 'terrified': 10444, 'Schuster': 27243, '##aka': 11747, 'youthful': 25708, '##ὐ': 28673, 'coding': 19350, '##raze': 26342, 'Adams': 5234, 'Edo': 20520, '##wai': 20264, 'novel': 2281, 'formula': 7893, '1st': 2198, '##ied': 4830, 'Leisure': 26090, '##ᵖ': 28620, 'insert': 22884, '##leam': 27764, '##25': 17600, 'Meyer': 11545, 'Yellow': 8278, 'papers': 4580, 'Satan': 18166, 'youngest': 6074, 'Cyrus': 17093, '##כ': 28455, 'cultivated': 13783, 'toll': 10484, 'Network': 3998, 'Persian': 3886, 'Baltic': 11306, '35': 2588, '##iferous': 25093, 'apps': 23875, 'coughed': 20720, 'Brady': 10004, 'Mortimer': 18627, '##ry': 1616, '##rmed': 25853, 'head': 1246, 'grinning': 12332, 'boyfriend': 6508, 'copyright': 11409, 'okay': 3008, 'painting': 3504, '##yle': 12415, 'different': 1472, '##vana': 25860, 'Buster': 21526, 'attraction': 8322, 'habit': 10671, '##nham': 15898, 'siblings': 9302, '##nage': 17224, 'regards': 12747, 'feared': 8253, 'Coca': 19906, 'inappropriate': 17073, 'pilgrims': 23348, 'ŏ': 313, 'Arsenal': 10503, 'gaze': 2806, 'Julien': 20992, 'Anniversary': 12656, 'heaving': 27941, 'Quartet': 11861, 'sufficiently': 13230, '##oker': 26218, 'Shawn': 13547, '##oran': 15186, 'Bernstein': 20436, 'concentrated': 7902, 'heap': 19943, '##rc': 19878, 'apples': 22888, 'Hong': 3475, 'Cannes': 15451, 'stumbling': 22932, 'updated': 8054, '##usions': 27262, 'handled': 8630, 'army': 2306, '##sure': 14847, 'boots': 6954, 'Communications': 6345, 'bloody': 7201, 'Boulder': 21266, 'Neal': 11003, 'ک': 600, 'Intel': 15397, 'transferring': 15273, '##ond': 16838, 'Regarding': 23840, 'wing': 3092, 'Abdul': 10179, '##gies': 19310, '##ب': 28476, 'arranging': 21203, 'juvenile': 15031, '##ן': 28459, 'Marin': 20076, 'CHAPTER': 8203, 'Figure': 15982, 'sunlight': 9673, 'Free': 4299, 'appreciation': 13542, 'us': 1366, 'bliss': 27100, 'Canyon': 10084, 'Management': 3973, 'Titans': 14504, '##rington': 22530, 'magnet': 24197, '##an': 1389, '##bian': 12324, 'would': 1156, 'citizens': 4037, 'Yin': 23845, '##I': 2240, 'topping': 27001, '##llis': 15310, '##ъ': 28412, 'trance': 21724, 'Carrie': 13574, 'tissues': 14749, 'RFC': 15274, 'Australian': 1925, 'sir': 6442, 'villa': 15282, 'diaspora': 25947, '##chanized': 26040, '##на': 22037, 'earliest': 5041, 'occasion': 6116, 'witnessed': 9491, 'Ireland': 2270, 'Mini': 14393, 'images': 4351, '##olate': 14995, 'vaudeville': 25535, 'arriving': 7190, '林': 1044, 'puzzles': 22747, '[unused53]': 53, 'providers': 12263, 'Twice': 24715, 'lair': 27359, 'ũ': 327, 'tools': 5537, 'Pursuit': 23756, 'Jurassic': 21834, 'Monsieur': 25599, 'nomination': 6294, 'damned': 10688, 'Tennis': 9968, '##1': 1475, '##lihood': 26596, 'so': 1177, '##upon': 23407, '##izing': 4404, 'persons': 4983, '##rieve': 27055, 'tub': 15511, '##ops': 9706, 'greater': 3407, 'Data': 7154, 'Following': 2485, 'unlikely': 9803, 'priority': 9830, 'Ruby': 11374, 'pickup': 17257, 'cylindrical': 20684, 'inverse': 22127, '##hropic': 27544, 'prompted': 9249, 'torn': 7820, 'Filipino': 10121, 'Jay': 5525, 'My': 1422, 'cylinders': 20732, 'Home': 3341, 'Dickson': 24440, 'Marino': 18940, 'Soldiers': 16587, '##sha': 5480, '##rber': 19644, 'knob': 21267, 'downtown': 5215, 'Survey': 8157, 'Janice': 21872, 'Hitler': 7579, 'purely': 12098, 'swinging': 12933, 'seven': 1978, 'grenade': 19487, 'excess': 10116, '##vas': 11509, 'FM': 3941, '##lbert': 16985, 'rookie': 11416, 'lies': 2887, 'slab': 19871, 'encouraging': 11653, 'reconcile': 23297, 'tends': 12246, '##phate': 26290, 'outgoing': 25194, '##و': 28496, 'Babe': 20210, 'neurons': 16993, '##boarding': 24631, 'assassination': 10395, 'melted': 12755, 'docks': 19378, 'Lights': 13951, 'level': 1634, '##ṅ': 28635, 'province': 3199, '##ieving': 24999, 'communicate': 10621, 'interstate': 20905, 'Hyde': 11878, 'Pizza': 26091, '##ᵈ': 28614, 'Construction': 6568, 'fictional': 6725, '##dress': 18380, '##aia': 20991, 'Supply': 17153, 'martyr': 26899, 'June': 1340, 'Medicine': 5734, 'slaughter': 20723, 'Niagara': 16351, 'Not': 1753, 'Sutton': 11163, 'Booker': 18542, 'vote': 2992, 'revival': 9408, 'larvae': 9923, 'deserve': 10026, 'framed': 10577, '121': 12794, 'passages': 14888, 'Singers': 24047, 'bands': 4393, 'Haifa': 23462, 'vicar': 19228, 'Is': 2181, 'extra': 3908, 'reliance': 24727, 'Phillies': 16620, '##î': 28202, 'Manchester': 4280, 'mining': 5463, 'Coventry': 13985, '##pard': 18573, 'Outdoor': 21511, 'digitally': 20328, 'dish': 10478, 'Damon': 11337, '199': 22690, '##ello': 13323, '3D': 7860, 'wife': 1676, 'Odyssey': 21339, 'shell': 5963, 'ð': 262, 'discoveries': 17707, 'リ': 969, 'Father': 4505, 'Starting': 8955, 'Makes': 24746, 'Multiple': 17476, 'shiny': 13388, 'starting': 2547, 'commentary': 9068, 'Concerto': 12874, 'knowledge': 3044, 'nearest': 6830, 'diet': 10211, 'Gabon': 25806, '##latz': 26250, '##lan': 4371, 'Sharma': 15324, '1200': 15508, 'foot': 2555, 'shouted': 6031, 'Homes': 25050, 'Indians': 5888, 'republic': 13911, '##chers': 18346, 'Coming': 11050, 'ended': 2207, 'streaming': 11403, 'CF': 18802, 'Ridley': 23013, 'Judah': 25674, 'gown': 12042, 'paints': 28022, 'Movement': 6257, 'Planning': 9758, 'resolved': 10456, 'Kind': 15994, '##rod': 13225, 'app': 12647, 'Vermont': 8472, '##udd': 22940, 'ₐ': 824, 'foe': 27579, 'Jun': 12865, 'taxa': 27522, 'Sometime': 25205, 'researched': 20429, 'shootout': 22567, '##elles': 18840, 'Bee': 16385, 'abusive': 22898, 'invariant': 27289, 'sincerity': 27887, 'Palestinians': 23755, '京': 984, 'loud': 4632, '##čić': 22147, 'posed': 14114, 'proclamation': 22684, '##link': 13255, '##kal': 14046, '##bridge': 6152, '##dalgo': 27128, 'smuggling': 21974, 'avoiding': 10101, 'tires': 14337, 'Shiva': 12945, '##ische': 15890, 'Curtis': 8862, 'subject': 2548, 'Ninth': 19066, 'conquest': 10627, 'kindness': 18569, 'resemblance': 14634, 'expect': 5363, 'plots': 15836, '##isi': 26868, 'weights': 17981, '##cover': 17800, '##zza': 22221, 'produced': 1666, 'file': 4956, '##he': 4638, 'Voivodeship': 6729, 'extreme': 6122, 'BMW': 13439, 'Loop': 18086, 'releasing': 8210, 'Tunnel': 12872, 'addressing': 13735, 'mornings': 19622, 'Sydney': 3122, 'Czechoslovakia': 13028, 'manufacturers': 9263, 'sauce': 14313, 'Print': 27833, 'centres': 9335, 'needle': 13864, 'ÿ': 277, '##ère': 7436, 'sweaty': 22199, 'Irwin': 18819, '##ov': 3292, 'terminus': 7132, '##wski': 9587, 'remixed': 21548, 'militant': 19850, 'alive': 3534, 'Revenge': 18714, 'compliance': 14037, 'won': 1281, 'adapt': 16677, 'Dillon': 15229, 'ye': 6798, 'Leroy': 25335, 'present': 1675, 'colleges': 7632, 'Schwartz': 17834, '##F': 2271, '##thin': 24365, '##edic': 24506, '##nikov': 28036, 'UAE': 18925, 'Rosen': 24580, 'Levin': 22104, 'realizes': 10875, '##nate': 13978, 'Comes': 18566, 'NBA': 5803, 'Bengals': 25884, 'union': 3779, 'width': 9346, 'ス': 946, 'engagement': 8164, 'Bolton': 12229, '長': 1080, '##й': 17106, '##ת': 28468, 'gag': 21102, 'fortified': 14149, 'Angie': 15612, 'Soft': 19539, 'princess': 9309, '##ա': 28425, '##ngo': 18255, '##fant': 26636, '##OP': 17195, 'Hamas': 24574, 'presented': 2756, 'Salford': 25639, 'Dad': 4708, '##fused': 21089, 'Services': 4326, '##ile': 4759, '##hima': 16340, 'Macmillan': 19830, 'dwellings': 18495, '##ner': 2511, 'will': 1209, 'charming': 14186, '##ter': 2083, 'Baroque': 12869, 'Stratford': 19011, 'Shanghai': 7962, 'strands': 15060, '##zie': 15039, '##volving': 24828, 'stretch': 7461, '##hdi': 26946, 'constellation': 19325, '30th': 13631, '##ś': 28244, '##flies': 21311, 'hosting': 9882, 'helmet': 10815, 'panel': 5962, '##sia': 6370, 'Sofia': 8713, 'Evil': 11299, 'ß': 245, 'Version': 8812, 'Nurse': 17418, '##rrick': 27511, 'industries': 7519, '##կ': 28428, 'sketches': 14578, '##Â': 28181, 'Mae': 12255, 'Mona': 15706, '##त': 28515, 'British': 1418, 'faint': 7859, 'integral': 10226, '##nam': 12881, 'BMG': 27622, 'ル': 970, 'Planet': 9522, 'hurdles': 20928, 'waking': 14047, 'inheritance': 13998, 'Impact': 13788, 'muffled': 17032, 'routed': 21443, '##birth': 16190, 'Courage': 27796, 'lounge': 15238, '1748': 27488, 'refuge': 10782, '##nco': 23573, 'tackle': 11407, 'parted': 10155, 'bang': 21260, '##pical': 15328, 'Moe': 27506, 'specialty': 13858, 'roads': 4744, 'approx': 26403, 'sanctioned': 15572, 'Fortune': 14555, 'Sting': 23082, '##ssie': 16869, 'optical': 10312, 'journal': 4897, 'Equipment': 22897, 'Happy': 8325, 'jewel': 23160, 'Amazon': 9786, 'slowing': 20098, '##ò': 20142, '##ted': 1906, 'raided': 20574, '##top': 9870, 'Jefferson': 7123, 'Bank': 2950, 'Malik': 15147, '##ennial': 16009, '##ffling': 20709, '1791': 14925, 'Part': 4539, '##Ω': 28334, 'خ': 572, '##zin': 17817, '##union': 19698, 'intimidating': 27678, '##sonic': 19500, 'darling': 18556, 'sentence': 5650, 'start': 1838, 'input': 7758, 'viola': 16221, 'Port': 3905, 'Jungle': 17009, 'slopes': 10336, 'improved': 4725, 'Sparks': 20759, 'source': 2674, 'bent': 5950, 'Monk': 13222, 'silhouette': 27316, 'mantle': 19435, 'partisan': 17696, '[unused100]': 104, 'Budget': 19179, 'replies': 14711, '1961': 2920, 'Prof': 11644, 'Baylor': 26860, '##iculate': 26748, 'Somehow': 13039, '##ai': 3814, 'Later': 2611, 'broadly': 14548, '##child': 21289, '##ulent': 16564, 'playback': 26249, '118': 13176, 'anthology': 12315, 'Kennedy': 5107, 'corpse': 12382, 'sediments': 22872, 'resist': 9345, 'scales': 9777, 'graduating': 6282, 'Skull': 26359, 'authority': 3748, 'Lounge': 26135, '##ces': 7723, 'pour': 11480, 'bowl': 7329, 'MBE': 22247, 'date': 2236, '##fected': 21601, '«': 208, '##eim': 20369, 'ל': 546, 'ز': 576, 'shortage': 16907, 'Universal': 6896, 'miss': 5529, 'Calvin': 11110, 'acre': 7583, '[unused82]': 82, 'Cypriot': 20036, 'Mecca': 25160, 'ministerial': 25672, '##ular': 5552, 'renewal': 18240, 'proved': 4132, 'Daddy': 9979, 'Disease': 20012, 'travellers': 25199, '##shan': 10257, 'Ogden': 25868, '1816': 12497, 'Very': 6424, 'tile': 15305, 'amendments': 19696, 'Scholar': 17052, 'membrane': 10936, 'Combat': 10314, 'viewpoint': 25216, '##emann': 26958, 'sum': 7584, 'totaling': 24224, 'remembers': 19858, 'universal': 8462, '##sters': 12429, '1760': 20758, '##mbe': 17329, 'calls': 3675, 'Dwight': 14868, '##weiler': 23768, 'Northeast': 12079, 'Goa': 16235, 'competitor': 13047, 'discusses': 16900, 'shining': 10825, 'pieces': 3423, 'acute': 12104, '##SB': 19117, '##iary': 18665, 'unitary': 26217, 'reflex': 27820, 'Bogotá': 27976, 'seller': 18275, 'Roth': 12379, 'outcomes': 13950, 'whip': 15005, 'Fabian': 25318, 'Man': 2268, 'influential': 5918, 'Places': 5068, '##bad': 8330, 'dedication': 13314, '##rass': 19326, 'medicinal': 24712, 'Sasha': 15327, 'Latvian': 15332, 'eight': 2022, '│': 870, 'pricing': 25112, 'guessing': 18453, 'ecstasy': 25651, '##iles': 12846, 'Congress': 2757, 'disagreed': 19786, 'El': 2896, 'suppressed': 14336, '##atory': 13424, 'dropped': 2434, 'Hill': 2404, 'Natural': 6240, 'newcomer': 25551, 'rivalry': 10881, 'liberties': 27930, '##rust': 19604, 'irrational': 27447, 'airfield': 11897, 'solitary': 15801, '1800': 9558, 'theory': 2749, 'Cherokee': 14246, 'Palermo': 20250, 'Grimes': 28045, '##raverse': 22858, 'bit': 2113, '##HS': 11420, 'wireless': 12784, 'interceptions': 20095, 'hemisphere': 24114, 'Dan': 4317, '##forth': 15396, 'Tigers': 7811, 'Spiritual': 23509, 'outside': 1796, '1920': 3598, 'Dutch': 2954, 'curve': 7660, 'runway': 9822, 'AR': 22133, 'Tampa': 9720, 'friends': 2053, 'plain': 6188, 'τ': 437, 'Integration': 26631, 'trace': 8332, 'racism': 16654, 'Trust': 4623, 'obstacles': 16503, 'appearance': 2468, 'Returning': 15250, 'institutes': 19077, 'Pontiac': 27681, 'bacon': 20503, 'ways': 3242, 'immigrants': 7162, 'Afro': 20075, 'Gender': 21108, '##ŏ': 28238, 'winter': 3701, 'revolves': 20932, 'blackish': 24534, '##om': 4165, 'lessons': 8497, 'her': 1123, '##azi': 19888, 'dagger': 12506, 'wavelength': 22335, 'indicators': 24091, '##laced': 25094, 'Speak': 24976, '##dron': 21844, 'poised': 25156, '∧': 856, 'Chinese': 1922, 'Desert': 9054, '##CE': 10954, '##usage': 27130, 'ி': 680, '##rrence': 21629, '##女': 28906, 'snarled': 15742, 'writers': 5094, '##kata': 24011, 'notebook': 17189, 'responses': 11317, 'row': 5105, 'Panzer': 18753, '##plating': 26938, 'clubs': 3514, 'ʲ': 377, 'Paulo': 8764, 'resonance': 20370, 'と': 912, 'shrimp': 23982, 'think': 1341, 'ideological': 19800, 'month': 2370, '##erly': 11386, 'Uprising': 22326, 'interrupt': 19717, 'fixed': 4275, 'swell': 21835, 'Minority': 26495, 'Hahn': 27298, 'Texas': 2245, 'treasures': 24469, '##hame': 25948, 'whose': 2133, 'middle': 2243, '##lve': 23534, 'Clean': 17508, '##nock': 14714, 'banner': 12438, 'lesson': 11788, 'Sweat': 26184, '##table': 8637, '##₆': 28713, '##sea': 19885, 'shall': 4103, 'Neil': 6003, '##TV': 7073, '##lling': 11799, 'captive': 13678, 'rotor': 22365, 'shipped': 12212, 'split': 3325, 'Holly': 9030, 'theft': 14284, 'Norwegian': 4236, 'demographic': 17898, 'slapped': 11176, '##З': 28373, 'inches': 4519, 'Reid': 8721, 'old': 1385, 'drowning': 16953, '##uron': 22497, '##hof': 15317, 'Φ': 410, 'Mounted': 20652, '##th': 1582, '##usa': 11700, 'propeller': 17358, 'Ranch': 14481, 'Hernández': 22844, 'CR': 15531, 'instant': 6879, '##los': 8867, 'Milan': 6390, 'chronicle': 26539, '##geons': 27815, '##ק': 28465, 'oddly': 18609, 'Bristol': 6490, 'reveals': 7189, 'shift': 5212, '##llow': 24834, '##inated': 16868, 'announcing': 14563, 'zu': 21458, 'forcefully': 25875, '##versing': 27563, 'winner': 2981, 'repair': 6949, 'perimeter': 14573, 'spoon': 19184, 'grasping': 24624, 'overseas': 7474, 'smallest': 10471, 'Bordeaux': 17441, 'Finn': 8994, 'combining': 12459, '##ich': 7255, 'Domingo': 16540, 'Twelve': 12564, 'eminent': 17115, 'range': 2079, 'facilitate': 11000, '##ₚ': 28727, 'Russell': 5023, 'ٹ': 597, '##trine': 23889, 'similarity': 15213, 'े': 632, 'apparently': 4547, '##rops': 25287, 'ch': 22572, 'Highness': 19525, '1919': 3688, 'म': 619, 'LGBT': 12105, '##test': 13053, '##mine': 9685, 'whirled': 18370, 'nonprofit': 15773, 'packaging': 17019, 'drove': 4466, 'gigantic': 23275, '##ymph': 25698, 'go': 1301, 'Seeing': 11993, 'deep': 1996, 'mall': 8796, 'spears': 27490, 'MHz': 11511, '##yya': 22549, 'tolerant': 26827, '##lor': 10885, 'educator': 12102, '##worm': 25633, '1': 122, '##SF': 19261, 'Brigade': 4292, 'Movies': 19318, 'meta': 27154, 'Consider': 25515, 'Amy': 6279, 'endorsed': 11889, 'Playboy': 24071, 'butt': 11259, 'jet': 8319, 'Blackburn': 14428, 'rode': 8335, 'glancing': 11849, 'highest': 2439, '1786': 18642, 'surviving': 5932, 'timetable': 27646, 'Ljubljana': 23835, '##tration': 18794, 'conclusions': 16421, 'quite': 2385, 'Islamic': 4769, 'Skin': 20616, 'radius': 12717, 'cotton': 7825, 'Wire': 24781, 'parliament': 6254, 'negotiation': 23394, 'Midland': 12467, '##dance': 26444, 'conditioning': 15851, 'premier': 11591, 'Walt': 10495, 'Derby': 7669, '##riya': 16383, 'neighbour': 23634, 'clearer': 27830, 'Agreement': 11225, 'searched': 8703, 'Sean': 5499, 'Punjab': 8907, 'Jammu': 23664, '##ulp': 20510, 'parole': 21122, 'Covenant': 23401, '##bio': 25959, 'encounter': 8107, 'satellites': 16176, 'groaned': 9393, 'Jackie': 9662, '##antly': 12481, 'funny': 6276, 'Marvel': 8370, 'epidemic': 18162, 'clothing': 5413, 'monitors': 16884, 'Un': 12118, '##virus': 27608, '##urity': 20172, 'flare': 20646, '##entry': 26666, 'behaviour': 9151, 'backyard': 18707, 'varied': 9177, '1910': 4178, 'Atlas': 12974, 'Bollywood': 17155, 'cavity': 19421, 'systematically': 25923, '##aic': 22950, 'Council': 1761, 'smoking': 9987, 'Armstrong': 8800, 'Canal': 6327, '##°': 7259, '##sk': 5276, 'dir': 23155, '##crates': 24460, '##former': 23763, 'Playing': 15628, 'Lu': 14557, 'tend': 6613, '##iring': 14641, '##gall': 22629, 'homicide': 27029, 'videos': 6581, 'narrower': 25193, 'shudder': 19986, 'prosecuted': 24004, 'benefits': 6245, 'Philippines': 4336, 'archaeology': 19620, 'Or': 2926, '##chase': 18956, 'hats': 20096, 'Cubs': 14273, 'Superman': 10631, 'Semifinals': 15723, 'Memorial': 4136, 'Rowan': 15568, 'crime': 3755, 'Manor': 10757, 'stabbing': 24728, 'Jose': 7438, 'Weight': 25589, 'declining': 14828, 'Vaughan': 15063, 'young': 1685, 'Patrick': 3938, 'steal': 8991, 'hangar': 22043, 'dashed': 19647, 'Rather': 11056, 'thud': 23456, 'Barker': 13208, 'Clyde': 12190, 'Essential': 26768, 'Mouth': 27363, '##rrible': 27788, 'gymnastics': 20679, 'Waterford': 19081, '##pliant': 27898, 'assemble': 24945, 'span': 8492, 'assert': 23163, '##via': 7137, '##rlin': 20754, 'politicians': 8673, 'atop': 10343, 'direct': 2904, '##vist': 18295, 'Revival': 8884, 'invisible': 10062, 'Drop': 19909, 'registers': 21187, 'Schools': 5722, 'Native': 4363, '##cans': 21242, 'huh': 11159, 'away': 1283, 'Lucius': 16614, 'countries': 2182, 'landowner': 22370, 'Samson': 19893, 'waits': 24344, '18th': 4186, 'disappearance': 14158, 'Slovene': 19778, 'surge': 12814, '##athed': 21549, 'Percussion': 22599, '##ibility': 7706, 'sung': 7399, 'inevitably': 25315, '##cey': 18865, 'Secret': 7013, 'compartment': 16290, '##ל': 28456, 'nodded': 2471, '##TA': 9159, 'parallels': 21287, '[unused58]': 58, 'value': 2860, 'Hawaii': 6826, 'Scale': 20334, 'Further': 6940, 'terrain': 9260, 'sip': 11456, 'approximate': 17325, 'donate': 23969, 'fan': 5442, 'airplay': 20659, '##ić': 7733, 'blown': 10816, 'Bianca': 19772, 'Peabody': 21826, 'companion': 8573, 'apron': 22859, 'Annapolis': 28082, 'commissioned': 4156, '##uno': 26761, '„': 791, 'Technical': 6846, 'planted': 8100, 'strategies': 10700, '##rift': 17761, 'Yvonne': 23942, 'Vanessa': 13553, 'worthless': 26121, 'Schubert': 27823, 'spacecraft': 12568, '##rda': 18484, 'lowest': 6905, '##bson': 18824, '§': 204, '##FB': 24366, 'Khmer': 21259, '##ronology': 18327, 'northbound': 23328, 'IF': 13729, '##besity': 27655, 'Glamorgan': 26725, '##plain': 18220, 'Elder': 11199, 'Stage': 6160, 'し': 904, 'applicants': 20434, '##gnate': 21772, '[unused97]': 97, '##wayne': 25920, 'Given': 10470, 'radiating': 26120, 'Ms': 6980, '##tial': 16764, 'attacker': 19114, 'trades': 19288, 'Russ': 19809, 'enduring': 21585, 'Í': 235, 'window': 2487, '##och': 9962, 'Mathias': 22492, 'underwent': 9315, 'capita': 8008, 'Europeans': 13810, 'Salvatore': 18746, 'street': 2472, 'angled': 20423, 'Than': 16062, '##trar': 26852, 'Ke': 26835, '##made': 12540, 'explicit': 14077, 'Albert': 3986, 'Semitic': 24447, 'raiding': 27166, 'Sloan': 20675, '##ho': 5114, 'Tasmania': 12484, 'Darryl': 25389, 'OCLC': 12417, 'glucose': 20636, '##rog': 24081, 'their': 1147, 'Granada': 17644, 'archives': 12756, '##lla': 3848, 'nationalists': 25170, '##mage': 27525, 'trans': 14715, 'Store': 10422, 'Henley': 22935, 'commercials': 13210, '##eve': 19907, '##wick': 6196, 'CC': 21362, 'れ': 929, 'criticism': 5879, 'assault': 5937, 'Wilhelm': 8725, 'aka': 10908, 'Brisbane': 7217, 'virgin': 16946, 'Renaissance': 8236, '21': 1626, '##ophone': 17826, 'slack': 24988, 'find': 1525, 'vocabulary': 18074, 'Carmine': 21228, 'sandstone': 13145, 'barracks': 14539, '##mount': 15364, '##rosis': 21556, 'Affairs': 4181, '土': 1006, 'mg': 17713, '##mail': 14746, 'Juliet': 14143, 'blanket': 8560, '[unused32]': 32, 'fencing': 20716, 'spotted': 6910, '安': 1016, 'aspects': 5402, 'challenger': 24997, 'Fe': 11907, 'Shot': 18427, '##ug': 9610, 'hectare': 22364, '尚': 1020, '##rdes': 20500, 'competition': 2208, 'Alone': 14227, 'Delaney': 24626, 'account': 3300, '##mus': 6308, 'Nope': 18455, 'guitar': 2092, '##pher': 15940, 'twitched': 17848, 'Sense': 26456, 'giving': 2368, 'rabbi': 20887, '##lord': 14617, '##ssing': 23906, 'agreement': 3311, '##da': 1810, 'Democrats': 7834, 'Jett': 25653, 'Martin': 2405, 'organize': 11021, 'correction': 22590, 'Wet': 27855, '##Ä': 28182, 'group': 1372, 'gifted': 14160, '144': 15373, 'residence': 4662, 'spatial': 15442, 'vines': 20047, 'Mi': 12107, 'experiments': 7857, 'inscribed': 15505, '##xes': 21210, '##lston': 27726, '##aus': 25134, 'pumped': 17967, 'displacement': 15167, 'deny': 9762, 'curiosity': 11380, 'Andhra': 14620, 'thinking': 2422, '씨': 1090, 'lives': 2491, 'Juventus': 25334, '##layer': 22938, 'Philosophy': 8714, 'Me': 2508, 'looks': 2736, 'scenic': 18307, '##vitation': 24892, 'excavated': 16120, 'goaltender': 27521, 'swept': 6769, 'regent': 19611, 'Ashe': 13811, 'swallowing': 24841, 'crashed': 7573, 'weddings': 24536, '##ω': 28360, 'Justice': 3302, 'Imperial': 4849, 'Dot': 25584, '239': 26479, 'warmth': 8059, 'Giant': 12510, 'separated': 4757, 'unconventional': 27668, '##ridge': 8044, 'guides': 15889, 'Briggs': 16338, 'collectors': 16801, 'remark': 19422, '##phs': 19992, 'sts': 9912, 'glass': 2525, 'grid': 8866, 'fever': 10880, '##cess': 22371, 'trusting': 22798, 'pinyin': 10307, 'ة': 567, 'unpaid': 27134, 'Assistant': 5414, 'matching': 9901, 'Kazan': 24427, 'inside': 1656, 'Carrier': 16983, 'supported': 2726, '1809': 13055, 'environments': 10152, 'donors': 20023, '38th': 24399, 'foolish': 14723, 'lieutenant': 6403, '##hawk': 19952, 'handful': 8973, '68': 5599, 'posterior': 16530, '##tl': 26414, '##pree': 27147, '##Χ': 28332, '1837': 9443, 'instruments': 5349, 'Silva': 11211, '##rovisation': 27696, '##ề': 28648, 'recruit': 14240, '##irk': 15725, 'undead': 21979, 'Kimberly': 26564, 'Pérez': 15489, '242': 24899, '##ć': 7128, 'sect': 21354, 'captain': 3495, '##coat': 17518, '##wed': 11547, '##í': 6212, 'Si': 14159, 'folks': 13918, 'Action': 6605, 'Callum': 16052, 'Zürich': 16592, '##food': 24263, 'ceiling': 5265, 'Sanskrit': 11399, '##pate': 16963, 'Opus': 26855, '##ax': 7897, 'Marty': 12768, '##oman': 27085, 'viable': 15668, 'tumor': 14601, '##late': 8052, '##khar': 23553, '##vel': 12559, 'Republic': 2250, 'mathematician': 13919, 'valued': 11165, 'slower': 12741, '##reaked': 28051, 'slavery': 9401, 'Tasmanian': 23584, 'nickel': 20403, 'decrease': 9711, 'basket': 12916, 'foothills': 21864, 'Picture': 10041, 'Samantha': 11421, 'ִ': 528, 'Diocese': 7169, 'minimal': 10298, 'domains': 13770, 'pastor': 11616, 'obscure': 15574, 'Papers': 19023, 'contained': 4049, 'Military': 4012, 'regulation': 8585, 'declaring': 14442, 'Sienna': 22624, 'crore': 24809, '##ks': 4616, 'Senegal': 17419, 'View': 10344, '##aro': 14452, '##itzer': 23257, 'negotiated': 14071, 'Georgian': 8832, '##ymphonic': 20565, 'intended': 3005, '##rail': 12797, 'dissipated': 25149, 'victories': 9056, '野': 1078, '1788': 16499, '|': 197, 'annexed': 13706, 'conference': 3511, 'Lombard': 26416, 'western': 2466, 'agriculture': 6487, '1940s': 7177, 'ɡ': 359, '##mell': 27575, 'disciples': 21429, 'damp': 10660, 'cane': 14671, '##do': 2572, 'shortened': 12898, '##ち': 28802, 'Ian': 3978, 'Mayer': 15326, 'L': 149, 'illegal': 5696, 'routines': 27393, 'enthusiastic': 15496, 'critically': 11774, '##ide': 3269, 'scar': 14161, 'miracle': 14173, 'forthcoming': 18394, 'error': 7353, 'reelected': 23575, '##olis': 25694, 'reasoned': 27763, '##tude': 17684, 'wishing': 10863, 'diminished': 17017, '##rds': 15093, '##ŷ': 28256, 'Real': 5230, 'chocolate': 8888, 'ignoring': 10372, 'Allen': 4522, '1920s': 6033, 'Slovenian': 17636, '##ß': 21426, '##iche': 26312, 'superficial': 26558, 'Salle': 20005, 'Worldwide': 20062, '##⊕': 28761, '##patient': 27420, 'b': 171, 'Penguin': 16563, '同': 1001, 'Dartmouth': 18069, '##VR': 19400, '##verance': 24374, '##cor': 19248, 'targeting': 15141, '##cademia': 18161, 'warlord': 26676, 'dramas': 18282, 'spilled': 13843, 'Rani': 24202, 'centers': 6425, 'robotic': 24628, 'premiere': 6965, 'continued': 1598, 'ή': 416, 'Teenage': 25830, 'patience': 14355, 'Coronation': 22137, 'Comprehensive': 25187, 'intermittent': 27946, 'mold': 21532, 'acidic': 27675, 'warehouse': 11130, 'content': 3438, '##latter': 19709, 'cooperate': 19204, 'avenue': 22655, 'Bros': 10145, 'monthly': 7868, 'preparation': 7288, '##én': 12640, 'portrayal': 14513, '##lded': 15414, 'Terrorism': 27792, 'gave': 1522, 'folk': 5191, '##fest': 17695, 'Jones': 2690, 'catch': 3963, 'Battalion': 4244, 'Bose': 24880, 'documents': 4961, '##each': 17269, 'trailer': 9404, 'Bath': 10567, 'statute': 14610, '##see': 18628, 'frontal': 22172, 'convinced': 5857, 'connector': 25609, 'involve': 8803, 'frankly': 27642, '240': 11202, '##shed': 10680, 'Sunderland': 16362, 'cell': 2765, '・': 974, 'faded': 7771, 'Diaz': 21246, 'scholar': 6597, 'Chambers': 12990, '##ale': 7531, 'openly': 9990, '##boo': 24385, '##IR': 18172, 'Men': 3401, '##robe': 25560, 'smoked': 23235, 'translucent': 26043, 'Face': 10289, 'Thoroughbred': 24398, 'skip': 19476, '1886': 6332, 'Alliance': 5643, 'construct': 9417, '##mitage': 27811, '##book': 6470, 'outfit': 11378, '##chel': 20492, '##curate': 28106, 'hardware': 8172, '##opsis': 26756, '##sband': 22309, '₁': 812, 'Philippe': 11162, 'deserted': 13180, 'instructed': 10154, 'bye': 11901, 'CEO': 5058, 'threatened': 4963, 'stalls': 21923, 'ו': 540, 'commissions': 15239, 'info': 23992, 'constructions': 26674, 'Access': 11737, 'Though': 3473, '##tary': 16198, '##igi': 24874, 'Como': 25143, 'generator': 14622, 'SEC': 15374, 'Resources': 9868, '##ump': 15629, 'brownish': 21233, 'remember': 2676, 'Lola': 15976, '##let': 5765, 'BC': 3823, 'subordinate': 16469, 'these': 1292, '##hone': 17541, 'intervention': 9108, 'Nicole': 9628, 'Twilight': 17629, 'loser': 19398, 'ridges': 18431, 'F1': 22341, 'deployed': 6925, '##ッ': 28843, 'opposition': 4078, 'Satellite': 16827, '##vina': 19330, 'McBride': 20738, 'Sri': 4471, 'Asiatic': 27039, 'proportional': 15122, 'proposing': 24637, 'Tau': 27046, '##storm': 18251, '##low': 6737, 'Release': 17443, '##enia': 23179, '##get': 16609, 'ớ': 756, 'Yu': 10684, '##jun': 17936, 'Lamb': 16978, 'disclosed': 23617, 'stem': 8175, 'fronted': 26309, 'Bet': 26615, 'AllMusic': 17628, 'dispatched': 15188, 'constant': 4836, '105': 8359, 'corrupt': 14644, 'bombing': 8602, 'reassigned': 20027, 'directorial': 24836, 'exceeds': 26553, 'causing': 3989, 'sprawling': 27541, 'Riley': 7024, '##ed': 1174, '##lop': 13200, 'б': 476, '##ths': 26471, 'lawyers': 10630, 'Silicon': 24264, 'Axis': 17831, 'Confederation': 13052, 'Persia': 17746, '##look': 21163, 'Fletcher': 10487, 'quarterback': 9119, '182': 18957, 'ᵘ': 719, 'hovered': 19594, 'Auditorium': 22511, '420': 18650, '##power': 9447, 'seventeen': 10439, 'Eastwood': 27181, 'citizen': 7888, '##vres': 25870, 'improving': 9248, 'strains': 21116, 'Sciences': 4052, 'wage': 12634, 'prevailing': 21301, 'wheel': 4829, 'suggest': 5996, 'Sophie': 7800, '##cation': 14520, 'shafts': 22970, 'Harbor': 7835, 'bulb': 23447, 'état': 24948, 'wherever': 12826, 'masks': 17944, 'Including': 25951, '##ј': 28420, '##ject': 16811, 'villains': 20246, 'cheat': 28015, 'X': 161, '##llen': 13815, 'Auburn': 15096, 'Watch': 8553, '##আ': 28540, 'Cats': 17408, '87': 5966, 'prompting': 16825, 'Scholars': 18765, 'ļ': 302, 'epic': 11431, 'Audrey': 14707, 'Moldova': 17877, 'symmetrical': 26795, 'represents': 5149, '53': 4389, 'sky': 3901, 'Vicar': 22269, 'Moving': 13091, 'books': 2146, '193': 21781, 'Pendleton': 27406, 'wisdom': 12304, 'bone': 6028, 'monastery': 7197, 'lifts': 14302, 'extending': 8177, 'misleading': 25175, '1650': 24182, '1680': 27723, 'airborne': 17341, '##mu': 13601, 'pier': 16331, 'European': 1735, 'dessert': 20392, 'Miss': 3056, 'curly': 24584, 'ῆ': 775, 'far': 1677, 'fantasies': 25147, 'chronic': 13306, 'Pontifical': 27164, 'class': 1705, 'task': 4579, 'த': 672, 'lacks': 14756, 'director': 1900, '##olo': 12805, 'goddess': 9659, 'Nicholson': 18063, '##ivated': 17894, 'SSR': 22916, 'resources': 3979, 'Narayan': 27520, 'Systems': 6475, '##bul': 27515, 'affiliated': 6559, '##FA': 8842, '1868': 7077, '##uckled': 26737, 'drilling': 18218, 'result': 1871, 'equity': 12288, '##ropriation': 25406, 'shattering': 24630, 'Basque': 14577, '188': 20783, 'Ensemble': 12618, 'fragile': 14434, 'Austrian': 5488, 'geographical': 11610, 'blades': 11939, '##rien': 22500, 'Seconds': 25849, 'Alma': 15717, '##erve': 22552, '[SEP]': 102, 'aim': 6457, 'adviser': 14269, 'departure': 6267, '##yon': 15136, '##erapy': 20704, '##glass': 16802, '##liest': 23484, '##ager': 12344, 'Cheyenne': 19095, 'Humans': 22143, 'Village': 4671, 'snuck': 27731, 'ʂ': 367, '##roats': 26633, '##lit': 12888, '##uckle': 19046, 'Utah': 6041, 'panties': 12351, '##さ': 28796, '##ft': 4964, '##ounced': 24276, 'wound': 5785, 'Bengal': 7756, 'Marxist': 16583, '##tronomy': 25814, 'emergency': 5241, 'remarkable': 9495, 'glittering': 22837, 'orphanage': 22899, 'Freedom': 6483, 'promotional': 10626, 'efficacy': 23891, '##¼': 28176, '##rification': 12231, '189': 22415, '##bloid': 27109, 'proposals': 10698, 'tobacco': 10468, 'customer': 8132, 'occasionally': 5411, 'concentration': 6256, '##x': 1775, 'Levine': 19319, 'depressed': 15941, 'Minutes': 19051, 'possess': 10192, '212': 19538, 'Hiroshima': 22091, 'degrees': 4842, 'obliged': 15450, '##paper': 26311, 'integrity': 12363, 'accomplish': 15225, 'defendants': 18047, 'promptly': 13796, '1972': 2388, '##iol': 19840, 'Odisha': 24314, 'desperate': 7127, 'island': 2248, 'retrospective': 18675, 'when': 1165, 'nostrils': 16212, 'Adriatic': 26122, 'Called': 20469, '[unused17]': 17, '##ina': 2983, 'Bear': 8073, 'implications': 14755, 'Indigenous': 14685, 'Rover': 16823, 'Rights': 5399, '##ᵍ': 28616, 'voltage': 10323, 'sharks': 22246, '##VC': 19076, 'Folk': 12539, 'Manager': 7165, 'invasive': 19849, 'Control': 6342, 'cavern': 19373, 'rid': 9297, 'Ə': 340, 'define': 9410, '##vet': 21095, 'Raj': 12707, 'recall': 9148, '##ᵢ': 21041, '91': 5539, 'granting': 16078, '文': 1030, 'receives': 7881, '2000s': 8509, 'offs': 12822, '##ioned': 17743, '##far': 14794, '##nius': 19206, 'Asher': 18479, 'poking': 24337, 'Steelers': 16060, '♠': 876, 'sums': 22958, '##arate': 18759, 'Practice': 14354, 'Falcon': 13893, '##h': 1324, 'census': 2314, 'ability': 2912, 'polynomial': 19068, 'assumed': 4260, 'Gotham': 25418, 'A': 138, 'tramway': 24516, 'homework': 22232, 'de': 1260, 'Certain': 16482, 'followed': 1723, 'cheese': 9553, 'Provisional': 18639, 'fore': 24387, 'ma': 12477, '22': 1659, '##chs': 17704, 'Les': 5214, 'boiling': 17913, 'Lane': 5319, 'Mir': 20522, 'facial': 14078, 'mountainous': 15806, 'Dino': 25371, '##kled': 26067, 'Islander': 13010, 'type': 2076, '##“': 28691, 'Vanderbilt': 18213, 'cradle': 26822, 'brow': 8001, 'Jerusalem': 6167, 'Mills': 7784, 'Citizen': 15783, 'wards': 12551, 'Viola': 18007, 'Stuttgart': 13269, 'allowance': 25916, '##bet': 16632, '##ires': 22758, 'entered': 2242, '##buted': 24595, 'Researchers': 26982, 'torch': 16328, 'enlisted': 9358, '##rest': 14201, 'beacon': 25973, 'devote': 26344, 'Tyson': 21074, 'legislature': 8312, 'measurements': 12307, 'Qualified': 10862, 'born': 1255, '##MC': 10044, 'confronts': 18975, '##kka': 19610, 'Olivia': 7247, 'inventory': 14952, 'expects': 27402, 'Fifteen': 20902, 'girl': 1873, '##in': 1394, '##qua': 13284, 'squeeze': 11633, 'theologian': 19392, 'Bridget': 20907, '[unused27]': 27, '##fica': 24685, 'communist': 8356, '##rrier': 20133, 'Presents': 21680, '##北': 28886, 'Hooper': 26638, 'Investigation': 15701, 'Claudio': 22363, 'Colchester': 21930, 'dependent': 7449, 'receptors': 14392, 'ranging': 7032, 'slogan': 15367, '##ific': 19814, '2nd': 2518, 'Listen': 10817, 'teaches': 12209, 'Coordinator': 25561, '##ior': 18472, '##ह': 28530, 'tickets': 10068, '##rgo': 17161, '##ₒ': 28722, '##cona': 26639, 'Napier': 23471, 'Through': 4737, 'southeastern': 9785, '##stown': 13594, 'Genesis': 12117, 'Truman': 16057, 'olive': 13552, 'outs': 24046, 'jewellery': 26682, 'populated': 10240, 'simultaneous': 19648, 'modifications': 13334, 'Days': 6637, '##tha': 7702, '##eese': 18749, '##iform': 20226, 'income': 2467, 'nurse': 7439, '##clave': 16768, 'laying': 10377, 'sacrifices': 20597, '##ited': 10334, 'pleading': 17773, '107': 10428, 'Mozart': 13496, 'reviewing': 19730, 'excellent': 6548, 'EPA': 20875, '##stars': 26932, 'Dennis': 6277, 'pushes': 14505, 'Chow': 24349, '##pathic': 21745, 'beliefs': 8810, 'iconic': 15565, 'pairing': 25942, 'Rebellion': 16066, 'amplifier': 26697, '##ơ': 28264, 'cracks': 16694, '##ı': 12262, 'McGill': 19307, 'size': 2060, '##AR': 12426, 'loaded': 8243, '##ón': 4722, 'Allison': 10692, 'vegetable': 17690, 'wanting': 5277, '[unused77]': 77, 'ξ': 431, 'assistance': 5052, 'beds': 9884, '##mm': 6262, 'Motion': 12153, 'moist': 11758, 'Mile': 13138, '##tized': 26300, '##yt': 25669, 'Academy': 2127, 'earl': 26593, 'Alexandra': 10362, 'stables': 19239, 'characteristic': 7987, 'producing': 4411, 'killer': 7010, 'critique': 20113, 'throat': 2922, 'SC': 9314, 'transport': 3936, '##noon': 28122, '##aba': 19252, 'Movie': 8275, 'woken': 25580, '##E': 2036, 'rector': 15893, 'scheme': 5471, 'Arctic': 10925, 'batted': 13033, 'competence': 26613, 'intimacy': 24268, 'abandonment': 25356, '##hawks': 18822, '222': 20640, 'Ames': 22501, 'Cry': 15586, 'posters': 16300, 'Rico': 6526, 'Wilderness': 16436, 'Below': 12219, 'Might': 19314, 'Lenny': 20740, 'did': 1225, 'ʒ': 374, 'favorable': 11169, '##ctions': 13945, 'Crime': 10725, 'я': 506, 'Springer': 18919, '##oja': 26840, 'offered': 2356, 'South': 1375, 'mapping': 13970, '##membrance': 21207, 'predict': 17163, '##eae': 19460, '##LP': 20009, 'depart': 20435, 'obtaining': 11621, 'Media': 3957, 'syndrome': 9318, 'muscular': 14310, 'the': 1103, '##vier': 15339, '##etal': 21470, 'Whereas': 21614, 'thrill': 21401, '##jin': 11966, 'shrugs': 26733, '##IS': 6258, 'Darkness': 13107, 'Kildare': 27274, '##‖': 28687, 'then': 1173, 'am': 1821, 'negative': 4366, 'sharing': 6303, 'cautiously': 16828, 'judges': 7030, 'accompanying': 11227, 'sneak': 14647, 'Districts': 18803, 'couch': 5943, 'Sebastian': 6220, 'Rapid': 16356, 'bumps': 21090, '##AB': 19985, 'leisure': 17036, '##restle': 22713, 'mug': 15761, 'Reach': 26836, 'Hay': 16164, '##scopic': 21442, '##ermined': 26486, 'obituary': 25917, 'praised': 5185, 'grains': 19707, 'radioactive': 21156, 'Charity': 12837, 'handwriting': 27964, 'Lange': 24192, 'Marching': 26080, 'pH': 20149, 'nak': 20084, '##ved': 5790, 'Connor': 6121, 'Bragg': 26482, 'vs': 5016, '103': 9550, 'exploitation': 15880, 'Sorry': 6502, 'rainfall': 10465, 'graduate': 4469, 'exam': 12211, 'liability': 15509, 'pipes': 13655, 'JP': 18283, '##ntino': 18618, '##uge': 22584, '##UN': 27370, 'cigar': 23261, 'Fritz': 13195, 'hire': 11562, '##be': 3962, 'К': 457, 'vegetables': 11872, 'و': 592, 'Humboldt': 20960, 'event': 1856, 'Workshop': 16350, 'defend': 6472, 'silent': 3826, 'Montenegro': 13259, '##mist': 18972, 'Ball': 7708, '##emont': 26642, 'evolve': 23530, 'dancer': 9227, 'algebra': 13450, 'cinemas': 27081, 'stared': 2729, 'physical': 2952, '。': 886, 'Yet': 6355, '##ct': 5822, 'Semi': 14306, '##gart': 23052, 'replied': 3028, 'orchestrated': 26383, '##reole': 23426, 'morality': 19613, 'keyboard': 9303, '##uest': 27648, '##tters': 18899, 'Franks': 23653, 'caves': 12142, 'Auto': 12983, 'inclination': 24753, 'stations': 2930, 'Lauderdale': 26278, 'Ministry': 3424, 'armor': 8526, 'backward': 8740, 'image': 3077, 'imported': 11095, 'Lars': 17468, 'fees': 9942, '##ver': 4121, 'Kamal': 24586, 'Portugal': 5288, '##zable': 22505, 'Forestry': 23077, 'stole': 10566, 'create': 2561, 'rival': 6048, 'SA': 13411, 'slice': 16346, 'Uruguayan': 26191, '##reck': 21486, 'গ': 643, '宿': 1018, '+': 116, 'dinner': 4014, 'Argentine': 8106, '36th': 23646, '##H1': 27012, '##lums': 27195, 'た': 908, '##icit': 22308, 'Immediately': 13301, 'rendering': 15171, 'Electric': 6763, 'Rolling': 8782, 'pulsing': 26069, 'Reg': 23287, 'Agent': 9341, '##idian': 27967, '##cked': 13303, '##take': 13482, 'function': 3053, 'Institute': 2024, 'tribute': 7529, 'owl': 19976, 'presidential': 5200, 'Europe': 1980, 'Ferguson': 11254, '##course': 16461, '##hage': 19911, 'Riot': 27179, '##TU': 27074, 'chance': 2640, 'emphasize': 19291, 'bullets': 11959, 'apprenticeship': 24074, 'Maritime': 11081, 'sickness': 17663, 'guess': 3319, '##yers': 20835, 'Biblical': 16492, 'Indiana': 4456, '##pped': 10438, 'polite': 13827, 'Pol': 17129, 'standardized': 18013, '##erman': 14170, '##vered': 19190, 'Carly': 19879, 'rainy': 21098, 'Prix': 4781, '##rell': 13458, '##formed': 17747, 'position': 1700, 'terrace': 18655, 'Silesian': 22374, 'finalized': 26418, '##ₓ': 28723, 'Sing': 13315, 'crane': 22386, 'arrival': 4870, 'needing': 12038, 'specimen': 11678, '##DS': 13675, 'hits': 4919, '##grad': 20561, 'gentle': 6892, '##Τ': 28330, 'shuddered': 14423, 'Scholarship': 16856, 'Dimitri': 16887, '##cence': 14797, '##vise': 16641, 'suffix': 18042, '##zig': 24461, 'next': 1397, 'Sprint': 15782, 'mortar': 16597, 'jump': 5152, '##ered': 5686, '##peculative': 25908, 'Luc': 13174, 'Priest': 13246, '##inhabited': 27784, 'Yes': 2160, 'Bronze': 9385, '##ock': 5559, '##rim': 10205, 'commanded': 5724, 'Launch': 26738, 'seductive': 26393, '##isation': 5771, 'Cho': 22964, 'stability': 9397, 'icons': 22493, 'Risk': 19547, 'Economics': 7525, 'staffed': 23511, 'protesting': 23708, '##ław': 26196, 'Gotta': 26505, 'militia': 10193, '##row': 7596, 'Bus': 8947, 'wires': 15923, 'pursuits': 27305, '##otypic': 27202, 'along': 1373, 'workforce': 17034, 'Lord': 2188, 'discharge': 12398, 'Amar': 27161, 'protocols': 19755, 'are': 1132, 'υ': 438, 'Masters': 6935, '##litz': 15516, 'spaced': 22445, 'Artist': 7633, 'wickets': 10267, 'elephant': 15172, '##ο': 28351, 'Maureen': 20895, '##site': 13068, 'Rai': 20089, 'guy': 2564, '##ques': 11962, 'colonization': 23204, '##andra': 19799, 'overs': 17074, '##tors': 5067, 'delegates': 11914, 'San': 1727, '##ava': 15677, '##gade': 24003, 'Reviews': 20321, 'moth': 5330, 'Climate': 13540, '##quencing': 27276, '03': 5347, 'ɣ': 360, 'signalling': 25498, 'Ground': 8149, 'Royals': 17692, '##lication': 20721, 'dei': 21357, 'automation': 27834, '##iating': 25148, 'advocating': 22660, '##ˡ': 28307, 'flees': 28031, 'Pitt': 15877, 'flute': 10284, '##yev': 16376, '##mile': 17893, '1904': 4975, 'endorsement': 22843, '##PD': 15481, 'Photo': 21906, 'fi': 20497, '##tun': 19972, '[MASK]': 103, '##utile': 26555, 'lesser': 9774, 'casino': 14330, '[unused84]': 84, 'Essex': 8493, '##nton': 13124, 'LA': 10722, 'Performance': 6724, 'Historian': 21316, 'Campbell': 5379, '龸': 1088, '##ultural': 25485, '1688': 27041, 'Л': 458, 'correspondent': 12499, 'Gospel': 10451, 'Benton': 20228, 'Bob': 3162, 'Sindh': 22201, 'Nikola': 28010, 'scratching': 23071, 'Pierre': 4855, 'accessed': 12269, 'scouts': 21417, ':': 131, 'coalition': 7453, '##eal': 13003, '##ringing': 27812, 'together': 1487, '##ắ': 28646, '##mura': 14535, 'ữ': 764, 'rap': 12488, 'Middle': 3089, 'Core': 15052, '##TE': 12880, 'Baker': 5779, 'Zhang': 9132, 'fossils': 13104, '##bert': 7488, 'Butler': 7280, 'Aboriginal': 10970, 'pure': 5805, 'pulls': 7561, '##mation': 16059, '##jid': 26151, 'filtering': 26299, 'pissed': 9254, '##Ś': 28243, 'Grass': 22210, 'marching': 14058, '##lium': 14635, 'BT': 27378, 'e': 174, 'Black': 2117, 'highways': 12402, 'wrinkled': 16980, 'Kannada': 14401, 'repression': 26275, 'Saw': 20318, 'Season': 5623, 'S': 156, 'servant': 8108, 'them': 1172, 'purse': 8530, '##dine': 10399, 'frantic': 17657, 'lean': 8290, 'elders': 19240, 'shareholders': 16741, 'quantities': 12709, 'mansion': 8280, 'inactivated': 22951, '##ர': 28579, 'z': 195, 'purchased': 3310, '##ak': 3715, '##CA': 11356, 'over': 1166, 'ropes': 16024, 'Pauline': 16473, 'ब': 617, 'endured': 17861, '河': 1051, 'structure': 2401, 'graduated': 3024, '##quet': 10457, '##anger': 27290, 'woke': 7994, 'craft': 8315, '##ț': 28273, 'Dear': 12956, 'accurately': 14702, 'spherical': 21279, '##rada': 22077, '##ulator': 19410, 'synthesis': 11362, 'コ': 942, 'ê': 256, 'censorship': 18125, 'erupted': 12773, 'ン': 973, 'laid': 3390, '229': 25325, '##chschule': 27357, 'Normally': 17623, 'anybody': 11183, 'Renault': 15234, 'practitioner': 22351, 'Bruce': 4767, 'Microsoft': 6998, 'convent': 13727, 'wildly': 13999, 'Lowell': 16367, '##oing': 27371, 'cable': 6095, '##oot': 21732, 'Mike': 2639, 'bilingual': 20959, '##aman': 19853, 'northeast': 4691, 'Chaos': 17613, 'Bailey': 9039, '##zard': 18551, 'agreements': 11069, 'accomplished': 8587, '##woman': 9462, 'Hoover': 18779, 'broadcast': 3012, 'OF': 11345, '1A': 26637, 'YouTube': 7673, 'convened': 21419, 'Names': 13313, 'cow': 13991, '[unused12]': 12, 'typed': 23477, 'reaching': 3634, '##ash': 10733, 'exploits': 23244, '##oid': 7874, 'CD': 2891, 'farewell': 18906, 'knot': 13094, '##cell': 22494, 'salts': 27379, '##二': 28875, '##school': 21050, 'Pune': 18138, 'predecessors': 17543, '167': 17866, 'Yunnan': 23967, 'NGOs': 24649, 'royal': 4276, 'factories': 11615, 'ź': 335, 'Honestly': 23686, 'Fitness': 28074, 'Truth': 9907, 'carnival': 21446, 'Purdue': 21537, 'UTC': 11390, 'prospective': 19916, 'undisclosed': 20031, '##worthy': 13849, '##ল': 28561, 'related': 2272, 'Faces': 25246, '##ᶜ': 28626, 'batch': 15817, 'Sakura': 26364, 'mirror': 5220, 'Region': 4171, 'injured': 4475, 'processed': 14659, '##lion': 12489, 'Alicia': 16914, 'Cyclone': 26847, 'relative': 5236, 'Neck': 27369, 'John': 1287, 'Rapids': 15303, 'paranormal': 27044, 'Progress': 12798, 'Gardner': 11817, 'scattered': 7648, '##itate': 22536, 'framing': 23431, 'Daniel': 2979, 'stalled': 22789, 'Grades': 26439, '##mans': 14761, 'processors': 20026, '##ing': 1158, '166': 20104, '21st': 6880, '##will': 17274, 'supplemented': 22625, 'Marco': 8571, 'collection': 2436, 'Haute': 22059, '##kas': 13257, 'restraint': 21769, 'stereo': 17000, 'unseen': 19508, 'guard': 3542, 'noise': 4647, 'assignment': 8641, 'lace': 15170, 'infinite': 13157, 'liquid': 6161, 'charm': 11967, 'Wolves': 16484, 'browser': 19089, 'provide': 2194, '##ately': 16310, 'insects': 9895, 'Computing': 20463, 'canton': 13535, 'Instruments': 25832, 'hamlet': 9937, 'Doyle': 11296, '42': 3565, 'Ukrainian': 5284, 'And': 1262, 'engineers': 9067, 'Flags': 14039, '##ln': 21615, 'shaken': 18673, 'Botswana': 21139, 'Nadu': 10657, '##ї': 28419, '##bird': 8689, '##ron': 3484, 'bout': 10535, 'Rank': 25949, 'tombs': 19627, 'Isa': 27334, 'harsh': 8213, 'dire': 23683, 'Hector': 12059, '311': 26277, '##league': 28102, '##stream': 14765, 'Mercy': 14130, 'columnist': 14219, 'wrap': 10561, '##udder': 23007, 'accord': 22973, 'Lucien': 11809, '320': 14116, 'Career': 17062, 'rounds': 5720, '##nted': 16736, 'praying': 16252, 'affiliates': 20795, 'settlement': 3433, 'Airborne': 16607, 'Neumann': 25450, 'Metz': 27606, 'Creed': 21759, 'day': 1285, '##ević': 16491, '##mentation': 18415, '##roma': 18885, 'Hawthorne': 26220, 'option': 5146, 'possibilities': 12435, 'flew': 4843, 'Lila': 21384, '##ense': 22615, 'rating': 5261, 'calling': 3516, 'pagan': 21253, 'Reaching': 20358, 'Believe': 12457, 'awareness': 6885, '##gaon': 27366, 'marathon': 14147, 'Rotterdam': 16508, 'reassuring': 23310, 'muscle': 6484, 'launcher': 27966, 'Samsung': 20799, 'zone': 4834, '##fie': 17569, 'adrenaline': 18108, 'Space': 4525, 'Without': 4914, '##ryn': 15023, 'nursing': 11138, 'wealth': 6968, '##ns': 2316, 'Westphalia': 25562, 'Pac': 19430, 'sighted': 22124, 'compromise': 13018, 'Framework': 24030, '##iable': 24474, '##ates': 5430, 'Offensive': 17354, 'Alain': 16552, 'Stanley': 5481, 'established': 1628, 'レ': 971, '1963': 2826, '##encies': 15672, '1934': 3729, 'recruiting': 16226, 'neutrality': 25449, '##leigh': 12185, '##lous': 12769, 'pity': 13532, 'rope': 8090, 'guiding': 18111, 'Often': 12812, '##wang': 15946, '##head': 3925, 'Fields': 11628, 'band': 1467, 'Christie': 13442, 'heartbeat': 13768, '##otte': 25722, '##zure': 26395, 'Tiger': 8134, '##acles': 18281, '##ability': 6328, 'thieves': 22092, '##aves': 13799, 'factors': 5320, 'Cardinals': 9951, 'biblical': 16239, 'Middlesex': 14040, 'Boulevard': 8691, 'torque': 18756, 'overview': 24431, 'elemental': 24789, 'UFO': 27609, 'fractured': 25555, 'patients': 4420, '##武': 28939, 'sees': 5302, '##ể': 28649, 'gambling': 13376, 'や': 923, '##dged': 17363, 'dazed': 24528, 'Hubbard': 17640, 'Decca': 23545, 'determines': 17579, 'passage': 5885, 'gangs': 21813, 'obviously': 5544, 'modernization': 25145, '##dized': 26332, 'Lock': 18292, '##lax': 22731, 'Exit': 19588, '##inas': 16924, 'inward': 23120, '##furbishment': 27538, 'Vanguard': 26269, 'Fuller': 14399, '49ers': 19531, 'wars': 8755, 'curiously': 18941, 'Highlanders': 26267, 'Show': 3237, 'California': 1756, '##poradic': 27695, 'Dharma': 27805, 'Walters': 20789, 'Weber': 13718, 'slamming': 16527, 'vent': 21828, '##di': 3309, '34': 3236, 'antiquity': 21780, 'Spence': 24589, 'IX': 12607, 'whereas': 6142, 'critics': 4217, '##্': 28572, '##zen': 10947, 'install': 17812, 'Radio': 2664, '##hardt': 16464, '海': 1052, 'firefighters': 27552, 'cover': 2267, '##wl': 10481, '##rient': 27286, 'loosened': 24973, '‰': 796, 'yeah': 8147, 'defences': 18422, '63': 5519, 'Sea': 3017, 'sniffed': 19407, 'universities': 5659, 'merged': 4564, 'lineup': 10545, 'Mix': 7347, 'CBC': 13979, 'horizon': 11385, 'magnetic': 8364, '1929': 3762, '##仁': 28880, 'Cool': 13297, '##nti': 14964, 'Pont': 24070, 'Gaza': 15109, 'forty': 5808, 'Artemis': 20886, 'Starr': 14919, '##nded': 21160, 'kiss': 3041, 'sculptor': 10324, 'h': 177, 'Mimi': 24054, 'Smile': 21278, 'botanical': 20764, 'brighter': 18044, 'Kurdistan': 26494, '##reshing': 27129, 'Lloyd': 6151, 'sleeves': 16021, 'fee': 7216, '##raj': 18663, 'coordinate': 14137, 'Fen': 27868, '##nova': 14570, 'ensembles': 24957, 'squeezing': 16863, 'leans': 12957, 'Talent': 17077, 'Markets': 28023, '竹': 1065, 'RC': 25157, 'tendency': 12034, 'Bon': 17182, 'towed': 20965, 'disclosure': 23979, 'poetry': 4678, 'preferred': 6349, 'adjusted': 10491, 'water': 1447, 'bushes': 15479, 'Antonio': 4464, 'Re': 11336, '##borne': 16275, 'shut': 3210, 'ing': 16664, 'assumptions': 19129, 'Uruguay': 11752, '##vir': 25740, 'gateway': 19154, '##can': 7804, 'Visual': 12071, 'spread': 2819, 'outfielder': 23944, 'killings': 18259, 'Rand': 16731, 'Ang': 26285, 'figuring': 27862, 'Opened': 23648, 'Animated': 24238, 'McKenzie': 20269, 'Dal': 25938, '##dgson': 26229, 'shaky': 16591, 'commence': 25824, '##CF': 27783, 'Nana': 21639, 'Zoo': 13899, 'wax': 17318, 'Feel': 14425, 'counters': 27633, 'Maid': 27527, 'dedicated': 3256, 'Wen': 23158, 'rig': 25462, 'torture': 8831, 'Campus': 8838, '1866': 7146, 'Kensington': 19087, '##style': 19994, 'glove': 20155, 'reissue': 19654, '##ski': 5437, 'worries': 16689, 'Palazzo': 22033, 'notified': 21568, 'totals': 25255, 'US': 1646, 'TD': 15439, 'Nation': 7039, 'prolific': 13127, '##mere': 14554, 'tax': 3641, '201': 17365, 'Gibbs': 16556, 'Abdullah': 14677, 'Cup': 1635, 'Navigation': 21288, '##vor': 12198, 'Cruise': 16474, 'stand': 2484}\n"
          ]
        }
      ]
    },
    {
      "cell_type": "code",
      "source": [
        "print(len(tokenizer.vocab))"
      ],
      "metadata": {
        "colab": {
          "base_uri": "https://localhost:8080/"
        },
        "id": "ouGjtVw3ggAF",
        "outputId": "37ea0b7e-ed02-475b-fe6a-55715d2cd658"
      },
      "execution_count": 10,
      "outputs": [
        {
          "output_type": "stream",
          "name": "stdout",
          "text": [
            "28996\n"
          ]
        }
      ]
    },
    {
      "cell_type": "markdown",
      "source": [
        "Define tokenize function with padding and truncation strategy and use Datasets map method to apply the tokenize function to the entire dataset in a batched manner"
      ],
      "metadata": {
        "id": "-6-cCRtMgs_i"
      }
    },
    {
      "cell_type": "code",
      "source": [
        "def tokenize_function(samples):\n",
        "    return tokenizer(samples[\"text\"], padding=\"max_length\", truncation=True)\n",
        "\n",
        "\n",
        "tokenized_datasets = dataset.map(tokenize_function, batched=True)"
      ],
      "metadata": {
        "colab": {
          "base_uri": "https://localhost:8080/",
          "height": 81,
          "referenced_widgets": [
            "b016204b74be45daa5fb42ec05538c94",
            "c853d0a765e3489ba7c95d0f0afbf4ed",
            "cd90871c4ed04383b5a532c1f230b8f1",
            "1e1411f165dc4dfba36a09159685e390",
            "4af035ce3b0f4c2cafcc08ef9c7417bf",
            "7a15d9b375254ebd85e60a138c625655",
            "40adf9e9705a44c88c21e7e420a4c53e",
            "c196c6c1acbe4a64bdfcb15af24ef285",
            "3781ea872a4a419694741169241e6ccc",
            "d2f3c4f9798b4624b5d9c84b2c83a3f6",
            "dcff667befbf4817aff42d06a2eadb6b",
            "756f7bd61f9f412b8ad07fe3cb5a799c",
            "ab8d8276a0b046268a27c32b1671fd14",
            "2d469242ccab4a7891dc1b2455e12877",
            "3d76a9429e964a298f894a84094cd847",
            "f54f52a0908847fe905fdbc36530db70",
            "bb962d7b496a45ed9b1b63fca0f34da2",
            "bb2b5c4e599c48bb85af4ebd9e27604b",
            "9e949c8ba78d47ff8157a2fb854961a7",
            "5842acaed6464fd29094596037c05e19",
            "5a122e8cbb044c6791abe78b8c18a4a6",
            "15e349dc2a684a14a484b0cc3c986c7a"
          ]
        },
        "id": "ACcj2Zb8gjNT",
        "outputId": "1a7815c2-cada-4267-8a15-e9a57ed9544e"
      },
      "execution_count": 11,
      "outputs": [
        {
          "data": {
            "application/vnd.jupyter.widget-view+json": {
              "model_id": "b016204b74be45daa5fb42ec05538c94",
              "version_major": 2,
              "version_minor": 0
            },
            "text/plain": [
              "Map:   0%|          | 0/650000 [00:00<?, ? examples/s]"
            ]
          },
          "metadata": {},
          "output_type": "display_data"
        },
        {
          "output_type": "display_data",
          "data": {
            "text/plain": [
              "Map:   0%|          | 0/50000 [00:00<?, ? examples/s]"
            ],
            "application/vnd.jupyter.widget-view+json": {
              "version_major": 2,
              "version_minor": 0,
              "model_id": "756f7bd61f9f412b8ad07fe3cb5a799c"
            }
          },
          "metadata": {}
        }
      ]
    },
    {
      "cell_type": "markdown",
      "source": [
        "Since this is an illustration let's create a smaller subset of the dataset to fine-tune on so that it reduces the time needed."
      ],
      "metadata": {
        "id": "Xq-vkn60heBm"
      }
    },
    {
      "cell_type": "code",
      "source": [
        "small_train_dataset = tokenized_datasets[\"train\"].shuffle(seed=42).select(range(1000))\n",
        "small_eval_dataset = tokenized_datasets[\"test\"].shuffle(seed=42).select(range(100))\n",
        "\n",
        "print(len(small_train_dataset), len(small_eval_dataset))"
      ],
      "metadata": {
        "colab": {
          "base_uri": "https://localhost:8080/"
        },
        "id": "64EQwrPZhBje",
        "outputId": "7b7f567a-9852-4222-e8e0-30dd3030103e"
      },
      "execution_count": 12,
      "outputs": [
        {
          "output_type": "stream",
          "name": "stdout",
          "text": [
            "1000 100\n"
          ]
        }
      ]
    },
    {
      "cell_type": "markdown",
      "source": [
        "**Select model for fine-tuning**\n",
        "\n",
        "Here we are going to fine-tune bert-base-cased on a sequence classficiation task involving 5 labels"
      ],
      "metadata": {
        "id": "4PIWy196iGeU"
      }
    },
    {
      "cell_type": "code",
      "source": [
        "from transformers import AutoModelForSequenceClassification\n",
        "\n",
        "# Specify number of labels\n",
        "num_labels = 5\n",
        "\n",
        "# Get pretrained model\n",
        "model = AutoModelForSequenceClassification.from_pretrained(\"bert-base-cased\", num_labels=num_labels)\n",
        "\n",
        "# Get number of model parameters (2 ways)\n",
        "print(f'{model.num_parameters()/1e6} M parameters')\n",
        "print(f'{sum(p.numel() for p in model.parameters())/1e6} M parameters')"
      ],
      "metadata": {
        "colab": {
          "base_uri": "https://localhost:8080/",
          "height": 140,
          "referenced_widgets": [
            "e7cb14a1a10d4e54a1c6bba30ae1726a",
            "e721a58021dc43109840054506c1b91b",
            "494df3a17233496fac0f70a306419ef9",
            "877461b8795b4273ac459ad17d41b49a",
            "bc05226278724ef0ad912b3e2b5691a5",
            "9db1b19c515a4c0cb1f4589d5bd9edff",
            "624b367b8e734b879744d8befe020809",
            "61d11287fffc48f9a10568b71f1ea1d8",
            "08ff985e13b548c0a2917cae2a711fa6",
            "9dd0aaa7e8d34ef1b580a97af0e9a15f",
            "5834f5a50e49487d9e39395b321f031d"
          ]
        },
        "id": "OOaH-ngaiFid",
        "outputId": "4f1f2cdc-1ef2-4d65-f53a-07f78da671cc"
      },
      "execution_count": 19,
      "outputs": [
        {
          "output_type": "display_data",
          "data": {
            "text/plain": [
              "model.safetensors:   0%|          | 0.00/436M [00:00<?, ?B/s]"
            ],
            "application/vnd.jupyter.widget-view+json": {
              "version_major": 2,
              "version_minor": 0,
              "model_id": "e7cb14a1a10d4e54a1c6bba30ae1726a"
            }
          },
          "metadata": {}
        },
        {
          "output_type": "stream",
          "name": "stderr",
          "text": [
            "Some weights of BertForSequenceClassification were not initialized from the model checkpoint at bert-base-cased and are newly initialized: ['classifier.weight', 'classifier.bias']\n",
            "You should probably TRAIN this model on a down-stream task to be able to use it for predictions and inference.\n"
          ]
        },
        {
          "output_type": "stream",
          "name": "stdout",
          "text": [
            "108.314117 M parameters\n",
            "108.314117 M parameters\n"
          ]
        }
      ]
    },
    {
      "cell_type": "markdown",
      "source": [
        "There is a warning about some of the pretrained weights not being used and some weights being newly/randomly initialized. This is because the pretrained head of the BERT model is discarded, and is replaced with a randomly initialized classification head. This new model head will get fine-tuned on the new sequence classification task, transferring the knowledge of the pretrained model to it."
      ],
      "metadata": {
        "id": "XthHTJDlkCou"
      }
    },
    {
      "cell_type": "code",
      "source": [
        "# Get device\n",
        "import torch\n",
        "device = torch.device(\"cuda\" if torch.cuda.is_available() else \"cpu\")\n",
        "print(f'Device: {device}')"
      ],
      "metadata": {
        "colab": {
          "base_uri": "https://localhost:8080/"
        },
        "id": "zFClb-zFwFjm",
        "outputId": "95a1e1b3-0c7c-4387-a6aa-848fc0f30299"
      },
      "execution_count": 21,
      "outputs": [
        {
          "output_type": "stream",
          "name": "stdout",
          "text": [
            "Device: cuda\n"
          ]
        }
      ]
    },
    {
      "cell_type": "code",
      "source": [
        "# Send model to device\n",
        "model.to(device)"
      ],
      "metadata": {
        "colab": {
          "base_uri": "https://localhost:8080/"
        },
        "id": "53YM9MwewQ2R",
        "outputId": "24bf14bc-2afa-4f12-b0a1-b350828dd866"
      },
      "execution_count": 22,
      "outputs": [
        {
          "output_type": "execute_result",
          "data": {
            "text/plain": [
              "BertForSequenceClassification(\n",
              "  (bert): BertModel(\n",
              "    (embeddings): BertEmbeddings(\n",
              "      (word_embeddings): Embedding(28996, 768, padding_idx=0)\n",
              "      (position_embeddings): Embedding(512, 768)\n",
              "      (token_type_embeddings): Embedding(2, 768)\n",
              "      (LayerNorm): LayerNorm((768,), eps=1e-12, elementwise_affine=True)\n",
              "      (dropout): Dropout(p=0.1, inplace=False)\n",
              "    )\n",
              "    (encoder): BertEncoder(\n",
              "      (layer): ModuleList(\n",
              "        (0-11): 12 x BertLayer(\n",
              "          (attention): BertAttention(\n",
              "            (self): BertSelfAttention(\n",
              "              (query): Linear(in_features=768, out_features=768, bias=True)\n",
              "              (key): Linear(in_features=768, out_features=768, bias=True)\n",
              "              (value): Linear(in_features=768, out_features=768, bias=True)\n",
              "              (dropout): Dropout(p=0.1, inplace=False)\n",
              "            )\n",
              "            (output): BertSelfOutput(\n",
              "              (dense): Linear(in_features=768, out_features=768, bias=True)\n",
              "              (LayerNorm): LayerNorm((768,), eps=1e-12, elementwise_affine=True)\n",
              "              (dropout): Dropout(p=0.1, inplace=False)\n",
              "            )\n",
              "          )\n",
              "          (intermediate): BertIntermediate(\n",
              "            (dense): Linear(in_features=768, out_features=3072, bias=True)\n",
              "            (intermediate_act_fn): GELUActivation()\n",
              "          )\n",
              "          (output): BertOutput(\n",
              "            (dense): Linear(in_features=3072, out_features=768, bias=True)\n",
              "            (LayerNorm): LayerNorm((768,), eps=1e-12, elementwise_affine=True)\n",
              "            (dropout): Dropout(p=0.1, inplace=False)\n",
              "          )\n",
              "        )\n",
              "      )\n",
              "    )\n",
              "    (pooler): BertPooler(\n",
              "      (dense): Linear(in_features=768, out_features=768, bias=True)\n",
              "      (activation): Tanh()\n",
              "    )\n",
              "  )\n",
              "  (dropout): Dropout(p=0.1, inplace=False)\n",
              "  (classifier): Linear(in_features=768, out_features=5, bias=True)\n",
              ")"
            ]
          },
          "metadata": {},
          "execution_count": 22
        }
      ]
    },
    {
      "cell_type": "markdown",
      "source": [
        "**Trainer class**\n",
        "\n",
        "Transformers provides the [Trainer](https://huggingface.co/docs/transformers/main/en/main_classes/trainer#transformers.Trainer) class that makes it easier to train without having to manually write the training loop. It provides many options and feastures for training such as logging, gradient accumulation, mixed precision etc."
      ],
      "metadata": {
        "id": "dp2Mc4WhknZR"
      }
    },
    {
      "cell_type": "markdown",
      "source": [
        "[TrainingArguments](https://huggingface.co/docs/transformers/main/en/main_classes/trainer#transformers.TrainingArguments) class lets you set the needed flags to activate different training options. Here you can start off by using the default arguments. For example, you can specify where to save the checkpoints during training."
      ],
      "metadata": {
        "id": "8KKuHArlnhoj"
      }
    },
    {
      "cell_type": "code",
      "source": [
        "from transformers import TrainingArguments\n",
        "\n",
        "training_args = TrainingArguments(output_dir=\"test_trainer\")"
      ],
      "metadata": {
        "id": "M3tRc-DOjTgX"
      },
      "execution_count": 23,
      "outputs": []
    },
    {
      "cell_type": "markdown",
      "source": [
        "Trainer class doesn't automatically come with any functions to evaluate the training. You will have to pass a function to compute and report metrics during training. [Evaluate](https://huggingface.co/docs/evaluate/index) library proivdes a simple [accuracy](https://huggingface.co/spaces/evaluate-metric/accuracy) function that you can load with [evaluate.load](https://huggingface.co/docs/evaluate/v0.4.0/en/package_reference/loading_methods#evaluate.load)"
      ],
      "metadata": {
        "id": "Ov7ZAjlWtbZG"
      }
    },
    {
      "cell_type": "code",
      "source": [
        "import numpy as np\n",
        "import evaluate\n",
        "\n",
        "metric = evaluate.load(\"accuracy\")"
      ],
      "metadata": {
        "id": "FlWdS3uaudB3"
      },
      "execution_count": 24,
      "outputs": []
    },
    {
      "cell_type": "markdown",
      "source": [
        "Call `compute` on `metric` to calculate the accuracy of your predictions. Before passing your predictions to `compute`, you need to convert the predictions to logits (remember all 🤗 Transformers models return logits)"
      ],
      "metadata": {
        "id": "oGoYMrlivS__"
      }
    },
    {
      "cell_type": "code",
      "source": [
        "def compute_metrics(eval_pred):\n",
        "    logits, labels = eval_pred\n",
        "    predictions = np.argmax(logits, axis=-1)\n",
        "    return metric.compute(predictions=predictions, references=labels)"
      ],
      "metadata": {
        "id": "LU6zjlE6vOVz"
      },
      "execution_count": 25,
      "outputs": []
    },
    {
      "cell_type": "markdown",
      "source": [
        "If you'd like to monitor your evaluation metrics during fine-tuning, specify the `evaluation_strategy` parameter in your training arguments to report the evaluation metric at the end of each epoch"
      ],
      "metadata": {
        "id": "u5cN7JRCvaem"
      }
    },
    {
      "cell_type": "code",
      "source": [
        "from transformers import TrainingArguments, Trainer\n",
        "\n",
        "training_args = TrainingArguments(output_dir=\"test_trainer\", evaluation_strategy=\"epoch\")"
      ],
      "metadata": {
        "id": "nOxx5BwpvbFj"
      },
      "execution_count": 26,
      "outputs": []
    },
    {
      "cell_type": "markdown",
      "source": [
        "**Trainer object**\n",
        "\n",
        "Create a [Trainer](https://huggingface.co/docs/transformers/main/en/main_classes/trainer#transformers.Trainer) object with your model, training arguments, training and test datasets, and evaluation function."
      ],
      "metadata": {
        "id": "86IXrnD9vnaM"
      }
    },
    {
      "cell_type": "code",
      "source": [
        "trainer = Trainer(\n",
        "    model=model,\n",
        "    args=training_args,\n",
        "    train_dataset=small_train_dataset,\n",
        "    eval_dataset=small_eval_dataset,\n",
        "    compute_metrics=compute_metrics,\n",
        ")"
      ],
      "metadata": {
        "id": "0eNpTivWv2vZ"
      },
      "execution_count": 27,
      "outputs": []
    },
    {
      "cell_type": "markdown",
      "source": [
        "Then fine-tune your model by calling trainer.train()"
      ],
      "metadata": {
        "id": "OWouWdDYv73Q"
      }
    },
    {
      "cell_type": "code",
      "source": [
        "trainer.train()"
      ],
      "metadata": {
        "colab": {
          "base_uri": "https://localhost:8080/",
          "height": 326
        },
        "id": "AoesfRHUvf1D",
        "outputId": "b8ef36d7-8598-4a84-f839-7e22f2b11a7a"
      },
      "execution_count": 28,
      "outputs": [
        {
          "data": {
            "text/html": [
              "\n",
              "    <div>\n",
              "      \n",
              "      <progress value='362' max='375' style='width:300px; height:20px; vertical-align: middle;'></progress>\n",
              "      [362/375 04:34 < 00:09, 1.31 it/s, Epoch 2.89/3]\n",
              "    </div>\n",
              "    <table border=\"1\" class=\"dataframe\">\n",
              "  <thead>\n",
              " <tr style=\"text-align: left;\">\n",
              "      <th>Epoch</th>\n",
              "      <th>Training Loss</th>\n",
              "      <th>Validation Loss</th>\n",
              "      <th>Accuracy</th>\n",
              "    </tr>\n",
              "  </thead>\n",
              "  <tbody>\n",
              "    <tr>\n",
              "      <td>1</td>\n",
              "      <td>No log</td>\n",
              "      <td>1.259064</td>\n",
              "      <td>0.490000</td>\n",
              "    </tr>\n",
              "    <tr>\n",
              "      <td>2</td>\n",
              "      <td>No log</td>\n",
              "      <td>1.117867</td>\n",
              "      <td>0.540000</td>\n",
              "    </tr>\n",
              "  </tbody>\n",
              "</table><p>"
            ],
            "text/plain": [
              "<IPython.core.display.HTML object>"
            ]
          },
          "metadata": {},
          "output_type": "display_data"
        },
        {
          "output_type": "display_data",
          "data": {
            "text/plain": [
              "<IPython.core.display.HTML object>"
            ],
            "text/html": [
              "\n",
              "    <div>\n",
              "      \n",
              "      <progress value='375' max='375' style='width:300px; height:20px; vertical-align: middle;'></progress>\n",
              "      [375/375 04:48, Epoch 3/3]\n",
              "    </div>\n",
              "    <table border=\"1\" class=\"dataframe\">\n",
              "  <thead>\n",
              " <tr style=\"text-align: left;\">\n",
              "      <th>Epoch</th>\n",
              "      <th>Training Loss</th>\n",
              "      <th>Validation Loss</th>\n",
              "      <th>Accuracy</th>\n",
              "    </tr>\n",
              "  </thead>\n",
              "  <tbody>\n",
              "    <tr>\n",
              "      <td>1</td>\n",
              "      <td>No log</td>\n",
              "      <td>1.259064</td>\n",
              "      <td>0.490000</td>\n",
              "    </tr>\n",
              "    <tr>\n",
              "      <td>2</td>\n",
              "      <td>No log</td>\n",
              "      <td>1.117867</td>\n",
              "      <td>0.540000</td>\n",
              "    </tr>\n",
              "    <tr>\n",
              "      <td>3</td>\n",
              "      <td>No log</td>\n",
              "      <td>1.241078</td>\n",
              "      <td>0.600000</td>\n",
              "    </tr>\n",
              "  </tbody>\n",
              "</table><p>"
            ]
          },
          "metadata": {}
        },
        {
          "output_type": "execute_result",
          "data": {
            "text/plain": [
              "TrainOutput(global_step=375, training_loss=0.985119140625, metrics={'train_runtime': 292.1568, 'train_samples_per_second': 10.268, 'train_steps_per_second': 1.284, 'total_flos': 789354427392000.0, 'train_loss': 0.985119140625, 'epoch': 3.0})"
            ]
          },
          "metadata": {},
          "execution_count": 28
        }
      ]
    },
    {
      "cell_type": "code",
      "source": [],
      "metadata": {
        "id": "BFuY8v1SL-De"
      },
      "execution_count": null,
      "outputs": []
    }
  ]
}